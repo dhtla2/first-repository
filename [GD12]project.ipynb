{
 "cells": [
  {
   "cell_type": "markdown",
   "id": "advanced-holmes",
   "metadata": {},
   "source": [
    "### 필요한 라이브러리 Import"
   ]
  },
  {
   "cell_type": "code",
   "execution_count": 2,
   "id": "turned-stomach",
   "metadata": {},
   "outputs": [
    {
     "name": "stderr",
     "output_type": "stream",
     "text": [
      "/opt/conda/lib/python3.7/site-packages/gensim/similarities/__init__.py:15: UserWarning: The gensim.similarities.levenshtein submodule is disabled, because the optional Levenshtein package <https://pypi.org/project/python-Levenshtein/> is unavailable. Install Levenhstein (e.g. `pip install python-Levenshtein`) to suppress this warning.\n",
      "  warnings.warn(msg)\n"
     ]
    }
   ],
   "source": [
    "import numpy as np\n",
    "import pandas as pd\n",
    "import tensorflow as tf\n",
    "from konlpy.tag import Mecab\n",
    "\n",
    "import re\n",
    "import os\n",
    "import io\n",
    "import time\n",
    "import random\n",
    "\n",
    "from collections import Counter\n",
    "import gensim\n",
    "\n",
    "from sklearn.model_selection import train_test_split\n",
    "\n",
    "from tqdm import tqdm_notebook\n",
    "\n",
    "import matplotlib.pyplot as plt\n",
    "\n",
    "from nltk.translate.bleu_score import sentence_bleu\n",
    "from nltk.translate.bleu_score import SmoothingFunction"
   ]
  },
  {
   "cell_type": "markdown",
   "id": "arctic-genre",
   "metadata": {},
   "source": [
    "### 데이터 확인 및 전처리"
   ]
  },
  {
   "cell_type": "code",
   "execution_count": 3,
   "id": "fifteen-eleven",
   "metadata": {},
   "outputs": [
    {
     "data": {
      "text/html": [
       "<div>\n",
       "<style scoped>\n",
       "    .dataframe tbody tr th:only-of-type {\n",
       "        vertical-align: middle;\n",
       "    }\n",
       "\n",
       "    .dataframe tbody tr th {\n",
       "        vertical-align: top;\n",
       "    }\n",
       "\n",
       "    .dataframe thead th {\n",
       "        text-align: right;\n",
       "    }\n",
       "</style>\n",
       "<table border=\"1\" class=\"dataframe\">\n",
       "  <thead>\n",
       "    <tr style=\"text-align: right;\">\n",
       "      <th></th>\n",
       "      <th>Q</th>\n",
       "      <th>A</th>\n",
       "      <th>label</th>\n",
       "    </tr>\n",
       "  </thead>\n",
       "  <tbody>\n",
       "    <tr>\n",
       "      <th>0</th>\n",
       "      <td>12시 땡!</td>\n",
       "      <td>하루가 또 가네요.</td>\n",
       "      <td>0</td>\n",
       "    </tr>\n",
       "    <tr>\n",
       "      <th>1</th>\n",
       "      <td>1지망 학교 떨어졌어</td>\n",
       "      <td>위로해 드립니다.</td>\n",
       "      <td>0</td>\n",
       "    </tr>\n",
       "    <tr>\n",
       "      <th>2</th>\n",
       "      <td>3박4일 놀러가고 싶다</td>\n",
       "      <td>여행은 언제나 좋죠.</td>\n",
       "      <td>0</td>\n",
       "    </tr>\n",
       "    <tr>\n",
       "      <th>3</th>\n",
       "      <td>3박4일 정도 놀러가고 싶다</td>\n",
       "      <td>여행은 언제나 좋죠.</td>\n",
       "      <td>0</td>\n",
       "    </tr>\n",
       "    <tr>\n",
       "      <th>4</th>\n",
       "      <td>PPL 심하네</td>\n",
       "      <td>눈살이 찌푸려지죠.</td>\n",
       "      <td>0</td>\n",
       "    </tr>\n",
       "  </tbody>\n",
       "</table>\n",
       "</div>"
      ],
      "text/plain": [
       "                 Q            A  label\n",
       "0           12시 땡!   하루가 또 가네요.      0\n",
       "1      1지망 학교 떨어졌어    위로해 드립니다.      0\n",
       "2     3박4일 놀러가고 싶다  여행은 언제나 좋죠.      0\n",
       "3  3박4일 정도 놀러가고 싶다  여행은 언제나 좋죠.      0\n",
       "4          PPL 심하네   눈살이 찌푸려지죠.      0"
      ]
     },
     "execution_count": 3,
     "metadata": {},
     "output_type": "execute_result"
    }
   ],
   "source": [
    "file_path = os.getenv('HOME')+'/aiffel/transformer_chatbot/data/ChatbotData .csv'\n",
    "\n",
    "df = pd.read_csv(file_path)\n",
    "df.head()"
   ]
  },
  {
   "cell_type": "code",
   "execution_count": 4,
   "id": "recorded-hollywood",
   "metadata": {},
   "outputs": [
    {
     "data": {
      "text/plain": [
       "False    11823\n",
       "dtype: int64"
      ]
     },
     "execution_count": 4,
     "metadata": {},
     "output_type": "execute_result"
    }
   ],
   "source": [
    "df.duplicated().value_counts()"
   ]
  },
  {
   "cell_type": "markdown",
   "id": "mechanical-sword",
   "metadata": {},
   "source": [
    "* 중복값이 없어 그대로 진행하겠습니다."
   ]
  },
  {
   "cell_type": "code",
   "execution_count": 5,
   "id": "dental-variable",
   "metadata": {},
   "outputs": [],
   "source": [
    "def corpus_len(df):\n",
    "    corpus_q_len = [len(token.split()) for token in df[\"Q\"]]\n",
    "    corpus_a_len = [len(token.split()) for token in df[\"A\"]]\n",
    "    return corpus_q_len, corpus_a_len"
   ]
  },
  {
   "cell_type": "code",
   "execution_count": 6,
   "id": "seasonal-system",
   "metadata": {},
   "outputs": [],
   "source": [
    "corpus_q_len, corpus_a_len = corpus_len(df)"
   ]
  },
  {
   "cell_type": "markdown",
   "id": "respective-invitation",
   "metadata": {},
   "source": [
    "* 데이터 시각화"
   ]
  },
  {
   "cell_type": "code",
   "execution_count": 7,
   "id": "charged-consultation",
   "metadata": {},
   "outputs": [],
   "source": [
    "def show_data(num_tokens):\n",
    "    num_tokens = np.array(num_tokens)\n",
    "    \n",
    "    print('문장길이 평균 : ', np.mean(num_tokens))\n",
    "    print('문장길이 최대 : ', np.max(num_tokens))\n",
    "    print('문장길이 최소 : ', np.min(num_tokens))\n",
    "    print('문장길이 표준편차 : ', np.std(num_tokens))\n",
    "    \n",
    "    max_len = np.max(num_tokens)\n",
    "    \n",
    "    plt.hist(num_tokens, bins = max_len, range=[0, max_len], facecolor='b')\n",
    "    plt.show()\n"
   ]
  },
  {
   "cell_type": "code",
   "execution_count": 8,
   "id": "geographic-indonesian",
   "metadata": {},
   "outputs": [
    {
     "name": "stdout",
     "output_type": "stream",
     "text": [
      "문장길이 평균 :  3.587414361837097\n",
      "문장길이 최대 :  15\n",
      "문장길이 최소 :  1\n",
      "문장길이 표준편차 :  1.6188281321513895\n"
     ]
    },
    {
     "data": {
      "image/png": "[encoded data removed]",
      "text/plain": [
       "<Figure size 432x288 with 1 Axes>"
      ]
     },
     "metadata": {
      "needs_background": "light"
     },
     "output_type": "display_data"
    }
   ],
   "source": [
    "show_data(corpus_q_len)"
   ]
  },
  {
   "cell_type": "code",
   "execution_count": 9,
   "id": "rotary-korea",
   "metadata": {},
   "outputs": [
    {
     "name": "stdout",
     "output_type": "stream",
     "text": [
      "문장길이 평균 :  3.6936479742874058\n",
      "문장길이 최대 :  21\n",
      "문장길이 최소 :  1\n",
      "문장길이 표준편차 :  1.8572136133798673\n"
     ]
    },
    {
     "data": {
      "image/png": "[encoded data removed]",
      "text/plain": [
       "<Figure size 432x288 with 1 Axes>"
      ]
     },
     "metadata": {
      "needs_background": "light"
     },
     "output_type": "display_data"
    }
   ],
   "source": [
    "show_data(corpus_a_len)"
   ]
  },
  {
   "cell_type": "markdown",
   "id": "mediterranean-guess",
   "metadata": {},
   "source": [
    "* 데이터량이 적어 전체 데이터를 다 사용하겠습니다."
   ]
  },
  {
   "cell_type": "markdown",
   "id": "instructional-burlington",
   "metadata": {},
   "source": [
    "* 전처리"
   ]
  },
  {
   "cell_type": "code",
   "execution_count": 9,
   "id": "simple-indonesian",
   "metadata": {},
   "outputs": [],
   "source": [
    "def preprocess_sentence(sentence, s_token=False, e_token=False):\n",
    "    sentence = sentence.lower().strip()\n",
    "\n",
    "    sentence = re.sub(r\"([?.!,])\", r\" \\1 \", sentence)\n",
    "    sentence = re.sub(r'[\" \"]+', \" \", sentence)\n",
    "    sentence = re.sub(r\"[^a-zA-Zㄱ-ㅎ가-힣0-9?.!,]+\", \" \", sentence)\n",
    "\n",
    "    sentence = sentence.strip()\n",
    "\n",
    "    return sentence"
   ]
  },
  {
   "cell_type": "code",
   "execution_count": 10,
   "id": "outdoor-purchase",
   "metadata": {},
   "outputs": [
    {
     "data": {
      "text/html": [
       "<div>\n",
       "<style scoped>\n",
       "    .dataframe tbody tr th:only-of-type {\n",
       "        vertical-align: middle;\n",
       "    }\n",
       "\n",
       "    .dataframe tbody tr th {\n",
       "        vertical-align: top;\n",
       "    }\n",
       "\n",
       "    .dataframe thead th {\n",
       "        text-align: right;\n",
       "    }\n",
       "</style>\n",
       "<table border=\"1\" class=\"dataframe\">\n",
       "  <thead>\n",
       "    <tr style=\"text-align: right;\">\n",
       "      <th></th>\n",
       "      <th>Q</th>\n",
       "      <th>A</th>\n",
       "      <th>label</th>\n",
       "    </tr>\n",
       "  </thead>\n",
       "  <tbody>\n",
       "    <tr>\n",
       "      <th>0</th>\n",
       "      <td>12시 땡 !</td>\n",
       "      <td>하루가 또 가네요 .</td>\n",
       "      <td>0</td>\n",
       "    </tr>\n",
       "    <tr>\n",
       "      <th>1</th>\n",
       "      <td>1지망 학교 떨어졌어</td>\n",
       "      <td>위로해 드립니다 .</td>\n",
       "      <td>0</td>\n",
       "    </tr>\n",
       "    <tr>\n",
       "      <th>2</th>\n",
       "      <td>3박4일 놀러가고 싶다</td>\n",
       "      <td>여행은 언제나 좋죠 .</td>\n",
       "      <td>0</td>\n",
       "    </tr>\n",
       "    <tr>\n",
       "      <th>3</th>\n",
       "      <td>3박4일 정도 놀러가고 싶다</td>\n",
       "      <td>여행은 언제나 좋죠 .</td>\n",
       "      <td>0</td>\n",
       "    </tr>\n",
       "    <tr>\n",
       "      <th>4</th>\n",
       "      <td>ppl 심하네</td>\n",
       "      <td>눈살이 찌푸려지죠 .</td>\n",
       "      <td>0</td>\n",
       "    </tr>\n",
       "  </tbody>\n",
       "</table>\n",
       "</div>"
      ],
      "text/plain": [
       "                 Q             A  label\n",
       "0          12시 땡 !   하루가 또 가네요 .      0\n",
       "1      1지망 학교 떨어졌어    위로해 드립니다 .      0\n",
       "2     3박4일 놀러가고 싶다  여행은 언제나 좋죠 .      0\n",
       "3  3박4일 정도 놀러가고 싶다  여행은 언제나 좋죠 .      0\n",
       "4          ppl 심하네   눈살이 찌푸려지죠 .      0"
      ]
     },
     "execution_count": 10,
     "metadata": {},
     "output_type": "execute_result"
    }
   ],
   "source": [
    "df[\"Q\"] = df[\"Q\"].apply(preprocess_sentence)\n",
    "df[\"A\"] = df[\"A\"].apply(preprocess_sentence)\n",
    "df.head()"
   ]
  },
  {
   "cell_type": "markdown",
   "id": "southeast-premium",
   "metadata": {},
   "source": [
    "* 토큰화"
   ]
  },
  {
   "cell_type": "code",
   "execution_count": 11,
   "id": "stable-rally",
   "metadata": {},
   "outputs": [],
   "source": [
    "def tokenize(corpus):\n",
    "    tokenizer = tf.keras.preprocessing.text.Tokenizer(filters='')\n",
    "    \n",
    "    cleaned_corpus = []\n",
    "    \n",
    "    m = Mecab()\n",
    "        \n",
    "    for sen in corpus:\n",
    "        cleaned_corpus.append(m.morphs(sen))\n",
    "        \n",
    "    tokenizer.fit_on_texts(cleaned_corpus)\n",
    "    \n",
    "    tensor = tokenizer.texts_to_sequences(cleaned_corpus)\n",
    "\n",
    "    tensor = tf.keras.preprocessing.sequence.pad_sequences(tensor, padding='post')\n",
    "    \n",
    "    return tensor, tokenizer, cleaned_corpus"
   ]
  },
  {
   "cell_type": "code",
   "execution_count": 12,
   "id": "canadian-salon",
   "metadata": {},
   "outputs": [],
   "source": [
    "q_tensor, q_tokenizer, que_corpus = tokenize(df[\"Q\"])\n",
    "a_tensor, a_tokenizer, ans_corpus = tokenize(df[\"A\"])"
   ]
  },
  {
   "cell_type": "markdown",
   "id": "occasional-trouble",
   "metadata": {},
   "source": [
    "* Word2Vec 다운로드 및 확인"
   ]
  },
  {
   "cell_type": "code",
   "execution_count": 13,
   "id": "alien-springfield",
   "metadata": {},
   "outputs": [],
   "source": [
    "ko_bin_path = os.getenv(\"HOME\")+'/aiffel/transformer_chatbot/data/ko.bin'\n",
    "\n",
    "wv = gensim.models.Word2Vec.load(ko_bin_path)"
   ]
  },
  {
   "cell_type": "code",
   "execution_count": 14,
   "id": "derived-clerk",
   "metadata": {},
   "outputs": [
    {
     "name": "stderr",
     "output_type": "stream",
     "text": [
      "/opt/conda/lib/python3.7/site-packages/ipykernel_launcher.py:1: DeprecationWarning: Call to deprecated `most_similar` (Method will be removed in 4.0.0, use self.wv.most_similar() instead).\n",
      "  \"\"\"Entry point for launching an IPython kernel.\n"
     ]
    },
    {
     "data": {
      "text/plain": [
       "[('고양이', 0.7290452718734741),\n",
       " ('거위', 0.7185635566711426),\n",
       " ('토끼', 0.7056223154067993),\n",
       " ('멧돼지', 0.6950401067733765),\n",
       " ('엄마', 0.6934334635734558),\n",
       " ('난쟁이', 0.6806551218032837),\n",
       " ('한마리', 0.6770296096801758),\n",
       " ('아가씨', 0.6750352382659912),\n",
       " ('아빠', 0.6729634404182434),\n",
       " ('목걸이', 0.6512460708618164)]"
      ]
     },
     "execution_count": 14,
     "metadata": {},
     "output_type": "execute_result"
    }
   ],
   "source": [
    "wv.most_similar(\"강아지\")"
   ]
  },
  {
   "cell_type": "markdown",
   "id": "continuing-footage",
   "metadata": {},
   "source": [
    "* 데이터 부풀리기"
   ]
  },
  {
   "cell_type": "code",
   "execution_count": 15,
   "id": "distant-conservation",
   "metadata": {},
   "outputs": [],
   "source": [
    "def lexical_sub(sentence, word2vec):\n",
    "    import random\n",
    "    \n",
    "    res = \"\"\n",
    "    toks = sentence\n",
    "    \n",
    "    try:\n",
    "        _from = random.choice(toks)\n",
    "        _to = word2vec.most_similar(_from)[0][0]\n",
    "        \n",
    "    except:   # 단어장에 없는 단어\n",
    "        return None\n",
    "\n",
    "    for tok in toks:\n",
    "        if tok is _from: res += _to + \" \"\n",
    "        else: res += tok + \" \"\n",
    "\n",
    "    return res"
   ]
  },
  {
   "cell_type": "code",
   "execution_count": 16,
   "id": "negative-england",
   "metadata": {},
   "outputs": [
    {
     "name": "stderr",
     "output_type": "stream",
     "text": [
      "/opt/conda/lib/python3.7/site-packages/ipykernel_launcher.py:4: TqdmDeprecationWarning: This function will be removed in tqdm==5.0.0\n",
      "Please use `tqdm.notebook.tqdm` instead of `tqdm.tqdm_notebook`\n",
      "  after removing the cwd from sys.path.\n"
     ]
    },
    {
     "data": {
      "application/vnd.jupyter.widget-view+json": {
       "model_id": "396acf2aeb7445679ebadf0248088c5b",
       "version_major": 2,
       "version_minor": 0
      },
      "text/plain": [
       "  0%|          | 0/11823 [00:00<?, ?it/s]"
      ]
     },
     "metadata": {},
     "output_type": "display_data"
    },
    {
     "name": "stderr",
     "output_type": "stream",
     "text": [
      "/opt/conda/lib/python3.7/site-packages/ipykernel_launcher.py:9: DeprecationWarning: Call to deprecated `most_similar` (Method will be removed in 4.0.0, use self.wv.most_similar() instead).\n",
      "  if __name__ == '__main__':\n",
      "/opt/conda/lib/python3.7/site-packages/ipykernel_launcher.py:12: TqdmDeprecationWarning: This function will be removed in tqdm==5.0.0\n",
      "Please use `tqdm.notebook.tqdm` instead of `tqdm.tqdm_notebook`\n",
      "  if sys.path[0] == '':\n"
     ]
    },
    {
     "data": {
      "application/vnd.jupyter.widget-view+json": {
       "model_id": "27df5de463e54420900dc87b39ec4954",
       "version_major": 2,
       "version_minor": 0
      },
      "text/plain": [
       "  0%|          | 0/11823 [00:00<?, ?it/s]"
      ]
     },
     "metadata": {},
     "output_type": "display_data"
    },
    {
     "name": "stdout",
     "output_type": "stream",
     "text": [
      "['상대', '가', '바람', '펴', '서', '헤어진지', '1', '년', '그러', '지났', '습니다']\n",
      "----------------------------------------------------------------------------------------------------\n",
      "['그런', '재', '활용', '도', '안', '되', '는', '사람', '은', '이제', '버리', '세요', '.']\n"
     ]
    }
   ],
   "source": [
    "new_q_corpus = []\n",
    "new_a_corpus = []\n",
    "\n",
    "for idx in tqdm_notebook(range(len(que_corpus))):\n",
    "    new_q_src = lexical_sub(que_corpus[idx], wv)\n",
    "    a = ans_corpus[idx]\n",
    "    \n",
    "    if new_q_src is not None:\n",
    "        new_q_corpus.append(new_q_src.split())\n",
    "        new_a_corpus.append(a)\n",
    "        \n",
    "for idx in tqdm_notebook(range(len(ans_corpus))):\n",
    "    q = que_corpus[idx]\n",
    "    new_a_src = lexical_sub(ans_corpus[idx], wv)\n",
    "    \n",
    "    if new_a_src is not None:\n",
    "        new_q_corpus.append(q)\n",
    "        new_a_corpus.append(new_a_src.split())\n",
    "        \n",
    "print(new_q_corpus[5555])\n",
    "print('-'*100)\n",
    "print(new_a_corpus[5555])"
   ]
  },
  {
   "cell_type": "markdown",
   "id": "ignored-archives",
   "metadata": {},
   "source": [
    "* 약 2만개의 데이터를 생성했습니다."
   ]
  },
  {
   "cell_type": "code",
   "execution_count": 17,
   "id": "departmental-number",
   "metadata": {},
   "outputs": [
    {
     "name": "stdout",
     "output_type": "stream",
     "text": [
      "20554\n",
      "20554\n"
     ]
    }
   ],
   "source": [
    "print(len(new_q_corpus))\n",
    "print(len(new_a_corpus))"
   ]
  },
  {
   "cell_type": "markdown",
   "id": "chronic-beads",
   "metadata": {},
   "source": [
    "* 기존 데이터와 통합"
   ]
  },
  {
   "cell_type": "code",
   "execution_count": 18,
   "id": "turned-fairy",
   "metadata": {},
   "outputs": [
    {
     "name": "stdout",
     "output_type": "stream",
     "text": [
      "32377\n",
      "32377\n"
     ]
    }
   ],
   "source": [
    "que_corpus = que_corpus + new_q_corpus\n",
    "ans_corpus = ans_corpus + new_a_corpus\n",
    "\n",
    "print(len(que_corpus))\n",
    "print(len(ans_corpus))"
   ]
  },
  {
   "cell_type": "code",
   "execution_count": 19,
   "id": "automotive-singles",
   "metadata": {},
   "outputs": [
    {
     "name": "stdout",
     "output_type": "stream",
     "text": [
      "32377\n"
     ]
    }
   ],
   "source": [
    "tgt_corpus = []\n",
    "\n",
    "for corpus in ans_corpus:\n",
    "    tgt_corpus.append([\"<start>\"] + corpus + [\"<end>\"])\n",
    "    \n",
    "print(len(tgt_corpus))\n",
    "\n",
    "ans_corpus = tgt_corpus"
   ]
  },
  {
   "cell_type": "code",
   "execution_count": 20,
   "id": "indonesian-reverse",
   "metadata": {},
   "outputs": [],
   "source": [
    "q_tokenizer = tf.keras.preprocessing.text.Tokenizer(filters='')\n",
    "q_tokenizer.fit_on_texts(que_corpus)\n",
    "\n",
    "a_tokenizer = tf.keras.preprocessing.text.Tokenizer(filters='')\n",
    "a_tokenizer.fit_on_texts(ans_corpus)"
   ]
  },
  {
   "cell_type": "markdown",
   "id": "cooperative-arnold",
   "metadata": {},
   "source": [
    "* 단어장 크기 확인"
   ]
  },
  {
   "cell_type": "code",
   "execution_count": 21,
   "id": "friendly-bobby",
   "metadata": {},
   "outputs": [
    {
     "name": "stdout",
     "output_type": "stream",
     "text": [
      "6224\n",
      "4590\n"
     ]
    }
   ],
   "source": [
    "print(len(q_tokenizer.word_index))\n",
    "print(len(a_tokenizer.word_index))"
   ]
  },
  {
   "cell_type": "code",
   "execution_count": 22,
   "id": "organizational-insight",
   "metadata": {},
   "outputs": [],
   "source": [
    "voc_corpus = que_corpus + ans_corpus\n",
    "\n",
    "words = np.concatenate(voc_corpus).tolist()\n",
    "counter = Counter(words)\n",
    "counter = counter.most_common(10000-2)\n",
    "vocab = ['<pad>', '<unk>'] + [key for key, _ in counter]\n",
    "word_to_index = {word:index for index, word in enumerate(vocab)}\n",
    "index_to_word = {index:word for word, index in word_to_index.items()}"
   ]
  },
  {
   "cell_type": "markdown",
   "id": "initial-experience",
   "metadata": {},
   "source": [
    "* 총 단어장 크기 확인"
   ]
  },
  {
   "cell_type": "code",
   "execution_count": 23,
   "id": "cooked-collapse",
   "metadata": {},
   "outputs": [
    {
     "name": "stdout",
     "output_type": "stream",
     "text": [
      "7942\n"
     ]
    }
   ],
   "source": [
    "print(len(word_to_index))"
   ]
  },
  {
   "cell_type": "code",
   "execution_count": 24,
   "id": "lesser-trash",
   "metadata": {},
   "outputs": [],
   "source": [
    "def get_encoded_sentence(sentence, word_to_index):\n",
    "    return [word_to_index[word] if word in word_to_index else word_to_index['<unk>'] for word in sentence]\n",
    "\n",
    "def get_decoded_sentence(encoded_sentence, index_to_word):\n",
    "    a = list(index_to_word[index] if index in index_to_word else '<unk>' for index in encoded_sentence)\n",
    "    b = []\n",
    "    for i in a:\n",
    "        if i != '<pad>':\n",
    "            b.append(i)\n",
    "    \n",
    "    return ' '.join(b)"
   ]
  },
  {
   "cell_type": "code",
   "execution_count": 25,
   "id": "meaning-camel",
   "metadata": {},
   "outputs": [],
   "source": [
    "def vectorize(corpus, word_to_index):\n",
    "    data = []\n",
    "    for sen in corpus:\n",
    "        sen = get_encoded_sentence(sen, word_to_index)\n",
    "        data.append(sen)\n",
    "    return data\n",
    "\n",
    "que_train = vectorize(que_corpus, word_to_index)\n",
    "ans_train = vectorize(ans_corpus, word_to_index)"
   ]
  },
  {
   "cell_type": "code",
   "execution_count": 26,
   "id": "protected-split",
   "metadata": {},
   "outputs": [],
   "source": [
    "enc_tensor = tf.keras.preprocessing.sequence.pad_sequences(que_train, padding='post')\n",
    "dec_tensor = tf.keras.preprocessing.sequence.pad_sequences(ans_train, padding='post')"
   ]
  },
  {
   "cell_type": "markdown",
   "id": "emotional-handle",
   "metadata": {},
   "source": [
    "* 데이터셋 분리"
   ]
  },
  {
   "cell_type": "code",
   "execution_count": 27,
   "id": "worldwide-fisher",
   "metadata": {},
   "outputs": [],
   "source": [
    "enc_train, enc_val, dec_train, dec_val = \\\n",
    "train_test_split(enc_tensor, dec_tensor, test_size=0.01)"
   ]
  },
  {
   "cell_type": "markdown",
   "id": "worst-scott",
   "metadata": {},
   "source": [
    "### 모델 설계"
   ]
  },
  {
   "cell_type": "code",
   "execution_count": 28,
   "id": "selective-workstation",
   "metadata": {},
   "outputs": [],
   "source": [
    "# Positional Encoding 구현\n",
    "def positional_encoding(pos, d_model):\n",
    "    def cal_angle(position, i):\n",
    "        return position / np.power(10000, int(i) / d_model)\n",
    "\n",
    "    def get_posi_angle_vec(position):\n",
    "        return [cal_angle(position, i) for i in range(d_model)]\n",
    "\n",
    "    sinusoid_table = np.array([get_posi_angle_vec(pos_i) for pos_i in range(pos)])\n",
    "\n",
    "    sinusoid_table[:, 0::2] = np.sin(sinusoid_table[:, 0::2])\n",
    "    sinusoid_table[:, 1::2] = np.cos(sinusoid_table[:, 1::2])\n",
    "\n",
    "    return sinusoid_table"
   ]
  },
  {
   "cell_type": "code",
   "execution_count": 29,
   "id": "brazilian-desktop",
   "metadata": {},
   "outputs": [],
   "source": [
    "# Mask  생성하기\n",
    "def generate_padding_mask(seq):\n",
    "    seq = tf.cast(tf.math.equal(seq, 0), tf.float32)\n",
    "    return seq[:, tf.newaxis, tf.newaxis, :]\n",
    "\n",
    "def generate_causality_mask(src_len, tgt_len):\n",
    "    mask = 1 - np.cumsum(np.eye(src_len, tgt_len), 0)\n",
    "    return tf.cast(mask, tf.float32)\n",
    "\n",
    "def generate_masks(src, tgt):\n",
    "    enc_mask = generate_padding_mask(src)\n",
    "    dec_mask = generate_padding_mask(tgt)\n",
    "\n",
    "    dec_causality_mask = generate_causality_mask(tgt.shape[1], tgt.shape[1])\n",
    "    dec_mask = tf.maximum(dec_mask, dec_causality_mask)\n",
    "\n",
    "    dec_enc_causality_mask = generate_causality_mask(tgt.shape[1], src.shape[1])\n",
    "    dec_enc_mask = tf.maximum(enc_mask, dec_enc_causality_mask)\n",
    "\n",
    "    return enc_mask, dec_enc_mask, dec_mask"
   ]
  },
  {
   "cell_type": "code",
   "execution_count": 30,
   "id": "emerging-louisiana",
   "metadata": {},
   "outputs": [],
   "source": [
    "# Multi Head Attention 구현\n",
    "class MultiHeadAttention(tf.keras.layers.Layer):\n",
    "    def __init__(self, d_model, num_heads):\n",
    "        super(MultiHeadAttention, self).__init__()\n",
    "        self.num_heads = num_heads\n",
    "        self.d_model = d_model\n",
    "        \n",
    "        self.depth = d_model // self.num_heads\n",
    "        \n",
    "        self.W_q = tf.keras.layers.Dense(d_model)\n",
    "        self.W_k = tf.keras.layers.Dense(d_model)\n",
    "        self.W_v = tf.keras.layers.Dense(d_model)\n",
    "        \n",
    "        self.linear = tf.keras.layers.Dense(d_model)\n",
    "\n",
    "    def scaled_dot_product_attention(self, Q, K, V, mask):\n",
    "        d_k = tf.cast(K.shape[-1], tf.float32)\n",
    "        QK = tf.matmul(Q, K, transpose_b=True)\n",
    "\n",
    "        scaled_qk = QK / tf.math.sqrt(d_k)\n",
    "\n",
    "        if mask is not None: scaled_qk += (mask * -1e9)  \n",
    "\n",
    "        attentions = tf.nn.softmax(scaled_qk, axis=-1)\n",
    "        out = tf.matmul(attentions, V)\n",
    "\n",
    "        return out, attentions\n",
    "        \n",
    "\n",
    "    def split_heads(self, x):\n",
    "        bsz = x.shape[0]\n",
    "        split_x = tf.reshape(x, (bsz, -1, self.num_heads, self.depth))\n",
    "        split_x = tf.transpose(split_x, perm=[0, 2, 1, 3])\n",
    "\n",
    "        return split_x\n",
    "\n",
    "    def combine_heads(self, x):\n",
    "        bsz = x.shape[0]\n",
    "        combined_x = tf.transpose(x, perm=[0, 2, 1, 3])\n",
    "        combined_x = tf.reshape(combined_x, (bsz, -1, self.d_model))\n",
    "\n",
    "        return combined_x\n",
    "\n",
    "    \n",
    "    def call(self, Q, K, V, mask):\n",
    "        WQ = self.W_q(Q)\n",
    "        WK = self.W_k(K)\n",
    "        WV = self.W_v(V)\n",
    "        \n",
    "        WQ_splits = self.split_heads(WQ)\n",
    "        WK_splits = self.split_heads(WK)\n",
    "        WV_splits = self.split_heads(WV)\n",
    "        \n",
    "        out, attention_weights = self.scaled_dot_product_attention(\n",
    "            WQ_splits, WK_splits, WV_splits, mask)\n",
    "                        \n",
    "        out = self.combine_heads(out)\n",
    "        out = self.linear(out)\n",
    "            \n",
    "        return out, attention_weights"
   ]
  },
  {
   "cell_type": "code",
   "execution_count": 31,
   "id": "statewide-sandwich",
   "metadata": {},
   "outputs": [],
   "source": [
    "# Position-wise Feed Forward Network 구현\n",
    "class PoswiseFeedForwardNet(tf.keras.layers.Layer):\n",
    "    def __init__(self, d_model, d_ff):\n",
    "        super(PoswiseFeedForwardNet, self).__init__()\n",
    "        self.d_model = d_model\n",
    "        self.d_ff = d_ff\n",
    "\n",
    "        self.fc1 = tf.keras.layers.Dense(d_ff, activation='relu')\n",
    "        self.fc2 = tf.keras.layers.Dense(d_model)\n",
    "\n",
    "    def call(self, x):\n",
    "        out = self.fc1(x)\n",
    "        out = self.fc2(out)\n",
    "            \n",
    "        return out"
   ]
  },
  {
   "cell_type": "code",
   "execution_count": 32,
   "id": "graduate-nothing",
   "metadata": {},
   "outputs": [],
   "source": [
    "# Encoder의 레이어 구현\n",
    "class EncoderLayer(tf.keras.layers.Layer):\n",
    "    def __init__(self, d_model, n_heads, d_ff, dropout):\n",
    "        super(EncoderLayer, self).__init__()\n",
    "\n",
    "        self.enc_self_attn = MultiHeadAttention(d_model, n_heads)\n",
    "        self.ffn = PoswiseFeedForwardNet(d_model, d_ff)\n",
    "\n",
    "        self.norm_1 = tf.keras.layers.LayerNormalization(epsilon=1e-6)\n",
    "        self.norm_2 = tf.keras.layers.LayerNormalization(epsilon=1e-6)\n",
    "\n",
    "        self.do = tf.keras.layers.Dropout(dropout)\n",
    "        \n",
    "    def call(self, x, mask):\n",
    "\n",
    "        \"\"\"\n",
    "        Multi-Head Attention\n",
    "        \"\"\"\n",
    "        residual = x\n",
    "        out = self.norm_1(x)\n",
    "        out, enc_attn = self.enc_self_attn(out, out, out, mask)\n",
    "        out = self.do(out)\n",
    "        out += residual\n",
    "        \n",
    "        \"\"\"\n",
    "        Position-Wise Feed Forward Network\n",
    "        \"\"\"\n",
    "        residual = out\n",
    "        out = self.norm_2(out)\n",
    "        out = self.ffn(out)\n",
    "        out = self.do(out)\n",
    "        out += residual\n",
    "        \n",
    "        return out, enc_attn"
   ]
  },
  {
   "cell_type": "code",
   "execution_count": 33,
   "id": "changing-information",
   "metadata": {},
   "outputs": [],
   "source": [
    "# Decoder 레이어 구현\n",
    "class DecoderLayer(tf.keras.layers.Layer):\n",
    "    def __init__(self, d_model, num_heads, d_ff, dropout):\n",
    "        super(DecoderLayer, self).__init__()\n",
    "\n",
    "        self.dec_self_attn = MultiHeadAttention(d_model, num_heads)\n",
    "        self.enc_dec_attn = MultiHeadAttention(d_model, num_heads)\n",
    "\n",
    "        self.ffn = PoswiseFeedForwardNet(d_model, d_ff)\n",
    "\n",
    "        self.norm_1 = tf.keras.layers.LayerNormalization(epsilon=1e-6)\n",
    "        self.norm_2 = tf.keras.layers.LayerNormalization(epsilon=1e-6)\n",
    "        self.norm_3 = tf.keras.layers.LayerNormalization(epsilon=1e-6)\n",
    "\n",
    "        self.do = tf.keras.layers.Dropout(dropout)\n",
    "    \n",
    "    def call(self, x, enc_out, causality_mask, padding_mask):\n",
    "\n",
    "        \"\"\"\n",
    "        Masked Multi-Head Attention\n",
    "        \"\"\"\n",
    "        residual = x\n",
    "        out = self.norm_1(x)\n",
    "        out, dec_attn = self.dec_self_attn(out, out, out, padding_mask)\n",
    "        out = self.do(out)\n",
    "        out += residual\n",
    "\n",
    "        \"\"\"\n",
    "        Multi-Head Attention\n",
    "        \"\"\"\n",
    "        residual = out\n",
    "        out = self.norm_2(out)\n",
    "        out, dec_enc_attn = self.dec_self_attn(out, enc_out, enc_out, causality_mask)\n",
    "        out = self.do(out)\n",
    "        out += residual\n",
    "        \n",
    "        \"\"\"\n",
    "        Position-Wise Feed Forward Network\n",
    "        \"\"\"\n",
    "        residual = out\n",
    "        out = self.norm_3(out)\n",
    "        out = self.ffn(out)\n",
    "        out = self.do(out)\n",
    "        out += residual\n",
    "\n",
    "        return out, dec_attn, dec_enc_attn"
   ]
  },
  {
   "cell_type": "code",
   "execution_count": 34,
   "id": "voluntary-ontario",
   "metadata": {},
   "outputs": [],
   "source": [
    "# Encoder 구현\n",
    "class Encoder(tf.keras.Model):\n",
    "    def __init__(self,\n",
    "                    n_layers,\n",
    "                    d_model,\n",
    "                    n_heads,\n",
    "                    d_ff,\n",
    "                    dropout):\n",
    "        super(Encoder, self).__init__()\n",
    "        self.n_layers = n_layers\n",
    "        self.enc_layers = [EncoderLayer(d_model, n_heads, d_ff, dropout) \n",
    "                        for _ in range(n_layers)]\n",
    "    \n",
    "        self.do = tf.keras.layers.Dropout(dropout)\n",
    "        \n",
    "    def call(self, x, mask):\n",
    "        out = x\n",
    "    \n",
    "        enc_attns = list()\n",
    "        for i in range(self.n_layers):\n",
    "            out, enc_attn = self.enc_layers[i](out, mask)\n",
    "            enc_attns.append(enc_attn)\n",
    "        \n",
    "        return out, enc_attns"
   ]
  },
  {
   "cell_type": "code",
   "execution_count": 35,
   "id": "expected-august",
   "metadata": {},
   "outputs": [],
   "source": [
    "# Decoder 구현\n",
    "class Decoder(tf.keras.Model):\n",
    "    def __init__(self,\n",
    "                    n_layers,\n",
    "                    d_model,\n",
    "                    n_heads,\n",
    "                    d_ff,\n",
    "                    dropout):\n",
    "        super(Decoder, self).__init__()\n",
    "        self.n_layers = n_layers\n",
    "        self.dec_layers = [DecoderLayer(d_model, n_heads, d_ff, dropout) \n",
    "                            for _ in range(n_layers)]\n",
    "                            \n",
    "                            \n",
    "    def call(self, x, enc_out, causality_mask, padding_mask):\n",
    "        out = x\n",
    "    \n",
    "        dec_attns = list()\n",
    "        dec_enc_attns = list()\n",
    "        for i in range(self.n_layers):\n",
    "            out, dec_attn, dec_enc_attn = \\\n",
    "            self.dec_layers[i](out, enc_out, causality_mask, padding_mask)\n",
    "\n",
    "            dec_attns.append(dec_attn)\n",
    "            dec_enc_attns.append(dec_enc_attn)\n",
    "\n",
    "        return out, dec_attns, dec_enc_attns"
   ]
  },
  {
   "cell_type": "code",
   "execution_count": 36,
   "id": "likely-tulsa",
   "metadata": {},
   "outputs": [],
   "source": [
    "class Transformer(tf.keras.Model):\n",
    "    def __init__(self,\n",
    "                    n_layers,\n",
    "                    d_model,\n",
    "                    n_heads,\n",
    "                    d_ff,\n",
    "                    src_vocab_size,\n",
    "                    tgt_vocab_size,\n",
    "                    pos_len,\n",
    "                    dropout=0.2,\n",
    "                    shared_fc=True,\n",
    "                    shared_emb=False):\n",
    "        super(Transformer, self).__init__()\n",
    "        \n",
    "        self.d_model = tf.cast(d_model, tf.float32)\n",
    "\n",
    "        if shared_emb:\n",
    "            self.enc_emb = self.dec_emb = \\\n",
    "            tf.keras.layers.Embedding(src_vocab_size, d_model)\n",
    "        else:\n",
    "            self.enc_emb = tf.keras.layers.Embedding(src_vocab_size, d_model)\n",
    "            self.dec_emb = tf.keras.layers.Embedding(tgt_vocab_size, d_model)\n",
    "\n",
    "        self.pos_encoding = positional_encoding(pos_len, d_model)\n",
    "        self.do = tf.keras.layers.Dropout(dropout)\n",
    "\n",
    "        self.encoder = Encoder(n_layers, d_model, n_heads, d_ff, dropout)\n",
    "        self.decoder = Decoder(n_layers, d_model, n_heads, d_ff, dropout)\n",
    "\n",
    "        self.fc = tf.keras.layers.Dense(tgt_vocab_size)\n",
    "\n",
    "        self.shared_fc = shared_fc\n",
    "\n",
    "        if shared_fc:\n",
    "            self.fc.set_weights(tf.transpose(self.dec_emb.weights))\n",
    "\n",
    "    def embedding(self, emb, x):\n",
    "        seq_len = x.shape[1]\n",
    "\n",
    "        out = emb(x)\n",
    "\n",
    "        if self.shared_fc: out *= tf.math.sqrt(self.d_model)\n",
    "\n",
    "        out += self.pos_encoding[np.newaxis, ...][:, :seq_len, :]\n",
    "        out = self.do(out)\n",
    "\n",
    "        return out\n",
    "\n",
    "        \n",
    "    def call(self, enc_in, dec_in, enc_mask, causality_mask, dec_mask):\n",
    "        enc_in = self.embedding(self.enc_emb, enc_in)\n",
    "        dec_in = self.embedding(self.dec_emb, dec_in)\n",
    "\n",
    "        enc_out, enc_attns = self.encoder(enc_in, enc_mask)\n",
    "        \n",
    "        dec_out, dec_attns, dec_enc_attns = \\\n",
    "        self.decoder(dec_in, enc_out, causality_mask, dec_mask)\n",
    "        \n",
    "        logits = self.fc(dec_out)\n",
    "        \n",
    "        return logits, enc_attns, dec_attns, dec_enc_attns"
   ]
  },
  {
   "cell_type": "code",
   "execution_count": 37,
   "id": "protecting-coral",
   "metadata": {},
   "outputs": [],
   "source": [
    "# Learning Rate Scheduler 구현\n",
    "class LearningRateScheduler(tf.keras.optimizers.schedules.LearningRateSchedule):\n",
    "    def __init__(self, d_model, warmup_steps=1000):\n",
    "        super(LearningRateScheduler, self).__init__()\n",
    "        \n",
    "        self.d_model = d_model\n",
    "        self.warmup_steps = warmup_steps\n",
    "    \n",
    "    def __call__(self, step):\n",
    "        arg1 = step ** -0.5\n",
    "        arg2 = step * (self.warmup_steps ** -1.5)\n",
    "        \n",
    "        return (self.d_model ** -0.5) * tf.math.minimum(arg1, arg2)"
   ]
  },
  {
   "cell_type": "markdown",
   "id": "theoretical-basement",
   "metadata": {},
   "source": [
    "* 모델 파라미터 설정"
   ]
  },
  {
   "cell_type": "code",
   "execution_count": 38,
   "id": "crude-prize",
   "metadata": {},
   "outputs": [],
   "source": [
    "VOCAB_SIZE = len(word_to_index)\n",
    "\n",
    "transformer = Transformer(\n",
    "    n_layers=1,\n",
    "    d_model=256,\n",
    "    n_heads=8,\n",
    "    d_ff=1024,\n",
    "    src_vocab_size=VOCAB_SIZE,\n",
    "    tgt_vocab_size=VOCAB_SIZE,\n",
    "    pos_len=200,\n",
    "    dropout=0.2,\n",
    "    shared_fc=True,\n",
    "    shared_emb=True)\n",
    "\n",
    "d_model = 256"
   ]
  },
  {
   "cell_type": "code",
   "execution_count": 39,
   "id": "colonial-madness",
   "metadata": {},
   "outputs": [],
   "source": [
    "# Learning Rate 인스턴스 선언 & Optimizer 구현\n",
    "learning_rate = LearningRateScheduler(d_model)\n",
    "\n",
    "optimizer = tf.keras.optimizers.Adam(learning_rate,\n",
    "                                        beta_1=0.9,\n",
    "                                        beta_2=0.98, \n",
    "                                        epsilon=1e-9)"
   ]
  },
  {
   "cell_type": "code",
   "execution_count": 40,
   "id": "dependent-rachel",
   "metadata": {},
   "outputs": [],
   "source": [
    "# Loss Function 정의\n",
    "loss_object = tf.keras.losses.SparseCategoricalCrossentropy(\n",
    "    from_logits=True, reduction='none')\n",
    "\n",
    "def loss_function(real, pred):\n",
    "    mask = tf.math.logical_not(tf.math.equal(real, 0))\n",
    "    loss_ = loss_object(real, pred)\n",
    "\n",
    "    mask = tf.cast(mask, dtype=loss_.dtype)\n",
    "    loss_ *= mask\n",
    "\n",
    "    return tf.reduce_sum(loss_)/tf.reduce_sum(mask)"
   ]
  },
  {
   "cell_type": "code",
   "execution_count": 41,
   "id": "mexican-beaver",
   "metadata": {},
   "outputs": [],
   "source": [
    "# Train Step 정의\n",
    "@tf.function()\n",
    "def train_step(src, tgt, model, optimizer):\n",
    "    tgt_in = tgt[:, :-1]  # Decoder의 input\n",
    "    gold = tgt[:, 1:]     # Decoder의 output과 비교하기 위해 right shift를 통해 생성한 최종 타겟\n",
    "\n",
    "    enc_mask, dec_enc_mask, dec_mask = generate_masks(src, tgt_in)\n",
    "\n",
    "    with tf.GradientTape() as tape:\n",
    "        predictions, enc_attns, dec_attns, dec_enc_attns = \\\n",
    "        model(src, tgt_in, enc_mask, dec_enc_mask, dec_mask)\n",
    "        loss = loss_function(gold, predictions)\n",
    "\n",
    "    gradients = tape.gradient(loss, model.trainable_variables)    \n",
    "    optimizer.apply_gradients(zip(gradients, model.trainable_variables))\n",
    "\n",
    "    return loss, enc_attns, dec_attns, dec_enc_attns"
   ]
  },
  {
   "cell_type": "markdown",
   "id": "incorporate-trick",
   "metadata": {},
   "source": [
    "* 번역 함수 정의"
   ]
  },
  {
   "cell_type": "code",
   "execution_count": 42,
   "id": "foreign-bouquet",
   "metadata": {},
   "outputs": [],
   "source": [
    "def evaluate(sentence, model):\n",
    "    pieces = mecab.morphs(sentence)\n",
    "    \n",
    "    tokens = []\n",
    "    for sen in pieces:\n",
    "        sen= get_encoded_sentence(sen, word_to_index)\n",
    "        tokens.append(sen)\n",
    "    \n",
    "\n",
    "    _input = tf.keras.preprocessing.sequence.pad_sequences(tokens,\n",
    "                                                        value=word_to_index[\"<pad>\"],\n",
    "                                                        padding='post')\n",
    "    \n",
    "    ids = []\n",
    "    output = tf.expand_dims([word_to_index[\"<start>\"]], 0)\n",
    "    for i in range(dec_train.shape[-1]):\n",
    "        enc_padding_mask, combined_mask, dec_padding_mask = \\\n",
    "        generate_masks(_input, output)\n",
    "\n",
    "        predictions, enc_attns, dec_attns, dec_enc_attns =\\\n",
    "        model(_input, \n",
    "              output,\n",
    "              enc_padding_mask,\n",
    "              combined_mask,\n",
    "              dec_padding_mask)\n",
    "\n",
    "        predicted_id = \\\n",
    "        tf.argmax(tf.math.softmax(predictions, axis=-1)[0, -1]).numpy().item()\n",
    "\n",
    "        if word_to_index[\"<end>\"] == predicted_id:\n",
    "            result = get_decoded_sentence(ids, index_to_word)\n",
    "            return pieces, result, enc_attns, dec_attns, dec_enc_attns\n",
    "\n",
    "        ids.append(predicted_id)\n",
    "        output = tf.concat([output, tf.expand_dims([predicted_id], 0)], axis=-1)\n",
    "\n",
    "    result = get_decoded_sentence(ids, index_to_word)\n",
    "\n",
    "    return pieces, result, enc_attns, dec_attns, dec_enc_attns"
   ]
  },
  {
   "cell_type": "code",
   "execution_count": 43,
   "id": "polar-miami",
   "metadata": {},
   "outputs": [],
   "source": [
    "def translate(sentence, model):\n",
    "    pieces, result, enc_attns, dec_attns, dec_enc_attns = \\\n",
    "    evaluate(sentence, model)\n",
    "\n",
    "    return result"
   ]
  },
  {
   "cell_type": "markdown",
   "id": "welsh-freeze",
   "metadata": {},
   "source": [
    "* BLEU 스코어 확인"
   ]
  },
  {
   "cell_type": "code",
   "execution_count": 44,
   "id": "handy-scholar",
   "metadata": {},
   "outputs": [],
   "source": [
    "def eval_bleu(src_corpus, tgt_corpus, verbose=True):\n",
    "    total_score = 0.0\n",
    "    sample_size = len(tgt_corpus)\n",
    "\n",
    "    for idx in tqdm_notebook(range(sample_size)):\n",
    "        src_tokens = src_corpus[idx]\n",
    "        tgt_tokens = tgt_corpus[idx]\n",
    "\n",
    "        src_sentence = get_decoded_sentence(src_tokens.tolist(), index_to_word) \n",
    "        tgt_sentence = get_decoded_sentence(tgt_tokens.tolist(), index_to_word)\n",
    "        \n",
    "        reference = preprocess_sentence(tgt_sentence).split()\n",
    "        src_sentence = preprocess_sentence(src_sentence)\n",
    "        candidate = translate(src_sentence, transformer).split()\n",
    "\n",
    "        score = sentence_bleu([reference[1:-1]], candidate,\n",
    "                              smoothing_function=SmoothingFunction().method1)\n",
    "        total_score += score\n",
    "\n",
    "        if verbose:\n",
    "            print(\"Source Sentence: \", src_sentence)\n",
    "            print(\"Model Prediction: \", candidate)\n",
    "            print(\"Real: \", reference[1:-1])\n",
    "            print(\"Score: %lf\\n\" % score)\n",
    "\n",
    "    print(\"Num of Sample:\", sample_size)\n",
    "    print(\"Total Score: %.4f\" % (total_score / sample_size))"
   ]
  },
  {
   "cell_type": "markdown",
   "id": "velvet-algorithm",
   "metadata": {},
   "source": [
    "* 예문"
   ]
  },
  {
   "cell_type": "code",
   "execution_count": 45,
   "id": "average-conversation",
   "metadata": {},
   "outputs": [],
   "source": [
    "examples = [\"지루하다, 놀러가고 싶어.\",\n",
    "            \"오늘 일찍 일어났더니 피곤하다.\",\n",
    "            \"간만에 여자친구랑 데이트 하기로 했어.\",\n",
    "            \"집에 있는다는 소리야.\"]"
   ]
  },
  {
   "cell_type": "markdown",
   "id": "nearby-central",
   "metadata": {},
   "source": [
    "### 학습"
   ]
  },
  {
   "cell_type": "code",
   "execution_count": 46,
   "id": "fancy-challenge",
   "metadata": {
    "scrolled": true
   },
   "outputs": [
    {
     "name": "stderr",
     "output_type": "stream",
     "text": [
      "/opt/conda/lib/python3.7/site-packages/ipykernel_launcher.py:11: TqdmDeprecationWarning: This function will be removed in tqdm==5.0.0\n",
      "Please use `tqdm.notebook.tqdm` instead of `tqdm.tqdm_notebook`\n",
      "  # This is added back by InteractiveShellApp.init_path()\n"
     ]
    },
    {
     "data": {
      "application/vnd.jupyter.widget-view+json": {
       "model_id": "8e0981827d334a029342501c5940f75a",
       "version_major": 2,
       "version_minor": 0
      },
      "text/plain": [
       "  0%|          | 0/501 [00:00<?, ?it/s]"
      ]
     },
     "metadata": {},
     "output_type": "display_data"
    },
    {
     "name": "stdout",
     "output_type": "stream",
     "text": [
      "Epoch : 1\n",
      "------------------------------------------------------------------------------------------------------------------------\n",
      "source: 지루하다, 놀러가고 싶어.\n",
      "answered: 많이 힘들 겠 지만 마음 이 겠 네요 .\n",
      "------------------------------------------------------------------------------------------------------------------------\n",
      "source: 오늘 일찍 일어났더니 피곤하다.\n",
      "answered: 좋 은 더 좋 은 더 좋 은 걸 더 좋 겠 네요 .\n",
      "------------------------------------------------------------------------------------------------------------------------\n",
      "source: 간만에 여자친구랑 데이트 하기로 했어.\n",
      "answered: 저 도 힘들 겠 네요 .\n",
      "------------------------------------------------------------------------------------------------------------------------\n",
      "source: 집에 있는다는 소리야.\n",
      "answered: 저 도 즐거워요\n",
      "------------------------------------------------------------------------------------------------------------------------\n"
     ]
    },
    {
     "name": "stderr",
     "output_type": "stream",
     "text": [
      "/opt/conda/lib/python3.7/site-packages/ipykernel_launcher.py:5: TqdmDeprecationWarning: This function will be removed in tqdm==5.0.0\n",
      "Please use `tqdm.notebook.tqdm` instead of `tqdm.tqdm_notebook`\n",
      "  \"\"\"\n"
     ]
    },
    {
     "data": {
      "application/vnd.jupyter.widget-view+json": {
       "model_id": "26a06894a48a4786911755b82d1cddf1",
       "version_major": 2,
       "version_minor": 0
      },
      "text/plain": [
       "  0%|          | 0/324 [00:00<?, ?it/s]"
      ]
     },
     "metadata": {},
     "output_type": "display_data"
    },
    {
     "name": "stdout",
     "output_type": "stream",
     "text": [
      "Num of Sample: 324\n",
      "Total Score: 0.0306\n",
      "------------------------------------------------------------------------------------------------------------------------\n"
     ]
    },
    {
     "data": {
      "application/vnd.jupyter.widget-view+json": {
       "model_id": "fa82dc6758f8451ea5f2c229c4623858",
       "version_major": 2,
       "version_minor": 0
      },
      "text/plain": [
       "  0%|          | 0/501 [00:00<?, ?it/s]"
      ]
     },
     "metadata": {},
     "output_type": "display_data"
    },
    {
     "name": "stdout",
     "output_type": "stream",
     "text": [
      "Epoch : 2\n",
      "------------------------------------------------------------------------------------------------------------------------\n",
      "source: 지루하다, 놀러가고 싶어.\n",
      "answered: 사랑 하 는 사람 이 니까 착각 할 수 있 어요 .\n",
      "------------------------------------------------------------------------------------------------------------------------\n",
      "source: 오늘 일찍 일어났더니 피곤하다.\n",
      "answered: 이별 을 잘 하 는 것 도 좋 을 거 예요 .\n",
      "------------------------------------------------------------------------------------------------------------------------\n",
      "source: 간만에 여자친구랑 데이트 하기로 했어.\n",
      "answered: 사랑 하 는 사람 이 필요 해요 .\n",
      "------------------------------------------------------------------------------------------------------------------------\n",
      "source: 집에 있는다는 소리야.\n",
      "answered: 모처럼 만 보 세요 .\n",
      "------------------------------------------------------------------------------------------------------------------------\n"
     ]
    },
    {
     "data": {
      "application/vnd.jupyter.widget-view+json": {
       "model_id": "8d6ea04785b2434ca68b5cc63e5b5212",
       "version_major": 2,
       "version_minor": 0
      },
      "text/plain": [
       "  0%|          | 0/324 [00:00<?, ?it/s]"
      ]
     },
     "metadata": {},
     "output_type": "display_data"
    },
    {
     "name": "stdout",
     "output_type": "stream",
     "text": [
      "Num of Sample: 324\n",
      "Total Score: 0.0297\n",
      "------------------------------------------------------------------------------------------------------------------------\n"
     ]
    },
    {
     "data": {
      "application/vnd.jupyter.widget-view+json": {
       "model_id": "a2420d8689ad42ab8e63935c24675aa0",
       "version_major": 2,
       "version_minor": 0
      },
      "text/plain": [
       "  0%|          | 0/501 [00:00<?, ?it/s]"
      ]
     },
     "metadata": {},
     "output_type": "display_data"
    },
    {
     "name": "stdout",
     "output_type": "stream",
     "text": [
      "Epoch : 3\n",
      "------------------------------------------------------------------------------------------------------------------------\n",
      "source: 지루하다, 놀러가고 싶어.\n",
      "answered: 궁금 하 고 오 는 것 도 궁금 할 거 예요 .\n",
      "------------------------------------------------------------------------------------------------------------------------\n",
      "source: 오늘 일찍 일어났더니 피곤하다.\n",
      "answered: 잘 놀드 세요 .\n",
      "------------------------------------------------------------------------------------------------------------------------\n",
      "source: 간만에 여자친구랑 데이트 하기로 했어.\n",
      "answered: 당신 은 군대 이 에요 .\n",
      "------------------------------------------------------------------------------------------------------------------------\n",
      "source: 집에 있는다는 소리야.\n",
      "answered: 같이 살 자고 집 마련 이 났 잖아요 .\n",
      "------------------------------------------------------------------------------------------------------------------------\n"
     ]
    },
    {
     "data": {
      "application/vnd.jupyter.widget-view+json": {
       "model_id": "7ae55e2aa31b422c8acb2b5d9f159772",
       "version_major": 2,
       "version_minor": 0
      },
      "text/plain": [
       "  0%|          | 0/324 [00:00<?, ?it/s]"
      ]
     },
     "metadata": {},
     "output_type": "display_data"
    },
    {
     "name": "stdout",
     "output_type": "stream",
     "text": [
      "Num of Sample: 324\n",
      "Total Score: 0.0344\n",
      "------------------------------------------------------------------------------------------------------------------------\n"
     ]
    },
    {
     "data": {
      "application/vnd.jupyter.widget-view+json": {
       "model_id": "7befb13d1bb14824985c1b96c74dc209",
       "version_major": 2,
       "version_minor": 0
      },
      "text/plain": [
       "  0%|          | 0/501 [00:00<?, ?it/s]"
      ]
     },
     "metadata": {},
     "output_type": "display_data"
    },
    {
     "name": "stdout",
     "output_type": "stream",
     "text": [
      "Epoch : 4\n",
      "------------------------------------------------------------------------------------------------------------------------\n",
      "source: 지루하다, 놀러가고 싶어.\n",
      "answered: 그 사람 만 의 시간 도 그 사람 이 죠 .\n",
      "------------------------------------------------------------------------------------------------------------------------\n",
      "source: 오늘 일찍 일어났더니 피곤하다.\n",
      "answered: 좋 은데 결정 을 조금 었 나 봐요 .\n",
      "------------------------------------------------------------------------------------------------------------------------\n",
      "source: 간만에 여자친구랑 데이트 하기로 했어.\n",
      "answered: 당신 은 타이밍 이 안 맞 길 바랄게요 .\n",
      "------------------------------------------------------------------------------------------------------------------------\n",
      "source: 집에 있는다는 소리야.\n",
      "answered: 조심히 오 세요 .\n",
      "------------------------------------------------------------------------------------------------------------------------\n"
     ]
    },
    {
     "data": {
      "application/vnd.jupyter.widget-view+json": {
       "model_id": "93be2c107a174321842432767c528a34",
       "version_major": 2,
       "version_minor": 0
      },
      "text/plain": [
       "  0%|          | 0/324 [00:00<?, ?it/s]"
      ]
     },
     "metadata": {},
     "output_type": "display_data"
    },
    {
     "name": "stdout",
     "output_type": "stream",
     "text": [
      "Num of Sample: 324\n",
      "Total Score: 0.0310\n",
      "------------------------------------------------------------------------------------------------------------------------\n"
     ]
    },
    {
     "data": {
      "application/vnd.jupyter.widget-view+json": {
       "model_id": "15c7370b67544ba981f171e69775e8b0",
       "version_major": 2,
       "version_minor": 0
      },
      "text/plain": [
       "  0%|          | 0/501 [00:00<?, ?it/s]"
      ]
     },
     "metadata": {},
     "output_type": "display_data"
    },
    {
     "name": "stdout",
     "output_type": "stream",
     "text": [
      "Epoch : 5\n",
      "------------------------------------------------------------------------------------------------------------------------\n",
      "source: 지루하다, 놀러가고 싶어.\n",
      "answered: 마세요 .\n",
      "------------------------------------------------------------------------------------------------------------------------\n",
      "source: 오늘 일찍 일어났더니 피곤하다.\n",
      "answered: 조금 만 더 버텨\n",
      "------------------------------------------------------------------------------------------------------------------------\n",
      "source: 간만에 여자친구랑 데이트 하기로 했어.\n",
      "answered: 지금 은 그렇게 만들 어 보 세요 .\n",
      "------------------------------------------------------------------------------------------------------------------------\n",
      "source: 집에 있는다는 소리야.\n",
      "answered: 집 에서 도 집 에서 집 마련 이 집 에서 집 에서 집 에서 조심히 집 에서 조심히 집\n",
      "------------------------------------------------------------------------------------------------------------------------\n"
     ]
    },
    {
     "data": {
      "application/vnd.jupyter.widget-view+json": {
       "model_id": "47de081f581b41408481d3653f995773",
       "version_major": 2,
       "version_minor": 0
      },
      "text/plain": [
       "  0%|          | 0/324 [00:00<?, ?it/s]"
      ]
     },
     "metadata": {},
     "output_type": "display_data"
    },
    {
     "name": "stdout",
     "output_type": "stream",
     "text": [
      "Num of Sample: 324\n",
      "Total Score: 0.0304\n",
      "------------------------------------------------------------------------------------------------------------------------\n"
     ]
    },
    {
     "data": {
      "application/vnd.jupyter.widget-view+json": {
       "model_id": "af2d9ac23522463eb5e5a188d7193131",
       "version_major": 2,
       "version_minor": 0
      },
      "text/plain": [
       "  0%|          | 0/501 [00:00<?, ?it/s]"
      ]
     },
     "metadata": {},
     "output_type": "display_data"
    },
    {
     "name": "stdout",
     "output_type": "stream",
     "text": [
      "Epoch : 6\n",
      "------------------------------------------------------------------------------------------------------------------------\n",
      "source: 지루하다, 놀러가고 싶어.\n",
      "answered: 마세요 .\n",
      "------------------------------------------------------------------------------------------------------------------------\n",
      "source: 오늘 일찍 일어났더니 피곤하다.\n",
      "answered: 조금 만 더 행복 하 길 바랄게요 .\n",
      "------------------------------------------------------------------------------------------------------------------------\n",
      "source: 간만에 여자친구랑 데이트 하기로 했어.\n",
      "answered: 어떤 선택 이 든 그 가 좋 은 사람 이 겠 죠 .\n",
      "------------------------------------------------------------------------------------------------------------------------\n",
      "source: 집에 있는다는 소리야.\n",
      "answered: 같이 살 고 싶 은 실례 같 아요 .\n",
      "------------------------------------------------------------------------------------------------------------------------\n"
     ]
    },
    {
     "data": {
      "application/vnd.jupyter.widget-view+json": {
       "model_id": "7cad7e7cc3ac4c79af3605d0d61c069c",
       "version_major": 2,
       "version_minor": 0
      },
      "text/plain": [
       "  0%|          | 0/324 [00:00<?, ?it/s]"
      ]
     },
     "metadata": {},
     "output_type": "display_data"
    },
    {
     "name": "stdout",
     "output_type": "stream",
     "text": [
      "Num of Sample: 324\n",
      "Total Score: 0.0345\n",
      "------------------------------------------------------------------------------------------------------------------------\n"
     ]
    },
    {
     "data": {
      "application/vnd.jupyter.widget-view+json": {
       "model_id": "0691923f392243158df107e0e1fbb099",
       "version_major": 2,
       "version_minor": 0
      },
      "text/plain": [
       "  0%|          | 0/501 [00:00<?, ?it/s]"
      ]
     },
     "metadata": {},
     "output_type": "display_data"
    },
    {
     "name": "stdout",
     "output_type": "stream",
     "text": [
      "Epoch : 7\n",
      "------------------------------------------------------------------------------------------------------------------------\n",
      "source: 지루하다, 놀러가고 싶어.\n",
      "answered: 궁금 하 고 오 세요 .\n",
      "------------------------------------------------------------------------------------------------------------------------\n",
      "source: 오늘 일찍 일어났더니 피곤하다.\n",
      "answered: 후회 만 있 다면 후회 만 있 을 거 예요 .\n",
      "------------------------------------------------------------------------------------------------------------------------\n",
      "source: 간만에 여자친구랑 데이트 하기로 했어.\n",
      "answered: 당신 은 그렇게 할 수 있 겠 고 싶 은 게 생길 거 예요 .\n",
      "------------------------------------------------------------------------------------------------------------------------\n",
      "source: 집에 있는다는 소리야.\n",
      "answered: 조심히 오 세요 .\n",
      "------------------------------------------------------------------------------------------------------------------------\n"
     ]
    },
    {
     "data": {
      "application/vnd.jupyter.widget-view+json": {
       "model_id": "e10b2467324e4a73b95bfa2753a552c8",
       "version_major": 2,
       "version_minor": 0
      },
      "text/plain": [
       "  0%|          | 0/324 [00:00<?, ?it/s]"
      ]
     },
     "metadata": {},
     "output_type": "display_data"
    },
    {
     "name": "stdout",
     "output_type": "stream",
     "text": [
      "Num of Sample: 324\n",
      "Total Score: 0.0291\n",
      "------------------------------------------------------------------------------------------------------------------------\n"
     ]
    },
    {
     "data": {
      "application/vnd.jupyter.widget-view+json": {
       "model_id": "e285d1c2ef19444f98964ba1ba3886a5",
       "version_major": 2,
       "version_minor": 0
      },
      "text/plain": [
       "  0%|          | 0/501 [00:00<?, ?it/s]"
      ]
     },
     "metadata": {},
     "output_type": "display_data"
    },
    {
     "name": "stdout",
     "output_type": "stream",
     "text": [
      "Epoch : 8\n",
      "------------------------------------------------------------------------------------------------------------------------\n",
      "source: 지루하다, 놀러가고 싶어.\n",
      "answered: 고 있 는 이유 는 않 는 않 는 게 좋 겠 어요 .\n",
      "------------------------------------------------------------------------------------------------------------------------\n",
      "source: 오늘 일찍 일어났더니 피곤하다.\n",
      "answered: 후회 하 지 않 길 바랍니다 .\n",
      "------------------------------------------------------------------------------------------------------------------------\n",
      "source: 간만에 여자친구랑 데이트 하기로 했어.\n",
      "answered: 당신 은 그렇게 하 게 엄청 많 아요 .\n",
      "------------------------------------------------------------------------------------------------------------------------\n",
      "source: 집에 있는다는 소리야.\n",
      "answered: 맘 같 지 않 맘 같 집 맘 같 맘 같 맘 같 맘 같 집 같 맘 같 집 같 맘 같 맘 같 맘 같 집 같 집 같 집 같 집 같 집 같 맘 같 집 같 맘\n",
      "------------------------------------------------------------------------------------------------------------------------\n"
     ]
    },
    {
     "data": {
      "application/vnd.jupyter.widget-view+json": {
       "model_id": "8ca97ff227124100a7699825eb323c1e",
       "version_major": 2,
       "version_minor": 0
      },
      "text/plain": [
       "  0%|          | 0/324 [00:00<?, ?it/s]"
      ]
     },
     "metadata": {},
     "output_type": "display_data"
    },
    {
     "name": "stdout",
     "output_type": "stream",
     "text": [
      "Num of Sample: 324\n",
      "Total Score: 0.0358\n",
      "------------------------------------------------------------------------------------------------------------------------\n"
     ]
    },
    {
     "data": {
      "application/vnd.jupyter.widget-view+json": {
       "model_id": "c2936e32c4444591bdd3ff25b37ae25f",
       "version_major": 2,
       "version_minor": 0
      },
      "text/plain": [
       "  0%|          | 0/501 [00:00<?, ?it/s]"
      ]
     },
     "metadata": {},
     "output_type": "display_data"
    },
    {
     "name": "stdout",
     "output_type": "stream",
     "text": [
      "Epoch : 9\n",
      "------------------------------------------------------------------------------------------------------------------------\n",
      "source: 지루하다, 놀러가고 싶어.\n",
      "answered: 마세요 .\n",
      "------------------------------------------------------------------------------------------------------------------------\n",
      "source: 오늘 일찍 일어났더니 피곤하다.\n",
      "answered: 후회 만 더 힘내 세요 .\n",
      "------------------------------------------------------------------------------------------------------------------------\n",
      "source: 간만에 여자친구랑 데이트 하기로 했어.\n",
      "answered: 지금 은 그렇게 판단 이 에요 .\n",
      "------------------------------------------------------------------------------------------------------------------------\n",
      "source: 집에 있는다는 소리야.\n",
      "answered: 같이 살 고 싶 은 조심히 오 세요 .\n",
      "------------------------------------------------------------------------------------------------------------------------\n"
     ]
    },
    {
     "data": {
      "application/vnd.jupyter.widget-view+json": {
       "model_id": "0c6b6b2e4188462b9d1bcc78bb0274f1",
       "version_major": 2,
       "version_minor": 0
      },
      "text/plain": [
       "  0%|          | 0/324 [00:00<?, ?it/s]"
      ]
     },
     "metadata": {},
     "output_type": "display_data"
    },
    {
     "name": "stdout",
     "output_type": "stream",
     "text": [
      "Num of Sample: 324\n",
      "Total Score: 0.0336\n",
      "------------------------------------------------------------------------------------------------------------------------\n"
     ]
    },
    {
     "data": {
      "application/vnd.jupyter.widget-view+json": {
       "model_id": "c2f55360eb5948698faa70ceca50af49",
       "version_major": 2,
       "version_minor": 0
      },
      "text/plain": [
       "  0%|          | 0/501 [00:00<?, ?it/s]"
      ]
     },
     "metadata": {},
     "output_type": "display_data"
    },
    {
     "name": "stdout",
     "output_type": "stream",
     "text": [
      "Epoch : 10\n",
      "------------------------------------------------------------------------------------------------------------------------\n",
      "source: 지루하다, 놀러가고 싶어.\n",
      "answered: 고 싶 어요 .\n",
      "------------------------------------------------------------------------------------------------------------------------\n",
      "source: 오늘 일찍 일어났더니 피곤하다.\n",
      "answered: 조금 만 더 버텨 보 세요 .\n",
      "------------------------------------------------------------------------------------------------------------------------\n",
      "source: 간만에 여자친구랑 데이트 하기로 했어.\n",
      "answered: 지금 은 그렇게 할 수 있 을 거 예요 .\n",
      "------------------------------------------------------------------------------------------------------------------------\n",
      "source: 집에 있는다는 소리야.\n",
      "answered: 같이 살 고 싶 조심히 오 세요 .\n",
      "------------------------------------------------------------------------------------------------------------------------\n"
     ]
    },
    {
     "data": {
      "application/vnd.jupyter.widget-view+json": {
       "model_id": "07f7fd39c0214e26a3c2842db2fbd69e",
       "version_major": 2,
       "version_minor": 0
      },
      "text/plain": [
       "  0%|          | 0/324 [00:00<?, ?it/s]"
      ]
     },
     "metadata": {},
     "output_type": "display_data"
    },
    {
     "name": "stdout",
     "output_type": "stream",
     "text": [
      "Num of Sample: 324\n",
      "Total Score: 0.0325\n",
      "------------------------------------------------------------------------------------------------------------------------\n"
     ]
    },
    {
     "data": {
      "application/vnd.jupyter.widget-view+json": {
       "model_id": "5b053ab4e6024349a4d464142320c5b2",
       "version_major": 2,
       "version_minor": 0
      },
      "text/plain": [
       "  0%|          | 0/501 [00:00<?, ?it/s]"
      ]
     },
     "metadata": {},
     "output_type": "display_data"
    },
    {
     "name": "stdout",
     "output_type": "stream",
     "text": [
      "Epoch : 11\n",
      "------------------------------------------------------------------------------------------------------------------------\n",
      "source: 지루하다, 놀러가고 싶어.\n",
      "answered: 고 싶 어요 .\n",
      "------------------------------------------------------------------------------------------------------------------------\n",
      "source: 오늘 일찍 일어났더니 피곤하다.\n",
      "answered: 후회 가 만 있 다면 후회 가 되 겠 네요 .\n",
      "------------------------------------------------------------------------------------------------------------------------\n",
      "source: 간만에 여자친구랑 데이트 하기로 했어.\n",
      "answered: 당신 은 엄청 대로 사세요 .\n",
      "------------------------------------------------------------------------------------------------------------------------\n",
      "source: 집에 있는다는 소리야.\n",
      "answered: 같이 살 고 있 길 바랍니다 .\n",
      "------------------------------------------------------------------------------------------------------------------------\n"
     ]
    },
    {
     "data": {
      "application/vnd.jupyter.widget-view+json": {
       "model_id": "75f54058944b4d96a264276b7477ff14",
       "version_major": 2,
       "version_minor": 0
      },
      "text/plain": [
       "  0%|          | 0/324 [00:00<?, ?it/s]"
      ]
     },
     "metadata": {},
     "output_type": "display_data"
    },
    {
     "name": "stdout",
     "output_type": "stream",
     "text": [
      "Num of Sample: 324\n",
      "Total Score: 0.0319\n",
      "------------------------------------------------------------------------------------------------------------------------\n"
     ]
    },
    {
     "data": {
      "application/vnd.jupyter.widget-view+json": {
       "model_id": "f45848745af84aaabdf8bd6e373548aa",
       "version_major": 2,
       "version_minor": 0
      },
      "text/plain": [
       "  0%|          | 0/501 [00:00<?, ?it/s]"
      ]
     },
     "metadata": {},
     "output_type": "display_data"
    },
    {
     "name": "stdout",
     "output_type": "stream",
     "text": [
      "Epoch : 12\n",
      "------------------------------------------------------------------------------------------------------------------------\n",
      "source: 지루하다, 놀러가고 싶어.\n",
      "answered: 기에 싶 어요 .\n",
      "------------------------------------------------------------------------------------------------------------------------\n",
      "source: 오늘 일찍 일어났더니 피곤하다.\n",
      "answered: 후회 가 후회 가 후회 가 후회 가 있 을 거 예요 .\n",
      "------------------------------------------------------------------------------------------------------------------------\n",
      "source: 간만에 여자친구랑 데이트 하기로 했어.\n",
      "answered: 당신 은 태어난 그 에 도 충분히 좋 아요 .\n",
      "------------------------------------------------------------------------------------------------------------------------\n",
      "source: 집에 있는다는 소리야.\n",
      "answered: 같이 살 고 싶 은 나 들 이 집 에서 살 집 에서 집 에서 집 에서 집 에서 드려요 .\n",
      "------------------------------------------------------------------------------------------------------------------------\n"
     ]
    },
    {
     "data": {
      "application/vnd.jupyter.widget-view+json": {
       "model_id": "869e19935c414b9683fd76306c592b17",
       "version_major": 2,
       "version_minor": 0
      },
      "text/plain": [
       "  0%|          | 0/324 [00:00<?, ?it/s]"
      ]
     },
     "metadata": {},
     "output_type": "display_data"
    },
    {
     "name": "stdout",
     "output_type": "stream",
     "text": [
      "Num of Sample: 324\n",
      "Total Score: 0.0281\n",
      "------------------------------------------------------------------------------------------------------------------------\n"
     ]
    },
    {
     "data": {
      "application/vnd.jupyter.widget-view+json": {
       "model_id": "926466ca1e4b472f8ad17688de1779fe",
       "version_major": 2,
       "version_minor": 0
      },
      "text/plain": [
       "  0%|          | 0/501 [00:00<?, ?it/s]"
      ]
     },
     "metadata": {},
     "output_type": "display_data"
    },
    {
     "name": "stdout",
     "output_type": "stream",
     "text": [
      "Epoch : 13\n",
      "------------------------------------------------------------------------------------------------------------------------\n",
      "source: 지루하다, 놀러가고 싶어.\n",
      "answered: 상대방 이 가 는 편 이 나 봐요 .\n",
      "------------------------------------------------------------------------------------------------------------------------\n",
      "source: 오늘 일찍 일어났더니 피곤하다.\n",
      "answered: 후회 가 후회 가 후회 가 후회 가 있 을 거 예요 .\n",
      "------------------------------------------------------------------------------------------------------------------------\n",
      "source: 간만에 여자친구랑 데이트 하기로 했어.\n",
      "answered: 당신 은 태어난 이유 만 을 찾아보 세요 .\n",
      "------------------------------------------------------------------------------------------------------------------------\n",
      "source: 집에 있는다는 소리야.\n",
      "answered: 같이 내 집 마련 이 지요 .\n",
      "------------------------------------------------------------------------------------------------------------------------\n"
     ]
    },
    {
     "data": {
      "application/vnd.jupyter.widget-view+json": {
       "model_id": "19659a30cae743a1982bb072be64c045",
       "version_major": 2,
       "version_minor": 0
      },
      "text/plain": [
       "  0%|          | 0/324 [00:00<?, ?it/s]"
      ]
     },
     "metadata": {},
     "output_type": "display_data"
    },
    {
     "name": "stdout",
     "output_type": "stream",
     "text": [
      "Num of Sample: 324\n",
      "Total Score: 0.0301\n",
      "------------------------------------------------------------------------------------------------------------------------\n"
     ]
    },
    {
     "data": {
      "application/vnd.jupyter.widget-view+json": {
       "model_id": "6253b2a5f7cd4d97ab7539298f4d9e90",
       "version_major": 2,
       "version_minor": 0
      },
      "text/plain": [
       "  0%|          | 0/501 [00:00<?, ?it/s]"
      ]
     },
     "metadata": {},
     "output_type": "display_data"
    },
    {
     "name": "stdout",
     "output_type": "stream",
     "text": [
      "Epoch : 14\n",
      "------------------------------------------------------------------------------------------------------------------------\n",
      "source: 지루하다, 놀러가고 싶어.\n",
      "answered: 마세요 .\n",
      "------------------------------------------------------------------------------------------------------------------------\n",
      "source: 오늘 일찍 일어났더니 피곤하다.\n",
      "answered: 후회 가 있 을 거 예요 .\n",
      "------------------------------------------------------------------------------------------------------------------------\n",
      "source: 간만에 여자친구랑 데이트 하기로 했어.\n",
      "answered: 당신 은 태어난 그 에 만 으로 도 할 수 있 겠 네요 .\n",
      "------------------------------------------------------------------------------------------------------------------------\n",
      "source: 집에 있는다는 소리야.\n",
      "answered: 같이 살 편하 고 싶 죠 .\n",
      "------------------------------------------------------------------------------------------------------------------------\n"
     ]
    },
    {
     "data": {
      "application/vnd.jupyter.widget-view+json": {
       "model_id": "f7934cd189d74706849d1da3658014a6",
       "version_major": 2,
       "version_minor": 0
      },
      "text/plain": [
       "  0%|          | 0/324 [00:00<?, ?it/s]"
      ]
     },
     "metadata": {},
     "output_type": "display_data"
    },
    {
     "name": "stdout",
     "output_type": "stream",
     "text": [
      "Num of Sample: 324\n",
      "Total Score: 0.0300\n",
      "------------------------------------------------------------------------------------------------------------------------\n"
     ]
    },
    {
     "data": {
      "application/vnd.jupyter.widget-view+json": {
       "model_id": "7e6cadcca2114e84b77c8eb9eb3ff363",
       "version_major": 2,
       "version_minor": 0
      },
      "text/plain": [
       "  0%|          | 0/501 [00:00<?, ?it/s]"
      ]
     },
     "metadata": {},
     "output_type": "display_data"
    },
    {
     "name": "stdout",
     "output_type": "stream",
     "text": [
      "Epoch : 15\n",
      "------------------------------------------------------------------------------------------------------------------------\n",
      "source: 지루하다, 놀러가고 싶어.\n",
      "answered: 고 있 는 곳 으로 가 보 세요 .\n",
      "------------------------------------------------------------------------------------------------------------------------\n",
      "source: 오늘 일찍 일어났더니 피곤하다.\n",
      "answered: 후회 가 후회 오 길 바랍니다 .\n",
      "------------------------------------------------------------------------------------------------------------------------\n",
      "source: 간만에 여자친구랑 데이트 하기로 했어.\n",
      "answered: 당신 의 변명 이 었 던 걸 수 도 없 겠 어요 .\n",
      "------------------------------------------------------------------------------------------------------------------------\n",
      "source: 집에 있는다는 소리야.\n",
      "answered: 같이 살 고 싶 은 사람 이 있 나 봐요 .\n",
      "------------------------------------------------------------------------------------------------------------------------\n"
     ]
    },
    {
     "data": {
      "application/vnd.jupyter.widget-view+json": {
       "model_id": "c1fef75dc74f4e23b77b1ab9e92600f7",
       "version_major": 2,
       "version_minor": 0
      },
      "text/plain": [
       "  0%|          | 0/324 [00:00<?, ?it/s]"
      ]
     },
     "metadata": {},
     "output_type": "display_data"
    },
    {
     "name": "stdout",
     "output_type": "stream",
     "text": [
      "Num of Sample: 324\n",
      "Total Score: 0.0309\n",
      "------------------------------------------------------------------------------------------------------------------------\n"
     ]
    },
    {
     "data": {
      "application/vnd.jupyter.widget-view+json": {
       "model_id": "74f30c1e2bbc402c908281a5d1c6ceed",
       "version_major": 2,
       "version_minor": 0
      },
      "text/plain": [
       "  0%|          | 0/501 [00:00<?, ?it/s]"
      ]
     },
     "metadata": {},
     "output_type": "display_data"
    },
    {
     "name": "stdout",
     "output_type": "stream",
     "text": [
      "Epoch : 16\n",
      "------------------------------------------------------------------------------------------------------------------------\n",
      "source: 지루하다, 놀러가고 싶어.\n",
      "answered: 상대방 이 부담 스럽 지 않 아요 .\n",
      "------------------------------------------------------------------------------------------------------------------------\n",
      "source: 오늘 일찍 일어났더니 피곤하다.\n",
      "answered: 후회 가 있 을 거 예요 .\n",
      "------------------------------------------------------------------------------------------------------------------------\n",
      "source: 간만에 여자친구랑 데이트 하기로 했어.\n",
      "answered: 당신 은 대로 할 거 예요 .\n",
      "------------------------------------------------------------------------------------------------------------------------\n",
      "source: 집에 있는다는 소리야.\n",
      "answered: 같이 살 고 싶 은 시간 이 내 요 .\n",
      "------------------------------------------------------------------------------------------------------------------------\n"
     ]
    },
    {
     "data": {
      "application/vnd.jupyter.widget-view+json": {
       "model_id": "8fcb8e3ccf9047cabcbca0e4f48c5824",
       "version_major": 2,
       "version_minor": 0
      },
      "text/plain": [
       "  0%|          | 0/324 [00:00<?, ?it/s]"
      ]
     },
     "metadata": {},
     "output_type": "display_data"
    },
    {
     "name": "stdout",
     "output_type": "stream",
     "text": [
      "Num of Sample: 324\n",
      "Total Score: 0.0307\n",
      "------------------------------------------------------------------------------------------------------------------------\n"
     ]
    },
    {
     "data": {
      "application/vnd.jupyter.widget-view+json": {
       "model_id": "a09053e21c3040cdad73201f21d87598",
       "version_major": 2,
       "version_minor": 0
      },
      "text/plain": [
       "  0%|          | 0/501 [00:00<?, ?it/s]"
      ]
     },
     "metadata": {},
     "output_type": "display_data"
    },
    {
     "name": "stdout",
     "output_type": "stream",
     "text": [
      "Epoch : 17\n",
      "------------------------------------------------------------------------------------------------------------------------\n",
      "source: 지루하다, 놀러가고 싶어.\n",
      "answered: 는 대로 가 는 단계 인가 봐요 .\n",
      "------------------------------------------------------------------------------------------------------------------------\n",
      "source: 오늘 일찍 일어났더니 피곤하다.\n",
      "answered: 후회 가 있 을 거 예요 .\n",
      "------------------------------------------------------------------------------------------------------------------------\n",
      "source: 간만에 여자친구랑 데이트 하기로 했어.\n",
      "answered: 당신 은 생각 이 나 를 거 같 아요 .\n",
      "------------------------------------------------------------------------------------------------------------------------\n",
      "source: 집에 있는다는 소리야.\n",
      "answered: 같이 살 고 싶 은 사람 이 있 나 봐요 .\n",
      "------------------------------------------------------------------------------------------------------------------------\n"
     ]
    },
    {
     "data": {
      "application/vnd.jupyter.widget-view+json": {
       "model_id": "c3d95d69619848b5a5049caf86459d01",
       "version_major": 2,
       "version_minor": 0
      },
      "text/plain": [
       "  0%|          | 0/324 [00:00<?, ?it/s]"
      ]
     },
     "metadata": {},
     "output_type": "display_data"
    },
    {
     "name": "stdout",
     "output_type": "stream",
     "text": [
      "Num of Sample: 324\n",
      "Total Score: 0.0341\n",
      "------------------------------------------------------------------------------------------------------------------------\n"
     ]
    },
    {
     "data": {
      "application/vnd.jupyter.widget-view+json": {
       "model_id": "e777b6c8760d499c93742e81b19851bf",
       "version_major": 2,
       "version_minor": 0
      },
      "text/plain": [
       "  0%|          | 0/501 [00:00<?, ?it/s]"
      ]
     },
     "metadata": {},
     "output_type": "display_data"
    },
    {
     "name": "stdout",
     "output_type": "stream",
     "text": [
      "Epoch : 18\n",
      "------------------------------------------------------------------------------------------------------------------------\n",
      "source: 지루하다, 놀러가고 싶어.\n",
      "answered: 받 는 것 보다 좋 은 거 예요 .\n",
      "------------------------------------------------------------------------------------------------------------------------\n",
      "source: 오늘 일찍 일어났더니 피곤하다.\n",
      "answered: 후회 가 있 었 나 봐요 .\n",
      "------------------------------------------------------------------------------------------------------------------------\n",
      "source: 간만에 여자친구랑 데이트 하기로 했어.\n",
      "answered: 당신 은 판단 이 나 도 하 게 하 세요 .\n",
      "------------------------------------------------------------------------------------------------------------------------\n",
      "source: 집에 있는다는 소리야.\n",
      "answered: 집 에서 같이 살 고 집 마련 이 가지 ㅂ시오 .\n",
      "------------------------------------------------------------------------------------------------------------------------\n"
     ]
    },
    {
     "data": {
      "application/vnd.jupyter.widget-view+json": {
       "model_id": "8441d132758c4fa8823c1f474f05643b",
       "version_major": 2,
       "version_minor": 0
      },
      "text/plain": [
       "  0%|          | 0/324 [00:00<?, ?it/s]"
      ]
     },
     "metadata": {},
     "output_type": "display_data"
    },
    {
     "name": "stdout",
     "output_type": "stream",
     "text": [
      "Num of Sample: 324\n",
      "Total Score: 0.0294\n",
      "------------------------------------------------------------------------------------------------------------------------\n"
     ]
    },
    {
     "data": {
      "application/vnd.jupyter.widget-view+json": {
       "model_id": "9332e37b7fc94e7b8b22719565eaa7f5",
       "version_major": 2,
       "version_minor": 0
      },
      "text/plain": [
       "  0%|          | 0/501 [00:00<?, ?it/s]"
      ]
     },
     "metadata": {},
     "output_type": "display_data"
    },
    {
     "name": "stdout",
     "output_type": "stream",
     "text": [
      "Epoch : 19\n",
      "------------------------------------------------------------------------------------------------------------------------\n",
      "source: 지루하다, 놀러가고 싶어.\n",
      "answered: 고 싶 은 대로 시키 세요 .\n",
      "------------------------------------------------------------------------------------------------------------------------\n",
      "source: 오늘 일찍 일어났더니 피곤하다.\n",
      "answered: 조금 만이 더 예요 .\n",
      "------------------------------------------------------------------------------------------------------------------------\n",
      "source: 간만에 여자친구랑 데이트 하기로 했어.\n",
      "answered: 당신 은 사랑 만 은 거 예요 .\n",
      "------------------------------------------------------------------------------------------------------------------------\n",
      "source: 집에 있는다는 소리야.\n",
      "answered: 가지 마요 .\n",
      "------------------------------------------------------------------------------------------------------------------------\n"
     ]
    },
    {
     "data": {
      "application/vnd.jupyter.widget-view+json": {
       "model_id": "42f7eda200064c459d403343e75bd69a",
       "version_major": 2,
       "version_minor": 0
      },
      "text/plain": [
       "  0%|          | 0/324 [00:00<?, ?it/s]"
      ]
     },
     "metadata": {},
     "output_type": "display_data"
    },
    {
     "name": "stdout",
     "output_type": "stream",
     "text": [
      "Num of Sample: 324\n",
      "Total Score: 0.0307\n",
      "------------------------------------------------------------------------------------------------------------------------\n"
     ]
    },
    {
     "data": {
      "application/vnd.jupyter.widget-view+json": {
       "model_id": "909eb7db37a54384aca8e1db339cf987",
       "version_major": 2,
       "version_minor": 0
      },
      "text/plain": [
       "  0%|          | 0/501 [00:00<?, ?it/s]"
      ]
     },
     "metadata": {},
     "output_type": "display_data"
    },
    {
     "name": "stdout",
     "output_type": "stream",
     "text": [
      "Epoch : 20\n",
      "------------------------------------------------------------------------------------------------------------------------\n",
      "source: 지루하다, 놀러가고 싶어.\n",
      "answered: 힘든 시간 이 었 겠 어요 .\n",
      "------------------------------------------------------------------------------------------------------------------------\n",
      "source: 오늘 일찍 일어났더니 피곤하다.\n",
      "answered: 후회 가 있 을 거 예요 .\n",
      "------------------------------------------------------------------------------------------------------------------------\n",
      "source: 간만에 여자친구랑 데이트 하기로 했어.\n",
      "answered: 당신 은 생각 이 나 를 거 예요 .\n",
      "------------------------------------------------------------------------------------------------------------------------\n",
      "source: 집에 있는다는 소리야.\n",
      "answered: 조심히 오 세요 .\n",
      "------------------------------------------------------------------------------------------------------------------------\n"
     ]
    },
    {
     "data": {
      "application/vnd.jupyter.widget-view+json": {
       "model_id": "44bb127ffc9c45ebaecb343be4b2f893",
       "version_major": 2,
       "version_minor": 0
      },
      "text/plain": [
       "  0%|          | 0/324 [00:00<?, ?it/s]"
      ]
     },
     "metadata": {},
     "output_type": "display_data"
    },
    {
     "name": "stdout",
     "output_type": "stream",
     "text": [
      "Num of Sample: 324\n",
      "Total Score: 0.0332\n",
      "------------------------------------------------------------------------------------------------------------------------\n"
     ]
    },
    {
     "data": {
      "application/vnd.jupyter.widget-view+json": {
       "model_id": "207b3046262b40aba211a6a4572fb523",
       "version_major": 2,
       "version_minor": 0
      },
      "text/plain": [
       "  0%|          | 0/501 [00:00<?, ?it/s]"
      ]
     },
     "metadata": {},
     "output_type": "display_data"
    },
    {
     "name": "stdout",
     "output_type": "stream",
     "text": [
      "Epoch : 21\n",
      "------------------------------------------------------------------------------------------------------------------------\n",
      "source: 지루하다, 놀러가고 싶어.\n",
      "answered: 바로 잊 기 는 휴식 이 죠 .\n",
      "------------------------------------------------------------------------------------------------------------------------\n",
      "source: 오늘 일찍 일어났더니 피곤하다.\n",
      "answered: 후회 가 있 을 거 예요 .\n",
      "------------------------------------------------------------------------------------------------------------------------\n",
      "source: 간만에 여자친구랑 데이트 하기로 했어.\n",
      "answered: 당신 은 자신 을 알 다가 도 모르 겠 어요 .\n",
      "------------------------------------------------------------------------------------------------------------------------\n",
      "source: 집에 있는다는 소리야.\n",
      "answered: 같이 살 고 싶 은 사람 이 들 이 같이 살 편하 가지 고 싶 지요 .\n",
      "------------------------------------------------------------------------------------------------------------------------\n"
     ]
    },
    {
     "data": {
      "application/vnd.jupyter.widget-view+json": {
       "model_id": "beaa1a04dbeb40a18b448bf45ea2ad2b",
       "version_major": 2,
       "version_minor": 0
      },
      "text/plain": [
       "  0%|          | 0/324 [00:00<?, ?it/s]"
      ]
     },
     "metadata": {},
     "output_type": "display_data"
    },
    {
     "name": "stdout",
     "output_type": "stream",
     "text": [
      "Num of Sample: 324\n",
      "Total Score: 0.0317\n",
      "------------------------------------------------------------------------------------------------------------------------\n"
     ]
    },
    {
     "data": {
      "application/vnd.jupyter.widget-view+json": {
       "model_id": "a64b401385ba432ba00da8aba61f1c1f",
       "version_major": 2,
       "version_minor": 0
      },
      "text/plain": [
       "  0%|          | 0/501 [00:00<?, ?it/s]"
      ]
     },
     "metadata": {},
     "output_type": "display_data"
    },
    {
     "name": "stdout",
     "output_type": "stream",
     "text": [
      "Epoch : 22\n",
      "------------------------------------------------------------------------------------------------------------------------\n",
      "source: 지루하다, 놀러가고 싶어.\n",
      "answered: 바로 잊 는 편 이 나 봐요 .\n",
      "------------------------------------------------------------------------------------------------------------------------\n",
      "source: 오늘 일찍 일어났더니 피곤하다.\n",
      "answered: 후회 만 있 을 거 예요 .\n",
      "------------------------------------------------------------------------------------------------------------------------\n",
      "source: 간만에 여자친구랑 데이트 하기로 했어.\n",
      "answered: 충분히 스스로 극복 할 수 있 을 거 예요 .\n",
      "------------------------------------------------------------------------------------------------------------------------\n",
      "source: 집에 있는다는 소리야.\n",
      "answered: 같이 살 편하 고 싶 은 사람 이 들 이 요 .\n",
      "------------------------------------------------------------------------------------------------------------------------\n"
     ]
    },
    {
     "data": {
      "application/vnd.jupyter.widget-view+json": {
       "model_id": "f481dc92f8734b73b83f196bcaf77951",
       "version_major": 2,
       "version_minor": 0
      },
      "text/plain": [
       "  0%|          | 0/324 [00:00<?, ?it/s]"
      ]
     },
     "metadata": {},
     "output_type": "display_data"
    },
    {
     "name": "stdout",
     "output_type": "stream",
     "text": [
      "Num of Sample: 324\n",
      "Total Score: 0.0355\n",
      "------------------------------------------------------------------------------------------------------------------------\n"
     ]
    },
    {
     "data": {
      "application/vnd.jupyter.widget-view+json": {
       "model_id": "5229160a2ded46dca944be51ac3f991e",
       "version_major": 2,
       "version_minor": 0
      },
      "text/plain": [
       "  0%|          | 0/501 [00:00<?, ?it/s]"
      ]
     },
     "metadata": {},
     "output_type": "display_data"
    },
    {
     "name": "stdout",
     "output_type": "stream",
     "text": [
      "Epoch : 23\n",
      "------------------------------------------------------------------------------------------------------------------------\n",
      "source: 지루하다, 놀러가고 싶어.\n",
      "answered: 바로 잊 기 는 못하 은 항상 사랑 이 내 세요 .\n",
      "------------------------------------------------------------------------------------------------------------------------\n",
      "source: 오늘 일찍 일어났더니 피곤하다.\n",
      "answered: 후회 가 있 을 거 예요 .\n",
      "------------------------------------------------------------------------------------------------------------------------\n",
      "source: 간만에 여자친구랑 데이트 하기로 했어.\n",
      "answered: 당신 은 시작 이 되 길 바랍니다 .\n",
      "------------------------------------------------------------------------------------------------------------------------\n",
      "source: 집에 있는다는 소리야.\n",
      "answered: 조심히 오 세요 .\n",
      "------------------------------------------------------------------------------------------------------------------------\n"
     ]
    },
    {
     "data": {
      "application/vnd.jupyter.widget-view+json": {
       "model_id": "9b9125c884fa41578e221551cae18a0d",
       "version_major": 2,
       "version_minor": 0
      },
      "text/plain": [
       "  0%|          | 0/324 [00:00<?, ?it/s]"
      ]
     },
     "metadata": {},
     "output_type": "display_data"
    },
    {
     "name": "stdout",
     "output_type": "stream",
     "text": [
      "Num of Sample: 324\n",
      "Total Score: 0.0312\n",
      "------------------------------------------------------------------------------------------------------------------------\n"
     ]
    },
    {
     "data": {
      "application/vnd.jupyter.widget-view+json": {
       "model_id": "5b981fd8406a4ec8b8f8dc8dd6e53409",
       "version_major": 2,
       "version_minor": 0
      },
      "text/plain": [
       "  0%|          | 0/501 [00:00<?, ?it/s]"
      ]
     },
     "metadata": {},
     "output_type": "display_data"
    },
    {
     "name": "stdout",
     "output_type": "stream",
     "text": [
      "Epoch : 24\n",
      "------------------------------------------------------------------------------------------------------------------------\n",
      "source: 지루하다, 놀러가고 싶어.\n",
      "answered: 으면 좋 겠 어요 .\n",
      "------------------------------------------------------------------------------------------------------------------------\n",
      "source: 오늘 일찍 일어났더니 피곤하다.\n",
      "answered: 후회 가 있 을 거 예요 .\n",
      "------------------------------------------------------------------------------------------------------------------------\n",
      "source: 간만에 여자친구랑 데이트 하기로 했어.\n",
      "answered: 어떤 이별 이 든 후폭풍 이 필요 하 겠 죠 .\n",
      "------------------------------------------------------------------------------------------------------------------------\n",
      "source: 집에 있는다는 소리야.\n",
      "answered: 같이 살 고 싶 은 사람 이 있 나 봐요 .\n",
      "------------------------------------------------------------------------------------------------------------------------\n"
     ]
    },
    {
     "data": {
      "application/vnd.jupyter.widget-view+json": {
       "model_id": "892a8f816c34475fa49c9c2bcc37c17e",
       "version_major": 2,
       "version_minor": 0
      },
      "text/plain": [
       "  0%|          | 0/324 [00:00<?, ?it/s]"
      ]
     },
     "metadata": {},
     "output_type": "display_data"
    },
    {
     "name": "stdout",
     "output_type": "stream",
     "text": [
      "Num of Sample: 324\n",
      "Total Score: 0.0280\n",
      "------------------------------------------------------------------------------------------------------------------------\n"
     ]
    },
    {
     "data": {
      "application/vnd.jupyter.widget-view+json": {
       "model_id": "09b1414b15e147d193698adc750a6ad0",
       "version_major": 2,
       "version_minor": 0
      },
      "text/plain": [
       "  0%|          | 0/501 [00:00<?, ?it/s]"
      ]
     },
     "metadata": {},
     "output_type": "display_data"
    },
    {
     "name": "stdout",
     "output_type": "stream",
     "text": [
      "Epoch : 25\n",
      "------------------------------------------------------------------------------------------------------------------------\n",
      "source: 지루하다, 놀러가고 싶어.\n",
      "answered: 이에 는 편 이 나 봐요 .\n",
      "------------------------------------------------------------------------------------------------------------------------\n",
      "source: 오늘 일찍 일어났더니 피곤하다.\n",
      "answered: 후회 가 있 을 거 예요 .\n",
      "------------------------------------------------------------------------------------------------------------------------\n",
      "source: 간만에 여자친구랑 데이트 하기로 했어.\n",
      "answered: 당신 은 생각 만 하 지 말 아요 .\n",
      "------------------------------------------------------------------------------------------------------------------------\n",
      "source: 집에 있는다는 소리야.\n",
      "answered: 같이 살 고 싶 은 사람 들 이 요 .\n",
      "------------------------------------------------------------------------------------------------------------------------\n"
     ]
    },
    {
     "data": {
      "application/vnd.jupyter.widget-view+json": {
       "model_id": "14b33d1f3a48451a9786ad9b3654fa28",
       "version_major": 2,
       "version_minor": 0
      },
      "text/plain": [
       "  0%|          | 0/324 [00:00<?, ?it/s]"
      ]
     },
     "metadata": {},
     "output_type": "display_data"
    },
    {
     "name": "stdout",
     "output_type": "stream",
     "text": [
      "Num of Sample: 324\n",
      "Total Score: 0.0363\n",
      "------------------------------------------------------------------------------------------------------------------------\n"
     ]
    },
    {
     "data": {
      "application/vnd.jupyter.widget-view+json": {
       "model_id": "75aa9ae4e9c74239af4431dff2f248fb",
       "version_major": 2,
       "version_minor": 0
      },
      "text/plain": [
       "  0%|          | 0/501 [00:00<?, ?it/s]"
      ]
     },
     "metadata": {},
     "output_type": "display_data"
    },
    {
     "name": "stdout",
     "output_type": "stream",
     "text": [
      "Epoch : 26\n",
      "------------------------------------------------------------------------------------------------------------------------\n",
      "source: 지루하다, 놀러가고 싶어.\n",
      "answered: 기에 싶 은 일 에 는 것 는데\n",
      "------------------------------------------------------------------------------------------------------------------------\n",
      "source: 오늘 일찍 일어났더니 피곤하다.\n",
      "answered: 후회 가 있 었 는지 후회 가 되 나 봐요 .\n",
      "------------------------------------------------------------------------------------------------------------------------\n",
      "source: 간만에 여자친구랑 데이트 하기로 했어.\n",
      "answered: 당신 은 경험 이 되 지 도 몰라요 .\n",
      "------------------------------------------------------------------------------------------------------------------------\n",
      "source: 집에 있는다는 소리야.\n",
      "answered: 같이 살 고 싶 은 사람 이 있 나 봐요 .\n",
      "------------------------------------------------------------------------------------------------------------------------\n"
     ]
    },
    {
     "data": {
      "application/vnd.jupyter.widget-view+json": {
       "model_id": "ec542989489e4b43a82f139ef4cf9e6c",
       "version_major": 2,
       "version_minor": 0
      },
      "text/plain": [
       "  0%|          | 0/324 [00:00<?, ?it/s]"
      ]
     },
     "metadata": {},
     "output_type": "display_data"
    },
    {
     "name": "stdout",
     "output_type": "stream",
     "text": [
      "Num of Sample: 324\n",
      "Total Score: 0.0290\n",
      "------------------------------------------------------------------------------------------------------------------------\n"
     ]
    },
    {
     "data": {
      "application/vnd.jupyter.widget-view+json": {
       "model_id": "299b45cbe727457e8d90df1943804273",
       "version_major": 2,
       "version_minor": 0
      },
      "text/plain": [
       "  0%|          | 0/501 [00:00<?, ?it/s]"
      ]
     },
     "metadata": {},
     "output_type": "display_data"
    },
    {
     "name": "stdout",
     "output_type": "stream",
     "text": [
      "Epoch : 27\n",
      "------------------------------------------------------------------------------------------------------------------------\n",
      "source: 지루하다, 놀러가고 싶어.\n",
      "answered: 바로 바로 바로 바로 바로 바로 바로 봐요 .\n",
      "------------------------------------------------------------------------------------------------------------------------\n",
      "source: 오늘 일찍 일어났더니 피곤하다.\n",
      "answered: 후회 가 있 었 는지 확인 해 보 세요 .\n",
      "------------------------------------------------------------------------------------------------------------------------\n",
      "source: 간만에 여자친구랑 데이트 하기로 했어.\n",
      "answered: 충분 한 대화 를 나눠 보 세요 .\n",
      "------------------------------------------------------------------------------------------------------------------------\n",
      "source: 집에 있는다는 소리야.\n",
      "answered: 편 이 좋 겠 지요 .\n",
      "------------------------------------------------------------------------------------------------------------------------\n"
     ]
    },
    {
     "data": {
      "application/vnd.jupyter.widget-view+json": {
       "model_id": "632b9d18aa0c43ffb08e137c19ec8ab2",
       "version_major": 2,
       "version_minor": 0
      },
      "text/plain": [
       "  0%|          | 0/324 [00:00<?, ?it/s]"
      ]
     },
     "metadata": {},
     "output_type": "display_data"
    },
    {
     "name": "stdout",
     "output_type": "stream",
     "text": [
      "Num of Sample: 324\n",
      "Total Score: 0.0306\n",
      "------------------------------------------------------------------------------------------------------------------------\n"
     ]
    },
    {
     "data": {
      "application/vnd.jupyter.widget-view+json": {
       "model_id": "ff047e250bcd4cd2a7827ee4755734f1",
       "version_major": 2,
       "version_minor": 0
      },
      "text/plain": [
       "  0%|          | 0/501 [00:00<?, ?it/s]"
      ]
     },
     "metadata": {},
     "output_type": "display_data"
    },
    {
     "name": "stdout",
     "output_type": "stream",
     "text": [
      "Epoch : 28\n",
      "------------------------------------------------------------------------------------------------------------------------\n",
      "source: 지루하다, 놀러가고 싶어.\n",
      "answered: 바로 사랑 하 고 있 어요 .\n",
      "------------------------------------------------------------------------------------------------------------------------\n",
      "source: 오늘 일찍 일어났더니 피곤하다.\n",
      "answered: 후회 하 기 전 에 후회 가 있 을 거 예요 .\n",
      "------------------------------------------------------------------------------------------------------------------------\n",
      "source: 간만에 여자친구랑 데이트 하기로 했어.\n",
      "answered: 충분히 스스로 도 당신 의 삶 을 거 예요 .\n",
      "------------------------------------------------------------------------------------------------------------------------\n",
      "source: 집에 있는다는 소리야.\n",
      "answered: 집 이 최고 편하 고 집 마련 이 편하 집 이 편하 겠 죠 .\n",
      "------------------------------------------------------------------------------------------------------------------------\n"
     ]
    },
    {
     "data": {
      "application/vnd.jupyter.widget-view+json": {
       "model_id": "654d9e0ceaff4749a162aa5baabe86a6",
       "version_major": 2,
       "version_minor": 0
      },
      "text/plain": [
       "  0%|          | 0/324 [00:00<?, ?it/s]"
      ]
     },
     "metadata": {},
     "output_type": "display_data"
    },
    {
     "name": "stdout",
     "output_type": "stream",
     "text": [
      "Num of Sample: 324\n",
      "Total Score: 0.0334\n",
      "------------------------------------------------------------------------------------------------------------------------\n"
     ]
    },
    {
     "data": {
      "application/vnd.jupyter.widget-view+json": {
       "model_id": "d1a6911fa1684a048768dbf8a4e30e7b",
       "version_major": 2,
       "version_minor": 0
      },
      "text/plain": [
       "  0%|          | 0/501 [00:00<?, ?it/s]"
      ]
     },
     "metadata": {},
     "output_type": "display_data"
    },
    {
     "name": "stdout",
     "output_type": "stream",
     "text": [
      "Epoch : 29\n",
      "------------------------------------------------------------------------------------------------------------------------\n",
      "source: 지루하다, 놀러가고 싶어.\n",
      "answered: 마세요 .\n",
      "------------------------------------------------------------------------------------------------------------------------\n",
      "source: 오늘 일찍 일어났더니 피곤하다.\n",
      "answered: 후회 가 있 을 거 예요 .\n",
      "------------------------------------------------------------------------------------------------------------------------\n",
      "source: 간만에 여자친구랑 데이트 하기로 했어.\n",
      "answered: 당신 은 그렇게 하 게 하 게 하 세요 .\n",
      "------------------------------------------------------------------------------------------------------------------------\n",
      "source: 집에 있는다는 소리야.\n",
      "answered: 같이 살 고 싶 은 사람 이 조심히 오 세요 .\n",
      "------------------------------------------------------------------------------------------------------------------------\n"
     ]
    },
    {
     "data": {
      "application/vnd.jupyter.widget-view+json": {
       "model_id": "769c4f6c43b14d619e59962257fa25ee",
       "version_major": 2,
       "version_minor": 0
      },
      "text/plain": [
       "  0%|          | 0/324 [00:00<?, ?it/s]"
      ]
     },
     "metadata": {},
     "output_type": "display_data"
    },
    {
     "name": "stdout",
     "output_type": "stream",
     "text": [
      "Num of Sample: 324\n",
      "Total Score: 0.0353\n",
      "------------------------------------------------------------------------------------------------------------------------\n"
     ]
    },
    {
     "data": {
      "application/vnd.jupyter.widget-view+json": {
       "model_id": "df0640b21b8b4102ac5dbd6cda7bfc13",
       "version_major": 2,
       "version_minor": 0
      },
      "text/plain": [
       "  0%|          | 0/501 [00:00<?, ?it/s]"
      ]
     },
     "metadata": {},
     "output_type": "display_data"
    },
    {
     "name": "stdout",
     "output_type": "stream",
     "text": [
      "Epoch : 30\n",
      "------------------------------------------------------------------------------------------------------------------------\n",
      "source: 지루하다, 놀러가고 싶어.\n",
      "answered: 고 있 는 것 이 에요 .\n",
      "------------------------------------------------------------------------------------------------------------------------\n",
      "source: 오늘 일찍 일어났더니 피곤하다.\n",
      "answered: 후회 가 되 었 다니 감사 합니다 .\n",
      "------------------------------------------------------------------------------------------------------------------------\n",
      "source: 간만에 여자친구랑 데이트 하기로 했어.\n",
      "answered: 충분히 스스로 극복 할 수 있 을 거 예요 .\n",
      "------------------------------------------------------------------------------------------------------------------------\n",
      "source: 집에 있는다는 소리야.\n",
      "answered: 조심히 오 세요 .\n",
      "------------------------------------------------------------------------------------------------------------------------\n"
     ]
    },
    {
     "data": {
      "application/vnd.jupyter.widget-view+json": {
       "model_id": "e1f75c7cd0f148d783f75fdd35919c02",
       "version_major": 2,
       "version_minor": 0
      },
      "text/plain": [
       "  0%|          | 0/324 [00:00<?, ?it/s]"
      ]
     },
     "metadata": {},
     "output_type": "display_data"
    },
    {
     "name": "stdout",
     "output_type": "stream",
     "text": [
      "Num of Sample: 324\n",
      "Total Score: 0.0303\n",
      "------------------------------------------------------------------------------------------------------------------------\n"
     ]
    },
    {
     "data": {
      "application/vnd.jupyter.widget-view+json": {
       "model_id": "ac9951234f864fe8abfd19916581d52a",
       "version_major": 2,
       "version_minor": 0
      },
      "text/plain": [
       "  0%|          | 0/501 [00:00<?, ?it/s]"
      ]
     },
     "metadata": {},
     "output_type": "display_data"
    },
    {
     "name": "stdout",
     "output_type": "stream",
     "text": [
      "Epoch : 31\n",
      "------------------------------------------------------------------------------------------------------------------------\n",
      "source: 지루하다, 놀러가고 싶어.\n",
      "answered: 는 편 이 좋 겠 어요 는데\n",
      "------------------------------------------------------------------------------------------------------------------------\n",
      "source: 오늘 일찍 일어났더니 피곤하다.\n",
      "answered: 후회 안 됐 었 어요 .\n",
      "------------------------------------------------------------------------------------------------------------------------\n",
      "source: 간만에 여자친구랑 데이트 하기로 했어.\n",
      "answered: 충분히 스스로 만 은데 아직 도 당신 의 삶 이 은데 거 예요 .\n",
      "------------------------------------------------------------------------------------------------------------------------\n",
      "source: 집에 있는다는 소리야.\n",
      "answered: 같이 살 고 싶 은 사람 이 곁 에 같이 살 아요 .\n",
      "------------------------------------------------------------------------------------------------------------------------\n"
     ]
    },
    {
     "data": {
      "application/vnd.jupyter.widget-view+json": {
       "model_id": "d638ca4357244f319d396c540a5bf05e",
       "version_major": 2,
       "version_minor": 0
      },
      "text/plain": [
       "  0%|          | 0/324 [00:00<?, ?it/s]"
      ]
     },
     "metadata": {},
     "output_type": "display_data"
    },
    {
     "name": "stdout",
     "output_type": "stream",
     "text": [
      "Num of Sample: 324\n",
      "Total Score: 0.0310\n",
      "------------------------------------------------------------------------------------------------------------------------\n"
     ]
    },
    {
     "data": {
      "application/vnd.jupyter.widget-view+json": {
       "model_id": "32c8255aacd64af38add0bf0bc15f15e",
       "version_major": 2,
       "version_minor": 0
      },
      "text/plain": [
       "  0%|          | 0/501 [00:00<?, ?it/s]"
      ]
     },
     "metadata": {},
     "output_type": "display_data"
    },
    {
     "name": "stdout",
     "output_type": "stream",
     "text": [
      "Epoch : 32\n",
      "------------------------------------------------------------------------------------------------------------------------\n",
      "source: 지루하다, 놀러가고 싶어.\n",
      "answered: 마세요 는데\n",
      "------------------------------------------------------------------------------------------------------------------------\n",
      "source: 오늘 일찍 일어났더니 피곤하다.\n",
      "answered: 후회 하 지 마요 .\n",
      "------------------------------------------------------------------------------------------------------------------------\n",
      "source: 간만에 여자친구랑 데이트 하기로 했어.\n",
      "answered: 어떤 이별 이 든 후폭풍 이 필요 하 겠 네요 .\n",
      "------------------------------------------------------------------------------------------------------------------------\n",
      "source: 집에 있는다는 소리야.\n",
      "answered: 집 이 최고 죠 .\n",
      "------------------------------------------------------------------------------------------------------------------------\n"
     ]
    },
    {
     "data": {
      "application/vnd.jupyter.widget-view+json": {
       "model_id": "a90a5ddab3c84b65939c6e9a5540f406",
       "version_major": 2,
       "version_minor": 0
      },
      "text/plain": [
       "  0%|          | 0/324 [00:00<?, ?it/s]"
      ]
     },
     "metadata": {},
     "output_type": "display_data"
    },
    {
     "name": "stdout",
     "output_type": "stream",
     "text": [
      "Num of Sample: 324\n",
      "Total Score: 0.0289\n",
      "------------------------------------------------------------------------------------------------------------------------\n"
     ]
    },
    {
     "data": {
      "application/vnd.jupyter.widget-view+json": {
       "model_id": "2e290110fbe1449ab1af6a4c331a7398",
       "version_major": 2,
       "version_minor": 0
      },
      "text/plain": [
       "  0%|          | 0/501 [00:00<?, ?it/s]"
      ]
     },
     "metadata": {},
     "output_type": "display_data"
    },
    {
     "name": "stdout",
     "output_type": "stream",
     "text": [
      "Epoch : 33\n",
      "------------------------------------------------------------------------------------------------------------------------\n",
      "source: 지루하다, 놀러가고 싶어.\n",
      "answered: 사랑 에 는 마세요 는데\n",
      "------------------------------------------------------------------------------------------------------------------------\n",
      "source: 오늘 일찍 일어났더니 피곤하다.\n",
      "answered: 후회 만 있 을 거 예요 .\n",
      "------------------------------------------------------------------------------------------------------------------------\n",
      "source: 간만에 여자친구랑 데이트 하기로 했어.\n",
      "answered: 충분히 힘들 어요 .\n",
      "------------------------------------------------------------------------------------------------------------------------\n",
      "source: 집에 있는다는 소리야.\n",
      "answered: 집 이 맘 편하 고 싶 나 집 이 있 나 봐요 .\n",
      "------------------------------------------------------------------------------------------------------------------------\n"
     ]
    },
    {
     "data": {
      "application/vnd.jupyter.widget-view+json": {
       "model_id": "a679136cdc5d4f6fb88f92090b9e0942",
       "version_major": 2,
       "version_minor": 0
      },
      "text/plain": [
       "  0%|          | 0/324 [00:00<?, ?it/s]"
      ]
     },
     "metadata": {},
     "output_type": "display_data"
    },
    {
     "name": "stdout",
     "output_type": "stream",
     "text": [
      "Num of Sample: 324\n",
      "Total Score: 0.0322\n",
      "------------------------------------------------------------------------------------------------------------------------\n"
     ]
    },
    {
     "data": {
      "application/vnd.jupyter.widget-view+json": {
       "model_id": "0f928a707f604c5c9a7c52c52d6f967c",
       "version_major": 2,
       "version_minor": 0
      },
      "text/plain": [
       "  0%|          | 0/501 [00:00<?, ?it/s]"
      ]
     },
     "metadata": {},
     "output_type": "display_data"
    },
    {
     "name": "stdout",
     "output_type": "stream",
     "text": [
      "Epoch : 34\n",
      "------------------------------------------------------------------------------------------------------------------------\n",
      "source: 지루하다, 놀러가고 싶어.\n",
      "answered: 바로 잊 는 것 만 판단 이 나 봐요 는데\n",
      "------------------------------------------------------------------------------------------------------------------------\n",
      "source: 오늘 일찍 일어났더니 피곤하다.\n",
      "answered: 후회 가 있 을 거 예요 .\n",
      "------------------------------------------------------------------------------------------------------------------------\n",
      "source: 간만에 여자친구랑 데이트 하기로 했어.\n",
      "answered: 충분히 스스로 도 충분히 스스로 도 당신 의 매력 을 가져 보 세요 .\n",
      "------------------------------------------------------------------------------------------------------------------------\n",
      "source: 집에 있는다는 소리야.\n",
      "answered: 집 이 최고 죠 .\n",
      "------------------------------------------------------------------------------------------------------------------------\n"
     ]
    },
    {
     "data": {
      "application/vnd.jupyter.widget-view+json": {
       "model_id": "02c8f19ddbd5401981ac14b2fc364efd",
       "version_major": 2,
       "version_minor": 0
      },
      "text/plain": [
       "  0%|          | 0/324 [00:00<?, ?it/s]"
      ]
     },
     "metadata": {},
     "output_type": "display_data"
    },
    {
     "name": "stdout",
     "output_type": "stream",
     "text": [
      "Num of Sample: 324\n",
      "Total Score: 0.0313\n",
      "------------------------------------------------------------------------------------------------------------------------\n"
     ]
    },
    {
     "data": {
      "application/vnd.jupyter.widget-view+json": {
       "model_id": "b63a8e465e7b48068c697e7719907bb2",
       "version_major": 2,
       "version_minor": 0
      },
      "text/plain": [
       "  0%|          | 0/501 [00:00<?, ?it/s]"
      ]
     },
     "metadata": {},
     "output_type": "display_data"
    },
    {
     "name": "stdout",
     "output_type": "stream",
     "text": [
      "Epoch : 35\n",
      "------------------------------------------------------------------------------------------------------------------------\n",
      "source: 지루하다, 놀러가고 싶어.\n",
      "answered: 는 것 도 좋 는 것 이 에요 .\n",
      "------------------------------------------------------------------------------------------------------------------------\n",
      "source: 오늘 일찍 일어났더니 피곤하다.\n",
      "answered: 후회 만 후회 안 해도\n",
      "------------------------------------------------------------------------------------------------------------------------\n",
      "source: 간만에 여자친구랑 데이트 하기로 했어.\n",
      "answered: 어떤 이별 이 든 당신 의 으세요 .\n",
      "------------------------------------------------------------------------------------------------------------------------\n",
      "source: 집에 있는다는 소리야.\n",
      "answered: 조심히 오 세요 .\n",
      "------------------------------------------------------------------------------------------------------------------------\n"
     ]
    },
    {
     "data": {
      "application/vnd.jupyter.widget-view+json": {
       "model_id": "0cf1a509cfe94c8899cc06d1944a3336",
       "version_major": 2,
       "version_minor": 0
      },
      "text/plain": [
       "  0%|          | 0/324 [00:00<?, ?it/s]"
      ]
     },
     "metadata": {},
     "output_type": "display_data"
    },
    {
     "name": "stdout",
     "output_type": "stream",
     "text": [
      "Num of Sample: 324\n",
      "Total Score: 0.0314\n",
      "------------------------------------------------------------------------------------------------------------------------\n"
     ]
    },
    {
     "data": {
      "application/vnd.jupyter.widget-view+json": {
       "model_id": "bfbc47c8ba484a08b9b15fbd9eca9bfe",
       "version_major": 2,
       "version_minor": 0
      },
      "text/plain": [
       "  0%|          | 0/501 [00:00<?, ?it/s]"
      ]
     },
     "metadata": {},
     "output_type": "display_data"
    },
    {
     "name": "stdout",
     "output_type": "stream",
     "text": [
      "Epoch : 36\n",
      "------------------------------------------------------------------------------------------------------------------------\n",
      "source: 지루하다, 놀러가고 싶어.\n",
      "answered: 바로 잊 는 것 도 좋 죠 .\n",
      "------------------------------------------------------------------------------------------------------------------------\n",
      "source: 오늘 일찍 일어났더니 피곤하다.\n",
      "answered: 후회 만 해요 .\n",
      "------------------------------------------------------------------------------------------------------------------------\n",
      "source: 간만에 여자친구랑 데이트 하기로 했어.\n",
      "answered: 충분히 스스로 도 충분 해요 .\n",
      "------------------------------------------------------------------------------------------------------------------------\n",
      "source: 집에 있는다는 소리야.\n",
      "answered: 조심히 오 세요 .\n",
      "------------------------------------------------------------------------------------------------------------------------\n"
     ]
    },
    {
     "data": {
      "application/vnd.jupyter.widget-view+json": {
       "model_id": "52d012cbbd73468cb812a7d944722cf6",
       "version_major": 2,
       "version_minor": 0
      },
      "text/plain": [
       "  0%|          | 0/324 [00:00<?, ?it/s]"
      ]
     },
     "metadata": {},
     "output_type": "display_data"
    },
    {
     "name": "stdout",
     "output_type": "stream",
     "text": [
      "Num of Sample: 324\n",
      "Total Score: 0.0336\n",
      "------------------------------------------------------------------------------------------------------------------------\n"
     ]
    },
    {
     "data": {
      "application/vnd.jupyter.widget-view+json": {
       "model_id": "400c7ffe6adf4030b39b2470bf12c7e5",
       "version_major": 2,
       "version_minor": 0
      },
      "text/plain": [
       "  0%|          | 0/501 [00:00<?, ?it/s]"
      ]
     },
     "metadata": {},
     "output_type": "display_data"
    },
    {
     "name": "stdout",
     "output_type": "stream",
     "text": [
      "Epoch : 37\n",
      "------------------------------------------------------------------------------------------------------------------------\n",
      "source: 지루하다, 놀러가고 싶어.\n",
      "answered: 이에 는 답 이 있 길 바라 요 는데\n",
      "------------------------------------------------------------------------------------------------------------------------\n",
      "source: 오늘 일찍 일어났더니 피곤하다.\n",
      "answered: 후회 가 되 기 후회 가 되 었 나 봐요 .\n",
      "------------------------------------------------------------------------------------------------------------------------\n",
      "source: 간만에 여자친구랑 데이트 하기로 했어.\n",
      "answered: 충분히 스스로 도 충분 해요 .\n",
      "------------------------------------------------------------------------------------------------------------------------\n",
      "source: 집에 있는다는 소리야.\n",
      "answered: 집 이 최고 죠 .\n",
      "------------------------------------------------------------------------------------------------------------------------\n"
     ]
    },
    {
     "data": {
      "application/vnd.jupyter.widget-view+json": {
       "model_id": "04f5c0dc2d804a1ca6f9e1be028a71e3",
       "version_major": 2,
       "version_minor": 0
      },
      "text/plain": [
       "  0%|          | 0/324 [00:00<?, ?it/s]"
      ]
     },
     "metadata": {},
     "output_type": "display_data"
    },
    {
     "name": "stdout",
     "output_type": "stream",
     "text": [
      "Num of Sample: 324\n",
      "Total Score: 0.0245\n",
      "------------------------------------------------------------------------------------------------------------------------\n"
     ]
    },
    {
     "data": {
      "application/vnd.jupyter.widget-view+json": {
       "model_id": "2ea4d770c1684c60b74b41dd1e8e618a",
       "version_major": 2,
       "version_minor": 0
      },
      "text/plain": [
       "  0%|          | 0/501 [00:00<?, ?it/s]"
      ]
     },
     "metadata": {},
     "output_type": "display_data"
    },
    {
     "name": "stdout",
     "output_type": "stream",
     "text": [
      "Epoch : 38\n",
      "------------------------------------------------------------------------------------------------------------------------\n",
      "source: 지루하다, 놀러가고 싶어.\n",
      "answered: 바로 잊 는 것 도 는데\n",
      "------------------------------------------------------------------------------------------------------------------------\n",
      "source: 오늘 일찍 일어났더니 피곤하다.\n",
      "answered: 후회 만 더 힘내 세요 .\n",
      "------------------------------------------------------------------------------------------------------------------------\n",
      "source: 간만에 여자친구랑 데이트 하기로 했어.\n",
      "answered: 충분히 스스로 를 충분히 스스로 를 만들 어 보 세요 .\n",
      "------------------------------------------------------------------------------------------------------------------------\n",
      "source: 집에 있는다는 소리야.\n",
      "answered: 집 이 맘 편하 고 싶 나 봐요 .\n",
      "------------------------------------------------------------------------------------------------------------------------\n"
     ]
    },
    {
     "data": {
      "application/vnd.jupyter.widget-view+json": {
       "model_id": "025f6b222e014968b023710a8d71ad06",
       "version_major": 2,
       "version_minor": 0
      },
      "text/plain": [
       "  0%|          | 0/324 [00:00<?, ?it/s]"
      ]
     },
     "metadata": {},
     "output_type": "display_data"
    },
    {
     "name": "stdout",
     "output_type": "stream",
     "text": [
      "Num of Sample: 324\n",
      "Total Score: 0.0281\n",
      "------------------------------------------------------------------------------------------------------------------------\n"
     ]
    },
    {
     "data": {
      "application/vnd.jupyter.widget-view+json": {
       "model_id": "6b6768adb73d4397a857af6178e28780",
       "version_major": 2,
       "version_minor": 0
      },
      "text/plain": [
       "  0%|          | 0/501 [00:00<?, ?it/s]"
      ]
     },
     "metadata": {},
     "output_type": "display_data"
    },
    {
     "name": "stdout",
     "output_type": "stream",
     "text": [
      "Epoch : 39\n",
      "------------------------------------------------------------------------------------------------------------------------\n",
      "source: 지루하다, 놀러가고 싶어.\n",
      "answered: 는 내 는 것 도 좋 을 거 예요 는데\n",
      "------------------------------------------------------------------------------------------------------------------------\n",
      "source: 오늘 일찍 일어났더니 피곤하다.\n",
      "answered: 후회 만 있 었 나 봐요 .\n",
      "------------------------------------------------------------------------------------------------------------------------\n",
      "source: 간만에 여자친구랑 데이트 하기로 했어.\n",
      "answered: 충분히 스스로 도 당신 의 감정 을 주 세요 .\n",
      "------------------------------------------------------------------------------------------------------------------------\n",
      "source: 집에 있는다는 소리야.\n",
      "answered: 집 이 최고 죠 .\n",
      "------------------------------------------------------------------------------------------------------------------------\n"
     ]
    },
    {
     "data": {
      "application/vnd.jupyter.widget-view+json": {
       "model_id": "e2da2da26c2f4d999c39f76e4fd1a1bd",
       "version_major": 2,
       "version_minor": 0
      },
      "text/plain": [
       "  0%|          | 0/324 [00:00<?, ?it/s]"
      ]
     },
     "metadata": {},
     "output_type": "display_data"
    },
    {
     "name": "stdout",
     "output_type": "stream",
     "text": [
      "Num of Sample: 324\n",
      "Total Score: 0.0305\n",
      "------------------------------------------------------------------------------------------------------------------------\n"
     ]
    },
    {
     "data": {
      "application/vnd.jupyter.widget-view+json": {
       "model_id": "7d59f79d97234a649cce8aeec6677b7c",
       "version_major": 2,
       "version_minor": 0
      },
      "text/plain": [
       "  0%|          | 0/501 [00:00<?, ?it/s]"
      ]
     },
     "metadata": {},
     "output_type": "display_data"
    },
    {
     "name": "stdout",
     "output_type": "stream",
     "text": [
      "Epoch : 40\n",
      "------------------------------------------------------------------------------------------------------------------------\n",
      "source: 지루하다, 놀러가고 싶어.\n",
      "answered: 바로 잊 는 사랑 에 놀드 는 .\n",
      "------------------------------------------------------------------------------------------------------------------------\n",
      "source: 오늘 일찍 일어났더니 피곤하다.\n",
      "answered: 후회 만 남 만 있 었 나 봐요 .\n",
      "------------------------------------------------------------------------------------------------------------------------\n",
      "source: 간만에 여자친구랑 데이트 하기로 했어.\n",
      "answered: 충분히 스스로 도 충분히 스스로 도 충분히 좋 아요 .\n",
      "------------------------------------------------------------------------------------------------------------------------\n",
      "source: 집에 있는다는 소리야.\n",
      "answered: 집 이 맘 편하 고 살 고 살 이 편하 집 도 있 나 봐요 .\n",
      "------------------------------------------------------------------------------------------------------------------------\n"
     ]
    },
    {
     "data": {
      "application/vnd.jupyter.widget-view+json": {
       "model_id": "2a8adcb6a4c04fec8d3a7d7a1be3ccd9",
       "version_major": 2,
       "version_minor": 0
      },
      "text/plain": [
       "  0%|          | 0/324 [00:00<?, ?it/s]"
      ]
     },
     "metadata": {},
     "output_type": "display_data"
    },
    {
     "name": "stdout",
     "output_type": "stream",
     "text": [
      "Num of Sample: 324\n",
      "Total Score: 0.0268\n",
      "------------------------------------------------------------------------------------------------------------------------\n"
     ]
    },
    {
     "data": {
      "application/vnd.jupyter.widget-view+json": {
       "model_id": "ec768cdcf341401cbf00d220361751cb",
       "version_major": 2,
       "version_minor": 0
      },
      "text/plain": [
       "  0%|          | 0/501 [00:00<?, ?it/s]"
      ]
     },
     "metadata": {},
     "output_type": "display_data"
    },
    {
     "name": "stdout",
     "output_type": "stream",
     "text": [
      "Epoch : 41\n",
      "------------------------------------------------------------------------------------------------------------------------\n",
      "source: 지루하다, 놀러가고 싶어.\n",
      "answered: 는 것 도 중요 해요 는데\n",
      "------------------------------------------------------------------------------------------------------------------------\n",
      "source: 오늘 일찍 일어났더니 피곤하다.\n",
      "answered: 후회 만 있 었 나 봐요 .\n",
      "------------------------------------------------------------------------------------------------------------------------\n",
      "source: 간만에 여자친구랑 데이트 하기로 했어.\n",
      "answered: 충분히 스스로 극복 할 수 도 있 어요 .\n",
      "------------------------------------------------------------------------------------------------------------------------\n",
      "source: 집에 있는다는 소리야.\n",
      "answered: 집 이 맘 같 지 않 이 집 도 있 잖아요 .\n",
      "------------------------------------------------------------------------------------------------------------------------\n"
     ]
    },
    {
     "data": {
      "application/vnd.jupyter.widget-view+json": {
       "model_id": "b03fa1f7bf0545d4889e65dfdf6445d7",
       "version_major": 2,
       "version_minor": 0
      },
      "text/plain": [
       "  0%|          | 0/324 [00:00<?, ?it/s]"
      ]
     },
     "metadata": {},
     "output_type": "display_data"
    },
    {
     "name": "stdout",
     "output_type": "stream",
     "text": [
      "Num of Sample: 324\n",
      "Total Score: 0.0285\n",
      "------------------------------------------------------------------------------------------------------------------------\n"
     ]
    },
    {
     "data": {
      "application/vnd.jupyter.widget-view+json": {
       "model_id": "4cc932cf8ba746cc9bad3392a090e0fa",
       "version_major": 2,
       "version_minor": 0
      },
      "text/plain": [
       "  0%|          | 0/501 [00:00<?, ?it/s]"
      ]
     },
     "metadata": {},
     "output_type": "display_data"
    },
    {
     "name": "stdout",
     "output_type": "stream",
     "text": [
      "Epoch : 42\n",
      "------------------------------------------------------------------------------------------------------------------------\n",
      "source: 지루하다, 놀러가고 싶어.\n",
      "answered: 사랑 이에 는 것 만 있 어요 는데\n",
      "------------------------------------------------------------------------------------------------------------------------\n",
      "source: 오늘 일찍 일어났더니 피곤하다.\n",
      "answered: 후회 만 남 만 해요 .\n",
      "------------------------------------------------------------------------------------------------------------------------\n",
      "source: 간만에 여자친구랑 데이트 하기로 했어.\n",
      "answered: 충분히 스스로 극복 할 수 있 을 거 예요 .\n",
      "------------------------------------------------------------------------------------------------------------------------\n",
      "source: 집에 있는다는 소리야.\n",
      "answered: 집 에서 도 좋 아요 .\n",
      "------------------------------------------------------------------------------------------------------------------------\n"
     ]
    },
    {
     "data": {
      "application/vnd.jupyter.widget-view+json": {
       "model_id": "c934adbd695948ec95e5119972a24d1d",
       "version_major": 2,
       "version_minor": 0
      },
      "text/plain": [
       "  0%|          | 0/324 [00:00<?, ?it/s]"
      ]
     },
     "metadata": {},
     "output_type": "display_data"
    },
    {
     "name": "stdout",
     "output_type": "stream",
     "text": [
      "Num of Sample: 324\n",
      "Total Score: 0.0306\n",
      "------------------------------------------------------------------------------------------------------------------------\n"
     ]
    },
    {
     "data": {
      "application/vnd.jupyter.widget-view+json": {
       "model_id": "5258bcad3d5b4417a89591003183bcdd",
       "version_major": 2,
       "version_minor": 0
      },
      "text/plain": [
       "  0%|          | 0/501 [00:00<?, ?it/s]"
      ]
     },
     "metadata": {},
     "output_type": "display_data"
    },
    {
     "name": "stdout",
     "output_type": "stream",
     "text": [
      "Epoch : 43\n",
      "------------------------------------------------------------------------------------------------------------------------\n",
      "source: 지루하다, 놀러가고 싶어.\n",
      "answered: 는 사랑 이 라고 생각 해요 는데\n",
      "------------------------------------------------------------------------------------------------------------------------\n",
      "source: 오늘 일찍 일어났더니 피곤하다.\n",
      "answered: 후회 안 되 었 나 봐요 .\n",
      "------------------------------------------------------------------------------------------------------------------------\n",
      "source: 간만에 여자친구랑 데이트 하기로 했어.\n",
      "answered: 충분히 스스로 극복 할 수 없 을 거 예요 .\n",
      "------------------------------------------------------------------------------------------------------------------------\n",
      "source: 집에 있는다는 소리야.\n",
      "answered: 집 이 맘 같 아요 .\n",
      "------------------------------------------------------------------------------------------------------------------------\n"
     ]
    },
    {
     "data": {
      "application/vnd.jupyter.widget-view+json": {
       "model_id": "f5c3d24c7bd14f448081500f35283261",
       "version_major": 2,
       "version_minor": 0
      },
      "text/plain": [
       "  0%|          | 0/324 [00:00<?, ?it/s]"
      ]
     },
     "metadata": {},
     "output_type": "display_data"
    },
    {
     "name": "stdout",
     "output_type": "stream",
     "text": [
      "Num of Sample: 324\n",
      "Total Score: 0.0273\n",
      "------------------------------------------------------------------------------------------------------------------------\n"
     ]
    },
    {
     "data": {
      "application/vnd.jupyter.widget-view+json": {
       "model_id": "c02286d1e59d4a5288a1f3da3250409f",
       "version_major": 2,
       "version_minor": 0
      },
      "text/plain": [
       "  0%|          | 0/501 [00:00<?, ?it/s]"
      ]
     },
     "metadata": {},
     "output_type": "display_data"
    },
    {
     "name": "stdout",
     "output_type": "stream",
     "text": [
      "Epoch : 44\n",
      "------------------------------------------------------------------------------------------------------------------------\n",
      "source: 지루하다, 놀러가고 싶어.\n",
      "answered: 고 있 는 것 만 나 봐요 는데\n",
      "------------------------------------------------------------------------------------------------------------------------\n",
      "source: 오늘 일찍 일어났더니 피곤하다.\n",
      "answered: 후회 만 남 만 있 었 나 봐요 .\n",
      "------------------------------------------------------------------------------------------------------------------------\n",
      "source: 간만에 여자친구랑 데이트 하기로 했어.\n",
      "answered: 충분히 스스로 만 은 사람 만날 거 예요 .\n",
      "------------------------------------------------------------------------------------------------------------------------\n",
      "source: 집에 있는다는 소리야.\n",
      "answered: 집 이 최고 죠 .\n",
      "------------------------------------------------------------------------------------------------------------------------\n"
     ]
    },
    {
     "data": {
      "application/vnd.jupyter.widget-view+json": {
       "model_id": "a10ca7d0c0364279ac91f42d56765cc5",
       "version_major": 2,
       "version_minor": 0
      },
      "text/plain": [
       "  0%|          | 0/324 [00:00<?, ?it/s]"
      ]
     },
     "metadata": {},
     "output_type": "display_data"
    },
    {
     "name": "stdout",
     "output_type": "stream",
     "text": [
      "Num of Sample: 324\n",
      "Total Score: 0.0329\n",
      "------------------------------------------------------------------------------------------------------------------------\n"
     ]
    },
    {
     "data": {
      "application/vnd.jupyter.widget-view+json": {
       "model_id": "75f20a31bbce49cab133cff981720bb6",
       "version_major": 2,
       "version_minor": 0
      },
      "text/plain": [
       "  0%|          | 0/501 [00:00<?, ?it/s]"
      ]
     },
     "metadata": {},
     "output_type": "display_data"
    },
    {
     "name": "stdout",
     "output_type": "stream",
     "text": [
      "Epoch : 45\n",
      "------------------------------------------------------------------------------------------------------------------------\n",
      "source: 지루하다, 놀러가고 싶어.\n",
      "answered: 는 것 보다 좋 은 방법 이 있 어요 는데\n",
      "------------------------------------------------------------------------------------------------------------------------\n",
      "source: 오늘 일찍 일어났더니 피곤하다.\n",
      "answered: 후회 만 남 나 봐요 .\n",
      "------------------------------------------------------------------------------------------------------------------------\n",
      "source: 간만에 여자친구랑 데이트 하기로 했어.\n",
      "answered: 충분히 스스로 극복 할 수 있 을 거 예요 .\n",
      "------------------------------------------------------------------------------------------------------------------------\n",
      "source: 집에 있는다는 소리야.\n",
      "answered: 집 이 가지 고 싶 가지 도 편하 싶 은 사람 이 만나 실 거 예요 .\n",
      "------------------------------------------------------------------------------------------------------------------------\n"
     ]
    },
    {
     "data": {
      "application/vnd.jupyter.widget-view+json": {
       "model_id": "9410997fd47846deb3baa9bb8f524efa",
       "version_major": 2,
       "version_minor": 0
      },
      "text/plain": [
       "  0%|          | 0/324 [00:00<?, ?it/s]"
      ]
     },
     "metadata": {},
     "output_type": "display_data"
    },
    {
     "name": "stdout",
     "output_type": "stream",
     "text": [
      "Num of Sample: 324\n",
      "Total Score: 0.0262\n",
      "------------------------------------------------------------------------------------------------------------------------\n"
     ]
    },
    {
     "data": {
      "application/vnd.jupyter.widget-view+json": {
       "model_id": "b0a72e4d839c4385aefc052ac2f5de48",
       "version_major": 2,
       "version_minor": 0
      },
      "text/plain": [
       "  0%|          | 0/501 [00:00<?, ?it/s]"
      ]
     },
     "metadata": {},
     "output_type": "display_data"
    },
    {
     "name": "stdout",
     "output_type": "stream",
     "text": [
      "Epoch : 46\n",
      "------------------------------------------------------------------------------------------------------------------------\n",
      "source: 지루하다, 놀러가고 싶어.\n",
      "answered: 는 내 가 고 있 어요 .\n",
      "------------------------------------------------------------------------------------------------------------------------\n",
      "source: 오늘 일찍 일어났더니 피곤하다.\n",
      "answered: 후회 안 되 었 나 봐요 .\n",
      "------------------------------------------------------------------------------------------------------------------------\n",
      "source: 간만에 여자친구랑 데이트 하기로 했어.\n",
      "answered: 충분히 스스로 도 충분 해요 .\n",
      "------------------------------------------------------------------------------------------------------------------------\n",
      "source: 집에 있는다는 소리야.\n",
      "answered: 집 이 최고 죠 .\n",
      "------------------------------------------------------------------------------------------------------------------------\n"
     ]
    },
    {
     "data": {
      "application/vnd.jupyter.widget-view+json": {
       "model_id": "175109f1d44145ef9f93162cec2d9b57",
       "version_major": 2,
       "version_minor": 0
      },
      "text/plain": [
       "  0%|          | 0/324 [00:00<?, ?it/s]"
      ]
     },
     "metadata": {},
     "output_type": "display_data"
    },
    {
     "name": "stdout",
     "output_type": "stream",
     "text": [
      "Num of Sample: 324\n",
      "Total Score: 0.0300\n",
      "------------------------------------------------------------------------------------------------------------------------\n"
     ]
    },
    {
     "data": {
      "application/vnd.jupyter.widget-view+json": {
       "model_id": "783fa4d36f4545b7b04c9f591d4e11ed",
       "version_major": 2,
       "version_minor": 0
      },
      "text/plain": [
       "  0%|          | 0/501 [00:00<?, ?it/s]"
      ]
     },
     "metadata": {},
     "output_type": "display_data"
    },
    {
     "name": "stdout",
     "output_type": "stream",
     "text": [
      "Epoch : 47\n",
      "------------------------------------------------------------------------------------------------------------------------\n",
      "source: 지루하다, 놀러가고 싶어.\n",
      "answered: 는 것 만 어렵 지 않 아요 는데\n",
      "------------------------------------------------------------------------------------------------------------------------\n",
      "source: 오늘 일찍 일어났더니 피곤하다.\n",
      "answered: 후회 만 남 나 봐요 .\n",
      "------------------------------------------------------------------------------------------------------------------------\n",
      "source: 간만에 여자친구랑 데이트 하기로 했어.\n",
      "answered: 충분히 스스로 극복 할 수 없 을 거 예요 .\n",
      "------------------------------------------------------------------------------------------------------------------------\n",
      "source: 집에 있는다는 소리야.\n",
      "answered: 집 이 맘 도 집 이 도 있 잖아요 .\n",
      "------------------------------------------------------------------------------------------------------------------------\n"
     ]
    },
    {
     "data": {
      "application/vnd.jupyter.widget-view+json": {
       "model_id": "7e765f6d993a4a79975913a7977578e7",
       "version_major": 2,
       "version_minor": 0
      },
      "text/plain": [
       "  0%|          | 0/324 [00:00<?, ?it/s]"
      ]
     },
     "metadata": {},
     "output_type": "display_data"
    },
    {
     "name": "stdout",
     "output_type": "stream",
     "text": [
      "Num of Sample: 324\n",
      "Total Score: 0.0286\n",
      "------------------------------------------------------------------------------------------------------------------------\n"
     ]
    },
    {
     "data": {
      "application/vnd.jupyter.widget-view+json": {
       "model_id": "541320306f2440f48bc04383eb08acec",
       "version_major": 2,
       "version_minor": 0
      },
      "text/plain": [
       "  0%|          | 0/501 [00:00<?, ?it/s]"
      ]
     },
     "metadata": {},
     "output_type": "display_data"
    },
    {
     "name": "stdout",
     "output_type": "stream",
     "text": [
      "Epoch : 48\n",
      "------------------------------------------------------------------------------------------------------------------------\n",
      "source: 지루하다, 놀러가고 싶어.\n",
      "answered: 고 있 는 것 도 못하 이 에요 .\n",
      "------------------------------------------------------------------------------------------------------------------------\n",
      "source: 오늘 일찍 일어났더니 피곤하다.\n",
      "answered: 후회 만 남 나 봐요 .\n",
      "------------------------------------------------------------------------------------------------------------------------\n",
      "source: 간만에 여자친구랑 데이트 하기로 했어.\n",
      "answered: 충분히 스스로 만 은데 사람 만날 수 있 어요 .\n",
      "------------------------------------------------------------------------------------------------------------------------\n",
      "source: 집에 있는다는 소리야.\n",
      "answered: 집 이 맘 편하 고 집 도 집 도 집 도 집 도 있 고 집 도 집 도 집 도 집 도 있 집 도 집 도 집 도 집 도 집 도 집 도 집 도 집 도 좋 도\n",
      "------------------------------------------------------------------------------------------------------------------------\n"
     ]
    },
    {
     "data": {
      "application/vnd.jupyter.widget-view+json": {
       "model_id": "babfbcd26ffd478c8bbc183335a372a3",
       "version_major": 2,
       "version_minor": 0
      },
      "text/plain": [
       "  0%|          | 0/324 [00:00<?, ?it/s]"
      ]
     },
     "metadata": {},
     "output_type": "display_data"
    },
    {
     "name": "stdout",
     "output_type": "stream",
     "text": [
      "Num of Sample: 324\n",
      "Total Score: 0.0273\n",
      "------------------------------------------------------------------------------------------------------------------------\n"
     ]
    },
    {
     "data": {
      "application/vnd.jupyter.widget-view+json": {
       "model_id": "9bfcc57c210046a8ab149cf4c2d12ea0",
       "version_major": 2,
       "version_minor": 0
      },
      "text/plain": [
       "  0%|          | 0/501 [00:00<?, ?it/s]"
      ]
     },
     "metadata": {},
     "output_type": "display_data"
    },
    {
     "name": "stdout",
     "output_type": "stream",
     "text": [
      "Epoch : 49\n",
      "------------------------------------------------------------------------------------------------------------------------\n",
      "source: 지루하다, 놀러가고 싶어.\n",
      "answered: 는 것 도 중요 해요 .\n",
      "------------------------------------------------------------------------------------------------------------------------\n",
      "source: 오늘 일찍 일어났더니 피곤하다.\n",
      "answered: 후회 만 남 만 결정 을 가 겠 어요 .\n",
      "------------------------------------------------------------------------------------------------------------------------\n",
      "source: 간만에 여자친구랑 데이트 하기로 했어.\n",
      "answered: 충분히 스스로 도 당신 의 삶 은 시작 해 보 세요 .\n",
      "------------------------------------------------------------------------------------------------------------------------\n",
      "source: 집에 있는다는 소리야.\n",
      "answered: 집 이 맘 편하 으시 나 봐요 .\n",
      "------------------------------------------------------------------------------------------------------------------------\n"
     ]
    },
    {
     "data": {
      "application/vnd.jupyter.widget-view+json": {
       "model_id": "1dd5d064933b441584e54eb2bb66b7c3",
       "version_major": 2,
       "version_minor": 0
      },
      "text/plain": [
       "  0%|          | 0/324 [00:00<?, ?it/s]"
      ]
     },
     "metadata": {},
     "output_type": "display_data"
    },
    {
     "name": "stdout",
     "output_type": "stream",
     "text": [
      "Num of Sample: 324\n",
      "Total Score: 0.0303\n",
      "------------------------------------------------------------------------------------------------------------------------\n"
     ]
    },
    {
     "data": {
      "application/vnd.jupyter.widget-view+json": {
       "model_id": "cda3524466754243997970252f8d55f3",
       "version_major": 2,
       "version_minor": 0
      },
      "text/plain": [
       "  0%|          | 0/501 [00:00<?, ?it/s]"
      ]
     },
     "metadata": {},
     "output_type": "display_data"
    },
    {
     "name": "stdout",
     "output_type": "stream",
     "text": [
      "Epoch : 50\n",
      "------------------------------------------------------------------------------------------------------------------------\n",
      "source: 지루하다, 놀러가고 싶어.\n",
      "answered: 고 있 는 것 도 사랑 이 에요 는데\n",
      "------------------------------------------------------------------------------------------------------------------------\n",
      "source: 오늘 일찍 일어났더니 피곤하다.\n",
      "answered: 후회 만 남 나 봐요 .\n",
      "------------------------------------------------------------------------------------------------------------------------\n",
      "source: 간만에 여자친구랑 데이트 하기로 했어.\n",
      "answered: 충분히 스스로 도 충분히 스스로 도 좋 은 사람 만날 것 예요 .\n",
      "------------------------------------------------------------------------------------------------------------------------\n",
      "source: 집에 있는다는 소리야.\n",
      "answered: 나 도 편하 고 싶 나 도 사람 이 요 .\n",
      "------------------------------------------------------------------------------------------------------------------------\n"
     ]
    },
    {
     "data": {
      "application/vnd.jupyter.widget-view+json": {
       "model_id": "6db4415673284bab99212fa8e9664252",
       "version_major": 2,
       "version_minor": 0
      },
      "text/plain": [
       "  0%|          | 0/324 [00:00<?, ?it/s]"
      ]
     },
     "metadata": {},
     "output_type": "display_data"
    },
    {
     "name": "stdout",
     "output_type": "stream",
     "text": [
      "Num of Sample: 324\n",
      "Total Score: 0.0284\n",
      "------------------------------------------------------------------------------------------------------------------------\n"
     ]
    },
    {
     "data": {
      "application/vnd.jupyter.widget-view+json": {
       "model_id": "38a92b51b6814229961a05588ce884d8",
       "version_major": 2,
       "version_minor": 0
      },
      "text/plain": [
       "  0%|          | 0/501 [00:00<?, ?it/s]"
      ]
     },
     "metadata": {},
     "output_type": "display_data"
    },
    {
     "name": "stdout",
     "output_type": "stream",
     "text": [
      "Epoch : 51\n",
      "------------------------------------------------------------------------------------------------------------------------\n",
      "source: 지루하다, 놀러가고 싶어.\n",
      "answered: 마세요 .\n",
      "------------------------------------------------------------------------------------------------------------------------\n",
      "source: 오늘 일찍 일어났더니 피곤하다.\n",
      "answered: 후회 만 더 힘내 세요 .\n",
      "------------------------------------------------------------------------------------------------------------------------\n",
      "source: 간만에 여자친구랑 데이트 하기로 했어.\n",
      "answered: 충분히 스스로 극복 할 수 도 있 어요 .\n",
      "------------------------------------------------------------------------------------------------------------------------\n",
      "source: 집에 있는다는 소리야.\n",
      "answered: 집 마련 이 에요 .\n",
      "------------------------------------------------------------------------------------------------------------------------\n"
     ]
    },
    {
     "data": {
      "application/vnd.jupyter.widget-view+json": {
       "model_id": "df40e1675cc942e0bf3b7706f306059d",
       "version_major": 2,
       "version_minor": 0
      },
      "text/plain": [
       "  0%|          | 0/324 [00:00<?, ?it/s]"
      ]
     },
     "metadata": {},
     "output_type": "display_data"
    },
    {
     "name": "stdout",
     "output_type": "stream",
     "text": [
      "Num of Sample: 324\n",
      "Total Score: 0.0327\n",
      "------------------------------------------------------------------------------------------------------------------------\n"
     ]
    },
    {
     "data": {
      "application/vnd.jupyter.widget-view+json": {
       "model_id": "2bf9ed003a6e410f867a278adf9fa3e2",
       "version_major": 2,
       "version_minor": 0
      },
      "text/plain": [
       "  0%|          | 0/501 [00:00<?, ?it/s]"
      ]
     },
     "metadata": {},
     "output_type": "display_data"
    },
    {
     "name": "stdout",
     "output_type": "stream",
     "text": [
      "Epoch : 52\n",
      "------------------------------------------------------------------------------------------------------------------------\n",
      "source: 지루하다, 놀러가고 싶어.\n",
      "answered: ㄴ다는 확신 이 어렵 겠 어요 .\n",
      "------------------------------------------------------------------------------------------------------------------------\n",
      "source: 오늘 일찍 일어났더니 피곤하다.\n",
      "answered: 후회 만 남 나 봐요 .\n",
      "------------------------------------------------------------------------------------------------------------------------\n",
      "source: 간만에 여자친구랑 데이트 하기로 했어.\n",
      "answered: 충분히 스스로 도 충분 해요 .\n",
      "------------------------------------------------------------------------------------------------------------------------\n",
      "source: 집에 있는다는 소리야.\n",
      "answered: 집 마련 이 최고 죠 .\n",
      "------------------------------------------------------------------------------------------------------------------------\n"
     ]
    },
    {
     "data": {
      "application/vnd.jupyter.widget-view+json": {
       "model_id": "af8ea7beb5cc428e992cf4d85310f11a",
       "version_major": 2,
       "version_minor": 0
      },
      "text/plain": [
       "  0%|          | 0/324 [00:00<?, ?it/s]"
      ]
     },
     "metadata": {},
     "output_type": "display_data"
    },
    {
     "name": "stdout",
     "output_type": "stream",
     "text": [
      "Num of Sample: 324\n",
      "Total Score: 0.0368\n",
      "------------------------------------------------------------------------------------------------------------------------\n"
     ]
    },
    {
     "data": {
      "application/vnd.jupyter.widget-view+json": {
       "model_id": "2e4ada639f1e4c5dbe56cef2ca1bcf9b",
       "version_major": 2,
       "version_minor": 0
      },
      "text/plain": [
       "  0%|          | 0/501 [00:00<?, ?it/s]"
      ]
     },
     "metadata": {},
     "output_type": "display_data"
    },
    {
     "name": "stdout",
     "output_type": "stream",
     "text": [
      "Epoch : 53\n",
      "------------------------------------------------------------------------------------------------------------------------\n",
      "source: 지루하다, 놀러가고 싶어.\n",
      "answered: 는 것 도 사랑 이 에요 는데\n",
      "------------------------------------------------------------------------------------------------------------------------\n",
      "source: 오늘 일찍 일어났더니 피곤하다.\n",
      "answered: 후회 만 남 만 남 만 해요 .\n",
      "------------------------------------------------------------------------------------------------------------------------\n",
      "source: 간만에 여자친구랑 데이트 하기로 했어.\n",
      "answered: 충분히 슬퍼하 고 다시 하 세요 .\n",
      "------------------------------------------------------------------------------------------------------------------------\n",
      "source: 집에 있는다는 소리야.\n",
      "answered: 집 이 맘 같 아요 .\n",
      "------------------------------------------------------------------------------------------------------------------------\n"
     ]
    },
    {
     "data": {
      "application/vnd.jupyter.widget-view+json": {
       "model_id": "b2a2ceba177e4e14b5a7660af9767946",
       "version_major": 2,
       "version_minor": 0
      },
      "text/plain": [
       "  0%|          | 0/324 [00:00<?, ?it/s]"
      ]
     },
     "metadata": {},
     "output_type": "display_data"
    },
    {
     "name": "stdout",
     "output_type": "stream",
     "text": [
      "Num of Sample: 324\n",
      "Total Score: 0.0307\n",
      "------------------------------------------------------------------------------------------------------------------------\n"
     ]
    },
    {
     "data": {
      "application/vnd.jupyter.widget-view+json": {
       "model_id": "55b9933c4bac4fbdb752a25fcf78fe95",
       "version_major": 2,
       "version_minor": 0
      },
      "text/plain": [
       "  0%|          | 0/501 [00:00<?, ?it/s]"
      ]
     },
     "metadata": {},
     "output_type": "display_data"
    },
    {
     "name": "stdout",
     "output_type": "stream",
     "text": [
      "Epoch : 54\n",
      "------------------------------------------------------------------------------------------------------------------------\n",
      "source: 지루하다, 놀러가고 싶어.\n",
      "answered: 는 것 도 중요 해요 .\n",
      "------------------------------------------------------------------------------------------------------------------------\n",
      "source: 오늘 일찍 일어났더니 피곤하다.\n",
      "answered: 후회 만 더 힘내 세요 .\n",
      "------------------------------------------------------------------------------------------------------------------------\n",
      "source: 간만에 여자친구랑 데이트 하기로 했어.\n",
      "answered: 충분히 스스로 극복 할 수 도 있 어요 .\n",
      "------------------------------------------------------------------------------------------------------------------------\n",
      "source: 집에 있는다는 소리야.\n",
      "answered: 집 마련 이 에요 .\n",
      "------------------------------------------------------------------------------------------------------------------------\n"
     ]
    },
    {
     "data": {
      "application/vnd.jupyter.widget-view+json": {
       "model_id": "7f05dab787c645f1908a6acd730e8791",
       "version_major": 2,
       "version_minor": 0
      },
      "text/plain": [
       "  0%|          | 0/324 [00:00<?, ?it/s]"
      ]
     },
     "metadata": {},
     "output_type": "display_data"
    },
    {
     "name": "stdout",
     "output_type": "stream",
     "text": [
      "Num of Sample: 324\n",
      "Total Score: 0.0315\n",
      "------------------------------------------------------------------------------------------------------------------------\n"
     ]
    },
    {
     "data": {
      "application/vnd.jupyter.widget-view+json": {
       "model_id": "9de20ab7821647638fead16940327c59",
       "version_major": 2,
       "version_minor": 0
      },
      "text/plain": [
       "  0%|          | 0/501 [00:00<?, ?it/s]"
      ]
     },
     "metadata": {},
     "output_type": "display_data"
    },
    {
     "name": "stdout",
     "output_type": "stream",
     "text": [
      "Epoch : 55\n",
      "------------------------------------------------------------------------------------------------------------------------\n",
      "source: 지루하다, 놀러가고 싶어.\n",
      "answered: 바로 잊 는 데 는 시간 이 자주 힘들 어 놀드 세요 는데\n",
      "------------------------------------------------------------------------------------------------------------------------\n",
      "source: 오늘 일찍 일어났더니 피곤하다.\n",
      "answered: 후회 만 더 힘내 세요 .\n",
      "------------------------------------------------------------------------------------------------------------------------\n",
      "source: 간만에 여자친구랑 데이트 하기로 했어.\n",
      "answered: 충분히 스스로 극복 할 수 있 어요 .\n",
      "------------------------------------------------------------------------------------------------------------------------\n",
      "source: 집에 있는다는 소리야.\n",
      "answered: 집 마련 이 들 때 도 있 나 봐요 .\n",
      "------------------------------------------------------------------------------------------------------------------------\n"
     ]
    },
    {
     "data": {
      "application/vnd.jupyter.widget-view+json": {
       "model_id": "85ee97766e074552bfdc6c586e62b4bf",
       "version_major": 2,
       "version_minor": 0
      },
      "text/plain": [
       "  0%|          | 0/324 [00:00<?, ?it/s]"
      ]
     },
     "metadata": {},
     "output_type": "display_data"
    },
    {
     "name": "stdout",
     "output_type": "stream",
     "text": [
      "Num of Sample: 324\n",
      "Total Score: 0.0283\n",
      "------------------------------------------------------------------------------------------------------------------------\n"
     ]
    },
    {
     "data": {
      "application/vnd.jupyter.widget-view+json": {
       "model_id": "27c1ff1736704cfabac750ead007ec0c",
       "version_major": 2,
       "version_minor": 0
      },
      "text/plain": [
       "  0%|          | 0/501 [00:00<?, ?it/s]"
      ]
     },
     "metadata": {},
     "output_type": "display_data"
    },
    {
     "name": "stdout",
     "output_type": "stream",
     "text": [
      "Epoch : 56\n",
      "------------------------------------------------------------------------------------------------------------------------\n",
      "source: 지루하다, 놀러가고 싶어.\n",
      "answered: 는 것 도 사랑 그러 만들 어서\n",
      "------------------------------------------------------------------------------------------------------------------------\n",
      "source: 오늘 일찍 일어났더니 피곤하다.\n",
      "answered: 후회 만 남 나 봐요 .\n",
      "------------------------------------------------------------------------------------------------------------------------\n",
      "source: 간만에 여자친구랑 데이트 하기로 했어.\n",
      "answered: 충분히 스스로 극복 할 수 있 어요 .\n",
      "------------------------------------------------------------------------------------------------------------------------\n",
      "source: 집에 있는다는 소리야.\n",
      "answered: 집 에 도 안 되 고 살 이 들 에게 도 있 나 봐요 .\n",
      "------------------------------------------------------------------------------------------------------------------------\n"
     ]
    },
    {
     "data": {
      "application/vnd.jupyter.widget-view+json": {
       "model_id": "146c7384563541abab1f54555ff1e2bd",
       "version_major": 2,
       "version_minor": 0
      },
      "text/plain": [
       "  0%|          | 0/324 [00:00<?, ?it/s]"
      ]
     },
     "metadata": {},
     "output_type": "display_data"
    },
    {
     "name": "stdout",
     "output_type": "stream",
     "text": [
      "Num of Sample: 324\n",
      "Total Score: 0.0265\n",
      "------------------------------------------------------------------------------------------------------------------------\n"
     ]
    },
    {
     "data": {
      "application/vnd.jupyter.widget-view+json": {
       "model_id": "7c23e56512f546d48323e072cc2f4d24",
       "version_major": 2,
       "version_minor": 0
      },
      "text/plain": [
       "  0%|          | 0/501 [00:00<?, ?it/s]"
      ]
     },
     "metadata": {},
     "output_type": "display_data"
    },
    {
     "name": "stdout",
     "output_type": "stream",
     "text": [
      "Epoch : 57\n",
      "------------------------------------------------------------------------------------------------------------------------\n",
      "source: 지루하다, 놀러가고 싶어.\n",
      "answered: ㄴ다는 것 도 존중 방법 도 좋 겠 어요 는데\n",
      "------------------------------------------------------------------------------------------------------------------------\n",
      "source: 오늘 일찍 일어났더니 피곤하다.\n",
      "answered: 후회 만 남 나 봐요 .\n",
      "------------------------------------------------------------------------------------------------------------------------\n",
      "source: 간만에 여자친구랑 데이트 하기로 했어.\n",
      "answered: 충분히 스스로 극복 할 수 있 어요 .\n",
      "------------------------------------------------------------------------------------------------------------------------\n",
      "source: 집에 있는다는 소리야.\n",
      "answered: 집 마련 이 에요 .\n",
      "------------------------------------------------------------------------------------------------------------------------\n"
     ]
    },
    {
     "data": {
      "application/vnd.jupyter.widget-view+json": {
       "model_id": "d9d213b9397345e68990e640f6910253",
       "version_major": 2,
       "version_minor": 0
      },
      "text/plain": [
       "  0%|          | 0/324 [00:00<?, ?it/s]"
      ]
     },
     "metadata": {},
     "output_type": "display_data"
    },
    {
     "name": "stdout",
     "output_type": "stream",
     "text": [
      "Num of Sample: 324\n",
      "Total Score: 0.0274\n",
      "------------------------------------------------------------------------------------------------------------------------\n"
     ]
    },
    {
     "data": {
      "application/vnd.jupyter.widget-view+json": {
       "model_id": "9584dc1261e047589071c1d055d613b2",
       "version_major": 2,
       "version_minor": 0
      },
      "text/plain": [
       "  0%|          | 0/501 [00:00<?, ?it/s]"
      ]
     },
     "metadata": {},
     "output_type": "display_data"
    },
    {
     "name": "stdout",
     "output_type": "stream",
     "text": [
      "Epoch : 58\n",
      "------------------------------------------------------------------------------------------------------------------------\n",
      "source: 지루하다, 놀러가고 싶어.\n",
      "answered: 사랑 이에 못가 궁금 해요 .\n",
      "------------------------------------------------------------------------------------------------------------------------\n",
      "source: 오늘 일찍 일어났더니 피곤하다.\n",
      "answered: 후회 만 남 나 나 나 봅니다 .\n",
      "------------------------------------------------------------------------------------------------------------------------\n",
      "source: 간만에 여자친구랑 데이트 하기로 했어.\n",
      "answered: 충분히 스스로 극복 할 수 있 을 거 예요 .\n",
      "------------------------------------------------------------------------------------------------------------------------\n",
      "source: 집에 있는다는 소리야.\n",
      "answered: 집 마련 이 에요 .\n",
      "------------------------------------------------------------------------------------------------------------------------\n"
     ]
    },
    {
     "data": {
      "application/vnd.jupyter.widget-view+json": {
       "model_id": "bf7d42efae34465da9d83e4f766999f3",
       "version_major": 2,
       "version_minor": 0
      },
      "text/plain": [
       "  0%|          | 0/324 [00:00<?, ?it/s]"
      ]
     },
     "metadata": {},
     "output_type": "display_data"
    },
    {
     "name": "stdout",
     "output_type": "stream",
     "text": [
      "Num of Sample: 324\n",
      "Total Score: 0.0318\n",
      "------------------------------------------------------------------------------------------------------------------------\n"
     ]
    },
    {
     "data": {
      "application/vnd.jupyter.widget-view+json": {
       "model_id": "1ff18eae96f74e88b586dd6880fb4c86",
       "version_major": 2,
       "version_minor": 0
      },
      "text/plain": [
       "  0%|          | 0/501 [00:00<?, ?it/s]"
      ]
     },
     "metadata": {},
     "output_type": "display_data"
    },
    {
     "name": "stdout",
     "output_type": "stream",
     "text": [
      "Epoch : 59\n",
      "------------------------------------------------------------------------------------------------------------------------\n",
      "source: 지루하다, 놀러가고 싶어.\n",
      "answered: 사랑 이에 협조 받 ㄴ다는 것 예요 .\n",
      "------------------------------------------------------------------------------------------------------------------------\n",
      "source: 오늘 일찍 일어났더니 피곤하다.\n",
      "answered: 후회 만 남 나 들 이 있 나 봐요 .\n",
      "------------------------------------------------------------------------------------------------------------------------\n",
      "source: 간만에 여자친구랑 데이트 하기로 했어.\n",
      "answered: 충분히 스스로 극복 할 수 있 을 거 예요 .\n",
      "------------------------------------------------------------------------------------------------------------------------\n",
      "source: 집에 있는다는 소리야.\n",
      "answered: 나 들 이 들 과 연락 도 있 나 봐요 .\n",
      "------------------------------------------------------------------------------------------------------------------------\n"
     ]
    },
    {
     "data": {
      "application/vnd.jupyter.widget-view+json": {
       "model_id": "d214aff90293481cae256326d8a0a241",
       "version_major": 2,
       "version_minor": 0
      },
      "text/plain": [
       "  0%|          | 0/324 [00:00<?, ?it/s]"
      ]
     },
     "metadata": {},
     "output_type": "display_data"
    },
    {
     "name": "stdout",
     "output_type": "stream",
     "text": [
      "Num of Sample: 324\n",
      "Total Score: 0.0284\n",
      "------------------------------------------------------------------------------------------------------------------------\n"
     ]
    },
    {
     "data": {
      "application/vnd.jupyter.widget-view+json": {
       "model_id": "a7f07a9c69494b188afcee491700f4f8",
       "version_major": 2,
       "version_minor": 0
      },
      "text/plain": [
       "  0%|          | 0/501 [00:00<?, ?it/s]"
      ]
     },
     "metadata": {},
     "output_type": "display_data"
    },
    {
     "name": "stdout",
     "output_type": "stream",
     "text": [
      "Epoch : 60\n",
      "------------------------------------------------------------------------------------------------------------------------\n",
      "source: 지루하다, 놀러가고 싶어.\n",
      "answered: 바로 잊 는 것 도 좋 을 것 예요 는데\n",
      "------------------------------------------------------------------------------------------------------------------------\n",
      "source: 오늘 일찍 일어났더니 피곤하다.\n",
      "answered: 후회 만 더 힘내 세요 .\n",
      "------------------------------------------------------------------------------------------------------------------------\n",
      "source: 간만에 여자친구랑 데이트 하기로 했어.\n",
      "answered: 충분히 스스로 극복 할 수 있 을 거 예요 .\n",
      "------------------------------------------------------------------------------------------------------------------------\n",
      "source: 집에 있는다는 소리야.\n",
      "answered: 집 마련 이 에요 .\n",
      "------------------------------------------------------------------------------------------------------------------------\n"
     ]
    },
    {
     "data": {
      "application/vnd.jupyter.widget-view+json": {
       "model_id": "801d765b2626476b92e2fbe4008e6e30",
       "version_major": 2,
       "version_minor": 0
      },
      "text/plain": [
       "  0%|          | 0/324 [00:00<?, ?it/s]"
      ]
     },
     "metadata": {},
     "output_type": "display_data"
    },
    {
     "name": "stdout",
     "output_type": "stream",
     "text": [
      "Num of Sample: 324\n",
      "Total Score: 0.0242\n",
      "------------------------------------------------------------------------------------------------------------------------\n"
     ]
    },
    {
     "data": {
      "application/vnd.jupyter.widget-view+json": {
       "model_id": "9ab703024a7146f8bb53cd7040f63428",
       "version_major": 2,
       "version_minor": 0
      },
      "text/plain": [
       "  0%|          | 0/501 [00:00<?, ?it/s]"
      ]
     },
     "metadata": {},
     "output_type": "display_data"
    },
    {
     "name": "stdout",
     "output_type": "stream",
     "text": [
      "Epoch : 61\n",
      "------------------------------------------------------------------------------------------------------------------------\n",
      "source: 지루하다, 놀러가고 싶어.\n",
      "answered: 는 마세요 는데\n",
      "------------------------------------------------------------------------------------------------------------------------\n",
      "source: 오늘 일찍 일어났더니 피곤하다.\n",
      "answered: 후회 만 남 만 없 나 봐요 .\n",
      "------------------------------------------------------------------------------------------------------------------------\n",
      "source: 간만에 여자친구랑 데이트 하기로 했어.\n",
      "answered: 충분히 스스로 극복 할 수 있 어요 .\n",
      "------------------------------------------------------------------------------------------------------------------------\n",
      "source: 집에 있는다는 소리야.\n",
      "answered: 집 에 도움 이 되 길 바랍니다 .\n",
      "------------------------------------------------------------------------------------------------------------------------\n"
     ]
    },
    {
     "data": {
      "application/vnd.jupyter.widget-view+json": {
       "model_id": "d42350362ea44d389bf1b56af95e12df",
       "version_major": 2,
       "version_minor": 0
      },
      "text/plain": [
       "  0%|          | 0/324 [00:00<?, ?it/s]"
      ]
     },
     "metadata": {},
     "output_type": "display_data"
    },
    {
     "name": "stdout",
     "output_type": "stream",
     "text": [
      "Num of Sample: 324\n",
      "Total Score: 0.0350\n",
      "------------------------------------------------------------------------------------------------------------------------\n"
     ]
    },
    {
     "data": {
      "application/vnd.jupyter.widget-view+json": {
       "model_id": "00774c8834804723b06555d44b17b61d",
       "version_major": 2,
       "version_minor": 0
      },
      "text/plain": [
       "  0%|          | 0/501 [00:00<?, ?it/s]"
      ]
     },
     "metadata": {},
     "output_type": "display_data"
    },
    {
     "name": "stdout",
     "output_type": "stream",
     "text": [
      "Epoch : 62\n",
      "------------------------------------------------------------------------------------------------------------------------\n",
      "source: 지루하다, 놀러가고 싶어.\n",
      "answered: ㄴ다는 마세요 .\n",
      "------------------------------------------------------------------------------------------------------------------------\n",
      "source: 오늘 일찍 일어났더니 피곤하다.\n",
      "answered: 후회 만 남 만 있 었 나 봐요 .\n",
      "------------------------------------------------------------------------------------------------------------------------\n",
      "source: 간만에 여자친구랑 데이트 하기로 했어.\n",
      "answered: 충분히 스스로 만 하 세요 .\n",
      "------------------------------------------------------------------------------------------------------------------------\n",
      "source: 집에 있는다는 소리야.\n",
      "answered: 집 마련 이 지요 .\n",
      "------------------------------------------------------------------------------------------------------------------------\n"
     ]
    },
    {
     "data": {
      "application/vnd.jupyter.widget-view+json": {
       "model_id": "193d19e29a294ad29c3f398490d5e9d7",
       "version_major": 2,
       "version_minor": 0
      },
      "text/plain": [
       "  0%|          | 0/324 [00:00<?, ?it/s]"
      ]
     },
     "metadata": {},
     "output_type": "display_data"
    },
    {
     "name": "stdout",
     "output_type": "stream",
     "text": [
      "Num of Sample: 324\n",
      "Total Score: 0.0321\n",
      "------------------------------------------------------------------------------------------------------------------------\n"
     ]
    },
    {
     "data": {
      "application/vnd.jupyter.widget-view+json": {
       "model_id": "ce7234dab9de4a85ab79dc252b9af8f7",
       "version_major": 2,
       "version_minor": 0
      },
      "text/plain": [
       "  0%|          | 0/501 [00:00<?, ?it/s]"
      ]
     },
     "metadata": {},
     "output_type": "display_data"
    },
    {
     "name": "stdout",
     "output_type": "stream",
     "text": [
      "Epoch : 63\n",
      "------------------------------------------------------------------------------------------------------------------------\n",
      "source: 지루하다, 놀러가고 싶어.\n",
      "answered: ㄴ다는 마세요 는데\n",
      "------------------------------------------------------------------------------------------------------------------------\n",
      "source: 오늘 일찍 일어났더니 피곤하다.\n",
      "answered: 후회 만 후회 만 남 을 거 예요 .\n",
      "------------------------------------------------------------------------------------------------------------------------\n",
      "source: 간만에 여자친구랑 데이트 하기로 했어.\n",
      "answered: 그럴 수 도 있 어요 .\n",
      "------------------------------------------------------------------------------------------------------------------------\n",
      "source: 집에 있는다는 소리야.\n",
      "answered: 집 이 맘 도 집 마련 이 지요 .\n",
      "------------------------------------------------------------------------------------------------------------------------\n"
     ]
    },
    {
     "data": {
      "application/vnd.jupyter.widget-view+json": {
       "model_id": "18bd3974177d433492ce6ffe862d28e7",
       "version_major": 2,
       "version_minor": 0
      },
      "text/plain": [
       "  0%|          | 0/324 [00:00<?, ?it/s]"
      ]
     },
     "metadata": {},
     "output_type": "display_data"
    },
    {
     "name": "stdout",
     "output_type": "stream",
     "text": [
      "Num of Sample: 324\n",
      "Total Score: 0.0289\n",
      "------------------------------------------------------------------------------------------------------------------------\n"
     ]
    },
    {
     "data": {
      "application/vnd.jupyter.widget-view+json": {
       "model_id": "41a90e7281d7471dbb1323257e377bd8",
       "version_major": 2,
       "version_minor": 0
      },
      "text/plain": [
       "  0%|          | 0/501 [00:00<?, ?it/s]"
      ]
     },
     "metadata": {},
     "output_type": "display_data"
    },
    {
     "name": "stdout",
     "output_type": "stream",
     "text": [
      "Epoch : 64\n",
      "------------------------------------------------------------------------------------------------------------------------\n",
      "source: 지루하다, 놀러가고 싶어.\n",
      "answered: 는 것 도 중요 해요 .\n",
      "------------------------------------------------------------------------------------------------------------------------\n",
      "source: 오늘 일찍 일어났더니 피곤하다.\n",
      "answered: 후회 만 후회 만 후회 만 남 나 봐요 .\n",
      "------------------------------------------------------------------------------------------------------------------------\n",
      "source: 간만에 여자친구랑 데이트 하기로 했어.\n",
      "answered: 충분히 스스로 극복 할 수 있 을 거 예요 .\n",
      "------------------------------------------------------------------------------------------------------------------------\n",
      "source: 집에 있는다는 소리야.\n",
      "answered: 같이 살 고 싶 은 사람 이 곁 에서 살 아요 .\n",
      "------------------------------------------------------------------------------------------------------------------------\n"
     ]
    },
    {
     "data": {
      "application/vnd.jupyter.widget-view+json": {
       "model_id": "f9d15cfb769d4d68b6dd55b12fded13e",
       "version_major": 2,
       "version_minor": 0
      },
      "text/plain": [
       "  0%|          | 0/324 [00:00<?, ?it/s]"
      ]
     },
     "metadata": {},
     "output_type": "display_data"
    },
    {
     "name": "stdout",
     "output_type": "stream",
     "text": [
      "Num of Sample: 324\n",
      "Total Score: 0.0302\n",
      "------------------------------------------------------------------------------------------------------------------------\n"
     ]
    },
    {
     "data": {
      "application/vnd.jupyter.widget-view+json": {
       "model_id": "5067d6d9519b43729aeabc85b4dfa029",
       "version_major": 2,
       "version_minor": 0
      },
      "text/plain": [
       "  0%|          | 0/501 [00:00<?, ?it/s]"
      ]
     },
     "metadata": {},
     "output_type": "display_data"
    },
    {
     "name": "stdout",
     "output_type": "stream",
     "text": [
      "Epoch : 65\n",
      "------------------------------------------------------------------------------------------------------------------------\n",
      "source: 지루하다, 놀러가고 싶어.\n",
      "answered: ㄴ다는 것 도 있 어요 는데\n",
      "------------------------------------------------------------------------------------------------------------------------\n",
      "source: 오늘 일찍 일어났더니 피곤하다.\n",
      "answered: 후회 만 남 만 해요 .\n",
      "------------------------------------------------------------------------------------------------------------------------\n",
      "source: 간만에 여자친구랑 데이트 하기로 했어.\n",
      "answered: 그럴 수 도 있 어요 .\n",
      "------------------------------------------------------------------------------------------------------------------------\n",
      "source: 집에 있는다는 소리야.\n",
      "answered: 같이 살 고 싶 은 사람 이 있 나 봐요 .\n",
      "------------------------------------------------------------------------------------------------------------------------\n"
     ]
    },
    {
     "data": {
      "application/vnd.jupyter.widget-view+json": {
       "model_id": "d5cd50d08d544a9aab95eae8fdba6854",
       "version_major": 2,
       "version_minor": 0
      },
      "text/plain": [
       "  0%|          | 0/324 [00:00<?, ?it/s]"
      ]
     },
     "metadata": {},
     "output_type": "display_data"
    },
    {
     "name": "stdout",
     "output_type": "stream",
     "text": [
      "Num of Sample: 324\n",
      "Total Score: 0.0271\n",
      "------------------------------------------------------------------------------------------------------------------------\n"
     ]
    },
    {
     "data": {
      "application/vnd.jupyter.widget-view+json": {
       "model_id": "26ce7f64005f4763b6ea305896903497",
       "version_major": 2,
       "version_minor": 0
      },
      "text/plain": [
       "  0%|          | 0/501 [00:00<?, ?it/s]"
      ]
     },
     "metadata": {},
     "output_type": "display_data"
    },
    {
     "name": "stdout",
     "output_type": "stream",
     "text": [
      "Epoch : 66\n",
      "------------------------------------------------------------------------------------------------------------------------\n",
      "source: 지루하다, 놀러가고 싶어.\n",
      "answered: 는 것 도 중요 해요 .\n",
      "------------------------------------------------------------------------------------------------------------------------\n",
      "source: 오늘 일찍 일어났더니 피곤하다.\n",
      "answered: 후회 만 후회 만 남 았 네요 .\n",
      "------------------------------------------------------------------------------------------------------------------------\n",
      "source: 간만에 여자친구랑 데이트 하기로 했어.\n",
      "answered: 은 자신 을 충분히 스스로 에게 좋 은 사람 은 게 사세요 .\n",
      "------------------------------------------------------------------------------------------------------------------------\n",
      "source: 집에 있는다는 소리야.\n",
      "answered: 집 이 집 마련 이 죠 .\n",
      "------------------------------------------------------------------------------------------------------------------------\n"
     ]
    },
    {
     "data": {
      "application/vnd.jupyter.widget-view+json": {
       "model_id": "e35b47e137dd45feb341c1349a29a729",
       "version_major": 2,
       "version_minor": 0
      },
      "text/plain": [
       "  0%|          | 0/324 [00:00<?, ?it/s]"
      ]
     },
     "metadata": {},
     "output_type": "display_data"
    },
    {
     "name": "stdout",
     "output_type": "stream",
     "text": [
      "Num of Sample: 324\n",
      "Total Score: 0.0317\n",
      "------------------------------------------------------------------------------------------------------------------------\n"
     ]
    },
    {
     "data": {
      "application/vnd.jupyter.widget-view+json": {
       "model_id": "3d11946231cf4176903b0834b22ae64e",
       "version_major": 2,
       "version_minor": 0
      },
      "text/plain": [
       "  0%|          | 0/501 [00:00<?, ?it/s]"
      ]
     },
     "metadata": {},
     "output_type": "display_data"
    },
    {
     "name": "stdout",
     "output_type": "stream",
     "text": [
      "Epoch : 67\n",
      "------------------------------------------------------------------------------------------------------------------------\n",
      "source: 지루하다, 놀러가고 싶어.\n",
      "answered: ㄴ다는 마세요 는데\n",
      "------------------------------------------------------------------------------------------------------------------------\n",
      "source: 오늘 일찍 일어났더니 피곤하다.\n",
      "answered: 후회 만 후회 만 후회 만 남 나 봐요 .\n",
      "------------------------------------------------------------------------------------------------------------------------\n",
      "source: 간만에 여자친구랑 데이트 하기로 했어.\n",
      "answered: 옆 에 없 은 사람 이 다 고 자신 에게 세요 .\n",
      "------------------------------------------------------------------------------------------------------------------------\n",
      "source: 집에 있는다는 소리야.\n",
      "answered: 집 에 있 잖아요 .\n",
      "------------------------------------------------------------------------------------------------------------------------\n"
     ]
    },
    {
     "data": {
      "application/vnd.jupyter.widget-view+json": {
       "model_id": "717a2390f0034f128de0ea4a41ed6b9e",
       "version_major": 2,
       "version_minor": 0
      },
      "text/plain": [
       "  0%|          | 0/324 [00:00<?, ?it/s]"
      ]
     },
     "metadata": {},
     "output_type": "display_data"
    },
    {
     "name": "stdout",
     "output_type": "stream",
     "text": [
      "Num of Sample: 324\n",
      "Total Score: 0.0290\n",
      "------------------------------------------------------------------------------------------------------------------------\n"
     ]
    },
    {
     "data": {
      "application/vnd.jupyter.widget-view+json": {
       "model_id": "5e12aeb2ee594725a0ffa9d32ddbc535",
       "version_major": 2,
       "version_minor": 0
      },
      "text/plain": [
       "  0%|          | 0/501 [00:00<?, ?it/s]"
      ]
     },
     "metadata": {},
     "output_type": "display_data"
    },
    {
     "name": "stdout",
     "output_type": "stream",
     "text": [
      "Epoch : 68\n",
      "------------------------------------------------------------------------------------------------------------------------\n",
      "source: 지루하다, 놀러가고 싶어.\n",
      "answered: 이에 많이 힘들 어요 는데\n",
      "------------------------------------------------------------------------------------------------------------------------\n",
      "source: 오늘 일찍 일어났더니 피곤하다.\n",
      "answered: 후회 만 남 만 남 았 나 봐요 .\n",
      "------------------------------------------------------------------------------------------------------------------------\n",
      "source: 간만에 여자친구랑 데이트 하기로 했어.\n",
      "answered: 충분히 스스로 만 은데 충분히 스스로 에게 좋 은 사람 에게 좋 아요 .\n",
      "------------------------------------------------------------------------------------------------------------------------\n",
      "source: 집에 있는다는 소리야.\n",
      "answered: 가지 마요 . 같이 살 고 집 마련 이 들 게 살 아요 .\n",
      "------------------------------------------------------------------------------------------------------------------------\n"
     ]
    },
    {
     "data": {
      "application/vnd.jupyter.widget-view+json": {
       "model_id": "3bca713b59a648dbb6972b2e6ab8c41a",
       "version_major": 2,
       "version_minor": 0
      },
      "text/plain": [
       "  0%|          | 0/324 [00:00<?, ?it/s]"
      ]
     },
     "metadata": {},
     "output_type": "display_data"
    },
    {
     "name": "stdout",
     "output_type": "stream",
     "text": [
      "Num of Sample: 324\n",
      "Total Score: 0.0284\n",
      "------------------------------------------------------------------------------------------------------------------------\n"
     ]
    },
    {
     "data": {
      "application/vnd.jupyter.widget-view+json": {
       "model_id": "4d92b7a935464b93b0eaeaa848b53171",
       "version_major": 2,
       "version_minor": 0
      },
      "text/plain": [
       "  0%|          | 0/501 [00:00<?, ?it/s]"
      ]
     },
     "metadata": {},
     "output_type": "display_data"
    },
    {
     "name": "stdout",
     "output_type": "stream",
     "text": [
      "Epoch : 69\n",
      "------------------------------------------------------------------------------------------------------------------------\n",
      "source: 지루하다, 놀러가고 싶어.\n",
      "answered: 사랑 그러 으며 살펴보 세요 는데\n",
      "------------------------------------------------------------------------------------------------------------------------\n",
      "source: 오늘 일찍 일어났더니 피곤하다.\n",
      "answered: 후회 만 남 만 남 만 해요 .\n",
      "------------------------------------------------------------------------------------------------------------------------\n",
      "source: 간만에 여자친구랑 데이트 하기로 했어.\n",
      "answered: 충분히 스스로 극복 할 수 있 어요 .\n",
      "------------------------------------------------------------------------------------------------------------------------\n",
      "source: 집에 있는다는 소리야.\n",
      "answered: 같이 살 고 싶 은 사람 이 곁 에 요 .\n",
      "------------------------------------------------------------------------------------------------------------------------\n"
     ]
    },
    {
     "data": {
      "application/vnd.jupyter.widget-view+json": {
       "model_id": "b9e7b8e48243460084bd3bc29e55b6c7",
       "version_major": 2,
       "version_minor": 0
      },
      "text/plain": [
       "  0%|          | 0/324 [00:00<?, ?it/s]"
      ]
     },
     "metadata": {},
     "output_type": "display_data"
    },
    {
     "name": "stdout",
     "output_type": "stream",
     "text": [
      "Num of Sample: 324\n",
      "Total Score: 0.0260\n",
      "------------------------------------------------------------------------------------------------------------------------\n"
     ]
    },
    {
     "data": {
      "application/vnd.jupyter.widget-view+json": {
       "model_id": "a53b58f8034146429a517decf5b2d86c",
       "version_major": 2,
       "version_minor": 0
      },
      "text/plain": [
       "  0%|          | 0/501 [00:00<?, ?it/s]"
      ]
     },
     "metadata": {},
     "output_type": "display_data"
    },
    {
     "name": "stdout",
     "output_type": "stream",
     "text": [
      "Epoch : 70\n",
      "------------------------------------------------------------------------------------------------------------------------\n",
      "source: 지루하다, 놀러가고 싶어.\n",
      "answered: 사랑 그러 으며 는데\n",
      "------------------------------------------------------------------------------------------------------------------------\n",
      "source: 오늘 일찍 일어났더니 피곤하다.\n",
      "answered: 후회 만 남 만 .\n",
      "------------------------------------------------------------------------------------------------------------------------\n",
      "source: 간만에 여자친구랑 데이트 하기로 했어.\n",
      "answered: 충분히 스스로 극복 할 수 있 어요 .\n",
      "------------------------------------------------------------------------------------------------------------------------\n",
      "source: 집에 있는다는 소리야.\n",
      "answered: 집 마련 이 지요 .\n",
      "------------------------------------------------------------------------------------------------------------------------\n"
     ]
    },
    {
     "data": {
      "application/vnd.jupyter.widget-view+json": {
       "model_id": "042a1d09129f4d83a70bbcacdaf357cf",
       "version_major": 2,
       "version_minor": 0
      },
      "text/plain": [
       "  0%|          | 0/324 [00:00<?, ?it/s]"
      ]
     },
     "metadata": {},
     "output_type": "display_data"
    },
    {
     "name": "stdout",
     "output_type": "stream",
     "text": [
      "Num of Sample: 324\n",
      "Total Score: 0.0289\n",
      "------------------------------------------------------------------------------------------------------------------------\n"
     ]
    },
    {
     "data": {
      "application/vnd.jupyter.widget-view+json": {
       "model_id": "3aa173c8d12e46a68541ab9bf284440f",
       "version_major": 2,
       "version_minor": 0
      },
      "text/plain": [
       "  0%|          | 0/501 [00:00<?, ?it/s]"
      ]
     },
     "metadata": {},
     "output_type": "display_data"
    },
    {
     "name": "stdout",
     "output_type": "stream",
     "text": [
      "Epoch : 71\n",
      "------------------------------------------------------------------------------------------------------------------------\n",
      "source: 지루하다, 놀러가고 싶어.\n",
      "answered: 기에 있 어요 는데\n",
      "------------------------------------------------------------------------------------------------------------------------\n",
      "source: 오늘 일찍 일어났더니 피곤하다.\n",
      "answered: 후회 만 남 나 봐요 .\n",
      "------------------------------------------------------------------------------------------------------------------------\n",
      "source: 간만에 여자친구랑 데이트 하기로 했어.\n",
      "answered: 충분히 스스로 만 해요 .\n",
      "------------------------------------------------------------------------------------------------------------------------\n",
      "source: 집에 있는다는 소리야.\n",
      "answered: 집 마련 이 들 선 이 바랍니다 .\n",
      "------------------------------------------------------------------------------------------------------------------------\n"
     ]
    },
    {
     "data": {
      "application/vnd.jupyter.widget-view+json": {
       "model_id": "dfbe1b2e89b84a528cd92f7ac71709fd",
       "version_major": 2,
       "version_minor": 0
      },
      "text/plain": [
       "  0%|          | 0/324 [00:00<?, ?it/s]"
      ]
     },
     "metadata": {},
     "output_type": "display_data"
    },
    {
     "name": "stdout",
     "output_type": "stream",
     "text": [
      "Num of Sample: 324\n",
      "Total Score: 0.0265\n",
      "------------------------------------------------------------------------------------------------------------------------\n"
     ]
    },
    {
     "data": {
      "application/vnd.jupyter.widget-view+json": {
       "model_id": "03cb7ea56f344ef7b9decf8ef22866df",
       "version_major": 2,
       "version_minor": 0
      },
      "text/plain": [
       "  0%|          | 0/501 [00:00<?, ?it/s]"
      ]
     },
     "metadata": {},
     "output_type": "display_data"
    },
    {
     "name": "stdout",
     "output_type": "stream",
     "text": [
      "Epoch : 72\n",
      "------------------------------------------------------------------------------------------------------------------------\n",
      "source: 지루하다, 놀러가고 싶어.\n",
      "answered: 바로 잊 ㄴ다는 것 도 좋 죠 .\n",
      "------------------------------------------------------------------------------------------------------------------------\n",
      "source: 오늘 일찍 일어났더니 피곤하다.\n",
      "answered: 후회 만 남 나 봐요 .\n",
      "------------------------------------------------------------------------------------------------------------------------\n",
      "source: 간만에 여자친구랑 데이트 하기로 했어.\n",
      "answered: 충분히 스스로 극복 할 수 있 을 거 예요 .\n",
      "------------------------------------------------------------------------------------------------------------------------\n",
      "source: 집에 있는다는 소리야.\n",
      "answered: 나 도 같 아요 .\n",
      "------------------------------------------------------------------------------------------------------------------------\n"
     ]
    },
    {
     "data": {
      "application/vnd.jupyter.widget-view+json": {
       "model_id": "7be152dfa0b540b996bfee8adab782c5",
       "version_major": 2,
       "version_minor": 0
      },
      "text/plain": [
       "  0%|          | 0/324 [00:00<?, ?it/s]"
      ]
     },
     "metadata": {},
     "output_type": "display_data"
    },
    {
     "name": "stdout",
     "output_type": "stream",
     "text": [
      "Num of Sample: 324\n",
      "Total Score: 0.0276\n",
      "------------------------------------------------------------------------------------------------------------------------\n"
     ]
    },
    {
     "data": {
      "application/vnd.jupyter.widget-view+json": {
       "model_id": "7bec073c86364cbabd3010593d7c807b",
       "version_major": 2,
       "version_minor": 0
      },
      "text/plain": [
       "  0%|          | 0/501 [00:00<?, ?it/s]"
      ]
     },
     "metadata": {},
     "output_type": "display_data"
    },
    {
     "name": "stdout",
     "output_type": "stream",
     "text": [
      "Epoch : 73\n",
      "------------------------------------------------------------------------------------------------------------------------\n",
      "source: 지루하다, 놀러가고 싶어.\n",
      "answered: 마세요 는데\n",
      "------------------------------------------------------------------------------------------------------------------------\n",
      "source: 오늘 일찍 일어났더니 피곤하다.\n",
      "answered: 조금 만 더 버텨 보 세요 .\n",
      "------------------------------------------------------------------------------------------------------------------------\n",
      "source: 간만에 여자친구랑 데이트 하기로 했어.\n",
      "answered: 충분히 스스로 극복 할 수 있 을 거 예요 .\n",
      "------------------------------------------------------------------------------------------------------------------------\n",
      "source: 집에 있는다는 소리야.\n",
      "answered: 집 마련 이 지요 .\n",
      "------------------------------------------------------------------------------------------------------------------------\n"
     ]
    },
    {
     "data": {
      "application/vnd.jupyter.widget-view+json": {
       "model_id": "7ed1f3ae5ee44c9cad8c59fa458371ec",
       "version_major": 2,
       "version_minor": 0
      },
      "text/plain": [
       "  0%|          | 0/324 [00:00<?, ?it/s]"
      ]
     },
     "metadata": {},
     "output_type": "display_data"
    },
    {
     "name": "stdout",
     "output_type": "stream",
     "text": [
      "Num of Sample: 324\n",
      "Total Score: 0.0309\n",
      "------------------------------------------------------------------------------------------------------------------------\n"
     ]
    },
    {
     "data": {
      "application/vnd.jupyter.widget-view+json": {
       "model_id": "c6fbecde52f848d684212ee2bd278853",
       "version_major": 2,
       "version_minor": 0
      },
      "text/plain": [
       "  0%|          | 0/501 [00:00<?, ?it/s]"
      ]
     },
     "metadata": {},
     "output_type": "display_data"
    },
    {
     "name": "stdout",
     "output_type": "stream",
     "text": [
      "Epoch : 74\n",
      "------------------------------------------------------------------------------------------------------------------------\n",
      "source: 지루하다, 놀러가고 싶어.\n",
      "answered: 마세요 는데\n",
      "------------------------------------------------------------------------------------------------------------------------\n",
      "source: 오늘 일찍 일어났더니 피곤하다.\n",
      "answered: 조금 만 더 버텨 보 세요 .\n",
      "------------------------------------------------------------------------------------------------------------------------\n",
      "source: 간만에 여자친구랑 데이트 하기로 했어.\n",
      "answered: 당신 은 사람 을 다 하 게 하 세요 .\n",
      "------------------------------------------------------------------------------------------------------------------------\n",
      "source: 집에 있는다는 소리야.\n",
      "answered: 집 마련 이 들 때 도 있 죠 .\n",
      "------------------------------------------------------------------------------------------------------------------------\n"
     ]
    },
    {
     "data": {
      "application/vnd.jupyter.widget-view+json": {
       "model_id": "f682658d5fa54fb2bd726f16955c45a9",
       "version_major": 2,
       "version_minor": 0
      },
      "text/plain": [
       "  0%|          | 0/324 [00:00<?, ?it/s]"
      ]
     },
     "metadata": {},
     "output_type": "display_data"
    },
    {
     "name": "stdout",
     "output_type": "stream",
     "text": [
      "Num of Sample: 324\n",
      "Total Score: 0.0367\n",
      "------------------------------------------------------------------------------------------------------------------------\n"
     ]
    },
    {
     "data": {
      "application/vnd.jupyter.widget-view+json": {
       "model_id": "3f0215ad203542e7b9c492e4b9643610",
       "version_major": 2,
       "version_minor": 0
      },
      "text/plain": [
       "  0%|          | 0/501 [00:00<?, ?it/s]"
      ]
     },
     "metadata": {},
     "output_type": "display_data"
    },
    {
     "name": "stdout",
     "output_type": "stream",
     "text": [
      "Epoch : 75\n",
      "------------------------------------------------------------------------------------------------------------------------\n",
      "source: 지루하다, 놀러가고 싶어.\n",
      "answered: 사랑 했 어요 는데\n",
      "------------------------------------------------------------------------------------------------------------------------\n",
      "source: 오늘 일찍 일어났더니 피곤하다.\n",
      "answered: 후회 만 남 지 않 길 바랍니다 .\n",
      "------------------------------------------------------------------------------------------------------------------------\n",
      "source: 간만에 여자친구랑 데이트 하기로 했어.\n",
      "answered: 충분히 스스로 극복 할 수 없 어요 .\n",
      "------------------------------------------------------------------------------------------------------------------------\n",
      "source: 집에 있는다는 소리야.\n",
      "answered: 집 마련 이 집 마련 이 들 게 살 아요 .\n",
      "------------------------------------------------------------------------------------------------------------------------\n"
     ]
    },
    {
     "data": {
      "application/vnd.jupyter.widget-view+json": {
       "model_id": "2fcc00dd367b4b5788b94b834741b557",
       "version_major": 2,
       "version_minor": 0
      },
      "text/plain": [
       "  0%|          | 0/324 [00:00<?, ?it/s]"
      ]
     },
     "metadata": {},
     "output_type": "display_data"
    },
    {
     "name": "stdout",
     "output_type": "stream",
     "text": [
      "Num of Sample: 324\n",
      "Total Score: 0.0300\n",
      "------------------------------------------------------------------------------------------------------------------------\n"
     ]
    },
    {
     "data": {
      "application/vnd.jupyter.widget-view+json": {
       "model_id": "97f50450263d47ef8974279b321ba190",
       "version_major": 2,
       "version_minor": 0
      },
      "text/plain": [
       "  0%|          | 0/501 [00:00<?, ?it/s]"
      ]
     },
     "metadata": {},
     "output_type": "display_data"
    },
    {
     "name": "stdout",
     "output_type": "stream",
     "text": [
      "Epoch : 76\n",
      "------------------------------------------------------------------------------------------------------------------------\n",
      "source: 지루하다, 놀러가고 싶어.\n",
      "answered: 기에 있 는데요 는데\n",
      "------------------------------------------------------------------------------------------------------------------------\n",
      "source: 오늘 일찍 일어났더니 피곤하다.\n",
      "answered: 후회 만 남 나 봐요 .\n",
      "------------------------------------------------------------------------------------------------------------------------\n",
      "source: 간만에 여자친구랑 데이트 하기로 했어.\n",
      "answered: 충분히 스스로 극복 할 수 있 어요 .\n",
      "------------------------------------------------------------------------------------------------------------------------\n",
      "source: 집에 있는다는 소리야.\n",
      "answered: 사람 들 이 살 고 싶 은 사람 이 있 나 봐요 .\n",
      "------------------------------------------------------------------------------------------------------------------------\n"
     ]
    },
    {
     "data": {
      "application/vnd.jupyter.widget-view+json": {
       "model_id": "f33fd30532a042aaafe5b9bf776a0473",
       "version_major": 2,
       "version_minor": 0
      },
      "text/plain": [
       "  0%|          | 0/324 [00:00<?, ?it/s]"
      ]
     },
     "metadata": {},
     "output_type": "display_data"
    },
    {
     "name": "stdout",
     "output_type": "stream",
     "text": [
      "Num of Sample: 324\n",
      "Total Score: 0.0252\n",
      "------------------------------------------------------------------------------------------------------------------------\n"
     ]
    },
    {
     "data": {
      "application/vnd.jupyter.widget-view+json": {
       "model_id": "363d2f9aefaa43369a9ec5e147892b65",
       "version_major": 2,
       "version_minor": 0
      },
      "text/plain": [
       "  0%|          | 0/501 [00:00<?, ?it/s]"
      ]
     },
     "metadata": {},
     "output_type": "display_data"
    },
    {
     "name": "stdout",
     "output_type": "stream",
     "text": [
      "Epoch : 77\n",
      "------------------------------------------------------------------------------------------------------------------------\n",
      "source: 지루하다, 놀러가고 싶어.\n",
      "answered: 고 있 을 거 예요 는데\n",
      "------------------------------------------------------------------------------------------------------------------------\n",
      "source: 오늘 일찍 일어났더니 피곤하다.\n",
      "answered: 후회 만 남 나 나 나 봅니다 .\n",
      "------------------------------------------------------------------------------------------------------------------------\n",
      "source: 간만에 여자친구랑 데이트 하기로 했어.\n",
      "answered: 충분히 스스로 극복 할 수 있 을 거 예요 .\n",
      "------------------------------------------------------------------------------------------------------------------------\n",
      "source: 집에 있는다는 소리야.\n",
      "answered: 집 이 집 이 집 이 집 이 집 이 집 이 집 에서 집 이 집 이 집 에서 조심히 집 에서 시간 이 들 과 같이 살 아요 .\n",
      "------------------------------------------------------------------------------------------------------------------------\n"
     ]
    },
    {
     "data": {
      "application/vnd.jupyter.widget-view+json": {
       "model_id": "6ff11a3e63e24b5dbb0843b520ed07e0",
       "version_major": 2,
       "version_minor": 0
      },
      "text/plain": [
       "  0%|          | 0/324 [00:00<?, ?it/s]"
      ]
     },
     "metadata": {},
     "output_type": "display_data"
    },
    {
     "name": "stdout",
     "output_type": "stream",
     "text": [
      "Num of Sample: 324\n",
      "Total Score: 0.0305\n",
      "------------------------------------------------------------------------------------------------------------------------\n"
     ]
    },
    {
     "data": {
      "application/vnd.jupyter.widget-view+json": {
       "model_id": "79078c4e8ded47c1a05334a516974389",
       "version_major": 2,
       "version_minor": 0
      },
      "text/plain": [
       "  0%|          | 0/501 [00:00<?, ?it/s]"
      ]
     },
     "metadata": {},
     "output_type": "display_data"
    },
    {
     "name": "stdout",
     "output_type": "stream",
     "text": [
      "Epoch : 78\n",
      "------------------------------------------------------------------------------------------------------------------------\n",
      "source: 지루하다, 놀러가고 싶어.\n",
      "answered: 사랑 했 던 일 이 예요 는데\n",
      "------------------------------------------------------------------------------------------------------------------------\n",
      "source: 오늘 일찍 일어났더니 피곤하다.\n",
      "answered: 후회 만 남 았 나 봐요 .\n",
      "------------------------------------------------------------------------------------------------------------------------\n",
      "source: 간만에 여자친구랑 데이트 하기로 했어.\n",
      "answered: 충분히 스스로 극복 할 수 없 을 거 예요 .\n",
      "------------------------------------------------------------------------------------------------------------------------\n",
      "source: 집에 있는다는 소리야.\n",
      "answered: 집 이 집 마련 이 들 과 같이 살 러 도 있 나 봐요 .\n",
      "------------------------------------------------------------------------------------------------------------------------\n"
     ]
    },
    {
     "data": {
      "application/vnd.jupyter.widget-view+json": {
       "model_id": "02bb826b82ca4859addbf3385cc1cf38",
       "version_major": 2,
       "version_minor": 0
      },
      "text/plain": [
       "  0%|          | 0/324 [00:00<?, ?it/s]"
      ]
     },
     "metadata": {},
     "output_type": "display_data"
    },
    {
     "name": "stdout",
     "output_type": "stream",
     "text": [
      "Num of Sample: 324\n",
      "Total Score: 0.0264\n",
      "------------------------------------------------------------------------------------------------------------------------\n"
     ]
    },
    {
     "data": {
      "application/vnd.jupyter.widget-view+json": {
       "model_id": "52bce2ebb8c1423da62afe031c381d44",
       "version_major": 2,
       "version_minor": 0
      },
      "text/plain": [
       "  0%|          | 0/501 [00:00<?, ?it/s]"
      ]
     },
     "metadata": {},
     "output_type": "display_data"
    },
    {
     "name": "stdout",
     "output_type": "stream",
     "text": [
      "Epoch : 79\n",
      "------------------------------------------------------------------------------------------------------------------------\n",
      "source: 지루하다, 놀러가고 싶어.\n",
      "answered: 고 있 어요 .\n",
      "------------------------------------------------------------------------------------------------------------------------\n",
      "source: 오늘 일찍 일어났더니 피곤하다.\n",
      "answered: 후회 만 남 나 봐요 .\n",
      "------------------------------------------------------------------------------------------------------------------------\n",
      "source: 간만에 여자친구랑 데이트 하기로 했어.\n",
      "answered: 은 자신 을 다 할 수 있 어요 .\n",
      "------------------------------------------------------------------------------------------------------------------------\n",
      "source: 집에 있는다는 소리야.\n",
      "answered: 집 마련 이 들 선 이 들 선 톡 이 요 .\n",
      "------------------------------------------------------------------------------------------------------------------------\n"
     ]
    },
    {
     "data": {
      "application/vnd.jupyter.widget-view+json": {
       "model_id": "89866f7a57804b70b6127ea3c7e2cb5a",
       "version_major": 2,
       "version_minor": 0
      },
      "text/plain": [
       "  0%|          | 0/324 [00:00<?, ?it/s]"
      ]
     },
     "metadata": {},
     "output_type": "display_data"
    },
    {
     "name": "stdout",
     "output_type": "stream",
     "text": [
      "Num of Sample: 324\n",
      "Total Score: 0.0298\n",
      "------------------------------------------------------------------------------------------------------------------------\n"
     ]
    },
    {
     "data": {
      "application/vnd.jupyter.widget-view+json": {
       "model_id": "8e437cf922ac4d5da0720b37d8e29c86",
       "version_major": 2,
       "version_minor": 0
      },
      "text/plain": [
       "  0%|          | 0/501 [00:00<?, ?it/s]"
      ]
     },
     "metadata": {},
     "output_type": "display_data"
    },
    {
     "name": "stdout",
     "output_type": "stream",
     "text": [
      "Epoch : 80\n",
      "------------------------------------------------------------------------------------------------------------------------\n",
      "source: 지루하다, 놀러가고 싶어.\n",
      "answered: 바로 잊 는 마세요 는데\n",
      "------------------------------------------------------------------------------------------------------------------------\n",
      "source: 오늘 일찍 일어났더니 피곤하다.\n",
      "answered: 후회 만 남 나 봐요 .\n",
      "------------------------------------------------------------------------------------------------------------------------\n",
      "source: 간만에 여자친구랑 데이트 하기로 했어.\n",
      "answered: 그럴 수 있 어요 .\n",
      "------------------------------------------------------------------------------------------------------------------------\n",
      "source: 집에 있는다는 소리야.\n",
      "answered: 집 이 연인 들 과 함께 살 러 가 는 건 어떨까 요 .\n",
      "------------------------------------------------------------------------------------------------------------------------\n"
     ]
    },
    {
     "data": {
      "application/vnd.jupyter.widget-view+json": {
       "model_id": "8a329178c1a84208af46b9b56fa68d6d",
       "version_major": 2,
       "version_minor": 0
      },
      "text/plain": [
       "  0%|          | 0/324 [00:00<?, ?it/s]"
      ]
     },
     "metadata": {},
     "output_type": "display_data"
    },
    {
     "name": "stdout",
     "output_type": "stream",
     "text": [
      "Num of Sample: 324\n",
      "Total Score: 0.0245\n",
      "------------------------------------------------------------------------------------------------------------------------\n"
     ]
    },
    {
     "data": {
      "application/vnd.jupyter.widget-view+json": {
       "model_id": "b3292c90aa114410a0634cd08c1f0e84",
       "version_major": 2,
       "version_minor": 0
      },
      "text/plain": [
       "  0%|          | 0/501 [00:00<?, ?it/s]"
      ]
     },
     "metadata": {},
     "output_type": "display_data"
    },
    {
     "name": "stdout",
     "output_type": "stream",
     "text": [
      "Epoch : 81\n",
      "------------------------------------------------------------------------------------------------------------------------\n",
      "source: 지루하다, 놀러가고 싶어.\n",
      "answered: 사랑 를 내 ㅂ시오 는데\n",
      "------------------------------------------------------------------------------------------------------------------------\n",
      "source: 오늘 일찍 일어났더니 피곤하다.\n",
      "answered: 후회 만 더 힘내 세요 .\n",
      "------------------------------------------------------------------------------------------------------------------------\n",
      "source: 간만에 여자친구랑 데이트 하기로 했어.\n",
      "answered: 충분히 스스로 극복 할 수 있 어요 .\n",
      "------------------------------------------------------------------------------------------------------------------------\n",
      "source: 집에 있는다는 소리야.\n",
      "answered: 집 에 도 있 시간 이 집 마련 이 들 이 같이 살 아요 .\n",
      "------------------------------------------------------------------------------------------------------------------------\n"
     ]
    },
    {
     "data": {
      "application/vnd.jupyter.widget-view+json": {
       "model_id": "be1517c5c3c9423e83449a3f9d15e77c",
       "version_major": 2,
       "version_minor": 0
      },
      "text/plain": [
       "  0%|          | 0/324 [00:00<?, ?it/s]"
      ]
     },
     "metadata": {},
     "output_type": "display_data"
    },
    {
     "name": "stdout",
     "output_type": "stream",
     "text": [
      "Num of Sample: 324\n",
      "Total Score: 0.0300\n",
      "------------------------------------------------------------------------------------------------------------------------\n"
     ]
    },
    {
     "data": {
      "application/vnd.jupyter.widget-view+json": {
       "model_id": "e60c6aaeae6f435d8c9b7b9e92d381ab",
       "version_major": 2,
       "version_minor": 0
      },
      "text/plain": [
       "  0%|          | 0/501 [00:00<?, ?it/s]"
      ]
     },
     "metadata": {},
     "output_type": "display_data"
    },
    {
     "name": "stdout",
     "output_type": "stream",
     "text": [
      "Epoch : 82\n",
      "------------------------------------------------------------------------------------------------------------------------\n",
      "source: 지루하다, 놀러가고 싶어.\n",
      "answered: 사랑 시키 면 던 만큼 아픔 도 있 어요 는데\n",
      "------------------------------------------------------------------------------------------------------------------------\n",
      "source: 오늘 일찍 일어났더니 피곤하다.\n",
      "answered: 조금 만 더 버텨 보 세요 .\n",
      "------------------------------------------------------------------------------------------------------------------------\n",
      "source: 간만에 여자친구랑 데이트 하기로 했어.\n",
      "answered: 충분히 스스로 극복 할 수 있 어요 .\n",
      "------------------------------------------------------------------------------------------------------------------------\n",
      "source: 집에 있는다는 소리야.\n",
      "answered: 집 에 도 조심히 나 봐요 .\n",
      "------------------------------------------------------------------------------------------------------------------------\n"
     ]
    },
    {
     "data": {
      "application/vnd.jupyter.widget-view+json": {
       "model_id": "18c1a9fc4315495c8ab6f536af5d3552",
       "version_major": 2,
       "version_minor": 0
      },
      "text/plain": [
       "  0%|          | 0/324 [00:00<?, ?it/s]"
      ]
     },
     "metadata": {},
     "output_type": "display_data"
    },
    {
     "name": "stdout",
     "output_type": "stream",
     "text": [
      "Num of Sample: 324\n",
      "Total Score: 0.0270\n",
      "------------------------------------------------------------------------------------------------------------------------\n"
     ]
    },
    {
     "data": {
      "application/vnd.jupyter.widget-view+json": {
       "model_id": "90f18670e44b42efa407eb5fe03a0327",
       "version_major": 2,
       "version_minor": 0
      },
      "text/plain": [
       "  0%|          | 0/501 [00:00<?, ?it/s]"
      ]
     },
     "metadata": {},
     "output_type": "display_data"
    },
    {
     "name": "stdout",
     "output_type": "stream",
     "text": [
      "Epoch : 83\n",
      "------------------------------------------------------------------------------------------------------------------------\n",
      "source: 지루하다, 놀러가고 싶어.\n",
      "answered: 는 를 많이 마세요 는데\n",
      "------------------------------------------------------------------------------------------------------------------------\n",
      "source: 오늘 일찍 일어났더니 피곤하다.\n",
      "answered: 조금 만 더 버텨 보 세요 .\n",
      "------------------------------------------------------------------------------------------------------------------------\n",
      "source: 간만에 여자친구랑 데이트 하기로 했어.\n",
      "answered: 충분히 스스로 극복 할 수 있 어요 .\n",
      "------------------------------------------------------------------------------------------------------------------------\n",
      "source: 집에 있는다는 소리야.\n",
      "answered: 집 에 한 시간 이 집 마련 이 죠 .\n",
      "------------------------------------------------------------------------------------------------------------------------\n"
     ]
    },
    {
     "data": {
      "application/vnd.jupyter.widget-view+json": {
       "model_id": "c8999bb5196e4ea299a646f688734ce6",
       "version_major": 2,
       "version_minor": 0
      },
      "text/plain": [
       "  0%|          | 0/324 [00:00<?, ?it/s]"
      ]
     },
     "metadata": {},
     "output_type": "display_data"
    },
    {
     "name": "stdout",
     "output_type": "stream",
     "text": [
      "Num of Sample: 324\n",
      "Total Score: 0.0307\n",
      "------------------------------------------------------------------------------------------------------------------------\n"
     ]
    },
    {
     "data": {
      "application/vnd.jupyter.widget-view+json": {
       "model_id": "d9a227329c494d7881e90646864d5912",
       "version_major": 2,
       "version_minor": 0
      },
      "text/plain": [
       "  0%|          | 0/501 [00:00<?, ?it/s]"
      ]
     },
     "metadata": {},
     "output_type": "display_data"
    },
    {
     "name": "stdout",
     "output_type": "stream",
     "text": [
      "Epoch : 84\n",
      "------------------------------------------------------------------------------------------------------------------------\n",
      "source: 지루하다, 놀러가고 싶어.\n",
      "answered: 는 것 예요 는데\n",
      "------------------------------------------------------------------------------------------------------------------------\n",
      "source: 오늘 일찍 일어났더니 피곤하다.\n",
      "answered: 조금 만 더 힘내 세요 .\n",
      "------------------------------------------------------------------------------------------------------------------------\n",
      "source: 간만에 여자친구랑 데이트 하기로 했어.\n",
      "answered: 충분히 스스로 극복 할 수 없 어요 .\n",
      "------------------------------------------------------------------------------------------------------------------------\n",
      "source: 집에 있는다는 소리야.\n",
      "answered: 집 에서 쉬 는 시간 도 집 마련 이 요 .\n",
      "------------------------------------------------------------------------------------------------------------------------\n"
     ]
    },
    {
     "data": {
      "application/vnd.jupyter.widget-view+json": {
       "model_id": "431e69d2cebc410eb52669f8e75daa44",
       "version_major": 2,
       "version_minor": 0
      },
      "text/plain": [
       "  0%|          | 0/324 [00:00<?, ?it/s]"
      ]
     },
     "metadata": {},
     "output_type": "display_data"
    },
    {
     "name": "stdout",
     "output_type": "stream",
     "text": [
      "Num of Sample: 324\n",
      "Total Score: 0.0261\n",
      "------------------------------------------------------------------------------------------------------------------------\n"
     ]
    },
    {
     "data": {
      "application/vnd.jupyter.widget-view+json": {
       "model_id": "a56ae336b4424f35bf85f8aaa6ca6e00",
       "version_major": 2,
       "version_minor": 0
      },
      "text/plain": [
       "  0%|          | 0/501 [00:00<?, ?it/s]"
      ]
     },
     "metadata": {},
     "output_type": "display_data"
    },
    {
     "name": "stdout",
     "output_type": "stream",
     "text": [
      "Epoch : 85\n",
      "------------------------------------------------------------------------------------------------------------------------\n",
      "source: 지루하다, 놀러가고 싶어.\n",
      "answered: 는 것 예요 는데\n",
      "------------------------------------------------------------------------------------------------------------------------\n",
      "source: 오늘 일찍 일어났더니 피곤하다.\n",
      "answered: 조금 만 더 힘내 세요 .\n",
      "------------------------------------------------------------------------------------------------------------------------\n",
      "source: 간만에 여자친구랑 데이트 하기로 했어.\n",
      "answered: 그럴 수 있 어요 .\n",
      "------------------------------------------------------------------------------------------------------------------------\n",
      "source: 집에 있는다는 소리야.\n",
      "answered: 나 들 과 같이 살 러 가 도 집 마련 이 들 선 에서 집 도 좋 아요 .\n",
      "------------------------------------------------------------------------------------------------------------------------\n"
     ]
    },
    {
     "data": {
      "application/vnd.jupyter.widget-view+json": {
       "model_id": "df31d974222c4496b8542d183378a83a",
       "version_major": 2,
       "version_minor": 0
      },
      "text/plain": [
       "  0%|          | 0/324 [00:00<?, ?it/s]"
      ]
     },
     "metadata": {},
     "output_type": "display_data"
    },
    {
     "name": "stdout",
     "output_type": "stream",
     "text": [
      "Num of Sample: 324\n",
      "Total Score: 0.0289\n",
      "------------------------------------------------------------------------------------------------------------------------\n"
     ]
    },
    {
     "data": {
      "application/vnd.jupyter.widget-view+json": {
       "model_id": "6054dad4dfe941bcb122bbaf525d8eb2",
       "version_major": 2,
       "version_minor": 0
      },
      "text/plain": [
       "  0%|          | 0/501 [00:00<?, ?it/s]"
      ]
     },
     "metadata": {},
     "output_type": "display_data"
    },
    {
     "name": "stdout",
     "output_type": "stream",
     "text": [
      "Epoch : 86\n",
      "------------------------------------------------------------------------------------------------------------------------\n",
      "source: 지루하다, 놀러가고 싶어.\n",
      "answered: 사랑 하 는 것 도 중요 해요 .\n",
      "------------------------------------------------------------------------------------------------------------------------\n",
      "source: 오늘 일찍 일어났더니 피곤하다.\n",
      "answered: 조금 만 더 힘내 세요 .\n",
      "------------------------------------------------------------------------------------------------------------------------\n",
      "source: 간만에 여자친구랑 데이트 하기로 했어.\n",
      "answered: 충분히 스스로 극복 할 수 도 있 어요 .\n",
      "------------------------------------------------------------------------------------------------------------------------\n",
      "source: 집에 있는다는 소리야.\n",
      "answered: 집 이 집 이 집 이 집 이 집 이 집 에서 도 있 나 봐요 .\n",
      "------------------------------------------------------------------------------------------------------------------------\n"
     ]
    },
    {
     "data": {
      "application/vnd.jupyter.widget-view+json": {
       "model_id": "1071a9c456194a538c4f7e018dfae6c3",
       "version_major": 2,
       "version_minor": 0
      },
      "text/plain": [
       "  0%|          | 0/324 [00:00<?, ?it/s]"
      ]
     },
     "metadata": {},
     "output_type": "display_data"
    },
    {
     "name": "stdout",
     "output_type": "stream",
     "text": [
      "Num of Sample: 324\n",
      "Total Score: 0.0332\n",
      "------------------------------------------------------------------------------------------------------------------------\n"
     ]
    },
    {
     "data": {
      "application/vnd.jupyter.widget-view+json": {
       "model_id": "61ffe11033e449d8ae4917c87021deaf",
       "version_major": 2,
       "version_minor": 0
      },
      "text/plain": [
       "  0%|          | 0/501 [00:00<?, ?it/s]"
      ]
     },
     "metadata": {},
     "output_type": "display_data"
    },
    {
     "name": "stdout",
     "output_type": "stream",
     "text": [
      "Epoch : 87\n",
      "------------------------------------------------------------------------------------------------------------------------\n",
      "source: 지루하다, 놀러가고 싶어.\n",
      "answered: 사랑 했 던 만큼 아픔 을 예요 는데\n",
      "------------------------------------------------------------------------------------------------------------------------\n",
      "source: 오늘 일찍 일어났더니 피곤하다.\n",
      "answered: 조금 만 더 힘내 세요 .\n",
      "------------------------------------------------------------------------------------------------------------------------\n",
      "source: 간만에 여자친구랑 데이트 하기로 했어.\n",
      "answered: 충분히 스스로 극복 할 수 있 어요 .\n",
      "------------------------------------------------------------------------------------------------------------------------\n",
      "source: 집에 있는다는 소리야.\n",
      "answered: 집 마련 이 집 마련 이 들 과 시간 이 집 마련 이 집 마련 이 집 마련 이 집 사람 이 에요 .\n",
      "------------------------------------------------------------------------------------------------------------------------\n"
     ]
    },
    {
     "data": {
      "application/vnd.jupyter.widget-view+json": {
       "model_id": "b1449f56b13c4bd0878b7a4a520db317",
       "version_major": 2,
       "version_minor": 0
      },
      "text/plain": [
       "  0%|          | 0/324 [00:00<?, ?it/s]"
      ]
     },
     "metadata": {},
     "output_type": "display_data"
    },
    {
     "name": "stdout",
     "output_type": "stream",
     "text": [
      "Num of Sample: 324\n",
      "Total Score: 0.0302\n",
      "------------------------------------------------------------------------------------------------------------------------\n"
     ]
    },
    {
     "data": {
      "application/vnd.jupyter.widget-view+json": {
       "model_id": "188034b08ff241f5b5fc298e88eb20de",
       "version_major": 2,
       "version_minor": 0
      },
      "text/plain": [
       "  0%|          | 0/501 [00:00<?, ?it/s]"
      ]
     },
     "metadata": {},
     "output_type": "display_data"
    },
    {
     "name": "stdout",
     "output_type": "stream",
     "text": [
      "Epoch : 88\n",
      "------------------------------------------------------------------------------------------------------------------------\n",
      "source: 지루하다, 놀러가고 싶어.\n",
      "answered: 고 놀드 힘든 것 예요 는데\n",
      "------------------------------------------------------------------------------------------------------------------------\n",
      "source: 오늘 일찍 일어났더니 피곤하다.\n",
      "answered: 조금 만 더 힘내 세요 .\n",
      "------------------------------------------------------------------------------------------------------------------------\n",
      "source: 간만에 여자친구랑 데이트 하기로 했어.\n",
      "answered: 충분히 스스로 극복 할 수 있 어요 .\n",
      "------------------------------------------------------------------------------------------------------------------------\n",
      "source: 집에 있는다는 소리야.\n",
      "answered: 나 도 살 고 살 고 살 고 나가 요 .\n",
      "------------------------------------------------------------------------------------------------------------------------\n"
     ]
    },
    {
     "data": {
      "application/vnd.jupyter.widget-view+json": {
       "model_id": "49199817291d4cda81e73fcf8d200566",
       "version_major": 2,
       "version_minor": 0
      },
      "text/plain": [
       "  0%|          | 0/324 [00:00<?, ?it/s]"
      ]
     },
     "metadata": {},
     "output_type": "display_data"
    },
    {
     "name": "stdout",
     "output_type": "stream",
     "text": [
      "Num of Sample: 324\n",
      "Total Score: 0.0273\n",
      "------------------------------------------------------------------------------------------------------------------------\n"
     ]
    },
    {
     "data": {
      "application/vnd.jupyter.widget-view+json": {
       "model_id": "5b846937349940069241f3c41e74470a",
       "version_major": 2,
       "version_minor": 0
      },
      "text/plain": [
       "  0%|          | 0/501 [00:00<?, ?it/s]"
      ]
     },
     "metadata": {},
     "output_type": "display_data"
    },
    {
     "name": "stdout",
     "output_type": "stream",
     "text": [
      "Epoch : 89\n",
      "------------------------------------------------------------------------------------------------------------------------\n",
      "source: 지루하다, 놀러가고 싶어.\n",
      "answered: 바로 시키 고 있 는데요 .\n",
      "------------------------------------------------------------------------------------------------------------------------\n",
      "source: 오늘 일찍 일어났더니 피곤하다.\n",
      "answered: 조금 만 더 힘내 세요 .\n",
      "------------------------------------------------------------------------------------------------------------------------\n",
      "source: 간만에 여자친구랑 데이트 하기로 했어.\n",
      "answered: 충분히 스스로 극복 할 수 있 어요 .\n",
      "------------------------------------------------------------------------------------------------------------------------\n",
      "source: 집에 있는다는 소리야.\n",
      "answered: 집 마련 이 집 마련 이 지요 .\n",
      "------------------------------------------------------------------------------------------------------------------------\n"
     ]
    },
    {
     "data": {
      "application/vnd.jupyter.widget-view+json": {
       "model_id": "f7df207f8eef4055aa6b2795fee813ba",
       "version_major": 2,
       "version_minor": 0
      },
      "text/plain": [
       "  0%|          | 0/324 [00:00<?, ?it/s]"
      ]
     },
     "metadata": {},
     "output_type": "display_data"
    },
    {
     "name": "stdout",
     "output_type": "stream",
     "text": [
      "Num of Sample: 324\n",
      "Total Score: 0.0276\n",
      "------------------------------------------------------------------------------------------------------------------------\n"
     ]
    },
    {
     "data": {
      "application/vnd.jupyter.widget-view+json": {
       "model_id": "87987d2b6d984dcf9c820263735e2bb2",
       "version_major": 2,
       "version_minor": 0
      },
      "text/plain": [
       "  0%|          | 0/501 [00:00<?, ?it/s]"
      ]
     },
     "metadata": {},
     "output_type": "display_data"
    },
    {
     "name": "stdout",
     "output_type": "stream",
     "text": [
      "Epoch : 90\n",
      "------------------------------------------------------------------------------------------------------------------------\n",
      "source: 지루하다, 놀러가고 싶어.\n",
      "answered: 기에 많이 힘들 어요 .\n",
      "------------------------------------------------------------------------------------------------------------------------\n",
      "source: 오늘 일찍 일어났더니 피곤하다.\n",
      "answered: 조금 만 더 버텨 보 세요 .\n",
      "------------------------------------------------------------------------------------------------------------------------\n",
      "source: 간만에 여자친구랑 데이트 하기로 했어.\n",
      "answered: 충분히 스스로 극복 할 수 있 어요 .\n",
      "------------------------------------------------------------------------------------------------------------------------\n",
      "source: 집에 있는다는 소리야.\n",
      "answered: 나 집 에 도 안 고 살 고 싶 다고 연락 하 는 게 좋 아요 .\n",
      "------------------------------------------------------------------------------------------------------------------------\n"
     ]
    },
    {
     "data": {
      "application/vnd.jupyter.widget-view+json": {
       "model_id": "8d28d42c27ed428094da9b00f45a2627",
       "version_major": 2,
       "version_minor": 0
      },
      "text/plain": [
       "  0%|          | 0/324 [00:00<?, ?it/s]"
      ]
     },
     "metadata": {},
     "output_type": "display_data"
    },
    {
     "name": "stdout",
     "output_type": "stream",
     "text": [
      "Num of Sample: 324\n",
      "Total Score: 0.0290\n",
      "------------------------------------------------------------------------------------------------------------------------\n"
     ]
    },
    {
     "data": {
      "application/vnd.jupyter.widget-view+json": {
       "model_id": "265073772f7d465480a5805a98eb337b",
       "version_major": 2,
       "version_minor": 0
      },
      "text/plain": [
       "  0%|          | 0/501 [00:00<?, ?it/s]"
      ]
     },
     "metadata": {},
     "output_type": "display_data"
    },
    {
     "name": "stdout",
     "output_type": "stream",
     "text": [
      "Epoch : 91\n",
      "------------------------------------------------------------------------------------------------------------------------\n",
      "source: 지루하다, 놀러가고 싶어.\n",
      "answered: 기에 싶 어요 .\n",
      "------------------------------------------------------------------------------------------------------------------------\n",
      "source: 오늘 일찍 일어났더니 피곤하다.\n",
      "answered: 조금 만 더 힘내 세요 .\n",
      "------------------------------------------------------------------------------------------------------------------------\n",
      "source: 간만에 여자친구랑 데이트 하기로 했어.\n",
      "answered: 충분히 스스로 만 은 사람 에게 좋 은 사람 은 거 예요 .\n",
      "------------------------------------------------------------------------------------------------------------------------\n",
      "source: 집에 있는다는 소리야.\n",
      "answered: 집 에 한 집 마련 이 집 마련 이 집 에 도 도움 이 돼요 .\n",
      "------------------------------------------------------------------------------------------------------------------------\n"
     ]
    },
    {
     "data": {
      "application/vnd.jupyter.widget-view+json": {
       "model_id": "5009d0e86bf148abb32ce9c0968e41a7",
       "version_major": 2,
       "version_minor": 0
      },
      "text/plain": [
       "  0%|          | 0/324 [00:00<?, ?it/s]"
      ]
     },
     "metadata": {},
     "output_type": "display_data"
    },
    {
     "name": "stdout",
     "output_type": "stream",
     "text": [
      "Num of Sample: 324\n",
      "Total Score: 0.0280\n",
      "------------------------------------------------------------------------------------------------------------------------\n"
     ]
    },
    {
     "data": {
      "application/vnd.jupyter.widget-view+json": {
       "model_id": "81c54febf68941d9bd119c18130f7feb",
       "version_major": 2,
       "version_minor": 0
      },
      "text/plain": [
       "  0%|          | 0/501 [00:00<?, ?it/s]"
      ]
     },
     "metadata": {},
     "output_type": "display_data"
    },
    {
     "name": "stdout",
     "output_type": "stream",
     "text": [
      "Epoch : 92\n",
      "------------------------------------------------------------------------------------------------------------------------\n",
      "source: 지루하다, 놀러가고 싶어.\n",
      "answered: 기에 싶 는데요 .\n",
      "------------------------------------------------------------------------------------------------------------------------\n",
      "source: 오늘 일찍 일어났더니 피곤하다.\n",
      "answered: 조금 만 더 힘내 세요 .\n",
      "------------------------------------------------------------------------------------------------------------------------\n",
      "source: 간만에 여자친구랑 데이트 하기로 했어.\n",
      "answered: 충분히 스스로 극복 할 수 있 어요 .\n",
      "------------------------------------------------------------------------------------------------------------------------\n",
      "source: 집에 있는다는 소리야.\n",
      "answered: 집 이 집 마련 이 들 이 죠 .\n",
      "------------------------------------------------------------------------------------------------------------------------\n"
     ]
    },
    {
     "data": {
      "application/vnd.jupyter.widget-view+json": {
       "model_id": "16c9d914c2f0435683315b75fea48649",
       "version_major": 2,
       "version_minor": 0
      },
      "text/plain": [
       "  0%|          | 0/324 [00:00<?, ?it/s]"
      ]
     },
     "metadata": {},
     "output_type": "display_data"
    },
    {
     "name": "stdout",
     "output_type": "stream",
     "text": [
      "Num of Sample: 324\n",
      "Total Score: 0.0287\n",
      "------------------------------------------------------------------------------------------------------------------------\n"
     ]
    },
    {
     "data": {
      "application/vnd.jupyter.widget-view+json": {
       "model_id": "e2da3f5b0ec1446fb025c95cc7b2fd2f",
       "version_major": 2,
       "version_minor": 0
      },
      "text/plain": [
       "  0%|          | 0/501 [00:00<?, ?it/s]"
      ]
     },
     "metadata": {},
     "output_type": "display_data"
    },
    {
     "name": "stdout",
     "output_type": "stream",
     "text": [
      "Epoch : 93\n",
      "------------------------------------------------------------------------------------------------------------------------\n",
      "source: 지루하다, 놀러가고 싶어.\n",
      "answered: 고 있 어요 .\n",
      "------------------------------------------------------------------------------------------------------------------------\n",
      "source: 오늘 일찍 일어났더니 피곤하다.\n",
      "answered: 후회 가 후회 만 더 힘들 지요 .\n",
      "------------------------------------------------------------------------------------------------------------------------\n",
      "source: 간만에 여자친구랑 데이트 하기로 했어.\n",
      "answered: 충분히 스스로 에게 도 충분히 스스로 에게 때문 좋 아요 .\n",
      "------------------------------------------------------------------------------------------------------------------------\n",
      "source: 집에 있는다는 소리야.\n",
      "answered: 집 에 도움 이 바랍니다 .\n",
      "------------------------------------------------------------------------------------------------------------------------\n"
     ]
    },
    {
     "data": {
      "application/vnd.jupyter.widget-view+json": {
       "model_id": "dc9a0d586ad24eb4a457e36b7041664f",
       "version_major": 2,
       "version_minor": 0
      },
      "text/plain": [
       "  0%|          | 0/324 [00:00<?, ?it/s]"
      ]
     },
     "metadata": {},
     "output_type": "display_data"
    },
    {
     "name": "stdout",
     "output_type": "stream",
     "text": [
      "Num of Sample: 324\n",
      "Total Score: 0.0276\n",
      "------------------------------------------------------------------------------------------------------------------------\n"
     ]
    },
    {
     "data": {
      "application/vnd.jupyter.widget-view+json": {
       "model_id": "043d1a98ce4f43509884936b9f3c3ead",
       "version_major": 2,
       "version_minor": 0
      },
      "text/plain": [
       "  0%|          | 0/501 [00:00<?, ?it/s]"
      ]
     },
     "metadata": {},
     "output_type": "display_data"
    },
    {
     "name": "stdout",
     "output_type": "stream",
     "text": [
      "Epoch : 94\n",
      "------------------------------------------------------------------------------------------------------------------------\n",
      "source: 지루하다, 놀러가고 싶어.\n",
      "answered: 나이 는 중요 해요 는데\n",
      "------------------------------------------------------------------------------------------------------------------------\n",
      "source: 오늘 일찍 일어났더니 피곤하다.\n",
      "answered: 후회 만 남 았 네요 .\n",
      "------------------------------------------------------------------------------------------------------------------------\n",
      "source: 간만에 여자친구랑 데이트 하기로 했어.\n",
      "answered: 충분히 좋 은 사람 과 걱정 은 자신 을 거 예요 .\n",
      "------------------------------------------------------------------------------------------------------------------------\n",
      "source: 집에 있는다는 소리야.\n",
      "answered: 집 마련 이 집 마련 이 죠 .\n",
      "------------------------------------------------------------------------------------------------------------------------\n"
     ]
    },
    {
     "data": {
      "application/vnd.jupyter.widget-view+json": {
       "model_id": "21fe0676c0f847ebae467444a5073e7d",
       "version_major": 2,
       "version_minor": 0
      },
      "text/plain": [
       "  0%|          | 0/324 [00:00<?, ?it/s]"
      ]
     },
     "metadata": {},
     "output_type": "display_data"
    },
    {
     "name": "stdout",
     "output_type": "stream",
     "text": [
      "Num of Sample: 324\n",
      "Total Score: 0.0250\n",
      "------------------------------------------------------------------------------------------------------------------------\n"
     ]
    },
    {
     "data": {
      "application/vnd.jupyter.widget-view+json": {
       "model_id": "77b98dfe9a604531ac58daba8f6f3ccd",
       "version_major": 2,
       "version_minor": 0
      },
      "text/plain": [
       "  0%|          | 0/501 [00:00<?, ?it/s]"
      ]
     },
     "metadata": {},
     "output_type": "display_data"
    },
    {
     "name": "stdout",
     "output_type": "stream",
     "text": [
      "Epoch : 95\n",
      "------------------------------------------------------------------------------------------------------------------------\n",
      "source: 지루하다, 놀러가고 싶어.\n",
      "answered: 는 느낌 이길 바 라요 .\n",
      "------------------------------------------------------------------------------------------------------------------------\n",
      "source: 오늘 일찍 일어났더니 피곤하다.\n",
      "answered: 후회 만 더 힘내 세요 .\n",
      "------------------------------------------------------------------------------------------------------------------------\n",
      "source: 간만에 여자친구랑 데이트 하기로 했어.\n",
      "answered: 충분히 좋 은 사람 과 걱정 은 하 지 않 지만 , 이제 세요 .\n",
      "------------------------------------------------------------------------------------------------------------------------\n",
      "source: 집에 있는다는 소리야.\n",
      "answered: 집 마련 이 에요 .\n",
      "------------------------------------------------------------------------------------------------------------------------\n"
     ]
    },
    {
     "data": {
      "application/vnd.jupyter.widget-view+json": {
       "model_id": "185571285f004291a2d0fc3e3b3e6a83",
       "version_major": 2,
       "version_minor": 0
      },
      "text/plain": [
       "  0%|          | 0/324 [00:00<?, ?it/s]"
      ]
     },
     "metadata": {},
     "output_type": "display_data"
    },
    {
     "name": "stdout",
     "output_type": "stream",
     "text": [
      "Num of Sample: 324\n",
      "Total Score: 0.0299\n",
      "------------------------------------------------------------------------------------------------------------------------\n"
     ]
    },
    {
     "data": {
      "application/vnd.jupyter.widget-view+json": {
       "model_id": "646690f4d59d4a18bbaac407833c8aed",
       "version_major": 2,
       "version_minor": 0
      },
      "text/plain": [
       "  0%|          | 0/501 [00:00<?, ?it/s]"
      ]
     },
     "metadata": {},
     "output_type": "display_data"
    },
    {
     "name": "stdout",
     "output_type": "stream",
     "text": [
      "Epoch : 96\n",
      "------------------------------------------------------------------------------------------------------------------------\n",
      "source: 지루하다, 놀러가고 싶어.\n",
      "answered: 는 는데요 는데\n",
      "------------------------------------------------------------------------------------------------------------------------\n",
      "source: 오늘 일찍 일어났더니 피곤하다.\n",
      "answered: 후회 만 남 았 네요 .\n",
      "------------------------------------------------------------------------------------------------------------------------\n",
      "source: 간만에 여자친구랑 데이트 하기로 했어.\n",
      "answered: 충분히 스스로 극복 할 수 있 어요 .\n",
      "------------------------------------------------------------------------------------------------------------------------\n",
      "source: 집에 있는다는 소리야.\n",
      "answered: 집 마련 이 집 마련 이 죠 .\n",
      "------------------------------------------------------------------------------------------------------------------------\n"
     ]
    },
    {
     "data": {
      "application/vnd.jupyter.widget-view+json": {
       "model_id": "fb79f52e7d3f477f9c27502b249f9d48",
       "version_major": 2,
       "version_minor": 0
      },
      "text/plain": [
       "  0%|          | 0/324 [00:00<?, ?it/s]"
      ]
     },
     "metadata": {},
     "output_type": "display_data"
    },
    {
     "name": "stdout",
     "output_type": "stream",
     "text": [
      "Num of Sample: 324\n",
      "Total Score: 0.0263\n",
      "------------------------------------------------------------------------------------------------------------------------\n"
     ]
    },
    {
     "data": {
      "application/vnd.jupyter.widget-view+json": {
       "model_id": "a797fbb8d9874be795ff1857bc6c73b6",
       "version_major": 2,
       "version_minor": 0
      },
      "text/plain": [
       "  0%|          | 0/501 [00:00<?, ?it/s]"
      ]
     },
     "metadata": {},
     "output_type": "display_data"
    },
    {
     "name": "stdout",
     "output_type": "stream",
     "text": [
      "Epoch : 97\n",
      "------------------------------------------------------------------------------------------------------------------------\n",
      "source: 지루하다, 놀러가고 싶어.\n",
      "answered: 바로 을 자주 몰라요 .\n",
      "------------------------------------------------------------------------------------------------------------------------\n",
      "source: 오늘 일찍 일어났더니 피곤하다.\n",
      "answered: 후회 만 남 을 거 예요 .\n",
      "------------------------------------------------------------------------------------------------------------------------\n",
      "source: 간만에 여자친구랑 데이트 하기로 했어.\n",
      "answered: 충분히 스스로 만 은 충분히 스스로 에게 좋 은 방법 이 다\n",
      "------------------------------------------------------------------------------------------------------------------------\n",
      "source: 집에 있는다는 소리야.\n",
      "answered: 집 이 집 마련 이 들 어 집 마련 이 에요 .\n",
      "------------------------------------------------------------------------------------------------------------------------\n"
     ]
    },
    {
     "data": {
      "application/vnd.jupyter.widget-view+json": {
       "model_id": "947a4203c49b49ee80998ffbe3451183",
       "version_major": 2,
       "version_minor": 0
      },
      "text/plain": [
       "  0%|          | 0/324 [00:00<?, ?it/s]"
      ]
     },
     "metadata": {},
     "output_type": "display_data"
    },
    {
     "name": "stdout",
     "output_type": "stream",
     "text": [
      "Num of Sample: 324\n",
      "Total Score: 0.0372\n",
      "------------------------------------------------------------------------------------------------------------------------\n"
     ]
    },
    {
     "data": {
      "application/vnd.jupyter.widget-view+json": {
       "model_id": "4d57c7c58e364d4e8f47ccd33ae90a03",
       "version_major": 2,
       "version_minor": 0
      },
      "text/plain": [
       "  0%|          | 0/501 [00:00<?, ?it/s]"
      ]
     },
     "metadata": {},
     "output_type": "display_data"
    },
    {
     "name": "stdout",
     "output_type": "stream",
     "text": [
      "Epoch : 98\n",
      "------------------------------------------------------------------------------------------------------------------------\n",
      "source: 지루하다, 놀러가고 싶어.\n",
      "answered: 어 가 는 것 도 중요 해요 .\n",
      "------------------------------------------------------------------------------------------------------------------------\n",
      "source: 오늘 일찍 일어났더니 피곤하다.\n",
      "answered: 조금 만 더 힘내 세요 .\n",
      "------------------------------------------------------------------------------------------------------------------------\n",
      "source: 간만에 여자친구랑 데이트 하기로 했어.\n",
      "answered: 충분히 스스로 극복 할 수 있 어요 .\n",
      "------------------------------------------------------------------------------------------------------------------------\n",
      "source: 집에 있는다는 소리야.\n",
      "answered: 같이 살 고 싶 은 시간 이 있 나 봐요 .\n",
      "------------------------------------------------------------------------------------------------------------------------\n"
     ]
    },
    {
     "data": {
      "application/vnd.jupyter.widget-view+json": {
       "model_id": "a508872c1c4a4cc1a31bb56e94f79f2a",
       "version_major": 2,
       "version_minor": 0
      },
      "text/plain": [
       "  0%|          | 0/324 [00:00<?, ?it/s]"
      ]
     },
     "metadata": {},
     "output_type": "display_data"
    },
    {
     "name": "stdout",
     "output_type": "stream",
     "text": [
      "Num of Sample: 324\n",
      "Total Score: 0.0340\n",
      "------------------------------------------------------------------------------------------------------------------------\n"
     ]
    },
    {
     "data": {
      "application/vnd.jupyter.widget-view+json": {
       "model_id": "02626b157d364766b9dceb451250712f",
       "version_major": 2,
       "version_minor": 0
      },
      "text/plain": [
       "  0%|          | 0/501 [00:00<?, ?it/s]"
      ]
     },
     "metadata": {},
     "output_type": "display_data"
    },
    {
     "name": "stdout",
     "output_type": "stream",
     "text": [
      "Epoch : 99\n",
      "------------------------------------------------------------------------------------------------------------------------\n",
      "source: 지루하다, 놀러가고 싶어.\n",
      "answered: 는 어서 플 는데\n",
      "------------------------------------------------------------------------------------------------------------------------\n",
      "source: 오늘 일찍 일어났더니 피곤하다.\n",
      "answered: 후회 만 더 힘내 세요 .\n",
      "------------------------------------------------------------------------------------------------------------------------\n",
      "source: 간만에 여자친구랑 데이트 하기로 했어.\n",
      "answered: 충분히 스스로 극복 할 수 있 어요 .\n",
      "------------------------------------------------------------------------------------------------------------------------\n",
      "source: 집에 있는다는 소리야.\n",
      "answered: 집 마련 이 고 살 고 살 고 살 고 싶 은 사람 이 길 바랍니다 .\n",
      "------------------------------------------------------------------------------------------------------------------------\n"
     ]
    },
    {
     "data": {
      "application/vnd.jupyter.widget-view+json": {
       "model_id": "80edf0ccb9d74b4c8e129eccc44e4deb",
       "version_major": 2,
       "version_minor": 0
      },
      "text/plain": [
       "  0%|          | 0/324 [00:00<?, ?it/s]"
      ]
     },
     "metadata": {},
     "output_type": "display_data"
    },
    {
     "name": "stdout",
     "output_type": "stream",
     "text": [
      "Num of Sample: 324\n",
      "Total Score: 0.0275\n",
      "------------------------------------------------------------------------------------------------------------------------\n"
     ]
    },
    {
     "data": {
      "application/vnd.jupyter.widget-view+json": {
       "model_id": "00face95bb5340479fa7cb096005e1ce",
       "version_major": 2,
       "version_minor": 0
      },
      "text/plain": [
       "  0%|          | 0/501 [00:00<?, ?it/s]"
      ]
     },
     "metadata": {},
     "output_type": "display_data"
    },
    {
     "name": "stdout",
     "output_type": "stream",
     "text": [
      "Epoch : 100\n",
      "------------------------------------------------------------------------------------------------------------------------\n",
      "source: 지루하다, 놀러가고 싶어.\n",
      "answered: 안타깝 지요 는데\n",
      "------------------------------------------------------------------------------------------------------------------------\n",
      "source: 오늘 일찍 일어났더니 피곤하다.\n",
      "answered: 후회 만 더 보내 세요 .\n",
      "------------------------------------------------------------------------------------------------------------------------\n",
      "source: 간만에 여자친구랑 데이트 하기로 했어.\n",
      "answered: 충분 한 대화 를 나눠 보 세요 .\n",
      "------------------------------------------------------------------------------------------------------------------------\n",
      "source: 집에 있는다는 소리야.\n",
      "answered: 집 이 고 집 에서 살 고 싶 고 싶 나 분위기 도 안 도 좋 아요 .\n",
      "------------------------------------------------------------------------------------------------------------------------\n"
     ]
    },
    {
     "data": {
      "application/vnd.jupyter.widget-view+json": {
       "model_id": "19a2b8f6c60a410b9911dcc5fa78e9c5",
       "version_major": 2,
       "version_minor": 0
      },
      "text/plain": [
       "  0%|          | 0/324 [00:00<?, ?it/s]"
      ]
     },
     "metadata": {},
     "output_type": "display_data"
    },
    {
     "name": "stdout",
     "output_type": "stream",
     "text": [
      "Num of Sample: 324\n",
      "Total Score: 0.0253\n",
      "------------------------------------------------------------------------------------------------------------------------\n"
     ]
    }
   ],
   "source": [
    "# 훈련시키기\n",
    "\n",
    "BATCH_SIZE = 64\n",
    "EPOCHS = 100\n",
    "\n",
    "for epoch in range(EPOCHS):\n",
    "    total_loss = 0\n",
    "    \n",
    "    idx_list = list(range(0, enc_train.shape[0], BATCH_SIZE))\n",
    "    random.shuffle(idx_list)\n",
    "    t = tqdm_notebook(idx_list)\n",
    "\n",
    "    for (batch, idx) in enumerate(t):\n",
    "        batch_loss, enc_attns, dec_attns, dec_enc_attns = \\\n",
    "        train_step(enc_train[idx:idx+BATCH_SIZE],\n",
    "                    dec_train[idx:idx+BATCH_SIZE],\n",
    "                    transformer,\n",
    "                    optimizer)\n",
    "\n",
    "        total_loss += batch_loss\n",
    "        \n",
    "        t.set_description_str('Epoch %2d' % (epoch + 1))\n",
    "        t.set_postfix_str('Loss %.4f' % (total_loss.numpy() / (batch + 1)))\n",
    "        \n",
    "    mecab = Mecab()\n",
    "    print(\"Epoch :\", epoch+1)\n",
    "    print('-'*120)\n",
    "    for sentence in examples:\n",
    "        print(\"source:\", sentence)\n",
    "        print(\"answered:\", translate(sentence, transformer))\n",
    "        print('-'*120)\n",
    "        \n",
    "    eval_bleu(enc_val, dec_val, verbose=False)\n",
    "    print('-'*120)"
   ]
  },
  {
   "cell_type": "markdown",
   "id": "private-buffalo",
   "metadata": {},
   "source": [
    "* 에폭당 예문 답변과 BLEU 스코어를 출력해 보았습니다."
   ]
  },
  {
   "cell_type": "markdown",
   "id": "opposed-spelling",
   "metadata": {},
   "source": [
    "### 회고\n",
    "* 처음 학습때 &#60;unk&#62; 토큰이 너무 많이 생성되었습니다. 이유는 단어의 개수를 단어장보다 많이 생성해서 &#60;unk&#62;가 생성된것 같았습니다.\n",
    "* 두번째는 번역이 제대로 이루어지지 않았습니다. 임베딩 과정에서 쓰는 word_to_index를 mecab에서 자동으로 바꿔주는걸 썼다가 원문 복원때 다른 index_to_word를 사용해서 그랬고 전처리 과정을 동일한 word_to_index와 index_to_word를 사용하니 해결됐습니다.\n",
    "* 과적합을 피하기 위해 파라미터를 수정했습니다. 하지만 에폭이 평균적으로 80번을 넘으면 과적합이 일어나는것 같아 모델을 사용하려면 에폭수를 낮춰 다시 학습하면 될것 같습니다. 마지막으로 BLEU 스코어는 4%를 넘지 못해 아쉽지만 학습과정중 제대로된 답변을 보면 신기했습니다."
   ]
  }
 ],
 "metadata": {
  "kernelspec": {
   "display_name": "Python 3",
   "language": "python",
   "name": "python3"
  },
  "language_info": {
   "codemirror_mode": {
    "name": "ipython",
    "version": 3
   },
   "file_extension": ".py",
   "mimetype": "text/x-python",
   "name": "python",
   "nbconvert_exporter": "python",
   "pygments_lexer": "ipython3",
   "version": "3.7.9"
  }
 },
 "nbformat": 4,
 "nbformat_minor": 5
}
