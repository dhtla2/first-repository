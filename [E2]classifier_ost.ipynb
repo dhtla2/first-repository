{
 "cells": [
  {
   "cell_type": "markdown",
   "id": "ordered-barrel",
   "metadata": {},
   "source": [
    "# 필요한 모듈을 import합니다."
   ]
  },
  {
   "cell_type": "code",
   "execution_count": 50,
   "id": "assigned-plain",
   "metadata": {},
   "outputs": [],
   "source": [
    "from sklearn.datasets import load_digits\n",
    "from sklearn.model_selection import train_test_split\n",
    "from sklearn.metrics import classification_report\n",
    "from sklearn.tree import DecisionTreeClassifier\n",
    "from sklearn.ensemble import RandomForestClassifier\n",
    "from sklearn import svm\n",
    "from sklearn.linear_model import SGDClassifier\n",
    "from sklearn.linear_model import LogisticRegression\n",
    "from sklearn.metrics import confusion_matrix\n",
    "from sklearn.datasets import load_wine\n",
    "from sklearn.datasets import load_breast_cancer"
   ]
  },
  {
   "cell_type": "markdown",
   "id": "impressive-louisville",
   "metadata": {},
   "source": [
    "# load_digits 메서드를 사용합니다."
   ]
  },
  {
   "cell_type": "code",
   "execution_count": 51,
   "id": "vocational-timber",
   "metadata": {},
   "outputs": [],
   "source": [
    "digits = load_digits()"
   ]
  },
  {
   "cell_type": "markdown",
   "id": "gentle-surface",
   "metadata": {},
   "source": [
    "# Feature Data를 지정합니다."
   ]
  },
  {
   "cell_type": "code",
   "execution_count": 52,
   "id": "prime-shopper",
   "metadata": {},
   "outputs": [],
   "source": [
    "digits_data = digits.data"
   ]
  },
  {
   "cell_type": "markdown",
   "id": "freelance-springer",
   "metadata": {},
   "source": [
    "# Label Data를 지정합니다."
   ]
  },
  {
   "cell_type": "code",
   "execution_count": 53,
   "id": "objective-bulgarian",
   "metadata": {},
   "outputs": [],
   "source": [
    "digits_label = digits.target"
   ]
  },
  {
   "cell_type": "markdown",
   "id": "environmental-ethiopia",
   "metadata": {},
   "source": [
    "# Target Name을 출력합니다."
   ]
  },
  {
   "cell_type": "code",
   "execution_count": 54,
   "id": "expected-eligibility",
   "metadata": {},
   "outputs": [
    {
     "data": {
      "text/plain": [
       "array([0, 1, 2, 3, 4, 5, 6, 7, 8, 9])"
      ]
     },
     "execution_count": 54,
     "metadata": {},
     "output_type": "execute_result"
    }
   ],
   "source": [
    "digits.target_names"
   ]
  },
  {
   "cell_type": "markdown",
   "id": "postal-network",
   "metadata": {},
   "source": [
    "# 데이터 Describe 해 보기"
   ]
  },
  {
   "cell_type": "code",
   "execution_count": 55,
   "id": "handy-delay",
   "metadata": {},
   "outputs": [
    {
     "name": "stdout",
     "output_type": "stream",
     "text": [
      ".. _digits_dataset:\n",
      "\n",
      "Optical recognition of handwritten digits dataset\n",
      "--------------------------------------------------\n",
      "\n",
      "**Data Set Characteristics:**\n",
      "\n",
      "    :Number of Instances: 5620\n",
      "    :Number of Attributes: 64\n",
      "    :Attribute Information: 8x8 image of integer pixels in the range 0..16.\n",
      "    :Missing Attribute Values: None\n",
      "    :Creator: E. Alpaydin (alpaydin '@' boun.edu.tr)\n",
      "    :Date: July; 1998\n",
      "\n",
      "This is a copy of the test set of the UCI ML hand-written digits datasets\n",
      "https://archive.ics.uci.edu/ml/datasets/Optical+Recognition+of+Handwritten+Digits\n",
      "\n",
      "The data set contains images of hand-written digits: 10 classes where\n",
      "each class refers to a digit.\n",
      "\n",
      "Preprocessing programs made available by NIST were used to extract\n",
      "normalized bitmaps of handwritten digits from a preprinted form. From a\n",
      "total of 43 people, 30 contributed to the training set and different 13\n",
      "to the test set. 32x32 bitmaps are divided into nonoverlapping blocks of\n",
      "4x4 and the number of on pixels are counted in each block. This generates\n",
      "an input matrix of 8x8 where each element is an integer in the range\n",
      "0..16. This reduces dimensionality and gives invariance to small\n",
      "distortions.\n",
      "\n",
      "For info on NIST preprocessing routines, see M. D. Garris, J. L. Blue, G.\n",
      "T. Candela, D. L. Dimmick, J. Geist, P. J. Grother, S. A. Janet, and C.\n",
      "L. Wilson, NIST Form-Based Handprint Recognition System, NISTIR 5469,\n",
      "1994.\n",
      "\n",
      ".. topic:: References\n",
      "\n",
      "  - C. Kaynak (1995) Methods of Combining Multiple Classifiers and Their\n",
      "    Applications to Handwritten Digit Recognition, MSc Thesis, Institute of\n",
      "    Graduate Studies in Science and Engineering, Bogazici University.\n",
      "  - E. Alpaydin, C. Kaynak (1998) Cascading Classifiers, Kybernetika.\n",
      "  - Ken Tang and Ponnuthurai N. Suganthan and Xi Yao and A. Kai Qin.\n",
      "    Linear dimensionalityreduction using relevance weighted LDA. School of\n",
      "    Electrical and Electronic Engineering Nanyang Technological University.\n",
      "    2005.\n",
      "  - Claudio Gentile. A New Approximate Maximal Margin Classification\n",
      "    Algorithm. NIPS. 2000.\n"
     ]
    }
   ],
   "source": [
    "print(digits.DESCR)"
   ]
  },
  {
   "cell_type": "markdown",
   "id": "optimum-recipe",
   "metadata": {},
   "source": [
    "# 데이터를 분리합니다."
   ]
  },
  {
   "cell_type": "code",
   "execution_count": 56,
   "id": "detected-digest",
   "metadata": {},
   "outputs": [],
   "source": [
    "X_train, X_test, y_train, y_test = train_test_split(digits_data, \n",
    "                                                    digits_label, \n",
    "                                                    test_size=0.2, \n",
    "                                                    random_state=5)"
   ]
  },
  {
   "cell_type": "markdown",
   "id": "polyphonic-newspaper",
   "metadata": {},
   "source": [
    "# Decision Tree 사용해 보기"
   ]
  },
  {
   "cell_type": "code",
   "execution_count": 57,
   "id": "burning-connection",
   "metadata": {
    "scrolled": true
   },
   "outputs": [
    {
     "name": "stdout",
     "output_type": "stream",
     "text": [
      "              precision    recall  f1-score   support\n",
      "\n",
      "           0       1.00      0.91      0.96        35\n",
      "           1       0.82      0.89      0.85        35\n",
      "           2       0.88      0.81      0.84        36\n",
      "           3       0.89      0.84      0.86        37\n",
      "           4       0.85      0.72      0.78        32\n",
      "           5       0.88      0.83      0.85        46\n",
      "           6       0.96      0.90      0.93        30\n",
      "           7       0.83      0.83      0.83        42\n",
      "           8       0.78      0.84      0.81        38\n",
      "           9       0.71      1.00      0.83        29\n",
      "\n",
      "    accuracy                           0.85       360\n",
      "   macro avg       0.86      0.86      0.85       360\n",
      "weighted avg       0.86      0.85      0.85       360\n",
      "\n"
     ]
    }
   ],
   "source": [
    "decision_tree = DecisionTreeClassifier(random_state=32)\n",
    "decision_tree.fit(X_train, y_train)\n",
    "y_pred = decision_tree.predict(X_test)\n",
    "\n",
    "print(classification_report(y_test, y_pred))"
   ]
  },
  {
   "cell_type": "markdown",
   "id": "twelve-assault",
   "metadata": {},
   "source": [
    "# 오차행렬 불러오기"
   ]
  },
  {
   "cell_type": "code",
   "execution_count": 58,
   "id": "sweet-mercury",
   "metadata": {},
   "outputs": [
    {
     "data": {
      "text/plain": [
       "array([[32,  0,  0,  0,  0,  1,  0,  0,  1,  1],\n",
       "       [ 0, 31,  0,  1,  0,  0,  0,  1,  2,  0],\n",
       "       [ 0,  2, 29,  0,  0,  1,  1,  2,  1,  0],\n",
       "       [ 0,  0,  1, 31,  1,  0,  0,  1,  1,  2],\n",
       "       [ 0,  1,  0,  0, 23,  2,  0,  2,  0,  4],\n",
       "       [ 0,  0,  0,  0,  0, 38,  0,  1,  3,  4],\n",
       "       [ 0,  1,  0,  0,  1,  0, 27,  0,  1,  0],\n",
       "       [ 0,  0,  2,  3,  2,  0,  0, 35,  0,  0],\n",
       "       [ 0,  3,  1,  0,  0,  1,  0,  0, 32,  1],\n",
       "       [ 0,  0,  0,  0,  0,  0,  0,  0,  0, 29]])"
      ]
     },
     "execution_count": 58,
     "metadata": {},
     "output_type": "execute_result"
    }
   ],
   "source": [
    "confusion_matrix(y_test, y_pred)"
   ]
  },
  {
   "cell_type": "markdown",
   "id": "characteristic-yellow",
   "metadata": {},
   "source": [
    "## Decision Tree 모델 평가하기\n",
    "### 일단 가장 눈에 띄는 지표는 9의 precision과 recall 이라고 생각합니다.\n",
    "### 오차 행렬에서 보면 4, 5를 9라고 8개나 착각해서 precision이 낮게 나왔고, 실제 9인 데이터는 모두 9라고 인식해서 recall은 높게 나왔습니다. 트리에서 테스트 데이터를 9라고 판단할 확률이 높다고 볼 수 있을 것 같습니다.\n",
    "### 이 때문에 4와 5의 recall값은 상대적으로 낮게 나왔고, 다른 모델에 비해 정확도가 떨어지는 것을 확인 할 수 있었습니다."
   ]
  },
  {
   "cell_type": "markdown",
   "id": "female-europe",
   "metadata": {},
   "source": [
    "# Random Forest 사용해 보기"
   ]
  },
  {
   "cell_type": "code",
   "execution_count": 59,
   "id": "historic-intermediate",
   "metadata": {
    "scrolled": true
   },
   "outputs": [
    {
     "name": "stdout",
     "output_type": "stream",
     "text": [
      "              precision    recall  f1-score   support\n",
      "\n",
      "           0       1.00      0.97      0.99        35\n",
      "           1       0.97      1.00      0.99        35\n",
      "           2       0.97      1.00      0.99        36\n",
      "           3       1.00      0.95      0.97        37\n",
      "           4       0.97      0.97      0.97        32\n",
      "           5       0.94      0.96      0.95        46\n",
      "           6       1.00      0.97      0.98        30\n",
      "           7       0.98      0.98      0.98        42\n",
      "           8       0.92      0.95      0.94        38\n",
      "           9       0.93      0.93      0.93        29\n",
      "\n",
      "    accuracy                           0.97       360\n",
      "   macro avg       0.97      0.97      0.97       360\n",
      "weighted avg       0.97      0.97      0.97       360\n",
      "\n"
     ]
    }
   ],
   "source": [
    "Random_Forest = RandomForestClassifier(random_state=32)\n",
    "Random_Forest.fit(X_train, y_train)\n",
    "y_pred = Random_Forest.predict(X_test)\n",
    "\n",
    "print(classification_report(y_test, y_pred))"
   ]
  },
  {
   "cell_type": "markdown",
   "id": "sealed-cliff",
   "metadata": {},
   "source": [
    "# 오차행렬 불러오기"
   ]
  },
  {
   "cell_type": "code",
   "execution_count": 60,
   "id": "recent-amount",
   "metadata": {},
   "outputs": [
    {
     "data": {
      "text/plain": [
       "array([[34,  0,  0,  0,  1,  0,  0,  0,  0,  0],\n",
       "       [ 0, 35,  0,  0,  0,  0,  0,  0,  0,  0],\n",
       "       [ 0,  0, 36,  0,  0,  0,  0,  0,  0,  0],\n",
       "       [ 0,  0,  0, 35,  0,  1,  0,  0,  1,  0],\n",
       "       [ 0,  0,  0,  0, 31,  0,  0,  1,  0,  0],\n",
       "       [ 0,  0,  0,  0,  0, 44,  0,  0,  1,  1],\n",
       "       [ 0,  0,  0,  0,  0,  0, 29,  0,  1,  0],\n",
       "       [ 0,  0,  0,  0,  0,  0,  0, 41,  0,  1],\n",
       "       [ 0,  1,  1,  0,  0,  0,  0,  0, 36,  0],\n",
       "       [ 0,  0,  0,  0,  0,  2,  0,  0,  0, 27]])"
      ]
     },
     "execution_count": 60,
     "metadata": {},
     "output_type": "execute_result"
    }
   ],
   "source": [
    "confusion_matrix(y_test, y_pred)"
   ]
  },
  {
   "cell_type": "markdown",
   "id": "crude-greensboro",
   "metadata": {},
   "source": [
    "# Random Forest 모델 평가하기\n",
    "\n",
    "### 전체적으로 높은 정확도를 확인 할 수 있었습니다.\n",
    "### 가장 낮은 정확도인 라벨9가 0.93으로 다른 모델과 비교하면 가장 높은 수치였습니다."
   ]
  },
  {
   "cell_type": "markdown",
   "id": "ignored-record",
   "metadata": {},
   "source": [
    "# SVM 사용해 보기"
   ]
  },
  {
   "cell_type": "code",
   "execution_count": 61,
   "id": "handed-washer",
   "metadata": {
    "scrolled": true
   },
   "outputs": [
    {
     "name": "stdout",
     "output_type": "stream",
     "text": [
      "              precision    recall  f1-score   support\n",
      "\n",
      "           0       1.00      1.00      1.00        35\n",
      "           1       0.97      1.00      0.99        35\n",
      "           2       1.00      1.00      1.00        36\n",
      "           3       1.00      0.95      0.97        37\n",
      "           4       1.00      1.00      1.00        32\n",
      "           5       0.96      0.98      0.97        46\n",
      "           6       1.00      1.00      1.00        30\n",
      "           7       1.00      0.98      0.99        42\n",
      "           8       0.95      0.95      0.95        38\n",
      "           9       0.90      0.93      0.92        29\n",
      "\n",
      "    accuracy                           0.98       360\n",
      "   macro avg       0.98      0.98      0.98       360\n",
      "weighted avg       0.98      0.98      0.98       360\n",
      "\n"
     ]
    }
   ],
   "source": [
    "svm_model = svm.SVC()\n",
    "svm_model.fit(X_train, y_train)\n",
    "y_pred = svm_model.predict(X_test)\n",
    "\n",
    "print(classification_report(y_test, y_pred))"
   ]
  },
  {
   "cell_type": "markdown",
   "id": "weird-therapy",
   "metadata": {},
   "source": [
    "# 오차행렬 불러오기"
   ]
  },
  {
   "cell_type": "code",
   "execution_count": 62,
   "id": "tender-marine",
   "metadata": {
    "scrolled": true
   },
   "outputs": [
    {
     "data": {
      "text/plain": [
       "array([[35,  0,  0,  0,  0,  0,  0,  0,  0,  0],\n",
       "       [ 0, 35,  0,  0,  0,  0,  0,  0,  0,  0],\n",
       "       [ 0,  0, 36,  0,  0,  0,  0,  0,  0,  0],\n",
       "       [ 0,  0,  0, 35,  0,  1,  0,  0,  1,  0],\n",
       "       [ 0,  0,  0,  0, 32,  0,  0,  0,  0,  0],\n",
       "       [ 0,  0,  0,  0,  0, 45,  0,  0,  0,  1],\n",
       "       [ 0,  0,  0,  0,  0,  0, 30,  0,  0,  0],\n",
       "       [ 0,  0,  0,  0,  0,  0,  0, 41,  0,  1],\n",
       "       [ 0,  1,  0,  0,  0,  0,  0,  0, 36,  1],\n",
       "       [ 0,  0,  0,  0,  0,  1,  0,  0,  1, 27]])"
      ]
     },
     "execution_count": 62,
     "metadata": {},
     "output_type": "execute_result"
    }
   ],
   "source": [
    "confusion_matrix(y_test, y_pred)"
   ]
  },
  {
   "cell_type": "markdown",
   "id": "addressed-ridge",
   "metadata": {},
   "source": [
    "# SVM 모델 평가하기\n",
    "### 상대적으로 다른 모델과 비교하여 높은 정확도가 나왔습니다.\n",
    "### 라벨9의 정확도가 Random Forest보다 조금 낮은거 말고는 모두 높게 나왔습니다."
   ]
  },
  {
   "cell_type": "markdown",
   "id": "technical-producer",
   "metadata": {},
   "source": [
    "# SGD Classifier 사용해 보기"
   ]
  },
  {
   "cell_type": "code",
   "execution_count": 63,
   "id": "color-apparatus",
   "metadata": {
    "scrolled": true
   },
   "outputs": [
    {
     "name": "stdout",
     "output_type": "stream",
     "text": [
      "              precision    recall  f1-score   support\n",
      "\n",
      "           0       1.00      0.97      0.99        35\n",
      "           1       0.94      0.86      0.90        35\n",
      "           2       0.90      1.00      0.95        36\n",
      "           3       0.97      0.95      0.96        37\n",
      "           4       1.00      0.94      0.97        32\n",
      "           5       0.98      0.91      0.94        46\n",
      "           6       0.97      0.97      0.97        30\n",
      "           7       0.98      0.98      0.98        42\n",
      "           8       0.86      0.95      0.90        38\n",
      "           9       0.84      0.90      0.87        29\n",
      "\n",
      "    accuracy                           0.94       360\n",
      "   macro avg       0.94      0.94      0.94       360\n",
      "weighted avg       0.94      0.94      0.94       360\n",
      "\n"
     ]
    }
   ],
   "source": [
    "sgd_model = SGDClassifier()\n",
    "sgd_model.fit(X_train, y_train)\n",
    "y_pred = sgd_model.predict(X_test)\n",
    "\n",
    "print(classification_report(y_test, y_pred))"
   ]
  },
  {
   "cell_type": "markdown",
   "id": "august-witness",
   "metadata": {},
   "source": [
    "# 오차행렬 불러오기"
   ]
  },
  {
   "cell_type": "code",
   "execution_count": 64,
   "id": "norwegian-traffic",
   "metadata": {},
   "outputs": [
    {
     "data": {
      "text/plain": [
       "array([[34,  0,  0,  0,  0,  0,  1,  0,  0,  0],\n",
       "       [ 0, 30,  1,  1,  0,  0,  0,  0,  2,  1],\n",
       "       [ 0,  0, 36,  0,  0,  0,  0,  0,  0,  0],\n",
       "       [ 0,  0,  1, 35,  0,  1,  0,  0,  0,  0],\n",
       "       [ 0,  1,  0,  0, 30,  0,  0,  1,  0,  0],\n",
       "       [ 0,  0,  0,  0,  0, 42,  0,  0,  1,  3],\n",
       "       [ 0,  0,  0,  0,  0,  0, 29,  0,  1,  0],\n",
       "       [ 0,  0,  0,  0,  0,  0,  0, 41,  0,  1],\n",
       "       [ 0,  0,  2,  0,  0,  0,  0,  0, 36,  0],\n",
       "       [ 0,  1,  0,  0,  0,  0,  0,  0,  2, 26]])"
      ]
     },
     "execution_count": 64,
     "metadata": {},
     "output_type": "execute_result"
    }
   ],
   "source": [
    "confusion_matrix(y_test, y_pred)"
   ]
  },
  {
   "cell_type": "markdown",
   "id": "lasting-playback",
   "metadata": {},
   "source": [
    "# SGD Classifier 모델 평가하기\n",
    "### 전체적으로 정확도는 높았지만, 라벨 1, 3, 9의 정확도가 상대적으로 조금 낮았습니다."
   ]
  },
  {
   "cell_type": "markdown",
   "id": "attempted-monitoring",
   "metadata": {},
   "source": [
    "# Logistic Regression 사용해 보기"
   ]
  },
  {
   "cell_type": "code",
   "execution_count": 65,
   "id": "fabulous-pride",
   "metadata": {},
   "outputs": [
    {
     "name": "stdout",
     "output_type": "stream",
     "text": [
      "              precision    recall  f1-score   support\n",
      "\n",
      "           0       1.00      1.00      1.00        35\n",
      "           1       0.89      0.97      0.93        35\n",
      "           2       0.95      1.00      0.97        36\n",
      "           3       0.97      0.95      0.96        37\n",
      "           4       0.97      0.91      0.94        32\n",
      "           5       0.98      0.93      0.96        46\n",
      "           6       1.00      0.97      0.98        30\n",
      "           7       0.98      0.98      0.98        42\n",
      "           8       0.97      0.92      0.95        38\n",
      "           9       0.88      0.97      0.92        29\n",
      "\n",
      "    accuracy                           0.96       360\n",
      "   macro avg       0.96      0.96      0.96       360\n",
      "weighted avg       0.96      0.96      0.96       360\n",
      "\n"
     ]
    }
   ],
   "source": [
    "logistic_model = LogisticRegression(max_iter = 5000)\n",
    "logistic_model.fit(X_train, y_train)\n",
    "y_pred = logistic_model.predict(X_test)\n",
    "\n",
    "print(classification_report(y_test, y_pred))"
   ]
  },
  {
   "cell_type": "markdown",
   "id": "adverse-bruce",
   "metadata": {},
   "source": [
    "### 처음에 convergencewarning이라는 문구가 나와 찾아보았더니, 수렴이 되지 않았는데 학습이 종료 되었다는 의미라는걸 알았습니다. 그래서 반복횟수를 1000, 2000, 3000 올려도 계속 문구가 나와 5000으로 올렸습니다."
   ]
  },
  {
   "cell_type": "code",
   "execution_count": 66,
   "id": "informed-destination",
   "metadata": {},
   "outputs": [
    {
     "data": {
      "text/plain": [
       "array([[35,  0,  0,  0,  0,  0,  0,  0,  0,  0],\n",
       "       [ 0, 34,  0,  1,  0,  0,  0,  0,  0,  0],\n",
       "       [ 0,  0, 36,  0,  0,  0,  0,  0,  0,  0],\n",
       "       [ 0,  0,  1, 35,  0,  1,  0,  0,  0,  0],\n",
       "       [ 0,  2,  0,  0, 29,  0,  0,  1,  0,  0],\n",
       "       [ 0,  0,  0,  0,  1, 43,  0,  0,  0,  2],\n",
       "       [ 0,  0,  0,  0,  0,  0, 29,  0,  1,  0],\n",
       "       [ 0,  0,  0,  0,  0,  0,  0, 41,  0,  1],\n",
       "       [ 0,  1,  1,  0,  0,  0,  0,  0, 35,  1],\n",
       "       [ 0,  1,  0,  0,  0,  0,  0,  0,  0, 28]])"
      ]
     },
     "execution_count": 66,
     "metadata": {},
     "output_type": "execute_result"
    }
   ],
   "source": [
    "confusion_matrix(y_test, y_pred)"
   ]
  },
  {
   "cell_type": "markdown",
   "id": "better-thomas",
   "metadata": {},
   "source": [
    "# Logistic Regression 평가하기\n",
    "### 전체적으로 높은 정확도 였지만, 1과 9가 조금 아쉬웠습니다."
   ]
  },
  {
   "cell_type": "markdown",
   "id": "municipal-batman",
   "metadata": {},
   "source": [
    "# 모델을 평가하는 지표로 무엇이 좋을까?\n",
    "### 0부터 9까지의 손글씨를 숫자로 판단하는 인공지능이기 때문에 정확도 수치가 가장 중요하다고 생각합니다.\n",
    "### 왜냐하면 특정 데이터의 숫자가 몰려 있지도 않고, 숫자를 정확하게 판단하는게 중요하기 때문입니다."
   ]
  },
  {
   "cell_type": "markdown",
   "id": "applicable-vitamin",
   "metadata": {},
   "source": [
    "# load_wine 메서드를 사용합니다."
   ]
  },
  {
   "cell_type": "code",
   "execution_count": 67,
   "id": "exotic-effect",
   "metadata": {},
   "outputs": [],
   "source": [
    "wine = load_wine()"
   ]
  },
  {
   "cell_type": "markdown",
   "id": "figured-upper",
   "metadata": {},
   "source": [
    "# Feature Data를 지정합니다."
   ]
  },
  {
   "cell_type": "code",
   "execution_count": 68,
   "id": "hungry-portal",
   "metadata": {},
   "outputs": [],
   "source": [
    "wine_data = wine.data"
   ]
  },
  {
   "cell_type": "markdown",
   "id": "typical-bicycle",
   "metadata": {},
   "source": [
    "# Label Data를 지정합니다."
   ]
  },
  {
   "cell_type": "code",
   "execution_count": 69,
   "id": "consolidated-catholic",
   "metadata": {},
   "outputs": [],
   "source": [
    "wine_label = wine.target"
   ]
  },
  {
   "cell_type": "markdown",
   "id": "closing-amount",
   "metadata": {},
   "source": [
    "# Target Name을 출력합니다."
   ]
  },
  {
   "cell_type": "code",
   "execution_count": 70,
   "id": "private-edgar",
   "metadata": {},
   "outputs": [
    {
     "data": {
      "text/plain": [
       "array(['class_0', 'class_1', 'class_2'], dtype='<U7')"
      ]
     },
     "execution_count": 70,
     "metadata": {},
     "output_type": "execute_result"
    }
   ],
   "source": [
    "wine.target_names"
   ]
  },
  {
   "cell_type": "markdown",
   "id": "careful-science",
   "metadata": {},
   "source": [
    "# 데이터 Describe 해 보기"
   ]
  },
  {
   "cell_type": "code",
   "execution_count": 71,
   "id": "regional-compact",
   "metadata": {},
   "outputs": [
    {
     "name": "stdout",
     "output_type": "stream",
     "text": [
      ".. _wine_dataset:\n",
      "\n",
      "Wine recognition dataset\n",
      "------------------------\n",
      "\n",
      "**Data Set Characteristics:**\n",
      "\n",
      "    :Number of Instances: 178 (50 in each of three classes)\n",
      "    :Number of Attributes: 13 numeric, predictive attributes and the class\n",
      "    :Attribute Information:\n",
      " \t\t- Alcohol\n",
      " \t\t- Malic acid\n",
      " \t\t- Ash\n",
      "\t\t- Alcalinity of ash  \n",
      " \t\t- Magnesium\n",
      "\t\t- Total phenols\n",
      " \t\t- Flavanoids\n",
      " \t\t- Nonflavanoid phenols\n",
      " \t\t- Proanthocyanins\n",
      "\t\t- Color intensity\n",
      " \t\t- Hue\n",
      " \t\t- OD280/OD315 of diluted wines\n",
      " \t\t- Proline\n",
      "\n",
      "    - class:\n",
      "            - class_0\n",
      "            - class_1\n",
      "            - class_2\n",
      "\t\t\n",
      "    :Summary Statistics:\n",
      "    \n",
      "    ============================= ==== ===== ======= =====\n",
      "                                   Min   Max   Mean     SD\n",
      "    ============================= ==== ===== ======= =====\n",
      "    Alcohol:                      11.0  14.8    13.0   0.8\n",
      "    Malic Acid:                   0.74  5.80    2.34  1.12\n",
      "    Ash:                          1.36  3.23    2.36  0.27\n",
      "    Alcalinity of Ash:            10.6  30.0    19.5   3.3\n",
      "    Magnesium:                    70.0 162.0    99.7  14.3\n",
      "    Total Phenols:                0.98  3.88    2.29  0.63\n",
      "    Flavanoids:                   0.34  5.08    2.03  1.00\n",
      "    Nonflavanoid Phenols:         0.13  0.66    0.36  0.12\n",
      "    Proanthocyanins:              0.41  3.58    1.59  0.57\n",
      "    Colour Intensity:              1.3  13.0     5.1   2.3\n",
      "    Hue:                          0.48  1.71    0.96  0.23\n",
      "    OD280/OD315 of diluted wines: 1.27  4.00    2.61  0.71\n",
      "    Proline:                       278  1680     746   315\n",
      "    ============================= ==== ===== ======= =====\n",
      "\n",
      "    :Missing Attribute Values: None\n",
      "    :Class Distribution: class_0 (59), class_1 (71), class_2 (48)\n",
      "    :Creator: R.A. Fisher\n",
      "    :Donor: Michael Marshall (MARSHALL%PLU@io.arc.nasa.gov)\n",
      "    :Date: July, 1988\n",
      "\n",
      "This is a copy of UCI ML Wine recognition datasets.\n",
      "https://archive.ics.uci.edu/ml/machine-learning-databases/wine/wine.data\n",
      "\n",
      "The data is the results of a chemical analysis of wines grown in the same\n",
      "region in Italy by three different cultivators. There are thirteen different\n",
      "measurements taken for different constituents found in the three types of\n",
      "wine.\n",
      "\n",
      "Original Owners: \n",
      "\n",
      "Forina, M. et al, PARVUS - \n",
      "An Extendible Package for Data Exploration, Classification and Correlation. \n",
      "Institute of Pharmaceutical and Food Analysis and Technologies,\n",
      "Via Brigata Salerno, 16147 Genoa, Italy.\n",
      "\n",
      "Citation:\n",
      "\n",
      "Lichman, M. (2013). UCI Machine Learning Repository\n",
      "[https://archive.ics.uci.edu/ml]. Irvine, CA: University of California,\n",
      "School of Information and Computer Science. \n",
      "\n",
      ".. topic:: References\n",
      "\n",
      "  (1) S. Aeberhard, D. Coomans and O. de Vel, \n",
      "  Comparison of Classifiers in High Dimensional Settings, \n",
      "  Tech. Rep. no. 92-02, (1992), Dept. of Computer Science and Dept. of  \n",
      "  Mathematics and Statistics, James Cook University of North Queensland. \n",
      "  (Also submitted to Technometrics). \n",
      "\n",
      "  The data was used with many others for comparing various \n",
      "  classifiers. The classes are separable, though only RDA \n",
      "  has achieved 100% correct classification. \n",
      "  (RDA : 100%, QDA 99.4%, LDA 98.9%, 1NN 96.1% (z-transformed data)) \n",
      "  (All results using the leave-one-out technique) \n",
      "\n",
      "  (2) S. Aeberhard, D. Coomans and O. de Vel, \n",
      "  \"THE CLASSIFICATION PERFORMANCE OF RDA\" \n",
      "  Tech. Rep. no. 92-01, (1992), Dept. of Computer Science and Dept. of \n",
      "  Mathematics and Statistics, James Cook University of North Queensland. \n",
      "  (Also submitted to Journal of Chemometrics).\n",
      "\n"
     ]
    }
   ],
   "source": [
    "print(wine.DESCR)"
   ]
  },
  {
   "cell_type": "markdown",
   "id": "valuable-showcase",
   "metadata": {},
   "source": [
    "# 데이터를 분리합니다."
   ]
  },
  {
   "cell_type": "code",
   "execution_count": 72,
   "id": "wired-commerce",
   "metadata": {},
   "outputs": [],
   "source": [
    "X_1_train, X_1_test, y_1_train, y_1_test = train_test_split(wine_data, \n",
    "                                                    wine_label, \n",
    "                                                    test_size=0.2, \n",
    "                                                    random_state=5)"
   ]
  },
  {
   "cell_type": "markdown",
   "id": "suburban-grain",
   "metadata": {},
   "source": [
    "# Decision Tree 사용해 보기"
   ]
  },
  {
   "cell_type": "code",
   "execution_count": 73,
   "id": "taken-wellington",
   "metadata": {
    "scrolled": true
   },
   "outputs": [
    {
     "name": "stdout",
     "output_type": "stream",
     "text": [
      "              precision    recall  f1-score   support\n",
      "\n",
      "           0       1.00      0.76      0.87        17\n",
      "           1       0.73      1.00      0.85        11\n",
      "           2       0.88      0.88      0.88         8\n",
      "\n",
      "    accuracy                           0.86        36\n",
      "   macro avg       0.87      0.88      0.86        36\n",
      "weighted avg       0.89      0.86      0.86        36\n",
      "\n"
     ]
    }
   ],
   "source": [
    "decision_tree = DecisionTreeClassifier(random_state=32)\n",
    "decision_tree.fit(X_1_train, y_1_train)\n",
    "y_1_pred = decision_tree.predict(X_1_test)\n",
    "\n",
    "print(classification_report(y_1_test, y_1_pred))"
   ]
  },
  {
   "cell_type": "markdown",
   "id": "completed-pendant",
   "metadata": {},
   "source": [
    "# 오차행렬 불러오기"
   ]
  },
  {
   "cell_type": "code",
   "execution_count": 74,
   "id": "amended-business",
   "metadata": {},
   "outputs": [
    {
     "data": {
      "text/plain": [
       "array([[13,  3,  1],\n",
       "       [ 0, 11,  0],\n",
       "       [ 0,  1,  7]])"
      ]
     },
     "execution_count": 74,
     "metadata": {},
     "output_type": "execute_result"
    }
   ],
   "source": [
    "confusion_matrix(y_1_test, y_1_pred)"
   ]
  },
  {
   "cell_type": "markdown",
   "id": "subject-canada",
   "metadata": {},
   "source": [
    "## Decision Tree 모델 평가하기\n",
    "### class_1과 class_2를 class_0으로 분류하진 않았지만, class_0을 1, 2로 분류했습니다. class_0 와인을 찾을때 쓰면 좋을 것 같습니다."
   ]
  },
  {
   "cell_type": "markdown",
   "id": "permanent-designation",
   "metadata": {},
   "source": [
    "# Random Forest 사용해 보기"
   ]
  },
  {
   "cell_type": "code",
   "execution_count": 75,
   "id": "metric-stable",
   "metadata": {
    "scrolled": true
   },
   "outputs": [
    {
     "name": "stdout",
     "output_type": "stream",
     "text": [
      "              precision    recall  f1-score   support\n",
      "\n",
      "           0       1.00      1.00      1.00        17\n",
      "           1       1.00      1.00      1.00        11\n",
      "           2       1.00      1.00      1.00         8\n",
      "\n",
      "    accuracy                           1.00        36\n",
      "   macro avg       1.00      1.00      1.00        36\n",
      "weighted avg       1.00      1.00      1.00        36\n",
      "\n"
     ]
    }
   ],
   "source": [
    "Random_Forest = RandomForestClassifier(random_state=32)\n",
    "Random_Forest.fit(X_1_train, y_1_train)\n",
    "y_1_pred = Random_Forest.predict(X_1_test)\n",
    "\n",
    "print(classification_report(y_1_test, y_1_pred))"
   ]
  },
  {
   "cell_type": "markdown",
   "id": "rural-wright",
   "metadata": {},
   "source": [
    "# 오차행렬 불러오기"
   ]
  },
  {
   "cell_type": "code",
   "execution_count": 76,
   "id": "oriental-answer",
   "metadata": {},
   "outputs": [
    {
     "data": {
      "text/plain": [
       "array([[17,  0,  0],\n",
       "       [ 0, 11,  0],\n",
       "       [ 0,  0,  8]])"
      ]
     },
     "execution_count": 76,
     "metadata": {},
     "output_type": "execute_result"
    }
   ],
   "source": [
    "confusion_matrix(y_1_test, y_1_pred)"
   ]
  },
  {
   "cell_type": "markdown",
   "id": "favorite-change",
   "metadata": {},
   "source": [
    "# Random Forest 모델 평가하기\n",
    "\n",
    "### 표본이 많다고는 할 수 없지만 매우 정확했고, 와인 분류 할 때 쓰면 좋다고 생각합니다."
   ]
  },
  {
   "cell_type": "markdown",
   "id": "cognitive-round",
   "metadata": {},
   "source": [
    "# SVM 사용해 보기"
   ]
  },
  {
   "cell_type": "code",
   "execution_count": 77,
   "id": "drawn-vietnamese",
   "metadata": {
    "scrolled": true
   },
   "outputs": [
    {
     "name": "stdout",
     "output_type": "stream",
     "text": [
      "              precision    recall  f1-score   support\n",
      "\n",
      "           0       0.86      0.71      0.77        17\n",
      "           1       0.69      0.82      0.75        11\n",
      "           2       0.44      0.50      0.47         8\n",
      "\n",
      "    accuracy                           0.69        36\n",
      "   macro avg       0.66      0.67      0.66        36\n",
      "weighted avg       0.72      0.69      0.70        36\n",
      "\n"
     ]
    }
   ],
   "source": [
    "svm_model = svm.SVC()\n",
    "svm_model.fit(X_1_train, y_1_train)\n",
    "y_1_pred = svm_model.predict(X_1_test)\n",
    "\n",
    "print(classification_report(y_1_test, y_1_pred))"
   ]
  },
  {
   "cell_type": "markdown",
   "id": "racial-narrow",
   "metadata": {},
   "source": [
    "# 오차행렬 불러오기"
   ]
  },
  {
   "cell_type": "code",
   "execution_count": 78,
   "id": "chubby-aquarium",
   "metadata": {
    "scrolled": true
   },
   "outputs": [
    {
     "data": {
      "text/plain": [
       "array([[12,  0,  5],\n",
       "       [ 2,  9,  0],\n",
       "       [ 0,  4,  4]])"
      ]
     },
     "execution_count": 78,
     "metadata": {},
     "output_type": "execute_result"
    }
   ],
   "source": [
    "confusion_matrix(y_1_test, y_1_pred)"
   ]
  },
  {
   "cell_type": "markdown",
   "id": "annual-liver",
   "metadata": {},
   "source": [
    "# SVM 모델 평가하기\n",
    "### 상대적으로 다른 모델과 비교하여 낮은 정확도가 나왔습니다.\n",
    "### 와인을 분류 할 때는 좋지 않은 모델이라고 생각합니다."
   ]
  },
  {
   "cell_type": "markdown",
   "id": "domestic-graphic",
   "metadata": {},
   "source": [
    "# SGD Classifier 사용해 보기"
   ]
  },
  {
   "cell_type": "code",
   "execution_count": 79,
   "id": "formal-facial",
   "metadata": {
    "scrolled": true
   },
   "outputs": [
    {
     "name": "stdout",
     "output_type": "stream",
     "text": [
      "              precision    recall  f1-score   support\n",
      "\n",
      "           0       0.91      0.59      0.71        17\n",
      "           1       1.00      0.27      0.43        11\n",
      "           2       0.36      1.00      0.53         8\n",
      "\n",
      "    accuracy                           0.58        36\n",
      "   macro avg       0.76      0.62      0.56        36\n",
      "weighted avg       0.82      0.58      0.59        36\n",
      "\n"
     ]
    }
   ],
   "source": [
    "sgd_model = SGDClassifier()\n",
    "sgd_model.fit(X_1_train, y_1_train)\n",
    "y_1_pred = sgd_model.predict(X_1_test)\n",
    "\n",
    "print(classification_report(y_1_test, y_1_pred))"
   ]
  },
  {
   "cell_type": "markdown",
   "id": "latest-richards",
   "metadata": {},
   "source": [
    "# 오차행렬 불러오기"
   ]
  },
  {
   "cell_type": "code",
   "execution_count": 80,
   "id": "otherwise-indicator",
   "metadata": {},
   "outputs": [
    {
     "data": {
      "text/plain": [
       "array([[10,  0,  7],\n",
       "       [ 1,  3,  7],\n",
       "       [ 0,  0,  8]])"
      ]
     },
     "execution_count": 80,
     "metadata": {},
     "output_type": "execute_result"
    }
   ],
   "source": [
    "confusion_matrix(y_1_test, y_1_pred)"
   ]
  },
  {
   "cell_type": "markdown",
   "id": "inner-growth",
   "metadata": {},
   "source": [
    "# SGD Classifier 모델 평가하기\n",
    "### SVM과 마찬가지로 와인을 분류 할 때는 좋지 않다고 생각합니다."
   ]
  },
  {
   "cell_type": "markdown",
   "id": "unlike-pressing",
   "metadata": {},
   "source": [
    "# Logistic Regression 사용해 보기"
   ]
  },
  {
   "cell_type": "code",
   "execution_count": 85,
   "id": "executive-translator",
   "metadata": {},
   "outputs": [
    {
     "name": "stdout",
     "output_type": "stream",
     "text": [
      "              precision    recall  f1-score   support\n",
      "\n",
      "           0       1.00      0.94      0.97        17\n",
      "           1       0.85      1.00      0.92        11\n",
      "           2       1.00      0.88      0.93         8\n",
      "\n",
      "    accuracy                           0.94        36\n",
      "   macro avg       0.95      0.94      0.94        36\n",
      "weighted avg       0.95      0.94      0.95        36\n",
      "\n"
     ]
    }
   ],
   "source": [
    "logistic_model = LogisticRegression(max_iter = 5000)\n",
    "logistic_model.fit(X_1_train, y_1_train)\n",
    "y_1_pred = logistic_model.predict(X_1_test)\n",
    "\n",
    "print(classification_report(y_1_test, y_1_pred))"
   ]
  },
  {
   "cell_type": "markdown",
   "id": "loved-physics",
   "metadata": {},
   "source": [
    "### 처음에 convergencewarning이라는 문구가 나와 찾아보았더니, 수렴이 되지 않았는데 학습이 종료 되었다는 의미라는걸 알았습니다. 그래서 반복횟수를 1000, 2000, 3000 올려도 계속 문구가 나와 5000으로 올렸습니다."
   ]
  },
  {
   "cell_type": "code",
   "execution_count": 86,
   "id": "ranking-biography",
   "metadata": {},
   "outputs": [
    {
     "data": {
      "text/plain": [
       "array([[16,  1,  0],\n",
       "       [ 0, 11,  0],\n",
       "       [ 0,  1,  7]])"
      ]
     },
     "execution_count": 86,
     "metadata": {},
     "output_type": "execute_result"
    }
   ],
   "source": [
    "confusion_matrix(y_1_test, y_1_pred)"
   ]
  },
  {
   "cell_type": "markdown",
   "id": "interior-stick",
   "metadata": {},
   "source": [
    "### "
   ]
  },
  {
   "cell_type": "markdown",
   "id": "native-teach",
   "metadata": {},
   "source": [
    "# 모델을 평가하는 지표로 무엇이 좋을까?\n",
    "### 라벨이 붙지 않은 모르는 와인을 분류해야 하는 모델입니다. 와인을 잘 못 분류해서 판매하게 되면 안되기 때문에 하나하나의 정확도가 높아야 된다고 생각합니다. "
   ]
  },
  {
   "cell_type": "markdown",
   "id": "changed-uzbekistan",
   "metadata": {},
   "source": [
    "# load_breast_cancer 메서드를 사용합니다."
   ]
  },
  {
   "cell_type": "code",
   "execution_count": 87,
   "id": "dangerous-office",
   "metadata": {},
   "outputs": [],
   "source": [
    "breast_cancer = load_breast_cancer()"
   ]
  },
  {
   "cell_type": "markdown",
   "id": "casual-cinema",
   "metadata": {},
   "source": [
    "# Feature Data를 지정합니다."
   ]
  },
  {
   "cell_type": "code",
   "execution_count": 88,
   "id": "million-entrepreneur",
   "metadata": {},
   "outputs": [],
   "source": [
    "breast_cancer_data = breast_cancer.data"
   ]
  },
  {
   "cell_type": "markdown",
   "id": "assured-quest",
   "metadata": {},
   "source": [
    "# Label Data를 지정합니다."
   ]
  },
  {
   "cell_type": "code",
   "execution_count": 89,
   "id": "general-fifth",
   "metadata": {},
   "outputs": [],
   "source": [
    "breast_cancer_label = breast_cancer.target"
   ]
  },
  {
   "cell_type": "markdown",
   "id": "expected-knight",
   "metadata": {},
   "source": [
    "# Target Name을 출력합니다."
   ]
  },
  {
   "cell_type": "code",
   "execution_count": 90,
   "id": "muslim-remains",
   "metadata": {},
   "outputs": [
    {
     "data": {
      "text/plain": [
       "array(['malignant', 'benign'], dtype='<U9')"
      ]
     },
     "execution_count": 90,
     "metadata": {},
     "output_type": "execute_result"
    }
   ],
   "source": [
    "breast_cancer.target_names"
   ]
  },
  {
   "cell_type": "markdown",
   "id": "earned-danger",
   "metadata": {},
   "source": [
    "# 데이터 Describe 해 보기"
   ]
  },
  {
   "cell_type": "code",
   "execution_count": 91,
   "id": "interstate-malawi",
   "metadata": {},
   "outputs": [
    {
     "name": "stdout",
     "output_type": "stream",
     "text": [
      ".. _breast_cancer_dataset:\n",
      "\n",
      "Breast cancer wisconsin (diagnostic) dataset\n",
      "--------------------------------------------\n",
      "\n",
      "**Data Set Characteristics:**\n",
      "\n",
      "    :Number of Instances: 569\n",
      "\n",
      "    :Number of Attributes: 30 numeric, predictive attributes and the class\n",
      "\n",
      "    :Attribute Information:\n",
      "        - radius (mean of distances from center to points on the perimeter)\n",
      "        - texture (standard deviation of gray-scale values)\n",
      "        - perimeter\n",
      "        - area\n",
      "        - smoothness (local variation in radius lengths)\n",
      "        - compactness (perimeter^2 / area - 1.0)\n",
      "        - concavity (severity of concave portions of the contour)\n",
      "        - concave points (number of concave portions of the contour)\n",
      "        - symmetry\n",
      "        - fractal dimension (\"coastline approximation\" - 1)\n",
      "\n",
      "        The mean, standard error, and \"worst\" or largest (mean of the three\n",
      "        worst/largest values) of these features were computed for each image,\n",
      "        resulting in 30 features.  For instance, field 0 is Mean Radius, field\n",
      "        10 is Radius SE, field 20 is Worst Radius.\n",
      "\n",
      "        - class:\n",
      "                - WDBC-Malignant\n",
      "                - WDBC-Benign\n",
      "\n",
      "    :Summary Statistics:\n",
      "\n",
      "    ===================================== ====== ======\n",
      "                                           Min    Max\n",
      "    ===================================== ====== ======\n",
      "    radius (mean):                        6.981  28.11\n",
      "    texture (mean):                       9.71   39.28\n",
      "    perimeter (mean):                     43.79  188.5\n",
      "    area (mean):                          143.5  2501.0\n",
      "    smoothness (mean):                    0.053  0.163\n",
      "    compactness (mean):                   0.019  0.345\n",
      "    concavity (mean):                     0.0    0.427\n",
      "    concave points (mean):                0.0    0.201\n",
      "    symmetry (mean):                      0.106  0.304\n",
      "    fractal dimension (mean):             0.05   0.097\n",
      "    radius (standard error):              0.112  2.873\n",
      "    texture (standard error):             0.36   4.885\n",
      "    perimeter (standard error):           0.757  21.98\n",
      "    area (standard error):                6.802  542.2\n",
      "    smoothness (standard error):          0.002  0.031\n",
      "    compactness (standard error):         0.002  0.135\n",
      "    concavity (standard error):           0.0    0.396\n",
      "    concave points (standard error):      0.0    0.053\n",
      "    symmetry (standard error):            0.008  0.079\n",
      "    fractal dimension (standard error):   0.001  0.03\n",
      "    radius (worst):                       7.93   36.04\n",
      "    texture (worst):                      12.02  49.54\n",
      "    perimeter (worst):                    50.41  251.2\n",
      "    area (worst):                         185.2  4254.0\n",
      "    smoothness (worst):                   0.071  0.223\n",
      "    compactness (worst):                  0.027  1.058\n",
      "    concavity (worst):                    0.0    1.252\n",
      "    concave points (worst):               0.0    0.291\n",
      "    symmetry (worst):                     0.156  0.664\n",
      "    fractal dimension (worst):            0.055  0.208\n",
      "    ===================================== ====== ======\n",
      "\n",
      "    :Missing Attribute Values: None\n",
      "\n",
      "    :Class Distribution: 212 - Malignant, 357 - Benign\n",
      "\n",
      "    :Creator:  Dr. William H. Wolberg, W. Nick Street, Olvi L. Mangasarian\n",
      "\n",
      "    :Donor: Nick Street\n",
      "\n",
      "    :Date: November, 1995\n",
      "\n",
      "This is a copy of UCI ML Breast Cancer Wisconsin (Diagnostic) datasets.\n",
      "https://goo.gl/U2Uwz2\n",
      "\n",
      "Features are computed from a digitized image of a fine needle\n",
      "aspirate (FNA) of a breast mass.  They describe\n",
      "characteristics of the cell nuclei present in the image.\n",
      "\n",
      "Separating plane described above was obtained using\n",
      "Multisurface Method-Tree (MSM-T) [K. P. Bennett, \"Decision Tree\n",
      "Construction Via Linear Programming.\" Proceedings of the 4th\n",
      "Midwest Artificial Intelligence and Cognitive Science Society,\n",
      "pp. 97-101, 1992], a classification method which uses linear\n",
      "programming to construct a decision tree.  Relevant features\n",
      "were selected using an exhaustive search in the space of 1-4\n",
      "features and 1-3 separating planes.\n",
      "\n",
      "The actual linear program used to obtain the separating plane\n",
      "in the 3-dimensional space is that described in:\n",
      "[K. P. Bennett and O. L. Mangasarian: \"Robust Linear\n",
      "Programming Discrimination of Two Linearly Inseparable Sets\",\n",
      "Optimization Methods and Software 1, 1992, 23-34].\n",
      "\n",
      "This database is also available through the UW CS ftp server:\n",
      "\n",
      "ftp ftp.cs.wisc.edu\n",
      "cd math-prog/cpo-dataset/machine-learn/WDBC/\n",
      "\n",
      ".. topic:: References\n",
      "\n",
      "   - W.N. Street, W.H. Wolberg and O.L. Mangasarian. Nuclear feature extraction \n",
      "     for breast tumor diagnosis. IS&T/SPIE 1993 International Symposium on \n",
      "     Electronic Imaging: Science and Technology, volume 1905, pages 861-870,\n",
      "     San Jose, CA, 1993.\n",
      "   - O.L. Mangasarian, W.N. Street and W.H. Wolberg. Breast cancer diagnosis and \n",
      "     prognosis via linear programming. Operations Research, 43(4), pages 570-577, \n",
      "     July-August 1995.\n",
      "   - W.H. Wolberg, W.N. Street, and O.L. Mangasarian. Machine learning techniques\n",
      "     to diagnose breast cancer from fine-needle aspirates. Cancer Letters 77 (1994) \n",
      "     163-171.\n"
     ]
    }
   ],
   "source": [
    "print(breast_cancer.DESCR)"
   ]
  },
  {
   "cell_type": "markdown",
   "id": "computational-intermediate",
   "metadata": {},
   "source": [
    "# 데이터를 분리합니다."
   ]
  },
  {
   "cell_type": "code",
   "execution_count": 92,
   "id": "alternate-favor",
   "metadata": {},
   "outputs": [],
   "source": [
    "X_2_train, X_2_test, y_2_train, y_2_test = train_test_split(breast_cancer_data, \n",
    "                                                    breast_cancer_label, \n",
    "                                                    test_size=0.2, \n",
    "                                                    random_state=5)"
   ]
  },
  {
   "cell_type": "markdown",
   "id": "enclosed-possession",
   "metadata": {},
   "source": [
    "# Decision Tree 사용해 보기"
   ]
  },
  {
   "cell_type": "code",
   "execution_count": 93,
   "id": "optical-encoding",
   "metadata": {
    "scrolled": true
   },
   "outputs": [
    {
     "name": "stdout",
     "output_type": "stream",
     "text": [
      "              precision    recall  f1-score   support\n",
      "\n",
      "           0       0.94      0.92      0.93        48\n",
      "           1       0.94      0.95      0.95        66\n",
      "\n",
      "    accuracy                           0.94       114\n",
      "   macro avg       0.94      0.94      0.94       114\n",
      "weighted avg       0.94      0.94      0.94       114\n",
      "\n"
     ]
    }
   ],
   "source": [
    "decision_tree = DecisionTreeClassifier(random_state=32)\n",
    "decision_tree.fit(X_2_train, y_2_train)\n",
    "y_2_pred = decision_tree.predict(X_2_test)\n",
    "\n",
    "print(classification_report(y_2_test, y_2_pred))"
   ]
  },
  {
   "cell_type": "markdown",
   "id": "golden-external",
   "metadata": {},
   "source": [
    "# 오차행렬 불러오기"
   ]
  },
  {
   "cell_type": "code",
   "execution_count": 94,
   "id": "rotary-wyoming",
   "metadata": {},
   "outputs": [
    {
     "data": {
      "text/plain": [
       "array([[44,  4],\n",
       "       [ 3, 63]])"
      ]
     },
     "execution_count": 94,
     "metadata": {},
     "output_type": "execute_result"
    }
   ],
   "source": [
    "confusion_matrix(y_2_test, y_2_pred)"
   ]
  },
  {
   "cell_type": "markdown",
   "id": "academic-volleyball",
   "metadata": {},
   "source": [
    "## Decision Tree 모델 평가하기\n",
    "### 양성 종양에 비해 악성 종양이 상대적으로 정확도가 낮습니다. 악성 종양을 제대로 판단 하지 못 하면 큰 위험이 되기때문에 정확도는 높지만 위험한 모델이라 생각합니다."
   ]
  },
  {
   "cell_type": "markdown",
   "id": "verbal-aspect",
   "metadata": {},
   "source": [
    "# Random Forest 사용해 보기"
   ]
  },
  {
   "cell_type": "code",
   "execution_count": 95,
   "id": "painted-victim",
   "metadata": {
    "scrolled": true
   },
   "outputs": [
    {
     "name": "stdout",
     "output_type": "stream",
     "text": [
      "              precision    recall  f1-score   support\n",
      "\n",
      "           0       1.00      0.94      0.97        48\n",
      "           1       0.96      1.00      0.98        66\n",
      "\n",
      "    accuracy                           0.97       114\n",
      "   macro avg       0.98      0.97      0.97       114\n",
      "weighted avg       0.97      0.97      0.97       114\n",
      "\n"
     ]
    }
   ],
   "source": [
    "Random_Forest = RandomForestClassifier(random_state=32)\n",
    "Random_Forest.fit(X_2_train, y_2_train)\n",
    "y_2_pred = Random_Forest.predict(X_2_test)\n",
    "\n",
    "print(classification_report(y_2_test, y_2_pred))"
   ]
  },
  {
   "cell_type": "markdown",
   "id": "conscious-purple",
   "metadata": {},
   "source": [
    "# 오차행렬 불러오기"
   ]
  },
  {
   "cell_type": "code",
   "execution_count": 96,
   "id": "aboriginal-lawrence",
   "metadata": {},
   "outputs": [
    {
     "data": {
      "text/plain": [
       "array([[45,  3],\n",
       "       [ 0, 66]])"
      ]
     },
     "execution_count": 96,
     "metadata": {},
     "output_type": "execute_result"
    }
   ],
   "source": [
    "confusion_matrix(y_2_test, y_2_pred)"
   ]
  },
  {
   "cell_type": "markdown",
   "id": "creative-keyboard",
   "metadata": {},
   "source": [
    "# Random Forest 모델 평가하기\n",
    "\n",
    "### 전체적으로 정확도는 높지만 악성 종양의 recall 값이 많이 아쉬웠습니다."
   ]
  },
  {
   "cell_type": "markdown",
   "id": "streaming-tunnel",
   "metadata": {},
   "source": [
    "# SVM 사용해 보기"
   ]
  },
  {
   "cell_type": "code",
   "execution_count": 97,
   "id": "sealed-sherman",
   "metadata": {
    "scrolled": true
   },
   "outputs": [
    {
     "name": "stdout",
     "output_type": "stream",
     "text": [
      "              precision    recall  f1-score   support\n",
      "\n",
      "           0       1.00      0.85      0.92        48\n",
      "           1       0.90      1.00      0.95        66\n",
      "\n",
      "    accuracy                           0.94       114\n",
      "   macro avg       0.95      0.93      0.94       114\n",
      "weighted avg       0.94      0.94      0.94       114\n",
      "\n"
     ]
    }
   ],
   "source": [
    "svm_model = svm.SVC()\n",
    "svm_model.fit(X_2_train, y_2_train)\n",
    "y_2_pred = svm_model.predict(X_2_test)\n",
    "\n",
    "print(classification_report(y_2_test, y_2_pred))"
   ]
  },
  {
   "cell_type": "markdown",
   "id": "endless-messenger",
   "metadata": {},
   "source": [
    "# 오차행렬 불러오기"
   ]
  },
  {
   "cell_type": "code",
   "execution_count": 98,
   "id": "intensive-creation",
   "metadata": {
    "scrolled": true
   },
   "outputs": [
    {
     "data": {
      "text/plain": [
       "array([[41,  7],\n",
       "       [ 0, 66]])"
      ]
     },
     "execution_count": 98,
     "metadata": {},
     "output_type": "execute_result"
    }
   ],
   "source": [
    "confusion_matrix(y_2_test, y_2_pred)"
   ]
  },
  {
   "cell_type": "markdown",
   "id": "continent-representation",
   "metadata": {},
   "source": [
    "# SVM 모델 평가하기\n",
    "### Random Forest보다 모든 부분이 떨어진다고 생각합니다."
   ]
  },
  {
   "cell_type": "markdown",
   "id": "skilled-detective",
   "metadata": {},
   "source": [
    "# SGD Classifier 사용해 보기"
   ]
  },
  {
   "cell_type": "code",
   "execution_count": 99,
   "id": "focal-single",
   "metadata": {
    "scrolled": true
   },
   "outputs": [
    {
     "name": "stdout",
     "output_type": "stream",
     "text": [
      "              precision    recall  f1-score   support\n",
      "\n",
      "           0       1.00      0.79      0.88        48\n",
      "           1       0.87      1.00      0.93        66\n",
      "\n",
      "    accuracy                           0.91       114\n",
      "   macro avg       0.93      0.90      0.91       114\n",
      "weighted avg       0.92      0.91      0.91       114\n",
      "\n"
     ]
    }
   ],
   "source": [
    "sgd_model = SGDClassifier()\n",
    "sgd_model.fit(X_2_train, y_2_train)\n",
    "y_2_pred = sgd_model.predict(X_2_test)\n",
    "\n",
    "print(classification_report(y_2_test, y_2_pred))"
   ]
  },
  {
   "cell_type": "markdown",
   "id": "agricultural-requirement",
   "metadata": {},
   "source": [
    "# 오차행렬 불러오기"
   ]
  },
  {
   "cell_type": "code",
   "execution_count": 100,
   "id": "hired-decade",
   "metadata": {},
   "outputs": [
    {
     "data": {
      "text/plain": [
       "array([[38, 10],\n",
       "       [ 0, 66]])"
      ]
     },
     "execution_count": 100,
     "metadata": {},
     "output_type": "execute_result"
    }
   ],
   "source": [
    "confusion_matrix(y_2_test, y_2_pred)"
   ]
  },
  {
   "cell_type": "markdown",
   "id": "statewide-transsexual",
   "metadata": {},
   "source": [
    "# SGD Classifier 모델 평가하기\n",
    "### Random Forest 보다 모든 부분이 떨어진다고 생각합니다."
   ]
  },
  {
   "cell_type": "markdown",
   "id": "bigger-democrat",
   "metadata": {},
   "source": [
    "# Logistic Regression 사용해 보기"
   ]
  },
  {
   "cell_type": "code",
   "execution_count": 105,
   "id": "colonial-merit",
   "metadata": {},
   "outputs": [
    {
     "name": "stdout",
     "output_type": "stream",
     "text": [
      "              precision    recall  f1-score   support\n",
      "\n",
      "           0       0.98      0.94      0.96        48\n",
      "           1       0.96      0.98      0.97        66\n",
      "\n",
      "    accuracy                           0.96       114\n",
      "   macro avg       0.97      0.96      0.96       114\n",
      "weighted avg       0.97      0.96      0.96       114\n",
      "\n"
     ]
    }
   ],
   "source": [
    "logistic_model = LogisticRegression(max_iter = 3000)\n",
    "logistic_model.fit(X_2_train, y_2_train)\n",
    "y_2_pred = logistic_model.predict(X_2_test)\n",
    "\n",
    "print(classification_report(y_2_test, y_2_pred))"
   ]
  },
  {
   "cell_type": "markdown",
   "id": "computational-documentary",
   "metadata": {},
   "source": [
    "### 처음에 convergencewarning이라는 문구가 나와 찾아보았더니, 수렴이 되지 않았는데 학습이 종료 되었다는 의미라는걸 알았습니다. 그래서 반복횟수를 1000, 2000 올려도 계속 문구가 나와 3000으로 올렸습니다."
   ]
  },
  {
   "cell_type": "code",
   "execution_count": 106,
   "id": "alternate-catalog",
   "metadata": {},
   "outputs": [
    {
     "data": {
      "text/plain": [
       "array([[45,  3],\n",
       "       [ 1, 65]])"
      ]
     },
     "execution_count": 106,
     "metadata": {},
     "output_type": "execute_result"
    }
   ],
   "source": [
    "confusion_matrix(y_2_test, y_2_pred)"
   ]
  },
  {
   "cell_type": "markdown",
   "id": "unique-tiffany",
   "metadata": {},
   "source": [
    "# Logistic Regression 평가하기\n",
    "### Random Forest를 제외하면 다른 모델보다 악성 종양의 precision과 양성 종양의 recall 값이 낮지만, 악성 종양의 recall값이 가장 높아 의미 있다고 생각합니다."
   ]
  },
  {
   "cell_type": "markdown",
   "id": "controlling-arthritis",
   "metadata": {},
   "source": [
    "# 모델을 평가하는 지표로 무엇이 좋을까?\n",
    "### 저는 정확도와 악성 종양의 recall 값이 중요하다고 생각합니다. <br/>예제에서는 recall 값을 강조 했었습니다. 하지만 최소한의 정확도 없이 recall 값만 높다고 좋은건 아니라고 생각하기 때문에 정확도도 중요한 지표라고 생각합니다."
   ]
  },
  {
   "cell_type": "markdown",
   "id": "bottom-musician",
   "metadata": {},
   "source": [
    "# 회고\n",
    "### 저는 이번 미니 프로젝트를 진행하면서 모든 평가지표로 confusion_matrix를 사용했습니다. <br/> 그 이유는 처음 숫자 같은 경우 숫자의 오답률을 알아도 어떤 숫자로 예측했는지 알고 싶었기 때문입니다. 단순 정확도만 보면 어떤 숫자의 정확도가 낮은지 알 수 있지만 어떤 숫자로 예측했는지 까지는 모르기 때문에 사용했고 모델을 예측 하는데 좋은 평가지표라고 생각해서 계속 사용했습니다. \n",
    "### 이번 미니 프로젝트를 하면서 여러 모델이 있고 데이터와 내가 원하는 결과값을 위한 최적의 모델을 찾는게 얼마나 중요한지 배웠습니다."
   ]
  },
  {
   "cell_type": "code",
   "execution_count": null,
   "id": "authentic-withdrawal",
   "metadata": {},
   "outputs": [],
   "source": []
  }
 ],
 "metadata": {
  "kernelspec": {
   "display_name": "Python 3",
   "language": "python",
   "name": "python3"
  },
  "language_info": {
   "codemirror_mode": {
    "name": "ipython",
    "version": 3
   },
   "file_extension": ".py",
   "mimetype": "text/x-python",
   "name": "python",
   "nbconvert_exporter": "python",
   "pygments_lexer": "ipython3",
   "version": "3.7.9"
  }
 },
 "nbformat": 4,
 "nbformat_minor": 5
}
