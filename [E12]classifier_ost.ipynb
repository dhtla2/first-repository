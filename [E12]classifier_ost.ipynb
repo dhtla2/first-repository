{
 "cells": [
  {
   "cell_type": "markdown",
   "id": "superior-vacuum",
   "metadata": {},
   "source": [
    "# 목차\n",
    "> ## 라이브러리 import\n",
    "> ## 데이터 로드 및 전처리\n",
    "> ## 모델 설계 및 학습\n",
    "> ## 테스트\n",
    "> ## 회고"
   ]
  },
  {
   "cell_type": "markdown",
   "id": "latter-blake",
   "metadata": {},
   "source": [
    "## 필요한 라이브러리를 불러옵니다."
   ]
  },
  {
   "cell_type": "code",
   "execution_count": 67,
   "id": "suspended-brook",
   "metadata": {},
   "outputs": [],
   "source": [
    "import datetime as dt\n",
    "from pathlib import Path\n",
    "import os\n",
    "import time\n",
    "from tensorflow.keras.utils import plot_model\n",
    "import matplotlib.pyplot as plt\n",
    "import numpy as np\n",
    "import pandas as pd\n",
    "import warnings\n",
    "warnings.filterwarnings('ignore')\n",
    "import tensorflow as tf\n",
    "from tensorflow.keras.layers import Input, Dense, Dropout, GRU\n",
    "from tensorflow.keras.losses import categorical_crossentropy\n",
    "from tensorflow.keras.models import Model\n",
    "from tensorflow.keras.optimizers import Adam\n",
    "from tensorflow.keras.utils import to_categorical\n",
    "from tqdm import tqdm"
   ]
  },
  {
   "cell_type": "markdown",
   "id": "downtown-evidence",
   "metadata": {},
   "source": [
    "## 데이터를 불러옵니다."
   ]
  },
  {
   "cell_type": "code",
   "execution_count": 2,
   "id": "administrative-pursuit",
   "metadata": {},
   "outputs": [
    {
     "data": {
      "text/html": [
       "<div>\n",
       "<style scoped>\n",
       "    .dataframe tbody tr th:only-of-type {\n",
       "        vertical-align: middle;\n",
       "    }\n",
       "\n",
       "    .dataframe tbody tr th {\n",
       "        vertical-align: top;\n",
       "    }\n",
       "\n",
       "    .dataframe thead th {\n",
       "        text-align: right;\n",
       "    }\n",
       "</style>\n",
       "<table border=\"1\" class=\"dataframe\">\n",
       "  <thead>\n",
       "    <tr style=\"text-align: right;\">\n",
       "      <th></th>\n",
       "      <th>UserId</th>\n",
       "      <th>ItemId</th>\n",
       "      <th>Rating</th>\n",
       "      <th>Time</th>\n",
       "    </tr>\n",
       "  </thead>\n",
       "  <tbody>\n",
       "    <tr>\n",
       "      <th>31</th>\n",
       "      <td>1</td>\n",
       "      <td>3186</td>\n",
       "      <td>4</td>\n",
       "      <td>978300019</td>\n",
       "    </tr>\n",
       "    <tr>\n",
       "      <th>22</th>\n",
       "      <td>1</td>\n",
       "      <td>1270</td>\n",
       "      <td>5</td>\n",
       "      <td>978300055</td>\n",
       "    </tr>\n",
       "    <tr>\n",
       "      <th>27</th>\n",
       "      <td>1</td>\n",
       "      <td>1721</td>\n",
       "      <td>4</td>\n",
       "      <td>978300055</td>\n",
       "    </tr>\n",
       "    <tr>\n",
       "      <th>37</th>\n",
       "      <td>1</td>\n",
       "      <td>1022</td>\n",
       "      <td>5</td>\n",
       "      <td>978300055</td>\n",
       "    </tr>\n",
       "    <tr>\n",
       "      <th>24</th>\n",
       "      <td>1</td>\n",
       "      <td>2340</td>\n",
       "      <td>3</td>\n",
       "      <td>978300103</td>\n",
       "    </tr>\n",
       "    <tr>\n",
       "      <th>...</th>\n",
       "      <td>...</td>\n",
       "      <td>...</td>\n",
       "      <td>...</td>\n",
       "      <td>...</td>\n",
       "    </tr>\n",
       "    <tr>\n",
       "      <th>1000019</th>\n",
       "      <td>6040</td>\n",
       "      <td>2917</td>\n",
       "      <td>4</td>\n",
       "      <td>997454429</td>\n",
       "    </tr>\n",
       "    <tr>\n",
       "      <th>999988</th>\n",
       "      <td>6040</td>\n",
       "      <td>1921</td>\n",
       "      <td>4</td>\n",
       "      <td>997454464</td>\n",
       "    </tr>\n",
       "    <tr>\n",
       "      <th>1000172</th>\n",
       "      <td>6040</td>\n",
       "      <td>1784</td>\n",
       "      <td>3</td>\n",
       "      <td>997454464</td>\n",
       "    </tr>\n",
       "    <tr>\n",
       "      <th>1000167</th>\n",
       "      <td>6040</td>\n",
       "      <td>161</td>\n",
       "      <td>3</td>\n",
       "      <td>997454486</td>\n",
       "    </tr>\n",
       "    <tr>\n",
       "      <th>1000042</th>\n",
       "      <td>6040</td>\n",
       "      <td>1221</td>\n",
       "      <td>4</td>\n",
       "      <td>998315055</td>\n",
       "    </tr>\n",
       "  </tbody>\n",
       "</table>\n",
       "<p>1000209 rows × 4 columns</p>\n",
       "</div>"
      ],
      "text/plain": [
       "         UserId  ItemId  Rating       Time\n",
       "31            1    3186       4  978300019\n",
       "22            1    1270       5  978300055\n",
       "27            1    1721       4  978300055\n",
       "37            1    1022       5  978300055\n",
       "24            1    2340       3  978300103\n",
       "...         ...     ...     ...        ...\n",
       "1000019    6040    2917       4  997454429\n",
       "999988     6040    1921       4  997454464\n",
       "1000172    6040    1784       3  997454464\n",
       "1000167    6040     161       3  997454486\n",
       "1000042    6040    1221       4  998315055\n",
       "\n",
       "[1000209 rows x 4 columns]"
      ]
     },
     "execution_count": 2,
     "metadata": {},
     "output_type": "execute_result"
    }
   ],
   "source": [
    "data_path = Path(os.getenv('HOME')+'/aiffel/yoochoose/data/') \n",
    "train_path = data_path / 'ratings.dat'\n",
    "\n",
    "def load_data(data_path: Path, nrows=None):\n",
    "    data = pd.read_csv(data_path, sep='::', header=None, usecols=[0, 1, 2, 3], dtype={0: np.int32, 1: np.int32, 2: np.int32}, nrows=nrows)\n",
    "    data.columns = ['UserId', 'ItemId', 'Rating', 'Time']\n",
    "    return data\n",
    "\n",
    "data = load_data(train_path, None)\n",
    "data.sort_values(['UserId', 'Time'], inplace=True)  # data를 id와 시간 순서로 정렬해줍니다.\n",
    "data"
   ]
  },
  {
   "cell_type": "markdown",
   "id": "liquid-incidence",
   "metadata": {},
   "source": [
    "* 예제와는 다른 타입의 시간 자료네요 보기 좋게 바꿔보겠습니다."
   ]
  },
  {
   "cell_type": "code",
   "execution_count": 3,
   "id": "distinct-vehicle",
   "metadata": {},
   "outputs": [
    {
     "name": "stdout",
     "output_type": "stream",
     "text": [
      "2000-08-03 08:09:52 PM\n"
     ]
    }
   ],
   "source": [
    "tm = time.localtime(965333392)\n",
    "string = time.strftime('%Y-%m-%d %I:%M:%S %p', tm)\n",
    "print(string)"
   ]
  },
  {
   "cell_type": "markdown",
   "id": "acoustic-shooting",
   "metadata": {},
   "source": [
    "* 위에서 만든 코드로 함수를 만들어 데이터 프레임에 적용시켜보겠습니다."
   ]
  },
  {
   "cell_type": "code",
   "execution_count": 4,
   "id": "round-worse",
   "metadata": {},
   "outputs": [],
   "source": [
    "def timestamp(tm):\n",
    "    tm = time.localtime(tm)\n",
    "    string = time.strftime('%Y-%m-%d %I:%M:%S %p', tm)\n",
    "    return string"
   ]
  },
  {
   "cell_type": "code",
   "execution_count": 5,
   "id": "minus-satisfaction",
   "metadata": {},
   "outputs": [
    {
     "data": {
      "text/plain": [
       "'2000-08-03 08:09:52 PM'"
      ]
     },
     "execution_count": 5,
     "metadata": {},
     "output_type": "execute_result"
    }
   ],
   "source": [
    "timestamp(965333392)"
   ]
  },
  {
   "cell_type": "code",
   "execution_count": 6,
   "id": "hearing-boring",
   "metadata": {},
   "outputs": [],
   "source": [
    "data['time'] = data['Time'].apply(timestamp)"
   ]
  },
  {
   "cell_type": "markdown",
   "id": "complicated-accused",
   "metadata": {},
   "source": [
    "* 적용했고, 확인은 밑에서 하겠습니다."
   ]
  },
  {
   "cell_type": "markdown",
   "id": "defined-cornell",
   "metadata": {},
   "source": [
    "* 많이 고민했던 부분인데, 세션아이디가 없어서 어떻게 만들지 고민하다 클릭후 다음 클릭까지 30분 이상이 지나면 다른 세션으로 만들겠습니다."
   ]
  },
  {
   "cell_type": "code",
   "execution_count": 7,
   "id": "nominated-thumb",
   "metadata": {
    "scrolled": false
   },
   "outputs": [],
   "source": [
    "a = list(data['Time'])\n",
    "b = [0]\n",
    "for i, tm in enumerate(a):\n",
    "    if i == len(a)-1:\n",
    "        break\n",
    "    elif  abs(a[i] - a[i+1]) > 1800:\n",
    "        b.append(i+1)"
   ]
  },
  {
   "cell_type": "code",
   "execution_count": 8,
   "id": "indirect-harris",
   "metadata": {},
   "outputs": [
    {
     "data": {
      "text/plain": [
       "1000209"
      ]
     },
     "execution_count": 8,
     "metadata": {},
     "output_type": "execute_result"
    }
   ],
   "source": [
    "len(a)"
   ]
  },
  {
   "cell_type": "markdown",
   "id": "medium-singer",
   "metadata": {},
   "source": [
    "* 세션아이디를 만들기위해 다음 세션으로 바뀌는 지점을 b라는 리스트로 만들었습니다."
   ]
  },
  {
   "cell_type": "code",
   "execution_count": 65,
   "id": "willing-wisconsin",
   "metadata": {},
   "outputs": [
    {
     "data": {
      "text/plain": [
       "[0, 40, 53, 182, 233, 254, 452, 523, 554, 692]"
      ]
     },
     "execution_count": 65,
     "metadata": {},
     "output_type": "execute_result"
    }
   ],
   "source": [
    "b[:10]"
   ]
  },
  {
   "cell_type": "code",
   "execution_count": 10,
   "id": "minimal-damages",
   "metadata": {},
   "outputs": [
    {
     "data": {
      "text/plain": [
       "24309"
      ]
     },
     "execution_count": 10,
     "metadata": {},
     "output_type": "execute_result"
    }
   ],
   "source": [
    "len(b)"
   ]
  },
  {
   "cell_type": "code",
   "execution_count": 11,
   "id": "disturbed-albert",
   "metadata": {},
   "outputs": [],
   "source": [
    "b.append(1000209)"
   ]
  },
  {
   "cell_type": "code",
   "execution_count": 12,
   "id": "favorite-culture",
   "metadata": {},
   "outputs": [],
   "source": [
    "data['id'] = np.arange(1, 1000210)"
   ]
  },
  {
   "cell_type": "markdown",
   "id": "assigned-fiber",
   "metadata": {},
   "source": [
    "* 계산을 편하게 하기위해 새로 인덱싱한 id란 컬럼을 만들었습니다."
   ]
  },
  {
   "cell_type": "code",
   "execution_count": 13,
   "id": "secret-passion",
   "metadata": {},
   "outputs": [
    {
     "data": {
      "text/html": [
       "<div>\n",
       "<style scoped>\n",
       "    .dataframe tbody tr th:only-of-type {\n",
       "        vertical-align: middle;\n",
       "    }\n",
       "\n",
       "    .dataframe tbody tr th {\n",
       "        vertical-align: top;\n",
       "    }\n",
       "\n",
       "    .dataframe thead th {\n",
       "        text-align: right;\n",
       "    }\n",
       "</style>\n",
       "<table border=\"1\" class=\"dataframe\">\n",
       "  <thead>\n",
       "    <tr style=\"text-align: right;\">\n",
       "      <th></th>\n",
       "      <th>UserId</th>\n",
       "      <th>ItemId</th>\n",
       "      <th>Rating</th>\n",
       "      <th>Time</th>\n",
       "      <th>time</th>\n",
       "      <th>id</th>\n",
       "    </tr>\n",
       "  </thead>\n",
       "  <tbody>\n",
       "    <tr>\n",
       "      <th>31</th>\n",
       "      <td>1</td>\n",
       "      <td>3186</td>\n",
       "      <td>4</td>\n",
       "      <td>978300019</td>\n",
       "      <td>2000-12-31 10:00:19 PM</td>\n",
       "      <td>1</td>\n",
       "    </tr>\n",
       "    <tr>\n",
       "      <th>22</th>\n",
       "      <td>1</td>\n",
       "      <td>1270</td>\n",
       "      <td>5</td>\n",
       "      <td>978300055</td>\n",
       "      <td>2000-12-31 10:00:55 PM</td>\n",
       "      <td>2</td>\n",
       "    </tr>\n",
       "    <tr>\n",
       "      <th>27</th>\n",
       "      <td>1</td>\n",
       "      <td>1721</td>\n",
       "      <td>4</td>\n",
       "      <td>978300055</td>\n",
       "      <td>2000-12-31 10:00:55 PM</td>\n",
       "      <td>3</td>\n",
       "    </tr>\n",
       "    <tr>\n",
       "      <th>37</th>\n",
       "      <td>1</td>\n",
       "      <td>1022</td>\n",
       "      <td>5</td>\n",
       "      <td>978300055</td>\n",
       "      <td>2000-12-31 10:00:55 PM</td>\n",
       "      <td>4</td>\n",
       "    </tr>\n",
       "    <tr>\n",
       "      <th>24</th>\n",
       "      <td>1</td>\n",
       "      <td>2340</td>\n",
       "      <td>3</td>\n",
       "      <td>978300103</td>\n",
       "      <td>2000-12-31 10:01:43 PM</td>\n",
       "      <td>5</td>\n",
       "    </tr>\n",
       "    <tr>\n",
       "      <th>36</th>\n",
       "      <td>1</td>\n",
       "      <td>1836</td>\n",
       "      <td>5</td>\n",
       "      <td>978300172</td>\n",
       "      <td>2000-12-31 10:02:52 PM</td>\n",
       "      <td>6</td>\n",
       "    </tr>\n",
       "    <tr>\n",
       "      <th>3</th>\n",
       "      <td>1</td>\n",
       "      <td>3408</td>\n",
       "      <td>4</td>\n",
       "      <td>978300275</td>\n",
       "      <td>2000-12-31 10:04:35 PM</td>\n",
       "      <td>7</td>\n",
       "    </tr>\n",
       "    <tr>\n",
       "      <th>7</th>\n",
       "      <td>1</td>\n",
       "      <td>2804</td>\n",
       "      <td>5</td>\n",
       "      <td>978300719</td>\n",
       "      <td>2000-12-31 10:11:59 PM</td>\n",
       "      <td>8</td>\n",
       "    </tr>\n",
       "    <tr>\n",
       "      <th>47</th>\n",
       "      <td>1</td>\n",
       "      <td>1207</td>\n",
       "      <td>4</td>\n",
       "      <td>978300719</td>\n",
       "      <td>2000-12-31 10:11:59 PM</td>\n",
       "      <td>9</td>\n",
       "    </tr>\n",
       "    <tr>\n",
       "      <th>0</th>\n",
       "      <td>1</td>\n",
       "      <td>1193</td>\n",
       "      <td>5</td>\n",
       "      <td>978300760</td>\n",
       "      <td>2000-12-31 10:12:40 PM</td>\n",
       "      <td>10</td>\n",
       "    </tr>\n",
       "    <tr>\n",
       "      <th>21</th>\n",
       "      <td>1</td>\n",
       "      <td>720</td>\n",
       "      <td>3</td>\n",
       "      <td>978300760</td>\n",
       "      <td>2000-12-31 10:12:40 PM</td>\n",
       "      <td>11</td>\n",
       "    </tr>\n",
       "    <tr>\n",
       "      <th>44</th>\n",
       "      <td>1</td>\n",
       "      <td>260</td>\n",
       "      <td>4</td>\n",
       "      <td>978300760</td>\n",
       "      <td>2000-12-31 10:12:40 PM</td>\n",
       "      <td>12</td>\n",
       "    </tr>\n",
       "    <tr>\n",
       "      <th>9</th>\n",
       "      <td>1</td>\n",
       "      <td>919</td>\n",
       "      <td>4</td>\n",
       "      <td>978301368</td>\n",
       "      <td>2000-12-31 10:22:48 PM</td>\n",
       "      <td>13</td>\n",
       "    </tr>\n",
       "    <tr>\n",
       "      <th>51</th>\n",
       "      <td>1</td>\n",
       "      <td>608</td>\n",
       "      <td>4</td>\n",
       "      <td>978301398</td>\n",
       "      <td>2000-12-31 10:23:18 PM</td>\n",
       "      <td>14</td>\n",
       "    </tr>\n",
       "    <tr>\n",
       "      <th>43</th>\n",
       "      <td>1</td>\n",
       "      <td>2692</td>\n",
       "      <td>4</td>\n",
       "      <td>978301570</td>\n",
       "      <td>2000-12-31 10:26:10 PM</td>\n",
       "      <td>15</td>\n",
       "    </tr>\n",
       "    <tr>\n",
       "      <th>41</th>\n",
       "      <td>1</td>\n",
       "      <td>1961</td>\n",
       "      <td>5</td>\n",
       "      <td>978301590</td>\n",
       "      <td>2000-12-31 10:26:30 PM</td>\n",
       "      <td>16</td>\n",
       "    </tr>\n",
       "    <tr>\n",
       "      <th>48</th>\n",
       "      <td>1</td>\n",
       "      <td>2028</td>\n",
       "      <td>5</td>\n",
       "      <td>978301619</td>\n",
       "      <td>2000-12-31 10:26:59 PM</td>\n",
       "      <td>17</td>\n",
       "    </tr>\n",
       "    <tr>\n",
       "      <th>18</th>\n",
       "      <td>1</td>\n",
       "      <td>3105</td>\n",
       "      <td>5</td>\n",
       "      <td>978301713</td>\n",
       "      <td>2000-12-31 10:28:33 PM</td>\n",
       "      <td>18</td>\n",
       "    </tr>\n",
       "    <tr>\n",
       "      <th>11</th>\n",
       "      <td>1</td>\n",
       "      <td>938</td>\n",
       "      <td>4</td>\n",
       "      <td>978301752</td>\n",
       "      <td>2000-12-31 10:29:12 PM</td>\n",
       "      <td>19</td>\n",
       "    </tr>\n",
       "    <tr>\n",
       "      <th>14</th>\n",
       "      <td>1</td>\n",
       "      <td>1035</td>\n",
       "      <td>5</td>\n",
       "      <td>978301753</td>\n",
       "      <td>2000-12-31 10:29:13 PM</td>\n",
       "      <td>20</td>\n",
       "    </tr>\n",
       "    <tr>\n",
       "      <th>42</th>\n",
       "      <td>1</td>\n",
       "      <td>1962</td>\n",
       "      <td>4</td>\n",
       "      <td>978301753</td>\n",
       "      <td>2000-12-31 10:29:13 PM</td>\n",
       "      <td>21</td>\n",
       "    </tr>\n",
       "    <tr>\n",
       "      <th>17</th>\n",
       "      <td>1</td>\n",
       "      <td>2018</td>\n",
       "      <td>4</td>\n",
       "      <td>978301777</td>\n",
       "      <td>2000-12-31 10:29:37 PM</td>\n",
       "      <td>22</td>\n",
       "    </tr>\n",
       "    <tr>\n",
       "      <th>39</th>\n",
       "      <td>1</td>\n",
       "      <td>150</td>\n",
       "      <td>5</td>\n",
       "      <td>978301777</td>\n",
       "      <td>2000-12-31 10:29:37 PM</td>\n",
       "      <td>23</td>\n",
       "    </tr>\n",
       "    <tr>\n",
       "      <th>45</th>\n",
       "      <td>1</td>\n",
       "      <td>1028</td>\n",
       "      <td>5</td>\n",
       "      <td>978301777</td>\n",
       "      <td>2000-12-31 10:29:37 PM</td>\n",
       "      <td>24</td>\n",
       "    </tr>\n",
       "    <tr>\n",
       "      <th>26</th>\n",
       "      <td>1</td>\n",
       "      <td>1097</td>\n",
       "      <td>4</td>\n",
       "      <td>978301953</td>\n",
       "      <td>2000-12-31 10:32:33 PM</td>\n",
       "      <td>25</td>\n",
       "    </tr>\n",
       "    <tr>\n",
       "      <th>2</th>\n",
       "      <td>1</td>\n",
       "      <td>914</td>\n",
       "      <td>3</td>\n",
       "      <td>978301968</td>\n",
       "      <td>2000-12-31 10:32:48 PM</td>\n",
       "      <td>26</td>\n",
       "    </tr>\n",
       "    <tr>\n",
       "      <th>6</th>\n",
       "      <td>1</td>\n",
       "      <td>1287</td>\n",
       "      <td>5</td>\n",
       "      <td>978302039</td>\n",
       "      <td>2000-12-31 10:33:59 PM</td>\n",
       "      <td>27</td>\n",
       "    </tr>\n",
       "    <tr>\n",
       "      <th>19</th>\n",
       "      <td>1</td>\n",
       "      <td>2797</td>\n",
       "      <td>4</td>\n",
       "      <td>978302039</td>\n",
       "      <td>2000-12-31 10:33:59 PM</td>\n",
       "      <td>28</td>\n",
       "    </tr>\n",
       "    <tr>\n",
       "      <th>38</th>\n",
       "      <td>1</td>\n",
       "      <td>2762</td>\n",
       "      <td>4</td>\n",
       "      <td>978302091</td>\n",
       "      <td>2000-12-31 10:34:51 PM</td>\n",
       "      <td>29</td>\n",
       "    </tr>\n",
       "    <tr>\n",
       "      <th>52</th>\n",
       "      <td>1</td>\n",
       "      <td>1246</td>\n",
       "      <td>4</td>\n",
       "      <td>978302091</td>\n",
       "      <td>2000-12-31 10:34:51 PM</td>\n",
       "      <td>30</td>\n",
       "    </tr>\n",
       "    <tr>\n",
       "      <th>1</th>\n",
       "      <td>1</td>\n",
       "      <td>661</td>\n",
       "      <td>3</td>\n",
       "      <td>978302109</td>\n",
       "      <td>2000-12-31 10:35:09 PM</td>\n",
       "      <td>31</td>\n",
       "    </tr>\n",
       "    <tr>\n",
       "      <th>13</th>\n",
       "      <td>1</td>\n",
       "      <td>2918</td>\n",
       "      <td>4</td>\n",
       "      <td>978302124</td>\n",
       "      <td>2000-12-31 10:35:24 PM</td>\n",
       "      <td>32</td>\n",
       "    </tr>\n",
       "    <tr>\n",
       "      <th>49</th>\n",
       "      <td>1</td>\n",
       "      <td>531</td>\n",
       "      <td>4</td>\n",
       "      <td>978302149</td>\n",
       "      <td>2000-12-31 10:35:49 PM</td>\n",
       "      <td>33</td>\n",
       "    </tr>\n",
       "    <tr>\n",
       "      <th>50</th>\n",
       "      <td>1</td>\n",
       "      <td>3114</td>\n",
       "      <td>4</td>\n",
       "      <td>978302174</td>\n",
       "      <td>2000-12-31 10:36:14 PM</td>\n",
       "      <td>34</td>\n",
       "    </tr>\n",
       "    <tr>\n",
       "      <th>15</th>\n",
       "      <td>1</td>\n",
       "      <td>2791</td>\n",
       "      <td>4</td>\n",
       "      <td>978302188</td>\n",
       "      <td>2000-12-31 10:36:28 PM</td>\n",
       "      <td>35</td>\n",
       "    </tr>\n",
       "    <tr>\n",
       "      <th>20</th>\n",
       "      <td>1</td>\n",
       "      <td>2321</td>\n",
       "      <td>3</td>\n",
       "      <td>978302205</td>\n",
       "      <td>2000-12-31 10:36:45 PM</td>\n",
       "      <td>36</td>\n",
       "    </tr>\n",
       "    <tr>\n",
       "      <th>46</th>\n",
       "      <td>1</td>\n",
       "      <td>1029</td>\n",
       "      <td>5</td>\n",
       "      <td>978302205</td>\n",
       "      <td>2000-12-31 10:36:45 PM</td>\n",
       "      <td>37</td>\n",
       "    </tr>\n",
       "    <tr>\n",
       "      <th>5</th>\n",
       "      <td>1</td>\n",
       "      <td>1197</td>\n",
       "      <td>3</td>\n",
       "      <td>978302268</td>\n",
       "      <td>2000-12-31 10:37:48 PM</td>\n",
       "      <td>38</td>\n",
       "    </tr>\n",
       "    <tr>\n",
       "      <th>8</th>\n",
       "      <td>1</td>\n",
       "      <td>594</td>\n",
       "      <td>4</td>\n",
       "      <td>978302268</td>\n",
       "      <td>2000-12-31 10:37:48 PM</td>\n",
       "      <td>39</td>\n",
       "    </tr>\n",
       "    <tr>\n",
       "      <th>12</th>\n",
       "      <td>1</td>\n",
       "      <td>2398</td>\n",
       "      <td>4</td>\n",
       "      <td>978302281</td>\n",
       "      <td>2000-12-31 10:38:01 PM</td>\n",
       "      <td>40</td>\n",
       "    </tr>\n",
       "    <tr>\n",
       "      <th>28</th>\n",
       "      <td>1</td>\n",
       "      <td>1545</td>\n",
       "      <td>4</td>\n",
       "      <td>978824139</td>\n",
       "      <td>2001-01-06 11:35:39 PM</td>\n",
       "      <td>41</td>\n",
       "    </tr>\n",
       "    <tr>\n",
       "      <th>23</th>\n",
       "      <td>1</td>\n",
       "      <td>527</td>\n",
       "      <td>5</td>\n",
       "      <td>978824195</td>\n",
       "      <td>2001-01-06 11:36:35 PM</td>\n",
       "      <td>42</td>\n",
       "    </tr>\n",
       "    <tr>\n",
       "      <th>10</th>\n",
       "      <td>1</td>\n",
       "      <td>595</td>\n",
       "      <td>5</td>\n",
       "      <td>978824268</td>\n",
       "      <td>2001-01-06 11:37:48 PM</td>\n",
       "      <td>43</td>\n",
       "    </tr>\n",
       "    <tr>\n",
       "      <th>16</th>\n",
       "      <td>1</td>\n",
       "      <td>2687</td>\n",
       "      <td>3</td>\n",
       "      <td>978824268</td>\n",
       "      <td>2001-01-06 11:37:48 PM</td>\n",
       "      <td>44</td>\n",
       "    </tr>\n",
       "    <tr>\n",
       "      <th>29</th>\n",
       "      <td>1</td>\n",
       "      <td>745</td>\n",
       "      <td>3</td>\n",
       "      <td>978824268</td>\n",
       "      <td>2001-01-06 11:37:48 PM</td>\n",
       "      <td>45</td>\n",
       "    </tr>\n",
       "  </tbody>\n",
       "</table>\n",
       "</div>"
      ],
      "text/plain": [
       "    UserId  ItemId  Rating       Time                    time  id\n",
       "31       1    3186       4  978300019  2000-12-31 10:00:19 PM   1\n",
       "22       1    1270       5  978300055  2000-12-31 10:00:55 PM   2\n",
       "27       1    1721       4  978300055  2000-12-31 10:00:55 PM   3\n",
       "37       1    1022       5  978300055  2000-12-31 10:00:55 PM   4\n",
       "24       1    2340       3  978300103  2000-12-31 10:01:43 PM   5\n",
       "36       1    1836       5  978300172  2000-12-31 10:02:52 PM   6\n",
       "3        1    3408       4  978300275  2000-12-31 10:04:35 PM   7\n",
       "7        1    2804       5  978300719  2000-12-31 10:11:59 PM   8\n",
       "47       1    1207       4  978300719  2000-12-31 10:11:59 PM   9\n",
       "0        1    1193       5  978300760  2000-12-31 10:12:40 PM  10\n",
       "21       1     720       3  978300760  2000-12-31 10:12:40 PM  11\n",
       "44       1     260       4  978300760  2000-12-31 10:12:40 PM  12\n",
       "9        1     919       4  978301368  2000-12-31 10:22:48 PM  13\n",
       "51       1     608       4  978301398  2000-12-31 10:23:18 PM  14\n",
       "43       1    2692       4  978301570  2000-12-31 10:26:10 PM  15\n",
       "41       1    1961       5  978301590  2000-12-31 10:26:30 PM  16\n",
       "48       1    2028       5  978301619  2000-12-31 10:26:59 PM  17\n",
       "18       1    3105       5  978301713  2000-12-31 10:28:33 PM  18\n",
       "11       1     938       4  978301752  2000-12-31 10:29:12 PM  19\n",
       "14       1    1035       5  978301753  2000-12-31 10:29:13 PM  20\n",
       "42       1    1962       4  978301753  2000-12-31 10:29:13 PM  21\n",
       "17       1    2018       4  978301777  2000-12-31 10:29:37 PM  22\n",
       "39       1     150       5  978301777  2000-12-31 10:29:37 PM  23\n",
       "45       1    1028       5  978301777  2000-12-31 10:29:37 PM  24\n",
       "26       1    1097       4  978301953  2000-12-31 10:32:33 PM  25\n",
       "2        1     914       3  978301968  2000-12-31 10:32:48 PM  26\n",
       "6        1    1287       5  978302039  2000-12-31 10:33:59 PM  27\n",
       "19       1    2797       4  978302039  2000-12-31 10:33:59 PM  28\n",
       "38       1    2762       4  978302091  2000-12-31 10:34:51 PM  29\n",
       "52       1    1246       4  978302091  2000-12-31 10:34:51 PM  30\n",
       "1        1     661       3  978302109  2000-12-31 10:35:09 PM  31\n",
       "13       1    2918       4  978302124  2000-12-31 10:35:24 PM  32\n",
       "49       1     531       4  978302149  2000-12-31 10:35:49 PM  33\n",
       "50       1    3114       4  978302174  2000-12-31 10:36:14 PM  34\n",
       "15       1    2791       4  978302188  2000-12-31 10:36:28 PM  35\n",
       "20       1    2321       3  978302205  2000-12-31 10:36:45 PM  36\n",
       "46       1    1029       5  978302205  2000-12-31 10:36:45 PM  37\n",
       "5        1    1197       3  978302268  2000-12-31 10:37:48 PM  38\n",
       "8        1     594       4  978302268  2000-12-31 10:37:48 PM  39\n",
       "12       1    2398       4  978302281  2000-12-31 10:38:01 PM  40\n",
       "28       1    1545       4  978824139  2001-01-06 11:35:39 PM  41\n",
       "23       1     527       5  978824195  2001-01-06 11:36:35 PM  42\n",
       "10       1     595       5  978824268  2001-01-06 11:37:48 PM  43\n",
       "16       1    2687       3  978824268  2001-01-06 11:37:48 PM  44\n",
       "29       1     745       3  978824268  2001-01-06 11:37:48 PM  45"
      ]
     },
     "execution_count": 13,
     "metadata": {},
     "output_type": "execute_result"
    }
   ],
   "source": [
    "data.head(45)"
   ]
  },
  {
   "cell_type": "markdown",
   "id": "little-upgrade",
   "metadata": {},
   "source": [
    "* 아까 적용했던 타임스탬프 함수도 잘 나왔군요"
   ]
  },
  {
   "cell_type": "code",
   "execution_count": 14,
   "id": "turkish-warrant",
   "metadata": {},
   "outputs": [
    {
     "data": {
      "text/html": [
       "<div>\n",
       "<style scoped>\n",
       "    .dataframe tbody tr th:only-of-type {\n",
       "        vertical-align: middle;\n",
       "    }\n",
       "\n",
       "    .dataframe tbody tr th {\n",
       "        vertical-align: top;\n",
       "    }\n",
       "\n",
       "    .dataframe thead th {\n",
       "        text-align: right;\n",
       "    }\n",
       "</style>\n",
       "<table border=\"1\" class=\"dataframe\">\n",
       "  <thead>\n",
       "    <tr style=\"text-align: right;\">\n",
       "      <th></th>\n",
       "      <th>UserId</th>\n",
       "      <th>ItemId</th>\n",
       "      <th>Rating</th>\n",
       "      <th>Time</th>\n",
       "      <th>time</th>\n",
       "      <th>id</th>\n",
       "    </tr>\n",
       "  </thead>\n",
       "  <tbody>\n",
       "    <tr>\n",
       "      <th>1000019</th>\n",
       "      <td>6040</td>\n",
       "      <td>2917</td>\n",
       "      <td>4</td>\n",
       "      <td>997454429</td>\n",
       "      <td>2001-08-10 02:40:29 PM</td>\n",
       "      <td>1000205</td>\n",
       "    </tr>\n",
       "    <tr>\n",
       "      <th>999988</th>\n",
       "      <td>6040</td>\n",
       "      <td>1921</td>\n",
       "      <td>4</td>\n",
       "      <td>997454464</td>\n",
       "      <td>2001-08-10 02:41:04 PM</td>\n",
       "      <td>1000206</td>\n",
       "    </tr>\n",
       "    <tr>\n",
       "      <th>1000172</th>\n",
       "      <td>6040</td>\n",
       "      <td>1784</td>\n",
       "      <td>3</td>\n",
       "      <td>997454464</td>\n",
       "      <td>2001-08-10 02:41:04 PM</td>\n",
       "      <td>1000207</td>\n",
       "    </tr>\n",
       "    <tr>\n",
       "      <th>1000167</th>\n",
       "      <td>6040</td>\n",
       "      <td>161</td>\n",
       "      <td>3</td>\n",
       "      <td>997454486</td>\n",
       "      <td>2001-08-10 02:41:26 PM</td>\n",
       "      <td>1000208</td>\n",
       "    </tr>\n",
       "    <tr>\n",
       "      <th>1000042</th>\n",
       "      <td>6040</td>\n",
       "      <td>1221</td>\n",
       "      <td>4</td>\n",
       "      <td>998315055</td>\n",
       "      <td>2001-08-20 01:44:15 PM</td>\n",
       "      <td>1000209</td>\n",
       "    </tr>\n",
       "  </tbody>\n",
       "</table>\n",
       "</div>"
      ],
      "text/plain": [
       "         UserId  ItemId  Rating       Time                    time       id\n",
       "1000019    6040    2917       4  997454429  2001-08-10 02:40:29 PM  1000205\n",
       "999988     6040    1921       4  997454464  2001-08-10 02:41:04 PM  1000206\n",
       "1000172    6040    1784       3  997454464  2001-08-10 02:41:04 PM  1000207\n",
       "1000167    6040     161       3  997454486  2001-08-10 02:41:26 PM  1000208\n",
       "1000042    6040    1221       4  998315055  2001-08-20 01:44:15 PM  1000209"
      ]
     },
     "execution_count": 14,
     "metadata": {},
     "output_type": "execute_result"
    }
   ],
   "source": [
    "data.tail()"
   ]
  },
  {
   "cell_type": "markdown",
   "id": "earned-clerk",
   "metadata": {},
   "source": [
    "* b를 만들때 마지막을 고려하지 않아 마지막 인덱스만 추가로 넣기 위해 확인해보았습니다."
   ]
  },
  {
   "cell_type": "code",
   "execution_count": 15,
   "id": "balanced-pittsburgh",
   "metadata": {},
   "outputs": [],
   "source": [
    "c = [i for i in range(24309)]"
   ]
  },
  {
   "cell_type": "code",
   "execution_count": 16,
   "id": "facial-nevada",
   "metadata": {},
   "outputs": [],
   "source": [
    "data[\"SessionId_1\"] = pd.cut(data[\"id\"], b, right=True, labels=c)"
   ]
  },
  {
   "cell_type": "markdown",
   "id": "obvious-carter",
   "metadata": {},
   "source": [
    "* 이 부분에 시행착오가 많았는데 밑에 회고에 남기겠습니다. cut 함수를 이용해 세션아이디를 만들었습니다."
   ]
  },
  {
   "cell_type": "code",
   "execution_count": 17,
   "id": "ranking-assets",
   "metadata": {},
   "outputs": [
    {
     "data": {
      "text/html": [
       "<div>\n",
       "<style scoped>\n",
       "    .dataframe tbody tr th:only-of-type {\n",
       "        vertical-align: middle;\n",
       "    }\n",
       "\n",
       "    .dataframe tbody tr th {\n",
       "        vertical-align: top;\n",
       "    }\n",
       "\n",
       "    .dataframe thead th {\n",
       "        text-align: right;\n",
       "    }\n",
       "</style>\n",
       "<table border=\"1\" class=\"dataframe\">\n",
       "  <thead>\n",
       "    <tr style=\"text-align: right;\">\n",
       "      <th></th>\n",
       "      <th>UserId</th>\n",
       "      <th>ItemId</th>\n",
       "      <th>Rating</th>\n",
       "      <th>Time</th>\n",
       "      <th>time</th>\n",
       "      <th>id</th>\n",
       "      <th>SessionId_1</th>\n",
       "    </tr>\n",
       "  </thead>\n",
       "  <tbody>\n",
       "    <tr>\n",
       "      <th>31</th>\n",
       "      <td>1</td>\n",
       "      <td>3186</td>\n",
       "      <td>4</td>\n",
       "      <td>978300019</td>\n",
       "      <td>2000-12-31 10:00:19 PM</td>\n",
       "      <td>1</td>\n",
       "      <td>0</td>\n",
       "    </tr>\n",
       "    <tr>\n",
       "      <th>22</th>\n",
       "      <td>1</td>\n",
       "      <td>1270</td>\n",
       "      <td>5</td>\n",
       "      <td>978300055</td>\n",
       "      <td>2000-12-31 10:00:55 PM</td>\n",
       "      <td>2</td>\n",
       "      <td>0</td>\n",
       "    </tr>\n",
       "    <tr>\n",
       "      <th>27</th>\n",
       "      <td>1</td>\n",
       "      <td>1721</td>\n",
       "      <td>4</td>\n",
       "      <td>978300055</td>\n",
       "      <td>2000-12-31 10:00:55 PM</td>\n",
       "      <td>3</td>\n",
       "      <td>0</td>\n",
       "    </tr>\n",
       "    <tr>\n",
       "      <th>37</th>\n",
       "      <td>1</td>\n",
       "      <td>1022</td>\n",
       "      <td>5</td>\n",
       "      <td>978300055</td>\n",
       "      <td>2000-12-31 10:00:55 PM</td>\n",
       "      <td>4</td>\n",
       "      <td>0</td>\n",
       "    </tr>\n",
       "    <tr>\n",
       "      <th>24</th>\n",
       "      <td>1</td>\n",
       "      <td>2340</td>\n",
       "      <td>3</td>\n",
       "      <td>978300103</td>\n",
       "      <td>2000-12-31 10:01:43 PM</td>\n",
       "      <td>5</td>\n",
       "      <td>0</td>\n",
       "    </tr>\n",
       "    <tr>\n",
       "      <th>36</th>\n",
       "      <td>1</td>\n",
       "      <td>1836</td>\n",
       "      <td>5</td>\n",
       "      <td>978300172</td>\n",
       "      <td>2000-12-31 10:02:52 PM</td>\n",
       "      <td>6</td>\n",
       "      <td>0</td>\n",
       "    </tr>\n",
       "    <tr>\n",
       "      <th>3</th>\n",
       "      <td>1</td>\n",
       "      <td>3408</td>\n",
       "      <td>4</td>\n",
       "      <td>978300275</td>\n",
       "      <td>2000-12-31 10:04:35 PM</td>\n",
       "      <td>7</td>\n",
       "      <td>0</td>\n",
       "    </tr>\n",
       "    <tr>\n",
       "      <th>7</th>\n",
       "      <td>1</td>\n",
       "      <td>2804</td>\n",
       "      <td>5</td>\n",
       "      <td>978300719</td>\n",
       "      <td>2000-12-31 10:11:59 PM</td>\n",
       "      <td>8</td>\n",
       "      <td>0</td>\n",
       "    </tr>\n",
       "    <tr>\n",
       "      <th>47</th>\n",
       "      <td>1</td>\n",
       "      <td>1207</td>\n",
       "      <td>4</td>\n",
       "      <td>978300719</td>\n",
       "      <td>2000-12-31 10:11:59 PM</td>\n",
       "      <td>9</td>\n",
       "      <td>0</td>\n",
       "    </tr>\n",
       "    <tr>\n",
       "      <th>0</th>\n",
       "      <td>1</td>\n",
       "      <td>1193</td>\n",
       "      <td>5</td>\n",
       "      <td>978300760</td>\n",
       "      <td>2000-12-31 10:12:40 PM</td>\n",
       "      <td>10</td>\n",
       "      <td>0</td>\n",
       "    </tr>\n",
       "  </tbody>\n",
       "</table>\n",
       "</div>"
      ],
      "text/plain": [
       "    UserId  ItemId  Rating       Time                    time  id SessionId_1\n",
       "31       1    3186       4  978300019  2000-12-31 10:00:19 PM   1           0\n",
       "22       1    1270       5  978300055  2000-12-31 10:00:55 PM   2           0\n",
       "27       1    1721       4  978300055  2000-12-31 10:00:55 PM   3           0\n",
       "37       1    1022       5  978300055  2000-12-31 10:00:55 PM   4           0\n",
       "24       1    2340       3  978300103  2000-12-31 10:01:43 PM   5           0\n",
       "36       1    1836       5  978300172  2000-12-31 10:02:52 PM   6           0\n",
       "3        1    3408       4  978300275  2000-12-31 10:04:35 PM   7           0\n",
       "7        1    2804       5  978300719  2000-12-31 10:11:59 PM   8           0\n",
       "47       1    1207       4  978300719  2000-12-31 10:11:59 PM   9           0\n",
       "0        1    1193       5  978300760  2000-12-31 10:12:40 PM  10           0"
      ]
     },
     "execution_count": 17,
     "metadata": {},
     "output_type": "execute_result"
    }
   ],
   "source": [
    "data.head(10)"
   ]
  },
  {
   "cell_type": "markdown",
   "id": "agricultural-bradford",
   "metadata": {},
   "source": [
    "* 데이터의 타입들을 확인해 보겠습니다."
   ]
  },
  {
   "cell_type": "code",
   "execution_count": 18,
   "id": "willing-sunglasses",
   "metadata": {},
   "outputs": [
    {
     "data": {
      "text/plain": [
       "UserId            int32\n",
       "ItemId            int32\n",
       "Rating            int32\n",
       "Time              int64\n",
       "time             object\n",
       "id                int64\n",
       "SessionId_1    category\n",
       "dtype: object"
      ]
     },
     "execution_count": 18,
     "metadata": {},
     "output_type": "execute_result"
    }
   ],
   "source": [
    "data.dtypes"
   ]
  },
  {
   "cell_type": "markdown",
   "id": "final-happening",
   "metadata": {},
   "source": [
    "* 세션타입이 처음보는 카테고리 타입이네요. 이 부분때문에 고생을 많이 했습니다."
   ]
  },
  {
   "cell_type": "markdown",
   "id": "serial-assault",
   "metadata": {},
   "source": [
    "* 클리닝 함수를 사용하기 위해 정수로 바꿔줘보겠습니다."
   ]
  },
  {
   "cell_type": "code",
   "execution_count": 19,
   "id": "attempted-image",
   "metadata": {},
   "outputs": [],
   "source": [
    "SessionId_list = list(data[\"SessionId_1\"])"
   ]
  },
  {
   "cell_type": "code",
   "execution_count": 20,
   "id": "killing-sending",
   "metadata": {},
   "outputs": [],
   "source": [
    "data['SessionId'] = SessionId_list"
   ]
  },
  {
   "cell_type": "code",
   "execution_count": 21,
   "id": "micro-payroll",
   "metadata": {},
   "outputs": [
    {
     "data": {
      "text/plain": [
       "UserId            int32\n",
       "ItemId            int32\n",
       "Rating            int32\n",
       "Time              int64\n",
       "time             object\n",
       "id                int64\n",
       "SessionId_1    category\n",
       "SessionId         int64\n",
       "dtype: object"
      ]
     },
     "execution_count": 21,
     "metadata": {},
     "output_type": "execute_result"
    }
   ],
   "source": [
    "data.dtypes"
   ]
  },
  {
   "cell_type": "markdown",
   "id": "coral-council",
   "metadata": {},
   "source": [
    "* 정수로 잘 적용이 되었습니다."
   ]
  },
  {
   "cell_type": "code",
   "execution_count": 22,
   "id": "interior-evening",
   "metadata": {},
   "outputs": [],
   "source": [
    "del data['SessionId_1']"
   ]
  },
  {
   "cell_type": "markdown",
   "id": "cathedral-insured",
   "metadata": {},
   "source": [
    "* 카테고리타입의 세션아이디는 필요 없어 제거했습니다."
   ]
  },
  {
   "cell_type": "markdown",
   "id": "palestinian-helping",
   "metadata": {},
   "source": [
    "### 데이터 분석"
   ]
  },
  {
   "cell_type": "code",
   "execution_count": 23,
   "id": "imported-flower",
   "metadata": {},
   "outputs": [
    {
     "data": {
      "text/plain": [
       "(24309, 3706)"
      ]
     },
     "execution_count": 23,
     "metadata": {},
     "output_type": "execute_result"
    }
   ],
   "source": [
    "data['SessionId'].nunique(), data['ItemId'].nunique()"
   ]
  },
  {
   "cell_type": "markdown",
   "id": "celtic-setup",
   "metadata": {},
   "source": [
    "* 세션아이디와 아이템아이디의 유니크한 개수입니다."
   ]
  },
  {
   "cell_type": "code",
   "execution_count": 24,
   "id": "passive-gentleman",
   "metadata": {},
   "outputs": [
    {
     "data": {
      "text/plain": [
       "SessionId\n",
       "0         40\n",
       "1         13\n",
       "2        129\n",
       "3         51\n",
       "4         21\n",
       "        ... \n",
       "24304      7\n",
       "24305     14\n",
       "24306      1\n",
       "24307     21\n",
       "24308      1\n",
       "Length: 24309, dtype: int64"
      ]
     },
     "execution_count": 24,
     "metadata": {},
     "output_type": "execute_result"
    }
   ],
   "source": [
    "session_length = data.groupby('SessionId').size()\n",
    "session_length"
   ]
  },
  {
   "cell_type": "markdown",
   "id": "engaged-retreat",
   "metadata": {},
   "source": [
    "* 세션의 길이입니다."
   ]
  },
  {
   "cell_type": "code",
   "execution_count": 25,
   "id": "after-aside",
   "metadata": {},
   "outputs": [
    {
     "data": {
      "text/plain": [
       "(1, 1193)"
      ]
     },
     "execution_count": 25,
     "metadata": {},
     "output_type": "execute_result"
    }
   ],
   "source": [
    "session_length.min(), session_length.max()"
   ]
  },
  {
   "cell_type": "markdown",
   "id": "understanding-briefs",
   "metadata": {},
   "source": [
    "* 세션길이의 최솟값, 최댓값입니다. 1193이란 길이는 좀 특이하네요."
   ]
  },
  {
   "cell_type": "code",
   "execution_count": 26,
   "id": "written-right",
   "metadata": {},
   "outputs": [
    {
     "data": {
      "text/plain": [
       "124.0"
      ]
     },
     "execution_count": 26,
     "metadata": {},
     "output_type": "execute_result"
    }
   ],
   "source": [
    "session_length.quantile(0.9)"
   ]
  },
  {
   "cell_type": "markdown",
   "id": "silver-population",
   "metadata": {},
   "source": [
    "* 90%의 데이터는 124의 길이까지인데 1193이란 길이는 많이 특이해서 직접 확인해보겠습니다."
   ]
  },
  {
   "cell_type": "code",
   "execution_count": 27,
   "id": "controlled-spyware",
   "metadata": {},
   "outputs": [
    {
     "data": {
      "text/html": [
       "<div>\n",
       "<style scoped>\n",
       "    .dataframe tbody tr th:only-of-type {\n",
       "        vertical-align: middle;\n",
       "    }\n",
       "\n",
       "    .dataframe tbody tr th {\n",
       "        vertical-align: top;\n",
       "    }\n",
       "\n",
       "    .dataframe thead th {\n",
       "        text-align: right;\n",
       "    }\n",
       "</style>\n",
       "<table border=\"1\" class=\"dataframe\">\n",
       "  <thead>\n",
       "    <tr style=\"text-align: right;\">\n",
       "      <th></th>\n",
       "      <th>UserId</th>\n",
       "      <th>ItemId</th>\n",
       "      <th>Rating</th>\n",
       "      <th>Time</th>\n",
       "      <th>time</th>\n",
       "      <th>id</th>\n",
       "      <th>SessionId</th>\n",
       "    </tr>\n",
       "  </thead>\n",
       "  <tbody>\n",
       "    <tr>\n",
       "      <th>637775</th>\n",
       "      <td>3841</td>\n",
       "      <td>1480</td>\n",
       "      <td>3</td>\n",
       "      <td>965995059</td>\n",
       "      <td>2000-08-11 11:57:39 AM</td>\n",
       "      <td>637583</td>\n",
       "      <td>15852</td>\n",
       "    </tr>\n",
       "    <tr>\n",
       "      <th>637808</th>\n",
       "      <td>3841</td>\n",
       "      <td>969</td>\n",
       "      <td>5</td>\n",
       "      <td>965995059</td>\n",
       "      <td>2000-08-11 11:57:39 AM</td>\n",
       "      <td>637584</td>\n",
       "      <td>15852</td>\n",
       "    </tr>\n",
       "    <tr>\n",
       "      <th>638269</th>\n",
       "      <td>3841</td>\n",
       "      <td>858</td>\n",
       "      <td>5</td>\n",
       "      <td>965995059</td>\n",
       "      <td>2000-08-11 11:57:39 AM</td>\n",
       "      <td>637585</td>\n",
       "      <td>15852</td>\n",
       "    </tr>\n",
       "    <tr>\n",
       "      <th>638716</th>\n",
       "      <td>3841</td>\n",
       "      <td>2019</td>\n",
       "      <td>5</td>\n",
       "      <td>965995059</td>\n",
       "      <td>2000-08-11 11:57:39 AM</td>\n",
       "      <td>637586</td>\n",
       "      <td>15852</td>\n",
       "    </tr>\n",
       "    <tr>\n",
       "      <th>638733</th>\n",
       "      <td>3841</td>\n",
       "      <td>1221</td>\n",
       "      <td>5</td>\n",
       "      <td>965995059</td>\n",
       "      <td>2000-08-11 11:57:39 AM</td>\n",
       "      <td>637587</td>\n",
       "      <td>15852</td>\n",
       "    </tr>\n",
       "    <tr>\n",
       "      <th>637782</th>\n",
       "      <td>3841</td>\n",
       "      <td>2288</td>\n",
       "      <td>2</td>\n",
       "      <td>965995116</td>\n",
       "      <td>2000-08-11 11:58:36 AM</td>\n",
       "      <td>637588</td>\n",
       "      <td>15852</td>\n",
       "    </tr>\n",
       "    <tr>\n",
       "      <th>638122</th>\n",
       "      <td>3841</td>\n",
       "      <td>1304</td>\n",
       "      <td>5</td>\n",
       "      <td>965995116</td>\n",
       "      <td>2000-08-11 11:58:36 AM</td>\n",
       "      <td>637589</td>\n",
       "      <td>15852</td>\n",
       "    </tr>\n",
       "    <tr>\n",
       "      <th>638172</th>\n",
       "      <td>3841</td>\n",
       "      <td>1196</td>\n",
       "      <td>3</td>\n",
       "      <td>965995116</td>\n",
       "      <td>2000-08-11 11:58:36 AM</td>\n",
       "      <td>637590</td>\n",
       "      <td>15852</td>\n",
       "    </tr>\n",
       "    <tr>\n",
       "      <th>638266</th>\n",
       "      <td>3841</td>\n",
       "      <td>1387</td>\n",
       "      <td>5</td>\n",
       "      <td>965995116</td>\n",
       "      <td>2000-08-11 11:58:36 AM</td>\n",
       "      <td>637591</td>\n",
       "      <td>15852</td>\n",
       "    </tr>\n",
       "    <tr>\n",
       "      <th>638310</th>\n",
       "      <td>3841</td>\n",
       "      <td>2366</td>\n",
       "      <td>5</td>\n",
       "      <td>965995116</td>\n",
       "      <td>2000-08-11 11:58:36 AM</td>\n",
       "      <td>637592</td>\n",
       "      <td>15852</td>\n",
       "    </tr>\n",
       "    <tr>\n",
       "      <th>638520</th>\n",
       "      <td>3841</td>\n",
       "      <td>1953</td>\n",
       "      <td>5</td>\n",
       "      <td>965995116</td>\n",
       "      <td>2000-08-11 11:58:36 AM</td>\n",
       "      <td>637593</td>\n",
       "      <td>15852</td>\n",
       "    </tr>\n",
       "    <tr>\n",
       "      <th>638741</th>\n",
       "      <td>3841</td>\n",
       "      <td>2028</td>\n",
       "      <td>4</td>\n",
       "      <td>965995116</td>\n",
       "      <td>2000-08-11 11:58:36 AM</td>\n",
       "      <td>637594</td>\n",
       "      <td>15852</td>\n",
       "    </tr>\n",
       "    <tr>\n",
       "      <th>638090</th>\n",
       "      <td>3841</td>\n",
       "      <td>474</td>\n",
       "      <td>4</td>\n",
       "      <td>965995153</td>\n",
       "      <td>2000-08-11 11:59:13 AM</td>\n",
       "      <td>637595</td>\n",
       "      <td>15852</td>\n",
       "    </tr>\n",
       "    <tr>\n",
       "      <th>638535</th>\n",
       "      <td>3841</td>\n",
       "      <td>3702</td>\n",
       "      <td>4</td>\n",
       "      <td>965995153</td>\n",
       "      <td>2000-08-11 11:59:13 AM</td>\n",
       "      <td>637596</td>\n",
       "      <td>15852</td>\n",
       "    </tr>\n",
       "    <tr>\n",
       "      <th>638673</th>\n",
       "      <td>3841</td>\n",
       "      <td>1201</td>\n",
       "      <td>5</td>\n",
       "      <td>965995153</td>\n",
       "      <td>2000-08-11 11:59:13 AM</td>\n",
       "      <td>637597</td>\n",
       "      <td>15852</td>\n",
       "    </tr>\n",
       "    <tr>\n",
       "      <th>638711</th>\n",
       "      <td>3841</td>\n",
       "      <td>1214</td>\n",
       "      <td>5</td>\n",
       "      <td>965995153</td>\n",
       "      <td>2000-08-11 11:59:13 AM</td>\n",
       "      <td>637598</td>\n",
       "      <td>15852</td>\n",
       "    </tr>\n",
       "    <tr>\n",
       "      <th>638765</th>\n",
       "      <td>3841</td>\n",
       "      <td>1233</td>\n",
       "      <td>4</td>\n",
       "      <td>965995153</td>\n",
       "      <td>2000-08-11 11:59:13 AM</td>\n",
       "      <td>637599</td>\n",
       "      <td>15852</td>\n",
       "    </tr>\n",
       "    <tr>\n",
       "      <th>637666</th>\n",
       "      <td>3841</td>\n",
       "      <td>1287</td>\n",
       "      <td>5</td>\n",
       "      <td>965995193</td>\n",
       "      <td>2000-08-11 11:59:53 AM</td>\n",
       "      <td>637600</td>\n",
       "      <td>15852</td>\n",
       "    </tr>\n",
       "    <tr>\n",
       "      <th>637726</th>\n",
       "      <td>3841</td>\n",
       "      <td>3062</td>\n",
       "      <td>4</td>\n",
       "      <td>965995193</td>\n",
       "      <td>2000-08-11 11:59:53 AM</td>\n",
       "      <td>637601</td>\n",
       "      <td>15852</td>\n",
       "    </tr>\n",
       "    <tr>\n",
       "      <th>638521</th>\n",
       "      <td>3841</td>\n",
       "      <td>1954</td>\n",
       "      <td>4</td>\n",
       "      <td>965995193</td>\n",
       "      <td>2000-08-11 11:59:53 AM</td>\n",
       "      <td>637602</td>\n",
       "      <td>15852</td>\n",
       "    </tr>\n",
       "    <tr>\n",
       "      <th>638731</th>\n",
       "      <td>3841</td>\n",
       "      <td>1220</td>\n",
       "      <td>3</td>\n",
       "      <td>965995193</td>\n",
       "      <td>2000-08-11 11:59:53 AM</td>\n",
       "      <td>637603</td>\n",
       "      <td>15852</td>\n",
       "    </tr>\n",
       "    <tr>\n",
       "      <th>638030</th>\n",
       "      <td>3841</td>\n",
       "      <td>3654</td>\n",
       "      <td>5</td>\n",
       "      <td>965995194</td>\n",
       "      <td>2000-08-11 11:59:54 AM</td>\n",
       "      <td>637604</td>\n",
       "      <td>15852</td>\n",
       "    </tr>\n",
       "    <tr>\n",
       "      <th>638094</th>\n",
       "      <td>3841</td>\n",
       "      <td>3836</td>\n",
       "      <td>4</td>\n",
       "      <td>965995194</td>\n",
       "      <td>2000-08-11 11:59:54 AM</td>\n",
       "      <td>637605</td>\n",
       "      <td>15852</td>\n",
       "    </tr>\n",
       "    <tr>\n",
       "      <th>637597</th>\n",
       "      <td>3841</td>\n",
       "      <td>589</td>\n",
       "      <td>4</td>\n",
       "      <td>965995227</td>\n",
       "      <td>2000-08-11 12:00:27 PM</td>\n",
       "      <td>637606</td>\n",
       "      <td>15852</td>\n",
       "    </tr>\n",
       "    <tr>\n",
       "      <th>637747</th>\n",
       "      <td>3841</td>\n",
       "      <td>1610</td>\n",
       "      <td>4</td>\n",
       "      <td>965995227</td>\n",
       "      <td>2000-08-11 12:00:27 PM</td>\n",
       "      <td>637607</td>\n",
       "      <td>15852</td>\n",
       "    </tr>\n",
       "    <tr>\n",
       "      <th>638536</th>\n",
       "      <td>3841</td>\n",
       "      <td>3703</td>\n",
       "      <td>4</td>\n",
       "      <td>965995227</td>\n",
       "      <td>2000-08-11 12:00:27 PM</td>\n",
       "      <td>637608</td>\n",
       "      <td>15852</td>\n",
       "    </tr>\n",
       "    <tr>\n",
       "      <th>638687</th>\n",
       "      <td>3841</td>\n",
       "      <td>2947</td>\n",
       "      <td>4</td>\n",
       "      <td>965995227</td>\n",
       "      <td>2000-08-11 12:00:27 PM</td>\n",
       "      <td>637609</td>\n",
       "      <td>15852</td>\n",
       "    </tr>\n",
       "    <tr>\n",
       "      <th>638779</th>\n",
       "      <td>3841</td>\n",
       "      <td>1240</td>\n",
       "      <td>4</td>\n",
       "      <td>965995227</td>\n",
       "      <td>2000-08-11 12:00:27 PM</td>\n",
       "      <td>637610</td>\n",
       "      <td>15852</td>\n",
       "    </tr>\n",
       "    <tr>\n",
       "      <th>637772</th>\n",
       "      <td>3841</td>\n",
       "      <td>2427</td>\n",
       "      <td>4</td>\n",
       "      <td>965995254</td>\n",
       "      <td>2000-08-11 12:00:54 PM</td>\n",
       "      <td>637611</td>\n",
       "      <td>15852</td>\n",
       "    </tr>\n",
       "    <tr>\n",
       "      <th>638061</th>\n",
       "      <td>3841</td>\n",
       "      <td>457</td>\n",
       "      <td>4</td>\n",
       "      <td>965995254</td>\n",
       "      <td>2000-08-11 12:00:54 PM</td>\n",
       "      <td>637612</td>\n",
       "      <td>15852</td>\n",
       "    </tr>\n",
       "  </tbody>\n",
       "</table>\n",
       "</div>"
      ],
      "text/plain": [
       "        UserId  ItemId  Rating       Time                    time      id  \\\n",
       "637775    3841    1480       3  965995059  2000-08-11 11:57:39 AM  637583   \n",
       "637808    3841     969       5  965995059  2000-08-11 11:57:39 AM  637584   \n",
       "638269    3841     858       5  965995059  2000-08-11 11:57:39 AM  637585   \n",
       "638716    3841    2019       5  965995059  2000-08-11 11:57:39 AM  637586   \n",
       "638733    3841    1221       5  965995059  2000-08-11 11:57:39 AM  637587   \n",
       "637782    3841    2288       2  965995116  2000-08-11 11:58:36 AM  637588   \n",
       "638122    3841    1304       5  965995116  2000-08-11 11:58:36 AM  637589   \n",
       "638172    3841    1196       3  965995116  2000-08-11 11:58:36 AM  637590   \n",
       "638266    3841    1387       5  965995116  2000-08-11 11:58:36 AM  637591   \n",
       "638310    3841    2366       5  965995116  2000-08-11 11:58:36 AM  637592   \n",
       "638520    3841    1953       5  965995116  2000-08-11 11:58:36 AM  637593   \n",
       "638741    3841    2028       4  965995116  2000-08-11 11:58:36 AM  637594   \n",
       "638090    3841     474       4  965995153  2000-08-11 11:59:13 AM  637595   \n",
       "638535    3841    3702       4  965995153  2000-08-11 11:59:13 AM  637596   \n",
       "638673    3841    1201       5  965995153  2000-08-11 11:59:13 AM  637597   \n",
       "638711    3841    1214       5  965995153  2000-08-11 11:59:13 AM  637598   \n",
       "638765    3841    1233       4  965995153  2000-08-11 11:59:13 AM  637599   \n",
       "637666    3841    1287       5  965995193  2000-08-11 11:59:53 AM  637600   \n",
       "637726    3841    3062       4  965995193  2000-08-11 11:59:53 AM  637601   \n",
       "638521    3841    1954       4  965995193  2000-08-11 11:59:53 AM  637602   \n",
       "638731    3841    1220       3  965995193  2000-08-11 11:59:53 AM  637603   \n",
       "638030    3841    3654       5  965995194  2000-08-11 11:59:54 AM  637604   \n",
       "638094    3841    3836       4  965995194  2000-08-11 11:59:54 AM  637605   \n",
       "637597    3841     589       4  965995227  2000-08-11 12:00:27 PM  637606   \n",
       "637747    3841    1610       4  965995227  2000-08-11 12:00:27 PM  637607   \n",
       "638536    3841    3703       4  965995227  2000-08-11 12:00:27 PM  637608   \n",
       "638687    3841    2947       4  965995227  2000-08-11 12:00:27 PM  637609   \n",
       "638779    3841    1240       4  965995227  2000-08-11 12:00:27 PM  637610   \n",
       "637772    3841    2427       4  965995254  2000-08-11 12:00:54 PM  637611   \n",
       "638061    3841     457       4  965995254  2000-08-11 12:00:54 PM  637612   \n",
       "\n",
       "        SessionId  \n",
       "637775      15852  \n",
       "637808      15852  \n",
       "638269      15852  \n",
       "638716      15852  \n",
       "638733      15852  \n",
       "637782      15852  \n",
       "638122      15852  \n",
       "638172      15852  \n",
       "638266      15852  \n",
       "638310      15852  \n",
       "638520      15852  \n",
       "638741      15852  \n",
       "638090      15852  \n",
       "638535      15852  \n",
       "638673      15852  \n",
       "638711      15852  \n",
       "638765      15852  \n",
       "637666      15852  \n",
       "637726      15852  \n",
       "638521      15852  \n",
       "638731      15852  \n",
       "638030      15852  \n",
       "638094      15852  \n",
       "637597      15852  \n",
       "637747      15852  \n",
       "638536      15852  \n",
       "638687      15852  \n",
       "638779      15852  \n",
       "637772      15852  \n",
       "638061      15852  "
      ]
     },
     "execution_count": 27,
     "metadata": {},
     "output_type": "execute_result"
    }
   ],
   "source": [
    "long_session = session_length[session_length==1193].index[0]\n",
    "data[data['SessionId']==long_session].head(30)"
   ]
  },
  {
   "cell_type": "markdown",
   "id": "previous-strike",
   "metadata": {},
   "source": [
    "* 짧은 시간에 사람이 한것이라 믿을수 없는 속도입니다."
   ]
  },
  {
   "cell_type": "code",
   "execution_count": 28,
   "id": "earned-canberra",
   "metadata": {},
   "outputs": [
    {
     "data": {
      "text/plain": [
       "1      0.282982\n",
       "2      0.386935\n",
       "3      0.438850\n",
       "4      0.472294\n",
       "5      0.499733\n",
       "         ...   \n",
       "119    0.895059\n",
       "120    0.896211\n",
       "121    0.897281\n",
       "122    0.898433\n",
       "123    0.899790\n",
       "Length: 123, dtype: float64"
      ]
     },
     "execution_count": 28,
     "metadata": {},
     "output_type": "execute_result"
    }
   ],
   "source": [
    "length_count = session_length.groupby(session_length).size()\n",
    "length_percent_cumsum = length_count.cumsum() / length_count.sum()\n",
    "length_percent_cumsum_9 = length_percent_cumsum[length_percent_cumsum < 0.9]\n",
    "\n",
    "length_percent_cumsum_9"
   ]
  },
  {
   "cell_type": "markdown",
   "id": "starting-elephant",
   "metadata": {},
   "source": [
    "* 90%의 자료만 뽑아 보았고, 이를 시각화해보겠습니다."
   ]
  },
  {
   "cell_type": "code",
   "execution_count": 66,
   "id": "quick-savings",
   "metadata": {},
   "outputs": [
    {
     "data": {
      "image/png": "[encoded data removed]",
      "text/plain": [
       "<Figure size 1440x720 with 1 Axes>"
      ]
     },
     "metadata": {
      "needs_background": "light"
     },
     "output_type": "display_data"
    }
   ],
   "source": [
    "plt.figure(figsize=(20, 10))\n",
    "plt.bar(x=length_percent_cumsum_9.index,\n",
    "        height=length_percent_cumsum_9, color='red')\n",
    "plt.xticks(length_percent_cumsum_9.index)\n",
    "plt.yticks(np.arange(0, 1.01, 0.05))\n",
    "plt.title('Cumsum Percentage Until 0.9', size=20)\n",
    "plt.show()"
   ]
  },
  {
   "cell_type": "code",
   "execution_count": 30,
   "id": "instrumental-organic",
   "metadata": {},
   "outputs": [
    {
     "name": "stdout",
     "output_type": "stream",
     "text": [
      "2000-04-25 11:05:32 PM\n",
      "2003-02-28 12:51:39 AM\n"
     ]
    }
   ],
   "source": [
    "oldest, latest = data['time'].min(), data['time'].max()\n",
    "print(oldest) \n",
    "print(latest)"
   ]
  },
  {
   "cell_type": "markdown",
   "id": "subject-savage",
   "metadata": {},
   "source": [
    "* 가장 오래된 시간과 가장 최근 시간입니다. 3년안에 모두 이루어졌네요. 그대로 사용하겠습니다."
   ]
  },
  {
   "cell_type": "code",
   "execution_count": 31,
   "id": "varied-recipient",
   "metadata": {},
   "outputs": [
    {
     "data": {
      "text/plain": [
       "str"
      ]
     },
     "execution_count": 31,
     "metadata": {},
     "output_type": "execute_result"
    }
   ],
   "source": [
    "type(latest)"
   ]
  },
  {
   "cell_type": "markdown",
   "id": "polar-crest",
   "metadata": {},
   "source": [
    "* 타입이 str이라 연산시 귀찮을것 같아 Time(초)으로 계산하겠습니다."
   ]
  },
  {
   "cell_type": "markdown",
   "id": "written-diagnosis",
   "metadata": {},
   "source": [
    "### 데이터 크리닝"
   ]
  },
  {
   "cell_type": "code",
   "execution_count": 32,
   "id": "relevant-bankruptcy",
   "metadata": {},
   "outputs": [],
   "source": [
    "# short_session을 제거한 다음 unpopular item을 제거하면 다시 길이가 1인 session이 생길 수 있습니다.\n",
    "# 이를 위해 반복문을 통해 지속적으로 제거 합니다.\n",
    "def cleanse_recursive(data: pd.DataFrame, shortest, least_click) -> pd.DataFrame:\n",
    "    while True:\n",
    "        before_len = len(data)\n",
    "        data = cleanse_short_session(data, shortest)\n",
    "        data = cleanse_unpopular_item(data, least_click)\n",
    "        after_len = len(data)\n",
    "        if before_len == after_len:\n",
    "            break\n",
    "    return data\n",
    "\n",
    "\n",
    "def cleanse_short_session(data: pd.DataFrame, shortest):\n",
    "    session_len = data.groupby('SessionId').size()\n",
    "    session_use = session_len[session_len >= shortest].index\n",
    "    data = data[data['SessionId'].isin(session_use)]\n",
    "    return data\n",
    "\n",
    "\n",
    "def cleanse_unpopular_item(data: pd.DataFrame, least_click):\n",
    "    item_popular = data.groupby('ItemId').size()\n",
    "    item_use = item_popular[item_popular >= least_click].index\n",
    "    data = data[data['ItemId'].isin(item_use)]\n",
    "    return data"
   ]
  },
  {
   "cell_type": "markdown",
   "id": "russian-interest",
   "metadata": {},
   "source": [
    "* 너무 짧아도 안좋고 길어도 안좋아서 데이터 줄여보겠습니다."
   ]
  },
  {
   "cell_type": "code",
   "execution_count": 33,
   "id": "pointed-color",
   "metadata": {},
   "outputs": [
    {
     "data": {
      "text/html": [
       "<div>\n",
       "<style scoped>\n",
       "    .dataframe tbody tr th:only-of-type {\n",
       "        vertical-align: middle;\n",
       "    }\n",
       "\n",
       "    .dataframe tbody tr th {\n",
       "        vertical-align: top;\n",
       "    }\n",
       "\n",
       "    .dataframe thead th {\n",
       "        text-align: right;\n",
       "    }\n",
       "</style>\n",
       "<table border=\"1\" class=\"dataframe\">\n",
       "  <thead>\n",
       "    <tr style=\"text-align: right;\">\n",
       "      <th></th>\n",
       "      <th>UserId</th>\n",
       "      <th>ItemId</th>\n",
       "      <th>Rating</th>\n",
       "      <th>Time</th>\n",
       "      <th>time</th>\n",
       "      <th>id</th>\n",
       "      <th>SessionId</th>\n",
       "    </tr>\n",
       "  </thead>\n",
       "  <tbody>\n",
       "    <tr>\n",
       "      <th>31</th>\n",
       "      <td>1</td>\n",
       "      <td>3186</td>\n",
       "      <td>4</td>\n",
       "      <td>978300019</td>\n",
       "      <td>2000-12-31 10:00:19 PM</td>\n",
       "      <td>1</td>\n",
       "      <td>0</td>\n",
       "    </tr>\n",
       "    <tr>\n",
       "      <th>22</th>\n",
       "      <td>1</td>\n",
       "      <td>1270</td>\n",
       "      <td>5</td>\n",
       "      <td>978300055</td>\n",
       "      <td>2000-12-31 10:00:55 PM</td>\n",
       "      <td>2</td>\n",
       "      <td>0</td>\n",
       "    </tr>\n",
       "    <tr>\n",
       "      <th>27</th>\n",
       "      <td>1</td>\n",
       "      <td>1721</td>\n",
       "      <td>4</td>\n",
       "      <td>978300055</td>\n",
       "      <td>2000-12-31 10:00:55 PM</td>\n",
       "      <td>3</td>\n",
       "      <td>0</td>\n",
       "    </tr>\n",
       "    <tr>\n",
       "      <th>37</th>\n",
       "      <td>1</td>\n",
       "      <td>1022</td>\n",
       "      <td>5</td>\n",
       "      <td>978300055</td>\n",
       "      <td>2000-12-31 10:00:55 PM</td>\n",
       "      <td>4</td>\n",
       "      <td>0</td>\n",
       "    </tr>\n",
       "    <tr>\n",
       "      <th>24</th>\n",
       "      <td>1</td>\n",
       "      <td>2340</td>\n",
       "      <td>3</td>\n",
       "      <td>978300103</td>\n",
       "      <td>2000-12-31 10:01:43 PM</td>\n",
       "      <td>5</td>\n",
       "      <td>0</td>\n",
       "    </tr>\n",
       "    <tr>\n",
       "      <th>...</th>\n",
       "      <td>...</td>\n",
       "      <td>...</td>\n",
       "      <td>...</td>\n",
       "      <td>...</td>\n",
       "      <td>...</td>\n",
       "      <td>...</td>\n",
       "      <td>...</td>\n",
       "    </tr>\n",
       "    <tr>\n",
       "      <th>999923</th>\n",
       "      <td>6040</td>\n",
       "      <td>232</td>\n",
       "      <td>5</td>\n",
       "      <td>997454398</td>\n",
       "      <td>2001-08-10 02:39:58 PM</td>\n",
       "      <td>1000204</td>\n",
       "      <td>24307</td>\n",
       "    </tr>\n",
       "    <tr>\n",
       "      <th>1000019</th>\n",
       "      <td>6040</td>\n",
       "      <td>2917</td>\n",
       "      <td>4</td>\n",
       "      <td>997454429</td>\n",
       "      <td>2001-08-10 02:40:29 PM</td>\n",
       "      <td>1000205</td>\n",
       "      <td>24307</td>\n",
       "    </tr>\n",
       "    <tr>\n",
       "      <th>999988</th>\n",
       "      <td>6040</td>\n",
       "      <td>1921</td>\n",
       "      <td>4</td>\n",
       "      <td>997454464</td>\n",
       "      <td>2001-08-10 02:41:04 PM</td>\n",
       "      <td>1000206</td>\n",
       "      <td>24307</td>\n",
       "    </tr>\n",
       "    <tr>\n",
       "      <th>1000172</th>\n",
       "      <td>6040</td>\n",
       "      <td>1784</td>\n",
       "      <td>3</td>\n",
       "      <td>997454464</td>\n",
       "      <td>2001-08-10 02:41:04 PM</td>\n",
       "      <td>1000207</td>\n",
       "      <td>24307</td>\n",
       "    </tr>\n",
       "    <tr>\n",
       "      <th>1000167</th>\n",
       "      <td>6040</td>\n",
       "      <td>161</td>\n",
       "      <td>3</td>\n",
       "      <td>997454486</td>\n",
       "      <td>2001-08-10 02:41:26 PM</td>\n",
       "      <td>1000208</td>\n",
       "      <td>24307</td>\n",
       "    </tr>\n",
       "  </tbody>\n",
       "</table>\n",
       "<p>992698 rows × 7 columns</p>\n",
       "</div>"
      ],
      "text/plain": [
       "         UserId  ItemId  Rating       Time                    time       id  \\\n",
       "31            1    3186       4  978300019  2000-12-31 10:00:19 PM        1   \n",
       "22            1    1270       5  978300055  2000-12-31 10:00:55 PM        2   \n",
       "27            1    1721       4  978300055  2000-12-31 10:00:55 PM        3   \n",
       "37            1    1022       5  978300055  2000-12-31 10:00:55 PM        4   \n",
       "24            1    2340       3  978300103  2000-12-31 10:01:43 PM        5   \n",
       "...         ...     ...     ...        ...                     ...      ...   \n",
       "999923     6040     232       5  997454398  2001-08-10 02:39:58 PM  1000204   \n",
       "1000019    6040    2917       4  997454429  2001-08-10 02:40:29 PM  1000205   \n",
       "999988     6040    1921       4  997454464  2001-08-10 02:41:04 PM  1000206   \n",
       "1000172    6040    1784       3  997454464  2001-08-10 02:41:04 PM  1000207   \n",
       "1000167    6040     161       3  997454486  2001-08-10 02:41:26 PM  1000208   \n",
       "\n",
       "         SessionId  \n",
       "31               0  \n",
       "22               0  \n",
       "27               0  \n",
       "37               0  \n",
       "24               0  \n",
       "...            ...  \n",
       "999923       24307  \n",
       "1000019      24307  \n",
       "999988       24307  \n",
       "1000172      24307  \n",
       "1000167      24307  \n",
       "\n",
       "[992698 rows x 7 columns]"
      ]
     },
     "execution_count": 33,
     "metadata": {},
     "output_type": "execute_result"
    }
   ],
   "source": [
    "data = cleanse_recursive(data, shortest=2, least_click=5)\n",
    "data"
   ]
  },
  {
   "cell_type": "markdown",
   "id": "occupied-underground",
   "metadata": {},
   "source": [
    "* 만개정도 줄었네요."
   ]
  },
  {
   "cell_type": "markdown",
   "id": "distinct-substitute",
   "metadata": {},
   "source": [
    "### 데이터 스플릿"
   ]
  },
  {
   "cell_type": "code",
   "execution_count": 34,
   "id": "behind-template",
   "metadata": {},
   "outputs": [],
   "source": [
    "def split_by_date(data: pd.DataFrame, n_days: int):\n",
    "    final_time = data['Time'].max()\n",
    "    session_last_time = data.groupby('SessionId')['Time'].max()\n",
    "    session_in_train = session_last_time[session_last_time < final_time - (86400*n_days)].index\n",
    "    session_in_test = session_last_time[session_last_time >= final_time - (86400*n_days)].index\n",
    "\n",
    "    before_date = data[data['SessionId'].isin(session_in_train)]\n",
    "    after_date = data[data['SessionId'].isin(session_in_test)]\n",
    "    after_date = after_date[after_date['ItemId'].isin(before_date['ItemId'])]\n",
    "    return before_date, after_date"
   ]
  },
  {
   "cell_type": "code",
   "execution_count": 35,
   "id": "endless-assets",
   "metadata": {},
   "outputs": [],
   "source": [
    "tr, test = split_by_date(data, n_days=100)\n",
    "tr, val = split_by_date(tr, n_days=100)"
   ]
  },
  {
   "cell_type": "code",
   "execution_count": 36,
   "id": "stock-wellington",
   "metadata": {},
   "outputs": [],
   "source": [
    "# data에 대한 정보를 살펴봅니다.\n",
    "def stats_info(data: pd.DataFrame, status: str):\n",
    "    print(f'* {status} Set Stats Info\\n'\n",
    "          f'\\t Events: {len(data)}\\n'\n",
    "          f'\\t Sessions: {data[\"SessionId\"].nunique()}\\n'\n",
    "          f'\\t Items: {data[\"ItemId\"].nunique()}\\n'\n",
    "          f'\\t First Time : {data[\"time\"].min()}\\n'\n",
    "          f'\\t Last Time : {data[\"time\"].max()}\\n')"
   ]
  },
  {
   "cell_type": "code",
   "execution_count": 37,
   "id": "derived-heading",
   "metadata": {},
   "outputs": [
    {
     "name": "stdout",
     "output_type": "stream",
     "text": [
      "* train Set Stats Info\n",
      "\t Events: 983248\n",
      "\t Sessions: 16696\n",
      "\t Items: 3405\n",
      "\t First Time : 2000-04-25 11:05:32 PM\n",
      "\t Last Time : 2002-08-12 12:51:02 AM\n",
      "\n",
      "* valid Set Stats Info\n",
      "\t Events: 4766\n",
      "\t Sessions: 333\n",
      "\t Items: 1851\n",
      "\t First Time : 2002-08-13 04:27:51 PM\n",
      "\t Last Time : 2002-11-20 12:53:08 AM\n",
      "\n",
      "* test Set Stats Info\n",
      "\t Events: 4684\n",
      "\t Sessions: 383\n",
      "\t Items: 1803\n",
      "\t First Time : 2002-11-21 01:02:06 AM\n",
      "\t Last Time : 2003-02-28 05:49:50 PM\n",
      "\n"
     ]
    }
   ],
   "source": [
    "stats_info(tr, 'train')\n",
    "stats_info(val, 'valid')\n",
    "stats_info(test, 'test')"
   ]
  },
  {
   "cell_type": "markdown",
   "id": "respective-tribute",
   "metadata": {},
   "source": [
    "* 3가지 데이터셋으로 잘 나누어졌습니다."
   ]
  },
  {
   "cell_type": "code",
   "execution_count": 38,
   "id": "worse-injury",
   "metadata": {},
   "outputs": [],
   "source": [
    "# train set에 없는 아이템이 val, test기간에 생길 수 있으므로 train data를 기준으로 인덱싱합니다.\n",
    "id2idx = {item_id : index for index, item_id in enumerate(tr['ItemId'].unique())}\n",
    "\n",
    "def indexing(df, id2idx):\n",
    "    df['item_idx'] = df['ItemId'].map(lambda x: id2idx.get(x, -1))  # id2idx에 없는 아이템은 모르는 값(-1) 처리 해줍니다.\n",
    "    return df\n",
    "\n",
    "tr = indexing(tr, id2idx)\n",
    "val = indexing(val, id2idx)\n",
    "test = indexing(test, id2idx)"
   ]
  },
  {
   "cell_type": "code",
   "execution_count": 39,
   "id": "declared-consequence",
   "metadata": {},
   "outputs": [],
   "source": [
    "save_path = data_path / 'processed'\n",
    "save_path.mkdir(parents=True, exist_ok=True)\n",
    "\n",
    "tr.to_pickle(save_path / 'train.pkl')\n",
    "val.to_pickle(save_path / 'valid.pkl')\n",
    "test.to_pickle(save_path / 'test.pkl')"
   ]
  },
  {
   "cell_type": "markdown",
   "id": "listed-marketplace",
   "metadata": {},
   "source": [
    "* 나눈 데이터를 다시 인덱싱하고, 저장했습니다."
   ]
  },
  {
   "cell_type": "code",
   "execution_count": 40,
   "id": "material-innocent",
   "metadata": {},
   "outputs": [],
   "source": [
    "class SessionDataset:\n",
    "    \"\"\"Credit to yhs-968/pyGRU4REC.\"\"\"\n",
    "\n",
    "    def __init__(self, data):\n",
    "        self.df = data\n",
    "        self.click_offsets = self.get_click_offsets()\n",
    "        self.session_idx = np.arange(self.df['SessionId'].nunique())  # indexing to SessionId\n",
    "\n",
    "    def get_click_offsets(self):\n",
    "        \"\"\"\n",
    "        Return the indexes of the first click of each session IDs,\n",
    "        \"\"\"\n",
    "        offsets = np.zeros(self.df['SessionId'].nunique() + 1, dtype=np.int32)\n",
    "        offsets[1:] = self.df.groupby('SessionId').size().cumsum()\n",
    "        return offsets"
   ]
  },
  {
   "cell_type": "markdown",
   "id": "aggressive-introduction",
   "metadata": {},
   "source": [
    "* 데이터셋을 만들 함수입니다."
   ]
  },
  {
   "cell_type": "code",
   "execution_count": 41,
   "id": "concerned-shanghai",
   "metadata": {},
   "outputs": [
    {
     "data": {
      "text/html": [
       "<div>\n",
       "<style scoped>\n",
       "    .dataframe tbody tr th:only-of-type {\n",
       "        vertical-align: middle;\n",
       "    }\n",
       "\n",
       "    .dataframe tbody tr th {\n",
       "        vertical-align: top;\n",
       "    }\n",
       "\n",
       "    .dataframe thead th {\n",
       "        text-align: right;\n",
       "    }\n",
       "</style>\n",
       "<table border=\"1\" class=\"dataframe\">\n",
       "  <thead>\n",
       "    <tr style=\"text-align: right;\">\n",
       "      <th></th>\n",
       "      <th>UserId</th>\n",
       "      <th>ItemId</th>\n",
       "      <th>Rating</th>\n",
       "      <th>Time</th>\n",
       "      <th>time</th>\n",
       "      <th>id</th>\n",
       "      <th>SessionId</th>\n",
       "      <th>item_idx</th>\n",
       "    </tr>\n",
       "  </thead>\n",
       "  <tbody>\n",
       "    <tr>\n",
       "      <th>999905</th>\n",
       "      <td>6040</td>\n",
       "      <td>953</td>\n",
       "      <td>5</td>\n",
       "      <td>997454160</td>\n",
       "      <td>2001-08-10 02:36:00 PM</td>\n",
       "      <td>1000199</td>\n",
       "      <td>24307</td>\n",
       "      <td>586</td>\n",
       "    </tr>\n",
       "    <tr>\n",
       "      <th>1000169</th>\n",
       "      <td>6040</td>\n",
       "      <td>2725</td>\n",
       "      <td>4</td>\n",
       "      <td>997454180</td>\n",
       "      <td>2001-08-10 02:36:20 PM</td>\n",
       "      <td>1000200</td>\n",
       "      <td>24307</td>\n",
       "      <td>371</td>\n",
       "    </tr>\n",
       "    <tr>\n",
       "      <th>1000105</th>\n",
       "      <td>6040</td>\n",
       "      <td>1673</td>\n",
       "      <td>4</td>\n",
       "      <td>997454212</td>\n",
       "      <td>2001-08-10 02:36:52 PM</td>\n",
       "      <td>1000201</td>\n",
       "      <td>24307</td>\n",
       "      <td>458</td>\n",
       "    </tr>\n",
       "    <tr>\n",
       "      <th>1000118</th>\n",
       "      <td>6040</td>\n",
       "      <td>457</td>\n",
       "      <td>4</td>\n",
       "      <td>997454349</td>\n",
       "      <td>2001-08-10 02:39:09 PM</td>\n",
       "      <td>1000202</td>\n",
       "      <td>24307</td>\n",
       "      <td>131</td>\n",
       "    </tr>\n",
       "    <tr>\n",
       "      <th>1000119</th>\n",
       "      <td>6040</td>\n",
       "      <td>3671</td>\n",
       "      <td>4</td>\n",
       "      <td>997454367</td>\n",
       "      <td>2001-08-10 02:39:27 PM</td>\n",
       "      <td>1000203</td>\n",
       "      <td>24307</td>\n",
       "      <td>180</td>\n",
       "    </tr>\n",
       "    <tr>\n",
       "      <th>999923</th>\n",
       "      <td>6040</td>\n",
       "      <td>232</td>\n",
       "      <td>5</td>\n",
       "      <td>997454398</td>\n",
       "      <td>2001-08-10 02:39:58 PM</td>\n",
       "      <td>1000204</td>\n",
       "      <td>24307</td>\n",
       "      <td>1097</td>\n",
       "    </tr>\n",
       "    <tr>\n",
       "      <th>1000019</th>\n",
       "      <td>6040</td>\n",
       "      <td>2917</td>\n",
       "      <td>4</td>\n",
       "      <td>997454429</td>\n",
       "      <td>2001-08-10 02:40:29 PM</td>\n",
       "      <td>1000205</td>\n",
       "      <td>24307</td>\n",
       "      <td>1247</td>\n",
       "    </tr>\n",
       "    <tr>\n",
       "      <th>999988</th>\n",
       "      <td>6040</td>\n",
       "      <td>1921</td>\n",
       "      <td>4</td>\n",
       "      <td>997454464</td>\n",
       "      <td>2001-08-10 02:41:04 PM</td>\n",
       "      <td>1000206</td>\n",
       "      <td>24307</td>\n",
       "      <td>370</td>\n",
       "    </tr>\n",
       "    <tr>\n",
       "      <th>1000172</th>\n",
       "      <td>6040</td>\n",
       "      <td>1784</td>\n",
       "      <td>3</td>\n",
       "      <td>997454464</td>\n",
       "      <td>2001-08-10 02:41:04 PM</td>\n",
       "      <td>1000207</td>\n",
       "      <td>24307</td>\n",
       "      <td>89</td>\n",
       "    </tr>\n",
       "    <tr>\n",
       "      <th>1000167</th>\n",
       "      <td>6040</td>\n",
       "      <td>161</td>\n",
       "      <td>3</td>\n",
       "      <td>997454486</td>\n",
       "      <td>2001-08-10 02:41:26 PM</td>\n",
       "      <td>1000208</td>\n",
       "      <td>24307</td>\n",
       "      <td>464</td>\n",
       "    </tr>\n",
       "  </tbody>\n",
       "</table>\n",
       "</div>"
      ],
      "text/plain": [
       "         UserId  ItemId  Rating       Time                    time       id  \\\n",
       "999905     6040     953       5  997454160  2001-08-10 02:36:00 PM  1000199   \n",
       "1000169    6040    2725       4  997454180  2001-08-10 02:36:20 PM  1000200   \n",
       "1000105    6040    1673       4  997454212  2001-08-10 02:36:52 PM  1000201   \n",
       "1000118    6040     457       4  997454349  2001-08-10 02:39:09 PM  1000202   \n",
       "1000119    6040    3671       4  997454367  2001-08-10 02:39:27 PM  1000203   \n",
       "999923     6040     232       5  997454398  2001-08-10 02:39:58 PM  1000204   \n",
       "1000019    6040    2917       4  997454429  2001-08-10 02:40:29 PM  1000205   \n",
       "999988     6040    1921       4  997454464  2001-08-10 02:41:04 PM  1000206   \n",
       "1000172    6040    1784       3  997454464  2001-08-10 02:41:04 PM  1000207   \n",
       "1000167    6040     161       3  997454486  2001-08-10 02:41:26 PM  1000208   \n",
       "\n",
       "         SessionId  item_idx  \n",
       "999905       24307       586  \n",
       "1000169      24307       371  \n",
       "1000105      24307       458  \n",
       "1000118      24307       131  \n",
       "1000119      24307       180  \n",
       "999923       24307      1097  \n",
       "1000019      24307      1247  \n",
       "999988       24307       370  \n",
       "1000172      24307        89  \n",
       "1000167      24307       464  "
      ]
     },
     "execution_count": 41,
     "metadata": {},
     "output_type": "execute_result"
    }
   ],
   "source": [
    "tr_dataset = SessionDataset(tr)\n",
    "tr_dataset.df.tail(10)"
   ]
  },
  {
   "cell_type": "markdown",
   "id": "lucky-paraguay",
   "metadata": {},
   "source": [
    "* 잘 적용이 되었습니다."
   ]
  },
  {
   "cell_type": "markdown",
   "id": "canadian-momentum",
   "metadata": {},
   "source": [
    "### 모델 설계"
   ]
  },
  {
   "cell_type": "code",
   "execution_count": 43,
   "id": "eastern-liberia",
   "metadata": {},
   "outputs": [],
   "source": [
    "class SessionDataLoader:\n",
    "    \"\"\"Credit to yhs-968/pyGRU4REC.\"\"\"\n",
    "\n",
    "    def __init__(self, dataset: SessionDataset, batch_size=50):\n",
    "        self.dataset = dataset\n",
    "        self.batch_size = batch_size\n",
    "\n",
    "    def __iter__(self):\n",
    "        \"\"\" Returns the iterator for producing session-parallel training mini-batches.\n",
    "        Yields:\n",
    "            input (B,):  Item indices that will be encoded as one-hot vectors later.\n",
    "            target (B,): a Variable that stores the target item indices\n",
    "            masks: Numpy array indicating the positions of the sessions to be terminated\n",
    "        \"\"\"\n",
    "\n",
    "        start, end, mask, last_session, finished = self.initialize()  # initialize 메소드에서 확인해주세요.\n",
    "        \"\"\"\n",
    "        start : Index Where Session Start\n",
    "        end : Index Where Session End\n",
    "        mask : indicator for the sessions to be terminated\n",
    "        \"\"\"\n",
    "\n",
    "        while not finished:\n",
    "            min_len = (end - start).min() - 1  # Shortest Length Among Sessions\n",
    "            for i in range(min_len):\n",
    "                # Build inputs & targets\n",
    "                inp = self.dataset.df['item_idx'].values[start + i]\n",
    "                target = self.dataset.df['item_idx'].values[start + i + 1]\n",
    "                yield inp, target, mask\n",
    "\n",
    "            start, end, mask, last_session, finished = self.update_status(start, end, min_len, last_session, finished)\n",
    "\n",
    "    def initialize(self):\n",
    "        first_iters = np.arange(self.batch_size)    # 첫 배치에 사용할 세션 Index를 가져옵니다.\n",
    "        last_session = self.batch_size - 1    # 마지막으로 다루고 있는 세션 Index를 저장해둡니다.\n",
    "        start = self.dataset.click_offsets[self.dataset.session_idx[first_iters]]       # data 상에서 session이 시작된 위치를 가져옵니다.\n",
    "        end = self.dataset.click_offsets[self.dataset.session_idx[first_iters] + 1]  # session이 끝난 위치 바로 다음 위치를 가져옵니다.\n",
    "        mask = np.array([])   # session의 모든 아이템을 다 돌은 경우 mask에 추가해줄 것입니다.\n",
    "        finished = False         # data를 전부 돌았는지 기록하기 위한 변수입니다.\n",
    "        return start, end, mask, last_session, finished\n",
    "\n",
    "    def update_status(self, start: np.ndarray, end: np.ndarray, min_len: int, last_session: int, finished: bool):  \n",
    "        # 다음 배치 데이터를 생성하기 위해 상태를 update합니다.\n",
    "        \n",
    "        start += min_len   # __iter__에서 min_len 만큼 for문을 돌았으므로 start를 min_len 만큼 더해줍니다.\n",
    "        mask = np.arange(self.batch_size)[(end - start) == 1]  \n",
    "        # end는 다음 세션이 시작되는 위치인데 start와 한 칸 차이난다는 것은 session이 끝났다는 뜻입니다. mask에 기록해줍니다.\n",
    "\n",
    "        for i, idx in enumerate(mask, start=1):  # mask에 추가된 세션 개수만큼 새로운 세션을 돌것입니다.\n",
    "            new_session = last_session + i  \n",
    "            if new_session > self.dataset.session_idx[-1]:  # 만약 새로운 세션이 마지막 세션 index보다 크다면 모든 학습데이터를 돈 것입니다.\n",
    "                finished = True\n",
    "                break\n",
    "            # update the next starting/ending point\n",
    "            start[idx] = self.dataset.click_offsets[self.dataset.session_idx[new_session]]     # 종료된 세션 대신 새로운 세션의 시작점을 기록합니다.\n",
    "            end[idx] = self.dataset.click_offsets[self.dataset.session_idx[new_session] + 1]\n",
    "\n",
    "        last_session += len(mask)  # 마지막 세션의 위치를 기록해둡니다.\n",
    "        return start, end, mask, last_session, finished"
   ]
  },
  {
   "cell_type": "code",
   "execution_count": 45,
   "id": "demonstrated-snowboard",
   "metadata": {},
   "outputs": [],
   "source": [
    "iter_ex = iter(tr_data_loader)"
   ]
  },
  {
   "cell_type": "code",
   "execution_count": 46,
   "id": "modular-generator",
   "metadata": {},
   "outputs": [
    {
     "name": "stdout",
     "output_type": "stream",
     "text": [
      "Model Input Item Idx are : [ 0 40 53 65]\n",
      "Label Item Idx are :       [ 1 41 54 62]\n",
      "Previous Masked Input Idx are []\n"
     ]
    }
   ],
   "source": [
    "inputs, labels, mask =  next(iter_ex)\n",
    "print(f'Model Input Item Idx are : {inputs}')\n",
    "print(f'Label Item Idx are : {\"\":5} {labels}')\n",
    "print(f'Previous Masked Input Idx are {mask}')"
   ]
  },
  {
   "cell_type": "markdown",
   "id": "official-netscape",
   "metadata": {},
   "source": [
    "* 라벨 아이템 인덱싱이 마지막이 66이 아니라 62입니다. 아직 원인을 모르겠습니다."
   ]
  },
  {
   "cell_type": "code",
   "execution_count": 47,
   "id": "chemical-hormone",
   "metadata": {},
   "outputs": [],
   "source": [
    "def mrr_k(pred, truth: int, k: int):\n",
    "    indexing = np.where(pred[:k] == truth)[0]\n",
    "    if len(indexing) > 0:\n",
    "        return 1 / (indexing[0] + 1)\n",
    "    else:\n",
    "        return 0\n",
    "\n",
    "\n",
    "def recall_k(pred, truth: int, k: int) -> int:\n",
    "    answer = truth in pred[:k]\n",
    "    return int(answer)"
   ]
  },
  {
   "cell_type": "code",
   "execution_count": 48,
   "id": "frank-printing",
   "metadata": {},
   "outputs": [],
   "source": [
    "def create_model(args):\n",
    "    inputs = Input(batch_shape=(args.batch_size, 1, args.num_items))\n",
    "    gru, _ = GRU(args.hsz, stateful=True, return_state=True, name='GRU')(inputs)\n",
    "    dropout = Dropout(args.drop_rate)(gru)\n",
    "    predictions = Dense(args.num_items, activation='softmax')(dropout)\n",
    "    model = Model(inputs=inputs, outputs=[predictions])\n",
    "    model.compile(loss=categorical_crossentropy, optimizer=Adam(args.lr), metrics=['accuracy'])\n",
    "    model.summary()\n",
    "    return model"
   ]
  },
  {
   "cell_type": "code",
   "execution_count": 56,
   "id": "compact-spending",
   "metadata": {},
   "outputs": [],
   "source": [
    "class Args:\n",
    "    def __init__(self, tr, val, test, batch_size, hsz, drop_rate, lr, epochs, k):\n",
    "        self.tr = tr\n",
    "        self.val = val\n",
    "        self.test = test\n",
    "        self.num_items = tr['ItemId'].nunique()\n",
    "        self.num_sessions = tr['SessionId'].nunique()\n",
    "        self.batch_size = batch_size\n",
    "        self.hsz = hsz\n",
    "        self.drop_rate = drop_rate\n",
    "        self.lr = lr\n",
    "        self.epochs = epochs\n",
    "        self.k = k\n",
    "\n",
    "args = Args(tr, val, test, batch_size=128, hsz=50, drop_rate=0.1, lr=0.001, epochs=3, k=20)\n",
    "args_1 = Args(tr, val, test, batch_size=128, hsz=50, drop_rate=0.1, lr=0.001, epochs=5, k=20)\n",
    "args_2 = Args(tr, val, test, batch_size=64, hsz=50, drop_rate=0.1, lr=0.001, epochs=5, k=20)"
   ]
  },
  {
   "cell_type": "markdown",
   "id": "stupid-cemetery",
   "metadata": {},
   "source": [
    "* 여기서도 조원들과 퍼실님의 도움을 받았는데, batch_size를 생각없이 그대로 썼는데, 데이터량보다 많으면 에러가 났습니다."
   ]
  },
  {
   "cell_type": "code",
   "execution_count": 50,
   "id": "constant-metro",
   "metadata": {},
   "outputs": [
    {
     "name": "stdout",
     "output_type": "stream",
     "text": [
      "Model: \"model\"\n",
      "_________________________________________________________________\n",
      "Layer (type)                 Output Shape              Param #   \n",
      "=================================================================\n",
      "input_1 (InputLayer)         [(128, 1, 3405)]          0         \n",
      "_________________________________________________________________\n",
      "GRU (GRU)                    [(128, 50), (128, 50)]    518550    \n",
      "_________________________________________________________________\n",
      "dropout (Dropout)            (128, 50)                 0         \n",
      "_________________________________________________________________\n",
      "dense (Dense)                (128, 3405)               173655    \n",
      "=================================================================\n",
      "Total params: 692,205\n",
      "Trainable params: 692,205\n",
      "Non-trainable params: 0\n",
      "_________________________________________________________________\n"
     ]
    }
   ],
   "source": [
    "model = create_model(args)"
   ]
  },
  {
   "cell_type": "markdown",
   "id": "cleared-music",
   "metadata": {},
   "source": [
    "* 모델 시각화"
   ]
  },
  {
   "cell_type": "code",
   "execution_count": 51,
   "id": "recreational-parent",
   "metadata": {},
   "outputs": [
    {
     "data": {
      "image/png": "[encoded data removed]",
      "text/plain": [
       "<IPython.core.display.Image object>"
      ]
     },
     "execution_count": 51,
     "metadata": {},
     "output_type": "execute_result"
    }
   ],
   "source": [
    "plot_model(model)"
   ]
  },
  {
   "cell_type": "code",
   "execution_count": 52,
   "id": "editorial-frame",
   "metadata": {},
   "outputs": [],
   "source": [
    "# train 셋으로 학습하면서 valid 셋으로 검증합니다.\n",
    "def train_model(model, args):\n",
    "    train_dataset = SessionDataset(args.tr)\n",
    "    train_loader = SessionDataLoader(train_dataset, batch_size=args.batch_size)\n",
    "\n",
    "    for epoch in range(1, args.epochs + 1):\n",
    "        total_step = len(args.tr) - args.tr['SessionId'].nunique()\n",
    "        tr_loader = tqdm(train_loader, total=total_step // args.batch_size, desc='Train', mininterval=1)\n",
    "        for feat, target, mask in tr_loader:\n",
    "            reset_hidden_states(model, mask)  # 종료된 session은 hidden_state를 초기화합니다. 아래 메서드에서 확인해주세요.\n",
    "\n",
    "            input_ohe = to_categorical(feat, num_classes=args.num_items)\n",
    "            input_ohe = np.expand_dims(input_ohe, axis=1)\n",
    "            target_ohe = to_categorical(target, num_classes=args.num_items)\n",
    "\n",
    "            result = model.train_on_batch(input_ohe, target_ohe)\n",
    "            tr_loader.set_postfix(train_loss=result[0], accuracy = result[1])\n",
    "\n",
    "        val_recall, val_mrr = get_metrics(args.val, model, args, args.k)  # valid set에 대해 검증합니다.\n",
    "\n",
    "        print(f\"\\t - Recall@{args.k} epoch {epoch}: {val_recall:3f}\")\n",
    "        print(f\"\\t - MRR@{args.k}    epoch {epoch}: {val_mrr:3f}\\n\")\n",
    "\n",
    "\n",
    "def reset_hidden_states(model, mask):\n",
    "    gru_layer = model.get_layer(name='GRU')  # model에서 gru layer를 가져옵니다.\n",
    "    hidden_states = gru_layer.states[0].numpy()  # gru_layer의 parameter를 가져옵니다.\n",
    "    for elt in mask:  # mask된 인덱스 즉, 종료된 세션의 인덱스를 돌면서\n",
    "        hidden_states[elt, :] = 0  # parameter를 초기화 합니다.\n",
    "    gru_layer.reset_states(states=hidden_states)\n",
    "\n",
    "\n",
    "def get_metrics(data, model, args, k: int):  # valid셋과 test셋을 평가하는 코드입니다. \n",
    "                                             # train과 거의 같지만 mrr, recall을 구하는 라인이 있습니다.\n",
    "    dataset = SessionDataset(data)\n",
    "    loader = SessionDataLoader(dataset, batch_size=args.batch_size)\n",
    "    recall_list, mrr_list = [], []\n",
    "\n",
    "    total_step = len(data) - data['SessionId'].nunique()\n",
    "    for inputs, label, mask in tqdm(loader, total=total_step // args.batch_size, desc='Evaluation', mininterval=1):\n",
    "        reset_hidden_states(model, mask)\n",
    "        input_ohe = to_categorical(inputs, num_classes=args.num_items)\n",
    "        input_ohe = np.expand_dims(input_ohe, axis=1)\n",
    "\n",
    "        pred = model.predict(input_ohe, batch_size=args.batch_size)\n",
    "        pred_arg = tf.argsort(pred, direction='DESCENDING')  # softmax 값이 큰 순서대로 sorting 합니다.\n",
    "\n",
    "        length = len(inputs)\n",
    "        recall_list.extend([recall_k(pred_arg[i], label[i], k) for i in range(length)])\n",
    "        mrr_list.extend([mrr_k(pred_arg[i], label[i], k) for i in range(length)])\n",
    "\n",
    "    recall, mrr = np.mean(recall_list), np.mean(mrr_list)\n",
    "    return recall, mrr"
   ]
  },
  {
   "cell_type": "markdown",
   "id": "loving-council",
   "metadata": {},
   "source": [
    "### 모델 학습"
   ]
  },
  {
   "cell_type": "code",
   "execution_count": 53,
   "id": "romance-growth",
   "metadata": {},
   "outputs": [
    {
     "name": "stderr",
     "output_type": "stream",
     "text": [
      "Train:  99%|█████████▊| 7449/7551 [02:37<00:02, 47.21it/s, accuracy=0.0234, train_loss=6.04] \n",
      "Evaluation:  26%|██▋       | 9/34 [00:07<00:20,  1.22it/s]\n",
      "Train:   0%|          | 0/7551 [00:00<?, ?it/s, accuracy=0.0703, train_loss=6.04] "
     ]
    },
    {
     "name": "stdout",
     "output_type": "stream",
     "text": [
      "\t - Recall@20 epoch 1: 0.075521\n",
      "\t - MRR@20    epoch 1: 0.014057\n",
      "\n"
     ]
    },
    {
     "name": "stderr",
     "output_type": "stream",
     "text": [
      "Train:  99%|█████████▊| 7449/7551 [02:34<00:02, 48.09it/s, accuracy=0.0391, train_loss=5.67] \n",
      "Evaluation:  26%|██▋       | 9/34 [00:06<00:19,  1.29it/s]\n",
      "Train:   0%|          | 0/7551 [00:00<?, ?it/s, accuracy=0.0781, train_loss=5.67] "
     ]
    },
    {
     "name": "stdout",
     "output_type": "stream",
     "text": [
      "\t - Recall@20 epoch 2: 0.091146\n",
      "\t - MRR@20    epoch 2: 0.019200\n",
      "\n"
     ]
    },
    {
     "name": "stderr",
     "output_type": "stream",
     "text": [
      "Train:  99%|█████████▊| 7449/7551 [02:33<00:02, 48.43it/s, accuracy=0.0312, train_loss=5.5]  \n",
      "Evaluation:  26%|██▋       | 9/34 [00:06<00:19,  1.30it/s]"
     ]
    },
    {
     "name": "stdout",
     "output_type": "stream",
     "text": [
      "\t - Recall@20 epoch 3: 0.109375\n",
      "\t - MRR@20    epoch 3: 0.023242\n",
      "\n"
     ]
    },
    {
     "name": "stderr",
     "output_type": "stream",
     "text": [
      "\n"
     ]
    }
   ],
   "source": [
    "train_model(model, args)"
   ]
  },
  {
   "cell_type": "markdown",
   "id": "authorized-region",
   "metadata": {},
   "source": [
    "### 모델 테스트"
   ]
  },
  {
   "cell_type": "code",
   "execution_count": 54,
   "id": "outdoor-seafood",
   "metadata": {},
   "outputs": [
    {
     "name": "stderr",
     "output_type": "stream",
     "text": [
      "Evaluation:  33%|███▎      | 11/33 [00:08<00:16,  1.36it/s]"
     ]
    },
    {
     "name": "stdout",
     "output_type": "stream",
     "text": [
      "\t - Recall@20: 0.177557\n",
      "\t - MRR@20: 0.059516\n",
      "\n"
     ]
    },
    {
     "name": "stderr",
     "output_type": "stream",
     "text": [
      "\n"
     ]
    }
   ],
   "source": [
    "def test_model(model, args, test):\n",
    "    test_recall, test_mrr = get_metrics(test, model, args, 20)\n",
    "    print(f\"\\t - Recall@{args.k}: {test_recall:3f}\")\n",
    "    print(f\"\\t - MRR@{args.k}: {test_mrr:3f}\\n\")\n",
    "\n",
    "test_model(model, args, test)"
   ]
  },
  {
   "cell_type": "markdown",
   "id": "stainless-transparency",
   "metadata": {},
   "source": [
    "* 학습이 정상적으로 완료 되었는데, 성능은 별로인것 같습니다."
   ]
  },
  {
   "cell_type": "code",
   "execution_count": 58,
   "id": "primary-textbook",
   "metadata": {},
   "outputs": [
    {
     "name": "stdout",
     "output_type": "stream",
     "text": [
      "Model: \"model_1\"\n",
      "_________________________________________________________________\n",
      "Layer (type)                 Output Shape              Param #   \n",
      "=================================================================\n",
      "input_2 (InputLayer)         [(128, 1, 3405)]          0         \n",
      "_________________________________________________________________\n",
      "GRU (GRU)                    [(128, 50), (128, 50)]    518550    \n",
      "_________________________________________________________________\n",
      "dropout_1 (Dropout)          (128, 50)                 0         \n",
      "_________________________________________________________________\n",
      "dense_1 (Dense)              (128, 3405)               173655    \n",
      "=================================================================\n",
      "Total params: 692,205\n",
      "Trainable params: 692,205\n",
      "Non-trainable params: 0\n",
      "_________________________________________________________________\n"
     ]
    }
   ],
   "source": [
    "model = create_model(args_1)"
   ]
  },
  {
   "cell_type": "code",
   "execution_count": 59,
   "id": "corporate-catch",
   "metadata": {},
   "outputs": [
    {
     "name": "stderr",
     "output_type": "stream",
     "text": [
      "Train:  99%|█████████▊| 7449/7551 [02:36<00:02, 47.56it/s, accuracy=0.0234, train_loss=6.09] \n",
      "Evaluation:  26%|██▋       | 9/34 [00:07<00:20,  1.22it/s]\n",
      "Train:   0%|          | 0/7551 [00:00<?, ?it/s, accuracy=0.0547, train_loss=6.08] "
     ]
    },
    {
     "name": "stdout",
     "output_type": "stream",
     "text": [
      "\t - Recall@20 epoch 1: 0.065972\n",
      "\t - MRR@20    epoch 1: 0.013307\n",
      "\n"
     ]
    },
    {
     "name": "stderr",
     "output_type": "stream",
     "text": [
      "Train:  99%|█████████▊| 7449/7551 [02:36<00:02, 47.66it/s, accuracy=0.0312, train_loss=5.62] \n",
      "Evaluation:  26%|██▋       | 9/34 [00:06<00:19,  1.29it/s]\n",
      "Train:   0%|          | 0/7551 [00:00<?, ?it/s, accuracy=0.0469, train_loss=5.57] "
     ]
    },
    {
     "name": "stdout",
     "output_type": "stream",
     "text": [
      "\t - Recall@20 epoch 2: 0.087674\n",
      "\t - MRR@20    epoch 2: 0.024775\n",
      "\n"
     ]
    },
    {
     "name": "stderr",
     "output_type": "stream",
     "text": [
      "Train:  99%|█████████▊| 7449/7551 [02:35<00:02, 47.81it/s, accuracy=0.0781, train_loss=5.42] \n",
      "Evaluation:  26%|██▋       | 9/34 [00:06<00:19,  1.29it/s]\n",
      "Train:   0%|          | 0/7551 [00:00<?, ?it/s, accuracy=0.102, train_loss=5.63]  "
     ]
    },
    {
     "name": "stdout",
     "output_type": "stream",
     "text": [
      "\t - Recall@20 epoch 3: 0.107639\n",
      "\t - MRR@20    epoch 3: 0.027504\n",
      "\n"
     ]
    },
    {
     "name": "stderr",
     "output_type": "stream",
     "text": [
      "Evaluation:  26%|██▋       | 9/34 [00:06<00:19,  1.30it/s] accuracy=0.0547, train_loss=5.63] \n",
      "Train:   0%|          | 0/7551 [00:00<?, ?it/s, accuracy=0.0859, train_loss=5.45] "
     ]
    },
    {
     "name": "stdout",
     "output_type": "stream",
     "text": [
      "\t - Recall@20 epoch 4: 0.112847\n",
      "\t - MRR@20    epoch 4: 0.028067\n",
      "\n"
     ]
    },
    {
     "name": "stderr",
     "output_type": "stream",
     "text": [
      "Train:  99%|█████████▊| 7449/7551 [02:34<00:02, 48.33it/s, accuracy=0.0703, train_loss=5.38] \n",
      "Evaluation:  26%|██▋       | 9/34 [00:06<00:19,  1.30it/s]"
     ]
    },
    {
     "name": "stdout",
     "output_type": "stream",
     "text": [
      "\t - Recall@20 epoch 5: 0.112847\n",
      "\t - MRR@20    epoch 5: 0.030354\n",
      "\n"
     ]
    },
    {
     "name": "stderr",
     "output_type": "stream",
     "text": [
      "\n"
     ]
    }
   ],
   "source": [
    "train_model(model, args_1)"
   ]
  },
  {
   "cell_type": "code",
   "execution_count": 60,
   "id": "dying-employment",
   "metadata": {},
   "outputs": [
    {
     "name": "stderr",
     "output_type": "stream",
     "text": [
      "Evaluation:  33%|███▎      | 11/33 [00:08<00:16,  1.37it/s]"
     ]
    },
    {
     "name": "stdout",
     "output_type": "stream",
     "text": [
      "\t - Recall@20: 0.182528\n",
      "\t - MRR@20: 0.066130\n",
      "\n"
     ]
    },
    {
     "name": "stderr",
     "output_type": "stream",
     "text": [
      "\n"
     ]
    }
   ],
   "source": [
    "test_model(model, args_1, test)"
   ]
  },
  {
   "cell_type": "markdown",
   "id": "short-element",
   "metadata": {},
   "source": [
    "* 학습수만 늘려봤는데 정확도가 조금 올랐습니다."
   ]
  },
  {
   "cell_type": "code",
   "execution_count": 61,
   "id": "colored-running",
   "metadata": {},
   "outputs": [
    {
     "name": "stdout",
     "output_type": "stream",
     "text": [
      "Model: \"model_2\"\n",
      "_________________________________________________________________\n",
      "Layer (type)                 Output Shape              Param #   \n",
      "=================================================================\n",
      "input_3 (InputLayer)         [(64, 1, 3405)]           0         \n",
      "_________________________________________________________________\n",
      "GRU (GRU)                    [(64, 50), (64, 50)]      518550    \n",
      "_________________________________________________________________\n",
      "dropout_2 (Dropout)          (64, 50)                  0         \n",
      "_________________________________________________________________\n",
      "dense_2 (Dense)              (64, 3405)                173655    \n",
      "=================================================================\n",
      "Total params: 692,205\n",
      "Trainable params: 692,205\n",
      "Non-trainable params: 0\n",
      "_________________________________________________________________\n"
     ]
    }
   ],
   "source": [
    "model = create_model(args_2)"
   ]
  },
  {
   "cell_type": "code",
   "execution_count": 62,
   "id": "surgical-lancaster",
   "metadata": {},
   "outputs": [
    {
     "name": "stderr",
     "output_type": "stream",
     "text": [
      "Train:  99%|█████████▉| 15002/15102 [03:53<00:01, 64.18it/s, accuracy=0.0469, train_loss=6]   \n",
      "Evaluation:  52%|█████▏    | 36/69 [00:14<00:13,  2.43it/s]\n",
      "Train:   0%|          | 0/15102 [00:00<?, ?it/s, accuracy=0.0625, train_loss=6.29]"
     ]
    },
    {
     "name": "stdout",
     "output_type": "stream",
     "text": [
      "\t - Recall@20 epoch 1: 0.120226\n",
      "\t - MRR@20    epoch 1: 0.030041\n",
      "\n"
     ]
    },
    {
     "name": "stderr",
     "output_type": "stream",
     "text": [
      "Train:  99%|█████████▉| 15002/15102 [03:52<00:01, 64.41it/s, accuracy=0.0312, train_loss=5.74]\n",
      "Evaluation:  52%|█████▏    | 36/69 [00:14<00:13,  2.51it/s]\n",
      "Train:   0%|          | 0/15102 [00:00<?, ?it/s, accuracy=0.0781, train_loss=5.63]"
     ]
    },
    {
     "name": "stdout",
     "output_type": "stream",
     "text": [
      "\t - Recall@20 epoch 2: 0.133247\n",
      "\t - MRR@20    epoch 2: 0.036246\n",
      "\n"
     ]
    },
    {
     "name": "stderr",
     "output_type": "stream",
     "text": [
      "Train:  99%|█████████▉| 15002/15102 [03:57<00:01, 63.22it/s, accuracy=0.0625, train_loss=5.72]\n",
      "Evaluation:  52%|█████▏    | 36/69 [00:14<00:13,  2.53it/s]\n",
      "Train:   0%|          | 0/15102 [00:00<?, ?it/s, accuracy=0.0625, train_loss=5.52]"
     ]
    },
    {
     "name": "stdout",
     "output_type": "stream",
     "text": [
      "\t - Recall@20 epoch 3: 0.140625\n",
      "\t - MRR@20    epoch 3: 0.039253\n",
      "\n"
     ]
    },
    {
     "name": "stderr",
     "output_type": "stream",
     "text": [
      "Train:  99%|█████████▉| 15002/15102 [03:53<00:01, 64.29it/s, accuracy=0.0625, train_loss=5.7] \n",
      "Evaluation:  52%|█████▏    | 36/69 [00:14<00:13,  2.54it/s]\n",
      "Train:   0%|          | 0/15102 [00:00<?, ?it/s, accuracy=0.0312, train_loss=5.96]"
     ]
    },
    {
     "name": "stdout",
     "output_type": "stream",
     "text": [
      "\t - Recall@20 epoch 4: 0.142795\n",
      "\t - MRR@20    epoch 4: 0.041262\n",
      "\n"
     ]
    },
    {
     "name": "stderr",
     "output_type": "stream",
     "text": [
      "Train:  99%|█████████▉| 15002/15102 [03:52<00:01, 64.59it/s, accuracy=0.0312, train_loss=5.64]\n",
      "Evaluation:  52%|█████▏    | 36/69 [00:14<00:12,  2.54it/s]"
     ]
    },
    {
     "name": "stdout",
     "output_type": "stream",
     "text": [
      "\t - Recall@20 epoch 5: 0.145833\n",
      "\t - MRR@20    epoch 5: 0.041600\n",
      "\n"
     ]
    },
    {
     "name": "stderr",
     "output_type": "stream",
     "text": [
      "\n"
     ]
    }
   ],
   "source": [
    "train_model(model, args_2)"
   ]
  },
  {
   "cell_type": "code",
   "execution_count": 63,
   "id": "sunset-amateur",
   "metadata": {},
   "outputs": [
    {
     "name": "stderr",
     "output_type": "stream",
     "text": [
      "Evaluation:  55%|█████▌    | 37/67 [00:14<00:11,  2.62it/s]"
     ]
    },
    {
     "name": "stdout",
     "output_type": "stream",
     "text": [
      "\t - Recall@20: 0.201436\n",
      "\t - MRR@20: 0.065005\n",
      "\n"
     ]
    },
    {
     "name": "stderr",
     "output_type": "stream",
     "text": [
      "\n"
     ]
    }
   ],
   "source": [
    "test_model(model, args_2, test)"
   ]
  },
  {
   "cell_type": "markdown",
   "id": "expected-adaptation",
   "metadata": {},
   "source": [
    "* batch를 줄이고 학습수도 올리니 정확도가 꽤 올랐습니다."
   ]
  },
  {
   "cell_type": "markdown",
   "id": "generic-elimination",
   "metadata": {},
   "source": [
    "## 회고\n",
    "> #### 세션 아이디를 만들때 처음에는 단순하게 반복문만 가지고 작업을 하다가 데이터 양이 너무 많아 반복문 하는데 시간이 너무 오래 걸려 효율적이지 못해 이런 함수가 없나 하다 cut 함수를 찾았습니다.\n",
    "> #### 위의 cut 함수를 사용하면 자동으로 타입이 카테고리로 변경이 됩니다. 이게 문제가 되는 이유는 다시 인덱싱을 할때, 삭제된 숫자가 카테고리로 그대로 남아있어 데이터프레임에는 보이지 않지만 다시 인덱싱을 할때 남아있어 방해가 되었습니다.\n",
    "> #### 그리고 batch사이즈를 2048로 처음 진행했었는데, val_data는 333개라 오류가 생겼는데 조원들과 퍼실님의 도움으로 살았습니다.\n",
    "> #### 마지막으로 세션의 기준을 30분으로 잡았는데, 처음 1시간으로 잡으니 아이디가 달라도 같은 세션이 되는 경우가 생겼습니다. 이를 해결하기 위해 처음 groupby 를 사용해 카운팅하여 다시 인덱싱을 시도했는데 오류가 나왔습니다. 지금 생각해 보니 세션아이디의 타입이 카테고리여서 오류가 났나 생각이 듭니다. \n",
    "> #### 그래서 10분, 15분, 30분 이렇게 쪼개 보다 30분으로 나눴을때 조금 그래프가 좋다고 생각해서 30분으로 선택했습니다. 지금은 시간이 없어 못하지만 다음에 한번 아이디와 세션아이디로 groupby 함수를 통해 작업해보겠습니다."
   ]
  }
 ],
 "metadata": {
  "kernelspec": {
   "display_name": "Python 3",
   "language": "python",
   "name": "python3"
  },
  "language_info": {
   "codemirror_mode": {
    "name": "ipython",
    "version": 3
   },
   "file_extension": ".py",
   "mimetype": "text/x-python",
   "name": "python",
   "nbconvert_exporter": "python",
   "pygments_lexer": "ipython3",
   "version": "3.7.9"
  }
 },
 "nbformat": 4,
 "nbformat_minor": 5
}
