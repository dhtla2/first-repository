{
 "cells": [
  {
   "cell_type": "markdown",
   "id": "dependent-conference",
   "metadata": {},
   "source": [
    "### 필요한 라이브러리 Import"
   ]
  },
  {
   "cell_type": "code",
   "execution_count": 123,
   "id": "coordinated-romance",
   "metadata": {},
   "outputs": [],
   "source": [
    "from tensorflow.keras.datasets import reuters\n",
    "import matplotlib.pyplot as plt\n",
    "import seaborn as sns\n",
    "import numpy as np\n",
    "import pandas as pd\n",
    "\n",
    "import os\n",
    "import keras\n",
    "import tensorflow as tf\n",
    "from tensorflow.keras.callbacks import EarlyStopping, ModelCheckpoint\n",
    "from sklearn.model_selection import train_test_split\n",
    "from tensorflow.keras.preprocessing.sequence import pad_sequences\n",
    "from tensorflow.keras.utils import to_categorical\n",
    "\n",
    "from sklearn.feature_extraction.text import CountVectorizer\n",
    "from sklearn.feature_extraction.text import TfidfTransformer\n",
    "\n",
    "from sklearn.naive_bayes import MultinomialNB #다항분포 나이브 베이즈 모델\n",
    "from sklearn.linear_model import LogisticRegression, SGDClassifier\n",
    "from sklearn.naive_bayes import ComplementNB\n",
    "from sklearn.tree import DecisionTreeClassifier\n",
    "from sklearn.ensemble import RandomForestClassifier\n",
    "from sklearn.ensemble import GradientBoostingClassifier\n",
    "from sklearn.ensemble import VotingClassifier\n",
    "from sklearn.svm import LinearSVC\n",
    "from sklearn.metrics import accuracy_score #정확도 계산\n",
    "from sklearn.metrics import f1_score\n",
    "from sklearn.metrics import classification_report\n",
    "from sklearn.metrics import confusion_matrix\n",
    "\n",
    "from keras import backend as K\n",
    "\n",
    "import warnings\n",
    "warnings.filterwarnings(action='ignore') "
   ]
  },
  {
   "cell_type": "markdown",
   "id": "copyrighted-yesterday",
   "metadata": {},
   "source": [
    "### 데이터 다운로드 및 확인"
   ]
  },
  {
   "cell_type": "code",
   "execution_count": 2,
   "id": "criminal-aircraft",
   "metadata": {},
   "outputs": [
    {
     "name": "stdout",
     "output_type": "stream",
     "text": [
      "Downloading data from https://storage.googleapis.com/tensorflow/tf-keras-datasets/reuters.npz\n",
      "2113536/2110848 [==============================] - 0s 0us/step\n"
     ]
    }
   ],
   "source": [
    "(x_train_10000, y_train_10000), (x_test_10000, y_test_10000) = reuters.load_data(num_words=10000, test_split=0.2)"
   ]
  },
  {
   "cell_type": "code",
   "execution_count": 3,
   "id": "enhanced-count",
   "metadata": {},
   "outputs": [
    {
     "name": "stdout",
     "output_type": "stream",
     "text": [
      "훈련 샘플의 수: 8982\n",
      "테스트 샘플의 수: 2246\n"
     ]
    }
   ],
   "source": [
    "print('훈련 샘플의 수: {}'.format(len(x_train_10000)))\n",
    "print('테스트 샘플의 수: {}'.format(len(x_test_10000)))"
   ]
  },
  {
   "cell_type": "code",
   "execution_count": 4,
   "id": "smooth-engine",
   "metadata": {},
   "outputs": [
    {
     "name": "stdout",
     "output_type": "stream",
     "text": [
      "[1, 2, 2, 8, 43, 10, 447, 5, 25, 207, 270, 5, 3095, 111, 16, 369, 186, 90, 67, 7, 89, 5, 19, 102, 6, 19, 124, 15, 90, 67, 84, 22, 482, 26, 7, 48, 4, 49, 8, 864, 39, 209, 154, 6, 151, 6, 83, 11, 15, 22, 155, 11, 15, 7, 48, 9, 4579, 1005, 504, 6, 258, 6, 272, 11, 15, 22, 134, 44, 11, 15, 16, 8, 197, 1245, 90, 67, 52, 29, 209, 30, 32, 132, 6, 109, 15, 17, 12]\n",
      "[1, 4, 1378, 2025, 9, 697, 4622, 111, 8, 25, 109, 29, 3650, 11, 150, 244, 364, 33, 30, 30, 1398, 333, 6, 2, 159, 9, 1084, 363, 13, 2, 71, 9, 2, 71, 117, 4, 225, 78, 206, 10, 9, 1214, 8, 4, 270, 5, 2, 7, 748, 48, 9, 2, 7, 207, 1451, 966, 1864, 793, 97, 133, 336, 7, 4, 493, 98, 273, 104, 284, 25, 39, 338, 22, 905, 220, 3465, 644, 59, 20, 6, 119, 61, 11, 15, 58, 579, 26, 10, 67, 7, 4, 738, 98, 43, 88, 333, 722, 12, 20, 6, 19, 746, 35, 15, 10, 9, 1214, 855, 129, 783, 21, 4, 2280, 244, 364, 51, 16, 299, 452, 16, 515, 4, 99, 29, 5, 4, 364, 281, 48, 10, 9, 1214, 23, 644, 47, 20, 324, 27, 56, 2, 2, 5, 192, 510, 17, 12]\n"
     ]
    }
   ],
   "source": [
    "print(x_train_10000[0])\n",
    "print(x_test_10000[0])"
   ]
  },
  {
   "cell_type": "code",
   "execution_count": 5,
   "id": "dramatic-jackson",
   "metadata": {},
   "outputs": [
    {
     "name": "stdout",
     "output_type": "stream",
     "text": [
      "3\n",
      "3\n"
     ]
    }
   ],
   "source": [
    "print(y_train_10000[0])\n",
    "print(y_test_10000[0])"
   ]
  },
  {
   "cell_type": "code",
   "execution_count": 6,
   "id": "billion-malta",
   "metadata": {},
   "outputs": [
    {
     "name": "stdout",
     "output_type": "stream",
     "text": [
      "클래스의 수 : 46\n"
     ]
    }
   ],
   "source": [
    "num_classes = max(y_train_10000) + 1\n",
    "print('클래스의 수 : {}'.format(num_classes))"
   ]
  },
  {
   "cell_type": "markdown",
   "id": "premier-dollar",
   "metadata": {},
   "source": [
    "* 뉴스 길이 시각화"
   ]
  },
  {
   "cell_type": "code",
   "execution_count": 7,
   "id": "bridal-junction",
   "metadata": {},
   "outputs": [
    {
     "name": "stdout",
     "output_type": "stream",
     "text": [
      "훈련용 뉴스의 최대 길이 :2376\n",
      "훈련용 뉴스의 평균 길이 :145.5398574927633\n"
     ]
    },
    {
     "data": {
      "image/png": "[encoded data removed]",
      "text/plain": [
       "<Figure size 432x288 with 1 Axes>"
      ]
     },
     "metadata": {
      "needs_background": "light"
     },
     "output_type": "display_data"
    }
   ],
   "source": [
    "print('훈련용 뉴스의 최대 길이 :{}'.format(max(len(l) for l in x_train_10000)))\n",
    "print('훈련용 뉴스의 평균 길이 :{}'.format(sum(map(len, x_train_10000))/len(x_train_10000)))\n",
    "\n",
    "plt.hist([len(s) for s in x_train_10000], bins=50)\n",
    "plt.xlabel('length of samples')\n",
    "plt.ylabel('number of samples')\n",
    "plt.show()"
   ]
  },
  {
   "cell_type": "markdown",
   "id": "solar-tradition",
   "metadata": {},
   "source": [
    "* 클래스별 시각화"
   ]
  },
  {
   "cell_type": "code",
   "execution_count": 8,
   "id": "modular-insert",
   "metadata": {},
   "outputs": [
    {
     "data": {
      "image/png": "[encoded data removed]",
      "text/plain": [
       "<Figure size 792x360 with 1 Axes>"
      ]
     },
     "metadata": {
      "needs_background": "light"
     },
     "output_type": "display_data"
    }
   ],
   "source": [
    "fig, axe = plt.subplots(ncols=1)\n",
    "fig.set_size_inches(11,5)\n",
    "sns.countplot(x=y_train_10000)\n",
    "plt.show()"
   ]
  },
  {
   "cell_type": "code",
   "execution_count": 9,
   "id": "protected-chemistry",
   "metadata": {},
   "outputs": [
    {
     "name": "stdout",
     "output_type": "stream",
     "text": [
      "각 클래스 빈도수:\n",
      "[[   0    1    2    3    4    5    6    7    8    9   10   11   12   13\n",
      "    14   15   16   17   18   19   20   21   22   23   24   25   26   27\n",
      "    28   29   30   31   32   33   34   35   36   37   38   39   40   41\n",
      "    42   43   44   45]\n",
      " [  55  432   74 3159 1949   17   48   16  139  101  124  390   49  172\n",
      "    26   20  444   39   66  549  269  100   15   41   62   92   24   15\n",
      "    48   19   45   39   32   11   50   10   49   19   19   24   36   30\n",
      "    13   21   12   18]]\n"
     ]
    }
   ],
   "source": [
    "unique_elements, counts_elements = np.unique(y_train_10000, return_counts=True)\n",
    "print(\"각 클래스 빈도수:\")\n",
    "print(np.asarray((unique_elements, counts_elements)))"
   ]
  },
  {
   "cell_type": "code",
   "execution_count": 10,
   "id": "coordinated-compensation",
   "metadata": {},
   "outputs": [
    {
     "name": "stdout",
     "output_type": "stream",
     "text": [
      "Downloading data from https://storage.googleapis.com/tensorflow/tf-keras-datasets/reuters_word_index.json\n",
      "557056/550378 [==============================] - 0s 0us/step\n",
      "=3\n"
     ]
    }
   ],
   "source": [
    "word_index = reuters.get_word_index(path=\"reuters_word_index.json\")\n",
    "print('=3')"
   ]
  },
  {
   "cell_type": "code",
   "execution_count": 11,
   "id": "suburban-strand",
   "metadata": {},
   "outputs": [
    {
     "data": {
      "text/plain": [
       "1"
      ]
     },
     "execution_count": 11,
     "metadata": {},
     "output_type": "execute_result"
    }
   ],
   "source": [
    "word_index['the']"
   ]
  },
  {
   "cell_type": "code",
   "execution_count": 12,
   "id": "thermal-missouri",
   "metadata": {},
   "outputs": [
    {
     "data": {
      "text/plain": [
       "13"
      ]
     },
     "execution_count": 12,
     "metadata": {},
     "output_type": "execute_result"
    }
   ],
   "source": [
    "word_index['it']"
   ]
  },
  {
   "cell_type": "code",
   "execution_count": 13,
   "id": "ambient-tuning",
   "metadata": {},
   "outputs": [
    {
     "name": "stdout",
     "output_type": "stream",
     "text": [
      "=3\n"
     ]
    }
   ],
   "source": [
    "index_to_word = { index+3 : word for word, index in word_index.items() }\n",
    "print('=3')"
   ]
  },
  {
   "cell_type": "code",
   "execution_count": 14,
   "id": "adult-baltimore",
   "metadata": {},
   "outputs": [
    {
     "name": "stdout",
     "output_type": "stream",
     "text": [
      "the\n",
      "it\n"
     ]
    }
   ],
   "source": [
    "print(index_to_word[4])\n",
    "print(index_to_word[16])"
   ]
  },
  {
   "cell_type": "markdown",
   "id": "corrected-print",
   "metadata": {},
   "source": [
    "* word_index에 입력으로 했을 때, 얻는 숫자보다는 +3을 한 숫자가 원래 고유한 숫자입니다. 이건 로이터 뉴스 데이터가 정의한 일종의 약속입니다."
   ]
  },
  {
   "cell_type": "code",
   "execution_count": 15,
   "id": "perceived-container",
   "metadata": {},
   "outputs": [
    {
     "name": "stdout",
     "output_type": "stream",
     "text": [
      "=3\n"
     ]
    }
   ],
   "source": [
    "# index_to_word에 숫자 0은 <pad>, 숫자 1은 <sos>, 숫자 2는 <unk>를 넣어줍니다.\n",
    "for index, token in enumerate((\"<pad>\", \"<sos>\", \"<unk>\")):\n",
    "  index_to_word[index]=token\n",
    "print('=3')"
   ]
  },
  {
   "cell_type": "markdown",
   "id": "hollow-halloween",
   "metadata": {},
   "source": [
    "### 뉴스 복원"
   ]
  },
  {
   "cell_type": "code",
   "execution_count": 16,
   "id": "national-paragraph",
   "metadata": {},
   "outputs": [
    {
     "name": "stdout",
     "output_type": "stream",
     "text": [
      "<sos> <unk> <unk> said as a result of its december acquisition of space co it expects earnings per share in 1987 of 1 15 to 1 30 dlrs per share up from 70 cts in 1986 the company said pretax net should rise to nine to 10 mln dlrs from six mln dlrs in 1986 and rental operation revenues to 19 to 22 mln dlrs from 12 5 mln dlrs it said cash flow per share this year should be 2 50 to three dlrs reuter 3\n"
     ]
    }
   ],
   "source": [
    "print(' '.join([index_to_word[index] for index in x_train_10000[0]]))"
   ]
  },
  {
   "cell_type": "code",
   "execution_count": 17,
   "id": "running-proposal",
   "metadata": {},
   "outputs": [
    {
     "name": "stdout",
     "output_type": "stream",
     "text": [
      "the transaction is expected to be completed\n"
     ]
    }
   ],
   "source": [
    "sentence = [4, 587, 23, 133, 6, 30, 515]\n",
    "\n",
    "print(' '.join([index_to_word[index] for index in sentence]))"
   ]
  },
  {
   "cell_type": "code",
   "execution_count": 18,
   "id": "palestinian-attachment",
   "metadata": {},
   "outputs": [
    {
     "name": "stdout",
     "output_type": "stream",
     "text": [
      "8982\n"
     ]
    }
   ],
   "source": [
    "decoded = []\n",
    "for i in range(len(x_train_10000)):\n",
    "    t = ' '.join([index_to_word[index] for index in x_train_10000[i]])\n",
    "    decoded.append(t)\n",
    "\n",
    "x_train_10000 = decoded\n",
    "print(len(x_train_10000))"
   ]
  },
  {
   "cell_type": "code",
   "execution_count": 19,
   "id": "stuffed-colombia",
   "metadata": {},
   "outputs": [
    {
     "name": "stdout",
     "output_type": "stream",
     "text": [
      "2246\n"
     ]
    }
   ],
   "source": [
    "decoded = []\n",
    "for i in range(len(x_test_10000)):\n",
    "    t = ' '.join([index_to_word[index] for index in x_test_10000[i]])\n",
    "    decoded.append(t)\n",
    "\n",
    "x_test_10000 = decoded\n",
    "print(len(x_test_10000))"
   ]
  },
  {
   "cell_type": "code",
   "execution_count": 20,
   "id": "smoking-valuation",
   "metadata": {},
   "outputs": [
    {
     "data": {
      "text/plain": [
       "['<sos> <unk> <unk> said as a result of its december acquisition of space co it expects earnings per share in 1987 of 1 15 to 1 30 dlrs per share up from 70 cts in 1986 the company said pretax net should rise to nine to 10 mln dlrs from six mln dlrs in 1986 and rental operation revenues to 19 to 22 mln dlrs from 12 5 mln dlrs it said cash flow per share this year should be 2 50 to three dlrs reuter 3',\n",
       " '<sos> generale de banque sa lt <unk> br and lt heller overseas corp of chicago have each taken 50 pct stakes in <unk> company sa <unk> factors generale de banque said in a statement it gave no financial details of the transaction sa <unk> <unk> turnover in 1986 was 17 5 billion belgian francs reuter 3',\n",
       " '<sos> shr 3 28 dlrs vs 22 cts shr diluted 2 99 dlrs vs 22 cts net 46 0 mln vs 3 328 000 avg shrs 14 0 mln vs 15 2 mln year shr 5 41 dlrs vs 1 56 dlrs shr diluted 4 94 dlrs vs 1 50 dlrs net 78 2 mln vs 25 9 mln avg shrs 14 5 mln vs 15 1 mln note earnings per share reflect the two for one split effective january 6 1987 per share amounts are calculated after preferred stock dividends loss continuing operations for the qtr 1986 includes gains of sale of investments in <unk> corp of 14 mln dlrs and associated companies of 4 189 000 less writedowns of investments in national <unk> inc of 11 8 mln and <unk> corp of 15 6 mln reuter 3',\n",
       " \"<sos> the farmers home administration the u s agriculture department's farm lending arm could lose about seven billion dlrs in outstanding principal on its severely <unk> borrowers or about one fourth of its farm loan portfolio the general accounting office gao said in remarks prepared for delivery to the senate agriculture committee brian crowley senior associate director of gao also said that a preliminary analysis of proposed changes in <unk> financial eligibility standards indicated as many as one half of <unk> borrowers who received new loans from the agency in 1986 would be <unk> under the proposed system the agency has proposed evaluating <unk> credit using a variety of financial ratios instead of relying solely on <unk> ability senate agriculture committee chairman patrick leahy d vt <unk> the proposed eligibility changes telling <unk> administrator <unk> clark at a hearing that they would mark a dramatic shift in the agency's purpose away from being farmers' lender of last resort toward becoming a big city bank but clark defended the new regulations saying the agency had a responsibility to <unk> its 70 billion dlr loan portfolio in a <unk> yet <unk> manner crowley of gao <unk> <unk> arm said the proposed credit <unk> system attempted to ensure that <unk> would make loans only to borrowers who had a reasonable change of repaying their debt reuter 3\",\n",
       " '<sos> seton co said its board has received a proposal from chairman and chief executive officer philip d <unk> to acquire seton for 15 75 dlrs per share in cash seton said the acquisition bid is subject to <unk> arranging the necessary financing it said he intends to ask other members of senior management to participate the company said <unk> owns 30 pct of seton stock and other management members another 7 5 pct seton said it has formed an independent board committee to consider the offer and has deferred the annual meeting it had scheduled for march 31 reuter 3']"
      ]
     },
     "execution_count": 20,
     "metadata": {},
     "output_type": "execute_result"
    }
   ],
   "source": [
    "x_train_10000[:5]"
   ]
  },
  {
   "cell_type": "code",
   "execution_count": 21,
   "id": "democratic-conjunction",
   "metadata": {},
   "outputs": [
    {
     "data": {
      "text/plain": [
       "['<sos> the great atlantic and pacific tea co said its three year 345 mln dlr capital program will be be substantially increased to <unk> growth and expansion plans for <unk> inc and <unk> inc over the next two years a and p said the acquisition of <unk> in august 1986 and <unk> in december helped us achieve better than expected results in the fourth quarter ended february 28 its net income from continuing operations jumped 52 6 pct to 20 7 mln dlrs or 55 cts a share in the latest quarter as sales increased 48 3 pct to 1 58 billion dlrs a and p gave no details on the expanded capital program but it did say it completed the first year of the program during 1986 a and p is 52 4 pct owned by lt <unk> <unk> of west germany reuter 3',\n",
       " \"<sos> philippine sugar production in the 1987 88 crop year ending august has been set at 1 6 mln tonnes up from a provisional 1 3 mln tonnes this year sugar regulatory administration <unk> chairman <unk> yulo said yulo told reuters a survey during the current milling season which ends next month showed the 1986 87 estimate would almost certainly be met he said at least 1 2 mln tonnes of the 1987 88 crop would be earmarked for domestic consumption yulo said about 130 000 tonnes would be set aside for the u s sugar quota 150 000 tonnes for strategic reserves and 50 000 tonnes would be sold on the world market he said if the government approved a long standing <unk> recommendation to manufacture ethanol the project would take up another 150 000 tonnes slightly raising the target the government for its own reasons has been delaying approval of the project but we expect it to come through by july yulo said ethanol could make up five pct of gasoline cutting the oil import bill by about 300 mln pesos yulo said three major philippine <unk> were ready to start manufacturing ethanol if the project was approved the ethanol project would result in employment for about 100 000 people sharply reducing those thrown out of work by depressed world sugar prices and a <unk> domestic industry production quotas set for the first time in 1987 88 had been submitted to president corazon aquino i think the president would rather wait <unk> the new congress <unk> after the may elections he said but there is really no need for such quotas we are right now producing just slightly over our own consumption level the producers have never enjoyed such high prices yulo said adding sugar was currently selling locally for 320 pesos per <unk> up from 190 pesos last august yulo said prices were driven up because of speculation following the <unk> bid to control production we are no longer concerned so much with the world market he said adding producers in the <unk> region had learned from their <unk> and diversified into corn and <unk> farming and <unk> production he said diversification into products other than ethanol was also possible within the sugar industry the <unk> long ago <unk> their <unk> yulo said they have 300 sugar mills compared with our 41 but they <unk> many of them and diversified production we want to call this a <unk> <unk> instead of the sugar industry he said sugarcane could be fed to pigs and livestock used for <unk> <unk> or used in room <unk> when you cut sugarcane you don't even have to produce sugar he said yulo said the philippines was lobbying for a renewal of the international sugar agreement which expired in 1984 as a major sugar producer we are urging them to write a new agreement which would revive world prices yulo said if there is no agreement world prices will always be depressed particularly because the european community is <unk> its producers and dumping sugar on the markets he said current world prices holding steady at about 7 60 cents per pound were <unk> for the philippines where production costs ranged from 12 to 14 cents a pound if the price holds steady for a while at 7 60 cents i expect the level to rise to about 11 cents a pound by the end of this year he said yulo said economists forecast a bullish sugar market by 1990 with world consumption <unk> production he said sugar markets were holding up despite <unk> from artificial sweeteners and high fructose corn syrup but we are not happy with the reagan administration he said since <unk> we have been regular suppliers of sugar to the u s in 1982 when they restored the quota system they cut <unk> in half without any justification manila was <unk> watching washington's moves to cut domestic support prices to 12 cents a pound from 18 cents the u s agriculture department last december slashed its 12 month 1987 sugar import quota from the philippines to 143 780 short tons from 231 660 short tons in 1986 yulo said despite next year's increased production target some philippine mills were expected to shut down at least four of the 41 mills were not working during the 1986 87 season he said we expect two or three more to follow suit during the next season reuter 3\",\n",
       " \"<sos> the agriculture department's widening of louisiana gulf differentials will affect county posted prices for number two yellow corn in ten states a usda official said all counties in iowa will be affected as will counties which use the gulf to price corn in illinois indiana tennessee kentucky missouri mississippi arkansas alabama and louisiana said <unk> <unk> deputy director of commodity operations division for the usda usda last night notified the grain industry that effective immediately all gulf differentials used to price interior corn would be widened on a sliding scale basis of four to eight cts depending on what the differential is usda's action was taken to lower excessively high posted county prices for corn caused by high gulf prices we've been following this louisiana gulf situation for a month and we don't think it's going to get back in line in any nearby time <unk> said <unk> said usda will probably narrow back the gulf differentials when and if gulf prices <unk> if we're off the mark now because we're too high wouldn't we be as much off the mark if we're too low he said while forecasting more adjustments if gulf prices fall <unk> said no other changes in usda's price system are being planned right now we don't tinker we don't make changes <unk> and we don't make changes often he said reuter 3\",\n",
       " '<sos> <unk> <unk> oil and gas partnership said it completed the sale of interests in two major oil and gas fields to lt energy assets international corp for 21 mln dlrs the company said it sold about one half of its 50 pct interest in the oak hill and north <unk> fields its two largest producing properties it said it used about 20 mln dlrs of the proceeds to <unk> principal on its senior secured notes semi annual principal payments on the remaining 40 mln dlrs of notes have been satisfied until december 1988 as a result it said the company said the note agreements were amended to reflect an easing of some financial covenants and an increase of interest to 13 5 pct from 13 0 pct until december 1990 it said the <unk> exercise price for 1 125 000 warrants was also reduced to 50 cts from 1 50 dlrs the company said energy assets agreed to share the costs of increasing production at the oak hill field reuter 3',\n",
       " '<sos> strong south <unk> winds were keeping many vessels trapped in the ice off the finnish and swedish coasts in one of the worst icy periods in the baltic for many years the finnish board of navigation said in finland and sweden up to 50 vessels were reported to be stuck in the ice and even the largest of the <unk> <unk> were having difficulties in breaking through to the <unk> ships <unk> officials said however icy conditions in the southern baltic at the soviet oil ports of <unk> and <unk> had eased they said weather officials in neighbouring sweden said the icy conditions in the baltic were the worst for 30 years with ships fighting a losing battle to keep moving in the coastal stretches of the gulf of <unk> which <unk> finland and sweden the ice is up to one <unk> thick with <unk> and <unk> packing it into almost <unk> walls three metres high swedish <unk> officials said weather forecasts say winds may ease during the weekend but a further drop in temperature could bring shipping to a standstill the officials said reuter 3']"
      ]
     },
     "execution_count": 21,
     "metadata": {},
     "output_type": "execute_result"
    }
   ],
   "source": [
    "x_test_10000[:5]"
   ]
  },
  {
   "cell_type": "markdown",
   "id": "excited-juice",
   "metadata": {},
   "source": [
    "* 데이터 벡터화"
   ]
  },
  {
   "cell_type": "code",
   "execution_count": 22,
   "id": "traditional-parks",
   "metadata": {},
   "outputs": [],
   "source": [
    "def dtm(x_train, x_test):\n",
    "    dtmvector = CountVectorizer()\n",
    "    tfidf_transformer = TfidfTransformer()\n",
    "    \n",
    "    x_train_dtm = dtmvector.fit_transform(x_train)\n",
    "    x_train_tfidfv = tfidf_transformer.fit_transform(x_train_dtm)\n",
    "    \n",
    "    x_test_dtm = dtmvector.transform(x_test)\n",
    "    x_test_tfidfv = tfidf_transformer.transform(x_test_dtm)\n",
    "    \n",
    "    print('shape of x_train_dtm: ', x_train_dtm.shape)\n",
    "    print('shape of x_train_tfidfv: ', x_train_tfidfv.shape)\n",
    "    print('shape of x_test_dtm: ', x_test_dtm.shape)\n",
    "    print('shape of x_test_tfidfv: ', x_test_tfidfv.shape)\n",
    "    \n",
    "    return x_train_tfidfv, x_test_tfidfv"
   ]
  },
  {
   "cell_type": "code",
   "execution_count": 23,
   "id": "conceptual-browser",
   "metadata": {},
   "outputs": [
    {
     "name": "stdout",
     "output_type": "stream",
     "text": [
      "shape of x_train_dtm:  (8982, 9670)\n",
      "shape of x_train_tfidfv:  (8982, 9670)\n",
      "shape of x_test_dtm:  (2246, 9670)\n",
      "shape of x_test_tfidfv:  (2246, 9670)\n"
     ]
    }
   ],
   "source": [
    "tfidfv_train_10000, tfidfv_test_10000 = dtm(x_train_10000, x_test_10000)"
   ]
  },
  {
   "cell_type": "markdown",
   "id": "necessary-dividend",
   "metadata": {},
   "source": [
    "* 각 모델별 예측값을 출력하는 함수를 만들겠습니다."
   ]
  },
  {
   "cell_type": "code",
   "execution_count": 24,
   "id": "suburban-apollo",
   "metadata": {},
   "outputs": [],
   "source": [
    "def model_predict(tfidfv_train, y_train, tfidfv_test, y_test):\n",
    "    \n",
    "    '''MultinomialNB''' \n",
    "    nb = MultinomialNB()\n",
    "    nb.fit(tfidfv_train, y_train)\n",
    "    \n",
    "    nb_predicted = nb.predict(tfidfv_test) #테스트 데이터에 대한 예측\n",
    "    print(\"MultinomialNB 정확도:\", accuracy_score(y_test, nb_predicted)) #예측값과 실제값 비교\n",
    "    print(\"MultinomialNB f1:\", f1_score(y_test, nb_predicted, average=\"micro\"))\n",
    "    print(\"--------------------------------------------------------\")\n",
    "    '''ComplementNB'''\n",
    "    cb = ComplementNB()\n",
    "    cb.fit(tfidfv_train, y_train)\n",
    "    \n",
    "    cb_predicted = cb.predict(tfidfv_test) #테스트 데이터에 대한 예측\n",
    "    print(\"ComplementNB 정확도:\", accuracy_score(y_test, cb_predicted)) #예측값과 실제값 비교\n",
    "    print(\"ComplementNB f1:\", f1_score(y_test, cb_predicted, average=\"micro\"))\n",
    "    print(\"--------------------------------------------------------\")\n",
    "    '''LogisticRegression'''\n",
    "    lr = LogisticRegression(C=10000, penalty='l2')\n",
    "    lr.fit(tfidfv_train, y_train)\n",
    "    \n",
    "    lr_predicted = lr.predict(tfidfv_test) #테스트 데이터에 대한 예측\n",
    "    print(\"LogisticRegression 정확도:\", accuracy_score(y_test, lr_predicted)) #예측값과 실제값 비교\n",
    "    print(\"LogisticRegression f1:\", f1_score(y_test, cb_predicted, average=\"micro\"))\n",
    "    print(\"--------------------------------------------------------\")\n",
    "    '''LinearSVC'''\n",
    "    lsvc = LinearSVC(C=1000, penalty='l1', max_iter=500, dual=False)\n",
    "    lsvc.fit(tfidfv_train, y_train)\n",
    "    \n",
    "    lsvc_predicted = lsvc.predict(tfidfv_test) #테스트 데이터에 대한 예측\n",
    "    print(\"LinearSVC 정확도:\", accuracy_score(y_test, lsvc_predicted)) #예측값과 실제값 비교\n",
    "    print(\"LinearSVC f1:\", f1_score(y_test, cb_predicted, average=\"micro\"))\n",
    "    print(\"--------------------------------------------------------\")\n",
    "    '''DecisionTreeClassifier'''\n",
    "    tree = DecisionTreeClassifier(max_depth=10, random_state=0)\n",
    "    tree.fit(tfidfv_train, y_train)\n",
    "\n",
    "    tree_predicted = tree.predict(tfidfv_test) #테스트 데이터에 대한 예측\n",
    "    print(\"DecisionTreeClassifier 정확도:\", accuracy_score(y_test, tree_predicted)) #예측값과 실제값 비교\n",
    "    print(\"DecisionTreeClassifier f1:\", f1_score(y_test, cb_predicted, average=\"micro\"))\n",
    "    print(\"--------------------------------------------------------\")\n",
    "    '''RandomForestClassifier'''\n",
    "    forest = RandomForestClassifier(n_estimators=5, random_state=0)\n",
    "    forest.fit(tfidfv_train, y_train)\n",
    "\n",
    "    forest_predicted = forest.predict(tfidfv_test) #테스트 데이터에 대한 예측\n",
    "    print(\"RandomForestClassifier 정확도:\", accuracy_score(y_test, forest_predicted)) #예측값과 실제값 비교\n",
    "    print(\"RandomForestClassifier f1:\", f1_score(y_test, cb_predicted, average=\"micro\"))\n",
    "    print(\"--------------------------------------------------------\")\n",
    "    '''GradientBoostingClassifier'''\n",
    "    grbt = GradientBoostingClassifier(random_state=0) # verbose=3\n",
    "    grbt.fit(tfidfv_train, y_train)\n",
    "\n",
    "    grbt_predicted = grbt.predict(tfidfv_test) #테스트 데이터에 대한 예측\n",
    "    print(\"GradientBoostingClassifier 정확도:\", accuracy_score(y_test, grbt_predicted)) #예측값과 실제값 비교 \n",
    "    print(\"GradientBoostingClassifier f1:\", f1_score(y_test, cb_predicted, average=\"micro\"))\n",
    "    print(\"--------------------------------------------------------\")\n",
    "    '''VotingClassifier'''\n",
    "    voting_classifier = VotingClassifier(estimators=[\n",
    "        ('lr', LogisticRegression(C=10000, penalty='l2')),\n",
    "        ('cb', ComplementNB()),\n",
    "        ('grbt', GradientBoostingClassifier(random_state=0))\n",
    "        ], voting='soft', n_jobs=-1)\n",
    "    voting_classifier.fit(tfidfv_train, y_train)\n",
    "    \n",
    "    voting_classifier_predicted = voting_classifier.predict(tfidfv_test) #테스트 데이터에 대한 예측\n",
    "    print(\"VotingClassifier 정확도:\", accuracy_score(y_test, voting_classifier_predicted)) #예측값과 실제값 비교\n",
    "    print(\"VotingClassifier f1:\", f1_score(y_test, cb_predicted, average=\"micro\"))\n",
    "    \n",
    "    return {'MultinomialNB': nb, 'ComplementNB': cb, 'LogisticRegression': lr,   \n",
    "             'LinearSVC': lsvc, 'DecisionTreeClassifier': tree, 'RandomForestClassifier': forest,\n",
    "             'GradientBoostingClassifier': grbt, 'VotingClassifier': voting_classifier}"
   ]
  },
  {
   "cell_type": "code",
   "execution_count": 25,
   "id": "frequent-faculty",
   "metadata": {},
   "outputs": [
    {
     "name": "stdout",
     "output_type": "stream",
     "text": [
      "MultinomialNB 정확도: 0.6567230632235085\n",
      "MultinomialNB f1: 0.6567230632235085\n",
      "--------------------------------------------------------\n",
      "ComplementNB 정확도: 0.7707034728406055\n",
      "ComplementNB f1: 0.7707034728406055\n",
      "--------------------------------------------------------\n",
      "LogisticRegression 정확도: 0.8076580587711487\n",
      "LogisticRegression f1: 0.7707034728406055\n",
      "--------------------------------------------------------\n",
      "LinearSVC 정확도: 0.7756010685663401\n",
      "LinearSVC f1: 0.7707034728406055\n",
      "--------------------------------------------------------\n",
      "DecisionTreeClassifier 정확도: 0.6202137132680321\n",
      "DecisionTreeClassifier f1: 0.7707034728406055\n",
      "--------------------------------------------------------\n",
      "RandomForestClassifier 정확도: 0.674087266251113\n",
      "RandomForestClassifier f1: 0.7707034728406055\n",
      "--------------------------------------------------------\n",
      "GradientBoostingClassifier 정확도: 0.7666963490650045\n",
      "GradientBoostingClassifier f1: 0.7707034728406055\n",
      "--------------------------------------------------------\n",
      "VotingClassifier 정확도: 0.8116651825467498\n",
      "VotingClassifier f1: 0.7707034728406055\n"
     ]
    }
   ],
   "source": [
    "model_dict_10000 = model_predict(tfidfv_train_10000, y_train_10000, tfidfv_test_10000, y_test_10000)"
   ]
  },
  {
   "cell_type": "code",
   "execution_count": 26,
   "id": "labeled-university",
   "metadata": {},
   "outputs": [
    {
     "data": {
      "text/plain": [
       "'<sos> <unk> <unk> oil and gas partnership said it completed the sale of interests in two major oil and gas fields to lt energy assets international corp for 21 mln dlrs the company said it sold about one half of its 50 pct interest in the oak hill and north <unk> fields its two largest producing properties it said it used about 20 mln dlrs of the proceeds to <unk> principal on its senior secured notes semi annual principal payments on the remaining 40 mln dlrs of notes have been satisfied until december 1988 as a result it said the company said the note agreements were amended to reflect an easing of some financial covenants and an increase of interest to 13 5 pct from 13 0 pct until december 1990 it said the <unk> exercise price for 1 125 000 warrants was also reduced to 50 cts from 1 50 dlrs the company said energy assets agreed to share the costs of increasing production at the oak hill field reuter 3'"
      ]
     },
     "execution_count": 26,
     "metadata": {},
     "output_type": "execute_result"
    }
   ],
   "source": [
    "x_test_10000[3]"
   ]
  },
  {
   "cell_type": "code",
   "execution_count": 27,
   "id": "possible-tackle",
   "metadata": {
    "scrolled": false
   },
   "outputs": [
    {
     "data": {
      "text/plain": [
       "4"
      ]
     },
     "execution_count": 27,
     "metadata": {},
     "output_type": "execute_result"
    }
   ],
   "source": [
    "y_test_10000[3]"
   ]
  },
  {
   "cell_type": "markdown",
   "id": "economic-ceramic",
   "metadata": {},
   "source": [
    "* 시각화"
   ]
  },
  {
   "cell_type": "code",
   "execution_count": 28,
   "id": "ruled-conjunction",
   "metadata": {},
   "outputs": [
    {
     "data": {
      "image/png": "[encoded data removed]",
      "text/plain": [
       "<Figure size 432x288 with 1 Axes>"
      ]
     },
     "metadata": {
      "needs_background": "light"
     },
     "output_type": "display_data"
    },
    {
     "data": {
      "image/png": "[encoded data removed]",
      "text/plain": [
       "<Figure size 792x360 with 1 Axes>"
      ]
     },
     "metadata": {
      "needs_background": "light"
     },
     "output_type": "display_data"
    },
    {
     "data": {
      "image/png": "[encoded data removed]",
      "text/plain": [
       "<Figure size 792x360 with 1 Axes>"
      ]
     },
     "metadata": {
      "needs_background": "light"
     },
     "output_type": "display_data"
    },
    {
     "data": {
      "image/png": "[encoded data removed]",
      "text/plain": [
       "<Figure size 792x360 with 1 Axes>"
      ]
     },
     "metadata": {
      "needs_background": "light"
     },
     "output_type": "display_data"
    },
    {
     "data": {
      "image/png": "[encoded data removed]",
      "text/plain": [
       "<Figure size 792x360 with 1 Axes>"
      ]
     },
     "metadata": {
      "needs_background": "light"
     },
     "output_type": "display_data"
    },
    {
     "data": {
      "image/png": "[encoded data removed]",
      "text/plain": [
       "<Figure size 792x360 with 1 Axes>"
      ]
     },
     "metadata": {
      "needs_background": "light"
     },
     "output_type": "display_data"
    },
    {
     "data": {
      "image/png": "[encoded data removed]",
      "text/plain": [
       "<Figure size 792x360 with 1 Axes>"
      ]
     },
     "metadata": {
      "needs_background": "light"
     },
     "output_type": "display_data"
    }
   ],
   "source": [
    "for name, model in model_dict_10000.items():\n",
    "    if name == 'LinearSVC': # LinearSVC는 predict_proba를 지원하지 않습니다\n",
    "        continue\n",
    "    probability_3 = model.predict_proba(tfidfv_test_10000[3])[0]\n",
    "    plt.title(name)\n",
    "    plt.rcParams[\"figure.figsize\"] = (11,5)\n",
    "    plt.bar(model.classes_, probability_3)\n",
    "    plt.xlim(-1, 21)\n",
    "    plt.xticks(model.classes_)\n",
    "    plt.xlabel(\"Class\")\n",
    "    plt.ylabel(\"Probability\")\n",
    "    plt.show()"
   ]
  },
  {
   "cell_type": "code",
   "execution_count": 29,
   "id": "exciting-index",
   "metadata": {},
   "outputs": [
    {
     "name": "stdout",
     "output_type": "stream",
     "text": [
      "MultinomialNB\n",
      "              precision    recall  f1-score   support\n",
      "\n",
      "           0       0.00      0.00      0.00        12\n",
      "           1       0.62      0.69      0.65       105\n",
      "           2       0.00      0.00      0.00        20\n",
      "           3       0.81      0.90      0.85       813\n",
      "           4       0.51      0.96      0.67       474\n",
      "           5       0.00      0.00      0.00         5\n",
      "           6       0.00      0.00      0.00        14\n",
      "           7       0.00      0.00      0.00         3\n",
      "           8       0.00      0.00      0.00        38\n",
      "           9       1.00      0.08      0.15        25\n",
      "          10       0.00      0.00      0.00        30\n",
      "          11       0.66      0.63      0.64        83\n",
      "          12       0.00      0.00      0.00        13\n",
      "          13       1.00      0.03      0.05        37\n",
      "          14       0.00      0.00      0.00         2\n",
      "          15       0.00      0.00      0.00         9\n",
      "          16       0.69      0.56      0.61        99\n",
      "          17       0.00      0.00      0.00        12\n",
      "          18       0.00      0.00      0.00        20\n",
      "          19       0.60      0.78      0.68       133\n",
      "          20       1.00      0.04      0.08        70\n",
      "          21       0.00      0.00      0.00        27\n",
      "          22       0.00      0.00      0.00         7\n",
      "          23       0.00      0.00      0.00        12\n",
      "          24       0.00      0.00      0.00        19\n",
      "          25       1.00      0.03      0.06        31\n",
      "          26       0.00      0.00      0.00         8\n",
      "          27       0.00      0.00      0.00         4\n",
      "          28       0.00      0.00      0.00        10\n",
      "          29       0.00      0.00      0.00         4\n",
      "          30       0.00      0.00      0.00        12\n",
      "          31       0.00      0.00      0.00        13\n",
      "          32       0.00      0.00      0.00        10\n",
      "          33       0.00      0.00      0.00         5\n",
      "          34       0.00      0.00      0.00         7\n",
      "          35       0.00      0.00      0.00         6\n",
      "          36       0.00      0.00      0.00        11\n",
      "          37       0.00      0.00      0.00         2\n",
      "          38       0.00      0.00      0.00         3\n",
      "          39       0.00      0.00      0.00         5\n",
      "          40       0.00      0.00      0.00        10\n",
      "          41       0.00      0.00      0.00         8\n",
      "          42       0.00      0.00      0.00         3\n",
      "          43       0.00      0.00      0.00         6\n",
      "          44       0.00      0.00      0.00         5\n",
      "          45       0.00      0.00      0.00         1\n",
      "\n",
      "    accuracy                           0.66      2246\n",
      "   macro avg       0.17      0.10      0.10      2246\n",
      "weighted avg       0.59      0.66      0.58      2246\n",
      "\n",
      "------------------------------------------------------\n",
      "ComplementNB\n",
      "              precision    recall  f1-score   support\n",
      "\n",
      "           0       0.89      0.67      0.76        12\n",
      "           1       0.64      0.88      0.74       105\n",
      "           2       0.91      0.50      0.65        20\n",
      "           3       0.91      0.89      0.90       813\n",
      "           4       0.75      0.92      0.83       474\n",
      "           5       0.00      0.00      0.00         5\n",
      "           6       0.93      0.93      0.93        14\n",
      "           7       1.00      0.67      0.80         3\n",
      "           8       0.50      0.13      0.21        38\n",
      "           9       0.82      0.92      0.87        25\n",
      "          10       0.96      0.80      0.87        30\n",
      "          11       0.55      0.73      0.63        83\n",
      "          12       0.00      0.00      0.00        13\n",
      "          13       0.58      0.59      0.59        37\n",
      "          14       0.00      0.00      0.00         2\n",
      "          15       0.50      0.11      0.18         9\n",
      "          16       0.67      0.79      0.73        99\n",
      "          17       0.00      0.00      0.00        12\n",
      "          18       0.55      0.60      0.57        20\n",
      "          19       0.55      0.80      0.65       133\n",
      "          20       0.75      0.30      0.43        70\n",
      "          21       0.74      0.63      0.68        27\n",
      "          22       0.00      0.00      0.00         7\n",
      "          23       0.75      0.50      0.60        12\n",
      "          24       0.50      0.11      0.17        19\n",
      "          25       0.85      0.74      0.79        31\n",
      "          26       0.88      0.88      0.88         8\n",
      "          27       1.00      0.25      0.40         4\n",
      "          28       0.25      0.10      0.14        10\n",
      "          29       0.00      0.00      0.00         4\n",
      "          30       0.00      0.00      0.00        12\n",
      "          31       1.00      0.31      0.47        13\n",
      "          32       1.00      0.70      0.82        10\n",
      "          33       1.00      0.80      0.89         5\n",
      "          34       1.00      0.71      0.83         7\n",
      "          35       1.00      0.17      0.29         6\n",
      "          36       0.00      0.00      0.00        11\n",
      "          37       0.00      0.00      0.00         2\n",
      "          38       1.00      0.33      0.50         3\n",
      "          39       1.00      0.20      0.33         5\n",
      "          40       0.00      0.00      0.00        10\n",
      "          41       0.67      0.25      0.36         8\n",
      "          42       1.00      0.33      0.50         3\n",
      "          43       1.00      0.17      0.29         6\n",
      "          44       0.67      0.80      0.73         5\n",
      "          45       1.00      1.00      1.00         1\n",
      "\n",
      "    accuracy                           0.77      2246\n",
      "   macro avg       0.63      0.44      0.48      2246\n",
      "weighted avg       0.75      0.77      0.75      2246\n",
      "\n",
      "------------------------------------------------------\n",
      "LogisticRegression\n",
      "              precision    recall  f1-score   support\n",
      "\n",
      "           0       0.89      0.67      0.76        12\n",
      "           1       0.75      0.78      0.76       105\n",
      "           2       0.74      0.85      0.79        20\n",
      "           3       0.92      0.93      0.93       813\n",
      "           4       0.81      0.87      0.84       474\n",
      "           5       0.00      0.00      0.00         5\n",
      "           6       0.92      0.86      0.89        14\n",
      "           7       1.00      0.67      0.80         3\n",
      "           8       0.68      0.71      0.69        38\n",
      "           9       0.81      0.84      0.82        25\n",
      "          10       0.93      0.87      0.90        30\n",
      "          11       0.64      0.73      0.68        83\n",
      "          12       0.57      0.31      0.40        13\n",
      "          13       0.59      0.59      0.59        37\n",
      "          14       0.50      0.50      0.50         2\n",
      "          15       0.67      0.44      0.53         9\n",
      "          16       0.68      0.75      0.71        99\n",
      "          17       0.75      0.75      0.75        12\n",
      "          18       0.86      0.60      0.71        20\n",
      "          19       0.68      0.68      0.68       133\n",
      "          20       0.62      0.49      0.54        70\n",
      "          21       0.63      0.81      0.71        27\n",
      "          22       0.00      0.00      0.00         7\n",
      "          23       0.64      0.58      0.61        12\n",
      "          24       0.62      0.53      0.57        19\n",
      "          25       0.95      0.68      0.79        31\n",
      "          26       1.00      0.88      0.93         8\n",
      "          27       1.00      0.25      0.40         4\n",
      "          28       0.57      0.40      0.47        10\n",
      "          29       0.57      1.00      0.73         4\n",
      "          30       0.88      0.58      0.70        12\n",
      "          31       0.78      0.54      0.64        13\n",
      "          32       1.00      0.80      0.89        10\n",
      "          33       0.80      0.80      0.80         5\n",
      "          34       0.75      0.43      0.55         7\n",
      "          35       1.00      0.33      0.50         6\n",
      "          36       0.36      0.36      0.36        11\n",
      "          37       0.50      0.50      0.50         2\n",
      "          38       0.50      0.33      0.40         3\n",
      "          39       0.00      0.00      0.00         5\n",
      "          40       0.75      0.30      0.43        10\n",
      "          41       0.83      0.62      0.71         8\n",
      "          42       1.00      1.00      1.00         3\n",
      "          43       0.75      1.00      0.86         6\n",
      "          44       0.67      0.80      0.73         5\n",
      "          45       1.00      1.00      1.00         1\n",
      "\n",
      "    accuracy                           0.81      2246\n",
      "   macro avg       0.71      0.62      0.64      2246\n",
      "weighted avg       0.80      0.81      0.80      2246\n",
      "\n",
      "------------------------------------------------------\n",
      "LinearSVC\n",
      "              precision    recall  f1-score   support\n",
      "\n",
      "           0       0.80      0.67      0.73        12\n",
      "           1       0.69      0.67      0.68       105\n",
      "           2       0.52      0.60      0.56        20\n",
      "           3       0.89      0.91      0.90       813\n",
      "           4       0.81      0.84      0.82       474\n",
      "           5       0.25      0.20      0.22         5\n",
      "           6       0.81      0.93      0.87        14\n",
      "           7       1.00      0.33      0.50         3\n",
      "           8       0.61      0.61      0.61        38\n",
      "           9       0.78      0.84      0.81        25\n",
      "          10       0.85      0.73      0.79        30\n",
      "          11       0.67      0.72      0.70        83\n",
      "          12       0.38      0.46      0.41        13\n",
      "          13       0.54      0.59      0.56        37\n",
      "          14       0.33      0.50      0.40         2\n",
      "          15       0.71      0.56      0.63         9\n",
      "          16       0.62      0.71      0.66        99\n",
      "          17       0.67      0.17      0.27        12\n",
      "          18       0.76      0.65      0.70        20\n",
      "          19       0.65      0.68      0.67       133\n",
      "          20       0.63      0.46      0.53        70\n",
      "          21       0.53      0.70      0.60        27\n",
      "          22       0.00      0.00      0.00         7\n",
      "          23       0.60      0.50      0.55        12\n",
      "          24       0.45      0.47      0.46        19\n",
      "          25       0.86      0.58      0.69        31\n",
      "          26       0.88      0.88      0.88         8\n",
      "          27       1.00      0.25      0.40         4\n",
      "          28       0.57      0.40      0.47        10\n",
      "          29       0.33      0.50      0.40         4\n",
      "          30       0.62      0.42      0.50        12\n",
      "          31       0.75      0.46      0.57        13\n",
      "          32       1.00      0.80      0.89        10\n",
      "          33       0.80      0.80      0.80         5\n",
      "          34       0.67      0.57      0.62         7\n",
      "          35       0.67      0.33      0.44         6\n",
      "          36       0.75      0.55      0.63        11\n",
      "          37       0.50      0.50      0.50         2\n",
      "          38       1.00      0.67      0.80         3\n",
      "          39       0.67      0.40      0.50         5\n",
      "          40       0.38      0.30      0.33        10\n",
      "          41       0.62      0.62      0.62         8\n",
      "          42       0.67      0.67      0.67         3\n",
      "          43       0.67      1.00      0.80         6\n",
      "          44       0.80      0.80      0.80         5\n",
      "          45       1.00      1.00      1.00         1\n",
      "\n",
      "    accuracy                           0.78      2246\n",
      "   macro avg       0.67      0.59      0.61      2246\n",
      "weighted avg       0.77      0.78      0.77      2246\n",
      "\n",
      "------------------------------------------------------\n",
      "DecisionTreeClassifier\n",
      "              precision    recall  f1-score   support\n",
      "\n",
      "           0       0.00      0.00      0.00        12\n",
      "           1       0.72      0.42      0.53       105\n",
      "           2       0.62      0.50      0.56        20\n",
      "           3       0.93      0.83      0.88       813\n",
      "           4       0.40      0.90      0.56       474\n",
      "           5       0.00      0.00      0.00         5\n",
      "           6       0.90      0.64      0.75        14\n",
      "           7       0.00      0.00      0.00         3\n",
      "           8       0.00      0.00      0.00        38\n",
      "           9       0.88      0.88      0.88        25\n",
      "          10       0.85      0.77      0.81        30\n",
      "          11       0.64      0.51      0.56        83\n",
      "          12       0.14      0.08      0.10        13\n",
      "          13       0.00      0.00      0.00        37\n",
      "          14       0.00      0.00      0.00         2\n",
      "          15       0.00      0.00      0.00         9\n",
      "          16       0.59      0.84      0.69        99\n",
      "          17       0.00      0.00      0.00        12\n",
      "          18       0.00      0.00      0.00        20\n",
      "          19       0.62      0.29      0.39       133\n",
      "          20       0.27      0.06      0.09        70\n",
      "          21       0.00      0.00      0.00        27\n",
      "          22       0.00      0.00      0.00         7\n",
      "          23       0.00      0.00      0.00        12\n",
      "          24       0.67      0.11      0.18        19\n",
      "          25       0.86      0.19      0.32        31\n",
      "          26       0.00      0.00      0.00         8\n",
      "          27       0.00      0.00      0.00         4\n",
      "          28       0.50      0.10      0.17        10\n",
      "          29       0.00      0.00      0.00         4\n",
      "          30       0.00      0.00      0.00        12\n",
      "          31       0.00      0.00      0.00        13\n",
      "          32       0.00      0.00      0.00        10\n",
      "          33       1.00      1.00      1.00         5\n",
      "          34       0.00      0.00      0.00         7\n",
      "          35       0.00      0.00      0.00         6\n",
      "          36       0.00      0.00      0.00        11\n",
      "          37       0.00      0.00      0.00         2\n",
      "          38       0.00      0.00      0.00         3\n",
      "          39       0.00      0.00      0.00         5\n",
      "          40       0.00      0.00      0.00        10\n",
      "          41       0.00      0.00      0.00         8\n",
      "          42       0.00      0.00      0.00         3\n",
      "          43       0.00      0.00      0.00         6\n",
      "          44       0.00      0.00      0.00         5\n",
      "          45       0.00      0.00      0.00         1\n",
      "\n",
      "    accuracy                           0.62      2246\n",
      "   macro avg       0.23      0.18      0.18      2246\n",
      "weighted avg       0.61      0.62      0.58      2246\n",
      "\n",
      "------------------------------------------------------\n",
      "RandomForestClassifier\n",
      "              precision    recall  f1-score   support\n",
      "\n",
      "           0       0.22      0.33      0.27        12\n",
      "           1       0.45      0.77      0.57       105\n",
      "           2       0.30      0.30      0.30        20\n",
      "           3       0.82      0.90      0.86       813\n",
      "           4       0.61      0.83      0.70       474\n",
      "           5       0.00      0.00      0.00         5\n",
      "           6       0.67      0.43      0.52        14\n",
      "           7       0.50      0.33      0.40         3\n",
      "           8       0.67      0.53      0.59        38\n",
      "           9       0.70      0.28      0.40        25\n",
      "          10       0.75      0.30      0.43        30\n",
      "          11       0.55      0.59      0.57        83\n",
      "          12       0.40      0.15      0.22        13\n",
      "          13       0.37      0.19      0.25        37\n",
      "          14       0.00      0.00      0.00         2\n",
      "          15       0.00      0.00      0.00         9\n",
      "          16       0.59      0.59      0.59        99\n",
      "          17       0.00      0.00      0.00        12\n",
      "          18       0.50      0.25      0.33        20\n",
      "          19       0.69      0.54      0.61       133\n",
      "          20       0.57      0.29      0.38        70\n",
      "          21       0.67      0.30      0.41        27\n",
      "          22       0.00      0.00      0.00         7\n",
      "          23       0.00      0.00      0.00        12\n",
      "          24       0.67      0.11      0.18        19\n",
      "          25       1.00      0.32      0.49        31\n",
      "          26       1.00      0.25      0.40         8\n",
      "          27       0.00      0.00      0.00         4\n",
      "          28       0.00      0.00      0.00        10\n",
      "          29       0.00      0.00      0.00         4\n",
      "          30       0.50      0.08      0.14        12\n",
      "          31       0.67      0.15      0.25        13\n",
      "          32       0.67      0.20      0.31        10\n",
      "          33       1.00      0.60      0.75         5\n",
      "          34       0.50      0.14      0.22         7\n",
      "          35       1.00      0.17      0.29         6\n",
      "          36       0.33      0.09      0.14        11\n",
      "          37       0.00      0.00      0.00         2\n",
      "          38       0.00      0.00      0.00         3\n",
      "          39       0.00      0.00      0.00         5\n",
      "          40       1.00      0.20      0.33        10\n",
      "          41       0.00      0.00      0.00         8\n",
      "          42       0.00      0.00      0.00         3\n",
      "          43       0.67      0.33      0.44         6\n",
      "          44       1.00      0.80      0.89         5\n",
      "          45       1.00      1.00      1.00         1\n",
      "\n",
      "    accuracy                           0.67      2246\n",
      "   macro avg       0.46      0.27      0.31      2246\n",
      "weighted avg       0.66      0.67      0.64      2246\n",
      "\n",
      "------------------------------------------------------\n",
      "GradientBoostingClassifier\n"
     ]
    },
    {
     "name": "stdout",
     "output_type": "stream",
     "text": [
      "              precision    recall  f1-score   support\n",
      "\n",
      "           0       0.82      0.75      0.78        12\n",
      "           1       0.77      0.68      0.72       105\n",
      "           2       0.78      0.70      0.74        20\n",
      "           3       0.88      0.91      0.89       813\n",
      "           4       0.76      0.83      0.79       474\n",
      "           5       0.50      0.20      0.29         5\n",
      "           6       0.80      0.86      0.83        14\n",
      "           7       1.00      0.33      0.50         3\n",
      "           8       0.64      0.66      0.65        38\n",
      "           9       0.74      0.80      0.77        25\n",
      "          10       0.90      0.87      0.88        30\n",
      "          11       0.63      0.64      0.63        83\n",
      "          12       0.33      0.46      0.39        13\n",
      "          13       0.62      0.49      0.55        37\n",
      "          14       0.14      0.50      0.22         2\n",
      "          15       0.38      0.33      0.35         9\n",
      "          16       0.73      0.73      0.73        99\n",
      "          17       0.27      0.25      0.26        12\n",
      "          18       0.59      0.50      0.54        20\n",
      "          19       0.69      0.65      0.67       133\n",
      "          20       0.67      0.46      0.54        70\n",
      "          21       0.70      0.78      0.74        27\n",
      "          22       1.00      0.14      0.25         7\n",
      "          23       0.54      0.58      0.56        12\n",
      "          24       0.61      0.58      0.59        19\n",
      "          25       0.89      0.55      0.68        31\n",
      "          26       0.71      0.62      0.67         8\n",
      "          27       0.50      0.50      0.50         4\n",
      "          28       0.38      0.30      0.33        10\n",
      "          29       0.23      0.75      0.35         4\n",
      "          30       0.45      0.42      0.43        12\n",
      "          31       0.62      0.38      0.48        13\n",
      "          32       1.00      0.90      0.95        10\n",
      "          33       0.75      0.60      0.67         5\n",
      "          34       0.67      0.29      0.40         7\n",
      "          35       0.80      0.67      0.73         6\n",
      "          36       0.62      0.45      0.53        11\n",
      "          37       0.67      1.00      0.80         2\n",
      "          38       0.33      0.33      0.33         3\n",
      "          39       0.40      0.40      0.40         5\n",
      "          40       0.40      0.20      0.27        10\n",
      "          41       0.56      0.62      0.59         8\n",
      "          42       0.67      0.67      0.67         3\n",
      "          43       0.67      0.67      0.67         6\n",
      "          44       0.67      0.80      0.73         5\n",
      "          45       0.33      1.00      0.50         1\n",
      "\n",
      "    accuracy                           0.77      2246\n",
      "   macro avg       0.63      0.58      0.58      2246\n",
      "weighted avg       0.77      0.77      0.76      2246\n",
      "\n",
      "------------------------------------------------------\n",
      "VotingClassifier\n",
      "              precision    recall  f1-score   support\n",
      "\n",
      "           0       0.90      0.75      0.82        12\n",
      "           1       0.77      0.74      0.76       105\n",
      "           2       0.73      0.80      0.76        20\n",
      "           3       0.92      0.94      0.93       813\n",
      "           4       0.83      0.88      0.85       474\n",
      "           5       1.00      0.20      0.33         5\n",
      "           6       0.86      0.86      0.86        14\n",
      "           7       1.00      0.67      0.80         3\n",
      "           8       0.70      0.68      0.69        38\n",
      "           9       0.81      0.84      0.82        25\n",
      "          10       0.93      0.90      0.92        30\n",
      "          11       0.65      0.69      0.67        83\n",
      "          12       0.46      0.46      0.46        13\n",
      "          13       0.68      0.62      0.65        37\n",
      "          14       0.14      0.50      0.22         2\n",
      "          15       0.57      0.44      0.50         9\n",
      "          16       0.72      0.75      0.73        99\n",
      "          17       0.53      0.67      0.59        12\n",
      "          18       0.79      0.55      0.65        20\n",
      "          19       0.68      0.69      0.68       133\n",
      "          20       0.62      0.49      0.54        70\n",
      "          21       0.65      0.81      0.72        27\n",
      "          22       1.00      0.14      0.25         7\n",
      "          23       0.60      0.75      0.67        12\n",
      "          24       0.67      0.63      0.65        19\n",
      "          25       0.95      0.68      0.79        31\n",
      "          26       0.88      0.88      0.88         8\n",
      "          27       0.67      0.50      0.57         4\n",
      "          28       0.44      0.40      0.42        10\n",
      "          29       0.40      1.00      0.57         4\n",
      "          30       0.67      0.50      0.57        12\n",
      "          31       0.75      0.46      0.57        13\n",
      "          32       1.00      1.00      1.00        10\n",
      "          33       0.80      0.80      0.80         5\n",
      "          34       0.75      0.43      0.55         7\n",
      "          35       1.00      0.67      0.80         6\n",
      "          36       0.56      0.45      0.50        11\n",
      "          37       0.67      1.00      0.80         2\n",
      "          38       0.50      0.33      0.40         3\n",
      "          39       0.50      0.40      0.44         5\n",
      "          40       0.67      0.20      0.31        10\n",
      "          41       0.80      0.50      0.62         8\n",
      "          42       0.75      1.00      0.86         3\n",
      "          43       0.67      1.00      0.80         6\n",
      "          44       0.67      0.80      0.73         5\n",
      "          45       0.50      1.00      0.67         1\n",
      "\n",
      "    accuracy                           0.81      2246\n",
      "   macro avg       0.71      0.66      0.66      2246\n",
      "weighted avg       0.81      0.81      0.81      2246\n",
      "\n",
      "------------------------------------------------------\n"
     ]
    }
   ],
   "source": [
    "for name, model in model_dict_10000.items():\n",
    "    print(name)\n",
    "    model.predict(tfidfv_test_10000[3])\n",
    "    print(classification_report(y_test_10000, model.predict(tfidfv_test_10000), zero_division=0))\n",
    "    print('------------------------------------------------------')"
   ]
  },
  {
   "cell_type": "code",
   "execution_count": 30,
   "id": "horizontal-attitude",
   "metadata": {},
   "outputs": [],
   "source": [
    "def graph_confusion_matrix(name, model, x_test, y_test):#, classes_name):\n",
    "  df_cm = pd.DataFrame(confusion_matrix(y_test, model.predict(x_test)))#, index=classes_name, columns=classes_name)\n",
    "  fig = plt.figure(figsize=(8,8))\n",
    "  heatmap = sns.heatmap(df_cm, center = 600, fmt=\"d\")\n",
    "  heatmap.yaxis.set_ticklabels(heatmap.yaxis.get_ticklabels(), rotation=0, ha='right', fontsize=12)\n",
    "  heatmap.xaxis.set_ticklabels(heatmap.xaxis.get_ticklabels(), rotation=45, ha='right', fontsize=12)\n",
    "  plt.title(name)\n",
    "  plt.ylabel('label')\n",
    "  plt.xlabel('predicted value')"
   ]
  },
  {
   "cell_type": "code",
   "execution_count": 31,
   "id": "seventh-dynamics",
   "metadata": {
    "scrolled": false
   },
   "outputs": [
    {
     "data": {
      "image/png": "[encoded data removed]",
      "text/plain": [
       "<Figure size 576x576 with 2 Axes>"
      ]
     },
     "metadata": {
      "needs_background": "light"
     },
     "output_type": "display_data"
    },
    {
     "data": {
      "image/png": "[encoded data removed]",
      "text/plain": [
       "<Figure size 576x576 with 2 Axes>"
      ]
     },
     "metadata": {
      "needs_background": "light"
     },
     "output_type": "display_data"
    },
    {
     "data": {
      "image/png": "[encoded data removed]",
      "text/plain": [
       "<Figure size 576x576 with 2 Axes>"
      ]
     },
     "metadata": {
      "needs_background": "light"
     },
     "output_type": "display_data"
    },
    {
     "data": {
      "image/png": "[encoded data removed]",
      "text/plain": [
       "<Figure size 576x576 with 2 Axes>"
      ]
     },
     "metadata": {
      "needs_background": "light"
     },
     "output_type": "display_data"
    },
    {
     "data": {
      "image/png": "[encoded data removed]",
      "text/plain": [
       "<Figure size 576x576 with 2 Axes>"
      ]
     },
     "metadata": {
      "needs_background": "light"
     },
     "output_type": "display_data"
    },
    {
     "data": {
      "image/png": "[encoded data removed]",
      "text/plain": [
       "<Figure size 576x576 with 2 Axes>"
      ]
     },
     "metadata": {
      "needs_background": "light"
     },
     "output_type": "display_data"
    },
    {
     "data": {
      "image/png": "[encoded data removed]",
      "text/plain": [
       "<Figure size 576x576 with 2 Axes>"
      ]
     },
     "metadata": {
      "needs_background": "light"
     },
     "output_type": "display_data"
    },
    {
     "data": {
      "image/png": "[encoded data removed]",
      "text/plain": [
       "<Figure size 576x576 with 2 Axes>"
      ]
     },
     "metadata": {
      "needs_background": "light"
     },
     "output_type": "display_data"
    }
   ],
   "source": [
    "for name, model in model_dict_10000.items():\n",
    "    graph_confusion_matrix(name, model, tfidfv_test_10000, y_test_10000)"
   ]
  },
  {
   "cell_type": "markdown",
   "id": "romance-population",
   "metadata": {},
   "source": [
    "* 단어장 5000"
   ]
  },
  {
   "cell_type": "code",
   "execution_count": 32,
   "id": "related-welcome",
   "metadata": {},
   "outputs": [],
   "source": [
    "(x_train_5000, y_train_5000), (x_test_5000, y_test_5000) = reuters.load_data(num_words=5000, test_split=0.2)"
   ]
  },
  {
   "cell_type": "code",
   "execution_count": 33,
   "id": "based-celebration",
   "metadata": {},
   "outputs": [
    {
     "name": "stdout",
     "output_type": "stream",
     "text": [
      "8982\n",
      "2246\n"
     ]
    }
   ],
   "source": [
    "decoded = []\n",
    "for i in range(len(x_train_5000)):\n",
    "    t = ' '.join([index_to_word[index] for index in x_train_5000[i]])\n",
    "    decoded.append(t)\n",
    "\n",
    "x_train_5000 = decoded\n",
    "print(len(x_train_5000))\n",
    "\n",
    "decoded = []\n",
    "for i in range(len(x_test_5000)):\n",
    "    t = ' '.join([index_to_word[index] for index in x_test_5000[i]])\n",
    "    decoded.append(t)\n",
    "\n",
    "x_test_5000 = decoded\n",
    "print(len(x_test_5000))"
   ]
  },
  {
   "cell_type": "code",
   "execution_count": 34,
   "id": "accompanied-monroe",
   "metadata": {},
   "outputs": [
    {
     "name": "stdout",
     "output_type": "stream",
     "text": [
      "shape of x_train_dtm:  (8982, 4867)\n",
      "shape of x_train_tfidfv:  (8982, 4867)\n",
      "shape of x_test_dtm:  (2246, 4867)\n",
      "shape of x_test_tfidfv:  (2246, 4867)\n"
     ]
    }
   ],
   "source": [
    "tfidfv_train_5000, tfidfv_test_5000 = dtm(x_train_5000, x_test_5000)"
   ]
  },
  {
   "cell_type": "code",
   "execution_count": 35,
   "id": "hourly-hands",
   "metadata": {},
   "outputs": [
    {
     "name": "stdout",
     "output_type": "stream",
     "text": [
      "MultinomialNB 정확도: 0.6731967943009796\n",
      "MultinomialNB f1: 0.6731967943009796\n",
      "--------------------------------------------------------\n",
      "ComplementNB 정확도: 0.7707034728406055\n",
      "ComplementNB f1: 0.7707034728406055\n",
      "--------------------------------------------------------\n",
      "LogisticRegression 정확도: 0.8058771148708815\n",
      "LogisticRegression f1: 0.7707034728406055\n",
      "--------------------------------------------------------\n",
      "LinearSVC 정확도: 0.7711487088156723\n",
      "LinearSVC f1: 0.7707034728406055\n",
      "--------------------------------------------------------\n",
      "DecisionTreeClassifier 정확도: 0.6179875333926982\n",
      "DecisionTreeClassifier f1: 0.7707034728406055\n",
      "--------------------------------------------------------\n",
      "RandomForestClassifier 정확도: 0.701246660730187\n",
      "RandomForestClassifier f1: 0.7707034728406055\n",
      "--------------------------------------------------------\n",
      "GradientBoostingClassifier 정확도: 0.767586821015138\n",
      "GradientBoostingClassifier f1: 0.7707034728406055\n",
      "--------------------------------------------------------\n",
      "VotingClassifier 정확도: 0.8161175422974176\n",
      "VotingClassifier f1: 0.7707034728406055\n"
     ]
    }
   ],
   "source": [
    "model_dict_5000 = model_predict(tfidfv_train_5000, y_train_5000, tfidfv_test_5000, y_test_5000)"
   ]
  },
  {
   "cell_type": "markdown",
   "id": "agreed-headquarters",
   "metadata": {},
   "source": [
    "* 단어장 All"
   ]
  },
  {
   "cell_type": "code",
   "execution_count": 36,
   "id": "accredited-better",
   "metadata": {},
   "outputs": [],
   "source": [
    "(x_train, y_train), (x_test, y_test) = reuters.load_data(num_words=None, test_split=0.2)"
   ]
  },
  {
   "cell_type": "code",
   "execution_count": 37,
   "id": "through-occurrence",
   "metadata": {},
   "outputs": [
    {
     "name": "stdout",
     "output_type": "stream",
     "text": [
      "8982\n",
      "2246\n"
     ]
    }
   ],
   "source": [
    "decoded = []\n",
    "for i in range(len(x_train)):\n",
    "    t = ' '.join([index_to_word[index] for index in x_train[i]])\n",
    "    decoded.append(t)\n",
    "\n",
    "x_train = decoded\n",
    "print(len(x_train))\n",
    "\n",
    "decoded = []\n",
    "for i in range(len(x_test)):\n",
    "    t = ' '.join([index_to_word[index] for index in x_test[i]])\n",
    "    decoded.append(t)\n",
    "\n",
    "x_test = decoded\n",
    "print(len(x_test))"
   ]
  },
  {
   "cell_type": "code",
   "execution_count": 38,
   "id": "ongoing-paris",
   "metadata": {},
   "outputs": [
    {
     "name": "stdout",
     "output_type": "stream",
     "text": [
      "shape of x_train_dtm:  (8982, 26506)\n",
      "shape of x_train_tfidfv:  (8982, 26506)\n",
      "shape of x_test_dtm:  (2246, 26506)\n",
      "shape of x_test_tfidfv:  (2246, 26506)\n"
     ]
    }
   ],
   "source": [
    "tfidfv_train, tfidfv_test = dtm(x_train, x_test)"
   ]
  },
  {
   "cell_type": "code",
   "execution_count": 39,
   "id": "mexican-thailand",
   "metadata": {},
   "outputs": [
    {
     "name": "stdout",
     "output_type": "stream",
     "text": [
      "MultinomialNB 정확도: 0.5997328584149599\n",
      "MultinomialNB f1: 0.5997328584149599\n",
      "--------------------------------------------------------\n",
      "ComplementNB 정확도: 0.7649154051647373\n",
      "ComplementNB f1: 0.7649154051647373\n",
      "--------------------------------------------------------\n",
      "LogisticRegression 정확도: 0.813446126447017\n",
      "LogisticRegression f1: 0.7649154051647373\n",
      "--------------------------------------------------------\n",
      "LinearSVC 정확도: 0.7809439002671416\n",
      "LinearSVC f1: 0.7649154051647373\n",
      "--------------------------------------------------------\n",
      "DecisionTreeClassifier 정확도: 0.6211041852181657\n",
      "DecisionTreeClassifier f1: 0.7649154051647373\n",
      "--------------------------------------------------------\n",
      "RandomForestClassifier 정확도: 0.6544968833481746\n",
      "RandomForestClassifier f1: 0.7649154051647373\n",
      "--------------------------------------------------------\n",
      "GradientBoostingClassifier 정확도: 0.7702582368655387\n",
      "GradientBoostingClassifier f1: 0.7649154051647373\n",
      "--------------------------------------------------------\n",
      "VotingClassifier 정확도: 0.8187889581478184\n",
      "VotingClassifier f1: 0.7649154051647373\n"
     ]
    }
   ],
   "source": [
    "model_dict = model_predict(tfidfv_train, y_train, tfidfv_test, y_test)"
   ]
  },
  {
   "cell_type": "code",
   "execution_count": 41,
   "id": "worthy-ensemble",
   "metadata": {},
   "outputs": [
    {
     "name": "stdout",
     "output_type": "stream",
     "text": [
      "30982\n"
     ]
    }
   ],
   "source": [
    "word_index = reuters.get_word_index(path=\"reuters_word_index.json\")\n",
    "\n",
    "for index, token in enumerate((\"<pad>\", \"<sos>\", \"<unk>\")):\n",
    "    index_to_word[index]=token\n",
    "    \n",
    "print(len(index_to_word))"
   ]
  },
  {
   "cell_type": "markdown",
   "id": "temporal-neighborhood",
   "metadata": {},
   "source": [
    "* 딥러닝 모델을 위해 단어장의 숫자를 확인해봤습니다."
   ]
  },
  {
   "cell_type": "markdown",
   "id": "protecting-keyboard",
   "metadata": {},
   "source": [
    "* f1_score를 출력하기 위해 튜닝했습니다."
   ]
  },
  {
   "cell_type": "code",
   "execution_count": 127,
   "id": "further-burst",
   "metadata": {},
   "outputs": [],
   "source": [
    "def recall(y_target, y_pred):\n",
    "    count_true_positive = K.sum(K.round(K.clip(y_target * y_pred, 0, 1))) \n",
    "\n",
    "    count_true_positive_false_negative = K.sum(K.round(K.clip(y_target, 0, 1)))\n",
    "    \n",
    "    recall = count_true_positive / (count_true_positive_false_negative + K.epsilon())\n",
    "    \n",
    "    return recall\n",
    "\n",
    "\n",
    "def precision(y_target, y_pred):\n",
    "    count_true_positive = K.sum(K.round(K.clip(y_target * y_pred, 0, 1))) \n",
    "\n",
    "    count_true_positive_false_positive = K.sum(K.round(K.clip(y_pred, 0, 1)))\n",
    "\n",
    "    precision = count_true_positive / (count_true_positive_false_positive + K.epsilon())\n",
    "\n",
    "    return precision\n",
    "\n",
    "\n",
    "def f1_score(y_target, y_pred):\n",
    "    _recall = recall(y_target, y_pred)\n",
    "    _precision = precision(y_target, y_pred)\n",
    "    _f1score =  2 * ((_recall * _precision) / (_recall + _precision+ K.epsilon()))\n",
    "    return _f1score"
   ]
  },
  {
   "cell_type": "markdown",
   "id": "broken-finger",
   "metadata": {},
   "source": [
    "* 모델 함수 정의"
   ]
  },
  {
   "cell_type": "code",
   "execution_count": 131,
   "id": "overall-mentor",
   "metadata": {},
   "outputs": [],
   "source": [
    "def CNN_model(vocab_size):\n",
    "    model = tf.keras.Sequential()\n",
    "    model.add(tf.keras.layers.Embedding(vocab_size, 128, input_shape=(None,)))\n",
    "    model.add(tf.keras.layers.Conv1D(128, 16, activation='relu'))\n",
    "    model.add(tf.keras.layers.MaxPooling1D(4))\n",
    "    model.add(tf.keras.layers.Conv1D(128, 16, activation='relu'))\n",
    "    model.add(tf.keras.layers.GlobalMaxPooling1D())\n",
    "    model.add(tf.keras.layers.Dense(46, activation='softmax'))\n",
    "    \n",
    "    model.compile(optimizer='adam', loss='categorical_crossentropy', metrics=['accuracy', f1_score])\n",
    "    return model"
   ]
  },
  {
   "cell_type": "markdown",
   "id": "amino-september",
   "metadata": {},
   "source": [
    "* 데이터 다운로드 및 전처리"
   ]
  },
  {
   "cell_type": "code",
   "execution_count": 140,
   "id": "constant-savannah",
   "metadata": {},
   "outputs": [],
   "source": [
    "(x_train_10000, y_train_10000), (x_test_10000, y_test_10000) = reuters.load_data(num_words=10000, test_split=0.2)\n",
    "(x_train_5000, y_train_5000), (x_test_5000, y_test_5000) = reuters.load_data(num_words=5000, test_split=0.2)\n",
    "(x_train, y_train), (x_test, y_test) = reuters.load_data(num_words=None, test_split=0.2)"
   ]
  },
  {
   "cell_type": "markdown",
   "id": "rotary-forth",
   "metadata": {},
   "source": [
    "* 길이의 평균이 145였는데 비슷하게 max_len을 정했습니다."
   ]
  },
  {
   "cell_type": "code",
   "execution_count": 142,
   "id": "dominant-velvet",
   "metadata": {},
   "outputs": [],
   "source": [
    "max_len = 150\n",
    "\n",
    "x_train_10000 = pad_sequences(x_train_10000, maxlen=max_len, padding=\"pre\")\n",
    "x_test_10000 = pad_sequences(x_test_10000, maxlen=max_len, padding=\"pre\")\n",
    "\n",
    "x_train_5000 = pad_sequences(x_train_5000, maxlen=max_len, padding=\"pre\")\n",
    "x_test_5000 = pad_sequences(x_test_5000, maxlen=max_len, padding=\"pre\")\n",
    "\n",
    "x_train = pad_sequences(x_train, maxlen=max_len, padding=\"pre\")\n",
    "x_test = pad_sequences(x_test, maxlen=max_len, padding=\"pre\")\n",
    "\n",
    "y_train_10000 = to_categorical(y_train_10000)\n",
    "y_test_10000 = to_categorical(y_test_10000)\n",
    "\n",
    "y_train_5000 = to_categorical(y_train_5000)\n",
    "y_test_5000 = to_categorical(y_test_5000)\n",
    "\n",
    "y_train = to_categorical(y_train)\n",
    "y_test = to_categorical(y_test)"
   ]
  },
  {
   "cell_type": "code",
   "execution_count": 143,
   "id": "friendly-change",
   "metadata": {},
   "outputs": [],
   "source": [
    "x_train_10000, x_val_10000, y_train_10000, y_val_10000 = train_test_split(x_train_10000, y_train_10000, test_size = 0.2, shuffle=True, random_state=5)\n",
    "x_train_5000, x_val_5000, y_train_5000, y_val_5000 = train_test_split(x_train_5000, y_train_5000, test_size = 0.2, shuffle=True, random_state=5)\n",
    "x_train, x_val, y_train, y_val = train_test_split(x_train, y_train, test_size = 0.2, shuffle=True, random_state=5)"
   ]
  },
  {
   "cell_type": "code",
   "execution_count": 144,
   "id": "confidential-cyprus",
   "metadata": {},
   "outputs": [],
   "source": [
    "file_path = os.getenv('HOME') +  '/aiffel'\n",
    "\n",
    "es = EarlyStopping(monitor='val_loss', mode='min', verbose=1, patience=3)\n",
    "mc = ModelCheckpoint(file_path + '/model/best_model.h5', monitor='val_accuracy', mode='max', verbose=1, save_best_only=True)"
   ]
  },
  {
   "cell_type": "markdown",
   "id": "moved-syndication",
   "metadata": {},
   "source": [
    "* 모델 학습"
   ]
  },
  {
   "cell_type": "code",
   "execution_count": 145,
   "id": "mechanical-viking",
   "metadata": {},
   "outputs": [
    {
     "name": "stdout",
     "output_type": "stream",
     "text": [
      "Epoch 1/20\n",
      "90/90 [==============================] - 9s 97ms/step - loss: 2.5101 - accuracy: 0.3774 - f1_score: 0.2810 - val_loss: 1.6870 - val_accuracy: 0.5498 - val_f1_score: 0.6314\n",
      "\n",
      "Epoch 00001: val_accuracy improved from -inf to 0.54976, saving model to /aiffel/aiffel/model/best_model.h5\n",
      "Epoch 2/20\n",
      "90/90 [==============================] - 2s 27ms/step - loss: 1.5280 - accuracy: 0.6038 - f1_score: 0.6631 - val_loss: 1.4441 - val_accuracy: 0.6625 - val_f1_score: 0.6811\n",
      "\n",
      "Epoch 00002: val_accuracy improved from 0.54976 to 0.66249, saving model to /aiffel/aiffel/model/best_model.h5\n",
      "Epoch 3/20\n",
      "90/90 [==============================] - 2s 27ms/step - loss: 1.1051 - accuracy: 0.7287 - f1_score: 0.7816 - val_loss: 1.4437 - val_accuracy: 0.6527 - val_f1_score: 0.6853\n",
      "\n",
      "Epoch 00003: val_accuracy did not improve from 0.66249\n",
      "Epoch 4/20\n",
      "90/90 [==============================] - 2s 27ms/step - loss: 0.8172 - accuracy: 0.7873 - f1_score: 0.8302 - val_loss: 1.4434 - val_accuracy: 0.6688 - val_f1_score: 0.6895\n",
      "\n",
      "Epoch 00004: val_accuracy improved from 0.66249 to 0.66875, saving model to /aiffel/aiffel/model/best_model.h5\n",
      "Epoch 5/20\n",
      "90/90 [==============================] - 2s 27ms/step - loss: 0.5821 - accuracy: 0.8512 - f1_score: 0.8678 - val_loss: 1.4834 - val_accuracy: 0.6778 - val_f1_score: 0.6925\n",
      "\n",
      "Epoch 00005: val_accuracy improved from 0.66875 to 0.67780, saving model to /aiffel/aiffel/model/best_model.h5\n",
      "Epoch 6/20\n",
      "90/90 [==============================] - 2s 27ms/step - loss: 0.4206 - accuracy: 0.8951 - f1_score: 0.8938 - val_loss: 1.5826 - val_accuracy: 0.6987 - val_f1_score: 0.7133\n",
      "\n",
      "Epoch 00006: val_accuracy improved from 0.67780 to 0.69868, saving model to /aiffel/aiffel/model/best_model.h5\n",
      "Epoch 7/20\n",
      "90/90 [==============================] - 2s 26ms/step - loss: 0.2850 - accuracy: 0.9336 - f1_score: 0.9266 - val_loss: 1.7801 - val_accuracy: 0.6722 - val_f1_score: 0.6971\n",
      "\n",
      "Epoch 00007: val_accuracy did not improve from 0.69868\n",
      "Epoch 00007: early stopping\n"
     ]
    }
   ],
   "source": [
    "model = CNN_model(10000)\n",
    "\n",
    "epochs=20  # 몇 epoch를 훈련하면 좋을지 결과를 보면서 바꾸어 봅시다. \n",
    "\n",
    "history = model.fit(x_train_10000, y_train_10000,\n",
    "                    epochs=epochs, batch_size=64, verbose=1,\n",
    "                    validation_data=(x_val_10000, y_val_10000),\n",
    "                    callbacks = [es, mc])"
   ]
  },
  {
   "cell_type": "code",
   "execution_count": 149,
   "id": "divided-robinson",
   "metadata": {},
   "outputs": [
    {
     "name": "stdout",
     "output_type": "stream",
     "text": [
      "71/71 [==============================] - 4s 29ms/step - loss: 1.7649 - accuracy: 0.6768 - f1_score: 0.6932\n"
     ]
    },
    {
     "data": {
      "text/plain": [
       "[1.7648515701293945, 0.6767587065696716, 0.6932342052459717]"
      ]
     },
     "execution_count": 149,
     "metadata": {},
     "output_type": "execute_result"
    }
   ],
   "source": [
    "model.evaluate(x_test_10000, y_test_10000)"
   ]
  },
  {
   "cell_type": "code",
   "execution_count": 153,
   "id": "british-address",
   "metadata": {},
   "outputs": [
    {
     "name": "stdout",
     "output_type": "stream",
     "text": [
      "Epoch 1/20\n",
      "90/90 [==============================] - 3s 26ms/step - loss: 2.4729 - accuracy: 0.3811 - f1_score: 0.2700 - val_loss: 1.6398 - val_accuracy: 0.5776 - val_f1_score: 0.6352\n",
      "\n",
      "Epoch 00001: val_accuracy did not improve from 0.70912\n",
      "Epoch 2/20\n",
      "90/90 [==============================] - 2s 24ms/step - loss: 1.4499 - accuracy: 0.6195 - f1_score: 0.6702 - val_loss: 1.4334 - val_accuracy: 0.6632 - val_f1_score: 0.6710\n",
      "\n",
      "Epoch 00002: val_accuracy did not improve from 0.70912\n",
      "Epoch 3/20\n",
      "90/90 [==============================] - 2s 23ms/step - loss: 1.1095 - accuracy: 0.7239 - f1_score: 0.7593 - val_loss: 1.2978 - val_accuracy: 0.6980 - val_f1_score: 0.7233\n",
      "\n",
      "Epoch 00003: val_accuracy did not improve from 0.70912\n",
      "Epoch 4/20\n",
      "90/90 [==============================] - 2s 24ms/step - loss: 0.7954 - accuracy: 0.7985 - f1_score: 0.8372 - val_loss: 1.3250 - val_accuracy: 0.6966 - val_f1_score: 0.7206\n",
      "\n",
      "Epoch 00004: val_accuracy did not improve from 0.70912\n",
      "Epoch 5/20\n",
      "90/90 [==============================] - 2s 24ms/step - loss: 0.5666 - accuracy: 0.8518 - f1_score: 0.8710 - val_loss: 1.4167 - val_accuracy: 0.6945 - val_f1_score: 0.7146\n",
      "\n",
      "Epoch 00005: val_accuracy did not improve from 0.70912\n",
      "Epoch 6/20\n",
      "90/90 [==============================] - 2s 23ms/step - loss: 0.3894 - accuracy: 0.9025 - f1_score: 0.9049 - val_loss: 1.4995 - val_accuracy: 0.7098 - val_f1_score: 0.7188\n",
      "\n",
      "Epoch 00006: val_accuracy improved from 0.70912 to 0.70981, saving model to /aiffel/aiffel/model/best_model.h5\n",
      "Epoch 00006: early stopping\n"
     ]
    }
   ],
   "source": [
    "model = CNN_model(5000)\n",
    "\n",
    "epochs=20  # 몇 epoch를 훈련하면 좋을지 결과를 보면서 바꾸어 봅시다. \n",
    "\n",
    "history = model.fit(x_train_5000, y_train_5000,\n",
    "                    epochs=epochs, batch_size=64, verbose=1,\n",
    "                    validation_data=(x_val_5000, y_val_5000),\n",
    "                    callbacks = [es, mc])"
   ]
  },
  {
   "cell_type": "code",
   "execution_count": 154,
   "id": "after-saskatchewan",
   "metadata": {},
   "outputs": [
    {
     "name": "stdout",
     "output_type": "stream",
     "text": [
      "71/71 [==============================] - 0s 5ms/step - loss: 1.5114 - accuracy: 0.7035 - f1_score: 0.7233\n"
     ]
    },
    {
     "data": {
      "text/plain": [
       "[1.5113656520843506, 0.7034728527069092, 0.7233133316040039]"
      ]
     },
     "execution_count": 154,
     "metadata": {},
     "output_type": "execute_result"
    }
   ],
   "source": [
    "model.evaluate(x_test_5000, y_test_5000)"
   ]
  },
  {
   "cell_type": "code",
   "execution_count": 155,
   "id": "rational-scene",
   "metadata": {},
   "outputs": [
    {
     "name": "stdout",
     "output_type": "stream",
     "text": [
      "Epoch 1/20\n",
      "90/90 [==============================] - 5s 48ms/step - loss: 2.4602 - accuracy: 0.3878 - f1_score: 0.2903 - val_loss: 1.7184 - val_accuracy: 0.5379 - val_f1_score: 0.6197\n",
      "\n",
      "Epoch 00001: val_accuracy did not improve from 0.70981\n",
      "Epoch 2/20\n",
      "90/90 [==============================] - 4s 45ms/step - loss: 1.5652 - accuracy: 0.5701 - f1_score: 0.6450 - val_loss: 1.4883 - val_accuracy: 0.6514 - val_f1_score: 0.6673\n",
      "\n",
      "Epoch 00002: val_accuracy did not improve from 0.70981\n",
      "Epoch 3/20\n",
      "90/90 [==============================] - 5s 54ms/step - loss: 1.0980 - accuracy: 0.7241 - f1_score: 0.7664 - val_loss: 1.4256 - val_accuracy: 0.6778 - val_f1_score: 0.7126\n",
      "\n",
      "Epoch 00003: val_accuracy did not improve from 0.70981\n",
      "Epoch 4/20\n",
      "90/90 [==============================] - 4s 44ms/step - loss: 0.7518 - accuracy: 0.7974 - f1_score: 0.8457 - val_loss: 1.4283 - val_accuracy: 0.6938 - val_f1_score: 0.7102\n",
      "\n",
      "Epoch 00004: val_accuracy did not improve from 0.70981\n",
      "Epoch 5/20\n",
      "90/90 [==============================] - 4s 45ms/step - loss: 0.5324 - accuracy: 0.8560 - f1_score: 0.8762 - val_loss: 1.5524 - val_accuracy: 0.6952 - val_f1_score: 0.7148\n",
      "\n",
      "Epoch 00005: val_accuracy did not improve from 0.70981\n",
      "Epoch 6/20\n",
      "90/90 [==============================] - 4s 43ms/step - loss: 0.3551 - accuracy: 0.9096 - f1_score: 0.9101 - val_loss: 1.6810 - val_accuracy: 0.6882 - val_f1_score: 0.7080\n",
      "\n",
      "Epoch 00006: val_accuracy did not improve from 0.70981\n",
      "Epoch 00006: early stopping\n"
     ]
    }
   ],
   "source": [
    "model = CNN_model(30982)\n",
    "\n",
    "epochs=20  # 몇 epoch를 훈련하면 좋을지 결과를 보면서 바꾸어 봅시다. \n",
    "\n",
    "history = model.fit(x_train, y_train,\n",
    "                    epochs=epochs, batch_size=64, verbose=1,\n",
    "                    validation_data=(x_val, y_val),\n",
    "                    callbacks = [es, mc])"
   ]
  },
  {
   "cell_type": "code",
   "execution_count": 156,
   "id": "greater-rescue",
   "metadata": {},
   "outputs": [
    {
     "name": "stdout",
     "output_type": "stream",
     "text": [
      "71/71 [==============================] - 0s 5ms/step - loss: 1.6855 - accuracy: 0.6843 - f1_score: 0.7026\n"
     ]
    },
    {
     "data": {
      "text/plain": [
       "[1.685495138168335, 0.6843277215957642, 0.7025628089904785]"
      ]
     },
     "execution_count": 156,
     "metadata": {},
     "output_type": "execute_result"
    }
   ],
   "source": [
    "model.evaluate(x_test, y_test)"
   ]
  },
  {
   "cell_type": "markdown",
   "id": "atlantic-compact",
   "metadata": {},
   "source": [
    "* 결과표"
   ]
  },
  {
   "cell_type": "markdown",
   "id": "serious-confirmation",
   "metadata": {},
   "source": [
    "|모델|acc|5000|10000|all|f1_score|5000|10000|all|\n",
    "|-----|----|----|----|----|----|----|----|----|\n",
    "|MultinomialNB|acc|0.67|0.65|0.59|f1_score|0.67|0.65|0.59|\n",
    "|ComplementNB|acc|0.77|0.77|0.76|f1_score|0.77|0.77|0.76|\n",
    "|LogisticRegression|acc|0.80|0.80|0.81|f1_score|0.77|0.77|0.76|\n",
    "|LinearSVC|acc|0.77|0.77|0.78|f1_score|0.77|0.77|0.76|\n",
    "|DecisionTreeClassifier|acc|0.61|0.62|0.62|f1_score|0.77|0.77|0.76|\n",
    "|RandomForestClassifier|acc|0.70|0.67|0.65|f1_score|0.77|0.77|0.76|\n",
    "|GradientBoostingClassifier|acc|0.76|0.76|0.77|f1_score|0.77|0.77|0.76|\n",
    "|VotingClassifier|acc|0.81|0.81|0.81|f1_score|0.77|0.77|0.76|\n",
    "|CNN|acc|0.70|0.70|0.68|f1_score|0.72|0.72|0.70|"
   ]
  },
  {
   "cell_type": "markdown",
   "id": "stainless-telescope",
   "metadata": {},
   "source": [
    "### 회고\n",
    "* 가장 인상깊었던 점은 f1_score 함수를 벨로그에서 보고 그대로 사용했지만 오류가 났습니다.<br/> 알고보니 타겟과 예측값의 순서가 잘못되어서 그것만 수정했더니 잘 돌아갔습니다.\n",
    "* 캐글에서는 f1_score를 중요하게 여긴다고 들은것 같은데 확실히 이런 데이터 불균형이 있는 경우에는 f1_score가 더 신뢰성이 있다고 생각합니다.\n",
    "* 대부분의 모델이 단어가 5000개일때 더 성능이 좋았지만 로지스틱, 서포트벡터 등은 단어장이 많아질수록 성능이 좋아 상황별로 단어장을 잘 성정해야 할것 같습니다."
   ]
  }
 ],
 "metadata": {
  "kernelspec": {
   "display_name": "Python 3",
   "language": "python",
   "name": "python3"
  },
  "language_info": {
   "codemirror_mode": {
    "name": "ipython",
    "version": 3
   },
   "file_extension": ".py",
   "mimetype": "text/x-python",
   "name": "python",
   "nbconvert_exporter": "python",
   "pygments_lexer": "ipython3",
   "version": "3.7.9"
  }
 },
 "nbformat": 4,
 "nbformat_minor": 5
}
