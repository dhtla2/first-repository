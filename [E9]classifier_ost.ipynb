{
 "cells": [
  {
   "cell_type": "markdown",
   "id": "coupled-antarctica",
   "metadata": {},
   "source": [
    "# 목차\n",
    "> ## 라이브러리 불러오기\n",
    "> ## 데이터 확인 및 전처리\n",
    "> ## 데이터 분석\n",
    "> ## csr matrix 만들기\n",
    "> ## 모델 학습\n",
    "> ## 영화 추천받기\n",
    "> ## 회고"
   ]
  },
  {
   "cell_type": "markdown",
   "id": "continent-singles",
   "metadata": {},
   "source": [
    "### 필요한 라이브러리를 불러옵니다."
   ]
  },
  {
   "cell_type": "code",
   "execution_count": 1,
   "id": "regional-westminster",
   "metadata": {},
   "outputs": [],
   "source": [
    "import os\n",
    "import pandas as pd\n",
    "from implicit.als import AlternatingLeastSquares\n",
    "import numpy as np\n",
    "from scipy.sparse import csr_matrix"
   ]
  },
  {
   "cell_type": "markdown",
   "id": "arbitrary-astrology",
   "metadata": {},
   "source": [
    "### 데이터 확인 및 전처리"
   ]
  },
  {
   "cell_type": "markdown",
   "id": "fantastic-quest",
   "metadata": {},
   "source": [
    "* 사람들이 별점을 준 데이터를 불러오겠습니다."
   ]
  },
  {
   "cell_type": "code",
   "execution_count": 2,
   "id": "clean-madness",
   "metadata": {
    "scrolled": true
   },
   "outputs": [
    {
     "data": {
      "text/html": [
       "<div>\n",
       "<style scoped>\n",
       "    .dataframe tbody tr th:only-of-type {\n",
       "        vertical-align: middle;\n",
       "    }\n",
       "\n",
       "    .dataframe tbody tr th {\n",
       "        vertical-align: top;\n",
       "    }\n",
       "\n",
       "    .dataframe thead th {\n",
       "        text-align: right;\n",
       "    }\n",
       "</style>\n",
       "<table border=\"1\" class=\"dataframe\">\n",
       "  <thead>\n",
       "    <tr style=\"text-align: right;\">\n",
       "      <th></th>\n",
       "      <th>user_id</th>\n",
       "      <th>movie_id</th>\n",
       "      <th>ratings</th>\n",
       "      <th>timestamp</th>\n",
       "    </tr>\n",
       "  </thead>\n",
       "  <tbody>\n",
       "    <tr>\n",
       "      <th>0</th>\n",
       "      <td>1</td>\n",
       "      <td>1193</td>\n",
       "      <td>5</td>\n",
       "      <td>978300760</td>\n",
       "    </tr>\n",
       "    <tr>\n",
       "      <th>1</th>\n",
       "      <td>1</td>\n",
       "      <td>661</td>\n",
       "      <td>3</td>\n",
       "      <td>978302109</td>\n",
       "    </tr>\n",
       "    <tr>\n",
       "      <th>2</th>\n",
       "      <td>1</td>\n",
       "      <td>914</td>\n",
       "      <td>3</td>\n",
       "      <td>978301968</td>\n",
       "    </tr>\n",
       "    <tr>\n",
       "      <th>3</th>\n",
       "      <td>1</td>\n",
       "      <td>3408</td>\n",
       "      <td>4</td>\n",
       "      <td>978300275</td>\n",
       "    </tr>\n",
       "    <tr>\n",
       "      <th>4</th>\n",
       "      <td>1</td>\n",
       "      <td>2355</td>\n",
       "      <td>5</td>\n",
       "      <td>978824291</td>\n",
       "    </tr>\n",
       "  </tbody>\n",
       "</table>\n",
       "</div>"
      ],
      "text/plain": [
       "   user_id  movie_id  ratings  timestamp\n",
       "0        1      1193        5  978300760\n",
       "1        1       661        3  978302109\n",
       "2        1       914        3  978301968\n",
       "3        1      3408        4  978300275\n",
       "4        1      2355        5  978824291"
      ]
     },
     "execution_count": 2,
     "metadata": {},
     "output_type": "execute_result"
    }
   ],
   "source": [
    "rating_file_path=os.getenv('HOME') + '/aiffel/recommendata_iu/data/ml-1m/ratings.dat'\n",
    "ratings_cols = ['user_id', 'movie_id', 'ratings', 'timestamp']\n",
    "ratings = pd.read_csv(rating_file_path, sep='::', names=ratings_cols, engine='python', encoding = \"ISO-8859-1\")\n",
    "orginal_data_size = len(ratings)\n",
    "ratings.head()"
   ]
  },
  {
   "cell_type": "markdown",
   "id": "frank-major",
   "metadata": {},
   "source": [
    "* 2점 이하는 추천하기 좀 그러니 3점 이상만 남기겠습니다."
   ]
  },
  {
   "cell_type": "code",
   "execution_count": 3,
   "id": "developing-laundry",
   "metadata": {},
   "outputs": [
    {
     "name": "stdout",
     "output_type": "stream",
     "text": [
      "orginal_data_size: 1000209, filtered_data_size: 836478\n",
      "Ratio of Remaining Data is 83.63%\n"
     ]
    }
   ],
   "source": [
    "# 3점 이상만 남깁니다.\n",
    "ratings = ratings[ratings['ratings']>=3]\n",
    "filtered_data_size = len(ratings)\n",
    "\n",
    "print(f'orginal_data_size: {orginal_data_size}, filtered_data_size: {filtered_data_size}')\n",
    "print(f'Ratio of Remaining Data is {filtered_data_size / orginal_data_size:.2%}')"
   ]
  },
  {
   "cell_type": "markdown",
   "id": "indoor-irish",
   "metadata": {},
   "source": [
    "* 3점 이상이 약 84%정도라 삭제해도 문제 없어 보입니다."
   ]
  },
  {
   "cell_type": "markdown",
   "id": "royal-karaoke",
   "metadata": {},
   "source": [
    "* raings 컬럼의 이름을 바꾸고 진행하겠습니다."
   ]
  },
  {
   "cell_type": "code",
   "execution_count": 4,
   "id": "noted-dealer",
   "metadata": {},
   "outputs": [],
   "source": [
    "# ratings 컬럼의 이름을 counts로 바꿉니다.\n",
    "ratings.rename(columns={'ratings':'counts'}, inplace=True)"
   ]
  },
  {
   "cell_type": "code",
   "execution_count": 60,
   "id": "involved-assault",
   "metadata": {},
   "outputs": [
    {
     "data": {
      "text/plain": [
       "0    5\n",
       "1    3\n",
       "2    3\n",
       "3    4\n",
       "4    5\n",
       "5    3\n",
       "6    5\n",
       "7    5\n",
       "8    4\n",
       "9    4\n",
       "Name: counts, dtype: int64"
      ]
     },
     "execution_count": 60,
     "metadata": {},
     "output_type": "execute_result"
    }
   ],
   "source": [
    "ratings['counts'].head(10)"
   ]
  },
  {
   "cell_type": "markdown",
   "id": "phantom-lender",
   "metadata": {},
   "source": [
    "* 1번 유저가 준 영화별 별점 일부를 보겠습니다."
   ]
  },
  {
   "cell_type": "code",
   "execution_count": 6,
   "id": "mental-benefit",
   "metadata": {},
   "outputs": [
    {
     "data": {
      "text/html": [
       "<div>\n",
       "<style scoped>\n",
       "    .dataframe tbody tr th:only-of-type {\n",
       "        vertical-align: middle;\n",
       "    }\n",
       "\n",
       "    .dataframe tbody tr th {\n",
       "        vertical-align: top;\n",
       "    }\n",
       "\n",
       "    .dataframe thead th {\n",
       "        text-align: right;\n",
       "    }\n",
       "</style>\n",
       "<table border=\"1\" class=\"dataframe\">\n",
       "  <thead>\n",
       "    <tr style=\"text-align: right;\">\n",
       "      <th></th>\n",
       "      <th>user_id</th>\n",
       "      <th>movie_id</th>\n",
       "      <th>counts</th>\n",
       "      <th>timestamp</th>\n",
       "    </tr>\n",
       "  </thead>\n",
       "  <tbody>\n",
       "    <tr>\n",
       "      <th>0</th>\n",
       "      <td>1</td>\n",
       "      <td>1193</td>\n",
       "      <td>5</td>\n",
       "      <td>978300760</td>\n",
       "    </tr>\n",
       "    <tr>\n",
       "      <th>1</th>\n",
       "      <td>1</td>\n",
       "      <td>661</td>\n",
       "      <td>3</td>\n",
       "      <td>978302109</td>\n",
       "    </tr>\n",
       "    <tr>\n",
       "      <th>2</th>\n",
       "      <td>1</td>\n",
       "      <td>914</td>\n",
       "      <td>3</td>\n",
       "      <td>978301968</td>\n",
       "    </tr>\n",
       "    <tr>\n",
       "      <th>3</th>\n",
       "      <td>1</td>\n",
       "      <td>3408</td>\n",
       "      <td>4</td>\n",
       "      <td>978300275</td>\n",
       "    </tr>\n",
       "    <tr>\n",
       "      <th>4</th>\n",
       "      <td>1</td>\n",
       "      <td>2355</td>\n",
       "      <td>5</td>\n",
       "      <td>978824291</td>\n",
       "    </tr>\n",
       "  </tbody>\n",
       "</table>\n",
       "</div>"
      ],
      "text/plain": [
       "   user_id  movie_id  counts  timestamp\n",
       "0        1      1193       5  978300760\n",
       "1        1       661       3  978302109\n",
       "2        1       914       3  978301968\n",
       "3        1      3408       4  978300275\n",
       "4        1      2355       5  978824291"
      ]
     },
     "execution_count": 6,
     "metadata": {},
     "output_type": "execute_result"
    }
   ],
   "source": [
    "condition = (ratings['user_id']== ratings.loc[0, 'user_id'])\n",
    "ratings.loc[condition].head()"
   ]
  },
  {
   "cell_type": "markdown",
   "id": "outdoor-retreat",
   "metadata": {},
   "source": [
    "* movie_id만 가지고는 어떤 영화인지 알 수 없어 메타 데이터를 불러오겠습니다."
   ]
  },
  {
   "cell_type": "code",
   "execution_count": 7,
   "id": "joined-container",
   "metadata": {},
   "outputs": [
    {
     "data": {
      "text/html": [
       "<div>\n",
       "<style scoped>\n",
       "    .dataframe tbody tr th:only-of-type {\n",
       "        vertical-align: middle;\n",
       "    }\n",
       "\n",
       "    .dataframe tbody tr th {\n",
       "        vertical-align: top;\n",
       "    }\n",
       "\n",
       "    .dataframe thead th {\n",
       "        text-align: right;\n",
       "    }\n",
       "</style>\n",
       "<table border=\"1\" class=\"dataframe\">\n",
       "  <thead>\n",
       "    <tr style=\"text-align: right;\">\n",
       "      <th></th>\n",
       "      <th>movie_id</th>\n",
       "      <th>title</th>\n",
       "      <th>genre</th>\n",
       "    </tr>\n",
       "  </thead>\n",
       "  <tbody>\n",
       "    <tr>\n",
       "      <th>0</th>\n",
       "      <td>1</td>\n",
       "      <td>Toy Story (1995)</td>\n",
       "      <td>Animation|Children's|Comedy</td>\n",
       "    </tr>\n",
       "    <tr>\n",
       "      <th>1</th>\n",
       "      <td>2</td>\n",
       "      <td>Jumanji (1995)</td>\n",
       "      <td>Adventure|Children's|Fantasy</td>\n",
       "    </tr>\n",
       "    <tr>\n",
       "      <th>2</th>\n",
       "      <td>3</td>\n",
       "      <td>Grumpier Old Men (1995)</td>\n",
       "      <td>Comedy|Romance</td>\n",
       "    </tr>\n",
       "    <tr>\n",
       "      <th>3</th>\n",
       "      <td>4</td>\n",
       "      <td>Waiting to Exhale (1995)</td>\n",
       "      <td>Comedy|Drama</td>\n",
       "    </tr>\n",
       "    <tr>\n",
       "      <th>4</th>\n",
       "      <td>5</td>\n",
       "      <td>Father of the Bride Part II (1995)</td>\n",
       "      <td>Comedy</td>\n",
       "    </tr>\n",
       "  </tbody>\n",
       "</table>\n",
       "</div>"
      ],
      "text/plain": [
       "   movie_id                               title                         genre\n",
       "0         1                    Toy Story (1995)   Animation|Children's|Comedy\n",
       "1         2                      Jumanji (1995)  Adventure|Children's|Fantasy\n",
       "2         3             Grumpier Old Men (1995)                Comedy|Romance\n",
       "3         4            Waiting to Exhale (1995)                  Comedy|Drama\n",
       "4         5  Father of the Bride Part II (1995)                        Comedy"
      ]
     },
     "execution_count": 7,
     "metadata": {},
     "output_type": "execute_result"
    }
   ],
   "source": [
    "# 영화 제목을 보기 위해 메타 데이터를 읽어옵니다.\n",
    "movie_file_path=os.getenv('HOME') + '/aiffel/recommendata_iu/data/ml-1m/movies.dat'\n",
    "cols = ['movie_id', 'title', 'genre'] \n",
    "movies = pd.read_csv(movie_file_path, sep='::', names=cols, engine='python', encoding='ISO-8859-1')\n",
    "movies.head()"
   ]
  },
  {
   "cell_type": "code",
   "execution_count": 8,
   "id": "adverse-hayes",
   "metadata": {},
   "outputs": [
    {
     "data": {
      "text/html": [
       "<div>\n",
       "<style scoped>\n",
       "    .dataframe tbody tr th:only-of-type {\n",
       "        vertical-align: middle;\n",
       "    }\n",
       "\n",
       "    .dataframe tbody tr th {\n",
       "        vertical-align: top;\n",
       "    }\n",
       "\n",
       "    .dataframe thead th {\n",
       "        text-align: right;\n",
       "    }\n",
       "</style>\n",
       "<table border=\"1\" class=\"dataframe\">\n",
       "  <thead>\n",
       "    <tr style=\"text-align: right;\">\n",
       "      <th></th>\n",
       "      <th>movie_id</th>\n",
       "      <th>title</th>\n",
       "      <th>genre</th>\n",
       "    </tr>\n",
       "  </thead>\n",
       "  <tbody>\n",
       "    <tr>\n",
       "      <th>3878</th>\n",
       "      <td>3948</td>\n",
       "      <td>Meet the Parents (2000)</td>\n",
       "      <td>Comedy</td>\n",
       "    </tr>\n",
       "    <tr>\n",
       "      <th>3879</th>\n",
       "      <td>3949</td>\n",
       "      <td>Requiem for a Dream (2000)</td>\n",
       "      <td>Drama</td>\n",
       "    </tr>\n",
       "    <tr>\n",
       "      <th>3880</th>\n",
       "      <td>3950</td>\n",
       "      <td>Tigerland (2000)</td>\n",
       "      <td>Drama</td>\n",
       "    </tr>\n",
       "    <tr>\n",
       "      <th>3881</th>\n",
       "      <td>3951</td>\n",
       "      <td>Two Family House (2000)</td>\n",
       "      <td>Drama</td>\n",
       "    </tr>\n",
       "    <tr>\n",
       "      <th>3882</th>\n",
       "      <td>3952</td>\n",
       "      <td>Contender, The (2000)</td>\n",
       "      <td>Drama|Thriller</td>\n",
       "    </tr>\n",
       "  </tbody>\n",
       "</table>\n",
       "</div>"
      ],
      "text/plain": [
       "      movie_id                       title           genre\n",
       "3878      3948     Meet the Parents (2000)          Comedy\n",
       "3879      3949  Requiem for a Dream (2000)           Drama\n",
       "3880      3950            Tigerland (2000)           Drama\n",
       "3881      3951     Two Family House (2000)           Drama\n",
       "3882      3952       Contender, The (2000)  Drama|Thriller"
      ]
     },
     "execution_count": 8,
     "metadata": {},
     "output_type": "execute_result"
    }
   ],
   "source": [
    "movies.tail()"
   ]
  },
  {
   "cell_type": "markdown",
   "id": "loose-sally",
   "metadata": {},
   "source": [
    "* movie_id중 중간에 비는 값이 있는것 같습니다. 주의해야겠네요"
   ]
  },
  {
   "cell_type": "markdown",
   "id": "capable-black",
   "metadata": {},
   "source": [
    "* 이제 기존의 ratings 에 타이틀을 합치겠습니다."
   ]
  },
  {
   "cell_type": "code",
   "execution_count": 9,
   "id": "cooked-google",
   "metadata": {},
   "outputs": [],
   "source": [
    "idx_to_title, title_to_idx = {}, {}\n",
    "for i, data in movies[['movie_id', 'title']].iterrows():\n",
    "    idx_to_title[data.movie_id] = data.title\n",
    "    title_to_idx[data.title] = data.movie_id"
   ]
  },
  {
   "cell_type": "code",
   "execution_count": 76,
   "id": "absolute-universe",
   "metadata": {},
   "outputs": [
    {
     "data": {
      "text/html": [
       "<div>\n",
       "<style scoped>\n",
       "    .dataframe tbody tr th:only-of-type {\n",
       "        vertical-align: middle;\n",
       "    }\n",
       "\n",
       "    .dataframe tbody tr th {\n",
       "        vertical-align: top;\n",
       "    }\n",
       "\n",
       "    .dataframe thead th {\n",
       "        text-align: right;\n",
       "    }\n",
       "</style>\n",
       "<table border=\"1\" class=\"dataframe\">\n",
       "  <thead>\n",
       "    <tr style=\"text-align: right;\">\n",
       "      <th></th>\n",
       "      <th>user_id</th>\n",
       "      <th>movie_id</th>\n",
       "      <th>counts</th>\n",
       "      <th>title_x</th>\n",
       "      <th>title_y</th>\n",
       "    </tr>\n",
       "  </thead>\n",
       "  <tbody>\n",
       "    <tr>\n",
       "      <th>0</th>\n",
       "      <td>0</td>\n",
       "      <td>1193</td>\n",
       "      <td>5</td>\n",
       "      <td>One Flew Over the Cuckoo's Nest (1975)</td>\n",
       "      <td>One Flew Over the Cuckoo's Nest (1975)</td>\n",
       "    </tr>\n",
       "    <tr>\n",
       "      <th>1</th>\n",
       "      <td>0</td>\n",
       "      <td>661</td>\n",
       "      <td>3</td>\n",
       "      <td>James and the Giant Peach (1996)</td>\n",
       "      <td>James and the Giant Peach (1996)</td>\n",
       "    </tr>\n",
       "    <tr>\n",
       "      <th>2</th>\n",
       "      <td>0</td>\n",
       "      <td>914</td>\n",
       "      <td>3</td>\n",
       "      <td>My Fair Lady (1964)</td>\n",
       "      <td>My Fair Lady (1964)</td>\n",
       "    </tr>\n",
       "    <tr>\n",
       "      <th>3</th>\n",
       "      <td>0</td>\n",
       "      <td>3408</td>\n",
       "      <td>4</td>\n",
       "      <td>Erin Brockovich (2000)</td>\n",
       "      <td>Erin Brockovich (2000)</td>\n",
       "    </tr>\n",
       "    <tr>\n",
       "      <th>4</th>\n",
       "      <td>0</td>\n",
       "      <td>2355</td>\n",
       "      <td>5</td>\n",
       "      <td>Bug's Life, A (1998)</td>\n",
       "      <td>Bug's Life, A (1998)</td>\n",
       "    </tr>\n",
       "  </tbody>\n",
       "</table>\n",
       "</div>"
      ],
      "text/plain": [
       "   user_id  movie_id  counts                                 title_x  \\\n",
       "0        0      1193       5  One Flew Over the Cuckoo's Nest (1975)   \n",
       "1        0       661       3        James and the Giant Peach (1996)   \n",
       "2        0       914       3                     My Fair Lady (1964)   \n",
       "3        0      3408       4                  Erin Brockovich (2000)   \n",
       "4        0      2355       5                    Bug's Life, A (1998)   \n",
       "\n",
       "                                  title_y  \n",
       "0  One Flew Over the Cuckoo's Nest (1975)  \n",
       "1        James and the Giant Peach (1996)  \n",
       "2                     My Fair Lady (1964)  \n",
       "3                  Erin Brockovich (2000)  \n",
       "4                    Bug's Life, A (1998)  "
      ]
     },
     "execution_count": 76,
     "metadata": {},
     "output_type": "execute_result"
    }
   ],
   "source": [
    "ratings = pd.merge(ratings, movies[['movie_id', 'title']], how='left', on=['movie_id'])\n",
    "ratings.head()"
   ]
  },
  {
   "cell_type": "markdown",
   "id": "universal-reply",
   "metadata": {},
   "source": [
    "* merge를 사용해 movie_id기준으로 합쳤습니다."
   ]
  },
  {
   "cell_type": "markdown",
   "id": "boxed-steel",
   "metadata": {},
   "source": [
    "* timestamp는 불필요하다 생각해 제거하겠습니다."
   ]
  },
  {
   "cell_type": "code",
   "execution_count": 11,
   "id": "binary-lafayette",
   "metadata": {},
   "outputs": [],
   "source": [
    "del ratings['timestamp']"
   ]
  },
  {
   "cell_type": "markdown",
   "id": "understood-incidence",
   "metadata": {},
   "source": [
    "* 확인해 보겠습니다."
   ]
  },
  {
   "cell_type": "markdown",
   "id": "constitutional-rally",
   "metadata": {},
   "source": [
    "### 데이터 분석"
   ]
  },
  {
   "cell_type": "code",
   "execution_count": 12,
   "id": "attractive-eating",
   "metadata": {},
   "outputs": [
    {
     "data": {
      "text/html": [
       "<div>\n",
       "<style scoped>\n",
       "    .dataframe tbody tr th:only-of-type {\n",
       "        vertical-align: middle;\n",
       "    }\n",
       "\n",
       "    .dataframe tbody tr th {\n",
       "        vertical-align: top;\n",
       "    }\n",
       "\n",
       "    .dataframe thead th {\n",
       "        text-align: right;\n",
       "    }\n",
       "</style>\n",
       "<table border=\"1\" class=\"dataframe\">\n",
       "  <thead>\n",
       "    <tr style=\"text-align: right;\">\n",
       "      <th></th>\n",
       "      <th>user_id</th>\n",
       "      <th>movie_id</th>\n",
       "      <th>counts</th>\n",
       "      <th>title</th>\n",
       "    </tr>\n",
       "  </thead>\n",
       "  <tbody>\n",
       "    <tr>\n",
       "      <th>0</th>\n",
       "      <td>1</td>\n",
       "      <td>1193</td>\n",
       "      <td>5</td>\n",
       "      <td>One Flew Over the Cuckoo's Nest (1975)</td>\n",
       "    </tr>\n",
       "    <tr>\n",
       "      <th>1</th>\n",
       "      <td>1</td>\n",
       "      <td>661</td>\n",
       "      <td>3</td>\n",
       "      <td>James and the Giant Peach (1996)</td>\n",
       "    </tr>\n",
       "    <tr>\n",
       "      <th>2</th>\n",
       "      <td>1</td>\n",
       "      <td>914</td>\n",
       "      <td>3</td>\n",
       "      <td>My Fair Lady (1964)</td>\n",
       "    </tr>\n",
       "    <tr>\n",
       "      <th>3</th>\n",
       "      <td>1</td>\n",
       "      <td>3408</td>\n",
       "      <td>4</td>\n",
       "      <td>Erin Brockovich (2000)</td>\n",
       "    </tr>\n",
       "    <tr>\n",
       "      <th>4</th>\n",
       "      <td>1</td>\n",
       "      <td>2355</td>\n",
       "      <td>5</td>\n",
       "      <td>Bug's Life, A (1998)</td>\n",
       "    </tr>\n",
       "  </tbody>\n",
       "</table>\n",
       "</div>"
      ],
      "text/plain": [
       "   user_id  movie_id  counts                                   title\n",
       "0        1      1193       5  One Flew Over the Cuckoo's Nest (1975)\n",
       "1        1       661       3        James and the Giant Peach (1996)\n",
       "2        1       914       3                     My Fair Lady (1964)\n",
       "3        1      3408       4                  Erin Brockovich (2000)\n",
       "4        1      2355       5                    Bug's Life, A (1998)"
      ]
     },
     "execution_count": 12,
     "metadata": {},
     "output_type": "execute_result"
    }
   ],
   "source": [
    "ratings.head()"
   ]
  },
  {
   "cell_type": "markdown",
   "id": "willing-honolulu",
   "metadata": {},
   "source": [
    "* 몇 명의 유저가 있나 확인해보겠습니다."
   ]
  },
  {
   "cell_type": "code",
   "execution_count": 13,
   "id": "worth-agenda",
   "metadata": {},
   "outputs": [
    {
     "data": {
      "text/plain": [
       "6039"
      ]
     },
     "execution_count": 13,
     "metadata": {},
     "output_type": "execute_result"
    }
   ],
   "source": [
    "# 유저 수\n",
    "ratings['user_id'].nunique()"
   ]
  },
  {
   "cell_type": "markdown",
   "id": "embedded-armenia",
   "metadata": {},
   "source": [
    "* 유저들이 본 영화의 수를 보겠습니다."
   ]
  },
  {
   "cell_type": "code",
   "execution_count": 90,
   "id": "mature-plymouth",
   "metadata": {},
   "outputs": [
    {
     "data": {
      "text/plain": [
       "3628"
      ]
     },
     "execution_count": 90,
     "metadata": {},
     "output_type": "execute_result"
    }
   ],
   "source": [
    "# 영화 수\n",
    "ratings['movie_id'].nunique()"
   ]
  },
  {
   "cell_type": "markdown",
   "id": "cooked-equivalent",
   "metadata": {},
   "source": [
    "* 인기가 많은 영화를 30개까지 확인해 보겠습니다."
   ]
  },
  {
   "cell_type": "code",
   "execution_count": 15,
   "id": "meaningful-customer",
   "metadata": {},
   "outputs": [
    {
     "data": {
      "text/plain": [
       "title\n",
       "American Beauty (1999)                                   3211\n",
       "Star Wars: Episode IV - A New Hope (1977)                2910\n",
       "Star Wars: Episode V - The Empire Strikes Back (1980)    2885\n",
       "Star Wars: Episode VI - Return of the Jedi (1983)        2716\n",
       "Saving Private Ryan (1998)                               2561\n",
       "Terminator 2: Judgment Day (1991)                        2509\n",
       "Silence of the Lambs, The (1991)                         2498\n",
       "Raiders of the Lost Ark (1981)                           2473\n",
       "Back to the Future (1985)                                2460\n",
       "Matrix, The (1999)                                       2434\n",
       "Jurassic Park (1993)                                     2413\n",
       "Sixth Sense, The (1999)                                  2385\n",
       "Fargo (1996)                                             2371\n",
       "Braveheart (1995)                                        2314\n",
       "Men in Black (1997)                                      2297\n",
       "Schindler's List (1993)                                  2257\n",
       "Princess Bride, The (1987)                               2252\n",
       "Shakespeare in Love (1998)                               2213\n",
       "L.A. Confidential (1997)                                 2210\n",
       "Shawshank Redemption, The (1994)                         2194\n",
       "Godfather, The (1972)                                    2167\n",
       "Groundhog Day (1993)                                     2121\n",
       "E.T. the Extra-Terrestrial (1982)                        2102\n",
       "Being John Malkovich (1999)                              2066\n",
       "Ghostbusters (1984)                                      2051\n",
       "Pulp Fiction (1994)                                      2030\n",
       "Forrest Gump (1994)                                      2022\n",
       "Terminator, The (1984)                                   2019\n",
       "Toy Story (1995)                                         2000\n",
       "Fugitive, The (1993)                                     1941\n",
       "Name: user_id, dtype: int64"
      ]
     },
     "execution_count": 15,
     "metadata": {},
     "output_type": "execute_result"
    }
   ],
   "source": [
    "# 인기 많은 영화\n",
    "movie_count = ratings.groupby('title')['user_id'].count()\n",
    "movie_count.sort_values(ascending=False).head(30)"
   ]
  },
  {
   "cell_type": "markdown",
   "id": "minor-coordinator",
   "metadata": {},
   "source": [
    "* 익숙한 영화들이 많이 보이네요!"
   ]
  },
  {
   "cell_type": "code",
   "execution_count": 16,
   "id": "caring-toner",
   "metadata": {},
   "outputs": [
    {
     "data": {
      "text/plain": [
       "count    6039.000000\n",
       "mean      138.512668\n",
       "std       156.241599\n",
       "min         1.000000\n",
       "25%        38.000000\n",
       "50%        81.000000\n",
       "75%       177.000000\n",
       "max      1968.000000\n",
       "Name: title, dtype: float64"
      ]
     },
     "execution_count": 16,
     "metadata": {},
     "output_type": "execute_result"
    }
   ],
   "source": [
    "# 유저별 몇 개의 영화를  보았는지에 대한 통계\n",
    "user_count = ratings.groupby('user_id')['title'].count()\n",
    "user_count.describe()"
   ]
  },
  {
   "cell_type": "markdown",
   "id": "seasonal-negative",
   "metadata": {},
   "source": [
    "* 평균적으로 한 유저당 138개의 영화를 보았네요.\n",
    "* 가장 적게본 사람은 1개만 보았습니다.\n",
    "* 가장 많이 본 사람은 1968개나 보았네요."
   ]
  },
  {
   "cell_type": "markdown",
   "id": "invalid-protein",
   "metadata": {},
   "source": [
    "### 제가 선호하는 영화를 5가지 골라서 ratings에 추가해 보겠습니다."
   ]
  },
  {
   "cell_type": "code",
   "execution_count": 17,
   "id": "conditional-beatles",
   "metadata": {},
   "outputs": [
    {
     "name": "stdout",
     "output_type": "stream",
     "text": [
      "      movie_id                       title             genre\n",
      "1959      2028  Saving Private Ryan (1998)  Action|Drama|War\n",
      "   movie_id             title                        genre\n",
      "0         1  Toy Story (1995)  Animation|Children's|Comedy\n",
      "      movie_id                   title                   genre\n",
      "1220      1240  Terminator, The (1984)  Action|Sci-Fi|Thriller\n",
      "      movie_id                title                           genre\n",
      "1539      1580  Men in Black (1997)  Action|Adventure|Comedy|Sci-Fi\n",
      "      movie_id               title                   genre\n",
      "2502      2571  Matrix, The (1999)  Action|Sci-Fi|Thriller\n"
     ]
    }
   ],
   "source": [
    "print(movies.loc[movies['title']=='Saving Private Ryan (1998)'])\n",
    "print(movies.loc[movies['title']=='Toy Story (1995)'])\n",
    "print(movies.loc[movies['title']=='Terminator, The (1984)'])\n",
    "print(movies.loc[movies['title']=='Men in Black (1997)'])\n",
    "print(movies.loc[movies['title']=='Matrix, The (1999)'])"
   ]
  },
  {
   "cell_type": "markdown",
   "id": "appreciated-arkansas",
   "metadata": {},
   "source": [
    "* title만 추가 할수 없어 각 title별 movie_id를 확인해 보았습니다."
   ]
  },
  {
   "cell_type": "code",
   "execution_count": 18,
   "id": "absent-defeat",
   "metadata": {},
   "outputs": [],
   "source": [
    "my_favorite = ['Saving Private Ryan (1998)' , 'Toy Story (1995)' ,'Terminator, The (1984)' ,'Men in Black (1997)' ,'Matrix, The (1999)']\n",
    "my_movie_id = [2028, 1, 1240, 1580, 2571]\n",
    "\n",
    "# 'ost'이라는 user_id가 위 영화를 별점 5개씩 주었다고 가정하겠습니다.\n",
    "my_movielist = pd.DataFrame({'user_id': ['ost']*5, 'movie_id' : my_movie_id, 'counts':[5]*5, 'title' : my_favorite})"
   ]
  },
  {
   "cell_type": "markdown",
   "id": "seven-supply",
   "metadata": {},
   "source": [
    "* 추가하기위한 데이터프레임을 만들었고 확인해 보겠습니다."
   ]
  },
  {
   "cell_type": "code",
   "execution_count": 19,
   "id": "ordered-intersection",
   "metadata": {},
   "outputs": [
    {
     "data": {
      "text/html": [
       "<div>\n",
       "<style scoped>\n",
       "    .dataframe tbody tr th:only-of-type {\n",
       "        vertical-align: middle;\n",
       "    }\n",
       "\n",
       "    .dataframe tbody tr th {\n",
       "        vertical-align: top;\n",
       "    }\n",
       "\n",
       "    .dataframe thead th {\n",
       "        text-align: right;\n",
       "    }\n",
       "</style>\n",
       "<table border=\"1\" class=\"dataframe\">\n",
       "  <thead>\n",
       "    <tr style=\"text-align: right;\">\n",
       "      <th></th>\n",
       "      <th>user_id</th>\n",
       "      <th>movie_id</th>\n",
       "      <th>counts</th>\n",
       "      <th>title</th>\n",
       "    </tr>\n",
       "  </thead>\n",
       "  <tbody>\n",
       "    <tr>\n",
       "      <th>0</th>\n",
       "      <td>ost</td>\n",
       "      <td>2028</td>\n",
       "      <td>5</td>\n",
       "      <td>Saving Private Ryan (1998)</td>\n",
       "    </tr>\n",
       "    <tr>\n",
       "      <th>1</th>\n",
       "      <td>ost</td>\n",
       "      <td>1</td>\n",
       "      <td>5</td>\n",
       "      <td>Toy Story (1995)</td>\n",
       "    </tr>\n",
       "    <tr>\n",
       "      <th>2</th>\n",
       "      <td>ost</td>\n",
       "      <td>1240</td>\n",
       "      <td>5</td>\n",
       "      <td>Terminator, The (1984)</td>\n",
       "    </tr>\n",
       "    <tr>\n",
       "      <th>3</th>\n",
       "      <td>ost</td>\n",
       "      <td>1580</td>\n",
       "      <td>5</td>\n",
       "      <td>Men in Black (1997)</td>\n",
       "    </tr>\n",
       "    <tr>\n",
       "      <th>4</th>\n",
       "      <td>ost</td>\n",
       "      <td>2571</td>\n",
       "      <td>5</td>\n",
       "      <td>Matrix, The (1999)</td>\n",
       "    </tr>\n",
       "  </tbody>\n",
       "</table>\n",
       "</div>"
      ],
      "text/plain": [
       "  user_id  movie_id  counts                       title\n",
       "0     ost      2028       5  Saving Private Ryan (1998)\n",
       "1     ost         1       5            Toy Story (1995)\n",
       "2     ost      1240       5      Terminator, The (1984)\n",
       "3     ost      1580       5         Men in Black (1997)\n",
       "4     ost      2571       5          Matrix, The (1999)"
      ]
     },
     "execution_count": 19,
     "metadata": {},
     "output_type": "execute_result"
    }
   ],
   "source": [
    "my_movielist"
   ]
  },
  {
   "cell_type": "markdown",
   "id": "stainless-holocaust",
   "metadata": {},
   "source": [
    "* 추가하겠습니다."
   ]
  },
  {
   "cell_type": "code",
   "execution_count": 20,
   "id": "important-facial",
   "metadata": {},
   "outputs": [
    {
     "data": {
      "text/html": [
       "<div>\n",
       "<style scoped>\n",
       "    .dataframe tbody tr th:only-of-type {\n",
       "        vertical-align: middle;\n",
       "    }\n",
       "\n",
       "    .dataframe tbody tr th {\n",
       "        vertical-align: top;\n",
       "    }\n",
       "\n",
       "    .dataframe thead th {\n",
       "        text-align: right;\n",
       "    }\n",
       "</style>\n",
       "<table border=\"1\" class=\"dataframe\">\n",
       "  <thead>\n",
       "    <tr style=\"text-align: right;\">\n",
       "      <th></th>\n",
       "      <th>user_id</th>\n",
       "      <th>movie_id</th>\n",
       "      <th>counts</th>\n",
       "      <th>title</th>\n",
       "    </tr>\n",
       "  </thead>\n",
       "  <tbody>\n",
       "    <tr>\n",
       "      <th>836473</th>\n",
       "      <td>6040</td>\n",
       "      <td>1090</td>\n",
       "      <td>3</td>\n",
       "      <td>Platoon (1986)</td>\n",
       "    </tr>\n",
       "    <tr>\n",
       "      <th>836474</th>\n",
       "      <td>6040</td>\n",
       "      <td>1094</td>\n",
       "      <td>5</td>\n",
       "      <td>Crying Game, The (1992)</td>\n",
       "    </tr>\n",
       "    <tr>\n",
       "      <th>836475</th>\n",
       "      <td>6040</td>\n",
       "      <td>562</td>\n",
       "      <td>5</td>\n",
       "      <td>Welcome to the Dollhouse (1995)</td>\n",
       "    </tr>\n",
       "    <tr>\n",
       "      <th>836476</th>\n",
       "      <td>6040</td>\n",
       "      <td>1096</td>\n",
       "      <td>4</td>\n",
       "      <td>Sophie's Choice (1982)</td>\n",
       "    </tr>\n",
       "    <tr>\n",
       "      <th>836477</th>\n",
       "      <td>6040</td>\n",
       "      <td>1097</td>\n",
       "      <td>4</td>\n",
       "      <td>E.T. the Extra-Terrestrial (1982)</td>\n",
       "    </tr>\n",
       "    <tr>\n",
       "      <th>0</th>\n",
       "      <td>ost</td>\n",
       "      <td>2028</td>\n",
       "      <td>5</td>\n",
       "      <td>Saving Private Ryan (1998)</td>\n",
       "    </tr>\n",
       "    <tr>\n",
       "      <th>1</th>\n",
       "      <td>ost</td>\n",
       "      <td>1</td>\n",
       "      <td>5</td>\n",
       "      <td>Toy Story (1995)</td>\n",
       "    </tr>\n",
       "    <tr>\n",
       "      <th>2</th>\n",
       "      <td>ost</td>\n",
       "      <td>1240</td>\n",
       "      <td>5</td>\n",
       "      <td>Terminator, The (1984)</td>\n",
       "    </tr>\n",
       "    <tr>\n",
       "      <th>3</th>\n",
       "      <td>ost</td>\n",
       "      <td>1580</td>\n",
       "      <td>5</td>\n",
       "      <td>Men in Black (1997)</td>\n",
       "    </tr>\n",
       "    <tr>\n",
       "      <th>4</th>\n",
       "      <td>ost</td>\n",
       "      <td>2571</td>\n",
       "      <td>5</td>\n",
       "      <td>Matrix, The (1999)</td>\n",
       "    </tr>\n",
       "  </tbody>\n",
       "</table>\n",
       "</div>"
      ],
      "text/plain": [
       "       user_id  movie_id  counts                              title\n",
       "836473    6040      1090       3                     Platoon (1986)\n",
       "836474    6040      1094       5            Crying Game, The (1992)\n",
       "836475    6040       562       5    Welcome to the Dollhouse (1995)\n",
       "836476    6040      1096       4             Sophie's Choice (1982)\n",
       "836477    6040      1097       4  E.T. the Extra-Terrestrial (1982)\n",
       "0          ost      2028       5         Saving Private Ryan (1998)\n",
       "1          ost         1       5                   Toy Story (1995)\n",
       "2          ost      1240       5             Terminator, The (1984)\n",
       "3          ost      1580       5                Men in Black (1997)\n",
       "4          ost      2571       5                 Matrix, The (1999)"
      ]
     },
     "execution_count": 20,
     "metadata": {},
     "output_type": "execute_result"
    }
   ],
   "source": [
    "if not ratings.isin({'user_id':['ost']})['user_id'].any():  # user_id에 'zimin'이라는 데이터가 없다면\n",
    "    ratings = ratings.append(my_movielist)                           # 위에 임의로 만든 my_favorite 데이터를 추가해 줍니다. \n",
    "\n",
    "ratings.tail(10)       # 잘 추가되었는지 확인해 봅시다."
   ]
  },
  {
   "cell_type": "markdown",
   "id": "saved-fashion",
   "metadata": {},
   "source": [
    "* 맨 밑에 잘 추가가 되었습니다."
   ]
  },
  {
   "cell_type": "markdown",
   "id": "municipal-resident",
   "metadata": {},
   "source": [
    "* 위에서 movies의 인덱싱과 movie_id가 중간중간 없는게 있어 직접 딕셔너리를 만들겠습니다."
   ]
  },
  {
   "cell_type": "code",
   "execution_count": 77,
   "id": "confident-danger",
   "metadata": {},
   "outputs": [],
   "source": [
    "movie_id_to_idx = movies_idx.set_index('movie_id').T.to_dict('records')\n",
    "movie_id_to_idx = movie_id_to_idx[0]\n",
    "movie_id_idx = {}\n",
    "for k, v in movie_id_to_idx.items():\n",
    "    movie_id_idx[v] = k"
   ]
  },
  {
   "cell_type": "markdown",
   "id": "tender-indicator",
   "metadata": {},
   "source": [
    "* 유저도 만들겠습니다."
   ]
  },
  {
   "cell_type": "code",
   "execution_count": 24,
   "id": "hydraulic-berlin",
   "metadata": {},
   "outputs": [],
   "source": [
    "# 고유한 유저를 찾아내는 코드\n",
    "user_unique = ratings['user_id'].unique()\n",
    "\n",
    "# 유저 indexing 하는 코드 idx는 index의 약자입니다.\n",
    "user_to_idx = {v:k for k,v in enumerate(user_unique)}"
   ]
  },
  {
   "cell_type": "markdown",
   "id": "severe-standing",
   "metadata": {},
   "source": [
    "* 위에서 만든 딕셔너리 2개를 사용하여 다시 인덱싱하겠습니다."
   ]
  },
  {
   "cell_type": "code",
   "execution_count": 29,
   "id": "welsh-talent",
   "metadata": {},
   "outputs": [
    {
     "name": "stdout",
     "output_type": "stream",
     "text": [
      "user_id column indexing Fail!!\n",
      "movie_id column indexing OK!!\n"
     ]
    },
    {
     "data": {
      "text/html": [
       "<div>\n",
       "<style scoped>\n",
       "    .dataframe tbody tr th:only-of-type {\n",
       "        vertical-align: middle;\n",
       "    }\n",
       "\n",
       "    .dataframe tbody tr th {\n",
       "        vertical-align: top;\n",
       "    }\n",
       "\n",
       "    .dataframe thead th {\n",
       "        text-align: right;\n",
       "    }\n",
       "</style>\n",
       "<table border=\"1\" class=\"dataframe\">\n",
       "  <thead>\n",
       "    <tr style=\"text-align: right;\">\n",
       "      <th></th>\n",
       "      <th>user_id</th>\n",
       "      <th>movie_id</th>\n",
       "      <th>counts</th>\n",
       "      <th>title</th>\n",
       "    </tr>\n",
       "  </thead>\n",
       "  <tbody>\n",
       "    <tr>\n",
       "      <th>0</th>\n",
       "      <td>0</td>\n",
       "      <td>1193</td>\n",
       "      <td>5</td>\n",
       "      <td>One Flew Over the Cuckoo's Nest (1975)</td>\n",
       "    </tr>\n",
       "    <tr>\n",
       "      <th>1</th>\n",
       "      <td>0</td>\n",
       "      <td>661</td>\n",
       "      <td>3</td>\n",
       "      <td>James and the Giant Peach (1996)</td>\n",
       "    </tr>\n",
       "    <tr>\n",
       "      <th>2</th>\n",
       "      <td>0</td>\n",
       "      <td>914</td>\n",
       "      <td>3</td>\n",
       "      <td>My Fair Lady (1964)</td>\n",
       "    </tr>\n",
       "    <tr>\n",
       "      <th>3</th>\n",
       "      <td>0</td>\n",
       "      <td>3408</td>\n",
       "      <td>4</td>\n",
       "      <td>Erin Brockovich (2000)</td>\n",
       "    </tr>\n",
       "    <tr>\n",
       "      <th>4</th>\n",
       "      <td>0</td>\n",
       "      <td>2355</td>\n",
       "      <td>5</td>\n",
       "      <td>Bug's Life, A (1998)</td>\n",
       "    </tr>\n",
       "    <tr>\n",
       "      <th>...</th>\n",
       "      <td>...</td>\n",
       "      <td>...</td>\n",
       "      <td>...</td>\n",
       "      <td>...</td>\n",
       "    </tr>\n",
       "    <tr>\n",
       "      <th>0</th>\n",
       "      <td>6039</td>\n",
       "      <td>2028</td>\n",
       "      <td>5</td>\n",
       "      <td>Saving Private Ryan (1998)</td>\n",
       "    </tr>\n",
       "    <tr>\n",
       "      <th>1</th>\n",
       "      <td>6039</td>\n",
       "      <td>1</td>\n",
       "      <td>5</td>\n",
       "      <td>Toy Story (1995)</td>\n",
       "    </tr>\n",
       "    <tr>\n",
       "      <th>2</th>\n",
       "      <td>6039</td>\n",
       "      <td>1240</td>\n",
       "      <td>5</td>\n",
       "      <td>Terminator, The (1984)</td>\n",
       "    </tr>\n",
       "    <tr>\n",
       "      <th>3</th>\n",
       "      <td>6039</td>\n",
       "      <td>1580</td>\n",
       "      <td>5</td>\n",
       "      <td>Men in Black (1997)</td>\n",
       "    </tr>\n",
       "    <tr>\n",
       "      <th>4</th>\n",
       "      <td>6039</td>\n",
       "      <td>2571</td>\n",
       "      <td>5</td>\n",
       "      <td>Matrix, The (1999)</td>\n",
       "    </tr>\n",
       "  </tbody>\n",
       "</table>\n",
       "<p>836483 rows × 4 columns</p>\n",
       "</div>"
      ],
      "text/plain": [
       "    user_id  movie_id  counts                                   title\n",
       "0         0      1193       5  One Flew Over the Cuckoo's Nest (1975)\n",
       "1         0       661       3        James and the Giant Peach (1996)\n",
       "2         0       914       3                     My Fair Lady (1964)\n",
       "3         0      3408       4                  Erin Brockovich (2000)\n",
       "4         0      2355       5                    Bug's Life, A (1998)\n",
       "..      ...       ...     ...                                     ...\n",
       "0      6039      2028       5              Saving Private Ryan (1998)\n",
       "1      6039         1       5                        Toy Story (1995)\n",
       "2      6039      1240       5                  Terminator, The (1984)\n",
       "3      6039      1580       5                     Men in Black (1997)\n",
       "4      6039      2571       5                      Matrix, The (1999)\n",
       "\n",
       "[836483 rows x 4 columns]"
      ]
     },
     "execution_count": 29,
     "metadata": {},
     "output_type": "execute_result"
    }
   ],
   "source": [
    "# indexing을 통해 데이터 컬럼 내 값을 바꾸는 코드\n",
    "# dictionary 자료형의 get 함수는 https://wikidocs.net/16 을 참고하세요.\n",
    "\n",
    "# user_to_idx.get을 통해 user_id 컬럼의 모든 값을 인덱싱한 Series를 구해 봅시다. \n",
    "# 혹시 정상적으로 인덱싱되지 않은 row가 있다면 인덱스가 NaN이 될 테니 dropna()로 제거합니다. \n",
    "temp_user_data = ratings['user_id'].map(user_to_idx.get).dropna()\n",
    "if len(temp_user_data) == len(ratings):   # 모든 row가 정상적으로 인덱싱되었다면\n",
    "    print('user_id column indexing OK!!')\n",
    "    ratings['user_id'] = temp_user_data   # data['user_id']을 인덱싱된 Series로 교체해 줍니다. \n",
    "else:\n",
    "    print('user_id column indexing Fail!!')\n",
    "\n",
    "# artist_to_idx을 통해 artist 컬럼도 동일한 방식으로 인덱싱해 줍니다. \n",
    "temp_movie_id_data = ratings['movie_id'].map(movie_id_idx.get).dropna()\n",
    "if len(temp_movie_id_data) == len(ratings):\n",
    "    print('movie_id column indexing OK!!')\n",
    "    ratings['movie_id'] = temp_movie_id_data\n",
    "else:\n",
    "    print('movie_id column indexing Fail!!')\n",
    "\n",
    "ratings"
   ]
  },
  {
   "cell_type": "markdown",
   "id": "cosmetic-comparative",
   "metadata": {},
   "source": [
    "* 숫자들이 혹시 str인지 확인해 보겠습니다."
   ]
  },
  {
   "cell_type": "code",
   "execution_count": 30,
   "id": "legendary-kinase",
   "metadata": {},
   "outputs": [
    {
     "name": "stdout",
     "output_type": "stream",
     "text": [
      "<class 'pandas.core.frame.DataFrame'>\n",
      "Int64Index: 836483 entries, 0 to 4\n",
      "Data columns (total 4 columns):\n",
      " #   Column    Non-Null Count   Dtype \n",
      "---  ------    --------------   ----- \n",
      " 0   user_id   836483 non-null  int64 \n",
      " 1   movie_id  836483 non-null  int64 \n",
      " 2   counts    836483 non-null  int64 \n",
      " 3   title     836483 non-null  object\n",
      "dtypes: int64(3), object(1)\n",
      "memory usage: 31.9+ MB\n"
     ]
    }
   ],
   "source": [
    "ratings.info()"
   ]
  },
  {
   "cell_type": "markdown",
   "id": "improving-telling",
   "metadata": {},
   "source": [
    "* 정수로 잘 되어있습니다."
   ]
  },
  {
   "cell_type": "markdown",
   "id": "ranking-services",
   "metadata": {},
   "source": [
    "### csr matrix 만들기"
   ]
  },
  {
   "cell_type": "code",
   "execution_count": 91,
   "id": "present-morning",
   "metadata": {},
   "outputs": [
    {
     "data": {
      "text/plain": [
       "<6040x3953 sparse matrix of type '<class 'numpy.longlong'>'\n",
       "\twith 836483 stored elements in Compressed Sparse Row format>"
      ]
     },
     "execution_count": 91,
     "metadata": {},
     "output_type": "execute_result"
    }
   ],
   "source": [
    "csr_data = csr_matrix((ratings.counts, (ratings.user_id, ratings.movie_id)), shape = (6040, 3953))\n",
    "csr_data"
   ]
  },
  {
   "cell_type": "markdown",
   "id": "outdoor-inflation",
   "metadata": {},
   "source": [
    "* 6040은 유저의 숫자 입니다.\n",
    "* 3953은 유저들이 본 영화 숫자가 아닌 movie_id중 중간에 비어있는 id가 있어 비어있는 값들까지 생각하여 만들었습니다."
   ]
  },
  {
   "cell_type": "markdown",
   "id": "apart-repeat",
   "metadata": {},
   "source": [
    "### 모델을 구성하여 훈련시켜 보겠습니다."
   ]
  },
  {
   "cell_type": "code",
   "execution_count": 32,
   "id": "spectacular-paraguay",
   "metadata": {},
   "outputs": [],
   "source": [
    "os.environ['OPENBLAS_NUM_THREADS']='1'\n",
    "os.environ['KMP_DUPLICATE_LIB_OK']='True'\n",
    "os.environ['MKL_NUM_THREADS']='1'"
   ]
  },
  {
   "cell_type": "code",
   "execution_count": 33,
   "id": "short-triple",
   "metadata": {},
   "outputs": [],
   "source": [
    "als_model = AlternatingLeastSquares(factors=100, regularization=0.01, use_gpu=False, iterations=15, dtype=np.float32)"
   ]
  },
  {
   "cell_type": "code",
   "execution_count": 34,
   "id": "beautiful-infrared",
   "metadata": {},
   "outputs": [
    {
     "data": {
      "text/plain": [
       "<3953x6040 sparse matrix of type '<class 'numpy.longlong'>'\n",
       "\twith 836483 stored elements in Compressed Sparse Column format>"
      ]
     },
     "execution_count": 34,
     "metadata": {},
     "output_type": "execute_result"
    }
   ],
   "source": [
    "# als 모델은 input으로 (item X user 꼴의 matrix를 받기 때문에 Transpose해줍니다.)\n",
    "csr_data_transpose = csr_data.T\n",
    "csr_data_transpose"
   ]
  },
  {
   "cell_type": "code",
   "execution_count": 35,
   "id": "significant-crossing",
   "metadata": {},
   "outputs": [
    {
     "data": {
      "application/vnd.jupyter.widget-view+json": {
       "model_id": "77556f60afb4403a803d9fd642705088",
       "version_major": 2,
       "version_minor": 0
      },
      "text/plain": [
       "  0%|          | 0/15 [00:00<?, ?it/s]"
      ]
     },
     "metadata": {},
     "output_type": "display_data"
    }
   ],
   "source": [
    "# 모델 훈련\n",
    "als_model.fit(csr_data_transpose)"
   ]
  },
  {
   "cell_type": "markdown",
   "id": "korean-bulgarian",
   "metadata": {},
   "source": [
    "###  내가 선호하는 5가지 영화 중 하나와 그 외의 영화 하나를 골라 훈련된 모델이 예측한 나의 선호도를 보겠습니다."
   ]
  },
  {
   "cell_type": "markdown",
   "id": "proof-parameter",
   "metadata": {},
   "source": [
    "* 초등학생때 TV에서 아버지와 함께 보았던 터미네이터를 보겠습니다."
   ]
  },
  {
   "cell_type": "code",
   "execution_count": 39,
   "id": "copyrighted-cylinder",
   "metadata": {},
   "outputs": [],
   "source": [
    "ost, Terminator = user_to_idx['ost'], movie_id_idx['Terminator, The (1984)']\n",
    "ost_vector,Terminator_vector = als_model.user_factors[ost], als_model.item_factors[Terminator]"
   ]
  },
  {
   "cell_type": "code",
   "execution_count": 40,
   "id": "perceived-bumper",
   "metadata": {},
   "outputs": [
    {
     "data": {
      "text/plain": [
       "array([ 0.41156933,  0.22174591,  1.1574076 ,  0.603514  , -0.22429219,\n",
       "        0.09064042,  0.5181275 , -0.05953077,  0.15345305, -0.00209727,\n",
       "       -0.15052603, -0.5426774 , -0.25555056,  0.36280972, -0.31574735,\n",
       "       -1.040051  , -0.38456714,  0.01837142, -0.84018475, -0.05612647,\n",
       "       -0.03664026,  0.3453114 ,  0.16329357,  0.17366076,  0.7387782 ,\n",
       "       -0.0561108 ,  0.8141249 ,  0.8003956 ,  1.0223374 ,  0.3292095 ,\n",
       "       -0.3721217 ,  0.5706023 ,  0.03050753, -0.25409895,  0.5103117 ,\n",
       "       -0.582886  , -0.5765198 ,  1.0255467 , -0.12290797, -0.82637537,\n",
       "       -0.04104723,  0.45727518,  0.17196544, -0.17751983,  0.04084856,\n",
       "       -0.6250691 , -0.8833435 ,  0.89913327,  0.02169862, -0.27392918,\n",
       "       -0.05954449, -0.27383238,  0.75475657,  0.3265246 ,  0.732304  ,\n",
       "       -0.5696389 ,  0.14705378, -0.07422987, -0.5654029 , -0.49542224,\n",
       "        0.21554509, -0.4457545 , -0.0188691 ,  0.29783347,  0.6035035 ,\n",
       "       -0.01188156,  0.52538556,  0.15482412, -0.3333416 , -0.05870815,\n",
       "        0.596451  ,  0.52173775, -0.5332859 , -0.22261417,  0.33709905,\n",
       "        0.30596992, -0.12754911,  0.10078579,  0.34444553, -0.11594237,\n",
       "       -0.1952358 , -0.49518773,  0.9682112 ,  0.4016203 , -0.9884998 ,\n",
       "        0.51272285, -0.60768336, -0.2146667 , -0.44754118, -0.6034793 ,\n",
       "       -0.10062138, -0.5405994 ,  0.70760804, -1.3735654 , -0.7316695 ,\n",
       "       -1.0343728 ,  0.39415574,  0.37019497, -0.06067071,  0.62533414],\n",
       "      dtype=float32)"
      ]
     },
     "execution_count": 40,
     "metadata": {},
     "output_type": "execute_result"
    }
   ],
   "source": [
    "ost_vector"
   ]
  },
  {
   "cell_type": "code",
   "execution_count": 41,
   "id": "ceramic-simon",
   "metadata": {},
   "outputs": [
    {
     "data": {
      "text/plain": [
       "array([ 1.43272979e-02, -5.75972768e-03,  2.78700329e-02, -1.80807635e-02,\n",
       "       -9.61119030e-03, -1.07572330e-02,  2.42245998e-02,  2.47842353e-02,\n",
       "        2.13944279e-02,  8.09609611e-03, -2.84729479e-03,  1.96420308e-03,\n",
       "       -2.04192586e-02,  1.36880495e-03, -4.42190655e-03, -2.01947838e-02,\n",
       "       -5.20891976e-04,  4.85806679e-03, -1.28660919e-02, -6.60057785e-03,\n",
       "        1.74099896e-02,  3.98808680e-02,  1.19086157e-03,  9.30918846e-03,\n",
       "        1.89521238e-02, -3.15587549e-03,  2.55200081e-02,  1.80625077e-02,\n",
       "        1.70119032e-02, -9.78682749e-03, -1.23421429e-02,  2.03277785e-02,\n",
       "        1.41795818e-02, -6.32210588e-03,  1.06635224e-02,  5.57037489e-03,\n",
       "       -3.63810686e-03,  2.08351903e-05,  5.55233611e-03, -6.69926545e-03,\n",
       "        2.00692751e-02,  2.58995071e-02,  5.97955659e-03,  3.14559527e-02,\n",
       "        1.12478938e-02,  1.39065748e-02, -6.08857395e-03,  2.84225084e-02,\n",
       "        2.50774814e-04,  1.11283492e-02,  2.92893238e-02,  1.52859865e-02,\n",
       "        3.54664735e-02,  1.54853985e-02,  9.38521756e-04,  2.27335934e-02,\n",
       "       -2.63786372e-02,  1.96273271e-02, -7.06912670e-03, -1.81041490e-02,\n",
       "        2.24870425e-02, -1.16738863e-02, -7.78553868e-03,  1.57536175e-02,\n",
       "        1.24348560e-02, -1.28343273e-02,  1.26979332e-02,  8.33350699e-03,\n",
       "       -1.03174411e-02, -1.31898886e-02,  2.06683706e-02,  5.41127240e-03,\n",
       "        1.51242083e-03, -2.11016648e-02, -1.44183822e-02,  1.18851045e-03,\n",
       "       -4.83381609e-03,  2.02349816e-02, -1.85587071e-02, -1.22194011e-02,\n",
       "        1.49602303e-02,  5.78738423e-03,  2.38871519e-02,  1.29322773e-02,\n",
       "       -2.03852318e-02,  2.30515953e-02, -7.97640067e-03, -1.84022672e-02,\n",
       "        5.42913005e-03, -2.55864370e-03,  2.05406416e-02, -1.21965418e-02,\n",
       "        2.87873708e-02, -9.27138235e-03, -1.45249693e-02, -8.13737512e-03,\n",
       "        2.87227128e-02,  3.06893624e-02, -3.75571549e-02,  2.70371232e-02],\n",
       "      dtype=float32)"
      ]
     },
     "execution_count": 41,
     "metadata": {},
     "output_type": "execute_result"
    }
   ],
   "source": [
    "Terminator_vector"
   ]
  },
  {
   "cell_type": "markdown",
   "id": "pressed-smile",
   "metadata": {},
   "source": [
    "* 각각 벡터로 바꿨고 내적해보겠습니다."
   ]
  },
  {
   "cell_type": "code",
   "execution_count": 42,
   "id": "danish-lindsay",
   "metadata": {},
   "outputs": [
    {
     "data": {
      "text/plain": [
       "0.4416513"
      ]
     },
     "execution_count": 42,
     "metadata": {},
     "output_type": "execute_result"
    }
   ],
   "source": [
    "np.dot(ost_vector, Terminator_vector)"
   ]
  },
  {
   "cell_type": "markdown",
   "id": "interracial-combine",
   "metadata": {},
   "source": [
    "* 44%가 나왔네요. 그리 좋은 값은 아니라고 생각하지만 결과가 어떻게 나올지 모르니 진행하겠습니다."
   ]
  },
  {
   "cell_type": "markdown",
   "id": "amended-flash",
   "metadata": {},
   "source": [
    "* 이제 추천받아 보겠습니다."
   ]
  },
  {
   "cell_type": "code",
   "execution_count": 78,
   "id": "surrounded-switch",
   "metadata": {},
   "outputs": [
    {
     "data": {
      "text/plain": [
       "[(1240, 1.0),\n",
       " (1200, 0.79087734),\n",
       " (1036, 0.69888926),\n",
       " (3527, 0.6903512),\n",
       " (1214, 0.68073404),\n",
       " (589, 0.5785759),\n",
       " (2571, 0.57114846),\n",
       " (2985, 0.53037673),\n",
       " (541, 0.52334154),\n",
       " (1196, 0.47666493),\n",
       " (2916, 0.4700418),\n",
       " (1291, 0.45074093),\n",
       " (1198, 0.44474474),\n",
       " (260, 0.4248583),\n",
       " (3703, 0.4167174)]"
      ]
     },
     "execution_count": 78,
     "metadata": {},
     "output_type": "execute_result"
    }
   ],
   "source": [
    "favorite_movie = 'Terminator, The (1984)'\n",
    "movie_id = movie_id_idx[favorite_movie]\n",
    "similar_movie = als_model.similar_items(artist_id, N=15)\n",
    "similar_movie"
   ]
  },
  {
   "cell_type": "markdown",
   "id": "marine-drain",
   "metadata": {},
   "source": [
    "* 첫번째 값은 자기 자신이기 때문에 1이 나왔습니다."
   ]
  },
  {
   "cell_type": "code",
   "execution_count": 79,
   "id": "deluxe-ribbon",
   "metadata": {},
   "outputs": [
    {
     "data": {
      "text/plain": [
       "['Terminator, The (1984)',\n",
       " 'Aliens (1986)',\n",
       " 'Die Hard (1988)',\n",
       " 'Predator (1987)',\n",
       " 'Alien (1979)',\n",
       " 'Terminator 2: Judgment Day (1991)',\n",
       " 'Matrix, The (1999)',\n",
       " 'Robocop (1987)',\n",
       " 'Blade Runner (1982)',\n",
       " 'Star Wars: Episode V - The Empire Strikes Back (1980)',\n",
       " 'Total Recall (1990)',\n",
       " 'Indiana Jones and the Last Crusade (1989)',\n",
       " 'Raiders of the Lost Ark (1981)',\n",
       " 'Star Wars: Episode IV - A New Hope (1977)',\n",
       " 'Mad Max 2 (a.k.a. The Road Warrior) (1981)']"
      ]
     },
     "execution_count": 79,
     "metadata": {},
     "output_type": "execute_result"
    }
   ],
   "source": [
    "[movie_id_to_idx[i[0]] for i in similar_movie]"
   ]
  },
  {
   "cell_type": "markdown",
   "id": "departmental-object",
   "metadata": {},
   "source": [
    "* 터미네이터 2가 가장 근접 할거라 생각 했었는데 학습이 잘 못된건지 사람들의 선호도가 다른건지 잘 모르겠습니다."
   ]
  },
  {
   "cell_type": "markdown",
   "id": "placed-guarantee",
   "metadata": {},
   "source": [
    "* 위 코드를 함수로 바꿔서 다른 영화도 확인해보겠습니다."
   ]
  },
  {
   "cell_type": "code",
   "execution_count": 80,
   "id": "turned-purple",
   "metadata": {},
   "outputs": [],
   "source": [
    "def get_similar_movie(movie_name: str):\n",
    "    movie_id = movie_id_idx[movie_name]\n",
    "    similar_movie = als_model.similar_items(movie_id)\n",
    "    similar_movie = [movie_id_to_idx[i[0]] for i in similar_movie]\n",
    "    return similar_movie"
   ]
  },
  {
   "cell_type": "code",
   "execution_count": 81,
   "id": "approved-counter",
   "metadata": {},
   "outputs": [
    {
     "data": {
      "text/plain": [
       "['Toy Story (1995)',\n",
       " 'Toy Story 2 (1999)',\n",
       " \"Bug's Life, A (1998)\",\n",
       " 'Aladdin (1992)',\n",
       " 'Groundhog Day (1993)',\n",
       " 'Babe (1995)',\n",
       " 'Lion King, The (1994)',\n",
       " 'Pleasantville (1998)',\n",
       " 'Beauty and the Beast (1991)',\n",
       " \"There's Something About Mary (1998)\"]"
      ]
     },
     "execution_count": 81,
     "metadata": {},
     "output_type": "execute_result"
    }
   ],
   "source": [
    "get_similar_movie('Toy Story (1995)')"
   ]
  },
  {
   "cell_type": "markdown",
   "id": "lovely-carpet",
   "metadata": {},
   "source": [
    "* 토이스토리는 토이스토리2가 나왔네요"
   ]
  },
  {
   "cell_type": "code",
   "execution_count": 82,
   "id": "genetic-customer",
   "metadata": {},
   "outputs": [
    {
     "data": {
      "text/plain": [
       "['Indiana Jones and the Last Crusade (1989)',\n",
       " 'Raiders of the Lost Ark (1981)',\n",
       " 'Indiana Jones and the Temple of Doom (1984)',\n",
       " 'Die Hard (1988)',\n",
       " 'Batman (1989)',\n",
       " 'Untouchables, The (1987)',\n",
       " 'Highlander (1986)',\n",
       " 'Terminator, The (1984)',\n",
       " 'Star Wars: Episode V - The Empire Strikes Back (1980)',\n",
       " 'Romancing the Stone (1984)']"
      ]
     },
     "execution_count": 82,
     "metadata": {},
     "output_type": "execute_result"
    }
   ],
   "source": [
    "get_similar_movie('Indiana Jones and the Last Crusade (1989)')"
   ]
  },
  {
   "cell_type": "markdown",
   "id": "declared-highland",
   "metadata": {},
   "source": [
    "* 인디아나존스도 다른 모험영화가 나왔습니다."
   ]
  },
  {
   "cell_type": "markdown",
   "id": "unsigned-taiwan",
   "metadata": {},
   "source": [
    "### 내가 좋아하는 영화와 비슷한 영화를 추천받아 보겠습니다."
   ]
  },
  {
   "cell_type": "code",
   "execution_count": 84,
   "id": "narrow-associate",
   "metadata": {},
   "outputs": [
    {
     "data": {
      "text/plain": [
       "[(589, 0.71366274),\n",
       " (480, 0.4980299),\n",
       " (110, 0.46089587),\n",
       " (2916, 0.4440792),\n",
       " (457, 0.39046472),\n",
       " (3114, 0.37348953),\n",
       " (1196, 0.3334297),\n",
       " (260, 0.32206374),\n",
       " (593, 0.295514),\n",
       " (1200, 0.29173863),\n",
       " (2628, 0.290281),\n",
       " (1210, 0.28578362),\n",
       " (1265, 0.26437223),\n",
       " (527, 0.26208133),\n",
       " (1270, 0.25781187),\n",
       " (1610, 0.2551947),\n",
       " (1214, 0.24974036),\n",
       " (780, 0.24650702),\n",
       " (1198, 0.24544322),\n",
       " (318, 0.2439285)]"
      ]
     },
     "execution_count": 84,
     "metadata": {},
     "output_type": "execute_result"
    }
   ],
   "source": [
    "user = user_to_idx['ost']\n",
    "# recommend에서는 user*item CSR Matrix를 받습니다.\n",
    "movie_recommended = als_model.recommend(user, csr_data, N=20, filter_already_liked_items=True)\n",
    "movie_recommended"
   ]
  },
  {
   "cell_type": "markdown",
   "id": "mental-style",
   "metadata": {},
   "source": [
    "* 71%가 나온 영화가 궁금하네요. 타이틀로 보겠습니다."
   ]
  },
  {
   "cell_type": "code",
   "execution_count": 86,
   "id": "atlantic-header",
   "metadata": {},
   "outputs": [
    {
     "data": {
      "text/plain": [
       "['Terminator 2: Judgment Day (1991)',\n",
       " 'Jurassic Park (1993)',\n",
       " 'Braveheart (1995)',\n",
       " 'Total Recall (1990)',\n",
       " 'Fugitive, The (1993)',\n",
       " 'Toy Story 2 (1999)',\n",
       " 'Star Wars: Episode V - The Empire Strikes Back (1980)',\n",
       " 'Star Wars: Episode IV - A New Hope (1977)',\n",
       " 'Silence of the Lambs, The (1991)',\n",
       " 'Aliens (1986)',\n",
       " 'Star Wars: Episode I - The Phantom Menace (1999)',\n",
       " 'Star Wars: Episode VI - Return of the Jedi (1983)',\n",
       " 'Groundhog Day (1993)',\n",
       " \"Schindler's List (1993)\",\n",
       " 'Back to the Future (1985)',\n",
       " 'Hunt for Red October, The (1990)',\n",
       " 'Alien (1979)',\n",
       " 'Independence Day (ID4) (1996)',\n",
       " 'Raiders of the Lost Ark (1981)',\n",
       " 'Shawshank Redemption, The (1994)']"
      ]
     },
     "execution_count": 86,
     "metadata": {},
     "output_type": "execute_result"
    }
   ],
   "source": [
    "[movie_id_to_idx[i[0]] for i in movie_recommended]"
   ]
  },
  {
   "cell_type": "markdown",
   "id": "organized-delay",
   "metadata": {},
   "source": [
    "* 터미네이터 2가 나왔습니다. 나름 재밌게 본 기억이 있어 학습이 어느정도 괜찮은것 같습니다."
   ]
  },
  {
   "cell_type": "markdown",
   "id": "important-invitation",
   "metadata": {},
   "source": [
    "* 5개의 영화중 어떤 영화가 가장 추천비중이 높았다 확인해보겠습니다."
   ]
  },
  {
   "cell_type": "code",
   "execution_count": 87,
   "id": "appropriate-farming",
   "metadata": {},
   "outputs": [],
   "source": [
    "Terminator_2 = movie_id_idx['Terminator 2: Judgment Day (1991)']\n",
    "explain = als_model.explain(user, csr_data, itemid=Terminator_2)"
   ]
  },
  {
   "cell_type": "code",
   "execution_count": 88,
   "id": "combined-campaign",
   "metadata": {},
   "outputs": [
    {
     "data": {
      "text/plain": [
       "[('Matrix, The (1999)', 0.24932961176419127),\n",
       " ('Men in Black (1997)', 0.2070570079380535),\n",
       " ('Terminator, The (1984)', 0.17173093341504353),\n",
       " ('Saving Private Ryan (1998)', 0.05527266017006171),\n",
       " ('Toy Story (1995)', 0.019730509590951274)]"
      ]
     },
     "execution_count": 88,
     "metadata": {},
     "output_type": "execute_result"
    }
   ],
   "source": [
    "[(idx_to_artist[i[0]], i[1]) for i in explain[1]]"
   ]
  },
  {
   "cell_type": "markdown",
   "id": "right-salem",
   "metadata": {},
   "source": [
    "* 놀랍게도 터미네이터가 아닌 매트릭스가 가장 높은 비중이였습니다.\n",
    "* 터미네이터 영화는 계속 예상을 빗나가네요,"
   ]
  },
  {
   "cell_type": "markdown",
   "id": "minor-extension",
   "metadata": {},
   "source": [
    "### 회고\n",
    "\n",
    "* 이번 익스가 가장 오류가 많은 익스였습니다.<br/>일단 csr매트릭스를 만들때 처음 오류가 생겼는데 이 오류를 수정하다 더 많은 오류가 생겼고 새싹분들과 다른 대전아이펠 분들의 도움을 받아 해결하였습니다.<br/> 처음 매트릭스를 만들때, 매트릭스의 차원이 초과했다는 오류 메시지가 나왔습니다. 그래서 살펴보니 영화의 개수와 유저들이 본 영화의 개수가 달라서 csr 매트릭스를 만들때 모든 영화를 집어 넣어야 하는데 유저들이 본 영화의 수로 계산해서 오류가 생겼다는걸 알게되었습니다.<br/>그래서 다시 개수를 잡아주니 위에서 영화의 인덱싱을 할때, movie_id가 빈 부분이 있었는데 이 부분을 차례로 딕셔너리로 만들다보니 movie_id와 딕셔너리의 인덱싱넘버가 틀려서 오류가 발생했습니다. <br/>그래서 할 수 없이 df 자체를 딕셔너리로 바꿔주는 함수를 찾아 해결했습니다. \n",
    "* 오류를 해결하면서 코드의 이해도가 높아졌고, 토론의 중요성을 또 한번 느꼈습니다.\n",
    "* csr 매트릭스의 사용하는 이유도 알게되어 앞으로 자연어 공부를 하는데 도움이 많이 될 것 같습니다.\n"
   ]
  }
 ],
 "metadata": {
  "kernelspec": {
   "display_name": "Python 3",
   "language": "python",
   "name": "python3"
  },
  "language_info": {
   "codemirror_mode": {
    "name": "ipython",
    "version": 3
   },
   "file_extension": ".py",
   "mimetype": "text/x-python",
   "name": "python",
   "nbconvert_exporter": "python",
   "pygments_lexer": "ipython3",
   "version": "3.7.9"
  }
 },
 "nbformat": 4,
 "nbformat_minor": 5
}
