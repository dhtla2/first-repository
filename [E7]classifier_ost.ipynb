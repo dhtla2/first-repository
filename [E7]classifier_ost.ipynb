{
 "cells": [
  {
   "cell_type": "markdown",
   "id": "prompt-conversation",
   "metadata": {},
   "source": [
    "# 목차\n",
    "> ## 1. 필요한 라이브러리를 불러옵니다.\n",
    "> ## 2. 데이터 전처리 및 토큰화\n",
    "> ## 3. 임베딩\n",
    "> ## 4. 모델학습\n",
    "> ## 5. 결과 시각화\n",
    "> ## 6. gensim 활용\n",
    "> ## 7. Word2vec을 이용한 성능 향상\n",
    "> ## 회고"
   ]
  },
  {
   "cell_type": "markdown",
   "id": "herbal-thumb",
   "metadata": {},
   "source": [
    "## 1. 필요한 라이브러리를 불러옵니다."
   ]
  },
  {
   "cell_type": "code",
   "execution_count": 135,
   "id": "contained-letters",
   "metadata": {},
   "outputs": [
    {
     "data": {
      "text/html": [
       "<div>\n",
       "<style scoped>\n",
       "    .dataframe tbody tr th:only-of-type {\n",
       "        vertical-align: middle;\n",
       "    }\n",
       "\n",
       "    .dataframe tbody tr th {\n",
       "        vertical-align: top;\n",
       "    }\n",
       "\n",
       "    .dataframe thead th {\n",
       "        text-align: right;\n",
       "    }\n",
       "</style>\n",
       "<table border=\"1\" class=\"dataframe\">\n",
       "  <thead>\n",
       "    <tr style=\"text-align: right;\">\n",
       "      <th></th>\n",
       "      <th>id</th>\n",
       "      <th>document</th>\n",
       "      <th>label</th>\n",
       "    </tr>\n",
       "  </thead>\n",
       "  <tbody>\n",
       "    <tr>\n",
       "      <th>0</th>\n",
       "      <td>9976970</td>\n",
       "      <td>아 더빙.. 진짜 짜증나네요 목소리</td>\n",
       "      <td>0</td>\n",
       "    </tr>\n",
       "    <tr>\n",
       "      <th>1</th>\n",
       "      <td>3819312</td>\n",
       "      <td>흠...포스터보고 초딩영화줄....오버연기조차 가볍지 않구나</td>\n",
       "      <td>1</td>\n",
       "    </tr>\n",
       "    <tr>\n",
       "      <th>2</th>\n",
       "      <td>10265843</td>\n",
       "      <td>너무재밓었다그래서보는것을추천한다</td>\n",
       "      <td>0</td>\n",
       "    </tr>\n",
       "    <tr>\n",
       "      <th>3</th>\n",
       "      <td>9045019</td>\n",
       "      <td>교도소 이야기구먼 ..솔직히 재미는 없다..평점 조정</td>\n",
       "      <td>0</td>\n",
       "    </tr>\n",
       "    <tr>\n",
       "      <th>4</th>\n",
       "      <td>6483659</td>\n",
       "      <td>사이몬페그의 익살스런 연기가 돋보였던 영화!스파이더맨에서 늙어보이기만 했던 커스틴 ...</td>\n",
       "      <td>1</td>\n",
       "    </tr>\n",
       "  </tbody>\n",
       "</table>\n",
       "</div>"
      ],
      "text/plain": [
       "         id                                           document  label\n",
       "0   9976970                                아 더빙.. 진짜 짜증나네요 목소리      0\n",
       "1   3819312                  흠...포스터보고 초딩영화줄....오버연기조차 가볍지 않구나      1\n",
       "2  10265843                                  너무재밓었다그래서보는것을추천한다      0\n",
       "3   9045019                      교도소 이야기구먼 ..솔직히 재미는 없다..평점 조정      0\n",
       "4   6483659  사이몬페그의 익살스런 연기가 돋보였던 영화!스파이더맨에서 늙어보이기만 했던 커스틴 ...      1"
      ]
     },
     "execution_count": 135,
     "metadata": {},
     "output_type": "execute_result"
    }
   ],
   "source": [
    "import os\n",
    "import pandas as pd\n",
    "import urllib.request\n",
    "%matplotlib inline\n",
    "import matplotlib.pyplot as plt\n",
    "import re\n",
    "from konlpy.tag import Okt\n",
    "from tensorflow import keras\n",
    "from tensorflow.keras.preprocessing.text import Tokenizer\n",
    "import numpy as np\n",
    "from tensorflow.keras.preprocessing.sequence import pad_sequences\n",
    "from collections import Counter\n",
    "import tensorflow as tf\n",
    "import gensim\n",
    "from tensorflow.keras.callbacks import EarlyStopping, ModelCheckpoint\n",
    "\n",
    "# 데이터를 읽어봅시다. \n",
    "train_data = pd.read_table('~/aiffel/sentiment_classification/data/ratings_train.txt')\n",
    "test_data = pd.read_table('~/aiffel/sentiment_classification/data/ratings_test.txt')\n",
    "\n",
    "train_data.head()"
   ]
  },
  {
   "cell_type": "markdown",
   "id": "editorial-musical",
   "metadata": {},
   "source": [
    "### 상위 5개의 train 데이터를 보았는데, 띄어 쓰기가 없는 문장도 있고 한글이 아닌 문장도 있습니다."
   ]
  },
  {
   "cell_type": "markdown",
   "id": "referenced-savage",
   "metadata": {},
   "source": [
    "## 2. 데이터 전처리 및 토큰화"
   ]
  },
  {
   "cell_type": "code",
   "execution_count": 2,
   "id": "broke-pencil",
   "metadata": {},
   "outputs": [
    {
     "data": {
      "text/plain": [
       "150000"
      ]
     },
     "execution_count": 2,
     "metadata": {},
     "output_type": "execute_result"
    }
   ],
   "source": [
    "len(train_data)"
   ]
  },
  {
   "cell_type": "markdown",
   "id": "solar-crystal",
   "metadata": {},
   "source": [
    "* 트레인 데이터가 15만개가 있습니다.\n",
    "* null 값을 확인해 보겠습니다."
   ]
  },
  {
   "cell_type": "code",
   "execution_count": 3,
   "id": "returning-consortium",
   "metadata": {},
   "outputs": [
    {
     "name": "stdout",
     "output_type": "stream",
     "text": [
      "True\n"
     ]
    }
   ],
   "source": [
    "print(train_data.isnull().values.any())# Null 값이 존재하는지 확인"
   ]
  },
  {
   "cell_type": "markdown",
   "id": "verified-adaptation",
   "metadata": {},
   "source": [
    "* True가 나온걸 보니 null값이 있어 이를 제거 하고 남은 개수를 확인해 보겠습니다."
   ]
  },
  {
   "cell_type": "code",
   "execution_count": 4,
   "id": "external-duration",
   "metadata": {},
   "outputs": [
    {
     "data": {
      "text/plain": [
       "False"
      ]
     },
     "execution_count": 4,
     "metadata": {},
     "output_type": "execute_result"
    }
   ],
   "source": [
    "train_data = train_data.dropna(how = 'any') # Null 값이 존재하는 행 제거\n",
    "train_data.isnull().values.any() # Null 값이 존재하는지 확인"
   ]
  },
  {
   "cell_type": "code",
   "execution_count": 5,
   "id": "complicated-injection",
   "metadata": {},
   "outputs": [
    {
     "data": {
      "text/plain": [
       "149995"
      ]
     },
     "execution_count": 5,
     "metadata": {},
     "output_type": "execute_result"
    }
   ],
   "source": [
    "len(train_data)"
   ]
  },
  {
   "cell_type": "markdown",
   "id": "straight-royal",
   "metadata": {},
   "source": [
    "* 5개가 제거 되었습니다.\n",
    "* 추가로 한글과 공백을 제외하고 모두 제거해보겠습니다."
   ]
  },
  {
   "cell_type": "code",
   "execution_count": 6,
   "id": "unlike-gates",
   "metadata": {},
   "outputs": [
    {
     "name": "stderr",
     "output_type": "stream",
     "text": [
      "/opt/conda/lib/python3.7/site-packages/ipykernel_launcher.py:1: FutureWarning: The default value of regex will change from True to False in a future version.\n",
      "  \"\"\"Entry point for launching an IPython kernel.\n"
     ]
    }
   ],
   "source": [
    "train_data['document'] = train_data['document'].str.replace(\"[^ㄱ-ㅎㅏ-ㅣ가-힣 ]\",\"\")"
   ]
  },
  {
   "cell_type": "code",
   "execution_count": 7,
   "id": "coupled-right",
   "metadata": {},
   "outputs": [
    {
     "data": {
      "text/html": [
       "<div>\n",
       "<style scoped>\n",
       "    .dataframe tbody tr th:only-of-type {\n",
       "        vertical-align: middle;\n",
       "    }\n",
       "\n",
       "    .dataframe tbody tr th {\n",
       "        vertical-align: top;\n",
       "    }\n",
       "\n",
       "    .dataframe thead th {\n",
       "        text-align: right;\n",
       "    }\n",
       "</style>\n",
       "<table border=\"1\" class=\"dataframe\">\n",
       "  <thead>\n",
       "    <tr style=\"text-align: right;\">\n",
       "      <th></th>\n",
       "      <th>id</th>\n",
       "      <th>document</th>\n",
       "      <th>label</th>\n",
       "    </tr>\n",
       "  </thead>\n",
       "  <tbody>\n",
       "    <tr>\n",
       "      <th>0</th>\n",
       "      <td>9976970</td>\n",
       "      <td>아 더빙 진짜 짜증나네요 목소리</td>\n",
       "      <td>0</td>\n",
       "    </tr>\n",
       "    <tr>\n",
       "      <th>1</th>\n",
       "      <td>3819312</td>\n",
       "      <td>흠포스터보고 초딩영화줄오버연기조차 가볍지 않구나</td>\n",
       "      <td>1</td>\n",
       "    </tr>\n",
       "    <tr>\n",
       "      <th>2</th>\n",
       "      <td>10265843</td>\n",
       "      <td>너무재밓었다그래서보는것을추천한다</td>\n",
       "      <td>0</td>\n",
       "    </tr>\n",
       "    <tr>\n",
       "      <th>3</th>\n",
       "      <td>9045019</td>\n",
       "      <td>교도소 이야기구먼 솔직히 재미는 없다평점 조정</td>\n",
       "      <td>0</td>\n",
       "    </tr>\n",
       "    <tr>\n",
       "      <th>4</th>\n",
       "      <td>6483659</td>\n",
       "      <td>사이몬페그의 익살스런 연기가 돋보였던 영화스파이더맨에서 늙어보이기만 했던 커스틴 던...</td>\n",
       "      <td>1</td>\n",
       "    </tr>\n",
       "  </tbody>\n",
       "</table>\n",
       "</div>"
      ],
      "text/plain": [
       "         id                                           document  label\n",
       "0   9976970                                  아 더빙 진짜 짜증나네요 목소리      0\n",
       "1   3819312                         흠포스터보고 초딩영화줄오버연기조차 가볍지 않구나      1\n",
       "2  10265843                                  너무재밓었다그래서보는것을추천한다      0\n",
       "3   9045019                          교도소 이야기구먼 솔직히 재미는 없다평점 조정      0\n",
       "4   6483659  사이몬페그의 익살스런 연기가 돋보였던 영화스파이더맨에서 늙어보이기만 했던 커스틴 던...      1"
      ]
     },
     "execution_count": 7,
     "metadata": {},
     "output_type": "execute_result"
    }
   ],
   "source": [
    "train_data.head()"
   ]
  },
  {
   "cell_type": "markdown",
   "id": "transparent-divorce",
   "metadata": {},
   "source": [
    "* 특수 문자들이 전부 제거 되었습니다.\n",
    "* 혹시 한글로 안쓴 리뷰가 있다면 없어졌을테니 null값으로 바꾸고 개수를 확인해 보겠습니다."
   ]
  },
  {
   "cell_type": "code",
   "execution_count": 8,
   "id": "noble-bicycle",
   "metadata": {},
   "outputs": [
    {
     "name": "stderr",
     "output_type": "stream",
     "text": [
      "/opt/conda/lib/python3.7/site-packages/ipykernel_launcher.py:1: FutureWarning: The default value of regex will change from True to False in a future version.\n",
      "  \"\"\"Entry point for launching an IPython kernel.\n"
     ]
    },
    {
     "data": {
      "text/plain": [
       "id             0\n",
       "document    1255\n",
       "label          0\n",
       "dtype: int64"
      ]
     },
     "execution_count": 8,
     "metadata": {},
     "output_type": "execute_result"
    }
   ],
   "source": [
    "train_data['document'] = train_data['document'].str.replace('^ +', \"\") # white space 데이터를 empty value로 변경\n",
    "train_data['document'].replace('', np.nan, inplace=True)\n",
    "train_data.isnull().sum()"
   ]
  },
  {
   "cell_type": "markdown",
   "id": "accompanied-characterization",
   "metadata": {},
   "source": [
    "* 1255개나 있네요. 제거해보겠습니다."
   ]
  },
  {
   "cell_type": "code",
   "execution_count": 9,
   "id": "attractive-arthritis",
   "metadata": {},
   "outputs": [
    {
     "data": {
      "text/plain": [
       "148740"
      ]
     },
     "execution_count": 9,
     "metadata": {},
     "output_type": "execute_result"
    }
   ],
   "source": [
    "train_data = train_data.dropna(how = 'any')\n",
    "len(train_data)"
   ]
  },
  {
   "cell_type": "markdown",
   "id": "guilty-milwaukee",
   "metadata": {},
   "source": [
    "* 전처리를 완료했고 이제 토큰화 시키겠습니다."
   ]
  },
  {
   "cell_type": "code",
   "execution_count": 10,
   "id": "impossible-clearance",
   "metadata": {},
   "outputs": [],
   "source": [
    "from konlpy.tag import Mecab\n",
    "tokenizer = Mecab()\n",
    "stopwords = ['의','가','이','은','들','는','좀','잘','걍','과','도','를','으로','자','에','와','한','하다']\n",
    "\n",
    "def load_data(train_data, test_data, num_words=19000):\n",
    "    train_data.drop_duplicates(subset=['document'], inplace=True)\n",
    "    train_data = train_data.dropna(how = 'any') \n",
    "    test_data.drop_duplicates(subset=['document'], inplace=True)\n",
    "    test_data = test_data.dropna(how = 'any') \n",
    "    \n",
    "    X_train = []\n",
    "    for sentence in train_data['document']:\n",
    "        temp_X = tokenizer.morphs(sentence) # 토큰화\n",
    "        temp_X = [word for word in temp_X if not word in stopwords] # 불용어 제거\n",
    "        X_train.append(temp_X)\n",
    "\n",
    "    X_test = []\n",
    "    for sentence in test_data['document']:\n",
    "        temp_X = tokenizer.morphs(sentence) # 토큰화\n",
    "        temp_X = [word for word in temp_X if not word in stopwords] # 불용어 제거\n",
    "        X_test.append(temp_X)\n",
    "    \n",
    "    words = np.concatenate(X_train).tolist()\n",
    "    counter = Counter(words)\n",
    "    counter = counter.most_common(10000-4)\n",
    "    vocab = ['<PAD>', '<BOS>', '<UNK>', '<UNUSED>'] + [key for key, _ in counter]\n",
    "    word_to_index = {word:index for index, word in enumerate(vocab)}\n",
    "        \n",
    "    def wordlist_to_indexlist(wordlist):\n",
    "        return [word_to_index[word] if word in word_to_index else word_to_index['<UNK>'] for word in wordlist]\n",
    "        \n",
    "    X_train = list(map(wordlist_to_indexlist, X_train))\n",
    "    X_test = list(map(wordlist_to_indexlist, X_test))\n",
    "        \n",
    "    return X_train, np.array(list(train_data['label'])), X_test, np.array(list(test_data['label'])), word_to_index\n",
    "    \n",
    "X_train, y_train, X_test, y_test, word_to_index = load_data(train_data, test_data) "
   ]
  },
  {
   "cell_type": "markdown",
   "id": "applied-tower",
   "metadata": {},
   "source": [
    "* 단어장의 개수를 1000개씩 올려가며 정확도 체크를 했습니다.\n",
    "* 그러다 19000개일때, 정확도가 대략 83%이상이 계속 나와 채택했습니다."
   ]
  },
  {
   "cell_type": "code",
   "execution_count": 11,
   "id": "religious-military",
   "metadata": {},
   "outputs": [],
   "source": [
    "index_to_word = {index:word for word, index in word_to_index.items()}"
   ]
  },
  {
   "cell_type": "code",
   "execution_count": 12,
   "id": "breathing-treasurer",
   "metadata": {},
   "outputs": [],
   "source": [
    "# 문장 1개를 활용할 딕셔너리와 함께 주면, 단어 인덱스 리스트 벡터로 변환해 주는 함수입니다. \n",
    "# 단, 모든 문장은 <BOS>로 시작하는 것으로 합니다. \n",
    "def get_encoded_sentence(sentence, word_to_index):\n",
    "    return [word_to_index['<BOS>']]+[word_to_index[word] if word in word_to_index else word_to_index['<UNK>'] for word in sentence.split()]\n",
    "\n",
    "# 여러 개의 문장 리스트를 한꺼번에 단어 인덱스 리스트 벡터로 encode해 주는 함수입니다. \n",
    "def get_encoded_sentences(sentences, word_to_index):\n",
    "    return [get_encoded_sentence(sentence, word_to_index) for sentence in sentences]\n",
    "\n",
    "# 숫자 벡터로 encode된 문장을 원래대로 decode하는 함수입니다. \n",
    "def get_decoded_sentence(encoded_sentence, index_to_word):\n",
    "    return ' '.join(index_to_word[index] if index in index_to_word else '<UNK>' for index in encoded_sentence[1:])  #[1:]를 통해 <BOS>를 제외\n",
    "\n",
    "# 여러 개의 숫자 벡터로 encode된 문장을 한꺼번에 원래대로 decode하는 함수입니다. \n",
    "def get_decoded_sentences(encoded_sentences, index_to_word):\n",
    "    return [get_decoded_sentence(encoded_sentence, index_to_word) for encoded_sentence in encoded_sentences]"
   ]
  },
  {
   "cell_type": "markdown",
   "id": "mobile-shakespeare",
   "metadata": {},
   "source": [
    "* 이제 문장 분석을 해보겠습니다."
   ]
  },
  {
   "cell_type": "code",
   "execution_count": 13,
   "id": "paperback-guitar",
   "metadata": {},
   "outputs": [
    {
     "name": "stdout",
     "output_type": "stream",
     "text": [
      "[27, 67, 891, 33, 214, 15, 28, 698]\n",
      "라벨:  0\n",
      "1번째 리뷰 문장 길이:  8\n",
      "2번째 리뷰 문장 길이:  13\n"
     ]
    }
   ],
   "source": [
    "print(X_train[0])  # 1번째 리뷰데이터\n",
    "print('라벨: ', y_train[0])  # 1번째 리뷰데이터의 라벨\n",
    "print('1번째 리뷰 문장 길이: ', len(X_train[0]))\n",
    "print('2번째 리뷰 문장 길이: ', len(X_train[1]))"
   ]
  },
  {
   "cell_type": "code",
   "execution_count": 14,
   "id": "million-trance",
   "metadata": {},
   "outputs": [
    {
     "name": "stdout",
     "output_type": "stream",
     "text": [
      "훈련 샘플 개수: 143620, 테스트 개수: 49157\n"
     ]
    }
   ],
   "source": [
    "print(\"훈련 샘플 개수: {}, 테스트 개수: {}\".format(len(X_train), len(X_test)))"
   ]
  },
  {
   "cell_type": "code",
   "execution_count": 15,
   "id": "cooked-sample",
   "metadata": {},
   "outputs": [
    {
     "name": "stdout",
     "output_type": "stream",
     "text": [
      "문장길이 평균 :  14.448144747558059\n",
      "문장길이 최대 :  105\n",
      "문장길이 표준편차 :  11.85959851440663\n",
      "pad_sequences maxlen :  38\n",
      "전체 문장의 0.935817032114827%가 maxlen 설정값 이내에 포함됩니다. \n"
     ]
    }
   ],
   "source": [
    "total_data_text = list(X_train) + list(X_test)\n",
    "# 텍스트데이터 문장길이의 리스트를 생성한 후\n",
    "num_tokens = [len(tokens) for tokens in total_data_text]\n",
    "num_tokens = np.array(num_tokens)\n",
    "# 문장길이의 평균값, 최대값, 표준편차를 계산해 본다. \n",
    "print('문장길이 평균 : ', np.mean(num_tokens))\n",
    "print('문장길이 최대 : ', np.max(num_tokens))\n",
    "print('문장길이 표준편차 : ', np.std(num_tokens))\n",
    "\n",
    "# 예를들어, 최대 길이를 (평균 + 2*표준편차)로 한다면,  \n",
    "max_tokens = np.mean(num_tokens) + 2 * np.std(num_tokens)\n",
    "maxlen = int(max_tokens)\n",
    "print('pad_sequences maxlen : ', maxlen)\n",
    "print('전체 문장의 {}%가 maxlen 설정값 이내에 포함됩니다. '.format(np.sum(num_tokens < max_tokens) / len(num_tokens)))"
   ]
  },
  {
   "cell_type": "markdown",
   "id": "improving-galaxy",
   "metadata": {},
   "source": [
    "* 맥시멈 길이를 38까지로 하면 어느정도 문장을 커버할 수 있습니다."
   ]
  },
  {
   "cell_type": "markdown",
   "id": "destroyed-brand",
   "metadata": {},
   "source": [
    "* 패딩처리를 하겠습니다."
   ]
  },
  {
   "cell_type": "code",
   "execution_count": 16,
   "id": "confidential-bidding",
   "metadata": {},
   "outputs": [
    {
     "name": "stdout",
     "output_type": "stream",
     "text": [
      "(143620, 38)\n"
     ]
    }
   ],
   "source": [
    "X_train = keras.preprocessing.sequence.pad_sequences(X_train,\n",
    "                                                        value=word_to_index[\"<PAD>\"],\n",
    "                                                        padding='pre', \n",
    "                                                        maxlen=maxlen)\n",
    "\n",
    "X_test = keras.preprocessing.sequence.pad_sequences(X_test,\n",
    "                                                       value=word_to_index[\"<PAD>\"],\n",
    "                                                       padding='pre', \n",
    "                                                       maxlen=maxlen)\n",
    "\n",
    "print(X_train.shape)"
   ]
  },
  {
   "cell_type": "code",
   "execution_count": 17,
   "id": "optional-tuition",
   "metadata": {},
   "outputs": [
    {
     "name": "stdout",
     "output_type": "stream",
     "text": [
      "[[   0    0    0 ...   15   28  698]\n",
      " [   0    0    0 ...   11   38  364]\n",
      " [   0    0    0 ...   19  192    2]\n",
      " ...\n",
      " [   0    0    0 ...    2 2650    5]\n",
      " [   0    0    0 ...   54  368 8186]\n",
      " [   0    0    0 ...   80 2608    4]]\n"
     ]
    }
   ],
   "source": [
    "vocab_size = len(word_to_index)\n",
    "word_vector_dim = 4\n",
    "\n",
    "embedding = tf.keras.layers.Embedding(input_dim=vocab_size, output_dim=word_vector_dim, mask_zero=True)\n",
    "\n",
    "X_train = keras.preprocessing.sequence.pad_sequences(X_train,\n",
    "                                                     value = word_to_index['<PAD>'],\n",
    "                                                     padding = 'pre')\n",
    "\n",
    "X_test = keras.preprocessing.sequence.pad_sequences(X_test,\n",
    "                                                     value = word_to_index['<PAD>'],\n",
    "                                                     padding = 'pre')\n",
    "\n",
    "print(X_train)"
   ]
  },
  {
   "cell_type": "markdown",
   "id": "nutritional-private",
   "metadata": {},
   "source": [
    "* 앞쪽에 0이 생긴걸봐서 pre패딩이 잘 처리 된것 같습니다."
   ]
  },
  {
   "cell_type": "markdown",
   "id": "exposed-liberty",
   "metadata": {},
   "source": [
    "## 3. 임베딩"
   ]
  },
  {
   "cell_type": "code",
   "execution_count": 18,
   "id": "canadian-methodology",
   "metadata": {},
   "outputs": [
    {
     "name": "stdout",
     "output_type": "stream",
     "text": [
      "tf.Tensor(\n",
      "[[[-1.9048525e-02  3.2058135e-03 -4.1408300e-02  4.5717668e-02]\n",
      "  [-1.9048525e-02  3.2058135e-03 -4.1408300e-02  4.5717668e-02]\n",
      "  [-1.9048525e-02  3.2058135e-03 -4.1408300e-02  4.5717668e-02]\n",
      "  ...\n",
      "  [ 1.7512590e-05  7.2725900e-03 -2.9840529e-02  3.0109871e-02]\n",
      "  [-2.8287148e-02 -4.2597797e-02 -1.1097305e-03 -4.8584141e-02]\n",
      "  [-4.8761059e-02  2.8304789e-02 -9.3244091e-03 -1.1497892e-02]]\n",
      "\n",
      " [[-1.9048525e-02  3.2058135e-03 -4.1408300e-02  4.5717668e-02]\n",
      "  [-1.9048525e-02  3.2058135e-03 -4.1408300e-02  4.5717668e-02]\n",
      "  [-1.9048525e-02  3.2058135e-03 -4.1408300e-02  4.5717668e-02]\n",
      "  ...\n",
      "  [-3.0771010e-03 -2.9118432e-02 -2.8990662e-02 -1.2108672e-02]\n",
      "  [-1.2233447e-02 -1.5697800e-02  3.5439674e-02 -4.3186918e-03]\n",
      "  [ 2.7526785e-02 -3.7037600e-02  4.6138231e-02  4.6707664e-02]]\n",
      "\n",
      " [[-1.9048525e-02  3.2058135e-03 -4.1408300e-02  4.5717668e-02]\n",
      "  [-1.9048525e-02  3.2058135e-03 -4.1408300e-02  4.5717668e-02]\n",
      "  [-1.9048525e-02  3.2058135e-03 -4.1408300e-02  4.5717668e-02]\n",
      "  ...\n",
      "  [ 1.7990086e-02 -3.6122799e-02  9.8802224e-03 -4.5660555e-02]\n",
      "  [-3.5601664e-02  2.8623715e-03  1.7891478e-02 -3.4437813e-02]\n",
      "  [-3.8058281e-02  1.4006961e-02  4.6280134e-02 -4.8510410e-02]]\n",
      "\n",
      " ...\n",
      "\n",
      " [[-1.9048525e-02  3.2058135e-03 -4.1408300e-02  4.5717668e-02]\n",
      "  [-1.9048525e-02  3.2058135e-03 -4.1408300e-02  4.5717668e-02]\n",
      "  [-1.9048525e-02  3.2058135e-03 -4.1408300e-02  4.5717668e-02]\n",
      "  ...\n",
      "  [-3.8058281e-02  1.4006961e-02  4.6280134e-02 -4.8510410e-02]\n",
      "  [-1.5845157e-02 -9.9202394e-03 -3.1919315e-02  1.0989048e-02]\n",
      "  [ 4.5510922e-02  4.0319450e-03 -3.6849510e-02 -2.5041461e-02]]\n",
      "\n",
      " [[-1.9048525e-02  3.2058135e-03 -4.1408300e-02  4.5717668e-02]\n",
      "  [-1.9048525e-02  3.2058135e-03 -4.1408300e-02  4.5717668e-02]\n",
      "  [-1.9048525e-02  3.2058135e-03 -4.1408300e-02  4.5717668e-02]\n",
      "  ...\n",
      "  [ 1.1323191e-02  4.5032453e-02 -4.6996571e-02 -2.3633374e-02]\n",
      "  [ 4.8258249e-02 -3.9788820e-02  3.4951415e-02 -4.0778350e-02]\n",
      "  [ 4.5109715e-02 -4.5320787e-02 -4.9253415e-02 -6.4205043e-03]]\n",
      "\n",
      " [[-1.9048525e-02  3.2058135e-03 -4.1408300e-02  4.5717668e-02]\n",
      "  [-1.9048525e-02  3.2058135e-03 -4.1408300e-02  4.5717668e-02]\n",
      "  [-1.9048525e-02  3.2058135e-03 -4.1408300e-02  4.5717668e-02]\n",
      "  ...\n",
      "  [-3.1998113e-02  9.3198642e-03  3.6834124e-02 -2.6326537e-02]\n",
      "  [ 3.7260447e-02 -4.8949577e-02 -4.0781081e-02  2.5736023e-02]\n",
      "  [-3.0175138e-02 -9.4506629e-03 -7.5269118e-03 -2.1521807e-02]]], shape=(143620, 38, 4), dtype=float32)\n"
     ]
    }
   ],
   "source": [
    "output = embedding(X_train)\n",
    "print(output)"
   ]
  },
  {
   "cell_type": "markdown",
   "id": "charming-silver",
   "metadata": {},
   "source": [
    "## 4. 모델학습"
   ]
  },
  {
   "cell_type": "markdown",
   "id": "rapid-recorder",
   "metadata": {},
   "source": [
    "### 글로벌 맥스풀링 모델"
   ]
  },
  {
   "cell_type": "code",
   "execution_count": 19,
   "id": "quiet-velvet",
   "metadata": {},
   "outputs": [
    {
     "name": "stdout",
     "output_type": "stream",
     "text": [
      "Model: \"sequential\"\n",
      "_________________________________________________________________\n",
      "Layer (type)                 Output Shape              Param #   \n",
      "=================================================================\n",
      "embedding_1 (Embedding)      (None, None, 4)           40000     \n",
      "_________________________________________________________________\n",
      "global_max_pooling1d (Global (None, 4)                 0         \n",
      "_________________________________________________________________\n",
      "dense (Dense)                (None, 8)                 40        \n",
      "_________________________________________________________________\n",
      "dense_1 (Dense)              (None, 1)                 9         \n",
      "=================================================================\n",
      "Total params: 40,049\n",
      "Trainable params: 40,049\n",
      "Non-trainable params: 0\n",
      "_________________________________________________________________\n"
     ]
    }
   ],
   "source": [
    "model = keras.Sequential()\n",
    "model.add(keras.layers.Embedding(vocab_size, word_vector_dim, input_shape=(None,)))\n",
    "model.add(keras.layers.GlobalMaxPooling1D())\n",
    "model.add(keras.layers.Dense(8, activation='relu'))\n",
    "model.add(keras.layers.Dense(1, activation='sigmoid'))  # 최종 출력은 긍정/부정을 나타내는 1dim 입니다.\n",
    "\n",
    "model.summary()"
   ]
  },
  {
   "cell_type": "markdown",
   "id": "authentic-pioneer",
   "metadata": {},
   "source": [
    "* validation 셋을 분리하겠습니다."
   ]
  },
  {
   "cell_type": "code",
   "execution_count": 20,
   "id": "stainless-recipient",
   "metadata": {},
   "outputs": [
    {
     "name": "stdout",
     "output_type": "stream",
     "text": [
      "(93620, 38)\n",
      "(93620,)\n"
     ]
    }
   ],
   "source": [
    "# validation set 50000만건 분리\n",
    "X_val = X_train[:50000]   \n",
    "y_val = y_train[:50000]\n",
    "\n",
    "# validation set을 제외한 나머지 93620건\n",
    "partial_X_train = X_train[50000:]  \n",
    "partial_y_train = y_train[50000:]\n",
    "\n",
    "print(partial_X_train.shape)\n",
    "print(partial_y_train.shape)"
   ]
  },
  {
   "cell_type": "markdown",
   "id": "rough-sperm",
   "metadata": {},
   "source": [
    "* 모델 학습"
   ]
  },
  {
   "cell_type": "code",
   "execution_count": 21,
   "id": "appropriate-contents",
   "metadata": {},
   "outputs": [
    {
     "name": "stdout",
     "output_type": "stream",
     "text": [
      "Epoch 1/10\n",
      "183/183 [==============================] - 2s 8ms/step - loss: 0.6859 - accuracy: 0.5679 - val_loss: 0.6263 - val_accuracy: 0.6972\n",
      "Epoch 2/10\n",
      "183/183 [==============================] - 1s 5ms/step - loss: 0.5973 - accuracy: 0.7313 - val_loss: 0.5264 - val_accuracy: 0.7906\n",
      "Epoch 3/10\n",
      "183/183 [==============================] - 1s 5ms/step - loss: 0.5055 - accuracy: 0.8103 - val_loss: 0.4787 - val_accuracy: 0.8097\n",
      "Epoch 4/10\n",
      "183/183 [==============================] - 1s 5ms/step - loss: 0.4524 - accuracy: 0.8339 - val_loss: 0.4533 - val_accuracy: 0.8167\n",
      "Epoch 5/10\n",
      "183/183 [==============================] - 1s 5ms/step - loss: 0.4176 - accuracy: 0.8466 - val_loss: 0.4373 - val_accuracy: 0.8212\n",
      "Epoch 6/10\n",
      "183/183 [==============================] - 1s 5ms/step - loss: 0.3944 - accuracy: 0.8532 - val_loss: 0.4290 - val_accuracy: 0.8210\n",
      "Epoch 7/10\n",
      "183/183 [==============================] - 1s 5ms/step - loss: 0.3703 - accuracy: 0.8625 - val_loss: 0.4245 - val_accuracy: 0.8209\n",
      "Epoch 8/10\n",
      "183/183 [==============================] - 1s 5ms/step - loss: 0.3532 - accuracy: 0.8688 - val_loss: 0.4224 - val_accuracy: 0.8201\n",
      "Epoch 9/10\n",
      "183/183 [==============================] - 1s 5ms/step - loss: 0.3438 - accuracy: 0.8717 - val_loss: 0.4230 - val_accuracy: 0.8199\n",
      "Epoch 10/10\n",
      "183/183 [==============================] - 1s 5ms/step - loss: 0.3321 - accuracy: 0.8751 - val_loss: 0.4246 - val_accuracy: 0.8188\n"
     ]
    }
   ],
   "source": [
    "model.compile(optimizer='adam',\n",
    "              loss='binary_crossentropy',\n",
    "              metrics=['accuracy'])\n",
    "              \n",
    "epochs=10  # 몇 epoch를 훈련하면 좋을지 결과를 보면서 바꾸어 봅시다. \n",
    "\n",
    "history = model.fit(partial_X_train,\n",
    "                    partial_y_train,\n",
    "                    epochs=epochs,\n",
    "                    batch_size=512,\n",
    "                    validation_data=(X_val, y_val),\n",
    "                    verbose=1)"
   ]
  },
  {
   "cell_type": "markdown",
   "id": "responsible-description",
   "metadata": {},
   "source": [
    "* 테스트 결과"
   ]
  },
  {
   "cell_type": "code",
   "execution_count": 22,
   "id": "permanent-maine",
   "metadata": {},
   "outputs": [
    {
     "name": "stdout",
     "output_type": "stream",
     "text": [
      "1537/1537 - 2s - loss: 0.4291 - accuracy: 0.8170\n",
      "[0.42907875776290894, 0.8169741630554199]\n"
     ]
    }
   ],
   "source": [
    "results = model.evaluate(X_test,  y_test, verbose=2)\n",
    "\n",
    "print(results)"
   ]
  },
  {
   "cell_type": "markdown",
   "id": "textile-collector",
   "metadata": {},
   "source": [
    "* 81.7%가 나왔습니다."
   ]
  },
  {
   "cell_type": "markdown",
   "id": "confident-christmas",
   "metadata": {},
   "source": [
    "## 5. 결과 시각화"
   ]
  },
  {
   "cell_type": "code",
   "execution_count": 23,
   "id": "official-procedure",
   "metadata": {},
   "outputs": [
    {
     "name": "stdout",
     "output_type": "stream",
     "text": [
      "dict_keys(['loss', 'accuracy', 'val_loss', 'val_accuracy'])\n"
     ]
    }
   ],
   "source": [
    "history_dict = history.history\n",
    "print(history_dict.keys()) # epoch에 따른 그래프를 그려볼 수 있는 항목들"
   ]
  },
  {
   "cell_type": "code",
   "execution_count": 24,
   "id": "altered-emergency",
   "metadata": {},
   "outputs": [
    {
     "data": {
      "image/png": "[encoded data removed]",
      "text/plain": [
       "<Figure size 432x288 with 1 Axes>"
      ]
     },
     "metadata": {
      "needs_background": "light"
     },
     "output_type": "display_data"
    }
   ],
   "source": [
    "acc = history_dict['accuracy']\n",
    "val_acc = history_dict['val_accuracy']\n",
    "loss = history_dict['loss']\n",
    "val_loss = history_dict['val_loss']\n",
    "\n",
    "epochs = range(1, len(acc) + 1)\n",
    "\n",
    "# \"r\"는 \"빨간색 실선\"입니다\n",
    "plt.plot(epochs, loss, 'r', label='Training loss')\n",
    "# \"b\"는 \"파란색 실선\"입니다\n",
    "plt.plot(epochs, val_loss, 'b', label='Validation loss')\n",
    "plt.title('Training and validation loss')\n",
    "plt.xlabel('Epochs')\n",
    "plt.ylabel('Loss')\n",
    "plt.legend()\n",
    "\n",
    "plt.show()"
   ]
  },
  {
   "cell_type": "code",
   "execution_count": 25,
   "id": "attended-serum",
   "metadata": {},
   "outputs": [
    {
     "data": {
      "image/png": "[encoded data removed]",
      "text/plain": [
       "<Figure size 432x288 with 1 Axes>"
      ]
     },
     "metadata": {
      "needs_background": "light"
     },
     "output_type": "display_data"
    }
   ],
   "source": [
    "plt.clf()   # 그림을 초기화합니다\n",
    "\n",
    "plt.plot(epochs, acc, 'r', label='Training acc')\n",
    "plt.plot(epochs, val_acc, 'b', label='Validation acc')\n",
    "plt.title('Training and validation accuracy')\n",
    "plt.xlabel('Epochs')\n",
    "plt.ylabel('Accuracy')\n",
    "plt.legend()\n",
    "\n",
    "plt.show()"
   ]
  },
  {
   "cell_type": "markdown",
   "id": "gross-emphasis",
   "metadata": {},
   "source": [
    "* 시각화 해서 보니 5번만 학습해도 충분할것 같습니다."
   ]
  },
  {
   "cell_type": "markdown",
   "id": "mediterranean-benchmark",
   "metadata": {},
   "source": [
    "### RNN모델"
   ]
  },
  {
   "cell_type": "code",
   "execution_count": 26,
   "id": "adult-persian",
   "metadata": {},
   "outputs": [
    {
     "name": "stdout",
     "output_type": "stream",
     "text": [
      "Model: \"sequential_1\"\n",
      "_________________________________________________________________\n",
      "Layer (type)                 Output Shape              Param #   \n",
      "=================================================================\n",
      "embedding_2 (Embedding)      (None, None, 4)           40000     \n",
      "_________________________________________________________________\n",
      "lstm (LSTM)                  (None, 8)                 416       \n",
      "_________________________________________________________________\n",
      "dense_2 (Dense)              (None, 8)                 72        \n",
      "_________________________________________________________________\n",
      "dense_3 (Dense)              (None, 1)                 9         \n",
      "=================================================================\n",
      "Total params: 40,497\n",
      "Trainable params: 40,497\n",
      "Non-trainable params: 0\n",
      "_________________________________________________________________\n"
     ]
    }
   ],
   "source": [
    "model = keras.Sequential()\n",
    "model.add(keras.layers.Embedding(vocab_size, word_vector_dim, input_shape=(None,)))# input_shape을 None으로 명시해주는 것은 음이 아닌 정수가 들어올것\n",
    "model.add(keras.layers.LSTM(8))   # 가장 널리 쓰이는 RNN인 LSTM 레이어를 사용하였습니다. 이때 LSTM state 벡터의 차원수는 8로 하였습니다. (변경 가능)\n",
    "model.add(keras.layers.Dense(8, activation='relu'))\n",
    "model.add(keras.layers.Dense(1, activation='sigmoid'))  # 최종 출력은 긍정/부정을 나타내는 1dim 입니다.\n",
    "\n",
    "model.summary()"
   ]
  },
  {
   "cell_type": "code",
   "execution_count": 27,
   "id": "distant-switch",
   "metadata": {},
   "outputs": [
    {
     "name": "stdout",
     "output_type": "stream",
     "text": [
      "Epoch 1/5\n",
      "183/183 [==============================] - 5s 12ms/step - loss: 0.6563 - accuracy: 0.6141 - val_loss: 0.4473 - val_accuracy: 0.8172\n",
      "Epoch 2/5\n",
      "183/183 [==============================] - 2s 10ms/step - loss: 0.4079 - accuracy: 0.8318 - val_loss: 0.3752 - val_accuracy: 0.8359\n",
      "Epoch 3/5\n",
      "183/183 [==============================] - 2s 10ms/step - loss: 0.3500 - accuracy: 0.8507 - val_loss: 0.3637 - val_accuracy: 0.8413\n",
      "Epoch 4/5\n",
      "183/183 [==============================] - 2s 10ms/step - loss: 0.3253 - accuracy: 0.8651 - val_loss: 0.3626 - val_accuracy: 0.8406\n",
      "Epoch 5/5\n",
      "183/183 [==============================] - 2s 10ms/step - loss: 0.3105 - accuracy: 0.8732 - val_loss: 0.3669 - val_accuracy: 0.8388\n"
     ]
    }
   ],
   "source": [
    "# 학습의 진행\n",
    "model.compile(optimizer='adam',\n",
    "              loss='binary_crossentropy',\n",
    "              metrics=['accuracy'])\n",
    "              \n",
    "epochs=5  # 몇 epoch를 훈련하면 좋을지 결과를 보면서 바꾸어 봅시다. \n",
    "\n",
    "history = model.fit(partial_X_train,\n",
    "                    partial_y_train,\n",
    "                    epochs=epochs,\n",
    "                    batch_size=512,\n",
    "                    validation_data=(X_val, y_val),\n",
    "                    verbose=1)"
   ]
  },
  {
   "cell_type": "code",
   "execution_count": 28,
   "id": "delayed-uniform",
   "metadata": {},
   "outputs": [
    {
     "name": "stdout",
     "output_type": "stream",
     "text": [
      "1537/1537 - 4s - loss: 0.3808 - accuracy: 0.8301\n",
      "[0.38084790110588074, 0.8301361203193665]\n"
     ]
    }
   ],
   "source": [
    "results = model.evaluate(X_test,  y_test, verbose=2)\n",
    "print(results)"
   ]
  },
  {
   "cell_type": "markdown",
   "id": "critical-algeria",
   "metadata": {},
   "source": [
    "* 정확도가 83%가 나왔습니다."
   ]
  },
  {
   "cell_type": "markdown",
   "id": "independent-danish",
   "metadata": {},
   "source": [
    "### 1-D CNN 모델"
   ]
  },
  {
   "cell_type": "code",
   "execution_count": 29,
   "id": "conscious-rouge",
   "metadata": {},
   "outputs": [
    {
     "name": "stdout",
     "output_type": "stream",
     "text": [
      "Model: \"sequential_2\"\n",
      "_________________________________________________________________\n",
      "Layer (type)                 Output Shape              Param #   \n",
      "=================================================================\n",
      "embedding_3 (Embedding)      (None, None, 4)           40000     \n",
      "_________________________________________________________________\n",
      "conv1d (Conv1D)              (None, None, 16)          464       \n",
      "_________________________________________________________________\n",
      "max_pooling1d (MaxPooling1D) (None, None, 16)          0         \n",
      "_________________________________________________________________\n",
      "conv1d_1 (Conv1D)            (None, None, 16)          1808      \n",
      "_________________________________________________________________\n",
      "global_max_pooling1d_1 (Glob (None, 16)                0         \n",
      "_________________________________________________________________\n",
      "dense_4 (Dense)              (None, 8)                 136       \n",
      "_________________________________________________________________\n",
      "dense_5 (Dense)              (None, 1)                 9         \n",
      "=================================================================\n",
      "Total params: 42,417\n",
      "Trainable params: 42,417\n",
      "Non-trainable params: 0\n",
      "_________________________________________________________________\n"
     ]
    }
   ],
   "source": [
    "model = keras.Sequential()\n",
    "model.add(keras.layers.Embedding(vocab_size, word_vector_dim, input_shape=(None,)))\n",
    "model.add(keras.layers.Conv1D(16, 7, activation='relu'))\n",
    "model.add(keras.layers.MaxPooling1D(4))\n",
    "model.add(keras.layers.Conv1D(16, 7, activation='relu'))\n",
    "model.add(keras.layers.GlobalMaxPooling1D())\n",
    "model.add(keras.layers.Dense(8, activation='relu'))\n",
    "model.add(keras.layers.Dense(1, activation='sigmoid'))  # 최종 출력은 긍정/부정을 나타내는 1dim 입니다.\n",
    "\n",
    "model.summary()"
   ]
  },
  {
   "cell_type": "code",
   "execution_count": 30,
   "id": "reduced-wedding",
   "metadata": {},
   "outputs": [
    {
     "name": "stdout",
     "output_type": "stream",
     "text": [
      "Epoch 1/5\n",
      "183/183 [==============================] - 10s 33ms/step - loss: 0.6483 - accuracy: 0.6212 - val_loss: 0.3975 - val_accuracy: 0.8237\n",
      "Epoch 2/5\n",
      "183/183 [==============================] - 1s 7ms/step - loss: 0.3745 - accuracy: 0.8379 - val_loss: 0.3638 - val_accuracy: 0.8398\n",
      "Epoch 3/5\n",
      "183/183 [==============================] - 1s 7ms/step - loss: 0.3326 - accuracy: 0.8594 - val_loss: 0.3623 - val_accuracy: 0.8417\n",
      "Epoch 4/5\n",
      "183/183 [==============================] - 1s 7ms/step - loss: 0.3126 - accuracy: 0.8676 - val_loss: 0.3625 - val_accuracy: 0.8407\n",
      "Epoch 5/5\n",
      "183/183 [==============================] - 1s 7ms/step - loss: 0.2956 - accuracy: 0.8775 - val_loss: 0.3642 - val_accuracy: 0.8421\n"
     ]
    }
   ],
   "source": [
    "model.compile(optimizer='adam',\n",
    "              loss='binary_crossentropy',\n",
    "              metrics=['accuracy'])\n",
    "              \n",
    "epochs=5  # 몇 epoch를 훈련하면 좋을지 결과를 보면서 바꾸어 봅시다. \n",
    "\n",
    "history = model.fit(partial_X_train,\n",
    "                    partial_y_train,\n",
    "                    epochs=epochs,\n",
    "                    batch_size=512,\n",
    "                    validation_data=(X_val, y_val),\n",
    "                    verbose=1)"
   ]
  },
  {
   "cell_type": "code",
   "execution_count": 31,
   "id": "entitled-literature",
   "metadata": {},
   "outputs": [
    {
     "name": "stdout",
     "output_type": "stream",
     "text": [
      "1537/1537 - 5s - loss: 0.3766 - accuracy: 0.8343\n",
      "[0.37659236788749695, 0.8343267440795898]\n"
     ]
    }
   ],
   "source": [
    "results = model.evaluate(X_test,  y_test, verbose=2)\n",
    "\n",
    "print(results)"
   ]
  },
  {
   "cell_type": "markdown",
   "id": "fallen-renaissance",
   "metadata": {},
   "source": [
    "* 정확도가 83.4%가 나왔습니다."
   ]
  },
  {
   "cell_type": "markdown",
   "id": "flush-cycling",
   "metadata": {},
   "source": [
    "## 6. gensim을 활용한 유사 단어 찾기"
   ]
  },
  {
   "cell_type": "code",
   "execution_count": 32,
   "id": "confidential-ranking",
   "metadata": {},
   "outputs": [
    {
     "name": "stdout",
     "output_type": "stream",
     "text": [
      "(10000, 4)\n"
     ]
    }
   ],
   "source": [
    "embedding_layer = model.layers[0]\n",
    "weights = embedding_layer.get_weights()[0]\n",
    "print(weights.shape)    # shape: (vocab_size, embedding_dim)"
   ]
  },
  {
   "cell_type": "code",
   "execution_count": 33,
   "id": "published-portuguese",
   "metadata": {},
   "outputs": [],
   "source": [
    "word2vec_file_path = os.getenv('HOME')+'/aiffel/sentiment_classification/data/word2vec.txt'\n",
    "f = open(word2vec_file_path, 'w')\n",
    "f.write('{} {}\\n'.format(vocab_size-4, word_vector_dim))  # 몇개의 벡터를 얼마 사이즈로 기재할지 타이틀을 씁니다.\n",
    "\n",
    "# 단어 개수(에서 특수문자 4개는 제외하고)만큼의 워드 벡터를 파일에 기록합니다. \n",
    "vectors = model.get_weights()[0]\n",
    "for i in range(4,vocab_size):\n",
    "    f.write('{} {}\\n'.format(index_to_word[i], ' '.join(map(str, list(vectors[i, :])))))\n",
    "f.close()"
   ]
  },
  {
   "cell_type": "markdown",
   "id": "closing-acoustic",
   "metadata": {},
   "source": [
    "* 목소리의 벡터를 확인해 보겠습니다."
   ]
  },
  {
   "cell_type": "code",
   "execution_count": 34,
   "id": "finished-census",
   "metadata": {},
   "outputs": [
    {
     "data": {
      "text/plain": [
       "array([-0.05360135, -0.02246502, -0.0141776 ,  0.05046765], dtype=float32)"
      ]
     },
     "execution_count": 34,
     "metadata": {},
     "output_type": "execute_result"
    }
   ],
   "source": [
    "from gensim.models.keyedvectors import Word2VecKeyedVectors\n",
    "\n",
    "word_vectors = Word2VecKeyedVectors.load_word2vec_format(word2vec_file_path, binary=False)\n",
    "vector = word_vectors['목소리']\n",
    "vector"
   ]
  },
  {
   "cell_type": "markdown",
   "id": "private-doctor",
   "metadata": {},
   "source": [
    "* 비슷한 단어를 확인해 보겠습니다."
   ]
  },
  {
   "cell_type": "code",
   "execution_count": 35,
   "id": "supreme-thesis",
   "metadata": {},
   "outputs": [
    {
     "data": {
      "text/plain": [
       "[('보아', 0.9934581518173218),\n",
       " ('줘서', 0.9911131858825684),\n",
       " ('여군', 0.9843399524688721),\n",
       " ('만났', 0.9838072061538696),\n",
       " ('쟁쟁', 0.9810857772827148),\n",
       " ('음모론', 0.9801883697509766),\n",
       " ('쳐도', 0.9780040979385376),\n",
       " ('대작전', 0.977965772151947),\n",
       " ('잭슨', 0.9740726351737976),\n",
       " ('다리', 0.9734795689582825)]"
      ]
     },
     "execution_count": 35,
     "metadata": {},
     "output_type": "execute_result"
    }
   ],
   "source": [
    "word_vectors.similar_by_word(\"목소리\")"
   ]
  },
  {
   "cell_type": "markdown",
   "id": "opposite-mitchell",
   "metadata": {},
   "source": [
    "* 공부할 길이 먼것 같습니다."
   ]
  },
  {
   "cell_type": "markdown",
   "id": "declared-tractor",
   "metadata": {},
   "source": [
    "## 7. Word2vec을 이용한 성능 향상"
   ]
  },
  {
   "cell_type": "code",
   "execution_count": 36,
   "id": "driving-increase",
   "metadata": {},
   "outputs": [
    {
     "name": "stderr",
     "output_type": "stream",
     "text": [
      "/opt/conda/lib/python3.7/site-packages/ipykernel_launcher.py:4: DeprecationWarning: Call to deprecated `__getitem__` (Method will be removed in 4.0.0, use self.wv.__getitem__() instead).\n",
      "  after removing the cwd from sys.path.\n"
     ]
    },
    {
     "data": {
      "text/plain": [
       "array([-1.8365737e+00, -2.2371593e+00,  6.4586264e-01, -1.3149614e+00,\n",
       "       -5.5056995e-01, -8.8372332e-01, -4.4887072e-01, -5.9947234e-01,\n",
       "       -1.8026084e+00, -2.9662672e-01, -1.8178902e+00,  5.2410360e-02,\n",
       "       -6.8903780e-01,  1.8786483e+00, -6.4682728e-01,  8.4452546e-01,\n",
       "       -1.2216880e-01,  1.7394070e-01,  8.5570806e-01, -1.3337194e+00,\n",
       "        2.5691736e+00,  1.4252509e-01, -1.9240727e-01,  5.3854162e-01,\n",
       "       -2.3123934e-03, -8.9955918e-02, -8.9582211e-01,  1.3948807e+00,\n",
       "       -1.1426680e+00, -1.6856974e+00,  6.8861745e-02,  1.5816360e+00,\n",
       "       -1.3951684e+00,  2.5441783e-02, -4.2950025e-01, -7.6981455e-01,\n",
       "       -2.7157953e-01,  7.7424204e-01,  5.3073901e-01,  2.5676215e+00,\n",
       "       -1.2482250e+00,  4.7452552e-03, -1.3607091e+00, -2.0171592e+00,\n",
       "        3.4369293e-01, -3.4666055e-01, -3.4688485e-03, -1.6749820e-01,\n",
       "       -1.9645364e+00,  1.1126209e-01, -1.1736035e+00,  4.6384707e-01,\n",
       "        2.9114825e-01, -2.9395670e-01, -3.2165793e-01,  4.8373958e-01,\n",
       "        3.2344741e-01,  5.0286508e-01, -1.3637284e+00,  2.0978725e+00,\n",
       "        1.1449065e+00,  1.2174209e+00, -3.8969490e-01,  6.8921965e-01,\n",
       "       -7.9276845e-02, -1.2992568e-01,  6.9082886e-01,  2.5986574e+00,\n",
       "        3.9572904e-01, -1.0006833e-01, -7.1605706e-01, -1.4457934e+00,\n",
       "        1.1498617e+00, -6.2500894e-01, -5.4804516e-01,  5.5457914e-01,\n",
       "       -6.7435330e-01,  8.0964959e-01, -1.0396160e+00,  1.8572698e+00,\n",
       "        9.3361609e-02, -1.0090117e+00, -4.9217116e-02,  6.8142682e-01,\n",
       "       -2.1192226e+00, -1.2755847e+00, -5.1957387e-01, -1.6092720e+00,\n",
       "        1.5995041e+00,  1.3875010e+00,  2.2313111e+00, -2.1573920e+00,\n",
       "        6.1191690e-01, -3.0832019e+00, -5.8552825e-01, -3.6352423e-01,\n",
       "        2.0944311e-01,  6.0493213e-01,  1.7591931e+00,  2.0008986e+00,\n",
       "       -1.0488987e+00,  3.5092664e-01,  9.2189944e-01, -1.6280886e+00,\n",
       "       -1.0216407e+00, -5.6311703e-01,  2.9291737e-01, -1.5125902e+00,\n",
       "        1.2869744e+00, -5.0702131e-01,  5.4728043e-01, -1.5256622e-01,\n",
       "        1.4200333e+00,  1.2021943e-02,  5.7954658e-02,  1.1451598e+00,\n",
       "       -1.6059008e+00,  6.9748819e-01,  1.7394474e+00,  8.5657664e-02,\n",
       "        4.3422842e-01, -3.5072643e-01, -3.1290993e-01,  3.1688988e-01,\n",
       "        1.3112044e+00,  2.9210634e+00, -1.0639330e+00,  8.5860515e-01,\n",
       "        1.6239127e+00, -2.4915476e-01, -1.5577695e+00, -5.4028755e-01,\n",
       "       -2.1658112e-01,  1.4279627e+00,  2.6410375e+00,  1.9984508e+00,\n",
       "        3.3393508e-01, -1.7674857e-01, -2.6217408e-02,  7.6608188e-02,\n",
       "        1.4552248e+00, -3.9603841e-01,  9.6303686e-02,  1.9088896e-01,\n",
       "       -1.3087175e+00, -1.0822815e+00,  5.0805712e-01, -4.3085286e-01,\n",
       "        7.0053883e-02,  4.7777453e-01, -3.5521895e-01,  2.1041559e-01,\n",
       "       -1.7690498e-01, -6.9625545e-01, -4.8384407e-01,  7.7136433e-01,\n",
       "       -1.3317360e+00,  9.7358304e-01,  2.0173177e-01, -4.3373886e-01,\n",
       "        1.1230935e+00, -4.3091267e-01,  3.4225930e-03, -7.8881109e-01,\n",
       "       -5.6307912e-01, -4.8777286e-02, -4.5086208e-01,  1.0005347e+00,\n",
       "        6.7513859e-01,  2.4424372e+00, -2.9074812e+00, -1.2195464e+00,\n",
       "        7.5895840e-01, -8.9958942e-01,  1.6414067e-01, -2.1551394e+00,\n",
       "       -7.8533113e-01,  5.3576922e-01,  8.6052626e-01, -5.6266183e-01,\n",
       "       -1.9490434e-01,  7.6974887e-01,  1.0276636e+00, -7.3483503e-01,\n",
       "       -4.1702378e-01,  1.4658366e+00,  1.7160784e-01,  6.6415960e-01,\n",
       "        3.7914130e-01, -3.1789359e-02,  3.2170236e-02,  1.2435522e+00,\n",
       "        9.2976689e-01,  1.0556967e+00,  4.6773493e-01,  1.4560852e+00,\n",
       "       -1.1007260e+00,  6.1749303e-01, -2.5431961e-01,  1.7369184e-01],\n",
       "      dtype=float32)"
      ]
     },
     "execution_count": 36,
     "metadata": {},
     "output_type": "execute_result"
    }
   ],
   "source": [
    "from gensim.models import KeyedVectors\n",
    "word2vec_path = os.getenv('HOME')+'/aiffel/sentiment_classification/data/ko.bin'\n",
    "word2vec = gensim.models.Word2Vec.load(word2vec_path)\n",
    "vector = word2vec['목소리']\n",
    "vector"
   ]
  },
  {
   "cell_type": "code",
   "execution_count": 37,
   "id": "mediterranean-vegetation",
   "metadata": {},
   "outputs": [
    {
     "name": "stderr",
     "output_type": "stream",
     "text": [
      "/opt/conda/lib/python3.7/site-packages/ipykernel_launcher.py:6: DeprecationWarning: Call to deprecated `__contains__` (Method will be removed in 4.0.0, use self.wv.__contains__() instead).\n",
      "  \n",
      "/opt/conda/lib/python3.7/site-packages/ipykernel_launcher.py:7: DeprecationWarning: Call to deprecated `__getitem__` (Method will be removed in 4.0.0, use self.wv.__getitem__() instead).\n",
      "  import sys\n"
     ]
    }
   ],
   "source": [
    "word_vector_dim = 200  # 워드 벡터의 차원수\n",
    "embedding_matrix = np.random.rand(vocab_size, word_vector_dim)\n",
    "\n",
    "# embedding_matrix에 Word2Vec 워드 벡터를 단어 하나씩마다 차례차례 카피한다.\n",
    "for i in range(4,vocab_size):\n",
    "    if index_to_word[i] in word2vec:\n",
    "        embedding_matrix[i] = word2vec[index_to_word[i]]"
   ]
  },
  {
   "cell_type": "code",
   "execution_count": 114,
   "id": "developed-finland",
   "metadata": {},
   "outputs": [
    {
     "name": "stdout",
     "output_type": "stream",
     "text": [
      "Model: \"sequential_23\"\n",
      "_________________________________________________________________\n",
      "Layer (type)                 Output Shape              Param #   \n",
      "=================================================================\n",
      "embedding_24 (Embedding)     (None, None, 200)         2000000   \n",
      "_________________________________________________________________\n",
      "lstm_21 (LSTM)               (None, 128)               168448    \n",
      "_________________________________________________________________\n",
      "dense_46 (Dense)             (None, 8)                 1032      \n",
      "_________________________________________________________________\n",
      "dense_47 (Dense)             (None, 1)                 9         \n",
      "=================================================================\n",
      "Total params: 2,169,489\n",
      "Trainable params: 2,169,489\n",
      "Non-trainable params: 0\n",
      "_________________________________________________________________\n"
     ]
    }
   ],
   "source": [
    "model = keras.Sequential()\n",
    "model.add(keras.layers.Embedding(vocab_size, word_vector_dim, input_shape=(None,)))# input_shape을 None으로 명시해주는 것은 음이 아닌 정수가 들어올것\n",
    "model.add(keras.layers.LSTM(128)) \n",
    "model.add(keras.layers.Dense(8, activation='relu'))\n",
    "model.add(keras.layers.Dense(1, activation='sigmoid'))  # 최종 출력은 긍정/부정을 나타내는 1dim 입니다.\n",
    "\n",
    "model.summary()"
   ]
  },
  {
   "cell_type": "code",
   "execution_count": 116,
   "id": "demonstrated-brand",
   "metadata": {},
   "outputs": [
    {
     "name": "stdout",
     "output_type": "stream",
     "text": [
      "Epoch 1/2\n",
      "11703/11703 [==============================] - 224s 19ms/step - loss: 0.4261 - accuracy: 0.7993 - val_loss: 0.3302 - val_accuracy: 0.8536\n",
      "WARNING:tensorflow:Can save best model only with val_acc available, skipping.\n",
      "Epoch 2/2\n",
      "11703/11703 [==============================] - 222s 19ms/step - loss: 0.2846 - accuracy: 0.8775 - val_loss: 0.3257 - val_accuracy: 0.8596\n",
      "WARNING:tensorflow:Can save best model only with val_acc available, skipping.\n"
     ]
    }
   ],
   "source": [
    "# 학습의 진행\n",
    "model.compile(optimizer='adam',\n",
    "              loss='binary_crossentropy',\n",
    "              metrics=['accuracy'])\n",
    "              \n",
    "epochs=2  # 몇 epoch를 훈련하면 좋을지 결과를 보면서 바꾸어 봅시다. \n",
    "\n",
    "history = model.fit(partial_X_train,\n",
    "                    partial_y_train,\n",
    "                    epochs=epochs,\n",
    "                    batch_size=8,\n",
    "                    validation_data=(X_val, y_val),\n",
    "                    verbose=1)"
   ]
  },
  {
   "cell_type": "code",
   "execution_count": 117,
   "id": "polar-blink",
   "metadata": {},
   "outputs": [
    {
     "name": "stdout",
     "output_type": "stream",
     "text": [
      "1537/1537 - 7s - loss: 0.3339 - accuracy: 0.8520\n",
      "[0.33387479186058044, 0.851984441280365]\n"
     ]
    }
   ],
   "source": [
    "results = model.evaluate(X_test,  y_test, verbose=2)\n",
    "print(results)"
   ]
  },
  {
   "cell_type": "markdown",
   "id": "internal-destination",
   "metadata": {},
   "source": [
    "* 하이퍼파라미터를 계속 변경해 가며 85.2%를 만들었습니다."
   ]
  },
  {
   "cell_type": "code",
   "execution_count": null,
   "id": "dutch-colleague",
   "metadata": {},
   "outputs": [],
   "source": [
    "new_sentence = re.sub(r'[^ㄱ-ㅎㅏ-ㅣ가-힣 ]','', new_sentence)\n",
    "new_sentence = okt.morphs(new_sentence, stem=True) # 토큰화\n",
    "new_sentence = [word for word in new_sentence if not word in stopwords] # 불용어 제거\n",
    "encoded = tokenizer.texts_to_sequences([new_sentence]) # 정수 인코딩\n",
    "pad_new = pad_sequences(encoded, maxlen = max_len) # 패딩\n",
    "score = float(loaded_model.predict(pad_new)) # 예측"
   ]
  },
  {
   "cell_type": "markdown",
   "id": "heated-freight",
   "metadata": {},
   "source": [
    "### 리뷰 테스트"
   ]
  },
  {
   "cell_type": "code",
   "execution_count": 149,
   "id": "color-lightning",
   "metadata": {},
   "outputs": [],
   "source": [
    "sentence = \"가슴이 웅장해진다.\""
   ]
  },
  {
   "cell_type": "markdown",
   "id": "interpreted-distinction",
   "metadata": {},
   "source": [
    "* 긍정을 기계가 잘 판단하는지 보겠습니다."
   ]
  },
  {
   "cell_type": "code",
   "execution_count": 130,
   "id": "million-gibraltar",
   "metadata": {},
   "outputs": [
    {
     "data": {
      "text/plain": [
       "['가슴', '이', '웅장', '하다']"
      ]
     },
     "execution_count": 130,
     "metadata": {},
     "output_type": "execute_result"
    }
   ],
   "source": [
    "okt = Okt()\n",
    "sentence = okt.morphs(sentence, stem=True)\n",
    "sentence"
   ]
  },
  {
   "cell_type": "markdown",
   "id": "danish-niagara",
   "metadata": {},
   "source": [
    "* 특수 문자가 없어 바로 토큰화했습니다."
   ]
  },
  {
   "cell_type": "code",
   "execution_count": 131,
   "id": "changing-chinese",
   "metadata": {},
   "outputs": [
    {
     "data": {
      "text/plain": [
       "['가슴', '웅장']"
      ]
     },
     "execution_count": 131,
     "metadata": {},
     "output_type": "execute_result"
    }
   ],
   "source": [
    "sentence = [word for word in sentence if not word in stopwords]\n",
    "sentence"
   ]
  },
  {
   "cell_type": "markdown",
   "id": "going-internet",
   "metadata": {},
   "source": [
    "* 불용어를 제거했습니다."
   ]
  },
  {
   "cell_type": "code",
   "execution_count": 151,
   "id": "conventional-vulnerability",
   "metadata": {},
   "outputs": [
    {
     "data": {
      "text/plain": [
       "[1, 2, 2]"
      ]
     },
     "execution_count": 151,
     "metadata": {},
     "output_type": "execute_result"
    }
   ],
   "source": [
    "encoded = get_encoded_sentence(sentence, word_to_index)\n",
    "encoded"
   ]
  },
  {
   "cell_type": "markdown",
   "id": "judicial-sauce",
   "metadata": {},
   "source": [
    "* 임베딩했습니다."
   ]
  },
  {
   "cell_type": "code",
   "execution_count": 152,
   "id": "flexible-healthcare",
   "metadata": {},
   "outputs": [
    {
     "data": {
      "text/plain": [
       "'<UNK> <UNK>'"
      ]
     },
     "execution_count": 152,
     "metadata": {},
     "output_type": "execute_result"
    }
   ],
   "source": [
    "decoded = get_decoded_sentence(encoded, index_to_word)\n",
    "decoded"
   ]
  },
  {
   "cell_type": "markdown",
   "id": "simple-mouse",
   "metadata": {},
   "source": [
    "* 다시 한글로 바꿔보니, 단어장에 없는 단어였습니다.<br/>유의미한 결과가 나올것 같진 않네요"
   ]
  },
  {
   "cell_type": "code",
   "execution_count": 157,
   "id": "phantom-payment",
   "metadata": {},
   "outputs": [
    {
     "data": {
      "text/plain": [
       "array([[0, 0, 0, 0, 0, 0, 0, 0, 0, 0, 0, 0, 0, 0, 0, 0, 0, 0, 0, 0, 0, 0,\n",
       "        0, 0, 0, 0, 0, 0, 0, 0, 0, 0, 0, 0, 0, 1, 2, 2]], dtype=int32)"
      ]
     },
     "execution_count": 157,
     "metadata": {},
     "output_type": "execute_result"
    }
   ],
   "source": [
    "pad = keras.preprocessing.sequence.pad_sequences([encoded],\n",
    "                                                 value = word_to_index['<PAD>'],\n",
    "                                                 padding = 'pre',\n",
    "                                                 maxlen=maxlen)\n",
    "pad"
   ]
  },
  {
   "cell_type": "markdown",
   "id": "adopted-share",
   "metadata": {},
   "source": [
    "* 패딩했습니다."
   ]
  },
  {
   "cell_type": "code",
   "execution_count": 160,
   "id": "permanent-respondent",
   "metadata": {},
   "outputs": [
    {
     "data": {
      "text/plain": [
       "0.3947201371192932"
      ]
     },
     "execution_count": 160,
     "metadata": {},
     "output_type": "execute_result"
    }
   ],
   "source": [
    "score = float(model.predict(pad))\n",
    "score"
   ]
  },
  {
   "cell_type": "markdown",
   "id": "everyday-determination",
   "metadata": {},
   "source": [
    "* 39.4%확률로 긍정이라고 합니다 <br/>15%확률로 틀렸나 봅니다"
   ]
  },
  {
   "cell_type": "markdown",
   "id": "formal-chrome",
   "metadata": {},
   "source": [
    "## 회고"
   ]
  },
  {
   "cell_type": "markdown",
   "id": "shared-invasion",
   "metadata": {},
   "source": [
    "* 이번 노드 개인적으로 데이터 전처리와 하이퍼파라미터의 변경만으로 목표치를 달성하고 싶었고, 달성했습니다.\n",
    "* 1-D CNN 모델의 학습과정중 오류가 발생했는데, 레이어에 비하여 input의 사이즈가 작아서 생긴 에러였고 맥스풀링파라미터를 변경하여 해결하였습니다.\n",
    "* TF마스터에서 조원들의 도움으로 양방향 LSTM과 Dropout을 활용하는 방법도 알게되어서 나중에 활용해 보고 싶습니다."
   ]
  }
 ],
 "metadata": {
  "kernelspec": {
   "display_name": "Python 3",
   "language": "python",
   "name": "python3"
  },
  "language_info": {
   "codemirror_mode": {
    "name": "ipython",
    "version": 3
   },
   "file_extension": ".py",
   "mimetype": "text/x-python",
   "name": "python",
   "nbconvert_exporter": "python",
   "pygments_lexer": "ipython3",
   "version": "3.7.9"
  }
 },
 "nbformat": 4,
 "nbformat_minor": 5
}
