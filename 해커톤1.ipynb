{
 "cells": [
  {
   "cell_type": "markdown",
   "id": "guilty-cheese",
   "metadata": {},
   "source": [
    "# 목차\n",
    "> ## 1. 데이터 확인\n",
    "> ## 2. 데이터 전처리 및 분석\n",
    ">> ### 2.1 결측치 확인 및 처리\n",
    ">> ### 2.2 중복 데이터 검사\n",
    ">> ### 2.3 감독이 컨텐츠에 미치는 영향\n",
    ">> ### 2.4 업로드 날짜 분석\n",
    "> ## 3. 인사이트 도출\n",
    ">> ### 3.1 넷플릭스 업로드 컨텐츠의 증감 원인\n",
    "> ## 회고"
   ]
  },
  {
   "cell_type": "markdown",
   "id": "guilty-island",
   "metadata": {},
   "source": [
    "### 필요한 라이브러리를 import합니다."
   ]
  },
  {
   "cell_type": "code",
   "execution_count": 1,
   "id": "sexual-enclosure",
   "metadata": {},
   "outputs": [],
   "source": [
    "import os\n",
    "from os.path import join\n",
    "import missingno as msno\n",
    "import pandas as pd\n",
    "import numpy as np\n",
    "import matplotlib.pyplot as plt\n",
    "import matplotlib.patheffects as path_effects"
   ]
  },
  {
   "cell_type": "code",
   "execution_count": 2,
   "id": "sudden-legend",
   "metadata": {},
   "outputs": [],
   "source": [
    "data_dir = os.getenv('HOME')+'/aiffel/aiffel/'\n",
    "\n",
    "df_data_path = join(data_dir, 'netflix_titles.csv')\n",
    "df = pd.read_csv(df_data_path)"
   ]
  },
  {
   "cell_type": "markdown",
   "id": "grand-journalism",
   "metadata": {},
   "source": [
    "# 1. 데이터 확인"
   ]
  },
  {
   "cell_type": "code",
   "execution_count": 3,
   "id": "acknowledged-bahamas",
   "metadata": {},
   "outputs": [
    {
     "data": {
      "text/html": [
       "<div>\n",
       "<style scoped>\n",
       "    .dataframe tbody tr th:only-of-type {\n",
       "        vertical-align: middle;\n",
       "    }\n",
       "\n",
       "    .dataframe tbody tr th {\n",
       "        vertical-align: top;\n",
       "    }\n",
       "\n",
       "    .dataframe thead th {\n",
       "        text-align: right;\n",
       "    }\n",
       "</style>\n",
       "<table border=\"1\" class=\"dataframe\">\n",
       "  <thead>\n",
       "    <tr style=\"text-align: right;\">\n",
       "      <th></th>\n",
       "      <th>show_id</th>\n",
       "      <th>type</th>\n",
       "      <th>title</th>\n",
       "      <th>director</th>\n",
       "      <th>cast</th>\n",
       "      <th>country</th>\n",
       "      <th>date_added</th>\n",
       "      <th>release_year</th>\n",
       "      <th>rating</th>\n",
       "      <th>duration</th>\n",
       "      <th>listed_in</th>\n",
       "      <th>description</th>\n",
       "    </tr>\n",
       "  </thead>\n",
       "  <tbody>\n",
       "    <tr>\n",
       "      <th>0</th>\n",
       "      <td>s1</td>\n",
       "      <td>Movie</td>\n",
       "      <td>Dick Johnson Is Dead</td>\n",
       "      <td>Kirsten Johnson</td>\n",
       "      <td>NaN</td>\n",
       "      <td>United States</td>\n",
       "      <td>September 25, 2021</td>\n",
       "      <td>2020</td>\n",
       "      <td>PG-13</td>\n",
       "      <td>90 min</td>\n",
       "      <td>Documentaries</td>\n",
       "      <td>As her father nears the end of his life, filmm...</td>\n",
       "    </tr>\n",
       "    <tr>\n",
       "      <th>1</th>\n",
       "      <td>s2</td>\n",
       "      <td>TV Show</td>\n",
       "      <td>Blood &amp; Water</td>\n",
       "      <td>NaN</td>\n",
       "      <td>Ama Qamata, Khosi Ngema, Gail Mabalane, Thaban...</td>\n",
       "      <td>South Africa</td>\n",
       "      <td>September 24, 2021</td>\n",
       "      <td>2021</td>\n",
       "      <td>TV-MA</td>\n",
       "      <td>2 Seasons</td>\n",
       "      <td>International TV Shows, TV Dramas, TV Mysteries</td>\n",
       "      <td>After crossing paths at a party, a Cape Town t...</td>\n",
       "    </tr>\n",
       "    <tr>\n",
       "      <th>2</th>\n",
       "      <td>s3</td>\n",
       "      <td>TV Show</td>\n",
       "      <td>Ganglands</td>\n",
       "      <td>Julien Leclercq</td>\n",
       "      <td>Sami Bouajila, Tracy Gotoas, Samuel Jouy, Nabi...</td>\n",
       "      <td>NaN</td>\n",
       "      <td>September 24, 2021</td>\n",
       "      <td>2021</td>\n",
       "      <td>TV-MA</td>\n",
       "      <td>1 Season</td>\n",
       "      <td>Crime TV Shows, International TV Shows, TV Act...</td>\n",
       "      <td>To protect his family from a powerful drug lor...</td>\n",
       "    </tr>\n",
       "    <tr>\n",
       "      <th>3</th>\n",
       "      <td>s4</td>\n",
       "      <td>TV Show</td>\n",
       "      <td>Jailbirds New Orleans</td>\n",
       "      <td>NaN</td>\n",
       "      <td>NaN</td>\n",
       "      <td>NaN</td>\n",
       "      <td>September 24, 2021</td>\n",
       "      <td>2021</td>\n",
       "      <td>TV-MA</td>\n",
       "      <td>1 Season</td>\n",
       "      <td>Docuseries, Reality TV</td>\n",
       "      <td>Feuds, flirtations and toilet talk go down amo...</td>\n",
       "    </tr>\n",
       "    <tr>\n",
       "      <th>4</th>\n",
       "      <td>s5</td>\n",
       "      <td>TV Show</td>\n",
       "      <td>Kota Factory</td>\n",
       "      <td>NaN</td>\n",
       "      <td>Mayur More, Jitendra Kumar, Ranjan Raj, Alam K...</td>\n",
       "      <td>India</td>\n",
       "      <td>September 24, 2021</td>\n",
       "      <td>2021</td>\n",
       "      <td>TV-MA</td>\n",
       "      <td>2 Seasons</td>\n",
       "      <td>International TV Shows, Romantic TV Shows, TV ...</td>\n",
       "      <td>In a city of coaching centers known to train I...</td>\n",
       "    </tr>\n",
       "  </tbody>\n",
       "</table>\n",
       "</div>"
      ],
      "text/plain": [
       "  show_id     type                  title         director  \\\n",
       "0      s1    Movie   Dick Johnson Is Dead  Kirsten Johnson   \n",
       "1      s2  TV Show          Blood & Water              NaN   \n",
       "2      s3  TV Show              Ganglands  Julien Leclercq   \n",
       "3      s4  TV Show  Jailbirds New Orleans              NaN   \n",
       "4      s5  TV Show           Kota Factory              NaN   \n",
       "\n",
       "                                                cast        country  \\\n",
       "0                                                NaN  United States   \n",
       "1  Ama Qamata, Khosi Ngema, Gail Mabalane, Thaban...   South Africa   \n",
       "2  Sami Bouajila, Tracy Gotoas, Samuel Jouy, Nabi...            NaN   \n",
       "3                                                NaN            NaN   \n",
       "4  Mayur More, Jitendra Kumar, Ranjan Raj, Alam K...          India   \n",
       "\n",
       "           date_added  release_year rating   duration  \\\n",
       "0  September 25, 2021          2020  PG-13     90 min   \n",
       "1  September 24, 2021          2021  TV-MA  2 Seasons   \n",
       "2  September 24, 2021          2021  TV-MA   1 Season   \n",
       "3  September 24, 2021          2021  TV-MA   1 Season   \n",
       "4  September 24, 2021          2021  TV-MA  2 Seasons   \n",
       "\n",
       "                                           listed_in  \\\n",
       "0                                      Documentaries   \n",
       "1    International TV Shows, TV Dramas, TV Mysteries   \n",
       "2  Crime TV Shows, International TV Shows, TV Act...   \n",
       "3                             Docuseries, Reality TV   \n",
       "4  International TV Shows, Romantic TV Shows, TV ...   \n",
       "\n",
       "                                         description  \n",
       "0  As her father nears the end of his life, filmm...  \n",
       "1  After crossing paths at a party, a Cape Town t...  \n",
       "2  To protect his family from a powerful drug lor...  \n",
       "3  Feuds, flirtations and toilet talk go down amo...  \n",
       "4  In a city of coaching centers known to train I...  "
      ]
     },
     "execution_count": 3,
     "metadata": {},
     "output_type": "execute_result"
    }
   ],
   "source": [
    "df.head()"
   ]
  },
  {
   "cell_type": "markdown",
   "id": "confirmed-impossible",
   "metadata": {},
   "source": [
    "1. show_id : 컨텐츠를 구분하는 ID\n",
    "2. type : 컨텐츠 유형\n",
    "3. title : 컨텐츠 제목\n",
    "4. director : 감독\n",
    "5. cast : 배우\n",
    "6. country : 시청가능 국가\n",
    "7. date_added : 컨텐츠 업로드 날짜\n",
    "8. release_year : 제작 년도\n",
    "9. rating : 시청등급\n",
    "10. duration : 재생시간\n",
    "11. listed_in : 장르\n",
    "12. description : 설명"
   ]
  },
  {
   "cell_type": "markdown",
   "id": "southeast-processor",
   "metadata": {},
   "source": [
    "## 2. 데이터 전처리 및 분석"
   ]
  },
  {
   "cell_type": "markdown",
   "id": "duplicate-subscriber",
   "metadata": {},
   "source": [
    "## 결측치를 확인해 보겠습니다."
   ]
  },
  {
   "cell_type": "code",
   "execution_count": 4,
   "id": "impressed-causing",
   "metadata": {},
   "outputs": [
    {
     "data": {
      "text/plain": [
       "<AxesSubplot:>"
      ]
     },
     "execution_count": 4,
     "metadata": {},
     "output_type": "execute_result"
    },
    {
     "data": {
      "image/png": "[encoded data removed]",
      "text/plain": [
       "<Figure size 1800x720 with 2 Axes>"
      ]
     },
     "metadata": {
      "needs_background": "light"
     },
     "output_type": "display_data"
    }
   ],
   "source": [
    "msno.matrix(df)"
   ]
  },
  {
   "cell_type": "markdown",
   "id": "confident-cylinder",
   "metadata": {},
   "source": [
    "## 감독과 배우, 국가에서 많아 보이네요. 실제 몇개인지 보겠습니다."
   ]
  },
  {
   "cell_type": "code",
   "execution_count": 5,
   "id": "fallen-resistance",
   "metadata": {},
   "outputs": [
    {
     "name": "stdout",
     "output_type": "stream",
     "text": [
      "show_id : 0\n",
      "type : 0\n",
      "title : 0\n",
      "director : 2634\n",
      "cast : 825\n",
      "country : 831\n",
      "date_added : 10\n",
      "release_year : 0\n",
      "rating : 4\n",
      "duration : 3\n",
      "listed_in : 0\n",
      "description : 0\n"
     ]
    }
   ],
   "source": [
    "for c in df.columns:\n",
    "    print('{} : {}'.format(c, len(df.loc[pd.isnull(df[c]), c].values)))"
   ]
  },
  {
   "cell_type": "code",
   "execution_count": 6,
   "id": "opposite-lawsuit",
   "metadata": {},
   "outputs": [
    {
     "name": "stdout",
     "output_type": "stream",
     "text": [
      "<class 'pandas.core.frame.DataFrame'>\n",
      "RangeIndex: 8807 entries, 0 to 8806\n",
      "Data columns (total 12 columns):\n",
      " #   Column        Non-Null Count  Dtype \n",
      "---  ------        --------------  ----- \n",
      " 0   show_id       8807 non-null   object\n",
      " 1   type          8807 non-null   object\n",
      " 2   title         8807 non-null   object\n",
      " 3   director      6173 non-null   object\n",
      " 4   cast          7982 non-null   object\n",
      " 5   country       7976 non-null   object\n",
      " 6   date_added    8797 non-null   object\n",
      " 7   release_year  8807 non-null   int64 \n",
      " 8   rating        8803 non-null   object\n",
      " 9   duration      8804 non-null   object\n",
      " 10  listed_in     8807 non-null   object\n",
      " 11  description   8807 non-null   object\n",
      "dtypes: int64(1), object(11)\n",
      "memory usage: 825.8+ KB\n"
     ]
    }
   ],
   "source": [
    "df.info()"
   ]
  },
  {
   "cell_type": "markdown",
   "id": "maritime-platform",
   "metadata": {},
   "source": [
    "## 중복데이터 확인"
   ]
  },
  {
   "cell_type": "code",
   "execution_count": 7,
   "id": "proved-silver",
   "metadata": {},
   "outputs": [
    {
     "data": {
      "text/html": [
       "<div>\n",
       "<style scoped>\n",
       "    .dataframe tbody tr th:only-of-type {\n",
       "        vertical-align: middle;\n",
       "    }\n",
       "\n",
       "    .dataframe tbody tr th {\n",
       "        vertical-align: top;\n",
       "    }\n",
       "\n",
       "    .dataframe thead th {\n",
       "        text-align: right;\n",
       "    }\n",
       "</style>\n",
       "<table border=\"1\" class=\"dataframe\">\n",
       "  <thead>\n",
       "    <tr style=\"text-align: right;\">\n",
       "      <th></th>\n",
       "      <th>show_id</th>\n",
       "      <th>type</th>\n",
       "      <th>title</th>\n",
       "      <th>director</th>\n",
       "      <th>cast</th>\n",
       "      <th>country</th>\n",
       "      <th>date_added</th>\n",
       "      <th>release_year</th>\n",
       "      <th>rating</th>\n",
       "      <th>duration</th>\n",
       "      <th>listed_in</th>\n",
       "      <th>description</th>\n",
       "    </tr>\n",
       "  </thead>\n",
       "  <tbody>\n",
       "  </tbody>\n",
       "</table>\n",
       "</div>"
      ],
      "text/plain": [
       "Empty DataFrame\n",
       "Columns: [show_id, type, title, director, cast, country, date_added, release_year, rating, duration, listed_in, description]\n",
       "Index: []"
      ]
     },
     "execution_count": 7,
     "metadata": {},
     "output_type": "execute_result"
    }
   ],
   "source": [
    "df[df.duplicated('title')]"
   ]
  },
  {
   "cell_type": "markdown",
   "id": "australian-genre",
   "metadata": {},
   "source": [
    "## 제목이 같은 데이터는 없습니다."
   ]
  },
  {
   "cell_type": "markdown",
   "id": "fitted-tampa",
   "metadata": {},
   "source": [
    "### 결측치를 이용해 보다 편리하게 조건을 나누기 위해 모든 결측치를 0으로 만들겠습니다."
   ]
  },
  {
   "cell_type": "code",
   "execution_count": 8,
   "id": "iraqi-mother",
   "metadata": {},
   "outputs": [],
   "source": [
    "df = df.fillna(0)"
   ]
  },
  {
   "cell_type": "markdown",
   "id": "waiting-creature",
   "metadata": {},
   "source": [
    "## 결측치가 가장 많았던 감독을 통해 데이터를 시각화 해보겠습니다."
   ]
  },
  {
   "cell_type": "markdown",
   "id": "saved-carroll",
   "metadata": {},
   "source": [
    "### 감독이 있는 데이터와 없는 데이터를 따로 만들고 type의 비율을 살펴보겠습니다."
   ]
  },
  {
   "cell_type": "code",
   "execution_count": 9,
   "id": "civic-deadline",
   "metadata": {},
   "outputs": [],
   "source": [
    "df_has_drector = df.loc[df['director'] != 0]"
   ]
  },
  {
   "cell_type": "code",
   "execution_count": 10,
   "id": "pretty-member",
   "metadata": {},
   "outputs": [],
   "source": [
    "df_nan_drector = df.loc[df['director'] == 0]"
   ]
  },
  {
   "cell_type": "markdown",
   "id": "ultimate-demographic",
   "metadata": {},
   "source": [
    "### 전체 데이터에서 movie와 TV show의 비율을 시각화 해보겠습니다."
   ]
  },
  {
   "cell_type": "code",
   "execution_count": 11,
   "id": "everyday-measurement",
   "metadata": {},
   "outputs": [
    {
     "data": {
      "image/png": "[encoded data removed]",
      "text/plain": [
       "<Figure size 1080x576 with 3 Axes>"
      ]
     },
     "metadata": {},
     "output_type": "display_data"
    }
   ],
   "source": [
    "fig, axes = plt.subplots(ncols = 3)\n",
    "fig.set_size_inches(15,8)\n",
    "explode=[0.02, 0.02]\n",
    "\n",
    "df.type.value_counts().plot.pie(autopct='%.1f%%', explode=explode, colors = ['orange', 'cornflowerblue'], title = 'type', ax = axes[0])\n",
    "df_nan_drector.type.value_counts().plot.pie(autopct='%.1f%%', explode=explode, startangle=140, colors = ['cornflowerblue', 'orange'], title = 'nan_drector', ax = axes[1])\n",
    "df_has_drector.type.value_counts().plot.pie(autopct='%.1f%%', explode=explode, startangle=-50, colors = ['orange', 'cornflowerblue'], title = 'has_drector', ax = axes[2])\n",
    "\n",
    "plt.show()"
   ]
  },
  {
   "cell_type": "markdown",
   "id": "generic-cause",
   "metadata": {},
   "source": [
    "## movie에서 감독이 좀더 중요한것 같습니다."
   ]
  },
  {
   "cell_type": "markdown",
   "id": "temporal-screening",
   "metadata": {},
   "source": [
    "### 이제 컨텐츠를 많이 등록한 감독을 찾아보겠습니다."
   ]
  },
  {
   "cell_type": "code",
   "execution_count": 12,
   "id": "british-organic",
   "metadata": {},
   "outputs": [
    {
     "data": {
      "text/plain": [
       "Rajiv Chilaka                   19\n",
       "Raúl Campos, Jan Suter          18\n",
       "Marcus Raboy                    16\n",
       "Suhas Kadav                     16\n",
       "Jay Karas                       14\n",
       "                                ..\n",
       "Scott Aukerman                   1\n",
       "James Watkins                    1\n",
       "Louis Leterrier                  1\n",
       "Paul Berczeller, Mark Radice     1\n",
       "Heber Cannon                     1\n",
       "Name: director, Length: 4528, dtype: int64"
      ]
     },
     "execution_count": 12,
     "metadata": {},
     "output_type": "execute_result"
    }
   ],
   "source": [
    "df_has_drector['director'].value_counts()"
   ]
  },
  {
   "cell_type": "markdown",
   "id": "stock-basement",
   "metadata": {},
   "source": [
    "### 컨텐츠를 19개나 만든 감독이 있네요. 무슨 컨텐츠을 만들었나 검색해보겠습니다."
   ]
  },
  {
   "cell_type": "code",
   "execution_count": 13,
   "id": "improved-rental",
   "metadata": {},
   "outputs": [
    {
     "data": {
      "text/html": [
       "<div>\n",
       "<style scoped>\n",
       "    .dataframe tbody tr th:only-of-type {\n",
       "        vertical-align: middle;\n",
       "    }\n",
       "\n",
       "    .dataframe tbody tr th {\n",
       "        vertical-align: top;\n",
       "    }\n",
       "\n",
       "    .dataframe thead th {\n",
       "        text-align: right;\n",
       "    }\n",
       "</style>\n",
       "<table border=\"1\" class=\"dataframe\">\n",
       "  <thead>\n",
       "    <tr style=\"text-align: right;\">\n",
       "      <th></th>\n",
       "      <th>show_id</th>\n",
       "      <th>type</th>\n",
       "      <th>title</th>\n",
       "      <th>director</th>\n",
       "      <th>cast</th>\n",
       "      <th>country</th>\n",
       "      <th>date_added</th>\n",
       "      <th>release_year</th>\n",
       "      <th>rating</th>\n",
       "      <th>duration</th>\n",
       "      <th>listed_in</th>\n",
       "      <th>description</th>\n",
       "    </tr>\n",
       "  </thead>\n",
       "  <tbody>\n",
       "    <tr>\n",
       "      <th>406</th>\n",
       "      <td>s407</td>\n",
       "      <td>Movie</td>\n",
       "      <td>Chhota Bheem - Neeli Pahaadi</td>\n",
       "      <td>Rajiv Chilaka</td>\n",
       "      <td>Vatsal Dubey, Julie Tejwani, Rupa Bhimani, Jig...</td>\n",
       "      <td>0</td>\n",
       "      <td>July 22, 2021</td>\n",
       "      <td>2013</td>\n",
       "      <td>TV-Y7</td>\n",
       "      <td>64 min</td>\n",
       "      <td>Children &amp; Family Movies</td>\n",
       "      <td>Things get spooky when Bheem and his buddies t...</td>\n",
       "    </tr>\n",
       "    <tr>\n",
       "      <th>407</th>\n",
       "      <td>s408</td>\n",
       "      <td>Movie</td>\n",
       "      <td>Chhota Bheem &amp; Ganesh</td>\n",
       "      <td>Rajiv Chilaka</td>\n",
       "      <td>Vatsal Dubey, Julie Tejwani, Rupa Bhimani, Jig...</td>\n",
       "      <td>0</td>\n",
       "      <td>July 22, 2021</td>\n",
       "      <td>2009</td>\n",
       "      <td>TV-Y7</td>\n",
       "      <td>68 min</td>\n",
       "      <td>Children &amp; Family Movies</td>\n",
       "      <td>Bheem and Lord Ganesha join forces to save Dho...</td>\n",
       "    </tr>\n",
       "    <tr>\n",
       "      <th>408</th>\n",
       "      <td>s409</td>\n",
       "      <td>Movie</td>\n",
       "      <td>Chhota Bheem &amp; Krishna: Mayanagari</td>\n",
       "      <td>Rajiv Chilaka</td>\n",
       "      <td>Vatsal Dubey, Julie Tejwani, Rupa Bhimani, Jig...</td>\n",
       "      <td>0</td>\n",
       "      <td>July 22, 2021</td>\n",
       "      <td>2011</td>\n",
       "      <td>TV-Y7</td>\n",
       "      <td>67 min</td>\n",
       "      <td>Children &amp; Family Movies</td>\n",
       "      <td>Young lord Krishna has fallen for demoness Maa...</td>\n",
       "    </tr>\n",
       "    <tr>\n",
       "      <th>409</th>\n",
       "      <td>s410</td>\n",
       "      <td>Movie</td>\n",
       "      <td>Chhota Bheem &amp; Krishna: Pataliputra- City of t...</td>\n",
       "      <td>Rajiv Chilaka</td>\n",
       "      <td>Vatsal Dubey, Julie Tejwani, Rupa Bhimani, Jig...</td>\n",
       "      <td>0</td>\n",
       "      <td>July 22, 2021</td>\n",
       "      <td>2010</td>\n",
       "      <td>TV-Y7</td>\n",
       "      <td>66 min</td>\n",
       "      <td>Children &amp; Family Movies</td>\n",
       "      <td>Krishna needs Bheem’s help: The ruined city of...</td>\n",
       "    </tr>\n",
       "    <tr>\n",
       "      <th>410</th>\n",
       "      <td>s411</td>\n",
       "      <td>Movie</td>\n",
       "      <td>Chhota Bheem And The Broken Amulet</td>\n",
       "      <td>Rajiv Chilaka</td>\n",
       "      <td>Vatsal Dubey, Julie Tejwani, Rupa Bhimani, Jig...</td>\n",
       "      <td>India</td>\n",
       "      <td>July 22, 2021</td>\n",
       "      <td>2013</td>\n",
       "      <td>TV-Y7</td>\n",
       "      <td>64 min</td>\n",
       "      <td>Children &amp; Family Movies</td>\n",
       "      <td>When a stranger tries to steal an amulet from ...</td>\n",
       "    </tr>\n",
       "    <tr>\n",
       "      <th>411</th>\n",
       "      <td>s412</td>\n",
       "      <td>Movie</td>\n",
       "      <td>Chhota Bheem And The Crown of Valhalla</td>\n",
       "      <td>Rajiv Chilaka</td>\n",
       "      <td>Vatsal Dubey, Julie Tejwani, Rupa Bhimani, Jig...</td>\n",
       "      <td>0</td>\n",
       "      <td>July 22, 2021</td>\n",
       "      <td>2013</td>\n",
       "      <td>TV-Y7</td>\n",
       "      <td>64 min</td>\n",
       "      <td>Children &amp; Family Movies</td>\n",
       "      <td>To save the kingdom of Valhalla from invasion ...</td>\n",
       "    </tr>\n",
       "    <tr>\n",
       "      <th>412</th>\n",
       "      <td>s413</td>\n",
       "      <td>Movie</td>\n",
       "      <td>Chhota Bheem and the Incan Adventure</td>\n",
       "      <td>Rajiv Chilaka</td>\n",
       "      <td>Vatsal Dubey, Julie Tejwani, Rupa Bhimani, Jig...</td>\n",
       "      <td>0</td>\n",
       "      <td>July 22, 2021</td>\n",
       "      <td>2013</td>\n",
       "      <td>TV-Y7</td>\n",
       "      <td>65 min</td>\n",
       "      <td>Children &amp; Family Movies</td>\n",
       "      <td>When Dholakpur’s princess is kidnapped, Bheem ...</td>\n",
       "    </tr>\n",
       "    <tr>\n",
       "      <th>413</th>\n",
       "      <td>s414</td>\n",
       "      <td>Movie</td>\n",
       "      <td>Chhota Bheem and The ShiNobi Secret</td>\n",
       "      <td>Rajiv Chilaka</td>\n",
       "      <td>Vatsal Dubey, Julie Tejwani, Rupa Bhimani, Jig...</td>\n",
       "      <td>0</td>\n",
       "      <td>July 22, 2021</td>\n",
       "      <td>2013</td>\n",
       "      <td>TV-Y7</td>\n",
       "      <td>64 min</td>\n",
       "      <td>Children &amp; Family Movies</td>\n",
       "      <td>After learning of a samurai village under thre...</td>\n",
       "    </tr>\n",
       "    <tr>\n",
       "      <th>414</th>\n",
       "      <td>s415</td>\n",
       "      <td>Movie</td>\n",
       "      <td>Chhota Bheem Aur Hanuman</td>\n",
       "      <td>Rajiv Chilaka</td>\n",
       "      <td>Vatsal Dubey, Julie Tejwani, Rupa Bhimani, Jig...</td>\n",
       "      <td>0</td>\n",
       "      <td>July 22, 2021</td>\n",
       "      <td>2012</td>\n",
       "      <td>TV-Y7</td>\n",
       "      <td>68 min</td>\n",
       "      <td>Children &amp; Family Movies</td>\n",
       "      <td>When two evil entities kidnap a princess in a ...</td>\n",
       "    </tr>\n",
       "    <tr>\n",
       "      <th>415</th>\n",
       "      <td>s416</td>\n",
       "      <td>Movie</td>\n",
       "      <td>Chhota Bheem aur Krishna</td>\n",
       "      <td>Rajiv Chilaka</td>\n",
       "      <td>Vatsal Dubey, Julie Tejwani, Rupa Bhimani, Jig...</td>\n",
       "      <td>India</td>\n",
       "      <td>July 22, 2021</td>\n",
       "      <td>2009</td>\n",
       "      <td>TV-Y7</td>\n",
       "      <td>68 min</td>\n",
       "      <td>Children &amp; Family Movies</td>\n",
       "      <td>Centuries after the end of a conqueror's rule,...</td>\n",
       "    </tr>\n",
       "    <tr>\n",
       "      <th>416</th>\n",
       "      <td>s417</td>\n",
       "      <td>Movie</td>\n",
       "      <td>Chhota Bheem aur Krishna vs Zimbara</td>\n",
       "      <td>Rajiv Chilaka</td>\n",
       "      <td>Vatsal Dubey, Julie Tejwani, Rupa Bhimani, Jig...</td>\n",
       "      <td>0</td>\n",
       "      <td>July 22, 2021</td>\n",
       "      <td>2013</td>\n",
       "      <td>TV-Y7</td>\n",
       "      <td>64 min</td>\n",
       "      <td>Children &amp; Family Movies</td>\n",
       "      <td>A demon of darkness is plotting world dominati...</td>\n",
       "    </tr>\n",
       "    <tr>\n",
       "      <th>419</th>\n",
       "      <td>s420</td>\n",
       "      <td>Movie</td>\n",
       "      <td>Chhota Bheem: Bheem vs Aliens</td>\n",
       "      <td>Rajiv Chilaka</td>\n",
       "      <td>Vatsal Dubey, Julie Tejwani, Rupa Bhimani, Jig...</td>\n",
       "      <td>0</td>\n",
       "      <td>July 22, 2021</td>\n",
       "      <td>2010</td>\n",
       "      <td>TV-Y7</td>\n",
       "      <td>69 min</td>\n",
       "      <td>Children &amp; Family Movies, Sports Movies</td>\n",
       "      <td>Space invaders have kidnapped Dholakpur’s king...</td>\n",
       "    </tr>\n",
       "    <tr>\n",
       "      <th>420</th>\n",
       "      <td>s421</td>\n",
       "      <td>Movie</td>\n",
       "      <td>Chhota Bheem: Dholakpur to Kathmandu</td>\n",
       "      <td>Rajiv Chilaka</td>\n",
       "      <td>Vatsal Dubey, Julie Tejwani, Rupa Bhimani, Jig...</td>\n",
       "      <td>0</td>\n",
       "      <td>July 22, 2021</td>\n",
       "      <td>2012</td>\n",
       "      <td>TV-Y7</td>\n",
       "      <td>70 min</td>\n",
       "      <td>Children &amp; Family Movies</td>\n",
       "      <td>Bheem’s holiday in Nepal takes an unexpected t...</td>\n",
       "    </tr>\n",
       "    <tr>\n",
       "      <th>422</th>\n",
       "      <td>s423</td>\n",
       "      <td>Movie</td>\n",
       "      <td>Chhota Bheem: Journey to Petra</td>\n",
       "      <td>Rajiv Chilaka</td>\n",
       "      <td>Vatsal Dubey, Julie Tejwani, Rupa Bhimani, Jig...</td>\n",
       "      <td>0</td>\n",
       "      <td>July 22, 2021</td>\n",
       "      <td>2011</td>\n",
       "      <td>TV-Y7</td>\n",
       "      <td>68 min</td>\n",
       "      <td>Children &amp; Family Movies</td>\n",
       "      <td>The king has been away to meet an old friend, ...</td>\n",
       "    </tr>\n",
       "    <tr>\n",
       "      <th>423</th>\n",
       "      <td>s424</td>\n",
       "      <td>Movie</td>\n",
       "      <td>Chhota Bheem: Master of Shaolin</td>\n",
       "      <td>Rajiv Chilaka</td>\n",
       "      <td>Pooja Punabi, Mausam, Julie Tejwani, Rupa Bhim...</td>\n",
       "      <td>0</td>\n",
       "      <td>July 22, 2021</td>\n",
       "      <td>2011</td>\n",
       "      <td>TV-Y7</td>\n",
       "      <td>74 min</td>\n",
       "      <td>Children &amp; Family Movies</td>\n",
       "      <td>Summoned by a monk to help reclaim a temple fr...</td>\n",
       "    </tr>\n",
       "    <tr>\n",
       "      <th>424</th>\n",
       "      <td>s425</td>\n",
       "      <td>Movie</td>\n",
       "      <td>Chhota Bheem: The Rise of Kirmada</td>\n",
       "      <td>Rajiv Chilaka</td>\n",
       "      <td>Vatsal Dubey, Julie Tejwani, Rupa Bhimani, Jig...</td>\n",
       "      <td>0</td>\n",
       "      <td>July 22, 2021</td>\n",
       "      <td>2012</td>\n",
       "      <td>TV-Y7</td>\n",
       "      <td>68 min</td>\n",
       "      <td>Children &amp; Family Movies</td>\n",
       "      <td>Bheem and young lord Krishna team up to protec...</td>\n",
       "    </tr>\n",
       "    <tr>\n",
       "      <th>2717</th>\n",
       "      <td>s2718</td>\n",
       "      <td>Movie</td>\n",
       "      <td>Chhota Bheem and the Curse of Damyaan</td>\n",
       "      <td>Rajiv Chilaka</td>\n",
       "      <td>Kaustav Ghosh, Jigna Bhardwaj, Chutki, Rajesh ...</td>\n",
       "      <td>India</td>\n",
       "      <td>April 1, 2020</td>\n",
       "      <td>2012</td>\n",
       "      <td>TV-Y7</td>\n",
       "      <td>87 min</td>\n",
       "      <td>Children &amp; Family Movies</td>\n",
       "      <td>An evil demon who traded his freedom for immor...</td>\n",
       "    </tr>\n",
       "    <tr>\n",
       "      <th>6297</th>\n",
       "      <td>s6298</td>\n",
       "      <td>Movie</td>\n",
       "      <td>Bheemayan</td>\n",
       "      <td>Rajiv Chilaka</td>\n",
       "      <td>0</td>\n",
       "      <td>0</td>\n",
       "      <td>May 10, 2019</td>\n",
       "      <td>2018</td>\n",
       "      <td>TV-Y</td>\n",
       "      <td>63 min</td>\n",
       "      <td>Children &amp; Family Movies</td>\n",
       "      <td>It's Diwali! To celebrate, Chhota Bheem and hi...</td>\n",
       "    </tr>\n",
       "    <tr>\n",
       "      <th>6645</th>\n",
       "      <td>s6646</td>\n",
       "      <td>Movie</td>\n",
       "      <td>Dragonkala Ka Rahasya</td>\n",
       "      <td>Rajiv Chilaka</td>\n",
       "      <td>0</td>\n",
       "      <td>0</td>\n",
       "      <td>June 18, 2019</td>\n",
       "      <td>2018</td>\n",
       "      <td>TV-Y</td>\n",
       "      <td>68 min</td>\n",
       "      <td>Children &amp; Family Movies</td>\n",
       "      <td>Bheem helps to reopen Dragonpur's abandoned ma...</td>\n",
       "    </tr>\n",
       "  </tbody>\n",
       "</table>\n",
       "</div>"
      ],
      "text/plain": [
       "     show_id   type                                              title  \\\n",
       "406     s407  Movie                       Chhota Bheem - Neeli Pahaadi   \n",
       "407     s408  Movie                              Chhota Bheem & Ganesh   \n",
       "408     s409  Movie                 Chhota Bheem & Krishna: Mayanagari   \n",
       "409     s410  Movie  Chhota Bheem & Krishna: Pataliputra- City of t...   \n",
       "410     s411  Movie                 Chhota Bheem And The Broken Amulet   \n",
       "411     s412  Movie             Chhota Bheem And The Crown of Valhalla   \n",
       "412     s413  Movie               Chhota Bheem and the Incan Adventure   \n",
       "413     s414  Movie                Chhota Bheem and The ShiNobi Secret   \n",
       "414     s415  Movie                           Chhota Bheem Aur Hanuman   \n",
       "415     s416  Movie                           Chhota Bheem aur Krishna   \n",
       "416     s417  Movie                Chhota Bheem aur Krishna vs Zimbara   \n",
       "419     s420  Movie                      Chhota Bheem: Bheem vs Aliens   \n",
       "420     s421  Movie               Chhota Bheem: Dholakpur to Kathmandu   \n",
       "422     s423  Movie                     Chhota Bheem: Journey to Petra   \n",
       "423     s424  Movie                    Chhota Bheem: Master of Shaolin   \n",
       "424     s425  Movie                  Chhota Bheem: The Rise of Kirmada   \n",
       "2717   s2718  Movie              Chhota Bheem and the Curse of Damyaan   \n",
       "6297   s6298  Movie                                          Bheemayan   \n",
       "6645   s6646  Movie                              Dragonkala Ka Rahasya   \n",
       "\n",
       "           director                                               cast  \\\n",
       "406   Rajiv Chilaka  Vatsal Dubey, Julie Tejwani, Rupa Bhimani, Jig...   \n",
       "407   Rajiv Chilaka  Vatsal Dubey, Julie Tejwani, Rupa Bhimani, Jig...   \n",
       "408   Rajiv Chilaka  Vatsal Dubey, Julie Tejwani, Rupa Bhimani, Jig...   \n",
       "409   Rajiv Chilaka  Vatsal Dubey, Julie Tejwani, Rupa Bhimani, Jig...   \n",
       "410   Rajiv Chilaka  Vatsal Dubey, Julie Tejwani, Rupa Bhimani, Jig...   \n",
       "411   Rajiv Chilaka  Vatsal Dubey, Julie Tejwani, Rupa Bhimani, Jig...   \n",
       "412   Rajiv Chilaka  Vatsal Dubey, Julie Tejwani, Rupa Bhimani, Jig...   \n",
       "413   Rajiv Chilaka  Vatsal Dubey, Julie Tejwani, Rupa Bhimani, Jig...   \n",
       "414   Rajiv Chilaka  Vatsal Dubey, Julie Tejwani, Rupa Bhimani, Jig...   \n",
       "415   Rajiv Chilaka  Vatsal Dubey, Julie Tejwani, Rupa Bhimani, Jig...   \n",
       "416   Rajiv Chilaka  Vatsal Dubey, Julie Tejwani, Rupa Bhimani, Jig...   \n",
       "419   Rajiv Chilaka  Vatsal Dubey, Julie Tejwani, Rupa Bhimani, Jig...   \n",
       "420   Rajiv Chilaka  Vatsal Dubey, Julie Tejwani, Rupa Bhimani, Jig...   \n",
       "422   Rajiv Chilaka  Vatsal Dubey, Julie Tejwani, Rupa Bhimani, Jig...   \n",
       "423   Rajiv Chilaka  Pooja Punabi, Mausam, Julie Tejwani, Rupa Bhim...   \n",
       "424   Rajiv Chilaka  Vatsal Dubey, Julie Tejwani, Rupa Bhimani, Jig...   \n",
       "2717  Rajiv Chilaka  Kaustav Ghosh, Jigna Bhardwaj, Chutki, Rajesh ...   \n",
       "6297  Rajiv Chilaka                                                  0   \n",
       "6645  Rajiv Chilaka                                                  0   \n",
       "\n",
       "     country     date_added  release_year rating duration  \\\n",
       "406        0  July 22, 2021          2013  TV-Y7   64 min   \n",
       "407        0  July 22, 2021          2009  TV-Y7   68 min   \n",
       "408        0  July 22, 2021          2011  TV-Y7   67 min   \n",
       "409        0  July 22, 2021          2010  TV-Y7   66 min   \n",
       "410    India  July 22, 2021          2013  TV-Y7   64 min   \n",
       "411        0  July 22, 2021          2013  TV-Y7   64 min   \n",
       "412        0  July 22, 2021          2013  TV-Y7   65 min   \n",
       "413        0  July 22, 2021          2013  TV-Y7   64 min   \n",
       "414        0  July 22, 2021          2012  TV-Y7   68 min   \n",
       "415    India  July 22, 2021          2009  TV-Y7   68 min   \n",
       "416        0  July 22, 2021          2013  TV-Y7   64 min   \n",
       "419        0  July 22, 2021          2010  TV-Y7   69 min   \n",
       "420        0  July 22, 2021          2012  TV-Y7   70 min   \n",
       "422        0  July 22, 2021          2011  TV-Y7   68 min   \n",
       "423        0  July 22, 2021          2011  TV-Y7   74 min   \n",
       "424        0  July 22, 2021          2012  TV-Y7   68 min   \n",
       "2717   India  April 1, 2020          2012  TV-Y7   87 min   \n",
       "6297       0   May 10, 2019          2018   TV-Y   63 min   \n",
       "6645       0  June 18, 2019          2018   TV-Y   68 min   \n",
       "\n",
       "                                    listed_in  \\\n",
       "406                  Children & Family Movies   \n",
       "407                  Children & Family Movies   \n",
       "408                  Children & Family Movies   \n",
       "409                  Children & Family Movies   \n",
       "410                  Children & Family Movies   \n",
       "411                  Children & Family Movies   \n",
       "412                  Children & Family Movies   \n",
       "413                  Children & Family Movies   \n",
       "414                  Children & Family Movies   \n",
       "415                  Children & Family Movies   \n",
       "416                  Children & Family Movies   \n",
       "419   Children & Family Movies, Sports Movies   \n",
       "420                  Children & Family Movies   \n",
       "422                  Children & Family Movies   \n",
       "423                  Children & Family Movies   \n",
       "424                  Children & Family Movies   \n",
       "2717                 Children & Family Movies   \n",
       "6297                 Children & Family Movies   \n",
       "6645                 Children & Family Movies   \n",
       "\n",
       "                                            description  \n",
       "406   Things get spooky when Bheem and his buddies t...  \n",
       "407   Bheem and Lord Ganesha join forces to save Dho...  \n",
       "408   Young lord Krishna has fallen for demoness Maa...  \n",
       "409   Krishna needs Bheem’s help: The ruined city of...  \n",
       "410   When a stranger tries to steal an amulet from ...  \n",
       "411   To save the kingdom of Valhalla from invasion ...  \n",
       "412   When Dholakpur’s princess is kidnapped, Bheem ...  \n",
       "413   After learning of a samurai village under thre...  \n",
       "414   When two evil entities kidnap a princess in a ...  \n",
       "415   Centuries after the end of a conqueror's rule,...  \n",
       "416   A demon of darkness is plotting world dominati...  \n",
       "419   Space invaders have kidnapped Dholakpur’s king...  \n",
       "420   Bheem’s holiday in Nepal takes an unexpected t...  \n",
       "422   The king has been away to meet an old friend, ...  \n",
       "423   Summoned by a monk to help reclaim a temple fr...  \n",
       "424   Bheem and young lord Krishna team up to protec...  \n",
       "2717  An evil demon who traded his freedom for immor...  \n",
       "6297  It's Diwali! To celebrate, Chhota Bheem and hi...  \n",
       "6645  Bheem helps to reopen Dragonpur's abandoned ma...  "
      ]
     },
     "execution_count": 13,
     "metadata": {},
     "output_type": "execute_result"
    }
   ],
   "source": [
    "df.loc[(df['director'] == 'Rajiv Chilaka')]"
   ]
  },
  {
   "cell_type": "markdown",
   "id": "noble-services",
   "metadata": {},
   "source": [
    "### 애니메이션을 시리즈로 만들었습니다.\n",
    "\n",
    "### 감독이 컨텐츠에 미치는 영향에 대해 분석 해보고 싶었는데 유의미한 데이터는 아닌것 같고 결측치도 많아 업로드 날짜로 분석해 보겠습니다."
   ]
  },
  {
   "cell_type": "markdown",
   "id": "sexual-intermediate",
   "metadata": {},
   "source": [
    "## 업로드 날짜에서 결측치 데이터를 보겠습니다."
   ]
  },
  {
   "cell_type": "code",
   "execution_count": 14,
   "id": "stainless-disease",
   "metadata": {},
   "outputs": [
    {
     "data": {
      "text/html": [
       "<div>\n",
       "<style scoped>\n",
       "    .dataframe tbody tr th:only-of-type {\n",
       "        vertical-align: middle;\n",
       "    }\n",
       "\n",
       "    .dataframe tbody tr th {\n",
       "        vertical-align: top;\n",
       "    }\n",
       "\n",
       "    .dataframe thead th {\n",
       "        text-align: right;\n",
       "    }\n",
       "</style>\n",
       "<table border=\"1\" class=\"dataframe\">\n",
       "  <thead>\n",
       "    <tr style=\"text-align: right;\">\n",
       "      <th></th>\n",
       "      <th>show_id</th>\n",
       "      <th>type</th>\n",
       "      <th>title</th>\n",
       "      <th>director</th>\n",
       "      <th>cast</th>\n",
       "      <th>country</th>\n",
       "      <th>date_added</th>\n",
       "      <th>release_year</th>\n",
       "      <th>rating</th>\n",
       "      <th>duration</th>\n",
       "      <th>listed_in</th>\n",
       "      <th>description</th>\n",
       "    </tr>\n",
       "  </thead>\n",
       "  <tbody>\n",
       "    <tr>\n",
       "      <th>6066</th>\n",
       "      <td>s6067</td>\n",
       "      <td>TV Show</td>\n",
       "      <td>A Young Doctor's Notebook and Other Stories</td>\n",
       "      <td>0</td>\n",
       "      <td>Daniel Radcliffe, Jon Hamm, Adam Godley, Chris...</td>\n",
       "      <td>United Kingdom</td>\n",
       "      <td>0</td>\n",
       "      <td>2013</td>\n",
       "      <td>TV-MA</td>\n",
       "      <td>2 Seasons</td>\n",
       "      <td>British TV Shows, TV Comedies, TV Dramas</td>\n",
       "      <td>Set during the Russian Revolution, this comic ...</td>\n",
       "    </tr>\n",
       "    <tr>\n",
       "      <th>6174</th>\n",
       "      <td>s6175</td>\n",
       "      <td>TV Show</td>\n",
       "      <td>Anthony Bourdain: Parts Unknown</td>\n",
       "      <td>0</td>\n",
       "      <td>Anthony Bourdain</td>\n",
       "      <td>United States</td>\n",
       "      <td>0</td>\n",
       "      <td>2018</td>\n",
       "      <td>TV-PG</td>\n",
       "      <td>5 Seasons</td>\n",
       "      <td>Docuseries</td>\n",
       "      <td>This CNN original series has chef Anthony Bour...</td>\n",
       "    </tr>\n",
       "    <tr>\n",
       "      <th>6795</th>\n",
       "      <td>s6796</td>\n",
       "      <td>TV Show</td>\n",
       "      <td>Frasier</td>\n",
       "      <td>0</td>\n",
       "      <td>Kelsey Grammer, Jane Leeves, David Hyde Pierce...</td>\n",
       "      <td>United States</td>\n",
       "      <td>0</td>\n",
       "      <td>2003</td>\n",
       "      <td>TV-PG</td>\n",
       "      <td>11 Seasons</td>\n",
       "      <td>Classic &amp; Cult TV, TV Comedies</td>\n",
       "      <td>Frasier Crane is a snooty but lovable Seattle ...</td>\n",
       "    </tr>\n",
       "    <tr>\n",
       "      <th>6806</th>\n",
       "      <td>s6807</td>\n",
       "      <td>TV Show</td>\n",
       "      <td>Friends</td>\n",
       "      <td>0</td>\n",
       "      <td>Jennifer Aniston, Courteney Cox, Lisa Kudrow, ...</td>\n",
       "      <td>United States</td>\n",
       "      <td>0</td>\n",
       "      <td>2003</td>\n",
       "      <td>TV-14</td>\n",
       "      <td>10 Seasons</td>\n",
       "      <td>Classic &amp; Cult TV, TV Comedies</td>\n",
       "      <td>This hit sitcom follows the merry misadventure...</td>\n",
       "    </tr>\n",
       "    <tr>\n",
       "      <th>6901</th>\n",
       "      <td>s6902</td>\n",
       "      <td>TV Show</td>\n",
       "      <td>Gunslinger Girl</td>\n",
       "      <td>0</td>\n",
       "      <td>Yuuka Nanri, Kanako Mitsuhashi, Eri Sendai, Am...</td>\n",
       "      <td>Japan</td>\n",
       "      <td>0</td>\n",
       "      <td>2008</td>\n",
       "      <td>TV-14</td>\n",
       "      <td>2 Seasons</td>\n",
       "      <td>Anime Series, Crime TV Shows</td>\n",
       "      <td>On the surface, the Social Welfare Agency appe...</td>\n",
       "    </tr>\n",
       "    <tr>\n",
       "      <th>7196</th>\n",
       "      <td>s7197</td>\n",
       "      <td>TV Show</td>\n",
       "      <td>Kikoriki</td>\n",
       "      <td>0</td>\n",
       "      <td>Igor Dmitriev</td>\n",
       "      <td>0</td>\n",
       "      <td>0</td>\n",
       "      <td>2010</td>\n",
       "      <td>TV-Y</td>\n",
       "      <td>2 Seasons</td>\n",
       "      <td>Kids' TV</td>\n",
       "      <td>A wacky rabbit and his gang of animal pals hav...</td>\n",
       "    </tr>\n",
       "    <tr>\n",
       "      <th>7254</th>\n",
       "      <td>s7255</td>\n",
       "      <td>TV Show</td>\n",
       "      <td>La Familia P. Luche</td>\n",
       "      <td>0</td>\n",
       "      <td>Eugenio Derbez, Consuelo Duval, Luis Manuel Áv...</td>\n",
       "      <td>United States</td>\n",
       "      <td>0</td>\n",
       "      <td>2012</td>\n",
       "      <td>TV-14</td>\n",
       "      <td>3 Seasons</td>\n",
       "      <td>International TV Shows, Spanish-Language TV Sh...</td>\n",
       "      <td>This irreverent sitcom featues Ludovico, Feder...</td>\n",
       "    </tr>\n",
       "    <tr>\n",
       "      <th>7406</th>\n",
       "      <td>s7407</td>\n",
       "      <td>TV Show</td>\n",
       "      <td>Maron</td>\n",
       "      <td>0</td>\n",
       "      <td>Marc Maron, Judd Hirsch, Josh Brener, Nora Zeh...</td>\n",
       "      <td>United States</td>\n",
       "      <td>0</td>\n",
       "      <td>2016</td>\n",
       "      <td>TV-MA</td>\n",
       "      <td>4 Seasons</td>\n",
       "      <td>TV Comedies</td>\n",
       "      <td>Marc Maron stars as Marc Maron, who interviews...</td>\n",
       "    </tr>\n",
       "    <tr>\n",
       "      <th>7847</th>\n",
       "      <td>s7848</td>\n",
       "      <td>TV Show</td>\n",
       "      <td>Red vs. Blue</td>\n",
       "      <td>0</td>\n",
       "      <td>Burnie Burns, Jason Saldaña, Gustavo Sorola, G...</td>\n",
       "      <td>United States</td>\n",
       "      <td>0</td>\n",
       "      <td>2015</td>\n",
       "      <td>NR</td>\n",
       "      <td>13 Seasons</td>\n",
       "      <td>TV Action &amp; Adventure, TV Comedies, TV Sci-Fi ...</td>\n",
       "      <td>This parody of first-person shooter games, mil...</td>\n",
       "    </tr>\n",
       "    <tr>\n",
       "      <th>8182</th>\n",
       "      <td>s8183</td>\n",
       "      <td>TV Show</td>\n",
       "      <td>The Adventures of Figaro Pho</td>\n",
       "      <td>0</td>\n",
       "      <td>Luke Jurevicius, Craig Behenna, Charlotte Haml...</td>\n",
       "      <td>Australia</td>\n",
       "      <td>0</td>\n",
       "      <td>2015</td>\n",
       "      <td>TV-Y7</td>\n",
       "      <td>2 Seasons</td>\n",
       "      <td>Kids' TV, TV Comedies</td>\n",
       "      <td>Imagine your worst fears, then multiply them: ...</td>\n",
       "    </tr>\n",
       "  </tbody>\n",
       "</table>\n",
       "</div>"
      ],
      "text/plain": [
       "     show_id     type                                        title director  \\\n",
       "6066   s6067  TV Show  A Young Doctor's Notebook and Other Stories        0   \n",
       "6174   s6175  TV Show              Anthony Bourdain: Parts Unknown        0   \n",
       "6795   s6796  TV Show                                      Frasier        0   \n",
       "6806   s6807  TV Show                                      Friends        0   \n",
       "6901   s6902  TV Show                              Gunslinger Girl        0   \n",
       "7196   s7197  TV Show                                     Kikoriki        0   \n",
       "7254   s7255  TV Show                          La Familia P. Luche        0   \n",
       "7406   s7407  TV Show                                        Maron        0   \n",
       "7847   s7848  TV Show                                 Red vs. Blue        0   \n",
       "8182   s8183  TV Show                 The Adventures of Figaro Pho        0   \n",
       "\n",
       "                                                   cast         country  \\\n",
       "6066  Daniel Radcliffe, Jon Hamm, Adam Godley, Chris...  United Kingdom   \n",
       "6174                                   Anthony Bourdain   United States   \n",
       "6795  Kelsey Grammer, Jane Leeves, David Hyde Pierce...   United States   \n",
       "6806  Jennifer Aniston, Courteney Cox, Lisa Kudrow, ...   United States   \n",
       "6901  Yuuka Nanri, Kanako Mitsuhashi, Eri Sendai, Am...           Japan   \n",
       "7196                                      Igor Dmitriev               0   \n",
       "7254  Eugenio Derbez, Consuelo Duval, Luis Manuel Áv...   United States   \n",
       "7406  Marc Maron, Judd Hirsch, Josh Brener, Nora Zeh...   United States   \n",
       "7847  Burnie Burns, Jason Saldaña, Gustavo Sorola, G...   United States   \n",
       "8182  Luke Jurevicius, Craig Behenna, Charlotte Haml...       Australia   \n",
       "\n",
       "     date_added  release_year rating    duration  \\\n",
       "6066          0          2013  TV-MA   2 Seasons   \n",
       "6174          0          2018  TV-PG   5 Seasons   \n",
       "6795          0          2003  TV-PG  11 Seasons   \n",
       "6806          0          2003  TV-14  10 Seasons   \n",
       "6901          0          2008  TV-14   2 Seasons   \n",
       "7196          0          2010   TV-Y   2 Seasons   \n",
       "7254          0          2012  TV-14   3 Seasons   \n",
       "7406          0          2016  TV-MA   4 Seasons   \n",
       "7847          0          2015     NR  13 Seasons   \n",
       "8182          0          2015  TV-Y7   2 Seasons   \n",
       "\n",
       "                                              listed_in  \\\n",
       "6066           British TV Shows, TV Comedies, TV Dramas   \n",
       "6174                                         Docuseries   \n",
       "6795                     Classic & Cult TV, TV Comedies   \n",
       "6806                     Classic & Cult TV, TV Comedies   \n",
       "6901                       Anime Series, Crime TV Shows   \n",
       "7196                                           Kids' TV   \n",
       "7254  International TV Shows, Spanish-Language TV Sh...   \n",
       "7406                                        TV Comedies   \n",
       "7847  TV Action & Adventure, TV Comedies, TV Sci-Fi ...   \n",
       "8182                              Kids' TV, TV Comedies   \n",
       "\n",
       "                                            description  \n",
       "6066  Set during the Russian Revolution, this comic ...  \n",
       "6174  This CNN original series has chef Anthony Bour...  \n",
       "6795  Frasier Crane is a snooty but lovable Seattle ...  \n",
       "6806  This hit sitcom follows the merry misadventure...  \n",
       "6901  On the surface, the Social Welfare Agency appe...  \n",
       "7196  A wacky rabbit and his gang of animal pals hav...  \n",
       "7254  This irreverent sitcom featues Ludovico, Feder...  \n",
       "7406  Marc Maron stars as Marc Maron, who interviews...  \n",
       "7847  This parody of first-person shooter games, mil...  \n",
       "8182  Imagine your worst fears, then multiply them: ...  "
      ]
     },
     "execution_count": 14,
     "metadata": {},
     "output_type": "execute_result"
    }
   ],
   "source": [
    "df.loc[df['date_added'] == 0]"
   ]
  },
  {
   "cell_type": "markdown",
   "id": "dressed-hobby",
   "metadata": {},
   "source": [
    "## 10개뿐이라 삭제하고 시작하겠습니다."
   ]
  },
  {
   "cell_type": "code",
   "execution_count": 15,
   "id": "sexual-agency",
   "metadata": {},
   "outputs": [],
   "source": [
    "df = df.loc[df['date_added'] != 0]"
   ]
  },
  {
   "cell_type": "markdown",
   "id": "chronic-brother",
   "metadata": {},
   "source": [
    "### 연도, 월, 일로 나눠서 분석해보겠습니다."
   ]
  },
  {
   "cell_type": "code",
   "execution_count": 16,
   "id": "square-continuity",
   "metadata": {},
   "outputs": [],
   "source": [
    "df[\"date_added\"] = df[\"date_added\"].str.strip()"
   ]
  },
  {
   "cell_type": "code",
   "execution_count": 17,
   "id": "incorporate-writer",
   "metadata": {},
   "outputs": [],
   "source": [
    "df['month'] = df.date_added.str.split(' ').str[0]"
   ]
  },
  {
   "cell_type": "markdown",
   "id": "empty-metadata",
   "metadata": {},
   "source": [
    "### 잘 나눠졌나 확인해보겠습니다."
   ]
  },
  {
   "cell_type": "code",
   "execution_count": 18,
   "id": "african-count",
   "metadata": {},
   "outputs": [
    {
     "data": {
      "text/plain": [
       "July         827\n",
       "December     813\n",
       "September    770\n",
       "April        764\n",
       "October      760\n",
       "August       755\n",
       "March        742\n",
       "January      738\n",
       "June         728\n",
       "November     705\n",
       "May          632\n",
       "February     563\n",
       "Name: month, dtype: int64"
      ]
     },
     "execution_count": 18,
     "metadata": {},
     "output_type": "execute_result"
    }
   ],
   "source": [
    "df['month'].value_counts()"
   ]
  },
  {
   "cell_type": "markdown",
   "id": "complete-energy",
   "metadata": {},
   "source": [
    "### 영어보다 숫자가 직관적이라 생각해 숫자로 바꾸겠습니다."
   ]
  },
  {
   "cell_type": "code",
   "execution_count": 19,
   "id": "genuine-malaysia",
   "metadata": {},
   "outputs": [],
   "source": [
    "df = df.replace({'month': {'January': 1, 'February': 2, 'March': 3, 'April': 4, 'May': 5, 'June': 6, 'July': 7, 'August': 8, 'September': 9, 'October': 10, 'November': 11, 'December': 12}})"
   ]
  },
  {
   "cell_type": "code",
   "execution_count": 20,
   "id": "banner-radiation",
   "metadata": {},
   "outputs": [
    {
     "data": {
      "text/plain": [
       "7     827\n",
       "12    813\n",
       "9     770\n",
       "4     764\n",
       "10    760\n",
       "8     755\n",
       "3     742\n",
       "1     738\n",
       "6     728\n",
       "11    705\n",
       "5     632\n",
       "2     563\n",
       "Name: month, dtype: int64"
      ]
     },
     "execution_count": 20,
     "metadata": {},
     "output_type": "execute_result"
    }
   ],
   "source": [
    "df['month'].value_counts()"
   ]
  },
  {
   "cell_type": "code",
   "execution_count": 22,
   "id": "hungarian-senior",
   "metadata": {},
   "outputs": [],
   "source": [
    "df['day'] = df.date_added.str.split(' ').str[1]"
   ]
  },
  {
   "cell_type": "code",
   "execution_count": 23,
   "id": "stock-moore",
   "metadata": {},
   "outputs": [
    {
     "data": {
      "text/plain": [
       "1     2212\n",
       "15     687\n",
       "2      325\n",
       "16     289\n",
       "31     274\n",
       "20     249\n",
       "19     243\n",
       "5      231\n",
       "22     230\n",
       "10     214\n",
       "6      210\n",
       "30     210\n",
       "18     207\n",
       "26     206\n",
       "8      201\n",
       "14     198\n",
       "25     197\n",
       "27     195\n",
       "7      194\n",
       "21     193\n",
       "28     190\n",
       "23     184\n",
       "12     181\n",
       "17     180\n",
       "4      175\n",
       "13     175\n",
       "24     159\n",
       "3      151\n",
       "11     149\n",
       "9      147\n",
       "29     141\n",
       "Name: day, dtype: int64"
      ]
     },
     "execution_count": 23,
     "metadata": {},
     "output_type": "execute_result"
    }
   ],
   "source": [
    "df[\"day\"] = df[\"day\"].str.replace(pat=r'[^\\w]', repl=r'', regex=True)\n",
    "df['day'].value_counts()"
   ]
  },
  {
   "cell_type": "code",
   "execution_count": 24,
   "id": "orange-samba",
   "metadata": {},
   "outputs": [],
   "source": [
    "df['year'] = df.date_added.str.split(',').str[1]"
   ]
  },
  {
   "cell_type": "code",
   "execution_count": 25,
   "id": "political-clause",
   "metadata": {},
   "outputs": [
    {
     "data": {
      "text/plain": [
       " 2019    2016\n",
       " 2020    1879\n",
       " 2018    1649\n",
       " 2021    1498\n",
       " 2017    1188\n",
       " 2016     429\n",
       " 2015      82\n",
       " 2014      24\n",
       " 2011      13\n",
       " 2013      11\n",
       " 2012       3\n",
       " 2008       2\n",
       " 2009       2\n",
       " 2010       1\n",
       "Name: year, dtype: int64"
      ]
     },
     "execution_count": 25,
     "metadata": {},
     "output_type": "execute_result"
    }
   ],
   "source": [
    "df['year'].value_counts()"
   ]
  },
  {
   "cell_type": "code",
   "execution_count": 26,
   "id": "exceptional-candy",
   "metadata": {},
   "outputs": [],
   "source": [
    "df = df.astype({'month': int, 'day': int, 'year': int})"
   ]
  },
  {
   "cell_type": "markdown",
   "id": "accurate-supervisor",
   "metadata": {},
   "source": [
    "## 모두 잘 나뉘었고 업로드 날짜를 지우겠습니다."
   ]
  },
  {
   "cell_type": "code",
   "execution_count": 27,
   "id": "played-thousand",
   "metadata": {},
   "outputs": [],
   "source": [
    "del df['date_added']"
   ]
  },
  {
   "cell_type": "markdown",
   "id": "opposite-france",
   "metadata": {},
   "source": [
    "### 2021년은 끝나지 않아 데이터 분석에 방해가 된다고 생각해 제외 하겠습니다."
   ]
  },
  {
   "cell_type": "code",
   "execution_count": 76,
   "id": "danish-check",
   "metadata": {},
   "outputs": [],
   "source": [
    "df = df.loc[df['year'] != 2021]"
   ]
  },
  {
   "cell_type": "code",
   "execution_count": 77,
   "id": "opposite-feeling",
   "metadata": {},
   "outputs": [
    {
     "data": {
      "text/html": [
       "<div>\n",
       "<style scoped>\n",
       "    .dataframe tbody tr th:only-of-type {\n",
       "        vertical-align: middle;\n",
       "    }\n",
       "\n",
       "    .dataframe tbody tr th {\n",
       "        vertical-align: top;\n",
       "    }\n",
       "\n",
       "    .dataframe thead th {\n",
       "        text-align: right;\n",
       "    }\n",
       "</style>\n",
       "<table border=\"1\" class=\"dataframe\">\n",
       "  <thead>\n",
       "    <tr style=\"text-align: right;\">\n",
       "      <th></th>\n",
       "      <th>show_id</th>\n",
       "      <th>type</th>\n",
       "      <th>title</th>\n",
       "      <th>director</th>\n",
       "      <th>cast</th>\n",
       "      <th>country</th>\n",
       "      <th>release_year</th>\n",
       "      <th>rating</th>\n",
       "      <th>duration</th>\n",
       "      <th>listed_in</th>\n",
       "      <th>description</th>\n",
       "      <th>month</th>\n",
       "      <th>day</th>\n",
       "      <th>year</th>\n",
       "      <th>half</th>\n",
       "      <th>quarters</th>\n",
       "    </tr>\n",
       "  </thead>\n",
       "  <tbody>\n",
       "    <tr>\n",
       "      <th>1470</th>\n",
       "      <td>s1471</td>\n",
       "      <td>Movie</td>\n",
       "      <td>Alaska Is a Drag</td>\n",
       "      <td>Shaz Bennett</td>\n",
       "      <td>Martin L. Washington Jr., Maya Washington, Mat...</td>\n",
       "      <td>United States</td>\n",
       "      <td>2017</td>\n",
       "      <td>TV-MA</td>\n",
       "      <td>83 min</td>\n",
       "      <td>Dramas, LGBTQ Movies</td>\n",
       "      <td>Tormented by bullies, an aspiring drag star wo...</td>\n",
       "      <td>12</td>\n",
       "      <td>31</td>\n",
       "      <td>2020</td>\n",
       "      <td>second_half</td>\n",
       "      <td>4_quarter</td>\n",
       "    </tr>\n",
       "    <tr>\n",
       "      <th>1471</th>\n",
       "      <td>s1472</td>\n",
       "      <td>Movie</td>\n",
       "      <td>Best of Stand-Up 2020</td>\n",
       "      <td>0</td>\n",
       "      <td>Jerry Seinfeld, Leslie Jones, Taylor Tomlinson...</td>\n",
       "      <td>0</td>\n",
       "      <td>2020</td>\n",
       "      <td>TV-MA</td>\n",
       "      <td>77 min</td>\n",
       "      <td>Stand-Up Comedy</td>\n",
       "      <td>From Jerry Seinfeld to Leslie Jones, Kevin Har...</td>\n",
       "      <td>12</td>\n",
       "      <td>31</td>\n",
       "      <td>2020</td>\n",
       "      <td>second_half</td>\n",
       "      <td>4_quarter</td>\n",
       "    </tr>\n",
       "    <tr>\n",
       "      <th>1472</th>\n",
       "      <td>s1473</td>\n",
       "      <td>Movie</td>\n",
       "      <td>Bobby Jasoos</td>\n",
       "      <td>Samar Shaikh</td>\n",
       "      <td>Vidya Balan, Ali Fazal, Supriya Pathak, Tanvi ...</td>\n",
       "      <td>India</td>\n",
       "      <td>2014</td>\n",
       "      <td>TV-14</td>\n",
       "      <td>116 min</td>\n",
       "      <td>Comedies, Dramas, International Movies</td>\n",
       "      <td>With unlimited determination and zero field ex...</td>\n",
       "      <td>12</td>\n",
       "      <td>31</td>\n",
       "      <td>2020</td>\n",
       "      <td>second_half</td>\n",
       "      <td>4_quarter</td>\n",
       "    </tr>\n",
       "    <tr>\n",
       "      <th>1473</th>\n",
       "      <td>s1474</td>\n",
       "      <td>TV Show</td>\n",
       "      <td>Chilling Adventures of Sabrina</td>\n",
       "      <td>0</td>\n",
       "      <td>Kiernan Shipka, Ross Lynch, Miranda Otto, Lucy...</td>\n",
       "      <td>United States</td>\n",
       "      <td>2020</td>\n",
       "      <td>TV-14</td>\n",
       "      <td>4 Seasons</td>\n",
       "      <td>TV Horror, TV Mysteries, TV Sci-Fi &amp; Fantasy</td>\n",
       "      <td>Magic and mischief collide as half-human, half...</td>\n",
       "      <td>12</td>\n",
       "      <td>31</td>\n",
       "      <td>2020</td>\n",
       "      <td>second_half</td>\n",
       "      <td>4_quarter</td>\n",
       "    </tr>\n",
       "    <tr>\n",
       "      <th>1474</th>\n",
       "      <td>s1475</td>\n",
       "      <td>Movie</td>\n",
       "      <td>Tarung Sarung</td>\n",
       "      <td>Archie Hekagery</td>\n",
       "      <td>Panji Zoni, Yayan Ruhian, Maizura, Cemal Faruk...</td>\n",
       "      <td>Indonesia</td>\n",
       "      <td>2020</td>\n",
       "      <td>TV-PG</td>\n",
       "      <td>116 min</td>\n",
       "      <td>Action &amp; Adventure, Dramas, Faith &amp; Spirituality</td>\n",
       "      <td>Wealthy and spoiled, a young man finds somethi...</td>\n",
       "      <td>12</td>\n",
       "      <td>31</td>\n",
       "      <td>2020</td>\n",
       "      <td>second_half</td>\n",
       "      <td>4_quarter</td>\n",
       "    </tr>\n",
       "  </tbody>\n",
       "</table>\n",
       "</div>"
      ],
      "text/plain": [
       "     show_id     type                           title         director  \\\n",
       "1470   s1471    Movie                Alaska Is a Drag     Shaz Bennett   \n",
       "1471   s1472    Movie           Best of Stand-Up 2020                0   \n",
       "1472   s1473    Movie                    Bobby Jasoos     Samar Shaikh   \n",
       "1473   s1474  TV Show  Chilling Adventures of Sabrina                0   \n",
       "1474   s1475    Movie                   Tarung Sarung  Archie Hekagery   \n",
       "\n",
       "                                                   cast        country  \\\n",
       "1470  Martin L. Washington Jr., Maya Washington, Mat...  United States   \n",
       "1471  Jerry Seinfeld, Leslie Jones, Taylor Tomlinson...              0   \n",
       "1472  Vidya Balan, Ali Fazal, Supriya Pathak, Tanvi ...          India   \n",
       "1473  Kiernan Shipka, Ross Lynch, Miranda Otto, Lucy...  United States   \n",
       "1474  Panji Zoni, Yayan Ruhian, Maizura, Cemal Faruk...      Indonesia   \n",
       "\n",
       "      release_year rating   duration  \\\n",
       "1470          2017  TV-MA     83 min   \n",
       "1471          2020  TV-MA     77 min   \n",
       "1472          2014  TV-14    116 min   \n",
       "1473          2020  TV-14  4 Seasons   \n",
       "1474          2020  TV-PG    116 min   \n",
       "\n",
       "                                             listed_in  \\\n",
       "1470                              Dramas, LGBTQ Movies   \n",
       "1471                                   Stand-Up Comedy   \n",
       "1472            Comedies, Dramas, International Movies   \n",
       "1473      TV Horror, TV Mysteries, TV Sci-Fi & Fantasy   \n",
       "1474  Action & Adventure, Dramas, Faith & Spirituality   \n",
       "\n",
       "                                            description  month  day  year  \\\n",
       "1470  Tormented by bullies, an aspiring drag star wo...     12   31  2020   \n",
       "1471  From Jerry Seinfeld to Leslie Jones, Kevin Har...     12   31  2020   \n",
       "1472  With unlimited determination and zero field ex...     12   31  2020   \n",
       "1473  Magic and mischief collide as half-human, half...     12   31  2020   \n",
       "1474  Wealthy and spoiled, a young man finds somethi...     12   31  2020   \n",
       "\n",
       "             half   quarters  \n",
       "1470  second_half  4_quarter  \n",
       "1471  second_half  4_quarter  \n",
       "1472  second_half  4_quarter  \n",
       "1473  second_half  4_quarter  \n",
       "1474  second_half  4_quarter  "
      ]
     },
     "execution_count": 77,
     "metadata": {},
     "output_type": "execute_result"
    }
   ],
   "source": [
    "df.head()"
   ]
  },
  {
   "cell_type": "markdown",
   "id": "agreed-aquarium",
   "metadata": {},
   "source": [
    "## 월별로 업로드된 동영상 수를 확인해 보겠습니다."
   ]
  },
  {
   "cell_type": "markdown",
   "id": "oriental-interaction",
   "metadata": {},
   "source": [
    "### movie와 TV show를 나눠서 확인해보겠습니다."
   ]
  },
  {
   "cell_type": "code",
   "execution_count": 78,
   "id": "unlikely-quantity",
   "metadata": {},
   "outputs": [],
   "source": [
    "movie = df[df['type'] == 'Movie']\n",
    "tv_show = df[df['type'] == 'TV Show']"
   ]
  },
  {
   "cell_type": "code",
   "execution_count": 79,
   "id": "annoying-somewhere",
   "metadata": {},
   "outputs": [
    {
     "data": {
      "image/png": "[encoded data removed]",
      "text/plain": [
       "<Figure size 1440x720 with 1 Axes>"
      ]
     },
     "metadata": {
      "needs_background": "light"
     },
     "output_type": "display_data"
    }
   ],
   "source": [
    "plt.figure(figsize=(20,10))\n",
    "bar_df_movie = movie[\"month\"].value_counts().reset_index()\n",
    "bar_df_tv_show = tv_show[\"month\"].value_counts().reset_index()\n",
    "#plt.title(\"월별 업로드 동영상\", fontsize=20)\n",
    "p1 = plt.bar(bar_df_movie[\"index\"], bar_df_movie[\"month\"],color='b', alpha=.3)\n",
    "p2 = plt.bar(bar_df_movie[\"index\"], bar_df_tv_show[\"month\"],color='r', alpha=.3, bottom = bar_df_movie[\"month\"])\n",
    "plt.ylabel(\"counts\", fontsize=12)\n",
    "plt.xlabel(\"month\", fontsize=12)\n",
    "plt.legend((p1[0], p2[0]), ('movie', 'TV show'), fontsize=15)\n",
    "plt.xticks(list(i for i in range(1,13)))\n",
    "plt.show()"
   ]
  },
  {
   "cell_type": "markdown",
   "id": "treated-engine",
   "metadata": {},
   "source": [
    "### 월말로 갈수록 업데이트 된 컨텐츠가 많습니다."
   ]
  },
  {
   "cell_type": "code",
   "execution_count": 80,
   "id": "quality-agent",
   "metadata": {},
   "outputs": [
    {
     "data": {
      "image/png": "[encoded data removed]",
      "text/plain": [
       "<Figure size 1440x720 with 1 Axes>"
      ]
     },
     "metadata": {
      "needs_background": "light"
     },
     "output_type": "display_data"
    }
   ],
   "source": [
    "plt.figure(figsize=(20,10))\n",
    "bar_df_movie = movie[\"day\"].value_counts().reset_index()\n",
    "bar_df_tv_show = tv_show[\"day\"].value_counts().reset_index()\n",
    "#plt.title(\"월별 업로드 동영상\", fontsize=20)\n",
    "p1 = plt.bar(bar_df_movie[\"index\"], bar_df_movie[\"day\"],color='b', alpha=.3)\n",
    "p2 = plt.bar(bar_df_movie[\"index\"], bar_df_tv_show[\"day\"],color='r', alpha=.3, bottom = bar_df_movie[\"day\"])\n",
    "plt.ylabel(\"counts\", fontsize=12)\n",
    "plt.xlabel(\"month\", fontsize=12)\n",
    "plt.legend((p1[0], p2[0]), ('movie', 'TV show'), fontsize=15)\n",
    "plt.xticks(list(i for i in range(1,13)))\n",
    "plt.show()"
   ]
  },
  {
   "cell_type": "markdown",
   "id": "awful-surgery",
   "metadata": {},
   "source": [
    "### day는 1일이 가장 많았고 이것은 넷플릭스의 내부사정인것 같습니다."
   ]
  },
  {
   "cell_type": "markdown",
   "id": "consistent-pattern",
   "metadata": {},
   "source": [
    "## 이제 상반기, 하반기로 나눠서 확인해 보겠습니다."
   ]
  },
  {
   "cell_type": "code",
   "execution_count": 45,
   "id": "designing-membrane",
   "metadata": {},
   "outputs": [],
   "source": [
    "df['half'] = ['first_half' if t else 'second_half' for t in list(df['month'] <= 6)]"
   ]
  },
  {
   "cell_type": "code",
   "execution_count": 46,
   "id": "artificial-heath",
   "metadata": {},
   "outputs": [
    {
     "data": {
      "text/html": [
       "<div>\n",
       "<style scoped>\n",
       "    .dataframe tbody tr th:only-of-type {\n",
       "        vertical-align: middle;\n",
       "    }\n",
       "\n",
       "    .dataframe tbody tr th {\n",
       "        vertical-align: top;\n",
       "    }\n",
       "\n",
       "    .dataframe thead th {\n",
       "        text-align: right;\n",
       "    }\n",
       "</style>\n",
       "<table border=\"1\" class=\"dataframe\">\n",
       "  <thead>\n",
       "    <tr style=\"text-align: right;\">\n",
       "      <th></th>\n",
       "      <th>show_id</th>\n",
       "      <th>type</th>\n",
       "      <th>title</th>\n",
       "      <th>director</th>\n",
       "      <th>cast</th>\n",
       "      <th>country</th>\n",
       "      <th>release_year</th>\n",
       "      <th>rating</th>\n",
       "      <th>duration</th>\n",
       "      <th>listed_in</th>\n",
       "      <th>description</th>\n",
       "      <th>month</th>\n",
       "      <th>day</th>\n",
       "      <th>year</th>\n",
       "      <th>half</th>\n",
       "    </tr>\n",
       "  </thead>\n",
       "  <tbody>\n",
       "    <tr>\n",
       "      <th>0</th>\n",
       "      <td>s1</td>\n",
       "      <td>Movie</td>\n",
       "      <td>Dick Johnson Is Dead</td>\n",
       "      <td>Kirsten Johnson</td>\n",
       "      <td>0</td>\n",
       "      <td>United States</td>\n",
       "      <td>2020</td>\n",
       "      <td>PG-13</td>\n",
       "      <td>90 min</td>\n",
       "      <td>Documentaries</td>\n",
       "      <td>As her father nears the end of his life, filmm...</td>\n",
       "      <td>9</td>\n",
       "      <td>25</td>\n",
       "      <td>2021</td>\n",
       "      <td>second_half</td>\n",
       "    </tr>\n",
       "    <tr>\n",
       "      <th>1</th>\n",
       "      <td>s2</td>\n",
       "      <td>TV Show</td>\n",
       "      <td>Blood &amp; Water</td>\n",
       "      <td>0</td>\n",
       "      <td>Ama Qamata, Khosi Ngema, Gail Mabalane, Thaban...</td>\n",
       "      <td>South Africa</td>\n",
       "      <td>2021</td>\n",
       "      <td>TV-MA</td>\n",
       "      <td>2 Seasons</td>\n",
       "      <td>International TV Shows, TV Dramas, TV Mysteries</td>\n",
       "      <td>After crossing paths at a party, a Cape Town t...</td>\n",
       "      <td>9</td>\n",
       "      <td>24</td>\n",
       "      <td>2021</td>\n",
       "      <td>second_half</td>\n",
       "    </tr>\n",
       "    <tr>\n",
       "      <th>2</th>\n",
       "      <td>s3</td>\n",
       "      <td>TV Show</td>\n",
       "      <td>Ganglands</td>\n",
       "      <td>Julien Leclercq</td>\n",
       "      <td>Sami Bouajila, Tracy Gotoas, Samuel Jouy, Nabi...</td>\n",
       "      <td>0</td>\n",
       "      <td>2021</td>\n",
       "      <td>TV-MA</td>\n",
       "      <td>1 Season</td>\n",
       "      <td>Crime TV Shows, International TV Shows, TV Act...</td>\n",
       "      <td>To protect his family from a powerful drug lor...</td>\n",
       "      <td>9</td>\n",
       "      <td>24</td>\n",
       "      <td>2021</td>\n",
       "      <td>second_half</td>\n",
       "    </tr>\n",
       "    <tr>\n",
       "      <th>3</th>\n",
       "      <td>s4</td>\n",
       "      <td>TV Show</td>\n",
       "      <td>Jailbirds New Orleans</td>\n",
       "      <td>0</td>\n",
       "      <td>0</td>\n",
       "      <td>0</td>\n",
       "      <td>2021</td>\n",
       "      <td>TV-MA</td>\n",
       "      <td>1 Season</td>\n",
       "      <td>Docuseries, Reality TV</td>\n",
       "      <td>Feuds, flirtations and toilet talk go down amo...</td>\n",
       "      <td>9</td>\n",
       "      <td>24</td>\n",
       "      <td>2021</td>\n",
       "      <td>second_half</td>\n",
       "    </tr>\n",
       "    <tr>\n",
       "      <th>4</th>\n",
       "      <td>s5</td>\n",
       "      <td>TV Show</td>\n",
       "      <td>Kota Factory</td>\n",
       "      <td>0</td>\n",
       "      <td>Mayur More, Jitendra Kumar, Ranjan Raj, Alam K...</td>\n",
       "      <td>India</td>\n",
       "      <td>2021</td>\n",
       "      <td>TV-MA</td>\n",
       "      <td>2 Seasons</td>\n",
       "      <td>International TV Shows, Romantic TV Shows, TV ...</td>\n",
       "      <td>In a city of coaching centers known to train I...</td>\n",
       "      <td>9</td>\n",
       "      <td>24</td>\n",
       "      <td>2021</td>\n",
       "      <td>second_half</td>\n",
       "    </tr>\n",
       "  </tbody>\n",
       "</table>\n",
       "</div>"
      ],
      "text/plain": [
       "  show_id     type                  title         director  \\\n",
       "0      s1    Movie   Dick Johnson Is Dead  Kirsten Johnson   \n",
       "1      s2  TV Show          Blood & Water                0   \n",
       "2      s3  TV Show              Ganglands  Julien Leclercq   \n",
       "3      s4  TV Show  Jailbirds New Orleans                0   \n",
       "4      s5  TV Show           Kota Factory                0   \n",
       "\n",
       "                                                cast        country  \\\n",
       "0                                                  0  United States   \n",
       "1  Ama Qamata, Khosi Ngema, Gail Mabalane, Thaban...   South Africa   \n",
       "2  Sami Bouajila, Tracy Gotoas, Samuel Jouy, Nabi...              0   \n",
       "3                                                  0              0   \n",
       "4  Mayur More, Jitendra Kumar, Ranjan Raj, Alam K...          India   \n",
       "\n",
       "   release_year rating   duration  \\\n",
       "0          2020  PG-13     90 min   \n",
       "1          2021  TV-MA  2 Seasons   \n",
       "2          2021  TV-MA   1 Season   \n",
       "3          2021  TV-MA   1 Season   \n",
       "4          2021  TV-MA  2 Seasons   \n",
       "\n",
       "                                           listed_in  \\\n",
       "0                                      Documentaries   \n",
       "1    International TV Shows, TV Dramas, TV Mysteries   \n",
       "2  Crime TV Shows, International TV Shows, TV Act...   \n",
       "3                             Docuseries, Reality TV   \n",
       "4  International TV Shows, Romantic TV Shows, TV ...   \n",
       "\n",
       "                                         description  month  day  year  \\\n",
       "0  As her father nears the end of his life, filmm...      9   25  2021   \n",
       "1  After crossing paths at a party, a Cape Town t...      9   24  2021   \n",
       "2  To protect his family from a powerful drug lor...      9   24  2021   \n",
       "3  Feuds, flirtations and toilet talk go down amo...      9   24  2021   \n",
       "4  In a city of coaching centers known to train I...      9   24  2021   \n",
       "\n",
       "          half  \n",
       "0  second_half  \n",
       "1  second_half  \n",
       "2  second_half  \n",
       "3  second_half  \n",
       "4  second_half  "
      ]
     },
     "execution_count": 46,
     "metadata": {},
     "output_type": "execute_result"
    }
   ],
   "source": [
    "df.head()"
   ]
  },
  {
   "cell_type": "code",
   "execution_count": 81,
   "id": "suffering-awareness",
   "metadata": {},
   "outputs": [
    {
     "data": {
      "image/png": "[encoded data removed]",
      "text/plain": [
       "<Figure size 576x576 with 1 Axes>"
      ]
     },
     "metadata": {
      "needs_background": "light"
     },
     "output_type": "display_data"
    }
   ],
   "source": [
    "plt.figure(figsize=(8,8))\n",
    "bar_df_movie = movie[\"half\"].value_counts().reset_index()\n",
    "bar_df_tv_show = tv_show[\"half\"].value_counts().reset_index()\n",
    "#plt.title(\"월별 업로드 동영상\", fontsize=20)\n",
    "p1 = plt.bar(bar_df_movie[\"index\"], bar_df_movie[\"half\"],color='b', alpha=.3)\n",
    "p2 = plt.bar(bar_df_movie[\"index\"], bar_df_tv_show[\"half\"],color='r', alpha=.3, bottom = bar_df_movie[\"half\"])\n",
    "plt.ylabel(\"counts\", fontsize=12)\n",
    "plt.xlabel(\"month\", fontsize=12)\n",
    "plt.legend((p1[0], p2[0]), ('movie', 'TV show'), fontsize=15)\n",
    "plt.show()"
   ]
  },
  {
   "cell_type": "markdown",
   "id": "reverse-bleeding",
   "metadata": {},
   "source": [
    "### 하반기에 좀더 업데이트된 컨텐츠가 많습니다."
   ]
  },
  {
   "cell_type": "markdown",
   "id": "outside-excess",
   "metadata": {},
   "source": [
    "## 분기별로 나눠보겠습니다."
   ]
  },
  {
   "cell_type": "code",
   "execution_count": 82,
   "id": "architectural-banking",
   "metadata": {},
   "outputs": [],
   "source": [
    "conditionlist = [\n",
    "    (df['month'] <= 3) ,\n",
    "    (df['month'] <= 6) & (df['month'] >3),\n",
    "    (df['month'] <= 9) & (df['month'] >6),\n",
    "    (df['month'] <= 12) & (df['month'] >9)]\n",
    "choicelist = ['1_quarter', '2_quarter', '3_quarter', '4_quarter']\n",
    "df['quarters'] = np.select(conditionlist, choicelist, default='Not Specified')"
   ]
  },
  {
   "cell_type": "code",
   "execution_count": 83,
   "id": "resistant-alias",
   "metadata": {},
   "outputs": [
    {
     "data": {
      "text/html": [
       "<div>\n",
       "<style scoped>\n",
       "    .dataframe tbody tr th:only-of-type {\n",
       "        vertical-align: middle;\n",
       "    }\n",
       "\n",
       "    .dataframe tbody tr th {\n",
       "        vertical-align: top;\n",
       "    }\n",
       "\n",
       "    .dataframe thead th {\n",
       "        text-align: right;\n",
       "    }\n",
       "</style>\n",
       "<table border=\"1\" class=\"dataframe\">\n",
       "  <thead>\n",
       "    <tr style=\"text-align: right;\">\n",
       "      <th></th>\n",
       "      <th>show_id</th>\n",
       "      <th>type</th>\n",
       "      <th>title</th>\n",
       "      <th>director</th>\n",
       "      <th>cast</th>\n",
       "      <th>country</th>\n",
       "      <th>release_year</th>\n",
       "      <th>rating</th>\n",
       "      <th>duration</th>\n",
       "      <th>listed_in</th>\n",
       "      <th>description</th>\n",
       "      <th>month</th>\n",
       "      <th>day</th>\n",
       "      <th>year</th>\n",
       "      <th>half</th>\n",
       "      <th>quarters</th>\n",
       "    </tr>\n",
       "  </thead>\n",
       "  <tbody>\n",
       "    <tr>\n",
       "      <th>1470</th>\n",
       "      <td>s1471</td>\n",
       "      <td>Movie</td>\n",
       "      <td>Alaska Is a Drag</td>\n",
       "      <td>Shaz Bennett</td>\n",
       "      <td>Martin L. Washington Jr., Maya Washington, Mat...</td>\n",
       "      <td>United States</td>\n",
       "      <td>2017</td>\n",
       "      <td>TV-MA</td>\n",
       "      <td>83 min</td>\n",
       "      <td>Dramas, LGBTQ Movies</td>\n",
       "      <td>Tormented by bullies, an aspiring drag star wo...</td>\n",
       "      <td>12</td>\n",
       "      <td>31</td>\n",
       "      <td>2020</td>\n",
       "      <td>second_half</td>\n",
       "      <td>4_quarter</td>\n",
       "    </tr>\n",
       "    <tr>\n",
       "      <th>1471</th>\n",
       "      <td>s1472</td>\n",
       "      <td>Movie</td>\n",
       "      <td>Best of Stand-Up 2020</td>\n",
       "      <td>0</td>\n",
       "      <td>Jerry Seinfeld, Leslie Jones, Taylor Tomlinson...</td>\n",
       "      <td>0</td>\n",
       "      <td>2020</td>\n",
       "      <td>TV-MA</td>\n",
       "      <td>77 min</td>\n",
       "      <td>Stand-Up Comedy</td>\n",
       "      <td>From Jerry Seinfeld to Leslie Jones, Kevin Har...</td>\n",
       "      <td>12</td>\n",
       "      <td>31</td>\n",
       "      <td>2020</td>\n",
       "      <td>second_half</td>\n",
       "      <td>4_quarter</td>\n",
       "    </tr>\n",
       "    <tr>\n",
       "      <th>1472</th>\n",
       "      <td>s1473</td>\n",
       "      <td>Movie</td>\n",
       "      <td>Bobby Jasoos</td>\n",
       "      <td>Samar Shaikh</td>\n",
       "      <td>Vidya Balan, Ali Fazal, Supriya Pathak, Tanvi ...</td>\n",
       "      <td>India</td>\n",
       "      <td>2014</td>\n",
       "      <td>TV-14</td>\n",
       "      <td>116 min</td>\n",
       "      <td>Comedies, Dramas, International Movies</td>\n",
       "      <td>With unlimited determination and zero field ex...</td>\n",
       "      <td>12</td>\n",
       "      <td>31</td>\n",
       "      <td>2020</td>\n",
       "      <td>second_half</td>\n",
       "      <td>4_quarter</td>\n",
       "    </tr>\n",
       "    <tr>\n",
       "      <th>1473</th>\n",
       "      <td>s1474</td>\n",
       "      <td>TV Show</td>\n",
       "      <td>Chilling Adventures of Sabrina</td>\n",
       "      <td>0</td>\n",
       "      <td>Kiernan Shipka, Ross Lynch, Miranda Otto, Lucy...</td>\n",
       "      <td>United States</td>\n",
       "      <td>2020</td>\n",
       "      <td>TV-14</td>\n",
       "      <td>4 Seasons</td>\n",
       "      <td>TV Horror, TV Mysteries, TV Sci-Fi &amp; Fantasy</td>\n",
       "      <td>Magic and mischief collide as half-human, half...</td>\n",
       "      <td>12</td>\n",
       "      <td>31</td>\n",
       "      <td>2020</td>\n",
       "      <td>second_half</td>\n",
       "      <td>4_quarter</td>\n",
       "    </tr>\n",
       "    <tr>\n",
       "      <th>1474</th>\n",
       "      <td>s1475</td>\n",
       "      <td>Movie</td>\n",
       "      <td>Tarung Sarung</td>\n",
       "      <td>Archie Hekagery</td>\n",
       "      <td>Panji Zoni, Yayan Ruhian, Maizura, Cemal Faruk...</td>\n",
       "      <td>Indonesia</td>\n",
       "      <td>2020</td>\n",
       "      <td>TV-PG</td>\n",
       "      <td>116 min</td>\n",
       "      <td>Action &amp; Adventure, Dramas, Faith &amp; Spirituality</td>\n",
       "      <td>Wealthy and spoiled, a young man finds somethi...</td>\n",
       "      <td>12</td>\n",
       "      <td>31</td>\n",
       "      <td>2020</td>\n",
       "      <td>second_half</td>\n",
       "      <td>4_quarter</td>\n",
       "    </tr>\n",
       "  </tbody>\n",
       "</table>\n",
       "</div>"
      ],
      "text/plain": [
       "     show_id     type                           title         director  \\\n",
       "1470   s1471    Movie                Alaska Is a Drag     Shaz Bennett   \n",
       "1471   s1472    Movie           Best of Stand-Up 2020                0   \n",
       "1472   s1473    Movie                    Bobby Jasoos     Samar Shaikh   \n",
       "1473   s1474  TV Show  Chilling Adventures of Sabrina                0   \n",
       "1474   s1475    Movie                   Tarung Sarung  Archie Hekagery   \n",
       "\n",
       "                                                   cast        country  \\\n",
       "1470  Martin L. Washington Jr., Maya Washington, Mat...  United States   \n",
       "1471  Jerry Seinfeld, Leslie Jones, Taylor Tomlinson...              0   \n",
       "1472  Vidya Balan, Ali Fazal, Supriya Pathak, Tanvi ...          India   \n",
       "1473  Kiernan Shipka, Ross Lynch, Miranda Otto, Lucy...  United States   \n",
       "1474  Panji Zoni, Yayan Ruhian, Maizura, Cemal Faruk...      Indonesia   \n",
       "\n",
       "      release_year rating   duration  \\\n",
       "1470          2017  TV-MA     83 min   \n",
       "1471          2020  TV-MA     77 min   \n",
       "1472          2014  TV-14    116 min   \n",
       "1473          2020  TV-14  4 Seasons   \n",
       "1474          2020  TV-PG    116 min   \n",
       "\n",
       "                                             listed_in  \\\n",
       "1470                              Dramas, LGBTQ Movies   \n",
       "1471                                   Stand-Up Comedy   \n",
       "1472            Comedies, Dramas, International Movies   \n",
       "1473      TV Horror, TV Mysteries, TV Sci-Fi & Fantasy   \n",
       "1474  Action & Adventure, Dramas, Faith & Spirituality   \n",
       "\n",
       "                                            description  month  day  year  \\\n",
       "1470  Tormented by bullies, an aspiring drag star wo...     12   31  2020   \n",
       "1471  From Jerry Seinfeld to Leslie Jones, Kevin Har...     12   31  2020   \n",
       "1472  With unlimited determination and zero field ex...     12   31  2020   \n",
       "1473  Magic and mischief collide as half-human, half...     12   31  2020   \n",
       "1474  Wealthy and spoiled, a young man finds somethi...     12   31  2020   \n",
       "\n",
       "             half   quarters  \n",
       "1470  second_half  4_quarter  \n",
       "1471  second_half  4_quarter  \n",
       "1472  second_half  4_quarter  \n",
       "1473  second_half  4_quarter  \n",
       "1474  second_half  4_quarter  "
      ]
     },
     "execution_count": 83,
     "metadata": {},
     "output_type": "execute_result"
    }
   ],
   "source": [
    "df.head()"
   ]
  },
  {
   "cell_type": "code",
   "execution_count": 84,
   "id": "vulnerable-dayton",
   "metadata": {},
   "outputs": [
    {
     "data": {
      "image/png": "[encoded data removed]",
      "text/plain": [
       "<Figure size 864x720 with 1 Axes>"
      ]
     },
     "metadata": {
      "needs_background": "light"
     },
     "output_type": "display_data"
    }
   ],
   "source": [
    "plt.figure(figsize=(12,10))\n",
    "bar_df_movie = movie[\"quarters\"].value_counts().reset_index().sort_values(by=['index'], axis=0)\n",
    "bar_df_tv_show = tv_show[\"quarters\"].value_counts().reset_index().sort_values(by=['index'], axis=0)\n",
    "p1 = plt.bar(bar_df_movie[\"index\"], bar_df_movie[\"quarters\"],color='b', alpha=.3)\n",
    "p2 = plt.bar(bar_df_movie[\"index\"], bar_df_tv_show[\"quarters\"],color='r', alpha=.3, bottom = bar_df_movie[\"quarters\"])\n",
    "plt.ylabel(\"counts\", fontsize=12)\n",
    "plt.xlabel(\"month\", fontsize=12)\n",
    "plt.legend((p1[0], p2[0]), ('movie', 'TV show'), fontsize=15)\n",
    "plt.show()"
   ]
  },
  {
   "cell_type": "markdown",
   "id": "informative-percentage",
   "metadata": {},
   "source": [
    "### 분기별로 다시 보니 확실히 월말로 갈수록 업데이트된 컨텐츠가 많다고 생각합니다."
   ]
  },
  {
   "cell_type": "markdown",
   "id": "lovely-affect",
   "metadata": {},
   "source": [
    "## 전체적인 년도별 업로드된 컨텐츠를 시각화 해보겠습니다."
   ]
  },
  {
   "cell_type": "code",
   "execution_count": 51,
   "id": "macro-remainder",
   "metadata": {},
   "outputs": [
    {
     "data": {
      "image/png": "[encoded data removed]",
      "text/plain": [
       "<Figure size 2016x1080 with 1 Axes>"
      ]
     },
     "metadata": {
      "needs_background": "light"
     },
     "output_type": "display_data"
    }
   ],
   "source": [
    "movie = df[df['type'] == 'Movie']\n",
    "tv_show = df[df['type'] == 'TV Show']\n",
    "\n",
    "year_data = df['year'].value_counts().sort_index().loc[:2020]\n",
    "type_data = df.groupby('type')['year'].value_counts().sort_index().unstack().fillna(0).T.loc[:2020] \n",
    "\n",
    "fig, ax = plt.subplots(1,1, figsize=(28, 15))\n",
    "ax.plot(year_data.index, year_data,  color=\"white\", linewidth=5, label='Total', path_effects=[path_effects.SimpleLineShadow(),\n",
    "                       path_effects.Normal()])\n",
    "ax.plot(type_data.index, type_data['Movie'], color='skyblue', linewidth=5, label='Movie', path_effects=[path_effects.SimpleLineShadow(),\n",
    "                       path_effects.Normal()])\n",
    "ax.plot(type_data.index, type_data['TV Show'], color='salmon', linewidth=5, label='TV Show', path_effects=[path_effects.SimpleLineShadow(),\n",
    "                       path_effects.Normal()])\n",
    "\n",
    "events = [\"Japane\\n2015-9\", \"Wordl Service\\n2016-1\", \"Offline Playback Features\\n2016-11\", \"COVID-19\\n2019-12\"]\n",
    "\n",
    "t = [2015.8, 2016.1, 2016.9, 2019.9]\n",
    "\n",
    "up_down = [0, 0, 0, 0]\n",
    "\n",
    "left_right = [-0.7, -0.8, -1.2, -0.7]\n",
    "\n",
    "for t_i, event_i, ud_i, lr_i in zip(t, events, up_down, left_right):\n",
    "    ax.annotate(event_i,\n",
    "                xy=(t_i + lr_i, year_data[int(t_i)] * (int(t_i+1)-t_i) + year_data[int(t_i)+1]  * (t_i-int(t_i)) + ud_i),\n",
    "                xytext=(0,0), textcoords='offset points',\n",
    "                va=\"center\", ha=\"center\",\n",
    "                color=\"w\", fontsize=15,\n",
    "                bbox=dict(boxstyle='round4', pad=0.5, color='#303030', alpha=0.9))\n",
    "    ax.scatter(t_i, year_data[int(t_i)] * (int(t_i+1)-t_i) + year_data[int(t_i)+1]  * (t_i-int(t_i)), color='#E50914', s=500)\n",
    "    \n",
    "ax.set_xlim(2007, 2021)\n",
    "ax.set_ylim(-40, 2500)\n",
    "\n",
    "ax.set_facecolor((0.4, 0.4, 0.4))\n",
    "ax.set_title(\"What Happened to Netflix?\", fontsize=30)\n",
    "ax.yaxis.set_tick_params(labelsize=20)\n",
    "ax.xaxis.set_tick_params(labelsize=20)\n",
    "plt.legend(loc='upper left', fontsize=20)\n",
    "\n",
    "plt.show()"
   ]
  },
  {
   "cell_type": "markdown",
   "id": "positive-stream",
   "metadata": {},
   "source": [
    "### 2016~2017년 업로드된 컨텐츠의 증가율이 가장 크게 나타났습니다. 이는 일본진출과 월드서비스 시작이 겹치면서 가장 크게 나타난것 같습니다. \n",
    "### 그리고 2019년까지는 꾸준히 증가했고 그 사이에 오프라인 동영상 재생을 모든 유저에서 서비스한 것도 영향이 있는것 같습니다.\n",
    "### 마지막으로 2020년 업로드된 컨텐츠의 개수가 많이 낮은것은 코로나의 영향으로 제작된 TV show나 movie가 적어서 그렇다고 생각합니다."
   ]
  },
  {
   "cell_type": "markdown",
   "id": "alike-literacy",
   "metadata": {},
   "source": [
    "## 년도와 월별로 나눠서 시각화 해보겠습니다."
   ]
  },
  {
   "cell_type": "code",
   "execution_count": 70,
   "id": "presidential-mexican",
   "metadata": {},
   "outputs": [
    {
     "data": {
      "image/png": "[encoded data removed]",
      "text/plain": [
       "<Figure size 2000x1400 with 2 Axes>"
      ]
     },
     "metadata": {
      "needs_background": "light"
     },
     "output_type": "display_data"
    }
   ],
   "source": [
    "month_order = [1, 2, 3, 4, 5, 6, 7, 8, 9, 10, 11, 12][::-1]\n",
    "df2 = df.groupby('year')['month'].value_counts().unstack().fillna(0)[month_order].T\n",
    "plt.figure(figsize=(10, 7), dpi=200)\n",
    "plt.pcolor(df2, cmap='Blues', edgecolors='white', linewidths=2) # heatmap\n",
    "plt.xticks(np.arange(0.5, len(df2.columns), 1), df2.columns, fontsize=7, fontfamily='serif')\n",
    "plt.yticks(np.arange(0.5, len(df2.index), 1), df2.index, fontsize=7, fontfamily='serif')\n",
    "\n",
    "plt.title('Netflix Contents Update', fontsize=12)\n",
    "cbar = plt.colorbar()\n",
    "\n",
    "cbar.ax.tick_params(labelsize=8)\n",
    "cbar.ax.minorticks_on()\n",
    "plt.show()"
   ]
  },
  {
   "cell_type": "markdown",
   "id": "naval-charlotte",
   "metadata": {},
   "source": [
    "### 년도별로 보면 하반기에 좀더 업데이트가 활발하다고 생각합니다."
   ]
  },
  {
   "cell_type": "markdown",
   "id": "atmospheric-budget",
   "metadata": {},
   "source": [
    "# 3. 인사이트 도출\n",
    "> ### 1. 가장 많은 컨텐츠를 만든 감독\n",
    "> ### 2. 월별, 일별, 년도별 업데이트된 컨텐츠의 수"
   ]
  },
  {
   "cell_type": "markdown",
   "id": "reasonable-bennett",
   "metadata": {},
   "source": [
    "## 회고\n",
    "> #### 이번 데이터로 분석하고 싶은 것은 많았지만 시간과 실력이 부족하여 다 분석하지 못한게 아쉽습니다.\n",
    "> #### 첫번째로 제목과 장르를 학습하여 제목으로 장르를 맞추는 인공지능 모델을 생각해 보았는데 장르를 나누고 분류하여 학습할 엄두가 안나 <br/>다른쪽으로 생각해 보았습니다.<br/>그리고 감독과 배우 누가 더 컨텐츠에 영향이 많은지 분석하고 싶었는데 결측치도 많고 잘못된 데이터도 있어 결과적으로 업로드된 컨텐츠의 증감의 원인이 무엇일지 찾아보게 되었습니다.\n",
    "> #### 이렇게 분석하는 과정에서 좋다고 생각하는 메서드도 발견했고 코딩능력이 부족해 공부하는 시간도 필요해서 많이 분석하지 못한게 아쉬웠습니다."
   ]
  },
  {
   "cell_type": "code",
   "execution_count": null,
   "id": "upset-scholarship",
   "metadata": {},
   "outputs": [],
   "source": []
  }
 ],
 "metadata": {
  "kernelspec": {
   "display_name": "Python 3",
   "language": "python",
   "name": "python3"
  },
  "language_info": {
   "codemirror_mode": {
    "name": "ipython",
    "version": 3
   },
   "file_extension": ".py",
   "mimetype": "text/x-python",
   "name": "python",
   "nbconvert_exporter": "python",
   "pygments_lexer": "ipython3",
   "version": "3.7.9"
  }
 },
 "nbformat": 4,
 "nbformat_minor": 5
}
