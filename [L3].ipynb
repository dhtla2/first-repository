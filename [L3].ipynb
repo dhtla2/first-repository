{
 "cells": [
  {
   "cell_type": "markdown",
   "id": "lucky-pound",
   "metadata": {},
   "source": [
    "![image](https://user-images.githubusercontent.com/84653776/135808781-9d4d9fbc-828c-4530-9bb6-b91cf9b3b2a3.png)"
   ]
  },
  {
   "cell_type": "markdown",
   "id": "ecological-gates",
   "metadata": {},
   "source": [
    "# L1, L2 를 사용하는 곳\n",
    "\n",
    "### 과적합(overfitting)을 막기 위해"
   ]
  },
  {
   "cell_type": "markdown",
   "id": "substantial-checkout",
   "metadata": {},
   "source": [
    "### Regularization 을 사용하지 않으면 트레이닝셋의 loss는 줄어 들지만 반대로 테스트셋의 loss는 올라간다."
   ]
  },
  {
   "cell_type": "markdown",
   "id": "thermal-prisoner",
   "metadata": {},
   "source": [
    "# 1. 유클리드 공간이 무엇인가?"
   ]
  },
  {
   "cell_type": "markdown",
   "id": "contained-yacht",
   "metadata": {},
   "source": [
    "### 결론부터 이야기 하면 유클리드 공간에 n차 유클리드 공간이 있는데\n",
    "### 중,고등학교때 배운 평행선이 1차, 좌표평면이 2차 유클리드 공간이고 기하벡터에서 배우는 3차원 좌표평면이 3차 유클리드 공간이라고 생각하면 됩니다.\n",
    "### 유클리드 공간은 유클리드 평행선 공리와 피타고라스 정리를 만족하는 공간"
   ]
  },
  {
   "cell_type": "markdown",
   "id": "color-beverage",
   "metadata": {},
   "source": [
    "# 2. 노름이 무엇인가?"
   ]
  },
  {
   "cell_type": "markdown",
   "id": "stainless-infrastructure",
   "metadata": {},
   "source": [
    "###  벡터의 길이 정도로 생각 하셔도 될 것 같습니다."
   ]
  },
  {
   "cell_type": "markdown",
   "id": "equivalent-turning",
   "metadata": {},
   "source": [
    "![image](https://user-images.githubusercontent.com/84653776/135806787-50e3794b-e795-4bb2-9a69-d06553f76fe4.png)"
   ]
  },
  {
   "cell_type": "markdown",
   "id": "embedded-cattle",
   "metadata": {},
   "source": [
    "# L1\n",
    "### 맨해튼 노름 or 택시 노름"
   ]
  },
  {
   "cell_type": "markdown",
   "id": "sustainable-semester",
   "metadata": {},
   "source": [
    "![image](https://user-images.githubusercontent.com/84653776/135806866-ec692529-cc29-44b3-bd50-d75cf9cb4ade.png)"
   ]
  },
  {
   "cell_type": "markdown",
   "id": "demonstrated-morrison",
   "metadata": {},
   "source": [
    "![image](https://user-images.githubusercontent.com/84653776/135806934-c3ad9b59-f1c8-4b8b-ba4c-f947b6ff89e6.png)"
   ]
  },
  {
   "cell_type": "markdown",
   "id": "atomic-photograph",
   "metadata": {},
   "source": [
    "# L2\n",
    "### 유클리드 노름"
   ]
  },
  {
   "cell_type": "markdown",
   "id": "noted-supervision",
   "metadata": {},
   "source": [
    "![image](https://user-images.githubusercontent.com/84653776/135806967-589b0917-629c-43b3-b190-db1d3e350f47.png)"
   ]
  },
  {
   "cell_type": "markdown",
   "id": "bound-proof",
   "metadata": {},
   "source": [
    "![image](https://user-images.githubusercontent.com/84653776/135807090-f3bb87bd-80fa-40ae-acc9-1c08e1eca83b.png)"
   ]
  },
  {
   "cell_type": "markdown",
   "id": "yellow-console",
   "metadata": {},
   "source": [
    "# L1과 L2의 차이"
   ]
  },
  {
   "cell_type": "markdown",
   "id": "equipped-florence",
   "metadata": {},
   "source": [
    "![image](https://user-images.githubusercontent.com/84653776/135807284-9c89d397-44c6-4076-a712-0a21906695a9.png)"
   ]
  },
  {
   "cell_type": "markdown",
   "id": "arbitrary-document",
   "metadata": {},
   "source": [
    "![image](https://user-images.githubusercontent.com/84653776/136021461-2a2ea8f6-9e02-4ef9-b298-b2c4e99b14c4.png)"
   ]
  },
  {
   "cell_type": "markdown",
   "id": "expensive-supplement",
   "metadata": {},
   "source": [
    "# W를 선정하는 방법\n",
    "### 의문점<br/>컴퓨터는 어떻게 L2 Regularization이 복잡한지 아닌지 판단하는가?\n",
    "### coarse를 비교한다(매끄러워야함)<br/>L1과 L2가 복잡도를 판단하는 방식이 다름\n",
    "### W의 의미<br/> 얼마나 X가 Output Class와 닮았는지"
   ]
  },
  {
   "cell_type": "markdown",
   "id": "varying-rhythm",
   "metadata": {},
   "source": [
    "# L1이 느끼는 복잡도\n",
    "### W에서 0이 아닌 원소의 개수\n",
    "\n",
    "# L2가 느끼는 복잡도\n",
    "### W의 노름(작을수록 선호)"
   ]
  },
  {
   "cell_type": "markdown",
   "id": "intimate-tattoo",
   "metadata": {},
   "source": [
    "![image](https://user-images.githubusercontent.com/84653776/135808934-c2c6b77a-a7f1-46b2-b247-3295288136c8.png)"
   ]
  },
  {
   "cell_type": "markdown",
   "id": "married-volunteer",
   "metadata": {},
   "source": [
    "![image](https://user-images.githubusercontent.com/84653776/136327942-4e9d97db-24e6-4fab-a802-a65faa24dddb.png)"
   ]
  },
  {
   "cell_type": "markdown",
   "id": "designed-dating",
   "metadata": {},
   "source": [
    "![image](https://user-images.githubusercontent.com/84653776/136328066-5434e8e9-c143-4932-ac9b-164ccc27267e.png)\n",
    " "
   ]
  },
  {
   "cell_type": "markdown",
   "id": "listed-context",
   "metadata": {},
   "source": [
    "# Q: softmax의 최댓값과 최솟값은 얼마일까요?\n",
    "### <br/> 최댓값 : 무한대\n",
    "### <br/> 최솟값 : 0 "
   ]
  },
  {
   "cell_type": "markdown",
   "id": "indie-architect",
   "metadata": {},
   "source": [
    "![image](https://user-images.githubusercontent.com/84653776/136327565-a3a33785-8e3e-4108-becf-a769f7c16b4c.png)"
   ]
  },
  {
   "cell_type": "markdown",
   "id": "stainless-cattle",
   "metadata": {},
   "source": [
    "# Q: Loss가 0이 나오려면 실제 스코어는 어떤값이 나와야 겠는가?\n",
    "### <br/> 거의 무한대에 가까운 극단적으로 큰 값\n",
    "### <br/> 나머지 스코어는 -무한대의 값"
   ]
  },
  {
   "cell_type": "markdown",
   "id": "stretch-territory",
   "metadata": {},
   "source": [
    "![image](https://user-images.githubusercontent.com/84653776/136329612-a6b5febb-bcab-4581-8a0b-b689d20f5250.png)"
   ]
  },
  {
   "cell_type": "markdown",
   "id": "ambient-award",
   "metadata": {},
   "source": [
    "# 유한 정밀도를 가지고 최댓값(무한대), 최솟값(0)에 도달할 수 없음"
   ]
  },
  {
   "cell_type": "code",
   "execution_count": 1,
   "id": "liquid-facility",
   "metadata": {},
   "outputs": [
    {
     "name": "stdout",
     "output_type": "stream",
     "text": [
      "1.6666666666666665\n",
      "1.6666666666666667\n"
     ]
    }
   ],
   "source": [
    "print(1+(2/3))\n",
    "print(5/3)"
   ]
  },
  {
   "cell_type": "markdown",
   "id": "educational-wilderness",
   "metadata": {},
   "source": [
    "![image](https://user-images.githubusercontent.com/84653776/136328150-d1843e6c-6757-465e-9dff-71f167801654.png)"
   ]
  },
  {
   "cell_type": "markdown",
   "id": "desperate-pendant",
   "metadata": {},
   "source": [
    "# Q: 만약 S가 모두 0 근처에 모여있는 작은 수일때 Loss는 어떻게 될까요?\n",
    "### -log(1/C) = log(C) (디버깅 전략)"
   ]
  },
  {
   "cell_type": "markdown",
   "id": "strategic-swedish",
   "metadata": {},
   "source": [
    "![image](https://user-images.githubusercontent.com/84653776/136328343-fd0983d8-e3b3-4013-94d1-e6c74553176a.png)"
   ]
  },
  {
   "cell_type": "markdown",
   "id": "funky-implement",
   "metadata": {},
   "source": [
    "# Softmax와 SVM loss의 차이점\n",
    "### SVM loss 는 오직 정답과 그 외 클래스의 마진이 얼마나 되는지에만 관심이 있다.<br/> 일정 마진을 넘기면 더 이상 성능 개선을 위해 노력하지 않는다.\n",
    "### Softmax loss는 확률을 1로 만들기 위해 계속 노력할 것입니다.<br/> 정답은 +무한대로 다른 스코어는 -무한대로 보내기위해 노력함\n",
    "\n",
    "### 실제 딥러닝 애플리케이션에서 두 손실 함수 간의 성능 차이는 심하지 않다."
   ]
  },
  {
   "cell_type": "markdown",
   "id": "baking-cornell",
   "metadata": {},
   "source": [
    "![image](https://user-images.githubusercontent.com/84653776/136328417-30343105-5568-4faa-89f4-d580c4b9b7f1.png)"
   ]
  },
  {
   "cell_type": "markdown",
   "id": "supreme-yacht",
   "metadata": {},
   "source": [
    "# 총 정리\n",
    "### 데이터셋 (x,y)가 들어오고\n",
    "### softmax or SVM의 손실함수로 얼마나 구린지 판단한다.\n",
    "### 복잡함과 단순함을 통제하기 위해 regularization을 활용한다. \n",
    "### 어떻게 실제로 loss를 줄이는 W를 찾을 수 있는가?"
   ]
  }
 ],
 "metadata": {
  "kernelspec": {
   "display_name": "Python 3",
   "language": "python",
   "name": "python3"
  },
  "language_info": {
   "codemirror_mode": {
    "name": "ipython",
    "version": 3
   },
   "file_extension": ".py",
   "mimetype": "text/x-python",
   "name": "python",
   "nbconvert_exporter": "python",
   "pygments_lexer": "ipython3",
   "version": "3.7.9"
  }
 },
 "nbformat": 4,
 "nbformat_minor": 5
}
