{
 "cells": [
  {
   "cell_type": "markdown",
   "id": "further-graph",
   "metadata": {},
   "source": [
    "## Sentencepiece\n",
    "> * sentencepiece 논문을 읽어봤을때, 가장 인상적인 부분은 raw data 즉, 날것의 데이터를 사용해도 괜찮다는 장점이 있었다는 내용이였습니다.<br/>그래서 날것의 데이터와 약간의 전처리를 한 데이터를 비교해보고 단어장의 크기와 sentencepiece 모델을 바꿔가며 실험해 보겠습니다."
   ]
  },
  {
   "cell_type": "markdown",
   "id": "jewish-herald",
   "metadata": {},
   "source": [
    "#### 필요한 라이브러리 Import"
   ]
  },
  {
   "cell_type": "code",
   "execution_count": 1,
   "id": "deadly-flood",
   "metadata": {},
   "outputs": [],
   "source": [
    "import os\n",
    "\n",
    "import matplotlib.pyplot as plt\n",
    "import tensorflow as tf\n",
    "import numpy as np\n",
    "import pandas as pd\n",
    "import csv\n",
    "\n",
    "import sentencepiece as spm\n",
    "from konlpy.tag import Mecab\n",
    "\n",
    "import urllib.request\n",
    "from sklearn.model_selection import train_test_split\n",
    "import keras\n",
    "\n",
    "from tensorflow.keras.models import load_model\n",
    "from tensorflow.keras.layers import Dropout\n",
    "from tensorflow.keras.callbacks import EarlyStopping, ModelCheckpoint\n",
    "\n",
    "%matplotlib inline"
   ]
  },
  {
   "cell_type": "markdown",
   "id": "green-sucking",
   "metadata": {},
   "source": [
    "#### 데이터 확인 및 전처리"
   ]
  },
  {
   "cell_type": "code",
   "execution_count": 2,
   "id": "further-pendant",
   "metadata": {},
   "outputs": [
    {
     "data": {
      "text/plain": [
       "('ratings.txt', <http.client.HTTPMessage at 0x7fdbed5a2c90>)"
      ]
     },
     "execution_count": 2,
     "metadata": {},
     "output_type": "execute_result"
    }
   ],
   "source": [
    "urllib.request.urlretrieve(\"https://raw.githubusercontent.com/e9t/nsmc/master/ratings.txt\", filename=\"ratings.txt\")"
   ]
  },
  {
   "cell_type": "code",
   "execution_count": 3,
   "id": "desperate-liechtenstein",
   "metadata": {},
   "outputs": [],
   "source": [
    "data = pd.read_table('ratings.txt')"
   ]
  },
  {
   "cell_type": "code",
   "execution_count": 4,
   "id": "personal-thanksgiving",
   "metadata": {},
   "outputs": [
    {
     "data": {
      "text/html": [
       "<div>\n",
       "<style scoped>\n",
       "    .dataframe tbody tr th:only-of-type {\n",
       "        vertical-align: middle;\n",
       "    }\n",
       "\n",
       "    .dataframe tbody tr th {\n",
       "        vertical-align: top;\n",
       "    }\n",
       "\n",
       "    .dataframe thead th {\n",
       "        text-align: right;\n",
       "    }\n",
       "</style>\n",
       "<table border=\"1\" class=\"dataframe\">\n",
       "  <thead>\n",
       "    <tr style=\"text-align: right;\">\n",
       "      <th></th>\n",
       "      <th>id</th>\n",
       "      <th>document</th>\n",
       "      <th>label</th>\n",
       "    </tr>\n",
       "  </thead>\n",
       "  <tbody>\n",
       "    <tr>\n",
       "      <th>0</th>\n",
       "      <td>8112052</td>\n",
       "      <td>어릴때보고 지금다시봐도 재밌어요ㅋㅋ</td>\n",
       "      <td>1</td>\n",
       "    </tr>\n",
       "    <tr>\n",
       "      <th>1</th>\n",
       "      <td>8132799</td>\n",
       "      <td>디자인을 배우는 학생으로, 외국디자이너와 그들이 일군 전통을 통해 발전해가는 문화산...</td>\n",
       "      <td>1</td>\n",
       "    </tr>\n",
       "    <tr>\n",
       "      <th>2</th>\n",
       "      <td>4655635</td>\n",
       "      <td>폴리스스토리 시리즈는 1부터 뉴까지 버릴께 하나도 없음.. 최고.</td>\n",
       "      <td>1</td>\n",
       "    </tr>\n",
       "    <tr>\n",
       "      <th>3</th>\n",
       "      <td>9251303</td>\n",
       "      <td>와.. 연기가 진짜 개쩔구나.. 지루할거라고 생각했는데 몰입해서 봤다.. 그래 이런...</td>\n",
       "      <td>1</td>\n",
       "    </tr>\n",
       "    <tr>\n",
       "      <th>4</th>\n",
       "      <td>10067386</td>\n",
       "      <td>안개 자욱한 밤하늘에 떠 있는 초승달 같은 영화.</td>\n",
       "      <td>1</td>\n",
       "    </tr>\n",
       "  </tbody>\n",
       "</table>\n",
       "</div>"
      ],
      "text/plain": [
       "         id                                           document  label\n",
       "0   8112052                                어릴때보고 지금다시봐도 재밌어요ㅋㅋ      1\n",
       "1   8132799  디자인을 배우는 학생으로, 외국디자이너와 그들이 일군 전통을 통해 발전해가는 문화산...      1\n",
       "2   4655635               폴리스스토리 시리즈는 1부터 뉴까지 버릴께 하나도 없음.. 최고.      1\n",
       "3   9251303  와.. 연기가 진짜 개쩔구나.. 지루할거라고 생각했는데 몰입해서 봤다.. 그래 이런...      1\n",
       "4  10067386                        안개 자욱한 밤하늘에 떠 있는 초승달 같은 영화.      1"
      ]
     },
     "execution_count": 4,
     "metadata": {},
     "output_type": "execute_result"
    }
   ],
   "source": [
    "data[:5]"
   ]
  },
  {
   "cell_type": "markdown",
   "id": "operating-colleague",
   "metadata": {},
   "source": [
    "* 개수를 확인해 보겠습니다."
   ]
  },
  {
   "cell_type": "code",
   "execution_count": 5,
   "id": "intelligent-nepal",
   "metadata": {},
   "outputs": [
    {
     "data": {
      "text/plain": [
       "200000"
      ]
     },
     "execution_count": 5,
     "metadata": {},
     "output_type": "execute_result"
    }
   ],
   "source": [
    "len(data)"
   ]
  },
  {
   "cell_type": "markdown",
   "id": "encouraging-packaging",
   "metadata": {},
   "source": [
    "* null 값을 확인해 보겠습니다."
   ]
  },
  {
   "cell_type": "code",
   "execution_count": 6,
   "id": "earned-convertible",
   "metadata": {},
   "outputs": [
    {
     "data": {
      "text/plain": [
       "True"
      ]
     },
     "execution_count": 6,
     "metadata": {},
     "output_type": "execute_result"
    }
   ],
   "source": [
    "data.isnull().values.any()"
   ]
  },
  {
   "cell_type": "markdown",
   "id": "monthly-valentine",
   "metadata": {},
   "source": [
    "* 제거하고 개수를 확인해 보겠습니다."
   ]
  },
  {
   "cell_type": "code",
   "execution_count": 7,
   "id": "comprehensive-clear",
   "metadata": {},
   "outputs": [],
   "source": [
    "data = data.dropna(how = 'any')"
   ]
  },
  {
   "cell_type": "code",
   "execution_count": 8,
   "id": "caroline-parameter",
   "metadata": {},
   "outputs": [
    {
     "data": {
      "text/plain": [
       "False"
      ]
     },
     "execution_count": 8,
     "metadata": {},
     "output_type": "execute_result"
    }
   ],
   "source": [
    "data.isnull().values.any()"
   ]
  },
  {
   "cell_type": "code",
   "execution_count": 9,
   "id": "equipped-freeware",
   "metadata": {},
   "outputs": [
    {
     "data": {
      "text/plain": [
       "199992"
      ]
     },
     "execution_count": 9,
     "metadata": {},
     "output_type": "execute_result"
    }
   ],
   "source": [
    "len(data)"
   ]
  },
  {
   "cell_type": "markdown",
   "id": "packed-lebanon",
   "metadata": {},
   "source": [
    "* 8개 밖에 없어 그대로 진행하겠습니다."
   ]
  },
  {
   "cell_type": "code",
   "execution_count": 10,
   "id": "vocational-playlist",
   "metadata": {},
   "outputs": [],
   "source": [
    "data.drop_duplicates(['document'],inplace = True)"
   ]
  },
  {
   "cell_type": "markdown",
   "id": "english-training",
   "metadata": {},
   "source": [
    "* 중복값을 제거하고 개수를 확인해보겠습니다."
   ]
  },
  {
   "cell_type": "code",
   "execution_count": 11,
   "id": "color-verse",
   "metadata": {},
   "outputs": [
    {
     "data": {
      "text/plain": [
       "194543"
      ]
     },
     "execution_count": 11,
     "metadata": {},
     "output_type": "execute_result"
    }
   ],
   "source": [
    "len(data)"
   ]
  },
  {
   "cell_type": "markdown",
   "id": "musical-constitution",
   "metadata": {},
   "source": [
    "* 이제 라벨의 불균형이 있나 확인해보겠습니다."
   ]
  },
  {
   "cell_type": "code",
   "execution_count": 12,
   "id": "bearing-central",
   "metadata": {},
   "outputs": [
    {
     "data": {
      "text/plain": [
       "<AxesSubplot:>"
      ]
     },
     "execution_count": 12,
     "metadata": {},
     "output_type": "execute_result"
    },
    {
     "data": {
      "image/png": "[encoded data removed]",
      "text/plain": [
       "<Figure size 432x288 with 1 Axes>"
      ]
     },
     "metadata": {
      "needs_background": "light"
     },
     "output_type": "display_data"
    }
   ],
   "source": [
    "data['label'].value_counts().plot(kind = 'bar')"
   ]
  },
  {
   "cell_type": "markdown",
   "id": "aquatic-palestinian",
   "metadata": {},
   "source": [
    "* 거의 비슷해 보입니다. 그대로 진행하겠습니다."
   ]
  },
  {
   "cell_type": "markdown",
   "id": "hollywood-rebound",
   "metadata": {},
   "source": [
    "* train, val, test 데이터로 나누겠습니다."
   ]
  },
  {
   "cell_type": "code",
   "execution_count": 13,
   "id": "affected-intelligence",
   "metadata": {},
   "outputs": [],
   "source": [
    "train_data_raw, test_data_raw = train_test_split(data, test_size = 0.2, shuffle=True, random_state=5)"
   ]
  },
  {
   "cell_type": "code",
   "execution_count": 14,
   "id": "driven-imperial",
   "metadata": {},
   "outputs": [],
   "source": [
    "train_data_raw, val_data_raw = train_test_split(train_data_raw, test_size = 0.25, shuffle=True, random_state=5)"
   ]
  },
  {
   "cell_type": "markdown",
   "id": "inside-career",
   "metadata": {},
   "source": [
    "#### 데이터 분석"
   ]
  },
  {
   "cell_type": "code",
   "execution_count": 15,
   "id": "straight-telephone",
   "metadata": {},
   "outputs": [],
   "source": [
    "with open('ratings.txt', 'w', encoding='utf8') as f:\n",
    "    f.write('\\n'.join(data['document']))"
   ]
  },
  {
   "cell_type": "code",
   "execution_count": 16,
   "id": "handled-flooring",
   "metadata": {},
   "outputs": [
    {
     "name": "stdout",
     "output_type": "stream",
     "text": [
      "Data Size: 194543\n",
      "Example:\n",
      ">> 어릴때보고 지금다시봐도 재밌어요ㅋㅋ\n",
      ">> 오랜만에 본 제대로 된 범죄스릴러~\n",
      ">> 정의를 세우는 콜트, 콜텍 노동자들 이야기\n",
      ">> 상당히 훌륭한 영화...\n",
      ">> 내가 없어질 내인생. 제목을 참 잘 지었다.\n"
     ]
    }
   ],
   "source": [
    "with open('ratings.txt', \"r\") as f:\n",
    "    raw = f.read().splitlines()\n",
    "\n",
    "print(\"Data Size:\", len(raw))\n",
    "\n",
    "print(\"Example:\")\n",
    "for sen in raw[0:100][::20]: print(\">>\", sen)"
   ]
  },
  {
   "cell_type": "markdown",
   "id": "architectural-forestry",
   "metadata": {},
   "source": [
    "* 데이터를 시각화 해보겠습니다."
   ]
  },
  {
   "cell_type": "code",
   "execution_count": 17,
   "id": "tough-blues",
   "metadata": {},
   "outputs": [
    {
     "name": "stdout",
     "output_type": "stream",
     "text": [
      "Data Size: 194543\n",
      "문장의 최단 길이: 1\n",
      "문장의 최장 길이: 142\n",
      "문장의 평균 길이: 36\n"
     ]
    },
    {
     "data": {
      "image/png": "[encoded data removed]",
      "text/plain": [
       "<Figure size 432x288 with 1 Axes>"
      ]
     },
     "metadata": {
      "needs_background": "light"
     },
     "output_type": "display_data"
    }
   ],
   "source": [
    "min_len = 999\n",
    "max_len = 0\n",
    "sum_len = 0\n",
    "\n",
    "cleaned_corpus = list(set(raw))  # set를 사용해서 중복을 제거합니다.\n",
    "print(\"Data Size:\", len(cleaned_corpus))\n",
    "\n",
    "for sen in raw:\n",
    "    length = len(sen)\n",
    "    if min_len > length: min_len = length\n",
    "    if max_len < length: max_len = length\n",
    "    sum_len += length\n",
    "\n",
    "print(\"문장의 최단 길이:\", min_len)\n",
    "print(\"문장의 최장 길이:\", max_len)\n",
    "print(\"문장의 평균 길이:\", sum_len // len(raw))\n",
    "\n",
    "sentence_length = np.zeros((max_len), dtype=np.int)\n",
    "\n",
    "for sen in raw:\n",
    "    sentence_length[len(sen)-1] += 1\n",
    "\n",
    "plt.bar(range(max_len), sentence_length, width=1.0)\n",
    "plt.title(\"Sentence Length Distribution\")\n",
    "plt.show()"
   ]
  },
  {
   "cell_type": "markdown",
   "id": "joint-hostel",
   "metadata": {},
   "source": [
    "* 길이가 1개인 문장을 불러와보겠습니다."
   ]
  },
  {
   "cell_type": "code",
   "execution_count": 19,
   "id": "collected-intervention",
   "metadata": {},
   "outputs": [
    {
     "name": "stdout",
     "output_type": "stream",
     "text": [
      "굿\n",
      "핡\n",
      "휴\n",
      "시\n",
      "ㅋ\n",
      "ㅇ\n",
      "‥\n",
      "O\n",
      "갑\n",
      "ㅎ\n",
      ".\n",
      "올\n",
      "헷\n",
      "g\n",
      "♥\n",
      "짱\n",
      "ㅆ\n",
      "굳\n",
      "잼\n",
      "ㅁ\n",
      "?\n",
      "애\n",
      "흠\n",
      "!\n",
      "찜\n",
      "b\n",
      ",\n",
      "1\n",
      "9\n",
      "♬\n",
      "ㅗ\n",
      "ㄳ\n",
      "ㄴ\n",
      "호\n",
      "a\n",
      "d\n",
      "f\n",
      "음\n",
      "헐\n",
      "캬\n",
      "린\n",
      "업\n",
      "乃\n",
      "ㅠ\n",
      ";\n",
      "·\n",
      "k\n",
      "움\n",
      "ㄱ\n",
      "쩜\n",
      "-\n",
      "군\n",
      "ㅉ\n",
      "훗\n",
      "z\n",
      "쨩\n",
      "뿌\n",
      "♡\n",
      "하\n",
      "h\n",
      "ㅍ\n",
      "꽉\n",
      "토\n",
      "귯\n",
      "아\n",
      "오\n",
      "ㅣ\n",
      "봐\n",
      "웅\n",
      "네\n",
      "ㅂ\n",
      "꿈\n",
      "헉\n",
      "와\n",
      "뻑\n",
      "걍\n",
      "헝\n",
      "우\n",
      "즛\n",
      "풉\n",
      "4\n",
      "쀍\n",
      "ㄹ\n",
      "삼\n",
      "쒯\n",
      "즐\n",
      "함\n",
      "0\n",
      "진\n",
      "악\n",
      "풋\n",
      "쩝\n",
      "욜\n",
      "ㄷ\n",
      "흐\n",
      "싫\n",
      "ㅜ\n",
      "잏\n",
      "허\n",
      "엿\n",
      "쉣\n"
     ]
    }
   ],
   "source": [
    "def check_sentence_with_length(raw, length):\n",
    "    count = 0\n",
    "    \n",
    "    for sen in raw:\n",
    "        if len(sen) == length:\n",
    "            print(sen)\n",
    "            count += 1\n",
    "            if count > 100: return\n",
    "\n",
    "check_sentence_with_length(raw, 1)"
   ]
  },
  {
   "cell_type": "markdown",
   "id": "moderate-polymer",
   "metadata": {},
   "source": [
    "* 의미 없어 보이는 단어가 많지만 날것의 데이터를 사욯해보겠습니다."
   ]
  },
  {
   "cell_type": "code",
   "execution_count": 18,
   "id": "returning-robinson",
   "metadata": {},
   "outputs": [],
   "source": [
    "# 길이 조건에 맞는 문장만 선택합니다.\n",
    "max_len = 142\n",
    "min_len = 1\n",
    "\n",
    "filtered_corpus = [s for s in cleaned_corpus if (len(s) < max_len) & (len(s) >= min_len)]"
   ]
  },
  {
   "cell_type": "markdown",
   "id": "soviet-momentum",
   "metadata": {},
   "source": [
    "#### sentencepiece"
   ]
  },
  {
   "cell_type": "code",
   "execution_count": 20,
   "id": "straight-salad",
   "metadata": {},
   "outputs": [
    {
     "name": "stdout",
     "output_type": "stream",
     "text": [
      "-rw-r--r-- 1 root root 374793 Dec 20 00:33 korean_spm_uni_8000.model\r\n",
      "-rw-r--r-- 1 root root 144213 Dec 20 00:33 korean_spm_uni_8000.vocab\r\n"
     ]
    }
   ],
   "source": [
    "temp_file = os.getenv('HOME')+'/aiffel/sp_tokenizer/data/korean-english-park.train.ko.temp'\n",
    "\n",
    "vocab_size = 8000\n",
    "\n",
    "with open(temp_file, 'w') as f:\n",
    "    for row in filtered_corpus:   # 이전 스텝에서 정제했던 corpus를 활용합니다.\n",
    "        f.write(str(row) + '\\n')\n",
    "\n",
    "spm.SentencePieceTrainer.Train(\n",
    "    '--input={} --model_prefix=korean_spm_uni_8000 --vocab_size={} --pad_id=0 --bos_id=1 --eos_id=2 --unk_id=3'.format(temp_file, vocab_size)    \n",
    ")\n",
    "#위 Train에서  --model_type = 'unigram'이 디폴트 적용되어 있습니다. --model_type = 'bpe' 로 옵션을 주어 변경할 수 있습니다.\n",
    "\n",
    "!ls -l korean_spm_uni_8000*"
   ]
  },
  {
   "cell_type": "markdown",
   "id": "concrete-miami",
   "metadata": {},
   "source": [
    "* 처음엔 uni 모델에 단어장 8000으로 사용해 보겠습니다."
   ]
  },
  {
   "cell_type": "code",
   "execution_count": 21,
   "id": "revolutionary-grocery",
   "metadata": {},
   "outputs": [
    {
     "name": "stdout",
     "output_type": "stream",
     "text": [
      "8000\n"
     ]
    },
    {
     "data": {
      "text/html": [
       "<div>\n",
       "<style scoped>\n",
       "    .dataframe tbody tr th:only-of-type {\n",
       "        vertical-align: middle;\n",
       "    }\n",
       "\n",
       "    .dataframe tbody tr th {\n",
       "        vertical-align: top;\n",
       "    }\n",
       "\n",
       "    .dataframe thead th {\n",
       "        text-align: right;\n",
       "    }\n",
       "</style>\n",
       "<table border=\"1\" class=\"dataframe\">\n",
       "  <thead>\n",
       "    <tr style=\"text-align: right;\">\n",
       "      <th></th>\n",
       "      <th>0</th>\n",
       "      <th>1</th>\n",
       "    </tr>\n",
       "  </thead>\n",
       "  <tbody>\n",
       "    <tr>\n",
       "      <th>0</th>\n",
       "      <td>&lt;pad&gt;</td>\n",
       "      <td>0.00000</td>\n",
       "    </tr>\n",
       "    <tr>\n",
       "      <th>1</th>\n",
       "      <td>&lt;s&gt;</td>\n",
       "      <td>0.00000</td>\n",
       "    </tr>\n",
       "    <tr>\n",
       "      <th>2</th>\n",
       "      <td>&lt;/s&gt;</td>\n",
       "      <td>0.00000</td>\n",
       "    </tr>\n",
       "    <tr>\n",
       "      <th>3</th>\n",
       "      <td>&lt;unk&gt;</td>\n",
       "      <td>0.00000</td>\n",
       "    </tr>\n",
       "    <tr>\n",
       "      <th>4</th>\n",
       "      <td>▁</td>\n",
       "      <td>-3.31583</td>\n",
       "    </tr>\n",
       "    <tr>\n",
       "      <th>5</th>\n",
       "      <td>.</td>\n",
       "      <td>-3.48007</td>\n",
       "    </tr>\n",
       "    <tr>\n",
       "      <th>6</th>\n",
       "      <td>..</td>\n",
       "      <td>-4.39015</td>\n",
       "    </tr>\n",
       "    <tr>\n",
       "      <th>7</th>\n",
       "      <td>이</td>\n",
       "      <td>-4.40538</td>\n",
       "    </tr>\n",
       "    <tr>\n",
       "      <th>8</th>\n",
       "      <td>▁영화</td>\n",
       "      <td>-4.58400</td>\n",
       "    </tr>\n",
       "    <tr>\n",
       "      <th>9</th>\n",
       "      <td>...</td>\n",
       "      <td>-4.63442</td>\n",
       "    </tr>\n",
       "  </tbody>\n",
       "</table>\n",
       "</div>"
      ],
      "text/plain": [
       "       0        1\n",
       "0  <pad>  0.00000\n",
       "1    <s>  0.00000\n",
       "2   </s>  0.00000\n",
       "3  <unk>  0.00000\n",
       "4      ▁ -3.31583\n",
       "5      . -3.48007\n",
       "6     .. -4.39015\n",
       "7      이 -4.40538\n",
       "8    ▁영화 -4.58400\n",
       "9    ... -4.63442"
      ]
     },
     "execution_count": 21,
     "metadata": {},
     "output_type": "execute_result"
    }
   ],
   "source": [
    "vocab_list = pd.read_csv('korean_spm_uni_8000.vocab', sep='\\t', header=None, quoting=csv.QUOTE_NONE)\n",
    "print(len(vocab_list))\n",
    "vocab_list[:10]"
   ]
  },
  {
   "cell_type": "markdown",
   "id": "marked-honolulu",
   "metadata": {},
   "source": [
    "* 단어장이 잘 만들어진것 같습니다. 모델을 불러와 사용해보겠습니다."
   ]
  },
  {
   "cell_type": "code",
   "execution_count": 22,
   "id": "received-onion",
   "metadata": {},
   "outputs": [
    {
     "data": {
      "text/plain": [
       "True"
      ]
     },
     "execution_count": 22,
     "metadata": {},
     "output_type": "execute_result"
    }
   ],
   "source": [
    "s = spm.SentencePieceProcessor()\n",
    "s.Load('korean_spm_uni_8000.model')"
   ]
  },
  {
   "cell_type": "code",
   "execution_count": 23,
   "id": "naughty-steel",
   "metadata": {},
   "outputs": [
    {
     "name": "stdout",
     "output_type": "stream",
     "text": [
      "[1095, 2348, 138, 3861, 5]\n",
      "['▁가슴이', '웅', '장', '해진다', '.']\n",
      "가슴이웅장해진다.\n"
     ]
    }
   ],
   "source": [
    "# SentencePiece를 활용한 sentence -> encoding\n",
    "tokensIDs = s.EncodeAsIds('가슴이웅장해진다.')\n",
    "print(tokensIDs)\n",
    "\n",
    "# SentencePiece를 활용한 sentence -> encoded pieces\n",
    "print(s.SampleEncodeAsPieces('가슴이웅장해진다.',1, 0.0))\n",
    "\n",
    "# SentencePiece를 활용한 encoding -> sentence 복원\n",
    "print(s.DecodeIds(tokensIDs))"
   ]
  },
  {
   "cell_type": "markdown",
   "id": "suspected-scenario",
   "metadata": {},
   "source": [
    "* sentencepiece가 잘 동작합니다. 이를 활용해 토크나이저 함수를 정의하겠습니다."
   ]
  },
  {
   "cell_type": "code",
   "execution_count": 24,
   "id": "great-snapshot",
   "metadata": {},
   "outputs": [],
   "source": [
    "def sp_tokenize(s, corpus, max_len):\n",
    "\n",
    "    tensor = []\n",
    "\n",
    "    for sen in corpus:\n",
    "        tensor.append(s.EncodeAsIds(sen))\n",
    "\n",
    "    with open(\"./korean_spm.vocab\", 'r') as f:\n",
    "        vocab = f.readlines()\n",
    "\n",
    "    word_index = {}\n",
    "    index_word = {}\n",
    "\n",
    "    for idx, line in enumerate(vocab):\n",
    "        word = line.split(\"\\t\")[0]\n",
    "\n",
    "        word_index.update({idx:word})\n",
    "        index_word.update({word:idx})\n",
    "\n",
    "    tensor = tf.keras.preprocessing.sequence.pad_sequences(tensor, padding='post', maxlen = max_len)\n",
    "\n",
    "    return tensor, word_index, index_word"
   ]
  },
  {
   "cell_type": "code",
   "execution_count": 71,
   "id": "viral-phoenix",
   "metadata": {},
   "outputs": [
    {
     "name": "stdout",
     "output_type": "stream",
     "text": [
      "[[  720 10918  3626     4     0     0     0     0     0     0     0     0\n",
      "      0     0     0     0     0     0     0     0     0     0     0     0\n",
      "      0     0     0     0     0     0     0     0     0     0     0     0\n",
      "      0     0     0     0     0     0     0     0     0     0]\n",
      " [ 6333  4358  1479     6     0     0     0     0     0     0     0     0\n",
      "      0     0     0     0     0     0     0     0     0     0     0     0\n",
      "      0     0     0     0     0     0     0     0     0     0     0     0\n",
      "      0     0     0     0     0     0     0     0     0     0]]\n"
     ]
    }
   ],
   "source": [
    "#sp_tokenize(s, corpus, max_len) 사용예제\n",
    "\n",
    "my_corpus = ['가슴이 웅장해진다.', '세계관 최강영화다..']\n",
    "tensor, word_index, index_word = sp_tokenize(s, my_corpus, max_len)\n",
    "print(tensor)"
   ]
  },
  {
   "cell_type": "markdown",
   "id": "arbitrary-competition",
   "metadata": {},
   "source": [
    "* 토크나이저 함수로 토큰화하겠습니다."
   ]
  },
  {
   "cell_type": "code",
   "execution_count": 27,
   "id": "animated-consultancy",
   "metadata": {},
   "outputs": [],
   "source": [
    "# 토큰화\n",
    "X_train_raw, word_index_train, index_word_train = sp_tokenize(s, train_data_raw['document'], max_len)\n",
    "X_val_raw, word_index_val, index_word_val = sp_tokenize(s, val_data_raw['document'], max_len)\n",
    "X_test_raw, word_index_test, index_word_test = sp_tokenize(s, test_data_raw['document'], max_len)"
   ]
  },
  {
   "cell_type": "code",
   "execution_count": 30,
   "id": "printable-honduras",
   "metadata": {},
   "outputs": [
    {
     "name": "stdout",
     "output_type": "stream",
     "text": [
      "X_train_raw의 shape: (116725, 142)\n",
      "X_val_raw의 shape: (38909, 142)\n",
      "X_test_raw의 shape: (38909, 142)\n"
     ]
    }
   ],
   "source": [
    "print('X_train_raw의 shape:', X_train_raw.shape)\n",
    "print('X_val_raw의 shape:', X_val_raw.shape)\n",
    "print('X_test_raw의 shape:', X_test_raw.shape)"
   ]
  },
  {
   "cell_type": "code",
   "execution_count": 31,
   "id": "liberal-extreme",
   "metadata": {},
   "outputs": [],
   "source": [
    "y_train_raw = np.array(list(train_data_raw['label']))\n",
    "y_val_raw = np.array(list(val_data_raw['label']))\n",
    "y_test_raw = np.array(list(test_data_raw['label']))"
   ]
  },
  {
   "cell_type": "markdown",
   "id": "complicated-gross",
   "metadata": {},
   "source": [
    "* LSTM 모델을 사용해 보겠습니다."
   ]
  },
  {
   "cell_type": "code",
   "execution_count": 32,
   "id": "convertible-nature",
   "metadata": {},
   "outputs": [
    {
     "name": "stdout",
     "output_type": "stream",
     "text": [
      "Model: \"sequential\"\n",
      "_________________________________________________________________\n",
      "Layer (type)                 Output Shape              Param #   \n",
      "=================================================================\n",
      "embedding (Embedding)        (None, None, 400)         3200000   \n",
      "_________________________________________________________________\n",
      "lstm (LSTM)                  (None, 128)               270848    \n",
      "_________________________________________________________________\n",
      "dense (Dense)                (None, 8)                 1032      \n",
      "_________________________________________________________________\n",
      "dense_1 (Dense)              (None, 1)                 9         \n",
      "=================================================================\n",
      "Total params: 3,471,889\n",
      "Trainable params: 3,471,889\n",
      "Non-trainable params: 0\n",
      "_________________________________________________________________\n"
     ]
    }
   ],
   "source": [
    "model = keras.Sequential()\n",
    "model.add(keras.layers.Embedding(8000, 400, input_shape=(None,)))# input_shape을 None으로 명시해주는 것은 음이 아닌 정수가 들어올것\n",
    "model.add(keras.layers.LSTM(128))   # 가장 널리 쓰이는 RNN인 LSTM 레이어를 사용하였습니다. 이때 LSTM state 벡터의 차원수는 8로 하였습니다. (변경 가능)\n",
    "model.add(keras.layers.Dense(8, activation='relu'))\n",
    "model.add(keras.layers.Dense(1, activation='sigmoid'))  # 최종 출력은 긍정/부정을 나타내는 1dim 입니다.\n",
    "\n",
    "model.summary()"
   ]
  },
  {
   "cell_type": "code",
   "execution_count": 33,
   "id": "based-throw",
   "metadata": {},
   "outputs": [],
   "source": [
    "file_path = os.getenv('HOME') +  '/aiffel/sp_tokenizer'\n",
    "\n",
    "es = EarlyStopping(monitor='val_loss', mode='min', verbose=1, patience=3)\n",
    "mc = ModelCheckpoint(file_path + '/model/best_model.h5', monitor='val_accuracy', mode='max', verbose=1, save_best_only=True)"
   ]
  },
  {
   "cell_type": "code",
   "execution_count": 34,
   "id": "independent-county",
   "metadata": {},
   "outputs": [
    {
     "name": "stdout",
     "output_type": "stream",
     "text": [
      "Epoch 1/20\n",
      "228/228 [==============================] - 43s 174ms/step - loss: 0.6932 - accuracy: 0.4977 - val_loss: 0.6932 - val_accuracy: 0.4957\n",
      "\n",
      "Epoch 00001: val_accuracy improved from -inf to 0.49572, saving model to /aiffel/aiffel/sp_tokenizer/model/best_model.h5\n",
      "Epoch 2/20\n",
      "228/228 [==============================] - 39s 172ms/step - loss: 0.6931 - accuracy: 0.5032 - val_loss: 0.6932 - val_accuracy: 0.4957\n",
      "\n",
      "Epoch 00002: val_accuracy did not improve from 0.49572\n",
      "Epoch 3/20\n",
      "228/228 [==============================] - 39s 173ms/step - loss: 0.6932 - accuracy: 0.4983 - val_loss: 0.6932 - val_accuracy: 0.4957\n",
      "\n",
      "Epoch 00003: val_accuracy did not improve from 0.49572\n",
      "Epoch 4/20\n",
      "228/228 [==============================] - 39s 172ms/step - loss: 0.6931 - accuracy: 0.5033 - val_loss: 0.6931 - val_accuracy: 0.5043\n",
      "\n",
      "Epoch 00004: val_accuracy improved from 0.49572 to 0.50428, saving model to /aiffel/aiffel/sp_tokenizer/model/best_model.h5\n",
      "Epoch 5/20\n",
      "228/228 [==============================] - 39s 173ms/step - loss: 0.6932 - accuracy: 0.4972 - val_loss: 0.6932 - val_accuracy: 0.4957\n",
      "\n",
      "Epoch 00005: val_accuracy did not improve from 0.50428\n",
      "Epoch 6/20\n",
      "228/228 [==============================] - 40s 174ms/step - loss: 0.6931 - accuracy: 0.5048 - val_loss: 0.6931 - val_accuracy: 0.5043\n",
      "\n",
      "Epoch 00006: val_accuracy did not improve from 0.50428\n",
      "Epoch 7/20\n",
      "228/228 [==============================] - 39s 172ms/step - loss: 0.6932 - accuracy: 0.5001 - val_loss: 0.6932 - val_accuracy: 0.4957\n",
      "\n",
      "Epoch 00007: val_accuracy did not improve from 0.50428\n",
      "Epoch 00007: early stopping\n"
     ]
    }
   ],
   "source": [
    "# 학습의 진행\n",
    "model.compile(optimizer='adam',\n",
    "              loss='binary_crossentropy',\n",
    "              metrics=['accuracy'])\n",
    "              \n",
    "epochs=20  # 몇 epoch를 훈련하면 좋을지 결과를 보면서 바꾸어 봅시다. \n",
    "\n",
    "history = model.fit(X_train_raw,\n",
    "                    y_train_raw,\n",
    "                    epochs=epochs,\n",
    "                    batch_size=512,\n",
    "                    validation_data=(X_val_raw, y_val_raw),\n",
    "                    verbose=1,\n",
    "                    callbacks = [es, mc])"
   ]
  },
  {
   "cell_type": "markdown",
   "id": "loving-pearl",
   "metadata": {},
   "source": [
    "* 정확도가 너무 심각하게 낮습니다."
   ]
  },
  {
   "cell_type": "code",
   "execution_count": 35,
   "id": "technical-division",
   "metadata": {},
   "outputs": [
    {
     "name": "stdout",
     "output_type": "stream",
     "text": [
      "1216/1216 [==============================] - 13s 11ms/step - loss: 0.6932 - accuracy: 0.4982\n"
     ]
    },
    {
     "data": {
      "text/plain": [
       "[0.6931562423706055, 0.4982137680053711]"
      ]
     },
     "execution_count": 35,
     "metadata": {},
     "output_type": "execute_result"
    }
   ],
   "source": [
    "model = keras.models.load_model(file_path + \"/model/best_model.h5\")\n",
    "model.evaluate(X_test_raw, y_test_raw, verbose=1)"
   ]
  },
  {
   "cell_type": "markdown",
   "id": "strong-replica",
   "metadata": {},
   "source": [
    "* 혹시나 해서 테스트를 돌려보아도 정확도가 너무 낮습니다.<br/> CNN 모델을 사용해 보겠습니다."
   ]
  },
  {
   "cell_type": "code",
   "execution_count": 36,
   "id": "bacterial-maria",
   "metadata": {},
   "outputs": [
    {
     "name": "stdout",
     "output_type": "stream",
     "text": [
      "Model: \"sequential_1\"\n",
      "_________________________________________________________________\n",
      "Layer (type)                 Output Shape              Param #   \n",
      "=================================================================\n",
      "embedding_1 (Embedding)      (None, None, 400)         3200000   \n",
      "_________________________________________________________________\n",
      "conv1d (Conv1D)              (None, None, 16)          44816     \n",
      "_________________________________________________________________\n",
      "max_pooling1d (MaxPooling1D) (None, None, 16)          0         \n",
      "_________________________________________________________________\n",
      "conv1d_1 (Conv1D)            (None, None, 16)          1808      \n",
      "_________________________________________________________________\n",
      "global_max_pooling1d (Global (None, 16)                0         \n",
      "_________________________________________________________________\n",
      "dense_2 (Dense)              (None, 8)                 136       \n",
      "_________________________________________________________________\n",
      "dense_3 (Dense)              (None, 1)                 9         \n",
      "=================================================================\n",
      "Total params: 3,246,769\n",
      "Trainable params: 3,246,769\n",
      "Non-trainable params: 0\n",
      "_________________________________________________________________\n"
     ]
    }
   ],
   "source": [
    "model = keras.Sequential()\n",
    "model.add(keras.layers.Embedding(8000, 400, input_shape=(None,)))\n",
    "model.add(keras.layers.Conv1D(16, 7, activation='relu'))\n",
    "model.add(keras.layers.MaxPooling1D(4))\n",
    "model.add(keras.layers.Conv1D(16, 7, activation='relu'))\n",
    "model.add(keras.layers.GlobalMaxPooling1D())\n",
    "model.add(keras.layers.Dense(8, activation='relu'))\n",
    "model.add(keras.layers.Dense(1, activation='sigmoid'))  # 최종 출력은 긍정/부정을 나타내는 1dim 입니다.\n",
    "\n",
    "model.summary()"
   ]
  },
  {
   "cell_type": "code",
   "execution_count": 37,
   "id": "alone-street",
   "metadata": {},
   "outputs": [],
   "source": [
    "file_path = os.getenv('HOME') +  '/aiffel/sp_tokenizer'\n",
    "\n",
    "es = EarlyStopping(monitor='val_loss', mode='min', verbose=1, patience=3)\n",
    "mc = ModelCheckpoint(file_path + '/model/best_model.h5', monitor='val_accuracy', mode='max', verbose=1, save_best_only=True)"
   ]
  },
  {
   "cell_type": "code",
   "execution_count": 38,
   "id": "complimentary-cincinnati",
   "metadata": {},
   "outputs": [
    {
     "name": "stdout",
     "output_type": "stream",
     "text": [
      "Epoch 1/20\n",
      "228/228 [==============================] - 40s 155ms/step - loss: 0.6050 - accuracy: 0.6384 - val_loss: 0.3536 - val_accuracy: 0.8459\n",
      "\n",
      "Epoch 00001: val_accuracy improved from -inf to 0.84590, saving model to /aiffel/aiffel/sp_tokenizer/model/best_model.h5\n",
      "Epoch 2/20\n",
      "228/228 [==============================] - 29s 129ms/step - loss: 0.3099 - accuracy: 0.8698 - val_loss: 0.3358 - val_accuracy: 0.8536\n",
      "\n",
      "Epoch 00002: val_accuracy improved from 0.84590 to 0.85361, saving model to /aiffel/aiffel/sp_tokenizer/model/best_model.h5\n",
      "Epoch 3/20\n",
      "228/228 [==============================] - 29s 129ms/step - loss: 0.2505 - accuracy: 0.8997 - val_loss: 0.3440 - val_accuracy: 0.8544\n",
      "\n",
      "Epoch 00003: val_accuracy improved from 0.85361 to 0.85435, saving model to /aiffel/aiffel/sp_tokenizer/model/best_model.h5\n",
      "Epoch 4/20\n",
      "228/228 [==============================] - 29s 129ms/step - loss: 0.1815 - accuracy: 0.9344 - val_loss: 0.3944 - val_accuracy: 0.8472\n",
      "\n",
      "Epoch 00004: val_accuracy did not improve from 0.85435\n",
      "Epoch 5/20\n",
      "228/228 [==============================] - 29s 129ms/step - loss: 0.1066 - accuracy: 0.9657 - val_loss: 0.4796 - val_accuracy: 0.8376\n",
      "\n",
      "Epoch 00005: val_accuracy did not improve from 0.85435\n",
      "Epoch 00005: early stopping\n"
     ]
    }
   ],
   "source": [
    "# 학습의 진행\n",
    "model.compile(optimizer='adam', loss='binary_crossentropy', metrics=['accuracy'])\n",
    "              \n",
    "epochs=20  # 몇 epoch를 훈련하면 좋을지 결과를 보면서 바꾸어 봅시다. \n",
    "\n",
    "history = model.fit(X_train_raw,\n",
    "                    y_train_raw,\n",
    "                    epochs=epochs,\n",
    "                    batch_size=512,\n",
    "                    validation_data=(X_val_raw, y_val_raw),\n",
    "                    verbose=1,\n",
    "                    callbacks = [es, mc])"
   ]
  },
  {
   "cell_type": "markdown",
   "id": "biological-alarm",
   "metadata": {},
   "source": [
    "* 정확도가 훨씬 높게 나왔습니다."
   ]
  },
  {
   "cell_type": "code",
   "execution_count": 39,
   "id": "funded-australian",
   "metadata": {},
   "outputs": [
    {
     "data": {
      "text/plain": [
       "dict_keys(['loss', 'accuracy', 'val_loss', 'val_accuracy'])"
      ]
     },
     "execution_count": 39,
     "metadata": {},
     "output_type": "execute_result"
    }
   ],
   "source": [
    "history_dict = history.history\n",
    "history_dict.keys()"
   ]
  },
  {
   "cell_type": "markdown",
   "id": "german-syria",
   "metadata": {},
   "source": [
    "#### 학습과정 시각화"
   ]
  },
  {
   "cell_type": "code",
   "execution_count": 40,
   "id": "amazing-cowboy",
   "metadata": {},
   "outputs": [
    {
     "data": {
      "image/png": "[encoded data removed]",
      "text/plain": [
       "<Figure size 432x288 with 1 Axes>"
      ]
     },
     "metadata": {
      "needs_background": "light"
     },
     "output_type": "display_data"
    }
   ],
   "source": [
    "acc = history_dict['accuracy']\n",
    "val_acc = history_dict['val_accuracy']\n",
    "loss = history_dict['loss']\n",
    "val_loss = history_dict['val_loss']\n",
    "\n",
    "epochs = range(1, len(acc) + 1)\n",
    "\n",
    "plt.plot(epochs, loss, 'b', label='Training loss')\n",
    "plt.plot(epochs, val_loss, 'r', label='Validation loss')\n",
    "plt.title('Training and validation loss')\n",
    "plt.xlabel('Epochs')\n",
    "plt.ylabel('Loss')\n",
    "plt.legend()\n",
    "\n",
    "plt.show()"
   ]
  },
  {
   "cell_type": "code",
   "execution_count": 41,
   "id": "chronic-cathedral",
   "metadata": {},
   "outputs": [
    {
     "data": {
      "image/png": "[encoded data removed]",
      "text/plain": [
       "<Figure size 432x288 with 1 Axes>"
      ]
     },
     "metadata": {
      "needs_background": "light"
     },
     "output_type": "display_data"
    }
   ],
   "source": [
    "plt.clf()   \n",
    "\n",
    "plt.plot(epochs, acc, 'b', label='Training acc')\n",
    "plt.plot(epochs, val_acc, 'r', label='Validation acc')\n",
    "plt.title('Training and validation accuracy')\n",
    "plt.xlabel('Epochs')\n",
    "plt.ylabel('Accuracy')\n",
    "plt.legend()\n",
    "\n",
    "plt.show()"
   ]
  },
  {
   "cell_type": "code",
   "execution_count": 42,
   "id": "saving-poultry",
   "metadata": {},
   "outputs": [
    {
     "name": "stdout",
     "output_type": "stream",
     "text": [
      "1216/1216 [==============================] - 8s 5ms/step - loss: 0.3419 - accuracy: 0.8531\n"
     ]
    },
    {
     "data": {
      "text/plain": [
       "[0.34194350242614746, 0.8530930876731873]"
      ]
     },
     "execution_count": 42,
     "metadata": {},
     "output_type": "execute_result"
    }
   ],
   "source": [
    "model = keras.models.load_model(file_path + \"/model/best_model.h5\")\n",
    "model.evaluate(X_test_raw, y_test_raw, verbose=1)"
   ]
  },
  {
   "cell_type": "markdown",
   "id": "heavy-belgium",
   "metadata": {},
   "source": [
    "* 테스트에서도 높은 수치가 나왔네요. <br/> 이제 날것의 데이터가 아닌 어느정도 문장 길이를 잘라 사용해 보겠습니다."
   ]
  },
  {
   "cell_type": "code",
   "execution_count": 43,
   "id": "nuclear-paradise",
   "metadata": {},
   "outputs": [
    {
     "data": {
      "image/png": "[encoded data removed]",
      "text/plain": [
       "<Figure size 432x288 with 1 Axes>"
      ]
     },
     "metadata": {
      "needs_background": "light"
     },
     "output_type": "display_data"
    }
   ],
   "source": [
    "max_len = 46\n",
    "min_len = 2\n",
    "\n",
    "# 길이 조건에 맞는 문장만 선택합니다.\n",
    "filtered_corpus = [s for s in cleaned_corpus if (len(s) < max_len) & (len(s) >= min_len)]\n",
    "\n",
    "# 분포도를 다시 그려봅니다.\n",
    "sentence_length = np.zeros((max_len), dtype=np.int)\n",
    "\n",
    "for sen in filtered_corpus:\n",
    "    sentence_length[len(sen)-1] += 1\n",
    "\n",
    "plt.bar(range(max_len), sentence_length, width=1.0)\n",
    "plt.title(\"Sentence Length Distribution\")\n",
    "plt.show()"
   ]
  },
  {
   "cell_type": "markdown",
   "id": "tight-windsor",
   "metadata": {},
   "source": [
    "* 어느정도 가우시안 분포가 나오게끔 임의로 설정했습니다."
   ]
  },
  {
   "cell_type": "code",
   "execution_count": 44,
   "id": "powered-patent",
   "metadata": {},
   "outputs": [
    {
     "name": "stderr",
     "output_type": "stream",
     "text": [
      "/opt/conda/lib/python3.7/site-packages/pandas/core/computation/expressions.py:205: UserWarning: evaluating in Python space because the '*' operator is not supported by numexpr for the bool dtype, use '&' instead\n",
      "  f\"evaluating in Python space because the {repr(op_str)} \"\n",
      "/opt/conda/lib/python3.7/site-packages/pandas/core/computation/expressions.py:205: UserWarning: evaluating in Python space because the '*' operator is not supported by numexpr for the bool dtype, use '&' instead\n",
      "  f\"evaluating in Python space because the {repr(op_str)} \"\n",
      "/opt/conda/lib/python3.7/site-packages/pandas/core/computation/expressions.py:205: UserWarning: evaluating in Python space because the '*' operator is not supported by numexpr for the bool dtype, use '&' instead\n",
      "  f\"evaluating in Python space because the {repr(op_str)} \"\n"
     ]
    }
   ],
   "source": [
    "train_data = train_data_raw[(train_data_raw['document'].map(len) <= max_len)*(train_data_raw['document'].map(len) >= min_len)]\n",
    "val_data = val_data_raw[(val_data_raw['document'].map(len) <= max_len)*(val_data_raw['document'].map(len) >= min_len)]\n",
    "test_data = test_data_raw[(test_data_raw['document'].map(len) <= max_len)*(test_data_raw['document'].map(len) >= min_len)]"
   ]
  },
  {
   "cell_type": "code",
   "execution_count": 45,
   "id": "judicial-underground",
   "metadata": {},
   "outputs": [],
   "source": [
    "# 토큰화\n",
    "s = spm.SentencePieceProcessor()\n",
    "s.Load('korean_spm_uni_8000.model')\n",
    "\n",
    "X_train, word_index_train, index_word_train = sp_tokenize(s, train_data['document'], max_len)\n",
    "X_val, word_index_val, index_word_val = sp_tokenize(s, val_data['document'], max_len)\n",
    "X_test, word_index_test, index_word_test = sp_tokenize(s, test_data['document'], max_len)"
   ]
  },
  {
   "cell_type": "code",
   "execution_count": 46,
   "id": "urban-graduate",
   "metadata": {},
   "outputs": [
    {
     "name": "stdout",
     "output_type": "stream",
     "text": [
      "X_train의 shape: (92698, 46)\n",
      "X_val의 shape: (30919, 46)\n",
      "X_test의 shape: (30876, 46)\n"
     ]
    }
   ],
   "source": [
    "print('X_train의 shape:', X_train.shape)\n",
    "print('X_val의 shape:', X_val.shape)\n",
    "print('X_test의 shape:', X_test.shape)"
   ]
  },
  {
   "cell_type": "code",
   "execution_count": 47,
   "id": "appropriate-toner",
   "metadata": {},
   "outputs": [],
   "source": [
    "y_train = np.array(list(train_data['label']))\n",
    "y_val = np.array(list(val_data['label']))\n",
    "y_test = np.array(list(test_data['label']))"
   ]
  },
  {
   "cell_type": "code",
   "execution_count": 48,
   "id": "settled-austria",
   "metadata": {},
   "outputs": [
    {
     "name": "stdout",
     "output_type": "stream",
     "text": [
      "Model: \"sequential_2\"\n",
      "_________________________________________________________________\n",
      "Layer (type)                 Output Shape              Param #   \n",
      "=================================================================\n",
      "embedding_2 (Embedding)      (None, None, 400)         3200000   \n",
      "_________________________________________________________________\n",
      "conv1d_2 (Conv1D)            (None, None, 16)          44816     \n",
      "_________________________________________________________________\n",
      "max_pooling1d_1 (MaxPooling1 (None, None, 16)          0         \n",
      "_________________________________________________________________\n",
      "conv1d_3 (Conv1D)            (None, None, 16)          1808      \n",
      "_________________________________________________________________\n",
      "global_max_pooling1d_1 (Glob (None, 16)                0         \n",
      "_________________________________________________________________\n",
      "dense_4 (Dense)              (None, 8)                 136       \n",
      "_________________________________________________________________\n",
      "dense_5 (Dense)              (None, 1)                 9         \n",
      "=================================================================\n",
      "Total params: 3,246,769\n",
      "Trainable params: 3,246,769\n",
      "Non-trainable params: 0\n",
      "_________________________________________________________________\n"
     ]
    }
   ],
   "source": [
    "model = keras.Sequential()\n",
    "model.add(keras.layers.Embedding(8000, 400, input_shape=(None,)))\n",
    "model.add(keras.layers.Conv1D(16, 7, activation='relu'))\n",
    "model.add(keras.layers.MaxPooling1D(4))\n",
    "model.add(keras.layers.Conv1D(16, 7, activation='relu'))\n",
    "model.add(keras.layers.GlobalMaxPooling1D())\n",
    "model.add(keras.layers.Dense(8, activation='relu'))\n",
    "model.add(keras.layers.Dense(1, activation='sigmoid'))  # 최종 출력은 긍정/부정을 나타내는 1dim 입니다.\n",
    "\n",
    "model.summary()"
   ]
  },
  {
   "cell_type": "code",
   "execution_count": 49,
   "id": "built-phoenix",
   "metadata": {},
   "outputs": [],
   "source": [
    "file_path = os.getenv('HOME') +  '/aiffel/sp_tokenizer'\n",
    "\n",
    "es = EarlyStopping(monitor='val_loss', mode='min', verbose=1, patience=3)\n",
    "mc = ModelCheckpoint(file_path + '/model/best_model.h5', monitor='val_accuracy', mode='max', verbose=1, save_best_only=True)"
   ]
  },
  {
   "cell_type": "code",
   "execution_count": 50,
   "id": "graphic-temperature",
   "metadata": {},
   "outputs": [
    {
     "name": "stdout",
     "output_type": "stream",
     "text": [
      "Epoch 1/20\n",
      "182/182 [==============================] - 19s 85ms/step - loss: 0.6105 - accuracy: 0.6330 - val_loss: 0.3674 - val_accuracy: 0.8373\n",
      "\n",
      "Epoch 00001: val_accuracy improved from -inf to 0.83725, saving model to /aiffel/aiffel/sp_tokenizer/model/best_model.h5\n",
      "Epoch 2/20\n",
      "182/182 [==============================] - 10s 53ms/step - loss: 0.3151 - accuracy: 0.8670 - val_loss: 0.3555 - val_accuracy: 0.8437\n",
      "\n",
      "Epoch 00002: val_accuracy improved from 0.83725 to 0.84366, saving model to /aiffel/aiffel/sp_tokenizer/model/best_model.h5\n",
      "Epoch 3/20\n",
      "182/182 [==============================] - 10s 53ms/step - loss: 0.2645 - accuracy: 0.8932 - val_loss: 0.3650 - val_accuracy: 0.8435\n",
      "\n",
      "Epoch 00003: val_accuracy did not improve from 0.84366\n",
      "Epoch 4/20\n",
      "182/182 [==============================] - 10s 53ms/step - loss: 0.1981 - accuracy: 0.9270 - val_loss: 0.4077 - val_accuracy: 0.8323\n",
      "\n",
      "Epoch 00004: val_accuracy did not improve from 0.84366\n",
      "Epoch 5/20\n",
      "182/182 [==============================] - 10s 54ms/step - loss: 0.1259 - accuracy: 0.9597 - val_loss: 0.4915 - val_accuracy: 0.8308\n",
      "\n",
      "Epoch 00005: val_accuracy did not improve from 0.84366\n",
      "Epoch 00005: early stopping\n"
     ]
    }
   ],
   "source": [
    "# 학습의 진행\n",
    "model.compile(optimizer='adam',\n",
    "              loss='binary_crossentropy',\n",
    "              metrics=['accuracy'])\n",
    "              \n",
    "epochs=20  # 몇 epoch를 훈련하면 좋을지 결과를 보면서 바꾸어 봅시다. \n",
    "\n",
    "history = model.fit(X_train,\n",
    "                    y_train,\n",
    "                    epochs=epochs,\n",
    "                    batch_size=512,\n",
    "                    validation_data=(X_val, y_val),\n",
    "                    verbose=1,\n",
    "                    callbacks = [es, mc])"
   ]
  },
  {
   "cell_type": "code",
   "execution_count": 51,
   "id": "associate-trail",
   "metadata": {},
   "outputs": [
    {
     "name": "stdout",
     "output_type": "stream",
     "text": [
      "965/965 [==============================] - 6s 5ms/step - loss: 0.3504 - accuracy: 0.8456\n"
     ]
    },
    {
     "data": {
      "text/plain": [
       "[0.3504053056240082, 0.8455758690834045]"
      ]
     },
     "execution_count": 51,
     "metadata": {},
     "output_type": "execute_result"
    }
   ],
   "source": [
    "model = keras.models.load_model(file_path + \"/model/best_model.h5\")\n",
    "model.evaluate(X_test, y_test, verbose=1)"
   ]
  },
  {
   "cell_type": "markdown",
   "id": "universal-advance",
   "metadata": {},
   "source": [
    "* 학습이 끝나 테스트를 돌려보았습니다. 차이가 별로 없습니다."
   ]
  },
  {
   "cell_type": "markdown",
   "id": "naughty-armstrong",
   "metadata": {},
   "source": [
    "* 이제 센텐스피스의 단어장의 개수와 모델별로 학습시켜보겠습니다."
   ]
  },
  {
   "cell_type": "code",
   "execution_count": 52,
   "id": "fabulous-samoa",
   "metadata": {},
   "outputs": [
    {
     "name": "stdout",
     "output_type": "stream",
     "text": [
      "-rw-r--r-- 1 root root 370270 Dec 20 00:47 korean_spm_bpe_8000.model\r\n",
      "-rw-r--r-- 1 root root 115471 Dec 20 00:47 korean_spm_bpe_8000.vocab\r\n"
     ]
    }
   ],
   "source": [
    "spm.SentencePieceTrainer.Train(\n",
    "    '--input={} --model_prefix=korean_spm_bpe_8000 --vocab_size={} --model_type=bpe --pad_id=0 --bos_id=1 --eos_id=2 --unk_id=3'.format(temp_file, vocab_size)    \n",
    ")\n",
    "#위 Train에서  --model_type = 'unigram'이 디폴트 적용되어 있습니다. --model_type = 'bpe' 로 옵션을 주어 변경할 수 있습니다.\n",
    "\n",
    "!ls -l korean_spm_bpe_8000*"
   ]
  },
  {
   "cell_type": "code",
   "execution_count": 53,
   "id": "entertaining-fusion",
   "metadata": {},
   "outputs": [
    {
     "name": "stdout",
     "output_type": "stream",
     "text": [
      "-rw-r--r-- 1 root root 696687 Dec 20 00:48 korean_spm_uni_24000.model\r\n",
      "-rw-r--r-- 1 root root 480263 Dec 20 00:48 korean_spm_uni_24000.vocab\r\n"
     ]
    }
   ],
   "source": [
    "vocab_size = 24000\n",
    "\n",
    "spm.SentencePieceTrainer.Train(\n",
    "    '--input={} --model_prefix=korean_spm_uni_24000 --vocab_size={} --pad_id=0 --bos_id=1 --eos_id=2 --unk_id=3'.format(temp_file, vocab_size)    \n",
    ")\n",
    "#위 Train에서  --model_type = 'unigram'이 디폴트 적용되어 있습니다. --model_type = 'bpe' 로 옵션을 주어 변경할 수 있습니다.\n",
    "\n",
    "!ls -l korean_spm_uni_24000*"
   ]
  },
  {
   "cell_type": "code",
   "execution_count": 54,
   "id": "opposite-delaware",
   "metadata": {},
   "outputs": [
    {
     "name": "stdout",
     "output_type": "stream",
     "text": [
      "-rw-r--r-- 1 root root 679503 Dec 20 00:49 korean_spm_bpe_24000.model\r\n",
      "-rw-r--r-- 1 root root 406698 Dec 20 00:49 korean_spm_bpe_24000.vocab\r\n"
     ]
    }
   ],
   "source": [
    "spm.SentencePieceTrainer.Train(\n",
    "    '--input={} --model_prefix=korean_spm_bpe_24000 --vocab_size={} --model_type=bpe --pad_id=0 --bos_id=1 --eos_id=2 --unk_id=3'.format(temp_file, vocab_size)    \n",
    ")\n",
    "#위 Train에서  --model_type = 'unigram'이 디폴트 적용되어 있습니다. --model_type = 'bpe' 로 옵션을 주어 변경할 수 있습니다.\n",
    "\n",
    "!ls -l korean_spm_bpe_24000*"
   ]
  },
  {
   "cell_type": "markdown",
   "id": "driving-result",
   "metadata": {},
   "source": [
    "* CNN 모델이 좋아 함수로 바꿔 사용하겠습니다."
   ]
  },
  {
   "cell_type": "code",
   "execution_count": 55,
   "id": "opponent-jerusalem",
   "metadata": {},
   "outputs": [],
   "source": [
    "def CNN_model(vocab_size):\n",
    "    model = tf.keras.Sequential()\n",
    "    model.add(tf.keras.layers.Embedding(vocab_size, 400, input_shape=(None,)))\n",
    "    model.add(tf.keras.layers.Conv1D(16, 7, activation='relu'))\n",
    "    model.add(tf.keras.layers.MaxPooling1D(4))\n",
    "    model.add(tf.keras.layers.Conv1D(16, 7, activation='relu'))\n",
    "    model.add(tf.keras.layers.GlobalMaxPooling1D())\n",
    "    model.add(tf.keras.layers.Dense(8, activation='relu'))\n",
    "    model.add(tf.keras.layers.Dense(1, activation='sigmoid'))  # 최종 출력은 긍정/부정을 나타내는 1dim 입니다.\n",
    "    \n",
    "    model.compile(optimizer='adam', loss='binary_crossentropy', metrics=['accuracy'])\n",
    "    return model"
   ]
  },
  {
   "cell_type": "markdown",
   "id": "dutch-forwarding",
   "metadata": {},
   "source": [
    "* 토큰화"
   ]
  },
  {
   "cell_type": "code",
   "execution_count": 57,
   "id": "intended-spider",
   "metadata": {},
   "outputs": [],
   "source": [
    "# 토큰화\n",
    "s = spm.SentencePieceProcessor()\n",
    "s.Load('korean_spm_bpe_8000.model')\n",
    "\n",
    "X_train_raw, word_index_train, index_word_train = sp_tokenize(s, train_data_raw['document'], max_len)\n",
    "X_val_raw, word_index_val, index_word_val = sp_tokenize(s, val_data_raw['document'], max_len)\n",
    "X_test_raw, word_index_test, index_word_test = sp_tokenize(s, test_data_raw['document'], max_len)"
   ]
  },
  {
   "cell_type": "code",
   "execution_count": 63,
   "id": "forbidden-facial",
   "metadata": {},
   "outputs": [],
   "source": [
    "# 토큰화\n",
    "s = spm.SentencePieceProcessor()\n",
    "s.Load('korean_spm_uni_24000.model')\n",
    "\n",
    "X_train_raw_uni_24000, word_index_train, index_word_train = sp_tokenize(s, train_data_raw['document'], max_len)\n",
    "X_val_raw_uni_24000, word_index_val, index_word_val = sp_tokenize(s, val_data_raw['document'], max_len)\n",
    "X_test_raw_uni_24000, word_index_test, index_word_test = sp_tokenize(s, test_data_raw['document'], max_len)"
   ]
  },
  {
   "cell_type": "code",
   "execution_count": 60,
   "id": "gross-southwest",
   "metadata": {},
   "outputs": [],
   "source": [
    "# 토큰화\n",
    "s = spm.SentencePieceProcessor()\n",
    "s.Load('korean_spm_bpe_24000.model')\n",
    "\n",
    "X_train_raw_bpe_24000, word_index_train, index_word_train = sp_tokenize(s, train_data_raw['document'], max_len)\n",
    "X_val_raw_bpe_24000, word_index_val, index_word_val = sp_tokenize(s, val_data_raw['document'], max_len)\n",
    "X_test_raw_bpe_24000, word_index_test, index_word_test = sp_tokenize(s, test_data_raw['document'], max_len)"
   ]
  },
  {
   "cell_type": "markdown",
   "id": "altered-franchise",
   "metadata": {},
   "source": [
    "* 모델학습"
   ]
  },
  {
   "cell_type": "code",
   "execution_count": 58,
   "id": "collective-electronics",
   "metadata": {},
   "outputs": [
    {
     "name": "stdout",
     "output_type": "stream",
     "text": [
      "Epoch 1/20\n",
      "228/228 [==============================] - 19s 81ms/step - loss: 0.5680 - accuracy: 0.6792 - val_loss: 0.3533 - val_accuracy: 0.8452\n",
      "\n",
      "Epoch 00001: val_accuracy improved from 0.84366 to 0.84515, saving model to /aiffel/aiffel/sp_tokenizer/model/best_model.h5\n",
      "Epoch 2/20\n",
      "228/228 [==============================] - 13s 57ms/step - loss: 0.2984 - accuracy: 0.8746 - val_loss: 0.3435 - val_accuracy: 0.8519\n",
      "\n",
      "Epoch 00002: val_accuracy improved from 0.84515 to 0.85186, saving model to /aiffel/aiffel/sp_tokenizer/model/best_model.h5\n",
      "Epoch 3/20\n",
      "228/228 [==============================] - 12s 54ms/step - loss: 0.2280 - accuracy: 0.9114 - val_loss: 0.3637 - val_accuracy: 0.8467\n",
      "\n",
      "Epoch 00003: val_accuracy did not improve from 0.85186\n",
      "Epoch 4/20\n",
      "228/228 [==============================] - 12s 53ms/step - loss: 0.1358 - accuracy: 0.9549 - val_loss: 0.4445 - val_accuracy: 0.8383\n",
      "\n",
      "Epoch 00004: val_accuracy did not improve from 0.85186\n",
      "Epoch 5/20\n",
      "228/228 [==============================] - 12s 53ms/step - loss: 0.0693 - accuracy: 0.9804 - val_loss: 0.5778 - val_accuracy: 0.8346\n",
      "\n",
      "Epoch 00005: val_accuracy did not improve from 0.85186\n",
      "Epoch 00005: early stopping\n"
     ]
    }
   ],
   "source": [
    "model = CNN_model(8000)\n",
    "\n",
    "epochs=20  # 몇 epoch를 훈련하면 좋을지 결과를 보면서 바꾸어 봅시다. \n",
    "\n",
    "history = model.fit(X_train_raw,\n",
    "                    y_train_raw,\n",
    "                    epochs=epochs,\n",
    "                    batch_size=512,\n",
    "                    validation_data=(X_val_raw, y_val_raw),\n",
    "                    verbose=1,\n",
    "                    callbacks = [es, mc])"
   ]
  },
  {
   "cell_type": "code",
   "execution_count": 65,
   "id": "olive-committee",
   "metadata": {},
   "outputs": [
    {
     "name": "stdout",
     "output_type": "stream",
     "text": [
      "Epoch 1/20\n",
      "228/228 [==============================] - 29s 123ms/step - loss: 0.5922 - accuracy: 0.6566 - val_loss: 0.3433 - val_accuracy: 0.8475\n",
      "\n",
      "Epoch 00001: val_accuracy did not improve from 0.85186\n",
      "Epoch 2/20\n",
      "228/228 [==============================] - 28s 123ms/step - loss: 0.2570 - accuracy: 0.8973 - val_loss: 0.3453 - val_accuracy: 0.8528\n",
      "\n",
      "Epoch 00002: val_accuracy improved from 0.85186 to 0.85278, saving model to /aiffel/aiffel/sp_tokenizer/model/best_model.h5\n",
      "Epoch 3/20\n",
      "228/228 [==============================] - 28s 121ms/step - loss: 0.1479 - accuracy: 0.9488 - val_loss: 0.4158 - val_accuracy: 0.8463\n",
      "\n",
      "Epoch 00003: val_accuracy did not improve from 0.85278\n",
      "Epoch 4/20\n",
      "228/228 [==============================] - 27s 120ms/step - loss: 0.0624 - accuracy: 0.9829 - val_loss: 0.5436 - val_accuracy: 0.8426\n",
      "\n",
      "Epoch 00004: val_accuracy did not improve from 0.85278\n",
      "Epoch 00004: early stopping\n"
     ]
    }
   ],
   "source": [
    "model = CNN_model(24000)\n",
    "\n",
    "epochs=20  # 몇 epoch를 훈련하면 좋을지 결과를 보면서 바꾸어 봅시다. \n",
    "\n",
    "history = model.fit(X_train_raw_uni_24000,\n",
    "                    y_train_raw,\n",
    "                    epochs=epochs,\n",
    "                    batch_size=512,\n",
    "                    validation_data=(X_val_raw_uni_24000, y_val_raw),\n",
    "                    verbose=1,\n",
    "                    callbacks = [es, mc])"
   ]
  },
  {
   "cell_type": "code",
   "execution_count": 67,
   "id": "stuck-differential",
   "metadata": {},
   "outputs": [
    {
     "name": "stdout",
     "output_type": "stream",
     "text": [
      "Epoch 1/20\n",
      "228/228 [==============================] - 29s 122ms/step - loss: 0.5886 - accuracy: 0.6601 - val_loss: 0.3564 - val_accuracy: 0.8429\n",
      "\n",
      "Epoch 00001: val_accuracy did not improve from 0.85278\n",
      "Epoch 2/20\n",
      "228/228 [==============================] - 28s 123ms/step - loss: 0.2655 - accuracy: 0.8932 - val_loss: 0.3442 - val_accuracy: 0.8537\n",
      "\n",
      "Epoch 00002: val_accuracy improved from 0.85278 to 0.85366, saving model to /aiffel/aiffel/sp_tokenizer/model/best_model.h5\n",
      "Epoch 3/20\n",
      "228/228 [==============================] - 27s 121ms/step - loss: 0.1620 - accuracy: 0.9429 - val_loss: 0.3967 - val_accuracy: 0.8454\n",
      "\n",
      "Epoch 00003: val_accuracy did not improve from 0.85366\n",
      "Epoch 4/20\n",
      "228/228 [==============================] - 28s 122ms/step - loss: 0.0782 - accuracy: 0.9768 - val_loss: 0.5322 - val_accuracy: 0.8395\n",
      "\n",
      "Epoch 00004: val_accuracy did not improve from 0.85366\n",
      "Epoch 5/20\n",
      "228/228 [==============================] - 27s 121ms/step - loss: 0.0356 - accuracy: 0.9907 - val_loss: 0.6533 - val_accuracy: 0.8364\n",
      "\n",
      "Epoch 00005: val_accuracy did not improve from 0.85366\n",
      "Epoch 00005: early stopping\n"
     ]
    }
   ],
   "source": [
    "model = CNN_model(24000)\n",
    "\n",
    "epochs=20  # 몇 epoch를 훈련하면 좋을지 결과를 보면서 바꾸어 봅시다. \n",
    "\n",
    "history = model.fit(X_train_raw_bpe_24000,\n",
    "                    y_train_raw,\n",
    "                    epochs=epochs,\n",
    "                    batch_size=512,\n",
    "                    validation_data=(X_val_raw_bpe_24000, y_val_raw),\n",
    "                    verbose=1,\n",
    "                    callbacks = [es, mc])"
   ]
  },
  {
   "cell_type": "markdown",
   "id": "awful-heavy",
   "metadata": {},
   "source": [
    "* 모델 테스트"
   ]
  },
  {
   "cell_type": "code",
   "execution_count": 61,
   "id": "finnish-columbus",
   "metadata": {},
   "outputs": [
    {
     "name": "stdout",
     "output_type": "stream",
     "text": [
      "1216/1216 [==============================] - 5s 4ms/step - loss: 0.3429 - accuracy: 0.8510\n"
     ]
    },
    {
     "data": {
      "text/plain": [
       "[0.34293657541275024, 0.8510370254516602]"
      ]
     },
     "execution_count": 61,
     "metadata": {},
     "output_type": "execute_result"
    }
   ],
   "source": [
    "model = keras.models.load_model(file_path + \"/model/best_model.h5\")\n",
    "model.evaluate(X_test_raw, y_test_raw, verbose=1)"
   ]
  },
  {
   "cell_type": "code",
   "execution_count": 66,
   "id": "precious-wilderness",
   "metadata": {},
   "outputs": [
    {
     "name": "stdout",
     "output_type": "stream",
     "text": [
      "1216/1216 [==============================] - 4s 3ms/step - loss: 0.3455 - accuracy: 0.8523\n"
     ]
    },
    {
     "data": {
      "text/plain": [
       "[0.3454553782939911, 0.8522964119911194]"
      ]
     },
     "execution_count": 66,
     "metadata": {},
     "output_type": "execute_result"
    }
   ],
   "source": [
    "model = keras.models.load_model(file_path + \"/model/best_model.h5\")\n",
    "model.evaluate(X_test_raw_uni_24000, y_test_raw, verbose=1)"
   ]
  },
  {
   "cell_type": "code",
   "execution_count": 68,
   "id": "controlling-baker",
   "metadata": {},
   "outputs": [
    {
     "name": "stdout",
     "output_type": "stream",
     "text": [
      "1216/1216 [==============================] - 4s 3ms/step - loss: 0.3446 - accuracy: 0.8514\n"
     ]
    },
    {
     "data": {
      "text/plain": [
       "[0.3446081578731537, 0.8514225482940674]"
      ]
     },
     "execution_count": 68,
     "metadata": {},
     "output_type": "execute_result"
    }
   ],
   "source": [
    "model = keras.models.load_model(file_path + \"/model/best_model.h5\")\n",
    "model.evaluate(X_test_raw_bpe_24000, y_test_raw, verbose=1)"
   ]
  },
  {
   "cell_type": "markdown",
   "id": "instant-configuration",
   "metadata": {},
   "source": [
    "* 결과표"
   ]
  },
  {
   "cell_type": "markdown",
   "id": "knowing-western",
   "metadata": {},
   "source": [
    "|데이터|test_loss|test_acc|\n",
    "|------|---|---|\n",
    "|uni_8000|0.3504|0.8456|\n",
    "|uni_8000_raw|**0.3419**|**0.8531**|\n",
    "|uni_24000_raw|0.3429|0.8510|\n",
    "|bpe_8000_raw|0.3455|0.8523|\n",
    "|bpe_24000_raw|0.3446|0.8514|"
   ]
  },
  {
   "cell_type": "markdown",
   "id": "explicit-conviction",
   "metadata": {},
   "source": [
    "## 회고\n",
    "* 처음에 RNN모델을 사용해서 정확도가 0.5에 머물러 있었는데, 아무래도 전처리를 안하고 데이터를 바로 토큰화해서 Ex07보다 성능이 떨어 진것 같습니다.\n",
    "* 센텐스피스의 모델명을 바꿔보고 단어장의 크기도 3배로 늘려보아서 비교해 보았는데 엄청나게 큰 차이는 없었습니다. <br/> 아무래도 데이터의 전처리를 하지 않고 사용했기 때문에 하이퍼 파라미터만으로 엄청나게 큰 차이를 만들어 내지 못한 듯 합니다.\n",
    "* 논문에서 가공되지 않은 데이터를 사용할 수 있어 좋다고 했었는데 꽤 괜찮은 성능이 나왔습니다. Ex07에서는 가공을 열심히 하고 간신히 85%이상의 성능을 냈습니다. 그래서 전처리도 거의 하지 않고 85%이상의 정확도를 만들었기 때문에 가공을 하면 더 좋을거라 생각했지만 단순히 너무 길고 짧은 문장만 제거한다고 성능의 향상은 없었고 학습모델의 차이에 가장큰 변화가 있었습니다."
   ]
  }
 ],
 "metadata": {
  "kernelspec": {
   "display_name": "Python 3",
   "language": "python",
   "name": "python3"
  }
 },
 "nbformat": 4,
 "nbformat_minor": 5
}
